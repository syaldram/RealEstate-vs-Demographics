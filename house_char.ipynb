{
 "cells": [
  {
   "cell_type": "code",
   "execution_count": 243,
   "metadata": {},
   "outputs": [
    {
     "data": {
      "text/html": [
       "        <script type=\"text/javascript\">\n",
       "        window.PlotlyConfig = {MathJaxConfig: 'local'};\n",
       "        if (window.MathJax && window.MathJax.Hub && window.MathJax.Hub.Config) {window.MathJax.Hub.Config({SVG: {font: \"STIX-Web\"}});}\n",
       "        if (typeof require !== 'undefined') {\n",
       "        require.undef(\"plotly\");\n",
       "        requirejs.config({\n",
       "            paths: {\n",
       "                'plotly': ['https://cdn.plot.ly/plotly-2.27.0.min']\n",
       "            }\n",
       "        });\n",
       "        require(['plotly'], function(Plotly) {\n",
       "            window._Plotly = Plotly;\n",
       "        });\n",
       "        }\n",
       "        </script>\n",
       "        "
      ]
     },
     "metadata": {},
     "output_type": "display_data"
    }
   ],
   "source": [
    "import seaborn as sns\n",
    "import pandas as pd\n",
    "import numpy as np\n",
    "import matplotlib.pyplot as plt\n",
    "import plotly.express as px\n",
    "import plotly.graph_objs as go \n",
    "from plotly.offline import download_plotlyjs, init_notebook_mode, plot, iplot\n",
    "import re\n",
    "\n",
    "%matplotlib inline\n",
    "init_notebook_mode(connected=True) "
   ]
  },
  {
   "cell_type": "markdown",
   "metadata": {},
   "source": [
    "# Physical House Occupancy Characteristics"
   ]
  },
  {
   "cell_type": "code",
   "execution_count": 244,
   "metadata": {},
   "outputs": [],
   "source": [
    "state_abbreviations = {\n",
    "'Alabama': 'AL',\n",
    "'Alaska': 'AK',\n",
    "'Arizona': 'AZ',\n",
    "'Arkansas': 'AR',\n",
    "'California': 'CA',\n",
    "'Colorado': 'CO',\n",
    "'Connecticut': 'CT',\n",
    "'Delaware': 'DE',\n",
    "'District of Columbia': 'DC',\n",
    "'Florida': 'FL',\n",
    "'Georgia': 'GA',\n",
    "'Hawaii': 'HI',\n",
    "'Idaho': 'ID',\n",
    "'Illinois': 'IL',\n",
    "'Indiana': 'IN',\n",
    "'Iowa': 'IA',\n",
    "'Kansas': 'KS',\n",
    "'Kentucky': 'KY',\n",
    "'Louisiana': 'LA',\n",
    "'Maine': 'ME',\n",
    "'Maryland': 'MD',\n",
    "'Massachusetts': 'MA',\n",
    "'Michigan': 'MI',\n",
    "'Minnesota': 'MN',\n",
    "'Mississippi': 'MS',\n",
    "'Missouri': 'MO',\n",
    "'Montana': 'MT',\n",
    "'Nebraska': 'NE',\n",
    "'Nevada': 'NV',\n",
    "'New Hampshire': 'NH',\n",
    "'New Jersey': 'NJ',\n",
    "'New Mexico': 'NM',\n",
    "'New York': 'NY',\n",
    "'North Carolina': 'NC',\n",
    "'North Dakota': 'ND',\n",
    "'Ohio': 'OH',\n",
    "'Oklahoma': 'OK',\n",
    "'Oregon': 'OR',\n",
    "'Pennsylvania': 'PA',\n",
    "'Rhode Island': 'RI',\n",
    "'South Carolina': 'SC',\n",
    "'South Dakota': 'SD',\n",
    "'Tennessee': 'TN',\n",
    "'Texas': 'TX',\n",
    "'Utah': 'UT',\n",
    "'Vermont': 'VT',\n",
    "'Virginia': 'VA',\n",
    "'Washington': 'WA',\n",
    "'West Virginia': 'WV',\n",
    "'Wisconsin': 'WI',\n",
    "'Wyoming': 'WY',\n",
    "'Puerto Rico': 'PR'\n",
    "}"
   ]
  },
  {
   "cell_type": "code",
   "execution_count": 245,
   "metadata": {},
   "outputs": [],
   "source": [
    "def convert_value(value):\n",
    "    if '%' in value:\n",
    "        return float(value.replace('%', '')) / 100  # Convert percentage to a decimal\n",
    "    else:\n",
    "        return int(value.replace(',', ''))  # Remove commas and convert to integer"
   ]
  },
  {
   "cell_type": "code",
   "execution_count": 246,
   "metadata": {},
   "outputs": [],
   "source": [
    "def clean_house_char_headers(val):\n",
    "    if isinstance(val, str):\n",
    "        if 'Occupied' in val:\n",
    "            val = val.split(\"!!\")[0]\n",
    "            val = val + \"_total\"\n",
    "        elif 'Percent occupied housing units' in val:\n",
    "            val = val.split(\"!!\")[0]\n",
    "            val = val + \"_total_percent\"\n",
    "        elif 'Owner-occupied housing'in val:\n",
    "            val = val.split(\"!!\")[0]\n",
    "            val = val + \"_owner\"\n",
    "        elif 'Percent owner-occupied housing units' in val:\n",
    "            val = val.split(\"!!\")[0]\n",
    "            val = val + \"_own_percent\"\n",
    "        elif 'Renter-occupied housing units' in val:\n",
    "            val = val.split(\"!!\")[0]\n",
    "            val = val + \"_renter\"\n",
    "        elif 'Percent renter-occupied' in val:\n",
    "            val = val.split(\"!!\")[0]\n",
    "            val = val + \"_rent_percent\"\n",
    "        else:\n",
    "            val = val.split(\"!!\")[0]\n",
    "        return val\n",
    "    else:\n",
    "        return val"
   ]
  },
  {
   "cell_type": "code",
   "execution_count": 247,
   "metadata": {},
   "outputs": [
    {
     "data": {
      "text/html": [
       "<div>\n",
       "<style scoped>\n",
       "    .dataframe tbody tr th:only-of-type {\n",
       "        vertical-align: middle;\n",
       "    }\n",
       "\n",
       "    .dataframe tbody tr th {\n",
       "        vertical-align: top;\n",
       "    }\n",
       "\n",
       "    .dataframe thead th {\n",
       "        text-align: right;\n",
       "    }\n",
       "</style>\n",
       "<table border=\"1\" class=\"dataframe\">\n",
       "  <thead>\n",
       "    <tr style=\"text-align: right;\">\n",
       "      <th></th>\n",
       "      <th>Alabama_total</th>\n",
       "      <th>Alabama_total_percent</th>\n",
       "      <th>Alabama_owner</th>\n",
       "      <th>Alabama_own_percent</th>\n",
       "      <th>Alabama_renter</th>\n",
       "      <th>Alabama_rent_percent</th>\n",
       "      <th>Alaska_total</th>\n",
       "      <th>Alaska_total_percent</th>\n",
       "      <th>Alaska_owner</th>\n",
       "      <th>Alaska_own_percent</th>\n",
       "      <th>...</th>\n",
       "      <th>Wyoming_owner</th>\n",
       "      <th>Wyoming_own_percent</th>\n",
       "      <th>Wyoming_renter</th>\n",
       "      <th>Wyoming_rent_percent</th>\n",
       "      <th>Puerto Rico_total</th>\n",
       "      <th>Puerto Rico_total_percent</th>\n",
       "      <th>Puerto Rico_owner</th>\n",
       "      <th>Puerto Rico_own_percent</th>\n",
       "      <th>Puerto Rico_renter</th>\n",
       "      <th>Puerto Rico_rent_percent</th>\n",
       "    </tr>\n",
       "    <tr>\n",
       "      <th>Label (Grouping)</th>\n",
       "      <th></th>\n",
       "      <th></th>\n",
       "      <th></th>\n",
       "      <th></th>\n",
       "      <th></th>\n",
       "      <th></th>\n",
       "      <th></th>\n",
       "      <th></th>\n",
       "      <th></th>\n",
       "      <th></th>\n",
       "      <th></th>\n",
       "      <th></th>\n",
       "      <th></th>\n",
       "      <th></th>\n",
       "      <th></th>\n",
       "      <th></th>\n",
       "      <th></th>\n",
       "      <th></th>\n",
       "      <th></th>\n",
       "      <th></th>\n",
       "      <th></th>\n",
       "    </tr>\n",
       "  </thead>\n",
       "  <tbody>\n",
       "    <tr>\n",
       "      <th>Occupied housing units</th>\n",
       "      <td>2,016,448</td>\n",
       "      <td>2,016,448</td>\n",
       "      <td>1,416,333</td>\n",
       "      <td>1,416,333</td>\n",
       "      <td>600,115</td>\n",
       "      <td>600,115</td>\n",
       "      <td>274,574</td>\n",
       "      <td>274,574</td>\n",
       "      <td>181,586</td>\n",
       "      <td>181,586</td>\n",
       "      <td>...</td>\n",
       "      <td>176,863</td>\n",
       "      <td>176,863</td>\n",
       "      <td>66,458</td>\n",
       "      <td>66,458</td>\n",
       "      <td>1,289,311</td>\n",
       "      <td>1,289,311</td>\n",
       "      <td>869,635</td>\n",
       "      <td>869,635</td>\n",
       "      <td>419,676</td>\n",
       "      <td>419,676</td>\n",
       "    </tr>\n",
       "    <tr>\n",
       "      <th>UNITS IN STRUCTURE</th>\n",
       "      <td>NaN</td>\n",
       "      <td>NaN</td>\n",
       "      <td>NaN</td>\n",
       "      <td>NaN</td>\n",
       "      <td>NaN</td>\n",
       "      <td>NaN</td>\n",
       "      <td>NaN</td>\n",
       "      <td>NaN</td>\n",
       "      <td>NaN</td>\n",
       "      <td>NaN</td>\n",
       "      <td>...</td>\n",
       "      <td>NaN</td>\n",
       "      <td>NaN</td>\n",
       "      <td>NaN</td>\n",
       "      <td>NaN</td>\n",
       "      <td>NaN</td>\n",
       "      <td>NaN</td>\n",
       "      <td>NaN</td>\n",
       "      <td>NaN</td>\n",
       "      <td>NaN</td>\n",
       "      <td>NaN</td>\n",
       "    </tr>\n",
       "    <tr>\n",
       "      <th>1, detached</th>\n",
       "      <td>1,436,137</td>\n",
       "      <td>71.2%</td>\n",
       "      <td>1,205,520</td>\n",
       "      <td>85.1%</td>\n",
       "      <td>230,617</td>\n",
       "      <td>38.4%</td>\n",
       "      <td>170,997</td>\n",
       "      <td>62.3%</td>\n",
       "      <td>149,053</td>\n",
       "      <td>82.1%</td>\n",
       "      <td>...</td>\n",
       "      <td>147,580</td>\n",
       "      <td>83.4%</td>\n",
       "      <td>20,001</td>\n",
       "      <td>30.1%</td>\n",
       "      <td>890,441</td>\n",
       "      <td>69.1%</td>\n",
       "      <td>703,191</td>\n",
       "      <td>80.9%</td>\n",
       "      <td>187,250</td>\n",
       "      <td>44.6%</td>\n",
       "    </tr>\n",
       "    <tr>\n",
       "      <th>1, attached</th>\n",
       "      <td>41,268</td>\n",
       "      <td>2.0%</td>\n",
       "      <td>23,036</td>\n",
       "      <td>1.6%</td>\n",
       "      <td>18,232</td>\n",
       "      <td>3.0%</td>\n",
       "      <td>22,604</td>\n",
       "      <td>8.2%</td>\n",
       "      <td>13,565</td>\n",
       "      <td>7.5%</td>\n",
       "      <td>...</td>\n",
       "      <td>7,390</td>\n",
       "      <td>4.2%</td>\n",
       "      <td>4,919</td>\n",
       "      <td>7.4%</td>\n",
       "      <td>145,191</td>\n",
       "      <td>11.3%</td>\n",
       "      <td>83,088</td>\n",
       "      <td>9.6%</td>\n",
       "      <td>62,103</td>\n",
       "      <td>14.8%</td>\n",
       "    </tr>\n",
       "    <tr>\n",
       "      <th>2 apartments</th>\n",
       "      <td>35,683</td>\n",
       "      <td>1.8%</td>\n",
       "      <td>1,255</td>\n",
       "      <td>0.1%</td>\n",
       "      <td>34,428</td>\n",
       "      <td>5.7%</td>\n",
       "      <td>15,026</td>\n",
       "      <td>5.5%</td>\n",
       "      <td>4,122</td>\n",
       "      <td>2.3%</td>\n",
       "      <td>...</td>\n",
       "      <td>873</td>\n",
       "      <td>0.5%</td>\n",
       "      <td>3,457</td>\n",
       "      <td>5.2%</td>\n",
       "      <td>34,016</td>\n",
       "      <td>2.6%</td>\n",
       "      <td>14,680</td>\n",
       "      <td>1.7%</td>\n",
       "      <td>19,336</td>\n",
       "      <td>4.6%</td>\n",
       "    </tr>\n",
       "  </tbody>\n",
       "</table>\n",
       "<p>5 rows × 312 columns</p>\n",
       "</div>"
      ],
      "text/plain": [
       "                       Alabama_total Alabama_total_percent Alabama_owner  \\\n",
       "Label (Grouping)                                                           \n",
       "Occupied housing units     2,016,448             2,016,448     1,416,333   \n",
       "    UNITS IN STRUCTURE           NaN                   NaN           NaN   \n",
       "        1, detached        1,436,137                 71.2%     1,205,520   \n",
       "        1, attached           41,268                  2.0%        23,036   \n",
       "        2 apartments          35,683                  1.8%         1,255   \n",
       "\n",
       "                       Alabama_own_percent Alabama_renter  \\\n",
       "Label (Grouping)                                            \n",
       "Occupied housing units           1,416,333        600,115   \n",
       "    UNITS IN STRUCTURE                 NaN            NaN   \n",
       "        1, detached                  85.1%        230,617   \n",
       "        1, attached                   1.6%         18,232   \n",
       "        2 apartments                  0.1%         34,428   \n",
       "\n",
       "                       Alabama_rent_percent Alaska_total Alaska_total_percent  \\\n",
       "Label (Grouping)                                                                \n",
       "Occupied housing units              600,115      274,574              274,574   \n",
       "    UNITS IN STRUCTURE                  NaN          NaN                  NaN   \n",
       "        1, detached                   38.4%      170,997                62.3%   \n",
       "        1, attached                    3.0%       22,604                 8.2%   \n",
       "        2 apartments                   5.7%       15,026                 5.5%   \n",
       "\n",
       "                       Alaska_owner Alaska_own_percent  ... Wyoming_owner  \\\n",
       "Label (Grouping)                                        ...                 \n",
       "Occupied housing units      181,586            181,586  ...       176,863   \n",
       "    UNITS IN STRUCTURE          NaN                NaN  ...           NaN   \n",
       "        1, detached         149,053              82.1%  ...       147,580   \n",
       "        1, attached          13,565               7.5%  ...         7,390   \n",
       "        2 apartments          4,122               2.3%  ...           873   \n",
       "\n",
       "                       Wyoming_own_percent Wyoming_renter  \\\n",
       "Label (Grouping)                                            \n",
       "Occupied housing units             176,863         66,458   \n",
       "    UNITS IN STRUCTURE                 NaN            NaN   \n",
       "        1, detached                  83.4%         20,001   \n",
       "        1, attached                   4.2%          4,919   \n",
       "        2 apartments                  0.5%          3,457   \n",
       "\n",
       "                       Wyoming_rent_percent Puerto Rico_total  \\\n",
       "Label (Grouping)                                                \n",
       "Occupied housing units               66,458         1,289,311   \n",
       "    UNITS IN STRUCTURE                  NaN               NaN   \n",
       "        1, detached                   30.1%           890,441   \n",
       "        1, attached                    7.4%           145,191   \n",
       "        2 apartments                   5.2%            34,016   \n",
       "\n",
       "                       Puerto Rico_total_percent Puerto Rico_owner  \\\n",
       "Label (Grouping)                                                     \n",
       "Occupied housing units                 1,289,311           869,635   \n",
       "    UNITS IN STRUCTURE                       NaN               NaN   \n",
       "        1, detached                        69.1%           703,191   \n",
       "        1, attached                        11.3%            83,088   \n",
       "        2 apartments                        2.6%            14,680   \n",
       "\n",
       "                       Puerto Rico_own_percent Puerto Rico_renter  \\\n",
       "Label (Grouping)                                                    \n",
       "Occupied housing units                 869,635            419,676   \n",
       "    UNITS IN STRUCTURE                     NaN                NaN   \n",
       "        1, detached                      80.9%            187,250   \n",
       "        1, attached                       9.6%             62,103   \n",
       "        2 apartments                      1.7%             19,336   \n",
       "\n",
       "                       Puerto Rico_rent_percent  \n",
       "Label (Grouping)                                 \n",
       "Occupied housing units                  419,676  \n",
       "    UNITS IN STRUCTURE                      NaN  \n",
       "        1, detached                       44.6%  \n",
       "        1, attached                       14.8%  \n",
       "        2 apartments                       4.6%  \n",
       "\n",
       "[5 rows x 312 columns]"
      ]
     },
     "execution_count": 247,
     "metadata": {},
     "output_type": "execute_result"
    }
   ],
   "source": [
    "house_char_data = pd.read_csv('./Data/Physical_Housing_Occup.csv', index_col=0)\n",
    "house_char_data = house_char_data.rename(columns=clean_house_char_headers)\n",
    "house_char_data.head()"
   ]
  },
  {
   "cell_type": "code",
   "execution_count": 248,
   "metadata": {},
   "outputs": [
    {
     "data": {
      "text/html": [
       "<div>\n",
       "<style scoped>\n",
       "    .dataframe tbody tr th:only-of-type {\n",
       "        vertical-align: middle;\n",
       "    }\n",
       "\n",
       "    .dataframe tbody tr th {\n",
       "        vertical-align: top;\n",
       "    }\n",
       "\n",
       "    .dataframe thead th {\n",
       "        text-align: right;\n",
       "    }\n",
       "</style>\n",
       "<table border=\"1\" class=\"dataframe\">\n",
       "  <thead>\n",
       "    <tr style=\"text-align: right;\">\n",
       "      <th></th>\n",
       "      <th>Alabama_total</th>\n",
       "      <th>Alabama_total_percent</th>\n",
       "      <th>Alabama_owner</th>\n",
       "      <th>Alabama_own_percent</th>\n",
       "      <th>Alabama_renter</th>\n",
       "      <th>Alabama_rent_percent</th>\n",
       "      <th>Alaska_total</th>\n",
       "      <th>Alaska_total_percent</th>\n",
       "      <th>Alaska_owner</th>\n",
       "      <th>Alaska_own_percent</th>\n",
       "      <th>...</th>\n",
       "      <th>Wyoming_owner</th>\n",
       "      <th>Wyoming_own_percent</th>\n",
       "      <th>Wyoming_renter</th>\n",
       "      <th>Wyoming_rent_percent</th>\n",
       "      <th>Puerto Rico_total</th>\n",
       "      <th>Puerto Rico_total_percent</th>\n",
       "      <th>Puerto Rico_owner</th>\n",
       "      <th>Puerto Rico_own_percent</th>\n",
       "      <th>Puerto Rico_renter</th>\n",
       "      <th>Puerto Rico_rent_percent</th>\n",
       "    </tr>\n",
       "    <tr>\n",
       "      <th>Label (Grouping)</th>\n",
       "      <th></th>\n",
       "      <th></th>\n",
       "      <th></th>\n",
       "      <th></th>\n",
       "      <th></th>\n",
       "      <th></th>\n",
       "      <th></th>\n",
       "      <th></th>\n",
       "      <th></th>\n",
       "      <th></th>\n",
       "      <th></th>\n",
       "      <th></th>\n",
       "      <th></th>\n",
       "      <th></th>\n",
       "      <th></th>\n",
       "      <th></th>\n",
       "      <th></th>\n",
       "      <th></th>\n",
       "      <th></th>\n",
       "      <th></th>\n",
       "      <th></th>\n",
       "    </tr>\n",
       "  </thead>\n",
       "  <tbody>\n",
       "    <tr>\n",
       "      <th>1, detached</th>\n",
       "      <td>1,436,137</td>\n",
       "      <td>71.2%</td>\n",
       "      <td>1,205,520</td>\n",
       "      <td>85.1%</td>\n",
       "      <td>230,617</td>\n",
       "      <td>38.4%</td>\n",
       "      <td>170,997</td>\n",
       "      <td>62.3%</td>\n",
       "      <td>149,053</td>\n",
       "      <td>82.1%</td>\n",
       "      <td>...</td>\n",
       "      <td>147,580</td>\n",
       "      <td>83.4%</td>\n",
       "      <td>20,001</td>\n",
       "      <td>30.1%</td>\n",
       "      <td>890,441</td>\n",
       "      <td>69.1%</td>\n",
       "      <td>703,191</td>\n",
       "      <td>80.9%</td>\n",
       "      <td>187,250</td>\n",
       "      <td>44.6%</td>\n",
       "    </tr>\n",
       "    <tr>\n",
       "      <th>1, attached</th>\n",
       "      <td>41,268</td>\n",
       "      <td>2.0%</td>\n",
       "      <td>23,036</td>\n",
       "      <td>1.6%</td>\n",
       "      <td>18,232</td>\n",
       "      <td>3.0%</td>\n",
       "      <td>22,604</td>\n",
       "      <td>8.2%</td>\n",
       "      <td>13,565</td>\n",
       "      <td>7.5%</td>\n",
       "      <td>...</td>\n",
       "      <td>7,390</td>\n",
       "      <td>4.2%</td>\n",
       "      <td>4,919</td>\n",
       "      <td>7.4%</td>\n",
       "      <td>145,191</td>\n",
       "      <td>11.3%</td>\n",
       "      <td>83,088</td>\n",
       "      <td>9.6%</td>\n",
       "      <td>62,103</td>\n",
       "      <td>14.8%</td>\n",
       "    </tr>\n",
       "    <tr>\n",
       "      <th>2 apartments</th>\n",
       "      <td>35,683</td>\n",
       "      <td>1.8%</td>\n",
       "      <td>1,255</td>\n",
       "      <td>0.1%</td>\n",
       "      <td>34,428</td>\n",
       "      <td>5.7%</td>\n",
       "      <td>15,026</td>\n",
       "      <td>5.5%</td>\n",
       "      <td>4,122</td>\n",
       "      <td>2.3%</td>\n",
       "      <td>...</td>\n",
       "      <td>873</td>\n",
       "      <td>0.5%</td>\n",
       "      <td>3,457</td>\n",
       "      <td>5.2%</td>\n",
       "      <td>34,016</td>\n",
       "      <td>2.6%</td>\n",
       "      <td>14,680</td>\n",
       "      <td>1.7%</td>\n",
       "      <td>19,336</td>\n",
       "      <td>4.6%</td>\n",
       "    </tr>\n",
       "    <tr>\n",
       "      <th>3 or 4 apartments</th>\n",
       "      <td>57,324</td>\n",
       "      <td>2.8%</td>\n",
       "      <td>2,986</td>\n",
       "      <td>0.2%</td>\n",
       "      <td>54,338</td>\n",
       "      <td>9.1%</td>\n",
       "      <td>20,093</td>\n",
       "      <td>7.3%</td>\n",
       "      <td>2,783</td>\n",
       "      <td>1.5%</td>\n",
       "      <td>...</td>\n",
       "      <td>198</td>\n",
       "      <td>0.1%</td>\n",
       "      <td>10,707</td>\n",
       "      <td>16.1%</td>\n",
       "      <td>33,814</td>\n",
       "      <td>2.6%</td>\n",
       "      <td>7,645</td>\n",
       "      <td>0.9%</td>\n",
       "      <td>26,169</td>\n",
       "      <td>6.2%</td>\n",
       "    </tr>\n",
       "    <tr>\n",
       "      <th>5 to 9 apartments</th>\n",
       "      <td>75,649</td>\n",
       "      <td>3.8%</td>\n",
       "      <td>2,717</td>\n",
       "      <td>0.2%</td>\n",
       "      <td>72,932</td>\n",
       "      <td>12.2%</td>\n",
       "      <td>15,293</td>\n",
       "      <td>5.6%</td>\n",
       "      <td>2,599</td>\n",
       "      <td>1.4%</td>\n",
       "      <td>...</td>\n",
       "      <td>384</td>\n",
       "      <td>0.2%</td>\n",
       "      <td>7,442</td>\n",
       "      <td>11.2%</td>\n",
       "      <td>59,961</td>\n",
       "      <td>4.7%</td>\n",
       "      <td>16,203</td>\n",
       "      <td>1.9%</td>\n",
       "      <td>43,758</td>\n",
       "      <td>10.4%</td>\n",
       "    </tr>\n",
       "  </tbody>\n",
       "</table>\n",
       "<p>5 rows × 312 columns</p>\n",
       "</div>"
      ],
      "text/plain": [
       "                          Alabama_total Alabama_total_percent Alabama_owner  \\\n",
       "Label (Grouping)                                                              \n",
       "        1, detached           1,436,137                 71.2%     1,205,520   \n",
       "        1, attached              41,268                  2.0%        23,036   \n",
       "        2 apartments             35,683                  1.8%         1,255   \n",
       "        3 or 4 apartments        57,324                  2.8%         2,986   \n",
       "        5 to 9 apartments        75,649                  3.8%         2,717   \n",
       "\n",
       "                          Alabama_own_percent Alabama_renter  \\\n",
       "Label (Grouping)                                               \n",
       "        1, detached                     85.1%        230,617   \n",
       "        1, attached                      1.6%         18,232   \n",
       "        2 apartments                     0.1%         34,428   \n",
       "        3 or 4 apartments                0.2%         54,338   \n",
       "        5 to 9 apartments                0.2%         72,932   \n",
       "\n",
       "                          Alabama_rent_percent Alaska_total  \\\n",
       "Label (Grouping)                                              \n",
       "        1, detached                      38.4%      170,997   \n",
       "        1, attached                       3.0%       22,604   \n",
       "        2 apartments                      5.7%       15,026   \n",
       "        3 or 4 apartments                 9.1%       20,093   \n",
       "        5 to 9 apartments                12.2%       15,293   \n",
       "\n",
       "                          Alaska_total_percent Alaska_owner  \\\n",
       "Label (Grouping)                                              \n",
       "        1, detached                      62.3%      149,053   \n",
       "        1, attached                       8.2%       13,565   \n",
       "        2 apartments                      5.5%        4,122   \n",
       "        3 or 4 apartments                 7.3%        2,783   \n",
       "        5 to 9 apartments                 5.6%        2,599   \n",
       "\n",
       "                          Alaska_own_percent  ... Wyoming_owner  \\\n",
       "Label (Grouping)                              ...                 \n",
       "        1, detached                    82.1%  ...       147,580   \n",
       "        1, attached                     7.5%  ...         7,390   \n",
       "        2 apartments                    2.3%  ...           873   \n",
       "        3 or 4 apartments               1.5%  ...           198   \n",
       "        5 to 9 apartments               1.4%  ...           384   \n",
       "\n",
       "                          Wyoming_own_percent Wyoming_renter  \\\n",
       "Label (Grouping)                                               \n",
       "        1, detached                     83.4%         20,001   \n",
       "        1, attached                      4.2%          4,919   \n",
       "        2 apartments                     0.5%          3,457   \n",
       "        3 or 4 apartments                0.1%         10,707   \n",
       "        5 to 9 apartments                0.2%          7,442   \n",
       "\n",
       "                          Wyoming_rent_percent Puerto Rico_total  \\\n",
       "Label (Grouping)                                                   \n",
       "        1, detached                      30.1%           890,441   \n",
       "        1, attached                       7.4%           145,191   \n",
       "        2 apartments                      5.2%            34,016   \n",
       "        3 or 4 apartments                16.1%            33,814   \n",
       "        5 to 9 apartments                11.2%            59,961   \n",
       "\n",
       "                          Puerto Rico_total_percent Puerto Rico_owner  \\\n",
       "Label (Grouping)                                                        \n",
       "        1, detached                           69.1%           703,191   \n",
       "        1, attached                           11.3%            83,088   \n",
       "        2 apartments                           2.6%            14,680   \n",
       "        3 or 4 apartments                      2.6%             7,645   \n",
       "        5 to 9 apartments                      4.7%            16,203   \n",
       "\n",
       "                          Puerto Rico_own_percent Puerto Rico_renter  \\\n",
       "Label (Grouping)                                                       \n",
       "        1, detached                         80.9%            187,250   \n",
       "        1, attached                          9.6%             62,103   \n",
       "        2 apartments                         1.7%             19,336   \n",
       "        3 or 4 apartments                    0.9%             26,169   \n",
       "        5 to 9 apartments                    1.9%             43,758   \n",
       "\n",
       "                          Puerto Rico_rent_percent  \n",
       "Label (Grouping)                                    \n",
       "        1, detached                          44.6%  \n",
       "        1, attached                          14.8%  \n",
       "        2 apartments                          4.6%  \n",
       "        3 or 4 apartments                     6.2%  \n",
       "        5 to 9 apartments                    10.4%  \n",
       "\n",
       "[5 rows x 312 columns]"
      ]
     },
     "execution_count": 248,
     "metadata": {},
     "output_type": "execute_result"
    }
   ],
   "source": [
    "units_in_struc = house_char_data.iloc[[2,3,4,5,6,7,8]]\n",
    "units_in_struc.head()"
   ]
  },
  {
   "cell_type": "code",
   "execution_count": 249,
   "metadata": {},
   "outputs": [],
   "source": [
    "def data_cleanup(df):\n",
    "\n",
    "    df_dict = df.to_dict()\n",
    "    cleaned_dict = {state: {key.strip(): convert_value(value) for key, value in data.items()} for state, data in df_dict.items()}\n",
    "\n",
    "    # Create nested dictionary for each state to combine data by state\n",
    "    new_dict = {}\n",
    "    for state_attr, attr_values in cleaned_dict.items():\n",
    "        state, attribute = state_attr.split(\"_\", 1)\n",
    "        if state not in new_dict:\n",
    "            new_dict[state] = {}\n",
    "        if attribute not in new_dict[state]:\n",
    "            new_dict[state][attribute] = {}\n",
    "        for attr, value in attr_values.items():\n",
    "            new_dict[state][attribute][attr] = value\n",
    "\n",
    "    # Create category by total units in state, homeowner units and renter units\n",
    "    total_unit_lst = [{k: v.get('total')} for k, v in new_dict.items() if v.get('total') is not None]\n",
    "    owner_unit_lst = [{k: v.get('owner')} for k, v in new_dict.items() if v.get('owner') is not None]\n",
    "    renter_unit_lst = [{k: v.get('renter')} for k, v in new_dict.items() if v.get('renter') is not None]\n",
    "\n",
    "    # Function to convert list of dictionaries into a DataFrame\n",
    "    def create_df(lst):\n",
    "        df = pd.concat({k: pd.DataFrame.from_dict(v, 'index') for d in lst for k, v in d.items()}, axis=0)\n",
    "        df.reset_index(inplace=True)\n",
    "        df.columns = ['State', 'Value', 'Count']\n",
    "        df['Code'] = df['State'].map(state_abbreviations)\n",
    "        return df\n",
    "\n",
    "    # Convert the list of nested dictionaries into a DataFrame\n",
    "    df_total = create_df(total_unit_lst)\n",
    "    df_owner = create_df(owner_unit_lst)\n",
    "    df_renter = create_df(renter_unit_lst)\n",
    "\n",
    "    return df_total, df_owner, df_renter"
   ]
  },
  {
   "cell_type": "code",
   "execution_count": 250,
   "metadata": {},
   "outputs": [],
   "source": [
    "df_total, df_owner, df_renter = data_cleanup(units_in_struc)"
   ]
  },
  {
   "cell_type": "code",
   "execution_count": 251,
   "metadata": {},
   "outputs": [
    {
     "data": {
      "text/html": [
       "<div>\n",
       "<style scoped>\n",
       "    .dataframe tbody tr th:only-of-type {\n",
       "        vertical-align: middle;\n",
       "    }\n",
       "\n",
       "    .dataframe tbody tr th {\n",
       "        vertical-align: top;\n",
       "    }\n",
       "\n",
       "    .dataframe thead th {\n",
       "        text-align: right;\n",
       "    }\n",
       "</style>\n",
       "<table border=\"1\" class=\"dataframe\">\n",
       "  <thead>\n",
       "    <tr style=\"text-align: right;\">\n",
       "      <th></th>\n",
       "      <th>State</th>\n",
       "      <th>Value</th>\n",
       "      <th>Count</th>\n",
       "      <th>Code</th>\n",
       "    </tr>\n",
       "  </thead>\n",
       "  <tbody>\n",
       "    <tr>\n",
       "      <th>0</th>\n",
       "      <td>Alabama</td>\n",
       "      <td>1, detached</td>\n",
       "      <td>1436137</td>\n",
       "      <td>AL</td>\n",
       "    </tr>\n",
       "    <tr>\n",
       "      <th>1</th>\n",
       "      <td>Alabama</td>\n",
       "      <td>1, attached</td>\n",
       "      <td>41268</td>\n",
       "      <td>AL</td>\n",
       "    </tr>\n",
       "    <tr>\n",
       "      <th>2</th>\n",
       "      <td>Alabama</td>\n",
       "      <td>2 apartments</td>\n",
       "      <td>35683</td>\n",
       "      <td>AL</td>\n",
       "    </tr>\n",
       "    <tr>\n",
       "      <th>3</th>\n",
       "      <td>Alabama</td>\n",
       "      <td>3 or 4 apartments</td>\n",
       "      <td>57324</td>\n",
       "      <td>AL</td>\n",
       "    </tr>\n",
       "    <tr>\n",
       "      <th>4</th>\n",
       "      <td>Alabama</td>\n",
       "      <td>5 to 9 apartments</td>\n",
       "      <td>75649</td>\n",
       "      <td>AL</td>\n",
       "    </tr>\n",
       "  </tbody>\n",
       "</table>\n",
       "</div>"
      ],
      "text/plain": [
       "     State              Value    Count Code\n",
       "0  Alabama        1, detached  1436137   AL\n",
       "1  Alabama        1, attached    41268   AL\n",
       "2  Alabama       2 apartments    35683   AL\n",
       "3  Alabama  3 or 4 apartments    57324   AL\n",
       "4  Alabama  5 to 9 apartments    75649   AL"
      ]
     },
     "execution_count": 251,
     "metadata": {},
     "output_type": "execute_result"
    }
   ],
   "source": [
    "df_total.head()"
   ]
  },
  {
   "cell_type": "code",
   "execution_count": 252,
   "metadata": {},
   "outputs": [
    {
     "data": {
      "text/html": [
       "<div>\n",
       "<style scoped>\n",
       "    .dataframe tbody tr th:only-of-type {\n",
       "        vertical-align: middle;\n",
       "    }\n",
       "\n",
       "    .dataframe tbody tr th {\n",
       "        vertical-align: top;\n",
       "    }\n",
       "\n",
       "    .dataframe thead th {\n",
       "        text-align: right;\n",
       "    }\n",
       "</style>\n",
       "<table border=\"1\" class=\"dataframe\">\n",
       "  <thead>\n",
       "    <tr style=\"text-align: right;\">\n",
       "      <th></th>\n",
       "      <th>State</th>\n",
       "      <th>Value</th>\n",
       "      <th>Count</th>\n",
       "      <th>Code</th>\n",
       "    </tr>\n",
       "  </thead>\n",
       "  <tbody>\n",
       "    <tr>\n",
       "      <th>0</th>\n",
       "      <td>Alabama</td>\n",
       "      <td>1, detached</td>\n",
       "      <td>1205520</td>\n",
       "      <td>AL</td>\n",
       "    </tr>\n",
       "    <tr>\n",
       "      <th>1</th>\n",
       "      <td>Alabama</td>\n",
       "      <td>1, attached</td>\n",
       "      <td>23036</td>\n",
       "      <td>AL</td>\n",
       "    </tr>\n",
       "    <tr>\n",
       "      <th>2</th>\n",
       "      <td>Alabama</td>\n",
       "      <td>2 apartments</td>\n",
       "      <td>1255</td>\n",
       "      <td>AL</td>\n",
       "    </tr>\n",
       "    <tr>\n",
       "      <th>3</th>\n",
       "      <td>Alabama</td>\n",
       "      <td>3 or 4 apartments</td>\n",
       "      <td>2986</td>\n",
       "      <td>AL</td>\n",
       "    </tr>\n",
       "    <tr>\n",
       "      <th>4</th>\n",
       "      <td>Alabama</td>\n",
       "      <td>5 to 9 apartments</td>\n",
       "      <td>2717</td>\n",
       "      <td>AL</td>\n",
       "    </tr>\n",
       "  </tbody>\n",
       "</table>\n",
       "</div>"
      ],
      "text/plain": [
       "     State              Value    Count Code\n",
       "0  Alabama        1, detached  1205520   AL\n",
       "1  Alabama        1, attached    23036   AL\n",
       "2  Alabama       2 apartments     1255   AL\n",
       "3  Alabama  3 or 4 apartments     2986   AL\n",
       "4  Alabama  5 to 9 apartments     2717   AL"
      ]
     },
     "execution_count": 252,
     "metadata": {},
     "output_type": "execute_result"
    }
   ],
   "source": [
    "df_owner.head()"
   ]
  },
  {
   "cell_type": "code",
   "execution_count": 253,
   "metadata": {},
   "outputs": [
    {
     "data": {
      "text/html": [
       "<div>\n",
       "<style scoped>\n",
       "    .dataframe tbody tr th:only-of-type {\n",
       "        vertical-align: middle;\n",
       "    }\n",
       "\n",
       "    .dataframe tbody tr th {\n",
       "        vertical-align: top;\n",
       "    }\n",
       "\n",
       "    .dataframe thead th {\n",
       "        text-align: right;\n",
       "    }\n",
       "</style>\n",
       "<table border=\"1\" class=\"dataframe\">\n",
       "  <thead>\n",
       "    <tr style=\"text-align: right;\">\n",
       "      <th></th>\n",
       "      <th>State</th>\n",
       "      <th>Value</th>\n",
       "      <th>Count</th>\n",
       "      <th>Code</th>\n",
       "    </tr>\n",
       "  </thead>\n",
       "  <tbody>\n",
       "    <tr>\n",
       "      <th>0</th>\n",
       "      <td>Alabama</td>\n",
       "      <td>1, detached</td>\n",
       "      <td>230617</td>\n",
       "      <td>AL</td>\n",
       "    </tr>\n",
       "    <tr>\n",
       "      <th>1</th>\n",
       "      <td>Alabama</td>\n",
       "      <td>1, attached</td>\n",
       "      <td>18232</td>\n",
       "      <td>AL</td>\n",
       "    </tr>\n",
       "    <tr>\n",
       "      <th>2</th>\n",
       "      <td>Alabama</td>\n",
       "      <td>2 apartments</td>\n",
       "      <td>34428</td>\n",
       "      <td>AL</td>\n",
       "    </tr>\n",
       "    <tr>\n",
       "      <th>3</th>\n",
       "      <td>Alabama</td>\n",
       "      <td>3 or 4 apartments</td>\n",
       "      <td>54338</td>\n",
       "      <td>AL</td>\n",
       "    </tr>\n",
       "    <tr>\n",
       "      <th>4</th>\n",
       "      <td>Alabama</td>\n",
       "      <td>5 to 9 apartments</td>\n",
       "      <td>72932</td>\n",
       "      <td>AL</td>\n",
       "    </tr>\n",
       "  </tbody>\n",
       "</table>\n",
       "</div>"
      ],
      "text/plain": [
       "     State              Value   Count Code\n",
       "0  Alabama        1, detached  230617   AL\n",
       "1  Alabama        1, attached   18232   AL\n",
       "2  Alabama       2 apartments   34428   AL\n",
       "3  Alabama  3 or 4 apartments   54338   AL\n",
       "4  Alabama  5 to 9 apartments   72932   AL"
      ]
     },
     "execution_count": 253,
     "metadata": {},
     "output_type": "execute_result"
    }
   ],
   "source": [
    "df_renter.head()"
   ]
  },
  {
   "cell_type": "code",
   "execution_count": 254,
   "metadata": {},
   "outputs": [
    {
     "data": {
      "text/html": [
       "<div>\n",
       "<style scoped>\n",
       "    .dataframe tbody tr th:only-of-type {\n",
       "        vertical-align: middle;\n",
       "    }\n",
       "\n",
       "    .dataframe tbody tr th {\n",
       "        vertical-align: top;\n",
       "    }\n",
       "\n",
       "    .dataframe thead th {\n",
       "        text-align: right;\n",
       "    }\n",
       "</style>\n",
       "<table border=\"1\" class=\"dataframe\">\n",
       "  <thead>\n",
       "    <tr style=\"text-align: right;\">\n",
       "      <th></th>\n",
       "      <th>Alabama_total</th>\n",
       "      <th>Alabama_total_percent</th>\n",
       "      <th>Alabama_owner</th>\n",
       "      <th>Alabama_own_percent</th>\n",
       "      <th>Alabama_renter</th>\n",
       "      <th>Alabama_rent_percent</th>\n",
       "      <th>Alaska_total</th>\n",
       "      <th>Alaska_total_percent</th>\n",
       "      <th>Alaska_owner</th>\n",
       "      <th>Alaska_own_percent</th>\n",
       "      <th>...</th>\n",
       "      <th>Wyoming_owner</th>\n",
       "      <th>Wyoming_own_percent</th>\n",
       "      <th>Wyoming_renter</th>\n",
       "      <th>Wyoming_rent_percent</th>\n",
       "      <th>Puerto Rico_total</th>\n",
       "      <th>Puerto Rico_total_percent</th>\n",
       "      <th>Puerto Rico_owner</th>\n",
       "      <th>Puerto Rico_own_percent</th>\n",
       "      <th>Puerto Rico_renter</th>\n",
       "      <th>Puerto Rico_rent_percent</th>\n",
       "    </tr>\n",
       "    <tr>\n",
       "      <th>Label (Grouping)</th>\n",
       "      <th></th>\n",
       "      <th></th>\n",
       "      <th></th>\n",
       "      <th></th>\n",
       "      <th></th>\n",
       "      <th></th>\n",
       "      <th></th>\n",
       "      <th></th>\n",
       "      <th></th>\n",
       "      <th></th>\n",
       "      <th></th>\n",
       "      <th></th>\n",
       "      <th></th>\n",
       "      <th></th>\n",
       "      <th></th>\n",
       "      <th></th>\n",
       "      <th></th>\n",
       "      <th></th>\n",
       "      <th></th>\n",
       "      <th></th>\n",
       "      <th></th>\n",
       "    </tr>\n",
       "  </thead>\n",
       "  <tbody>\n",
       "    <tr>\n",
       "      <th>2020 or later</th>\n",
       "      <td>45,295</td>\n",
       "      <td>2.2%</td>\n",
       "      <td>38,381</td>\n",
       "      <td>2.7%</td>\n",
       "      <td>6,914</td>\n",
       "      <td>1.2%</td>\n",
       "      <td>2,604</td>\n",
       "      <td>0.9%</td>\n",
       "      <td>1,822</td>\n",
       "      <td>1.0%</td>\n",
       "      <td>...</td>\n",
       "      <td>2,822</td>\n",
       "      <td>1.6%</td>\n",
       "      <td>869</td>\n",
       "      <td>1.3%</td>\n",
       "      <td>904</td>\n",
       "      <td>0.1%</td>\n",
       "      <td>609</td>\n",
       "      <td>0.1%</td>\n",
       "      <td>295</td>\n",
       "      <td>0.1%</td>\n",
       "    </tr>\n",
       "    <tr>\n",
       "      <th>2010 to 2019</th>\n",
       "      <td>241,552</td>\n",
       "      <td>12.0%</td>\n",
       "      <td>171,350</td>\n",
       "      <td>12.1%</td>\n",
       "      <td>70,202</td>\n",
       "      <td>11.7%</td>\n",
       "      <td>29,643</td>\n",
       "      <td>10.8%</td>\n",
       "      <td>18,717</td>\n",
       "      <td>10.3%</td>\n",
       "      <td>...</td>\n",
       "      <td>17,123</td>\n",
       "      <td>9.7%</td>\n",
       "      <td>7,252</td>\n",
       "      <td>10.9%</td>\n",
       "      <td>48,084</td>\n",
       "      <td>3.7%</td>\n",
       "      <td>31,575</td>\n",
       "      <td>3.6%</td>\n",
       "      <td>16,509</td>\n",
       "      <td>3.9%</td>\n",
       "    </tr>\n",
       "    <tr>\n",
       "      <th>2000 to 2009</th>\n",
       "      <td>322,821</td>\n",
       "      <td>16.0%</td>\n",
       "      <td>249,161</td>\n",
       "      <td>17.6%</td>\n",
       "      <td>73,660</td>\n",
       "      <td>12.3%</td>\n",
       "      <td>44,414</td>\n",
       "      <td>16.2%</td>\n",
       "      <td>32,530</td>\n",
       "      <td>17.9%</td>\n",
       "      <td>...</td>\n",
       "      <td>27,518</td>\n",
       "      <td>15.6%</td>\n",
       "      <td>9,678</td>\n",
       "      <td>14.6%</td>\n",
       "      <td>180,653</td>\n",
       "      <td>14.0%</td>\n",
       "      <td>135,080</td>\n",
       "      <td>15.5%</td>\n",
       "      <td>45,573</td>\n",
       "      <td>10.9%</td>\n",
       "    </tr>\n",
       "    <tr>\n",
       "      <th>1980 to 1999</th>\n",
       "      <td>587,134</td>\n",
       "      <td>29.1%</td>\n",
       "      <td>422,475</td>\n",
       "      <td>29.8%</td>\n",
       "      <td>164,659</td>\n",
       "      <td>27.4%</td>\n",
       "      <td>96,638</td>\n",
       "      <td>35.2%</td>\n",
       "      <td>66,956</td>\n",
       "      <td>36.9%</td>\n",
       "      <td>...</td>\n",
       "      <td>40,947</td>\n",
       "      <td>23.2%</td>\n",
       "      <td>18,035</td>\n",
       "      <td>27.1%</td>\n",
       "      <td>406,272</td>\n",
       "      <td>31.5%</td>\n",
       "      <td>293,055</td>\n",
       "      <td>33.7%</td>\n",
       "      <td>113,217</td>\n",
       "      <td>27.0%</td>\n",
       "    </tr>\n",
       "    <tr>\n",
       "      <th>1960 to 1979</th>\n",
       "      <td>515,788</td>\n",
       "      <td>25.6%</td>\n",
       "      <td>341,032</td>\n",
       "      <td>24.1%</td>\n",
       "      <td>174,756</td>\n",
       "      <td>29.1%</td>\n",
       "      <td>82,183</td>\n",
       "      <td>29.9%</td>\n",
       "      <td>50,826</td>\n",
       "      <td>28.0%</td>\n",
       "      <td>...</td>\n",
       "      <td>48,307</td>\n",
       "      <td>27.3%</td>\n",
       "      <td>15,887</td>\n",
       "      <td>23.9%</td>\n",
       "      <td>475,389</td>\n",
       "      <td>36.9%</td>\n",
       "      <td>311,542</td>\n",
       "      <td>35.8%</td>\n",
       "      <td>163,847</td>\n",
       "      <td>39.0%</td>\n",
       "    </tr>\n",
       "  </tbody>\n",
       "</table>\n",
       "<p>5 rows × 312 columns</p>\n",
       "</div>"
      ],
      "text/plain": [
       "                      Alabama_total Alabama_total_percent Alabama_owner  \\\n",
       "Label (Grouping)                                                          \n",
       "        2020 or later        45,295                  2.2%        38,381   \n",
       "        2010 to 2019        241,552                 12.0%       171,350   \n",
       "        2000 to 2009        322,821                 16.0%       249,161   \n",
       "        1980 to 1999        587,134                 29.1%       422,475   \n",
       "        1960 to 1979        515,788                 25.6%       341,032   \n",
       "\n",
       "                      Alabama_own_percent Alabama_renter Alabama_rent_percent  \\\n",
       "Label (Grouping)                                                                \n",
       "        2020 or later                2.7%          6,914                 1.2%   \n",
       "        2010 to 2019                12.1%         70,202                11.7%   \n",
       "        2000 to 2009                17.6%         73,660                12.3%   \n",
       "        1980 to 1999                29.8%        164,659                27.4%   \n",
       "        1960 to 1979                24.1%        174,756                29.1%   \n",
       "\n",
       "                      Alaska_total Alaska_total_percent Alaska_owner  \\\n",
       "Label (Grouping)                                                       \n",
       "        2020 or later        2,604                 0.9%        1,822   \n",
       "        2010 to 2019        29,643                10.8%       18,717   \n",
       "        2000 to 2009        44,414                16.2%       32,530   \n",
       "        1980 to 1999        96,638                35.2%       66,956   \n",
       "        1960 to 1979        82,183                29.9%       50,826   \n",
       "\n",
       "                      Alaska_own_percent  ... Wyoming_owner  \\\n",
       "Label (Grouping)                          ...                 \n",
       "        2020 or later               1.0%  ...         2,822   \n",
       "        2010 to 2019               10.3%  ...        17,123   \n",
       "        2000 to 2009               17.9%  ...        27,518   \n",
       "        1980 to 1999               36.9%  ...        40,947   \n",
       "        1960 to 1979               28.0%  ...        48,307   \n",
       "\n",
       "                      Wyoming_own_percent Wyoming_renter Wyoming_rent_percent  \\\n",
       "Label (Grouping)                                                                \n",
       "        2020 or later                1.6%            869                 1.3%   \n",
       "        2010 to 2019                 9.7%          7,252                10.9%   \n",
       "        2000 to 2009                15.6%          9,678                14.6%   \n",
       "        1980 to 1999                23.2%         18,035                27.1%   \n",
       "        1960 to 1979                27.3%         15,887                23.9%   \n",
       "\n",
       "                      Puerto Rico_total Puerto Rico_total_percent  \\\n",
       "Label (Grouping)                                                    \n",
       "        2020 or later               904                      0.1%   \n",
       "        2010 to 2019             48,084                      3.7%   \n",
       "        2000 to 2009            180,653                     14.0%   \n",
       "        1980 to 1999            406,272                     31.5%   \n",
       "        1960 to 1979            475,389                     36.9%   \n",
       "\n",
       "                      Puerto Rico_owner Puerto Rico_own_percent  \\\n",
       "Label (Grouping)                                                  \n",
       "        2020 or later               609                    0.1%   \n",
       "        2010 to 2019             31,575                    3.6%   \n",
       "        2000 to 2009            135,080                   15.5%   \n",
       "        1980 to 1999            293,055                   33.7%   \n",
       "        1960 to 1979            311,542                   35.8%   \n",
       "\n",
       "                      Puerto Rico_renter Puerto Rico_rent_percent  \n",
       "Label (Grouping)                                                   \n",
       "        2020 or later                295                     0.1%  \n",
       "        2010 to 2019              16,509                     3.9%  \n",
       "        2000 to 2009              45,573                    10.9%  \n",
       "        1980 to 1999             113,217                    27.0%  \n",
       "        1960 to 1979             163,847                    39.0%  \n",
       "\n",
       "[5 rows x 312 columns]"
      ]
     },
     "execution_count": 254,
     "metadata": {},
     "output_type": "execute_result"
    }
   ],
   "source": [
    "year_struc = house_char_data.iloc[[10,11,12,13,14,15,16]]\n",
    "year_struc.head()"
   ]
  },
  {
   "cell_type": "code",
   "execution_count": 255,
   "metadata": {},
   "outputs": [],
   "source": [
    "df_total_yr, df_owner_yr, df_renter_yr = data_cleanup(year_struc)"
   ]
  },
  {
   "cell_type": "code",
   "execution_count": 256,
   "metadata": {},
   "outputs": [
    {
     "data": {
      "text/html": [
       "<div>\n",
       "<style scoped>\n",
       "    .dataframe tbody tr th:only-of-type {\n",
       "        vertical-align: middle;\n",
       "    }\n",
       "\n",
       "    .dataframe tbody tr th {\n",
       "        vertical-align: top;\n",
       "    }\n",
       "\n",
       "    .dataframe thead th {\n",
       "        text-align: right;\n",
       "    }\n",
       "</style>\n",
       "<table border=\"1\" class=\"dataframe\">\n",
       "  <thead>\n",
       "    <tr style=\"text-align: right;\">\n",
       "      <th></th>\n",
       "      <th>State</th>\n",
       "      <th>Value</th>\n",
       "      <th>Count</th>\n",
       "      <th>Code</th>\n",
       "    </tr>\n",
       "  </thead>\n",
       "  <tbody>\n",
       "    <tr>\n",
       "      <th>0</th>\n",
       "      <td>Alabama</td>\n",
       "      <td>2020 or later</td>\n",
       "      <td>45295</td>\n",
       "      <td>AL</td>\n",
       "    </tr>\n",
       "    <tr>\n",
       "      <th>1</th>\n",
       "      <td>Alabama</td>\n",
       "      <td>2010 to 2019</td>\n",
       "      <td>241552</td>\n",
       "      <td>AL</td>\n",
       "    </tr>\n",
       "    <tr>\n",
       "      <th>2</th>\n",
       "      <td>Alabama</td>\n",
       "      <td>2000 to 2009</td>\n",
       "      <td>322821</td>\n",
       "      <td>AL</td>\n",
       "    </tr>\n",
       "    <tr>\n",
       "      <th>3</th>\n",
       "      <td>Alabama</td>\n",
       "      <td>1980 to 1999</td>\n",
       "      <td>587134</td>\n",
       "      <td>AL</td>\n",
       "    </tr>\n",
       "    <tr>\n",
       "      <th>4</th>\n",
       "      <td>Alabama</td>\n",
       "      <td>1960 to 1979</td>\n",
       "      <td>515788</td>\n",
       "      <td>AL</td>\n",
       "    </tr>\n",
       "  </tbody>\n",
       "</table>\n",
       "</div>"
      ],
      "text/plain": [
       "     State          Value   Count Code\n",
       "0  Alabama  2020 or later   45295   AL\n",
       "1  Alabama   2010 to 2019  241552   AL\n",
       "2  Alabama   2000 to 2009  322821   AL\n",
       "3  Alabama   1980 to 1999  587134   AL\n",
       "4  Alabama   1960 to 1979  515788   AL"
      ]
     },
     "execution_count": 256,
     "metadata": {},
     "output_type": "execute_result"
    }
   ],
   "source": [
    "df_total_yr.head()"
   ]
  },
  {
   "cell_type": "code",
   "execution_count": 257,
   "metadata": {},
   "outputs": [
    {
     "data": {
      "text/html": [
       "<div>\n",
       "<style scoped>\n",
       "    .dataframe tbody tr th:only-of-type {\n",
       "        vertical-align: middle;\n",
       "    }\n",
       "\n",
       "    .dataframe tbody tr th {\n",
       "        vertical-align: top;\n",
       "    }\n",
       "\n",
       "    .dataframe thead th {\n",
       "        text-align: right;\n",
       "    }\n",
       "</style>\n",
       "<table border=\"1\" class=\"dataframe\">\n",
       "  <thead>\n",
       "    <tr style=\"text-align: right;\">\n",
       "      <th></th>\n",
       "      <th>State</th>\n",
       "      <th>Value</th>\n",
       "      <th>Count</th>\n",
       "      <th>Code</th>\n",
       "    </tr>\n",
       "  </thead>\n",
       "  <tbody>\n",
       "    <tr>\n",
       "      <th>0</th>\n",
       "      <td>Alabama</td>\n",
       "      <td>2020 or later</td>\n",
       "      <td>38381</td>\n",
       "      <td>AL</td>\n",
       "    </tr>\n",
       "    <tr>\n",
       "      <th>1</th>\n",
       "      <td>Alabama</td>\n",
       "      <td>2010 to 2019</td>\n",
       "      <td>171350</td>\n",
       "      <td>AL</td>\n",
       "    </tr>\n",
       "    <tr>\n",
       "      <th>2</th>\n",
       "      <td>Alabama</td>\n",
       "      <td>2000 to 2009</td>\n",
       "      <td>249161</td>\n",
       "      <td>AL</td>\n",
       "    </tr>\n",
       "    <tr>\n",
       "      <th>3</th>\n",
       "      <td>Alabama</td>\n",
       "      <td>1980 to 1999</td>\n",
       "      <td>422475</td>\n",
       "      <td>AL</td>\n",
       "    </tr>\n",
       "    <tr>\n",
       "      <th>4</th>\n",
       "      <td>Alabama</td>\n",
       "      <td>1960 to 1979</td>\n",
       "      <td>341032</td>\n",
       "      <td>AL</td>\n",
       "    </tr>\n",
       "  </tbody>\n",
       "</table>\n",
       "</div>"
      ],
      "text/plain": [
       "     State          Value   Count Code\n",
       "0  Alabama  2020 or later   38381   AL\n",
       "1  Alabama   2010 to 2019  171350   AL\n",
       "2  Alabama   2000 to 2009  249161   AL\n",
       "3  Alabama   1980 to 1999  422475   AL\n",
       "4  Alabama   1960 to 1979  341032   AL"
      ]
     },
     "execution_count": 257,
     "metadata": {},
     "output_type": "execute_result"
    }
   ],
   "source": [
    "df_owner_yr.head()"
   ]
  },
  {
   "cell_type": "code",
   "execution_count": 258,
   "metadata": {},
   "outputs": [
    {
     "data": {
      "text/html": [
       "<div>\n",
       "<style scoped>\n",
       "    .dataframe tbody tr th:only-of-type {\n",
       "        vertical-align: middle;\n",
       "    }\n",
       "\n",
       "    .dataframe tbody tr th {\n",
       "        vertical-align: top;\n",
       "    }\n",
       "\n",
       "    .dataframe thead th {\n",
       "        text-align: right;\n",
       "    }\n",
       "</style>\n",
       "<table border=\"1\" class=\"dataframe\">\n",
       "  <thead>\n",
       "    <tr style=\"text-align: right;\">\n",
       "      <th></th>\n",
       "      <th>State</th>\n",
       "      <th>Value</th>\n",
       "      <th>Count</th>\n",
       "      <th>Code</th>\n",
       "    </tr>\n",
       "  </thead>\n",
       "  <tbody>\n",
       "    <tr>\n",
       "      <th>0</th>\n",
       "      <td>Alabama</td>\n",
       "      <td>2020 or later</td>\n",
       "      <td>6914</td>\n",
       "      <td>AL</td>\n",
       "    </tr>\n",
       "    <tr>\n",
       "      <th>1</th>\n",
       "      <td>Alabama</td>\n",
       "      <td>2010 to 2019</td>\n",
       "      <td>70202</td>\n",
       "      <td>AL</td>\n",
       "    </tr>\n",
       "    <tr>\n",
       "      <th>2</th>\n",
       "      <td>Alabama</td>\n",
       "      <td>2000 to 2009</td>\n",
       "      <td>73660</td>\n",
       "      <td>AL</td>\n",
       "    </tr>\n",
       "    <tr>\n",
       "      <th>3</th>\n",
       "      <td>Alabama</td>\n",
       "      <td>1980 to 1999</td>\n",
       "      <td>164659</td>\n",
       "      <td>AL</td>\n",
       "    </tr>\n",
       "    <tr>\n",
       "      <th>4</th>\n",
       "      <td>Alabama</td>\n",
       "      <td>1960 to 1979</td>\n",
       "      <td>174756</td>\n",
       "      <td>AL</td>\n",
       "    </tr>\n",
       "  </tbody>\n",
       "</table>\n",
       "</div>"
      ],
      "text/plain": [
       "     State          Value   Count Code\n",
       "0  Alabama  2020 or later    6914   AL\n",
       "1  Alabama   2010 to 2019   70202   AL\n",
       "2  Alabama   2000 to 2009   73660   AL\n",
       "3  Alabama   1980 to 1999  164659   AL\n",
       "4  Alabama   1960 to 1979  174756   AL"
      ]
     },
     "execution_count": 258,
     "metadata": {},
     "output_type": "execute_result"
    }
   ],
   "source": [
    "df_renter_yr.head()"
   ]
  },
  {
   "cell_type": "code",
   "execution_count": 259,
   "metadata": {},
   "outputs": [
    {
     "data": {
      "text/html": [
       "<div>\n",
       "<style scoped>\n",
       "    .dataframe tbody tr th:only-of-type {\n",
       "        vertical-align: middle;\n",
       "    }\n",
       "\n",
       "    .dataframe tbody tr th {\n",
       "        vertical-align: top;\n",
       "    }\n",
       "\n",
       "    .dataframe thead th {\n",
       "        text-align: right;\n",
       "    }\n",
       "</style>\n",
       "<table border=\"1\" class=\"dataframe\">\n",
       "  <thead>\n",
       "    <tr style=\"text-align: right;\">\n",
       "      <th></th>\n",
       "      <th>Alabama_total</th>\n",
       "      <th>Alabama_total_percent</th>\n",
       "      <th>Alabama_owner</th>\n",
       "      <th>Alabama_own_percent</th>\n",
       "      <th>Alabama_renter</th>\n",
       "      <th>Alabama_rent_percent</th>\n",
       "      <th>Alaska_total</th>\n",
       "      <th>Alaska_total_percent</th>\n",
       "      <th>Alaska_owner</th>\n",
       "      <th>Alaska_own_percent</th>\n",
       "      <th>...</th>\n",
       "      <th>Wyoming_owner</th>\n",
       "      <th>Wyoming_own_percent</th>\n",
       "      <th>Wyoming_renter</th>\n",
       "      <th>Wyoming_rent_percent</th>\n",
       "      <th>Puerto Rico_total</th>\n",
       "      <th>Puerto Rico_total_percent</th>\n",
       "      <th>Puerto Rico_owner</th>\n",
       "      <th>Puerto Rico_own_percent</th>\n",
       "      <th>Puerto Rico_renter</th>\n",
       "      <th>Puerto Rico_rent_percent</th>\n",
       "    </tr>\n",
       "    <tr>\n",
       "      <th>Label (Grouping)</th>\n",
       "      <th></th>\n",
       "      <th></th>\n",
       "      <th></th>\n",
       "      <th></th>\n",
       "      <th></th>\n",
       "      <th></th>\n",
       "      <th></th>\n",
       "      <th></th>\n",
       "      <th></th>\n",
       "      <th></th>\n",
       "      <th></th>\n",
       "      <th></th>\n",
       "      <th></th>\n",
       "      <th></th>\n",
       "      <th></th>\n",
       "      <th></th>\n",
       "      <th></th>\n",
       "      <th></th>\n",
       "      <th></th>\n",
       "      <th></th>\n",
       "      <th></th>\n",
       "    </tr>\n",
       "  </thead>\n",
       "  <tbody>\n",
       "    <tr>\n",
       "      <th>1 room</th>\n",
       "      <td>22,256</td>\n",
       "      <td>1.1%</td>\n",
       "      <td>4,681</td>\n",
       "      <td>0.3%</td>\n",
       "      <td>17,575</td>\n",
       "      <td>2.9%</td>\n",
       "      <td>10,980</td>\n",
       "      <td>4.0%</td>\n",
       "      <td>2,672</td>\n",
       "      <td>1.5%</td>\n",
       "      <td>...</td>\n",
       "      <td>939</td>\n",
       "      <td>0.5%</td>\n",
       "      <td>2,354</td>\n",
       "      <td>3.5%</td>\n",
       "      <td>19,305</td>\n",
       "      <td>1.5%</td>\n",
       "      <td>5,490</td>\n",
       "      <td>0.6%</td>\n",
       "      <td>13,815</td>\n",
       "      <td>3.3%</td>\n",
       "    </tr>\n",
       "    <tr>\n",
       "      <th>2 or 3 rooms</th>\n",
       "      <td>135,880</td>\n",
       "      <td>6.7%</td>\n",
       "      <td>32,531</td>\n",
       "      <td>2.3%</td>\n",
       "      <td>103,349</td>\n",
       "      <td>17.2%</td>\n",
       "      <td>44,248</td>\n",
       "      <td>16.1%</td>\n",
       "      <td>15,808</td>\n",
       "      <td>8.7%</td>\n",
       "      <td>...</td>\n",
       "      <td>6,101</td>\n",
       "      <td>3.4%</td>\n",
       "      <td>15,425</td>\n",
       "      <td>23.2%</td>\n",
       "      <td>138,185</td>\n",
       "      <td>10.7%</td>\n",
       "      <td>56,309</td>\n",
       "      <td>6.5%</td>\n",
       "      <td>81,876</td>\n",
       "      <td>19.5%</td>\n",
       "    </tr>\n",
       "    <tr>\n",
       "      <th>4 or 5 rooms</th>\n",
       "      <td>652,409</td>\n",
       "      <td>32.4%</td>\n",
       "      <td>357,333</td>\n",
       "      <td>25.2%</td>\n",
       "      <td>295,076</td>\n",
       "      <td>49.2%</td>\n",
       "      <td>105,243</td>\n",
       "      <td>38.3%</td>\n",
       "      <td>67,880</td>\n",
       "      <td>37.4%</td>\n",
       "      <td>...</td>\n",
       "      <td>45,143</td>\n",
       "      <td>25.5%</td>\n",
       "      <td>33,069</td>\n",
       "      <td>49.8%</td>\n",
       "      <td>808,988</td>\n",
       "      <td>62.7%</td>\n",
       "      <td>549,749</td>\n",
       "      <td>63.2%</td>\n",
       "      <td>259,239</td>\n",
       "      <td>61.8%</td>\n",
       "    </tr>\n",
       "    <tr>\n",
       "      <th>6 or 7 rooms</th>\n",
       "      <td>708,144</td>\n",
       "      <td>35.1%</td>\n",
       "      <td>568,715</td>\n",
       "      <td>40.2%</td>\n",
       "      <td>139,429</td>\n",
       "      <td>23.2%</td>\n",
       "      <td>68,647</td>\n",
       "      <td>25.0%</td>\n",
       "      <td>55,125</td>\n",
       "      <td>30.4%</td>\n",
       "      <td>...</td>\n",
       "      <td>56,898</td>\n",
       "      <td>32.2%</td>\n",
       "      <td>10,411</td>\n",
       "      <td>15.7%</td>\n",
       "      <td>268,223</td>\n",
       "      <td>20.8%</td>\n",
       "      <td>208,947</td>\n",
       "      <td>24.0%</td>\n",
       "      <td>59,276</td>\n",
       "      <td>14.1%</td>\n",
       "    </tr>\n",
       "    <tr>\n",
       "      <th>8 or more rooms</th>\n",
       "      <td>497,759</td>\n",
       "      <td>24.7%</td>\n",
       "      <td>453,073</td>\n",
       "      <td>32.0%</td>\n",
       "      <td>44,686</td>\n",
       "      <td>7.4%</td>\n",
       "      <td>45,456</td>\n",
       "      <td>16.6%</td>\n",
       "      <td>40,101</td>\n",
       "      <td>22.1%</td>\n",
       "      <td>...</td>\n",
       "      <td>67,782</td>\n",
       "      <td>38.3%</td>\n",
       "      <td>5,199</td>\n",
       "      <td>7.8%</td>\n",
       "      <td>54,610</td>\n",
       "      <td>4.2%</td>\n",
       "      <td>49,140</td>\n",
       "      <td>5.7%</td>\n",
       "      <td>5,470</td>\n",
       "      <td>1.3%</td>\n",
       "    </tr>\n",
       "  </tbody>\n",
       "</table>\n",
       "<p>5 rows × 312 columns</p>\n",
       "</div>"
      ],
      "text/plain": [
       "                        Alabama_total Alabama_total_percent Alabama_owner  \\\n",
       "Label (Grouping)                                                            \n",
       "        1 room                 22,256                  1.1%         4,681   \n",
       "        2 or 3 rooms          135,880                  6.7%        32,531   \n",
       "        4 or 5 rooms          652,409                 32.4%       357,333   \n",
       "        6 or 7 rooms          708,144                 35.1%       568,715   \n",
       "        8 or more rooms       497,759                 24.7%       453,073   \n",
       "\n",
       "                        Alabama_own_percent Alabama_renter  \\\n",
       "Label (Grouping)                                             \n",
       "        1 room                         0.3%         17,575   \n",
       "        2 or 3 rooms                   2.3%        103,349   \n",
       "        4 or 5 rooms                  25.2%        295,076   \n",
       "        6 or 7 rooms                  40.2%        139,429   \n",
       "        8 or more rooms               32.0%         44,686   \n",
       "\n",
       "                        Alabama_rent_percent Alaska_total  \\\n",
       "Label (Grouping)                                            \n",
       "        1 room                          2.9%       10,980   \n",
       "        2 or 3 rooms                   17.2%       44,248   \n",
       "        4 or 5 rooms                   49.2%      105,243   \n",
       "        6 or 7 rooms                   23.2%       68,647   \n",
       "        8 or more rooms                 7.4%       45,456   \n",
       "\n",
       "                        Alaska_total_percent Alaska_owner Alaska_own_percent  \\\n",
       "Label (Grouping)                                                               \n",
       "        1 room                          4.0%        2,672               1.5%   \n",
       "        2 or 3 rooms                   16.1%       15,808               8.7%   \n",
       "        4 or 5 rooms                   38.3%       67,880              37.4%   \n",
       "        6 or 7 rooms                   25.0%       55,125              30.4%   \n",
       "        8 or more rooms                16.6%       40,101              22.1%   \n",
       "\n",
       "                         ... Wyoming_owner Wyoming_own_percent Wyoming_renter  \\\n",
       "Label (Grouping)         ...                                                    \n",
       "        1 room           ...           939                0.5%          2,354   \n",
       "        2 or 3 rooms     ...         6,101                3.4%         15,425   \n",
       "        4 or 5 rooms     ...        45,143               25.5%         33,069   \n",
       "        6 or 7 rooms     ...        56,898               32.2%         10,411   \n",
       "        8 or more rooms  ...        67,782               38.3%          5,199   \n",
       "\n",
       "                        Wyoming_rent_percent Puerto Rico_total  \\\n",
       "Label (Grouping)                                                 \n",
       "        1 room                          3.5%            19,305   \n",
       "        2 or 3 rooms                   23.2%           138,185   \n",
       "        4 or 5 rooms                   49.8%           808,988   \n",
       "        6 or 7 rooms                   15.7%           268,223   \n",
       "        8 or more rooms                 7.8%            54,610   \n",
       "\n",
       "                        Puerto Rico_total_percent Puerto Rico_owner  \\\n",
       "Label (Grouping)                                                      \n",
       "        1 room                               1.5%             5,490   \n",
       "        2 or 3 rooms                        10.7%            56,309   \n",
       "        4 or 5 rooms                        62.7%           549,749   \n",
       "        6 or 7 rooms                        20.8%           208,947   \n",
       "        8 or more rooms                      4.2%            49,140   \n",
       "\n",
       "                        Puerto Rico_own_percent Puerto Rico_renter  \\\n",
       "Label (Grouping)                                                     \n",
       "        1 room                             0.6%             13,815   \n",
       "        2 or 3 rooms                       6.5%             81,876   \n",
       "        4 or 5 rooms                      63.2%            259,239   \n",
       "        6 or 7 rooms                      24.0%             59,276   \n",
       "        8 or more rooms                    5.7%              5,470   \n",
       "\n",
       "                        Puerto Rico_rent_percent  \n",
       "Label (Grouping)                                  \n",
       "        1 room                              3.3%  \n",
       "        2 or 3 rooms                       19.5%  \n",
       "        4 or 5 rooms                       61.8%  \n",
       "        6 or 7 rooms                       14.1%  \n",
       "        8 or more rooms                     1.3%  \n",
       "\n",
       "[5 rows x 312 columns]"
      ]
     },
     "execution_count": 259,
     "metadata": {},
     "output_type": "execute_result"
    }
   ],
   "source": [
    "rooms = house_char_data.iloc[[18,19,20,21,22]]\n",
    "rooms.head()"
   ]
  },
  {
   "cell_type": "code",
   "execution_count": 260,
   "metadata": {},
   "outputs": [],
   "source": [
    "df_room_total, df_room_owner, df_room_renter = data_cleanup(rooms)"
   ]
  },
  {
   "cell_type": "code",
   "execution_count": 261,
   "metadata": {},
   "outputs": [
    {
     "data": {
      "text/html": [
       "<div>\n",
       "<style scoped>\n",
       "    .dataframe tbody tr th:only-of-type {\n",
       "        vertical-align: middle;\n",
       "    }\n",
       "\n",
       "    .dataframe tbody tr th {\n",
       "        vertical-align: top;\n",
       "    }\n",
       "\n",
       "    .dataframe thead th {\n",
       "        text-align: right;\n",
       "    }\n",
       "</style>\n",
       "<table border=\"1\" class=\"dataframe\">\n",
       "  <thead>\n",
       "    <tr style=\"text-align: right;\">\n",
       "      <th></th>\n",
       "      <th>State</th>\n",
       "      <th>Value</th>\n",
       "      <th>Count</th>\n",
       "      <th>Code</th>\n",
       "    </tr>\n",
       "  </thead>\n",
       "  <tbody>\n",
       "    <tr>\n",
       "      <th>0</th>\n",
       "      <td>Alabama</td>\n",
       "      <td>1 room</td>\n",
       "      <td>22256</td>\n",
       "      <td>AL</td>\n",
       "    </tr>\n",
       "    <tr>\n",
       "      <th>1</th>\n",
       "      <td>Alabama</td>\n",
       "      <td>2 or 3 rooms</td>\n",
       "      <td>135880</td>\n",
       "      <td>AL</td>\n",
       "    </tr>\n",
       "    <tr>\n",
       "      <th>2</th>\n",
       "      <td>Alabama</td>\n",
       "      <td>4 or 5 rooms</td>\n",
       "      <td>652409</td>\n",
       "      <td>AL</td>\n",
       "    </tr>\n",
       "    <tr>\n",
       "      <th>3</th>\n",
       "      <td>Alabama</td>\n",
       "      <td>6 or 7 rooms</td>\n",
       "      <td>708144</td>\n",
       "      <td>AL</td>\n",
       "    </tr>\n",
       "    <tr>\n",
       "      <th>4</th>\n",
       "      <td>Alabama</td>\n",
       "      <td>8 or more rooms</td>\n",
       "      <td>497759</td>\n",
       "      <td>AL</td>\n",
       "    </tr>\n",
       "  </tbody>\n",
       "</table>\n",
       "</div>"
      ],
      "text/plain": [
       "     State            Value   Count Code\n",
       "0  Alabama           1 room   22256   AL\n",
       "1  Alabama     2 or 3 rooms  135880   AL\n",
       "2  Alabama     4 or 5 rooms  652409   AL\n",
       "3  Alabama     6 or 7 rooms  708144   AL\n",
       "4  Alabama  8 or more rooms  497759   AL"
      ]
     },
     "execution_count": 261,
     "metadata": {},
     "output_type": "execute_result"
    }
   ],
   "source": [
    "df_room_total.head()"
   ]
  },
  {
   "cell_type": "code",
   "execution_count": 262,
   "metadata": {},
   "outputs": [
    {
     "data": {
      "text/html": [
       "<div>\n",
       "<style scoped>\n",
       "    .dataframe tbody tr th:only-of-type {\n",
       "        vertical-align: middle;\n",
       "    }\n",
       "\n",
       "    .dataframe tbody tr th {\n",
       "        vertical-align: top;\n",
       "    }\n",
       "\n",
       "    .dataframe thead th {\n",
       "        text-align: right;\n",
       "    }\n",
       "</style>\n",
       "<table border=\"1\" class=\"dataframe\">\n",
       "  <thead>\n",
       "    <tr style=\"text-align: right;\">\n",
       "      <th></th>\n",
       "      <th>State</th>\n",
       "      <th>Value</th>\n",
       "      <th>Count</th>\n",
       "      <th>Code</th>\n",
       "    </tr>\n",
       "  </thead>\n",
       "  <tbody>\n",
       "    <tr>\n",
       "      <th>0</th>\n",
       "      <td>Alabama</td>\n",
       "      <td>1 room</td>\n",
       "      <td>4681</td>\n",
       "      <td>AL</td>\n",
       "    </tr>\n",
       "    <tr>\n",
       "      <th>1</th>\n",
       "      <td>Alabama</td>\n",
       "      <td>2 or 3 rooms</td>\n",
       "      <td>32531</td>\n",
       "      <td>AL</td>\n",
       "    </tr>\n",
       "    <tr>\n",
       "      <th>2</th>\n",
       "      <td>Alabama</td>\n",
       "      <td>4 or 5 rooms</td>\n",
       "      <td>357333</td>\n",
       "      <td>AL</td>\n",
       "    </tr>\n",
       "    <tr>\n",
       "      <th>3</th>\n",
       "      <td>Alabama</td>\n",
       "      <td>6 or 7 rooms</td>\n",
       "      <td>568715</td>\n",
       "      <td>AL</td>\n",
       "    </tr>\n",
       "    <tr>\n",
       "      <th>4</th>\n",
       "      <td>Alabama</td>\n",
       "      <td>8 or more rooms</td>\n",
       "      <td>453073</td>\n",
       "      <td>AL</td>\n",
       "    </tr>\n",
       "  </tbody>\n",
       "</table>\n",
       "</div>"
      ],
      "text/plain": [
       "     State            Value   Count Code\n",
       "0  Alabama           1 room    4681   AL\n",
       "1  Alabama     2 or 3 rooms   32531   AL\n",
       "2  Alabama     4 or 5 rooms  357333   AL\n",
       "3  Alabama     6 or 7 rooms  568715   AL\n",
       "4  Alabama  8 or more rooms  453073   AL"
      ]
     },
     "execution_count": 262,
     "metadata": {},
     "output_type": "execute_result"
    }
   ],
   "source": [
    "df_room_owner.head()"
   ]
  },
  {
   "cell_type": "code",
   "execution_count": 263,
   "metadata": {},
   "outputs": [
    {
     "data": {
      "text/html": [
       "<div>\n",
       "<style scoped>\n",
       "    .dataframe tbody tr th:only-of-type {\n",
       "        vertical-align: middle;\n",
       "    }\n",
       "\n",
       "    .dataframe tbody tr th {\n",
       "        vertical-align: top;\n",
       "    }\n",
       "\n",
       "    .dataframe thead th {\n",
       "        text-align: right;\n",
       "    }\n",
       "</style>\n",
       "<table border=\"1\" class=\"dataframe\">\n",
       "  <thead>\n",
       "    <tr style=\"text-align: right;\">\n",
       "      <th></th>\n",
       "      <th>State</th>\n",
       "      <th>Value</th>\n",
       "      <th>Count</th>\n",
       "      <th>Code</th>\n",
       "    </tr>\n",
       "  </thead>\n",
       "  <tbody>\n",
       "    <tr>\n",
       "      <th>0</th>\n",
       "      <td>Alabama</td>\n",
       "      <td>1 room</td>\n",
       "      <td>17575</td>\n",
       "      <td>AL</td>\n",
       "    </tr>\n",
       "    <tr>\n",
       "      <th>1</th>\n",
       "      <td>Alabama</td>\n",
       "      <td>2 or 3 rooms</td>\n",
       "      <td>103349</td>\n",
       "      <td>AL</td>\n",
       "    </tr>\n",
       "    <tr>\n",
       "      <th>2</th>\n",
       "      <td>Alabama</td>\n",
       "      <td>4 or 5 rooms</td>\n",
       "      <td>295076</td>\n",
       "      <td>AL</td>\n",
       "    </tr>\n",
       "    <tr>\n",
       "      <th>3</th>\n",
       "      <td>Alabama</td>\n",
       "      <td>6 or 7 rooms</td>\n",
       "      <td>139429</td>\n",
       "      <td>AL</td>\n",
       "    </tr>\n",
       "    <tr>\n",
       "      <th>4</th>\n",
       "      <td>Alabama</td>\n",
       "      <td>8 or more rooms</td>\n",
       "      <td>44686</td>\n",
       "      <td>AL</td>\n",
       "    </tr>\n",
       "  </tbody>\n",
       "</table>\n",
       "</div>"
      ],
      "text/plain": [
       "     State            Value   Count Code\n",
       "0  Alabama           1 room   17575   AL\n",
       "1  Alabama     2 or 3 rooms  103349   AL\n",
       "2  Alabama     4 or 5 rooms  295076   AL\n",
       "3  Alabama     6 or 7 rooms  139429   AL\n",
       "4  Alabama  8 or more rooms   44686   AL"
      ]
     },
     "execution_count": 263,
     "metadata": {},
     "output_type": "execute_result"
    }
   ],
   "source": [
    "df_room_renter.head()"
   ]
  },
  {
   "cell_type": "code",
   "execution_count": 264,
   "metadata": {},
   "outputs": [
    {
     "data": {
      "text/html": [
       "<div>\n",
       "<style scoped>\n",
       "    .dataframe tbody tr th:only-of-type {\n",
       "        vertical-align: middle;\n",
       "    }\n",
       "\n",
       "    .dataframe tbody tr th {\n",
       "        vertical-align: top;\n",
       "    }\n",
       "\n",
       "    .dataframe thead th {\n",
       "        text-align: right;\n",
       "    }\n",
       "</style>\n",
       "<table border=\"1\" class=\"dataframe\">\n",
       "  <thead>\n",
       "    <tr style=\"text-align: right;\">\n",
       "      <th></th>\n",
       "      <th>Alabama_total</th>\n",
       "      <th>Alabama_total_percent</th>\n",
       "      <th>Alabama_owner</th>\n",
       "      <th>Alabama_own_percent</th>\n",
       "      <th>Alabama_renter</th>\n",
       "      <th>Alabama_rent_percent</th>\n",
       "      <th>Alaska_total</th>\n",
       "      <th>Alaska_total_percent</th>\n",
       "      <th>Alaska_owner</th>\n",
       "      <th>Alaska_own_percent</th>\n",
       "      <th>...</th>\n",
       "      <th>Wyoming_owner</th>\n",
       "      <th>Wyoming_own_percent</th>\n",
       "      <th>Wyoming_renter</th>\n",
       "      <th>Wyoming_rent_percent</th>\n",
       "      <th>Puerto Rico_total</th>\n",
       "      <th>Puerto Rico_total_percent</th>\n",
       "      <th>Puerto Rico_owner</th>\n",
       "      <th>Puerto Rico_own_percent</th>\n",
       "      <th>Puerto Rico_renter</th>\n",
       "      <th>Puerto Rico_rent_percent</th>\n",
       "    </tr>\n",
       "    <tr>\n",
       "      <th>Label (Grouping)</th>\n",
       "      <th></th>\n",
       "      <th></th>\n",
       "      <th></th>\n",
       "      <th></th>\n",
       "      <th></th>\n",
       "      <th></th>\n",
       "      <th></th>\n",
       "      <th></th>\n",
       "      <th></th>\n",
       "      <th></th>\n",
       "      <th></th>\n",
       "      <th></th>\n",
       "      <th></th>\n",
       "      <th></th>\n",
       "      <th></th>\n",
       "      <th></th>\n",
       "      <th></th>\n",
       "      <th></th>\n",
       "      <th></th>\n",
       "      <th></th>\n",
       "      <th></th>\n",
       "    </tr>\n",
       "  </thead>\n",
       "  <tbody>\n",
       "    <tr>\n",
       "      <th>No bedroom</th>\n",
       "      <td>25,446</td>\n",
       "      <td>1.3%</td>\n",
       "      <td>6,976</td>\n",
       "      <td>0.5%</td>\n",
       "      <td>18,470</td>\n",
       "      <td>3.1%</td>\n",
       "      <td>12,100</td>\n",
       "      <td>4.4%</td>\n",
       "      <td>3,007</td>\n",
       "      <td>1.7%</td>\n",
       "      <td>...</td>\n",
       "      <td>1,503</td>\n",
       "      <td>0.8%</td>\n",
       "      <td>2,496</td>\n",
       "      <td>3.8%</td>\n",
       "      <td>19,816</td>\n",
       "      <td>1.5%</td>\n",
       "      <td>5,928</td>\n",
       "      <td>0.7%</td>\n",
       "      <td>13,888</td>\n",
       "      <td>3.3%</td>\n",
       "    </tr>\n",
       "    <tr>\n",
       "      <th>1 bedroom</th>\n",
       "      <td>119,508</td>\n",
       "      <td>5.9%</td>\n",
       "      <td>19,517</td>\n",
       "      <td>1.4%</td>\n",
       "      <td>99,991</td>\n",
       "      <td>16.7%</td>\n",
       "      <td>28,810</td>\n",
       "      <td>10.5%</td>\n",
       "      <td>11,510</td>\n",
       "      <td>6.3%</td>\n",
       "      <td>...</td>\n",
       "      <td>3,560</td>\n",
       "      <td>2.0%</td>\n",
       "      <td>14,044</td>\n",
       "      <td>21.1%</td>\n",
       "      <td>61,854</td>\n",
       "      <td>4.8%</td>\n",
       "      <td>18,135</td>\n",
       "      <td>2.1%</td>\n",
       "      <td>43,719</td>\n",
       "      <td>10.4%</td>\n",
       "    </tr>\n",
       "    <tr>\n",
       "      <th>2 or 3 bedrooms</th>\n",
       "      <td>1,383,847</td>\n",
       "      <td>68.6%</td>\n",
       "      <td>950,850</td>\n",
       "      <td>67.1%</td>\n",
       "      <td>432,997</td>\n",
       "      <td>72.2%</td>\n",
       "      <td>173,245</td>\n",
       "      <td>63.1%</td>\n",
       "      <td>114,575</td>\n",
       "      <td>63.1%</td>\n",
       "      <td>...</td>\n",
       "      <td>105,974</td>\n",
       "      <td>59.9%</td>\n",
       "      <td>44,039</td>\n",
       "      <td>66.3%</td>\n",
       "      <td>998,500</td>\n",
       "      <td>77.4%</td>\n",
       "      <td>676,336</td>\n",
       "      <td>77.8%</td>\n",
       "      <td>322,164</td>\n",
       "      <td>76.8%</td>\n",
       "    </tr>\n",
       "    <tr>\n",
       "      <th>4 or more bedrooms</th>\n",
       "      <td>487,647</td>\n",
       "      <td>24.2%</td>\n",
       "      <td>438,990</td>\n",
       "      <td>31.0%</td>\n",
       "      <td>48,657</td>\n",
       "      <td>8.1%</td>\n",
       "      <td>60,419</td>\n",
       "      <td>22.0%</td>\n",
       "      <td>52,494</td>\n",
       "      <td>28.9%</td>\n",
       "      <td>...</td>\n",
       "      <td>65,826</td>\n",
       "      <td>37.2%</td>\n",
       "      <td>5,879</td>\n",
       "      <td>8.8%</td>\n",
       "      <td>209,141</td>\n",
       "      <td>16.2%</td>\n",
       "      <td>169,236</td>\n",
       "      <td>19.5%</td>\n",
       "      <td>39,905</td>\n",
       "      <td>9.5%</td>\n",
       "    </tr>\n",
       "  </tbody>\n",
       "</table>\n",
       "<p>4 rows × 312 columns</p>\n",
       "</div>"
      ],
      "text/plain": [
       "                           Alabama_total Alabama_total_percent Alabama_owner  \\\n",
       "Label (Grouping)                                                               \n",
       "        No bedroom                25,446                  1.3%         6,976   \n",
       "        1 bedroom                119,508                  5.9%        19,517   \n",
       "        2 or 3 bedrooms        1,383,847                 68.6%       950,850   \n",
       "        4 or more bedrooms       487,647                 24.2%       438,990   \n",
       "\n",
       "                           Alabama_own_percent Alabama_renter  \\\n",
       "Label (Grouping)                                                \n",
       "        No bedroom                        0.5%         18,470   \n",
       "        1 bedroom                         1.4%         99,991   \n",
       "        2 or 3 bedrooms                  67.1%        432,997   \n",
       "        4 or more bedrooms               31.0%         48,657   \n",
       "\n",
       "                           Alabama_rent_percent Alaska_total  \\\n",
       "Label (Grouping)                                               \n",
       "        No bedroom                         3.1%       12,100   \n",
       "        1 bedroom                         16.7%       28,810   \n",
       "        2 or 3 bedrooms                   72.2%      173,245   \n",
       "        4 or more bedrooms                 8.1%       60,419   \n",
       "\n",
       "                           Alaska_total_percent Alaska_owner  \\\n",
       "Label (Grouping)                                               \n",
       "        No bedroom                         4.4%        3,007   \n",
       "        1 bedroom                         10.5%       11,510   \n",
       "        2 or 3 bedrooms                   63.1%      114,575   \n",
       "        4 or more bedrooms                22.0%       52,494   \n",
       "\n",
       "                           Alaska_own_percent  ... Wyoming_owner  \\\n",
       "Label (Grouping)                               ...                 \n",
       "        No bedroom                       1.7%  ...         1,503   \n",
       "        1 bedroom                        6.3%  ...         3,560   \n",
       "        2 or 3 bedrooms                 63.1%  ...       105,974   \n",
       "        4 or more bedrooms              28.9%  ...        65,826   \n",
       "\n",
       "                           Wyoming_own_percent Wyoming_renter  \\\n",
       "Label (Grouping)                                                \n",
       "        No bedroom                        0.8%          2,496   \n",
       "        1 bedroom                         2.0%         14,044   \n",
       "        2 or 3 bedrooms                  59.9%         44,039   \n",
       "        4 or more bedrooms               37.2%          5,879   \n",
       "\n",
       "                           Wyoming_rent_percent Puerto Rico_total  \\\n",
       "Label (Grouping)                                                    \n",
       "        No bedroom                         3.8%            19,816   \n",
       "        1 bedroom                         21.1%            61,854   \n",
       "        2 or 3 bedrooms                   66.3%           998,500   \n",
       "        4 or more bedrooms                 8.8%           209,141   \n",
       "\n",
       "                           Puerto Rico_total_percent Puerto Rico_owner  \\\n",
       "Label (Grouping)                                                         \n",
       "        No bedroom                              1.5%             5,928   \n",
       "        1 bedroom                               4.8%            18,135   \n",
       "        2 or 3 bedrooms                        77.4%           676,336   \n",
       "        4 or more bedrooms                     16.2%           169,236   \n",
       "\n",
       "                           Puerto Rico_own_percent Puerto Rico_renter  \\\n",
       "Label (Grouping)                                                        \n",
       "        No bedroom                            0.7%             13,888   \n",
       "        1 bedroom                             2.1%             43,719   \n",
       "        2 or 3 bedrooms                      77.8%            322,164   \n",
       "        4 or more bedrooms                   19.5%             39,905   \n",
       "\n",
       "                           Puerto Rico_rent_percent  \n",
       "Label (Grouping)                                     \n",
       "        No bedroom                             3.3%  \n",
       "        1 bedroom                             10.4%  \n",
       "        2 or 3 bedrooms                       76.8%  \n",
       "        4 or more bedrooms                     9.5%  \n",
       "\n",
       "[4 rows x 312 columns]"
      ]
     },
     "execution_count": 264,
     "metadata": {},
     "output_type": "execute_result"
    }
   ],
   "source": [
    "bedroom = house_char_data.iloc[[24,25,26,27]]\n",
    "bedroom.head()"
   ]
  },
  {
   "cell_type": "code",
   "execution_count": 265,
   "metadata": {},
   "outputs": [],
   "source": [
    "df_bed_total, df_bed_owner, df_bed_renter = data_cleanup(bedroom)"
   ]
  },
  {
   "cell_type": "code",
   "execution_count": 266,
   "metadata": {},
   "outputs": [
    {
     "data": {
      "text/html": [
       "<div>\n",
       "<style scoped>\n",
       "    .dataframe tbody tr th:only-of-type {\n",
       "        vertical-align: middle;\n",
       "    }\n",
       "\n",
       "    .dataframe tbody tr th {\n",
       "        vertical-align: top;\n",
       "    }\n",
       "\n",
       "    .dataframe thead th {\n",
       "        text-align: right;\n",
       "    }\n",
       "</style>\n",
       "<table border=\"1\" class=\"dataframe\">\n",
       "  <thead>\n",
       "    <tr style=\"text-align: right;\">\n",
       "      <th></th>\n",
       "      <th>State</th>\n",
       "      <th>Value</th>\n",
       "      <th>Count</th>\n",
       "      <th>Code</th>\n",
       "    </tr>\n",
       "  </thead>\n",
       "  <tbody>\n",
       "    <tr>\n",
       "      <th>0</th>\n",
       "      <td>Alabama</td>\n",
       "      <td>No bedroom</td>\n",
       "      <td>25446</td>\n",
       "      <td>AL</td>\n",
       "    </tr>\n",
       "    <tr>\n",
       "      <th>1</th>\n",
       "      <td>Alabama</td>\n",
       "      <td>1 bedroom</td>\n",
       "      <td>119508</td>\n",
       "      <td>AL</td>\n",
       "    </tr>\n",
       "    <tr>\n",
       "      <th>2</th>\n",
       "      <td>Alabama</td>\n",
       "      <td>2 or 3 bedrooms</td>\n",
       "      <td>1383847</td>\n",
       "      <td>AL</td>\n",
       "    </tr>\n",
       "    <tr>\n",
       "      <th>3</th>\n",
       "      <td>Alabama</td>\n",
       "      <td>4 or more bedrooms</td>\n",
       "      <td>487647</td>\n",
       "      <td>AL</td>\n",
       "    </tr>\n",
       "    <tr>\n",
       "      <th>4</th>\n",
       "      <td>Alaska</td>\n",
       "      <td>No bedroom</td>\n",
       "      <td>12100</td>\n",
       "      <td>AK</td>\n",
       "    </tr>\n",
       "  </tbody>\n",
       "</table>\n",
       "</div>"
      ],
      "text/plain": [
       "     State               Value    Count Code\n",
       "0  Alabama          No bedroom    25446   AL\n",
       "1  Alabama           1 bedroom   119508   AL\n",
       "2  Alabama     2 or 3 bedrooms  1383847   AL\n",
       "3  Alabama  4 or more bedrooms   487647   AL\n",
       "4   Alaska          No bedroom    12100   AK"
      ]
     },
     "execution_count": 266,
     "metadata": {},
     "output_type": "execute_result"
    }
   ],
   "source": [
    "df_bed_total.head()"
   ]
  },
  {
   "cell_type": "code",
   "execution_count": 267,
   "metadata": {},
   "outputs": [
    {
     "data": {
      "text/html": [
       "<div>\n",
       "<style scoped>\n",
       "    .dataframe tbody tr th:only-of-type {\n",
       "        vertical-align: middle;\n",
       "    }\n",
       "\n",
       "    .dataframe tbody tr th {\n",
       "        vertical-align: top;\n",
       "    }\n",
       "\n",
       "    .dataframe thead th {\n",
       "        text-align: right;\n",
       "    }\n",
       "</style>\n",
       "<table border=\"1\" class=\"dataframe\">\n",
       "  <thead>\n",
       "    <tr style=\"text-align: right;\">\n",
       "      <th></th>\n",
       "      <th>State</th>\n",
       "      <th>Value</th>\n",
       "      <th>Count</th>\n",
       "      <th>Code</th>\n",
       "    </tr>\n",
       "  </thead>\n",
       "  <tbody>\n",
       "    <tr>\n",
       "      <th>0</th>\n",
       "      <td>Alabama</td>\n",
       "      <td>No bedroom</td>\n",
       "      <td>6976</td>\n",
       "      <td>AL</td>\n",
       "    </tr>\n",
       "    <tr>\n",
       "      <th>1</th>\n",
       "      <td>Alabama</td>\n",
       "      <td>1 bedroom</td>\n",
       "      <td>19517</td>\n",
       "      <td>AL</td>\n",
       "    </tr>\n",
       "    <tr>\n",
       "      <th>2</th>\n",
       "      <td>Alabama</td>\n",
       "      <td>2 or 3 bedrooms</td>\n",
       "      <td>950850</td>\n",
       "      <td>AL</td>\n",
       "    </tr>\n",
       "    <tr>\n",
       "      <th>3</th>\n",
       "      <td>Alabama</td>\n",
       "      <td>4 or more bedrooms</td>\n",
       "      <td>438990</td>\n",
       "      <td>AL</td>\n",
       "    </tr>\n",
       "    <tr>\n",
       "      <th>4</th>\n",
       "      <td>Alaska</td>\n",
       "      <td>No bedroom</td>\n",
       "      <td>3007</td>\n",
       "      <td>AK</td>\n",
       "    </tr>\n",
       "  </tbody>\n",
       "</table>\n",
       "</div>"
      ],
      "text/plain": [
       "     State               Value   Count Code\n",
       "0  Alabama          No bedroom    6976   AL\n",
       "1  Alabama           1 bedroom   19517   AL\n",
       "2  Alabama     2 or 3 bedrooms  950850   AL\n",
       "3  Alabama  4 or more bedrooms  438990   AL\n",
       "4   Alaska          No bedroom    3007   AK"
      ]
     },
     "execution_count": 267,
     "metadata": {},
     "output_type": "execute_result"
    }
   ],
   "source": [
    "df_bed_owner.head()"
   ]
  },
  {
   "cell_type": "code",
   "execution_count": 268,
   "metadata": {},
   "outputs": [
    {
     "data": {
      "text/html": [
       "<div>\n",
       "<style scoped>\n",
       "    .dataframe tbody tr th:only-of-type {\n",
       "        vertical-align: middle;\n",
       "    }\n",
       "\n",
       "    .dataframe tbody tr th {\n",
       "        vertical-align: top;\n",
       "    }\n",
       "\n",
       "    .dataframe thead th {\n",
       "        text-align: right;\n",
       "    }\n",
       "</style>\n",
       "<table border=\"1\" class=\"dataframe\">\n",
       "  <thead>\n",
       "    <tr style=\"text-align: right;\">\n",
       "      <th></th>\n",
       "      <th>State</th>\n",
       "      <th>Value</th>\n",
       "      <th>Count</th>\n",
       "      <th>Code</th>\n",
       "    </tr>\n",
       "  </thead>\n",
       "  <tbody>\n",
       "    <tr>\n",
       "      <th>0</th>\n",
       "      <td>Alabama</td>\n",
       "      <td>No bedroom</td>\n",
       "      <td>18470</td>\n",
       "      <td>AL</td>\n",
       "    </tr>\n",
       "    <tr>\n",
       "      <th>1</th>\n",
       "      <td>Alabama</td>\n",
       "      <td>1 bedroom</td>\n",
       "      <td>99991</td>\n",
       "      <td>AL</td>\n",
       "    </tr>\n",
       "    <tr>\n",
       "      <th>2</th>\n",
       "      <td>Alabama</td>\n",
       "      <td>2 or 3 bedrooms</td>\n",
       "      <td>432997</td>\n",
       "      <td>AL</td>\n",
       "    </tr>\n",
       "    <tr>\n",
       "      <th>3</th>\n",
       "      <td>Alabama</td>\n",
       "      <td>4 or more bedrooms</td>\n",
       "      <td>48657</td>\n",
       "      <td>AL</td>\n",
       "    </tr>\n",
       "    <tr>\n",
       "      <th>4</th>\n",
       "      <td>Alaska</td>\n",
       "      <td>No bedroom</td>\n",
       "      <td>9093</td>\n",
       "      <td>AK</td>\n",
       "    </tr>\n",
       "  </tbody>\n",
       "</table>\n",
       "</div>"
      ],
      "text/plain": [
       "     State               Value   Count Code\n",
       "0  Alabama          No bedroom   18470   AL\n",
       "1  Alabama           1 bedroom   99991   AL\n",
       "2  Alabama     2 or 3 bedrooms  432997   AL\n",
       "3  Alabama  4 or more bedrooms   48657   AL\n",
       "4   Alaska          No bedroom    9093   AK"
      ]
     },
     "execution_count": 268,
     "metadata": {},
     "output_type": "execute_result"
    }
   ],
   "source": [
    "df_bed_renter.head()"
   ]
  },
  {
   "cell_type": "code",
   "execution_count": 269,
   "metadata": {},
   "outputs": [
    {
     "data": {
      "text/html": [
       "<div>\n",
       "<style scoped>\n",
       "    .dataframe tbody tr th:only-of-type {\n",
       "        vertical-align: middle;\n",
       "    }\n",
       "\n",
       "    .dataframe tbody tr th {\n",
       "        vertical-align: top;\n",
       "    }\n",
       "\n",
       "    .dataframe thead th {\n",
       "        text-align: right;\n",
       "    }\n",
       "</style>\n",
       "<table border=\"1\" class=\"dataframe\">\n",
       "  <thead>\n",
       "    <tr style=\"text-align: right;\">\n",
       "      <th></th>\n",
       "      <th>Alabama_total</th>\n",
       "      <th>Alabama_total_percent</th>\n",
       "      <th>Alabama_owner</th>\n",
       "      <th>Alabama_own_percent</th>\n",
       "      <th>Alabama_renter</th>\n",
       "      <th>Alabama_rent_percent</th>\n",
       "      <th>Alaska_total</th>\n",
       "      <th>Alaska_total_percent</th>\n",
       "      <th>Alaska_owner</th>\n",
       "      <th>Alaska_own_percent</th>\n",
       "      <th>...</th>\n",
       "      <th>Wyoming_owner</th>\n",
       "      <th>Wyoming_own_percent</th>\n",
       "      <th>Wyoming_renter</th>\n",
       "      <th>Wyoming_rent_percent</th>\n",
       "      <th>Puerto Rico_total</th>\n",
       "      <th>Puerto Rico_total_percent</th>\n",
       "      <th>Puerto Rico_owner</th>\n",
       "      <th>Puerto Rico_own_percent</th>\n",
       "      <th>Puerto Rico_renter</th>\n",
       "      <th>Puerto Rico_rent_percent</th>\n",
       "    </tr>\n",
       "    <tr>\n",
       "      <th>Label (Grouping)</th>\n",
       "      <th></th>\n",
       "      <th></th>\n",
       "      <th></th>\n",
       "      <th></th>\n",
       "      <th></th>\n",
       "      <th></th>\n",
       "      <th></th>\n",
       "      <th></th>\n",
       "      <th></th>\n",
       "      <th></th>\n",
       "      <th></th>\n",
       "      <th></th>\n",
       "      <th></th>\n",
       "      <th></th>\n",
       "      <th></th>\n",
       "      <th></th>\n",
       "      <th></th>\n",
       "      <th></th>\n",
       "      <th></th>\n",
       "      <th></th>\n",
       "      <th></th>\n",
       "    </tr>\n",
       "  </thead>\n",
       "  <tbody>\n",
       "    <tr>\n",
       "      <th>No vehicle available</th>\n",
       "      <td>105,803</td>\n",
       "      <td>5.2%</td>\n",
       "      <td>38,015</td>\n",
       "      <td>2.7%</td>\n",
       "      <td>67,788</td>\n",
       "      <td>11.3%</td>\n",
       "      <td>24,877</td>\n",
       "      <td>9.1%</td>\n",
       "      <td>11,554</td>\n",
       "      <td>6.4%</td>\n",
       "      <td>...</td>\n",
       "      <td>3,213</td>\n",
       "      <td>1.8%</td>\n",
       "      <td>6,813</td>\n",
       "      <td>10.3%</td>\n",
       "      <td>166,871</td>\n",
       "      <td>12.9%</td>\n",
       "      <td>83,863</td>\n",
       "      <td>9.6%</td>\n",
       "      <td>83,008</td>\n",
       "      <td>19.8%</td>\n",
       "    </tr>\n",
       "    <tr>\n",
       "      <th>1 vehicle available</th>\n",
       "      <td>636,767</td>\n",
       "      <td>31.6%</td>\n",
       "      <td>338,136</td>\n",
       "      <td>23.9%</td>\n",
       "      <td>298,631</td>\n",
       "      <td>49.8%</td>\n",
       "      <td>84,808</td>\n",
       "      <td>30.9%</td>\n",
       "      <td>39,654</td>\n",
       "      <td>21.8%</td>\n",
       "      <td>...</td>\n",
       "      <td>34,868</td>\n",
       "      <td>19.7%</td>\n",
       "      <td>29,075</td>\n",
       "      <td>43.7%</td>\n",
       "      <td>517,633</td>\n",
       "      <td>40.1%</td>\n",
       "      <td>315,782</td>\n",
       "      <td>36.3%</td>\n",
       "      <td>201,851</td>\n",
       "      <td>48.1%</td>\n",
       "    </tr>\n",
       "    <tr>\n",
       "      <th>2 vehicles available</th>\n",
       "      <td>743,303</td>\n",
       "      <td>36.9%</td>\n",
       "      <td>575,831</td>\n",
       "      <td>40.7%</td>\n",
       "      <td>167,472</td>\n",
       "      <td>27.9%</td>\n",
       "      <td>99,642</td>\n",
       "      <td>36.3%</td>\n",
       "      <td>74,592</td>\n",
       "      <td>41.1%</td>\n",
       "      <td>...</td>\n",
       "      <td>63,076</td>\n",
       "      <td>35.7%</td>\n",
       "      <td>21,711</td>\n",
       "      <td>32.7%</td>\n",
       "      <td>401,292</td>\n",
       "      <td>31.1%</td>\n",
       "      <td>301,060</td>\n",
       "      <td>34.6%</td>\n",
       "      <td>100,232</td>\n",
       "      <td>23.9%</td>\n",
       "    </tr>\n",
       "    <tr>\n",
       "      <th>3 or more vehicles available</th>\n",
       "      <td>530,575</td>\n",
       "      <td>26.3%</td>\n",
       "      <td>464,351</td>\n",
       "      <td>32.8%</td>\n",
       "      <td>66,224</td>\n",
       "      <td>11.0%</td>\n",
       "      <td>65,247</td>\n",
       "      <td>23.8%</td>\n",
       "      <td>55,786</td>\n",
       "      <td>30.7%</td>\n",
       "      <td>...</td>\n",
       "      <td>75,706</td>\n",
       "      <td>42.8%</td>\n",
       "      <td>8,859</td>\n",
       "      <td>13.3%</td>\n",
       "      <td>203,515</td>\n",
       "      <td>15.8%</td>\n",
       "      <td>168,930</td>\n",
       "      <td>19.4%</td>\n",
       "      <td>34,585</td>\n",
       "      <td>8.2%</td>\n",
       "    </tr>\n",
       "  </tbody>\n",
       "</table>\n",
       "<p>4 rows × 312 columns</p>\n",
       "</div>"
      ],
      "text/plain": [
       "                                     Alabama_total Alabama_total_percent  \\\n",
       "Label (Grouping)                                                           \n",
       "        No vehicle available               105,803                  5.2%   \n",
       "        1 vehicle available                636,767                 31.6%   \n",
       "        2 vehicles available               743,303                 36.9%   \n",
       "        3 or more vehicles available       530,575                 26.3%   \n",
       "\n",
       "                                     Alabama_owner Alabama_own_percent  \\\n",
       "Label (Grouping)                                                         \n",
       "        No vehicle available                38,015                2.7%   \n",
       "        1 vehicle available                338,136               23.9%   \n",
       "        2 vehicles available               575,831               40.7%   \n",
       "        3 or more vehicles available       464,351               32.8%   \n",
       "\n",
       "                                     Alabama_renter Alabama_rent_percent  \\\n",
       "Label (Grouping)                                                           \n",
       "        No vehicle available                 67,788                11.3%   \n",
       "        1 vehicle available                 298,631                49.8%   \n",
       "        2 vehicles available                167,472                27.9%   \n",
       "        3 or more vehicles available         66,224                11.0%   \n",
       "\n",
       "                                     Alaska_total Alaska_total_percent  \\\n",
       "Label (Grouping)                                                         \n",
       "        No vehicle available               24,877                 9.1%   \n",
       "        1 vehicle available                84,808                30.9%   \n",
       "        2 vehicles available               99,642                36.3%   \n",
       "        3 or more vehicles available       65,247                23.8%   \n",
       "\n",
       "                                     Alaska_owner Alaska_own_percent  ...  \\\n",
       "Label (Grouping)                                                      ...   \n",
       "        No vehicle available               11,554               6.4%  ...   \n",
       "        1 vehicle available                39,654              21.8%  ...   \n",
       "        2 vehicles available               74,592              41.1%  ...   \n",
       "        3 or more vehicles available       55,786              30.7%  ...   \n",
       "\n",
       "                                     Wyoming_owner Wyoming_own_percent  \\\n",
       "Label (Grouping)                                                         \n",
       "        No vehicle available                 3,213                1.8%   \n",
       "        1 vehicle available                 34,868               19.7%   \n",
       "        2 vehicles available                63,076               35.7%   \n",
       "        3 or more vehicles available        75,706               42.8%   \n",
       "\n",
       "                                     Wyoming_renter Wyoming_rent_percent  \\\n",
       "Label (Grouping)                                                           \n",
       "        No vehicle available                  6,813                10.3%   \n",
       "        1 vehicle available                  29,075                43.7%   \n",
       "        2 vehicles available                 21,711                32.7%   \n",
       "        3 or more vehicles available          8,859                13.3%   \n",
       "\n",
       "                                     Puerto Rico_total  \\\n",
       "Label (Grouping)                                         \n",
       "        No vehicle available                   166,871   \n",
       "        1 vehicle available                    517,633   \n",
       "        2 vehicles available                   401,292   \n",
       "        3 or more vehicles available           203,515   \n",
       "\n",
       "                                     Puerto Rico_total_percent  \\\n",
       "Label (Grouping)                                                 \n",
       "        No vehicle available                             12.9%   \n",
       "        1 vehicle available                              40.1%   \n",
       "        2 vehicles available                             31.1%   \n",
       "        3 or more vehicles available                     15.8%   \n",
       "\n",
       "                                     Puerto Rico_owner  \\\n",
       "Label (Grouping)                                         \n",
       "        No vehicle available                    83,863   \n",
       "        1 vehicle available                    315,782   \n",
       "        2 vehicles available                   301,060   \n",
       "        3 or more vehicles available           168,930   \n",
       "\n",
       "                                     Puerto Rico_own_percent  \\\n",
       "Label (Grouping)                                               \n",
       "        No vehicle available                            9.6%   \n",
       "        1 vehicle available                            36.3%   \n",
       "        2 vehicles available                           34.6%   \n",
       "        3 or more vehicles available                   19.4%   \n",
       "\n",
       "                                     Puerto Rico_renter  \\\n",
       "Label (Grouping)                                          \n",
       "        No vehicle available                     83,008   \n",
       "        1 vehicle available                     201,851   \n",
       "        2 vehicles available                    100,232   \n",
       "        3 or more vehicles available             34,585   \n",
       "\n",
       "                                     Puerto Rico_rent_percent  \n",
       "Label (Grouping)                                               \n",
       "        No vehicle available                            19.8%  \n",
       "        1 vehicle available                             48.1%  \n",
       "        2 vehicles available                            23.9%  \n",
       "        3 or more vehicles available                     8.2%  \n",
       "\n",
       "[4 rows x 312 columns]"
      ]
     },
     "execution_count": 269,
     "metadata": {},
     "output_type": "execute_result"
    }
   ],
   "source": [
    "vehicles = house_char_data.iloc[[32,33,34,35]]\n",
    "vehicles.head()"
   ]
  },
  {
   "cell_type": "code",
   "execution_count": 270,
   "metadata": {},
   "outputs": [],
   "source": [
    "df_car_total, df_car_owner, df_car_renter = data_cleanup(vehicles)"
   ]
  },
  {
   "cell_type": "code",
   "execution_count": 271,
   "metadata": {},
   "outputs": [
    {
     "data": {
      "text/html": [
       "<div>\n",
       "<style scoped>\n",
       "    .dataframe tbody tr th:only-of-type {\n",
       "        vertical-align: middle;\n",
       "    }\n",
       "\n",
       "    .dataframe tbody tr th {\n",
       "        vertical-align: top;\n",
       "    }\n",
       "\n",
       "    .dataframe thead th {\n",
       "        text-align: right;\n",
       "    }\n",
       "</style>\n",
       "<table border=\"1\" class=\"dataframe\">\n",
       "  <thead>\n",
       "    <tr style=\"text-align: right;\">\n",
       "      <th></th>\n",
       "      <th>State</th>\n",
       "      <th>Value</th>\n",
       "      <th>Count</th>\n",
       "      <th>Code</th>\n",
       "    </tr>\n",
       "  </thead>\n",
       "  <tbody>\n",
       "    <tr>\n",
       "      <th>0</th>\n",
       "      <td>Alabama</td>\n",
       "      <td>No vehicle available</td>\n",
       "      <td>105803</td>\n",
       "      <td>AL</td>\n",
       "    </tr>\n",
       "    <tr>\n",
       "      <th>1</th>\n",
       "      <td>Alabama</td>\n",
       "      <td>1 vehicle available</td>\n",
       "      <td>636767</td>\n",
       "      <td>AL</td>\n",
       "    </tr>\n",
       "    <tr>\n",
       "      <th>2</th>\n",
       "      <td>Alabama</td>\n",
       "      <td>2 vehicles available</td>\n",
       "      <td>743303</td>\n",
       "      <td>AL</td>\n",
       "    </tr>\n",
       "    <tr>\n",
       "      <th>3</th>\n",
       "      <td>Alabama</td>\n",
       "      <td>3 or more vehicles available</td>\n",
       "      <td>530575</td>\n",
       "      <td>AL</td>\n",
       "    </tr>\n",
       "    <tr>\n",
       "      <th>4</th>\n",
       "      <td>Alaska</td>\n",
       "      <td>No vehicle available</td>\n",
       "      <td>24877</td>\n",
       "      <td>AK</td>\n",
       "    </tr>\n",
       "  </tbody>\n",
       "</table>\n",
       "</div>"
      ],
      "text/plain": [
       "     State                         Value   Count Code\n",
       "0  Alabama          No vehicle available  105803   AL\n",
       "1  Alabama           1 vehicle available  636767   AL\n",
       "2  Alabama          2 vehicles available  743303   AL\n",
       "3  Alabama  3 or more vehicles available  530575   AL\n",
       "4   Alaska          No vehicle available   24877   AK"
      ]
     },
     "execution_count": 271,
     "metadata": {},
     "output_type": "execute_result"
    }
   ],
   "source": [
    "df_car_total.head()"
   ]
  },
  {
   "cell_type": "code",
   "execution_count": 272,
   "metadata": {},
   "outputs": [
    {
     "data": {
      "text/html": [
       "<div>\n",
       "<style scoped>\n",
       "    .dataframe tbody tr th:only-of-type {\n",
       "        vertical-align: middle;\n",
       "    }\n",
       "\n",
       "    .dataframe tbody tr th {\n",
       "        vertical-align: top;\n",
       "    }\n",
       "\n",
       "    .dataframe thead th {\n",
       "        text-align: right;\n",
       "    }\n",
       "</style>\n",
       "<table border=\"1\" class=\"dataframe\">\n",
       "  <thead>\n",
       "    <tr style=\"text-align: right;\">\n",
       "      <th></th>\n",
       "      <th>State</th>\n",
       "      <th>Value</th>\n",
       "      <th>Count</th>\n",
       "      <th>Code</th>\n",
       "    </tr>\n",
       "  </thead>\n",
       "  <tbody>\n",
       "    <tr>\n",
       "      <th>0</th>\n",
       "      <td>Alabama</td>\n",
       "      <td>No vehicle available</td>\n",
       "      <td>38015</td>\n",
       "      <td>AL</td>\n",
       "    </tr>\n",
       "    <tr>\n",
       "      <th>1</th>\n",
       "      <td>Alabama</td>\n",
       "      <td>1 vehicle available</td>\n",
       "      <td>338136</td>\n",
       "      <td>AL</td>\n",
       "    </tr>\n",
       "    <tr>\n",
       "      <th>2</th>\n",
       "      <td>Alabama</td>\n",
       "      <td>2 vehicles available</td>\n",
       "      <td>575831</td>\n",
       "      <td>AL</td>\n",
       "    </tr>\n",
       "    <tr>\n",
       "      <th>3</th>\n",
       "      <td>Alabama</td>\n",
       "      <td>3 or more vehicles available</td>\n",
       "      <td>464351</td>\n",
       "      <td>AL</td>\n",
       "    </tr>\n",
       "    <tr>\n",
       "      <th>4</th>\n",
       "      <td>Alaska</td>\n",
       "      <td>No vehicle available</td>\n",
       "      <td>11554</td>\n",
       "      <td>AK</td>\n",
       "    </tr>\n",
       "  </tbody>\n",
       "</table>\n",
       "</div>"
      ],
      "text/plain": [
       "     State                         Value   Count Code\n",
       "0  Alabama          No vehicle available   38015   AL\n",
       "1  Alabama           1 vehicle available  338136   AL\n",
       "2  Alabama          2 vehicles available  575831   AL\n",
       "3  Alabama  3 or more vehicles available  464351   AL\n",
       "4   Alaska          No vehicle available   11554   AK"
      ]
     },
     "execution_count": 272,
     "metadata": {},
     "output_type": "execute_result"
    }
   ],
   "source": [
    "df_car_owner.head()"
   ]
  },
  {
   "cell_type": "code",
   "execution_count": 273,
   "metadata": {},
   "outputs": [
    {
     "data": {
      "text/html": [
       "<div>\n",
       "<style scoped>\n",
       "    .dataframe tbody tr th:only-of-type {\n",
       "        vertical-align: middle;\n",
       "    }\n",
       "\n",
       "    .dataframe tbody tr th {\n",
       "        vertical-align: top;\n",
       "    }\n",
       "\n",
       "    .dataframe thead th {\n",
       "        text-align: right;\n",
       "    }\n",
       "</style>\n",
       "<table border=\"1\" class=\"dataframe\">\n",
       "  <thead>\n",
       "    <tr style=\"text-align: right;\">\n",
       "      <th></th>\n",
       "      <th>State</th>\n",
       "      <th>Value</th>\n",
       "      <th>Count</th>\n",
       "      <th>Code</th>\n",
       "    </tr>\n",
       "  </thead>\n",
       "  <tbody>\n",
       "    <tr>\n",
       "      <th>0</th>\n",
       "      <td>Alabama</td>\n",
       "      <td>No vehicle available</td>\n",
       "      <td>67788</td>\n",
       "      <td>AL</td>\n",
       "    </tr>\n",
       "    <tr>\n",
       "      <th>1</th>\n",
       "      <td>Alabama</td>\n",
       "      <td>1 vehicle available</td>\n",
       "      <td>298631</td>\n",
       "      <td>AL</td>\n",
       "    </tr>\n",
       "    <tr>\n",
       "      <th>2</th>\n",
       "      <td>Alabama</td>\n",
       "      <td>2 vehicles available</td>\n",
       "      <td>167472</td>\n",
       "      <td>AL</td>\n",
       "    </tr>\n",
       "    <tr>\n",
       "      <th>3</th>\n",
       "      <td>Alabama</td>\n",
       "      <td>3 or more vehicles available</td>\n",
       "      <td>66224</td>\n",
       "      <td>AL</td>\n",
       "    </tr>\n",
       "    <tr>\n",
       "      <th>4</th>\n",
       "      <td>Alaska</td>\n",
       "      <td>No vehicle available</td>\n",
       "      <td>13323</td>\n",
       "      <td>AK</td>\n",
       "    </tr>\n",
       "  </tbody>\n",
       "</table>\n",
       "</div>"
      ],
      "text/plain": [
       "     State                         Value   Count Code\n",
       "0  Alabama          No vehicle available   67788   AL\n",
       "1  Alabama           1 vehicle available  298631   AL\n",
       "2  Alabama          2 vehicles available  167472   AL\n",
       "3  Alabama  3 or more vehicles available   66224   AL\n",
       "4   Alaska          No vehicle available   13323   AK"
      ]
     },
     "execution_count": 273,
     "metadata": {},
     "output_type": "execute_result"
    }
   ],
   "source": [
    "df_car_renter.head()"
   ]
  },
  {
   "cell_type": "code",
   "execution_count": 274,
   "metadata": {},
   "outputs": [
    {
     "data": {
      "text/html": [
       "<div>\n",
       "<style scoped>\n",
       "    .dataframe tbody tr th:only-of-type {\n",
       "        vertical-align: middle;\n",
       "    }\n",
       "\n",
       "    .dataframe tbody tr th {\n",
       "        vertical-align: top;\n",
       "    }\n",
       "\n",
       "    .dataframe thead th {\n",
       "        text-align: right;\n",
       "    }\n",
       "</style>\n",
       "<table border=\"1\" class=\"dataframe\">\n",
       "  <thead>\n",
       "    <tr style=\"text-align: right;\">\n",
       "      <th></th>\n",
       "      <th>Alabama_total</th>\n",
       "      <th>Alabama_total_percent</th>\n",
       "      <th>Alabama_owner</th>\n",
       "      <th>Alabama_own_percent</th>\n",
       "      <th>Alabama_renter</th>\n",
       "      <th>Alabama_rent_percent</th>\n",
       "      <th>Alaska_total</th>\n",
       "      <th>Alaska_total_percent</th>\n",
       "      <th>Alaska_owner</th>\n",
       "      <th>Alaska_own_percent</th>\n",
       "      <th>...</th>\n",
       "      <th>Wyoming_owner</th>\n",
       "      <th>Wyoming_own_percent</th>\n",
       "      <th>Wyoming_renter</th>\n",
       "      <th>Wyoming_rent_percent</th>\n",
       "      <th>Puerto Rico_total</th>\n",
       "      <th>Puerto Rico_total_percent</th>\n",
       "      <th>Puerto Rico_owner</th>\n",
       "      <th>Puerto Rico_own_percent</th>\n",
       "      <th>Puerto Rico_renter</th>\n",
       "      <th>Puerto Rico_rent_percent</th>\n",
       "    </tr>\n",
       "    <tr>\n",
       "      <th>Label (Grouping)</th>\n",
       "      <th></th>\n",
       "      <th></th>\n",
       "      <th></th>\n",
       "      <th></th>\n",
       "      <th></th>\n",
       "      <th></th>\n",
       "      <th></th>\n",
       "      <th></th>\n",
       "      <th></th>\n",
       "      <th></th>\n",
       "      <th></th>\n",
       "      <th></th>\n",
       "      <th></th>\n",
       "      <th></th>\n",
       "      <th></th>\n",
       "      <th></th>\n",
       "      <th></th>\n",
       "      <th></th>\n",
       "      <th></th>\n",
       "      <th></th>\n",
       "      <th></th>\n",
       "    </tr>\n",
       "  </thead>\n",
       "  <tbody>\n",
       "    <tr>\n",
       "      <th>Electricity</th>\n",
       "      <td>1,366,095</td>\n",
       "      <td>67.7%</td>\n",
       "      <td>904,767</td>\n",
       "      <td>63.9%</td>\n",
       "      <td>461,328</td>\n",
       "      <td>76.9%</td>\n",
       "      <td>41,891</td>\n",
       "      <td>15.3%</td>\n",
       "      <td>15,650</td>\n",
       "      <td>8.6%</td>\n",
       "      <td>...</td>\n",
       "      <td>28,291</td>\n",
       "      <td>16.0%</td>\n",
       "      <td>27,151</td>\n",
       "      <td>40.9%</td>\n",
       "      <td>124,002</td>\n",
       "      <td>9.6%</td>\n",
       "      <td>100,837</td>\n",
       "      <td>11.6%</td>\n",
       "      <td>23,165</td>\n",
       "      <td>5.5%</td>\n",
       "    </tr>\n",
       "    <tr>\n",
       "      <th>Fuel oil, kerosene, etc.</th>\n",
       "      <td>2,610</td>\n",
       "      <td>0.1%</td>\n",
       "      <td>1,073</td>\n",
       "      <td>0.1%</td>\n",
       "      <td>1,537</td>\n",
       "      <td>0.3%</td>\n",
       "      <td>77,028</td>\n",
       "      <td>28.1%</td>\n",
       "      <td>53,243</td>\n",
       "      <td>29.3%</td>\n",
       "      <td>...</td>\n",
       "      <td>381</td>\n",
       "      <td>0.2%</td>\n",
       "      <td>228</td>\n",
       "      <td>0.3%</td>\n",
       "      <td>0</td>\n",
       "      <td>0.0%</td>\n",
       "      <td>0</td>\n",
       "      <td>0.0%</td>\n",
       "      <td>0</td>\n",
       "      <td>0.0%</td>\n",
       "    </tr>\n",
       "    <tr>\n",
       "      <th>Coal or coke</th>\n",
       "      <td>199</td>\n",
       "      <td>0.0%</td>\n",
       "      <td>0</td>\n",
       "      <td>0.0%</td>\n",
       "      <td>199</td>\n",
       "      <td>0.0%</td>\n",
       "      <td>278</td>\n",
       "      <td>0.1%</td>\n",
       "      <td>105</td>\n",
       "      <td>0.1%</td>\n",
       "      <td>...</td>\n",
       "      <td>469</td>\n",
       "      <td>0.3%</td>\n",
       "      <td>27</td>\n",
       "      <td>0.0%</td>\n",
       "      <td>103</td>\n",
       "      <td>0.0%</td>\n",
       "      <td>103</td>\n",
       "      <td>0.0%</td>\n",
       "      <td>0</td>\n",
       "      <td>0.0%</td>\n",
       "    </tr>\n",
       "    <tr>\n",
       "      <th>All other fuels</th>\n",
       "      <td>16,376</td>\n",
       "      <td>0.8%</td>\n",
       "      <td>13,440</td>\n",
       "      <td>0.9%</td>\n",
       "      <td>2,936</td>\n",
       "      <td>0.5%</td>\n",
       "      <td>16,756</td>\n",
       "      <td>6.1%</td>\n",
       "      <td>12,905</td>\n",
       "      <td>7.1%</td>\n",
       "      <td>...</td>\n",
       "      <td>10,553</td>\n",
       "      <td>6.0%</td>\n",
       "      <td>2,756</td>\n",
       "      <td>4.1%</td>\n",
       "      <td>13,631</td>\n",
       "      <td>1.1%</td>\n",
       "      <td>13,161</td>\n",
       "      <td>1.5%</td>\n",
       "      <td>470</td>\n",
       "      <td>0.1%</td>\n",
       "    </tr>\n",
       "    <tr>\n",
       "      <th>No fuel used</th>\n",
       "      <td>14,076</td>\n",
       "      <td>0.7%</td>\n",
       "      <td>8,635</td>\n",
       "      <td>0.6%</td>\n",
       "      <td>5,441</td>\n",
       "      <td>0.9%</td>\n",
       "      <td>1,677</td>\n",
       "      <td>0.6%</td>\n",
       "      <td>669</td>\n",
       "      <td>0.4%</td>\n",
       "      <td>...</td>\n",
       "      <td>1,098</td>\n",
       "      <td>0.6%</td>\n",
       "      <td>500</td>\n",
       "      <td>0.8%</td>\n",
       "      <td>1,140,913</td>\n",
       "      <td>88.5%</td>\n",
       "      <td>746,305</td>\n",
       "      <td>85.8%</td>\n",
       "      <td>394,608</td>\n",
       "      <td>94.0%</td>\n",
       "    </tr>\n",
       "  </tbody>\n",
       "</table>\n",
       "<p>5 rows × 312 columns</p>\n",
       "</div>"
      ],
      "text/plain": [
       "                                 Alabama_total Alabama_total_percent  \\\n",
       "Label (Grouping)                                                       \n",
       "        Electricity                  1,366,095                 67.7%   \n",
       "        Fuel oil, kerosene, etc.         2,610                  0.1%   \n",
       "        Coal or coke                       199                  0.0%   \n",
       "        All other fuels                 16,376                  0.8%   \n",
       "        No fuel used                    14,076                  0.7%   \n",
       "\n",
       "                                 Alabama_owner Alabama_own_percent  \\\n",
       "Label (Grouping)                                                     \n",
       "        Electricity                    904,767               63.9%   \n",
       "        Fuel oil, kerosene, etc.         1,073                0.1%   \n",
       "        Coal or coke                         0                0.0%   \n",
       "        All other fuels                 13,440                0.9%   \n",
       "        No fuel used                     8,635                0.6%   \n",
       "\n",
       "                                 Alabama_renter Alabama_rent_percent  \\\n",
       "Label (Grouping)                                                       \n",
       "        Electricity                     461,328                76.9%   \n",
       "        Fuel oil, kerosene, etc.          1,537                 0.3%   \n",
       "        Coal or coke                        199                 0.0%   \n",
       "        All other fuels                   2,936                 0.5%   \n",
       "        No fuel used                      5,441                 0.9%   \n",
       "\n",
       "                                 Alaska_total Alaska_total_percent  \\\n",
       "Label (Grouping)                                                     \n",
       "        Electricity                    41,891                15.3%   \n",
       "        Fuel oil, kerosene, etc.       77,028                28.1%   \n",
       "        Coal or coke                      278                 0.1%   \n",
       "        All other fuels                16,756                 6.1%   \n",
       "        No fuel used                    1,677                 0.6%   \n",
       "\n",
       "                                 Alaska_owner Alaska_own_percent  ...  \\\n",
       "Label (Grouping)                                                  ...   \n",
       "        Electricity                    15,650               8.6%  ...   \n",
       "        Fuel oil, kerosene, etc.       53,243              29.3%  ...   \n",
       "        Coal or coke                      105               0.1%  ...   \n",
       "        All other fuels                12,905               7.1%  ...   \n",
       "        No fuel used                      669               0.4%  ...   \n",
       "\n",
       "                                 Wyoming_owner Wyoming_own_percent  \\\n",
       "Label (Grouping)                                                     \n",
       "        Electricity                     28,291               16.0%   \n",
       "        Fuel oil, kerosene, etc.           381                0.2%   \n",
       "        Coal or coke                       469                0.3%   \n",
       "        All other fuels                 10,553                6.0%   \n",
       "        No fuel used                     1,098                0.6%   \n",
       "\n",
       "                                 Wyoming_renter Wyoming_rent_percent  \\\n",
       "Label (Grouping)                                                       \n",
       "        Electricity                      27,151                40.9%   \n",
       "        Fuel oil, kerosene, etc.            228                 0.3%   \n",
       "        Coal or coke                         27                 0.0%   \n",
       "        All other fuels                   2,756                 4.1%   \n",
       "        No fuel used                        500                 0.8%   \n",
       "\n",
       "                                 Puerto Rico_total Puerto Rico_total_percent  \\\n",
       "Label (Grouping)                                                               \n",
       "        Electricity                        124,002                      9.6%   \n",
       "        Fuel oil, kerosene, etc.                 0                      0.0%   \n",
       "        Coal or coke                           103                      0.0%   \n",
       "        All other fuels                     13,631                      1.1%   \n",
       "        No fuel used                     1,140,913                     88.5%   \n",
       "\n",
       "                                 Puerto Rico_owner Puerto Rico_own_percent  \\\n",
       "Label (Grouping)                                                             \n",
       "        Electricity                        100,837                   11.6%   \n",
       "        Fuel oil, kerosene, etc.                 0                    0.0%   \n",
       "        Coal or coke                           103                    0.0%   \n",
       "        All other fuels                     13,161                    1.5%   \n",
       "        No fuel used                       746,305                   85.8%   \n",
       "\n",
       "                                 Puerto Rico_renter Puerto Rico_rent_percent  \n",
       "Label (Grouping)                                                              \n",
       "        Electricity                          23,165                     5.5%  \n",
       "        Fuel oil, kerosene, etc.                  0                     0.0%  \n",
       "        Coal or coke                              0                     0.0%  \n",
       "        All other fuels                         470                     0.1%  \n",
       "        No fuel used                        394,608                    94.0%  \n",
       "\n",
       "[5 rows x 312 columns]"
      ]
     },
     "execution_count": 274,
     "metadata": {},
     "output_type": "execute_result"
    }
   ],
   "source": [
    "house_heat_fuel = house_char_data.iloc[[39,40,41,42,43,44,45]]\n",
    "house_heat_fuel.tail()"
   ]
  },
  {
   "cell_type": "code",
   "execution_count": 275,
   "metadata": {},
   "outputs": [],
   "source": [
    "df_heat_total, df_heat_owner, df_heat_renter = data_cleanup(house_heat_fuel)"
   ]
  },
  {
   "cell_type": "code",
   "execution_count": 276,
   "metadata": {},
   "outputs": [
    {
     "data": {
      "text/html": [
       "<div>\n",
       "<style scoped>\n",
       "    .dataframe tbody tr th:only-of-type {\n",
       "        vertical-align: middle;\n",
       "    }\n",
       "\n",
       "    .dataframe tbody tr th {\n",
       "        vertical-align: top;\n",
       "    }\n",
       "\n",
       "    .dataframe thead th {\n",
       "        text-align: right;\n",
       "    }\n",
       "</style>\n",
       "<table border=\"1\" class=\"dataframe\">\n",
       "  <thead>\n",
       "    <tr style=\"text-align: right;\">\n",
       "      <th></th>\n",
       "      <th>State</th>\n",
       "      <th>Value</th>\n",
       "      <th>Count</th>\n",
       "      <th>Code</th>\n",
       "    </tr>\n",
       "  </thead>\n",
       "  <tbody>\n",
       "    <tr>\n",
       "      <th>0</th>\n",
       "      <td>Alabama</td>\n",
       "      <td>Utility gas</td>\n",
       "      <td>510312</td>\n",
       "      <td>AL</td>\n",
       "    </tr>\n",
       "    <tr>\n",
       "      <th>1</th>\n",
       "      <td>Alabama</td>\n",
       "      <td>Bottled, tank, or LP gas</td>\n",
       "      <td>106780</td>\n",
       "      <td>AL</td>\n",
       "    </tr>\n",
       "    <tr>\n",
       "      <th>2</th>\n",
       "      <td>Alabama</td>\n",
       "      <td>Electricity</td>\n",
       "      <td>1366095</td>\n",
       "      <td>AL</td>\n",
       "    </tr>\n",
       "    <tr>\n",
       "      <th>3</th>\n",
       "      <td>Alabama</td>\n",
       "      <td>Fuel oil, kerosene, etc.</td>\n",
       "      <td>2610</td>\n",
       "      <td>AL</td>\n",
       "    </tr>\n",
       "    <tr>\n",
       "      <th>4</th>\n",
       "      <td>Alabama</td>\n",
       "      <td>Coal or coke</td>\n",
       "      <td>199</td>\n",
       "      <td>AL</td>\n",
       "    </tr>\n",
       "  </tbody>\n",
       "</table>\n",
       "</div>"
      ],
      "text/plain": [
       "     State                     Value    Count Code\n",
       "0  Alabama               Utility gas   510312   AL\n",
       "1  Alabama  Bottled, tank, or LP gas   106780   AL\n",
       "2  Alabama               Electricity  1366095   AL\n",
       "3  Alabama  Fuel oil, kerosene, etc.     2610   AL\n",
       "4  Alabama              Coal or coke      199   AL"
      ]
     },
     "execution_count": 276,
     "metadata": {},
     "output_type": "execute_result"
    }
   ],
   "source": [
    "df_heat_total.head()"
   ]
  },
  {
   "cell_type": "code",
   "execution_count": 277,
   "metadata": {},
   "outputs": [
    {
     "data": {
      "text/html": [
       "<div>\n",
       "<style scoped>\n",
       "    .dataframe tbody tr th:only-of-type {\n",
       "        vertical-align: middle;\n",
       "    }\n",
       "\n",
       "    .dataframe tbody tr th {\n",
       "        vertical-align: top;\n",
       "    }\n",
       "\n",
       "    .dataframe thead th {\n",
       "        text-align: right;\n",
       "    }\n",
       "</style>\n",
       "<table border=\"1\" class=\"dataframe\">\n",
       "  <thead>\n",
       "    <tr style=\"text-align: right;\">\n",
       "      <th></th>\n",
       "      <th>State</th>\n",
       "      <th>Value</th>\n",
       "      <th>Count</th>\n",
       "      <th>Code</th>\n",
       "    </tr>\n",
       "  </thead>\n",
       "  <tbody>\n",
       "    <tr>\n",
       "      <th>0</th>\n",
       "      <td>Alabama</td>\n",
       "      <td>Utility gas</td>\n",
       "      <td>401896</td>\n",
       "      <td>AL</td>\n",
       "    </tr>\n",
       "    <tr>\n",
       "      <th>1</th>\n",
       "      <td>Alabama</td>\n",
       "      <td>Bottled, tank, or LP gas</td>\n",
       "      <td>86522</td>\n",
       "      <td>AL</td>\n",
       "    </tr>\n",
       "    <tr>\n",
       "      <th>2</th>\n",
       "      <td>Alabama</td>\n",
       "      <td>Electricity</td>\n",
       "      <td>904767</td>\n",
       "      <td>AL</td>\n",
       "    </tr>\n",
       "    <tr>\n",
       "      <th>3</th>\n",
       "      <td>Alabama</td>\n",
       "      <td>Fuel oil, kerosene, etc.</td>\n",
       "      <td>1073</td>\n",
       "      <td>AL</td>\n",
       "    </tr>\n",
       "    <tr>\n",
       "      <th>4</th>\n",
       "      <td>Alabama</td>\n",
       "      <td>Coal or coke</td>\n",
       "      <td>0</td>\n",
       "      <td>AL</td>\n",
       "    </tr>\n",
       "  </tbody>\n",
       "</table>\n",
       "</div>"
      ],
      "text/plain": [
       "     State                     Value   Count Code\n",
       "0  Alabama               Utility gas  401896   AL\n",
       "1  Alabama  Bottled, tank, or LP gas   86522   AL\n",
       "2  Alabama               Electricity  904767   AL\n",
       "3  Alabama  Fuel oil, kerosene, etc.    1073   AL\n",
       "4  Alabama              Coal or coke       0   AL"
      ]
     },
     "execution_count": 277,
     "metadata": {},
     "output_type": "execute_result"
    }
   ],
   "source": [
    "df_heat_owner.head()"
   ]
  },
  {
   "cell_type": "code",
   "execution_count": 278,
   "metadata": {},
   "outputs": [
    {
     "data": {
      "text/html": [
       "<div>\n",
       "<style scoped>\n",
       "    .dataframe tbody tr th:only-of-type {\n",
       "        vertical-align: middle;\n",
       "    }\n",
       "\n",
       "    .dataframe tbody tr th {\n",
       "        vertical-align: top;\n",
       "    }\n",
       "\n",
       "    .dataframe thead th {\n",
       "        text-align: right;\n",
       "    }\n",
       "</style>\n",
       "<table border=\"1\" class=\"dataframe\">\n",
       "  <thead>\n",
       "    <tr style=\"text-align: right;\">\n",
       "      <th></th>\n",
       "      <th>State</th>\n",
       "      <th>Value</th>\n",
       "      <th>Count</th>\n",
       "      <th>Code</th>\n",
       "    </tr>\n",
       "  </thead>\n",
       "  <tbody>\n",
       "    <tr>\n",
       "      <th>0</th>\n",
       "      <td>Alabama</td>\n",
       "      <td>Utility gas</td>\n",
       "      <td>108416</td>\n",
       "      <td>AL</td>\n",
       "    </tr>\n",
       "    <tr>\n",
       "      <th>1</th>\n",
       "      <td>Alabama</td>\n",
       "      <td>Bottled, tank, or LP gas</td>\n",
       "      <td>20258</td>\n",
       "      <td>AL</td>\n",
       "    </tr>\n",
       "    <tr>\n",
       "      <th>2</th>\n",
       "      <td>Alabama</td>\n",
       "      <td>Electricity</td>\n",
       "      <td>461328</td>\n",
       "      <td>AL</td>\n",
       "    </tr>\n",
       "    <tr>\n",
       "      <th>3</th>\n",
       "      <td>Alabama</td>\n",
       "      <td>Fuel oil, kerosene, etc.</td>\n",
       "      <td>1537</td>\n",
       "      <td>AL</td>\n",
       "    </tr>\n",
       "    <tr>\n",
       "      <th>4</th>\n",
       "      <td>Alabama</td>\n",
       "      <td>Coal or coke</td>\n",
       "      <td>199</td>\n",
       "      <td>AL</td>\n",
       "    </tr>\n",
       "  </tbody>\n",
       "</table>\n",
       "</div>"
      ],
      "text/plain": [
       "     State                     Value   Count Code\n",
       "0  Alabama               Utility gas  108416   AL\n",
       "1  Alabama  Bottled, tank, or LP gas   20258   AL\n",
       "2  Alabama               Electricity  461328   AL\n",
       "3  Alabama  Fuel oil, kerosene, etc.    1537   AL\n",
       "4  Alabama              Coal or coke     199   AL"
      ]
     },
     "execution_count": 278,
     "metadata": {},
     "output_type": "execute_result"
    }
   ],
   "source": [
    "df_heat_renter.head()"
   ]
  },
  {
   "cell_type": "code",
   "execution_count": 279,
   "metadata": {},
   "outputs": [
    {
     "data": {
      "text/html": [
       "<div>\n",
       "<style scoped>\n",
       "    .dataframe tbody tr th:only-of-type {\n",
       "        vertical-align: middle;\n",
       "    }\n",
       "\n",
       "    .dataframe tbody tr th {\n",
       "        vertical-align: top;\n",
       "    }\n",
       "\n",
       "    .dataframe thead th {\n",
       "        text-align: right;\n",
       "    }\n",
       "</style>\n",
       "<table border=\"1\" class=\"dataframe\">\n",
       "  <thead>\n",
       "    <tr style=\"text-align: right;\">\n",
       "      <th></th>\n",
       "      <th>State</th>\n",
       "      <th>Value</th>\n",
       "      <th>Count</th>\n",
       "      <th>Code</th>\n",
       "    </tr>\n",
       "  </thead>\n",
       "  <tbody>\n",
       "    <tr>\n",
       "      <th>0</th>\n",
       "      <td>Alabama</td>\n",
       "      <td>1, detached</td>\n",
       "      <td>1436137</td>\n",
       "      <td>AL</td>\n",
       "    </tr>\n",
       "    <tr>\n",
       "      <th>1</th>\n",
       "      <td>Alabama</td>\n",
       "      <td>1, attached</td>\n",
       "      <td>41268</td>\n",
       "      <td>AL</td>\n",
       "    </tr>\n",
       "    <tr>\n",
       "      <th>2</th>\n",
       "      <td>Alabama</td>\n",
       "      <td>2 apartments</td>\n",
       "      <td>35683</td>\n",
       "      <td>AL</td>\n",
       "    </tr>\n",
       "    <tr>\n",
       "      <th>3</th>\n",
       "      <td>Alabama</td>\n",
       "      <td>3 or 4 apartments</td>\n",
       "      <td>57324</td>\n",
       "      <td>AL</td>\n",
       "    </tr>\n",
       "    <tr>\n",
       "      <th>4</th>\n",
       "      <td>Alabama</td>\n",
       "      <td>5 to 9 apartments</td>\n",
       "      <td>75649</td>\n",
       "      <td>AL</td>\n",
       "    </tr>\n",
       "  </tbody>\n",
       "</table>\n",
       "</div>"
      ],
      "text/plain": [
       "     State              Value    Count Code\n",
       "0  Alabama        1, detached  1436137   AL\n",
       "1  Alabama        1, attached    41268   AL\n",
       "2  Alabama       2 apartments    35683   AL\n",
       "3  Alabama  3 or 4 apartments    57324   AL\n",
       "4  Alabama  5 to 9 apartments    75649   AL"
      ]
     },
     "execution_count": 279,
     "metadata": {},
     "output_type": "execute_result"
    }
   ],
   "source": [
    "df_total.head()"
   ]
  },
  {
   "cell_type": "code",
   "execution_count": 280,
   "metadata": {},
   "outputs": [
    {
     "data": {
      "text/html": [
       "<div>\n",
       "<style scoped>\n",
       "    .dataframe tbody tr th:only-of-type {\n",
       "        vertical-align: middle;\n",
       "    }\n",
       "\n",
       "    .dataframe tbody tr th {\n",
       "        vertical-align: top;\n",
       "    }\n",
       "\n",
       "    .dataframe thead tr th {\n",
       "        text-align: left;\n",
       "    }\n",
       "\n",
       "    .dataframe thead tr:last-of-type th {\n",
       "        text-align: right;\n",
       "    }\n",
       "</style>\n",
       "<table border=\"1\" class=\"dataframe\">\n",
       "  <thead>\n",
       "    <tr>\n",
       "      <th></th>\n",
       "      <th colspan=\"8\" halign=\"left\">Count</th>\n",
       "    </tr>\n",
       "    <tr>\n",
       "      <th></th>\n",
       "      <th>count</th>\n",
       "      <th>mean</th>\n",
       "      <th>std</th>\n",
       "      <th>min</th>\n",
       "      <th>25%</th>\n",
       "      <th>50%</th>\n",
       "      <th>75%</th>\n",
       "      <th>max</th>\n",
       "    </tr>\n",
       "    <tr>\n",
       "      <th>State</th>\n",
       "      <th></th>\n",
       "      <th></th>\n",
       "      <th></th>\n",
       "      <th></th>\n",
       "      <th></th>\n",
       "      <th></th>\n",
       "      <th></th>\n",
       "      <th></th>\n",
       "    </tr>\n",
       "  </thead>\n",
       "  <tbody>\n",
       "    <tr>\n",
       "      <th>Alabama</th>\n",
       "      <td>7.0</td>\n",
       "      <td>2.880640e+05</td>\n",
       "      <td>5.111288e+05</td>\n",
       "      <td>35683.0</td>\n",
       "      <td>49296.0</td>\n",
       "      <td>75649.0</td>\n",
       "      <td>185193.5</td>\n",
       "      <td>1436137.0</td>\n",
       "    </tr>\n",
       "    <tr>\n",
       "      <th>Alaska</th>\n",
       "      <td>7.0</td>\n",
       "      <td>3.922486e+04</td>\n",
       "      <td>5.827152e+04</td>\n",
       "      <td>9701.0</td>\n",
       "      <td>15159.5</td>\n",
       "      <td>20093.0</td>\n",
       "      <td>21732.0</td>\n",
       "      <td>170997.0</td>\n",
       "    </tr>\n",
       "    <tr>\n",
       "      <th>Arizona</th>\n",
       "      <td>7.0</td>\n",
       "      <td>4.071967e+05</td>\n",
       "      <td>6.618316e+05</td>\n",
       "      <td>39774.0</td>\n",
       "      <td>90819.0</td>\n",
       "      <td>148000.0</td>\n",
       "      <td>296435.5</td>\n",
       "      <td>1888094.0</td>\n",
       "    </tr>\n",
       "    <tr>\n",
       "      <th>Arkansas</th>\n",
       "      <td>7.0</td>\n",
       "      <td>1.737439e+05</td>\n",
       "      <td>3.004731e+05</td>\n",
       "      <td>24877.0</td>\n",
       "      <td>40768.5</td>\n",
       "      <td>43527.0</td>\n",
       "      <td>107998.5</td>\n",
       "      <td>850269.0</td>\n",
       "    </tr>\n",
       "    <tr>\n",
       "      <th>California</th>\n",
       "      <td>7.0</td>\n",
       "      <td>1.935798e+06</td>\n",
       "      <td>2.698089e+06</td>\n",
       "      <td>307658.0</td>\n",
       "      <td>600955.5</td>\n",
       "      <td>745229.0</td>\n",
       "      <td>1728072.5</td>\n",
       "      <td>7839643.0</td>\n",
       "    </tr>\n",
       "    <tr>\n",
       "      <th>Colorado</th>\n",
       "      <td>7.0</td>\n",
       "      <td>3.406549e+05</td>\n",
       "      <td>5.237514e+05</td>\n",
       "      <td>35410.0</td>\n",
       "      <td>79470.5</td>\n",
       "      <td>98628.0</td>\n",
       "      <td>298736.0</td>\n",
       "      <td>1494133.0</td>\n",
       "    </tr>\n",
       "    <tr>\n",
       "      <th>Connecticut</th>\n",
       "      <td>7.0</td>\n",
       "      <td>2.048050e+05</td>\n",
       "      <td>2.910157e+05</td>\n",
       "      <td>9950.0</td>\n",
       "      <td>78587.5</td>\n",
       "      <td>93688.0</td>\n",
       "      <td>160770.0</td>\n",
       "      <td>851282.0</td>\n",
       "    </tr>\n",
       "    <tr>\n",
       "      <th>Delaware</th>\n",
       "      <td>7.0</td>\n",
       "      <td>5.747629e+04</td>\n",
       "      <td>8.719467e+04</td>\n",
       "      <td>3957.0</td>\n",
       "      <td>11028.0</td>\n",
       "      <td>23540.0</td>\n",
       "      <td>51591.5</td>\n",
       "      <td>249598.0</td>\n",
       "    </tr>\n",
       "    <tr>\n",
       "      <th>District of Columbia</th>\n",
       "      <td>7.0</td>\n",
       "      <td>4.671000e+04</td>\n",
       "      <td>5.512194e+04</td>\n",
       "      <td>0.0</td>\n",
       "      <td>17098.0</td>\n",
       "      <td>25437.0</td>\n",
       "      <td>53098.5</td>\n",
       "      <td>161140.0</td>\n",
       "    </tr>\n",
       "    <tr>\n",
       "      <th>Florida</th>\n",
       "      <td>7.0</td>\n",
       "      <td>1.260913e+06</td>\n",
       "      <td>1.734331e+06</td>\n",
       "      <td>181445.0</td>\n",
       "      <td>367773.0</td>\n",
       "      <td>621163.0</td>\n",
       "      <td>1114152.5</td>\n",
       "      <td>5059935.0</td>\n",
       "    </tr>\n",
       "    <tr>\n",
       "      <th>Georgia</th>\n",
       "      <td>7.0</td>\n",
       "      <td>5.846381e+05</td>\n",
       "      <td>9.723906e+05</td>\n",
       "      <td>85003.0</td>\n",
       "      <td>146362.5</td>\n",
       "      <td>191175.0</td>\n",
       "      <td>375545.0</td>\n",
       "      <td>2772474.0</td>\n",
       "    </tr>\n",
       "    <tr>\n",
       "      <th>Hawaii</th>\n",
       "      <td>7.0</td>\n",
       "      <td>7.068957e+04</td>\n",
       "      <td>9.903897e+04</td>\n",
       "      <td>2274.0</td>\n",
       "      <td>14294.0</td>\n",
       "      <td>29166.0</td>\n",
       "      <td>76772.5</td>\n",
       "      <td>281254.0</td>\n",
       "    </tr>\n",
       "    <tr>\n",
       "      <th>Idaho</th>\n",
       "      <td>7.0</td>\n",
       "      <td>1.024501e+05</td>\n",
       "      <td>1.909335e+05</td>\n",
       "      <td>12985.0</td>\n",
       "      <td>21036.0</td>\n",
       "      <td>33702.0</td>\n",
       "      <td>47029.0</td>\n",
       "      <td>534334.0</td>\n",
       "    </tr>\n",
       "    <tr>\n",
       "      <th>Illinois</th>\n",
       "      <td>7.0</td>\n",
       "      <td>7.223371e+05</td>\n",
       "      <td>1.022805e+06</td>\n",
       "      <td>103408.0</td>\n",
       "      <td>269635.5</td>\n",
       "      <td>322750.0</td>\n",
       "      <td>548322.0</td>\n",
       "      <td>2994287.0</td>\n",
       "    </tr>\n",
       "    <tr>\n",
       "      <th>Indiana</th>\n",
       "      <td>7.0</td>\n",
       "      <td>3.894984e+05</td>\n",
       "      <td>7.196689e+05</td>\n",
       "      <td>59154.0</td>\n",
       "      <td>99716.5</td>\n",
       "      <td>109326.0</td>\n",
       "      <td>170321.0</td>\n",
       "      <td>2017934.0</td>\n",
       "    </tr>\n",
       "    <tr>\n",
       "      <th>Iowa</th>\n",
       "      <td>7.0</td>\n",
       "      <td>1.901421e+05</td>\n",
       "      <td>3.499142e+05</td>\n",
       "      <td>23963.0</td>\n",
       "      <td>40331.0</td>\n",
       "      <td>49523.0</td>\n",
       "      <td>98724.5</td>\n",
       "      <td>979398.0</td>\n",
       "    </tr>\n",
       "    <tr>\n",
       "      <th>Kansas</th>\n",
       "      <td>7.0</td>\n",
       "      <td>1.678991e+05</td>\n",
       "      <td>3.049266e+05</td>\n",
       "      <td>27503.0</td>\n",
       "      <td>41615.5</td>\n",
       "      <td>42945.0</td>\n",
       "      <td>82237.5</td>\n",
       "      <td>857140.0</td>\n",
       "    </tr>\n",
       "    <tr>\n",
       "      <th>Kentucky</th>\n",
       "      <td>7.0</td>\n",
       "      <td>2.612400e+05</td>\n",
       "      <td>4.383432e+05</td>\n",
       "      <td>46645.0</td>\n",
       "      <td>65308.0</td>\n",
       "      <td>83489.0</td>\n",
       "      <td>159447.5</td>\n",
       "      <td>1249035.0</td>\n",
       "    </tr>\n",
       "    <tr>\n",
       "      <th>Louisiana</th>\n",
       "      <td>7.0</td>\n",
       "      <td>2.595574e+05</td>\n",
       "      <td>4.318957e+05</td>\n",
       "      <td>51120.0</td>\n",
       "      <td>58418.0</td>\n",
       "      <td>72264.0</td>\n",
       "      <td>173664.0</td>\n",
       "      <td>1229354.0</td>\n",
       "    </tr>\n",
       "    <tr>\n",
       "      <th>Maine</th>\n",
       "      <td>7.0</td>\n",
       "      <td>8.647686e+04</td>\n",
       "      <td>1.427077e+05</td>\n",
       "      <td>17797.0</td>\n",
       "      <td>28326.0</td>\n",
       "      <td>33986.0</td>\n",
       "      <td>43811.5</td>\n",
       "      <td>409280.0</td>\n",
       "    </tr>\n",
       "    <tr>\n",
       "      <th>Maryland</th>\n",
       "      <td>7.0</td>\n",
       "      <td>3.394263e+05</td>\n",
       "      <td>4.417591e+05</td>\n",
       "      <td>28305.0</td>\n",
       "      <td>41663.0</td>\n",
       "      <td>115215.0</td>\n",
       "      <td>453001.0</td>\n",
       "      <td>1243136.0</td>\n",
       "    </tr>\n",
       "    <tr>\n",
       "      <th>Massachusetts</th>\n",
       "      <td>7.0</td>\n",
       "      <td>3.996823e+05</td>\n",
       "      <td>4.686231e+05</td>\n",
       "      <td>23849.0</td>\n",
       "      <td>163286.0</td>\n",
       "      <td>262857.0</td>\n",
       "      <td>384536.5</td>\n",
       "      <td>1415425.0</td>\n",
       "    </tr>\n",
       "    <tr>\n",
       "      <th>Michigan</th>\n",
       "      <td>7.0</td>\n",
       "      <td>5.842563e+05</td>\n",
       "      <td>1.051359e+06</td>\n",
       "      <td>81392.0</td>\n",
       "      <td>139209.5</td>\n",
       "      <td>198552.0</td>\n",
       "      <td>286016.5</td>\n",
       "      <td>2959398.0</td>\n",
       "    </tr>\n",
       "    <tr>\n",
       "      <th>Minnesota</th>\n",
       "      <td>7.0</td>\n",
       "      <td>3.317414e+05</td>\n",
       "      <td>5.488821e+05</td>\n",
       "      <td>47686.0</td>\n",
       "      <td>51089.5</td>\n",
       "      <td>56952.0</td>\n",
       "      <td>286908.5</td>\n",
       "      <td>1541556.0</td>\n",
       "    </tr>\n",
       "    <tr>\n",
       "      <th>Mississippi</th>\n",
       "      <td>7.0</td>\n",
       "      <td>1.640486e+05</td>\n",
       "      <td>2.910598e+05</td>\n",
       "      <td>15838.0</td>\n",
       "      <td>29960.5</td>\n",
       "      <td>36974.0</td>\n",
       "      <td>110755.5</td>\n",
       "      <td>814096.0</td>\n",
       "    </tr>\n",
       "    <tr>\n",
       "      <th>Missouri</th>\n",
       "      <td>7.0</td>\n",
       "      <td>3.602617e+05</td>\n",
       "      <td>6.364434e+05</td>\n",
       "      <td>75831.0</td>\n",
       "      <td>92522.0</td>\n",
       "      <td>112655.0</td>\n",
       "      <td>174560.0</td>\n",
       "      <td>1799182.0</td>\n",
       "    </tr>\n",
       "    <tr>\n",
       "      <th>Montana</th>\n",
       "      <td>7.0</td>\n",
       "      <td>6.629600e+04</td>\n",
       "      <td>1.117804e+05</td>\n",
       "      <td>12086.0</td>\n",
       "      <td>16916.0</td>\n",
       "      <td>23570.0</td>\n",
       "      <td>38004.5</td>\n",
       "      <td>318575.0</td>\n",
       "    </tr>\n",
       "    <tr>\n",
       "      <th>Nebraska</th>\n",
       "      <td>7.0</td>\n",
       "      <td>1.147367e+05</td>\n",
       "      <td>2.069679e+05</td>\n",
       "      <td>13339.0</td>\n",
       "      <td>18121.5</td>\n",
       "      <td>34231.0</td>\n",
       "      <td>70350.5</td>\n",
       "      <td>578643.0</td>\n",
       "    </tr>\n",
       "    <tr>\n",
       "      <th>Nevada</th>\n",
       "      <td>7.0</td>\n",
       "      <td>1.711937e+05</td>\n",
       "      <td>2.595391e+05</td>\n",
       "      <td>16326.0</td>\n",
       "      <td>63776.0</td>\n",
       "      <td>68125.0</td>\n",
       "      <td>117520.0</td>\n",
       "      <td>751313.0</td>\n",
       "    </tr>\n",
       "    <tr>\n",
       "      <th>New Hampshire</th>\n",
       "      <td>7.0</td>\n",
       "      <td>7.960286e+04</td>\n",
       "      <td>1.216225e+05</td>\n",
       "      <td>26404.0</td>\n",
       "      <td>27795.5</td>\n",
       "      <td>28160.0</td>\n",
       "      <td>46598.5</td>\n",
       "      <td>353868.0</td>\n",
       "    </tr>\n",
       "    <tr>\n",
       "      <th>New Jersey</th>\n",
       "      <td>7.0</td>\n",
       "      <td>5.024254e+05</td>\n",
       "      <td>6.302790e+05</td>\n",
       "      <td>34557.0</td>\n",
       "      <td>185650.5</td>\n",
       "      <td>291721.0</td>\n",
       "      <td>471636.5</td>\n",
       "      <td>1876126.0</td>\n",
       "    </tr>\n",
       "    <tr>\n",
       "      <th>New Mexico</th>\n",
       "      <td>7.0</td>\n",
       "      <td>1.211740e+05</td>\n",
       "      <td>1.995689e+05</td>\n",
       "      <td>12845.0</td>\n",
       "      <td>25478.0</td>\n",
       "      <td>32286.0</td>\n",
       "      <td>93300.5</td>\n",
       "      <td>565530.0</td>\n",
       "    </tr>\n",
       "    <tr>\n",
       "      <th>New York</th>\n",
       "      <td>7.0</td>\n",
       "      <td>1.110615e+06</td>\n",
       "      <td>1.168934e+06</td>\n",
       "      <td>153635.0</td>\n",
       "      <td>422887.5</td>\n",
       "      <td>524162.0</td>\n",
       "      <td>1524877.0</td>\n",
       "      <td>3200982.0</td>\n",
       "    </tr>\n",
       "    <tr>\n",
       "      <th>North Carolina</th>\n",
       "      <td>7.0</td>\n",
       "      <td>6.141809e+05</td>\n",
       "      <td>1.003759e+06</td>\n",
       "      <td>81079.0</td>\n",
       "      <td>135049.5</td>\n",
       "      <td>203737.0</td>\n",
       "      <td>439121.5</td>\n",
       "      <td>2866108.0</td>\n",
       "    </tr>\n",
       "    <tr>\n",
       "      <th>North Dakota</th>\n",
       "      <td>7.0</td>\n",
       "      <td>4.735443e+04</td>\n",
       "      <td>6.911393e+04</td>\n",
       "      <td>3736.0</td>\n",
       "      <td>10476.0</td>\n",
       "      <td>20726.0</td>\n",
       "      <td>44690.0</td>\n",
       "      <td>196687.0</td>\n",
       "    </tr>\n",
       "    <tr>\n",
       "      <th>Ohio</th>\n",
       "      <td>7.0</td>\n",
       "      <td>6.968866e+05</td>\n",
       "      <td>1.207274e+06</td>\n",
       "      <td>153620.0</td>\n",
       "      <td>178916.0</td>\n",
       "      <td>211639.0</td>\n",
       "      <td>366227.0</td>\n",
       "      <td>3422661.0</td>\n",
       "    </tr>\n",
       "    <tr>\n",
       "      <th>Oklahoma</th>\n",
       "      <td>7.0</td>\n",
       "      <td>2.247400e+05</td>\n",
       "      <td>4.110028e+05</td>\n",
       "      <td>30328.0</td>\n",
       "      <td>39924.0</td>\n",
       "      <td>58629.0</td>\n",
       "      <td>126043.5</td>\n",
       "      <td>1152288.0</td>\n",
       "    </tr>\n",
       "    <tr>\n",
       "      <th>Oregon</th>\n",
       "      <td>7.0</td>\n",
       "      <td>2.466200e+05</td>\n",
       "      <td>3.764388e+05</td>\n",
       "      <td>41960.0</td>\n",
       "      <td>76414.0</td>\n",
       "      <td>84330.0</td>\n",
       "      <td>179335.5</td>\n",
       "      <td>1088551.0</td>\n",
       "    </tr>\n",
       "    <tr>\n",
       "      <th>Pennsylvania</th>\n",
       "      <td>7.0</td>\n",
       "      <td>7.562950e+05</td>\n",
       "      <td>1.045779e+06</td>\n",
       "      <td>162332.0</td>\n",
       "      <td>189481.5</td>\n",
       "      <td>215005.0</td>\n",
       "      <td>755028.0</td>\n",
       "      <td>3027709.0</td>\n",
       "    </tr>\n",
       "    <tr>\n",
       "      <th>Puerto Rico</th>\n",
       "      <td>7.0</td>\n",
       "      <td>1.841873e+05</td>\n",
       "      <td>3.155646e+05</td>\n",
       "      <td>3046.0</td>\n",
       "      <td>33915.0</td>\n",
       "      <td>59961.0</td>\n",
       "      <td>134016.5</td>\n",
       "      <td>890441.0</td>\n",
       "    </tr>\n",
       "    <tr>\n",
       "      <th>Rhode Island</th>\n",
       "      <td>7.0</td>\n",
       "      <td>6.381257e+04</td>\n",
       "      <td>8.568429e+04</td>\n",
       "      <td>4228.0</td>\n",
       "      <td>19923.5</td>\n",
       "      <td>43129.0</td>\n",
       "      <td>53126.5</td>\n",
       "      <td>253231.0</td>\n",
       "    </tr>\n",
       "    <tr>\n",
       "      <th>South Carolina</th>\n",
       "      <td>7.0</td>\n",
       "      <td>3.051543e+05</td>\n",
       "      <td>5.003136e+05</td>\n",
       "      <td>34357.0</td>\n",
       "      <td>67078.0</td>\n",
       "      <td>86166.0</td>\n",
       "      <td>230011.5</td>\n",
       "      <td>1421378.0</td>\n",
       "    </tr>\n",
       "    <tr>\n",
       "      <th>South Dakota</th>\n",
       "      <td>7.0</td>\n",
       "      <td>5.261429e+04</td>\n",
       "      <td>8.951889e+04</td>\n",
       "      <td>4840.0</td>\n",
       "      <td>12682.5</td>\n",
       "      <td>16142.0</td>\n",
       "      <td>34203.5</td>\n",
       "      <td>253546.0</td>\n",
       "    </tr>\n",
       "    <tr>\n",
       "      <th>Tennessee</th>\n",
       "      <td>7.0</td>\n",
       "      <td>4.066691e+05</td>\n",
       "      <td>7.000888e+05</td>\n",
       "      <td>66424.0</td>\n",
       "      <td>99919.0</td>\n",
       "      <td>116688.0</td>\n",
       "      <td>238729.5</td>\n",
       "      <td>1986275.0</td>\n",
       "    </tr>\n",
       "    <tr>\n",
       "      <th>Texas</th>\n",
       "      <td>7.0</td>\n",
       "      <td>1.583958e+06</td>\n",
       "      <td>2.562248e+06</td>\n",
       "      <td>186352.0</td>\n",
       "      <td>352453.0</td>\n",
       "      <td>480571.0</td>\n",
       "      <td>1222007.0</td>\n",
       "      <td>7271865.0</td>\n",
       "    </tr>\n",
       "    <tr>\n",
       "      <th>Utah</th>\n",
       "      <td>7.0</td>\n",
       "      <td>1.613800e+05</td>\n",
       "      <td>2.713693e+05</td>\n",
       "      <td>26642.0</td>\n",
       "      <td>32733.5</td>\n",
       "      <td>42790.0</td>\n",
       "      <td>112255.5</td>\n",
       "      <td>770250.0</td>\n",
       "    </tr>\n",
       "    <tr>\n",
       "      <th>Vermont</th>\n",
       "      <td>7.0</td>\n",
       "      <td>3.958429e+04</td>\n",
       "      <td>6.479734e+04</td>\n",
       "      <td>11016.0</td>\n",
       "      <td>13755.0</td>\n",
       "      <td>16254.0</td>\n",
       "      <td>17963.0</td>\n",
       "      <td>186384.0</td>\n",
       "    </tr>\n",
       "    <tr>\n",
       "      <th>Virginia</th>\n",
       "      <td>7.0</td>\n",
       "      <td>4.829439e+05</td>\n",
       "      <td>7.244987e+05</td>\n",
       "      <td>49801.0</td>\n",
       "      <td>112242.0</td>\n",
       "      <td>149890.0</td>\n",
       "      <td>435550.5</td>\n",
       "      <td>2085331.0</td>\n",
       "    </tr>\n",
       "    <tr>\n",
       "      <th>Washington</th>\n",
       "      <td>7.0</td>\n",
       "      <td>4.399933e+05</td>\n",
       "      <td>6.757624e+05</td>\n",
       "      <td>61721.0</td>\n",
       "      <td>117930.5</td>\n",
       "      <td>141570.0</td>\n",
       "      <td>355789.0</td>\n",
       "      <td>1929223.0</td>\n",
       "    </tr>\n",
       "    <tr>\n",
       "      <th>West Virginia</th>\n",
       "      <td>7.0</td>\n",
       "      <td>1.051916e+05</td>\n",
       "      <td>1.895156e+05</td>\n",
       "      <td>12928.0</td>\n",
       "      <td>19206.0</td>\n",
       "      <td>20263.0</td>\n",
       "      <td>67462.0</td>\n",
       "      <td>529814.0</td>\n",
       "    </tr>\n",
       "    <tr>\n",
       "      <th>Wisconsin</th>\n",
       "      <td>7.0</td>\n",
       "      <td>3.558744e+05</td>\n",
       "      <td>5.771569e+05</td>\n",
       "      <td>65504.0</td>\n",
       "      <td>97293.5</td>\n",
       "      <td>127889.0</td>\n",
       "      <td>225479.5</td>\n",
       "      <td>1652182.0</td>\n",
       "    </tr>\n",
       "    <tr>\n",
       "      <th>Wyoming</th>\n",
       "      <td>7.0</td>\n",
       "      <td>3.476014e+04</td>\n",
       "      <td>5.900138e+04</td>\n",
       "      <td>4330.0</td>\n",
       "      <td>9365.5</td>\n",
       "      <td>12309.0</td>\n",
       "      <td>20185.0</td>\n",
       "      <td>167581.0</td>\n",
       "    </tr>\n",
       "  </tbody>\n",
       "</table>\n",
       "</div>"
      ],
      "text/plain": [
       "                     Count                                                  \\\n",
       "                     count          mean           std       min       25%   \n",
       "State                                                                        \n",
       "Alabama                7.0  2.880640e+05  5.111288e+05   35683.0   49296.0   \n",
       "Alaska                 7.0  3.922486e+04  5.827152e+04    9701.0   15159.5   \n",
       "Arizona                7.0  4.071967e+05  6.618316e+05   39774.0   90819.0   \n",
       "Arkansas               7.0  1.737439e+05  3.004731e+05   24877.0   40768.5   \n",
       "California             7.0  1.935798e+06  2.698089e+06  307658.0  600955.5   \n",
       "Colorado               7.0  3.406549e+05  5.237514e+05   35410.0   79470.5   \n",
       "Connecticut            7.0  2.048050e+05  2.910157e+05    9950.0   78587.5   \n",
       "Delaware               7.0  5.747629e+04  8.719467e+04    3957.0   11028.0   \n",
       "District of Columbia   7.0  4.671000e+04  5.512194e+04       0.0   17098.0   \n",
       "Florida                7.0  1.260913e+06  1.734331e+06  181445.0  367773.0   \n",
       "Georgia                7.0  5.846381e+05  9.723906e+05   85003.0  146362.5   \n",
       "Hawaii                 7.0  7.068957e+04  9.903897e+04    2274.0   14294.0   \n",
       "Idaho                  7.0  1.024501e+05  1.909335e+05   12985.0   21036.0   \n",
       "Illinois               7.0  7.223371e+05  1.022805e+06  103408.0  269635.5   \n",
       "Indiana                7.0  3.894984e+05  7.196689e+05   59154.0   99716.5   \n",
       "Iowa                   7.0  1.901421e+05  3.499142e+05   23963.0   40331.0   \n",
       "Kansas                 7.0  1.678991e+05  3.049266e+05   27503.0   41615.5   \n",
       "Kentucky               7.0  2.612400e+05  4.383432e+05   46645.0   65308.0   \n",
       "Louisiana              7.0  2.595574e+05  4.318957e+05   51120.0   58418.0   \n",
       "Maine                  7.0  8.647686e+04  1.427077e+05   17797.0   28326.0   \n",
       "Maryland               7.0  3.394263e+05  4.417591e+05   28305.0   41663.0   \n",
       "Massachusetts          7.0  3.996823e+05  4.686231e+05   23849.0  163286.0   \n",
       "Michigan               7.0  5.842563e+05  1.051359e+06   81392.0  139209.5   \n",
       "Minnesota              7.0  3.317414e+05  5.488821e+05   47686.0   51089.5   \n",
       "Mississippi            7.0  1.640486e+05  2.910598e+05   15838.0   29960.5   \n",
       "Missouri               7.0  3.602617e+05  6.364434e+05   75831.0   92522.0   \n",
       "Montana                7.0  6.629600e+04  1.117804e+05   12086.0   16916.0   \n",
       "Nebraska               7.0  1.147367e+05  2.069679e+05   13339.0   18121.5   \n",
       "Nevada                 7.0  1.711937e+05  2.595391e+05   16326.0   63776.0   \n",
       "New Hampshire          7.0  7.960286e+04  1.216225e+05   26404.0   27795.5   \n",
       "New Jersey             7.0  5.024254e+05  6.302790e+05   34557.0  185650.5   \n",
       "New Mexico             7.0  1.211740e+05  1.995689e+05   12845.0   25478.0   \n",
       "New York               7.0  1.110615e+06  1.168934e+06  153635.0  422887.5   \n",
       "North Carolina         7.0  6.141809e+05  1.003759e+06   81079.0  135049.5   \n",
       "North Dakota           7.0  4.735443e+04  6.911393e+04    3736.0   10476.0   \n",
       "Ohio                   7.0  6.968866e+05  1.207274e+06  153620.0  178916.0   \n",
       "Oklahoma               7.0  2.247400e+05  4.110028e+05   30328.0   39924.0   \n",
       "Oregon                 7.0  2.466200e+05  3.764388e+05   41960.0   76414.0   \n",
       "Pennsylvania           7.0  7.562950e+05  1.045779e+06  162332.0  189481.5   \n",
       "Puerto Rico            7.0  1.841873e+05  3.155646e+05    3046.0   33915.0   \n",
       "Rhode Island           7.0  6.381257e+04  8.568429e+04    4228.0   19923.5   \n",
       "South Carolina         7.0  3.051543e+05  5.003136e+05   34357.0   67078.0   \n",
       "South Dakota           7.0  5.261429e+04  8.951889e+04    4840.0   12682.5   \n",
       "Tennessee              7.0  4.066691e+05  7.000888e+05   66424.0   99919.0   \n",
       "Texas                  7.0  1.583958e+06  2.562248e+06  186352.0  352453.0   \n",
       "Utah                   7.0  1.613800e+05  2.713693e+05   26642.0   32733.5   \n",
       "Vermont                7.0  3.958429e+04  6.479734e+04   11016.0   13755.0   \n",
       "Virginia               7.0  4.829439e+05  7.244987e+05   49801.0  112242.0   \n",
       "Washington             7.0  4.399933e+05  6.757624e+05   61721.0  117930.5   \n",
       "West Virginia          7.0  1.051916e+05  1.895156e+05   12928.0   19206.0   \n",
       "Wisconsin              7.0  3.558744e+05  5.771569e+05   65504.0   97293.5   \n",
       "Wyoming                7.0  3.476014e+04  5.900138e+04    4330.0    9365.5   \n",
       "\n",
       "                                                      \n",
       "                           50%        75%        max  \n",
       "State                                                 \n",
       "Alabama                75649.0   185193.5  1436137.0  \n",
       "Alaska                 20093.0    21732.0   170997.0  \n",
       "Arizona               148000.0   296435.5  1888094.0  \n",
       "Arkansas               43527.0   107998.5   850269.0  \n",
       "California            745229.0  1728072.5  7839643.0  \n",
       "Colorado               98628.0   298736.0  1494133.0  \n",
       "Connecticut            93688.0   160770.0   851282.0  \n",
       "Delaware               23540.0    51591.5   249598.0  \n",
       "District of Columbia   25437.0    53098.5   161140.0  \n",
       "Florida               621163.0  1114152.5  5059935.0  \n",
       "Georgia               191175.0   375545.0  2772474.0  \n",
       "Hawaii                 29166.0    76772.5   281254.0  \n",
       "Idaho                  33702.0    47029.0   534334.0  \n",
       "Illinois              322750.0   548322.0  2994287.0  \n",
       "Indiana               109326.0   170321.0  2017934.0  \n",
       "Iowa                   49523.0    98724.5   979398.0  \n",
       "Kansas                 42945.0    82237.5   857140.0  \n",
       "Kentucky               83489.0   159447.5  1249035.0  \n",
       "Louisiana              72264.0   173664.0  1229354.0  \n",
       "Maine                  33986.0    43811.5   409280.0  \n",
       "Maryland              115215.0   453001.0  1243136.0  \n",
       "Massachusetts         262857.0   384536.5  1415425.0  \n",
       "Michigan              198552.0   286016.5  2959398.0  \n",
       "Minnesota              56952.0   286908.5  1541556.0  \n",
       "Mississippi            36974.0   110755.5   814096.0  \n",
       "Missouri              112655.0   174560.0  1799182.0  \n",
       "Montana                23570.0    38004.5   318575.0  \n",
       "Nebraska               34231.0    70350.5   578643.0  \n",
       "Nevada                 68125.0   117520.0   751313.0  \n",
       "New Hampshire          28160.0    46598.5   353868.0  \n",
       "New Jersey            291721.0   471636.5  1876126.0  \n",
       "New Mexico             32286.0    93300.5   565530.0  \n",
       "New York              524162.0  1524877.0  3200982.0  \n",
       "North Carolina        203737.0   439121.5  2866108.0  \n",
       "North Dakota           20726.0    44690.0   196687.0  \n",
       "Ohio                  211639.0   366227.0  3422661.0  \n",
       "Oklahoma               58629.0   126043.5  1152288.0  \n",
       "Oregon                 84330.0   179335.5  1088551.0  \n",
       "Pennsylvania          215005.0   755028.0  3027709.0  \n",
       "Puerto Rico            59961.0   134016.5   890441.0  \n",
       "Rhode Island           43129.0    53126.5   253231.0  \n",
       "South Carolina         86166.0   230011.5  1421378.0  \n",
       "South Dakota           16142.0    34203.5   253546.0  \n",
       "Tennessee             116688.0   238729.5  1986275.0  \n",
       "Texas                 480571.0  1222007.0  7271865.0  \n",
       "Utah                   42790.0   112255.5   770250.0  \n",
       "Vermont                16254.0    17963.0   186384.0  \n",
       "Virginia              149890.0   435550.5  2085331.0  \n",
       "Washington            141570.0   355789.0  1929223.0  \n",
       "West Virginia          20263.0    67462.0   529814.0  \n",
       "Wisconsin             127889.0   225479.5  1652182.0  \n",
       "Wyoming                12309.0    20185.0   167581.0  "
      ]
     },
     "execution_count": 280,
     "metadata": {},
     "output_type": "execute_result"
    }
   ],
   "source": [
    "df_total.groupby('State').describe()"
   ]
  },
  {
   "cell_type": "code",
   "execution_count": 281,
   "metadata": {},
   "outputs": [],
   "source": [
    "total_occupied_housing = df_total.groupby('Code').sum()"
   ]
  },
  {
   "cell_type": "code",
   "execution_count": 282,
   "metadata": {},
   "outputs": [],
   "source": [
    "total_occupied_housing = total_occupied_housing.reset_index()"
   ]
  },
  {
   "cell_type": "code",
   "execution_count": 283,
   "metadata": {},
   "outputs": [
    {
     "data": {
      "text/html": [
       "<div>\n",
       "<style scoped>\n",
       "    .dataframe tbody tr th:only-of-type {\n",
       "        vertical-align: middle;\n",
       "    }\n",
       "\n",
       "    .dataframe tbody tr th {\n",
       "        vertical-align: top;\n",
       "    }\n",
       "\n",
       "    .dataframe thead th {\n",
       "        text-align: right;\n",
       "    }\n",
       "</style>\n",
       "<table border=\"1\" class=\"dataframe\">\n",
       "  <thead>\n",
       "    <tr style=\"text-align: right;\">\n",
       "      <th></th>\n",
       "      <th>Code</th>\n",
       "      <th>Count</th>\n",
       "    </tr>\n",
       "  </thead>\n",
       "  <tbody>\n",
       "    <tr>\n",
       "      <th>0</th>\n",
       "      <td>AK</td>\n",
       "      <td>274574</td>\n",
       "    </tr>\n",
       "    <tr>\n",
       "      <th>1</th>\n",
       "      <td>AL</td>\n",
       "      <td>2016448</td>\n",
       "    </tr>\n",
       "    <tr>\n",
       "      <th>2</th>\n",
       "      <td>AR</td>\n",
       "      <td>1216207</td>\n",
       "    </tr>\n",
       "    <tr>\n",
       "      <th>3</th>\n",
       "      <td>AZ</td>\n",
       "      <td>2850377</td>\n",
       "    </tr>\n",
       "    <tr>\n",
       "      <th>4</th>\n",
       "      <td>CA</td>\n",
       "      <td>13550586</td>\n",
       "    </tr>\n",
       "  </tbody>\n",
       "</table>\n",
       "</div>"
      ],
      "text/plain": [
       "  Code     Count\n",
       "0   AK    274574\n",
       "1   AL   2016448\n",
       "2   AR   1216207\n",
       "3   AZ   2850377\n",
       "4   CA  13550586"
      ]
     },
     "execution_count": 283,
     "metadata": {},
     "output_type": "execute_result"
    }
   ],
   "source": [
    "total_occupied_housing.head()"
   ]
  },
  {
   "cell_type": "code",
   "execution_count": 284,
   "metadata": {},
   "outputs": [],
   "source": [
    "def make_map(df, data_year: str):\n",
    "\n",
    "    data = dict(type = 'choropleth',\n",
    "                colorscale = 'Portland',\n",
    "                locations = df['Code'],\n",
    "                locationmode = 'USA-states',\n",
    "                z=df['Count'],\n",
    "                colorbar = {'title':'Occupied housing units'})\n",
    "\n",
    "    layout = dict(\n",
    "        title = {'text': f'{data_year} US Occupied housing units', 'x':0.5, 'xanchor': 'center'},\n",
    "        geo = dict(scope = 'usa'),\n",
    "        autosize = True,\n",
    "        width = 800,\n",
    "        height = 600,\n",
    "    )\n",
    "\n",
    "    choromap = go.Figure(data = [data],layout = layout)\n",
    "\n",
    "    iplot(choromap)"
   ]
  },
  {
   "cell_type": "code",
   "execution_count": 285,
   "metadata": {},
   "outputs": [
    {
     "data": {
      "application/vnd.plotly.v1+json": {
       "config": {
        "linkText": "Export to plot.ly",
        "plotlyServerURL": "https://plot.ly",
        "showLink": false
       },
       "data": [
        {
         "colorbar": {
          "title": {
           "text": "Occupied housing units"
          }
         },
         "colorscale": [
          [
           0,
           "rgb(12,51,131)"
          ],
          [
           0.25,
           "rgb(10,136,186)"
          ],
          [
           0.5,
           "rgb(242,211,56)"
          ],
          [
           0.75,
           "rgb(242,143,56)"
          ],
          [
           1,
           "rgb(217,30,30)"
          ]
         ],
         "locationmode": "USA-states",
         "locations": [
          "AK",
          "AL",
          "AR",
          "AZ",
          "CA",
          "CO",
          "CT",
          "DC",
          "DE",
          "FL",
          "GA",
          "HI",
          "IA",
          "ID",
          "IL",
          "IN",
          "KS",
          "KY",
          "LA",
          "MA",
          "MD",
          "ME",
          "MI",
          "MN",
          "MO",
          "MS",
          "MT",
          "NC",
          "ND",
          "NE",
          "NH",
          "NJ",
          "NM",
          "NV",
          "NY",
          "OH",
          "OK",
          "OR",
          "PA",
          "PR",
          "RI",
          "SC",
          "SD",
          "TN",
          "TX",
          "UT",
          "VA",
          "VT",
          "WA",
          "WI",
          "WV",
          "WY"
         ],
         "type": "choropleth",
         "z": [
          274574,
          2016448,
          1216207,
          2850377,
          13550586,
          2384584,
          1433635,
          326970,
          402334,
          8826394,
          4092467,
          494827,
          1330995,
          717151,
          5056360,
          2726489,
          1175294,
          1828680,
          1816902,
          2797776,
          2375984,
          605338,
          4089794,
          2322190,
          2521832,
          1148340,
          464072,
          4299266,
          331481,
          803157,
          557220,
          3516978,
          848218,
          1198356,
          7774308,
          4878206,
          1573180,
          1726340,
          5294065,
          1289311,
          446688,
          2136080,
          368300,
          2846684,
          11087708,
          1129660,
          3380607,
          277090,
          3079953,
          2491121,
          736341,
          243321
         ]
        }
       ],
       "layout": {
        "autosize": true,
        "geo": {
         "scope": "usa"
        },
        "height": 600,
        "template": {
         "data": {
          "bar": [
           {
            "error_x": {
             "color": "#2a3f5f"
            },
            "error_y": {
             "color": "#2a3f5f"
            },
            "marker": {
             "line": {
              "color": "#E5ECF6",
              "width": 0.5
             },
             "pattern": {
              "fillmode": "overlay",
              "size": 10,
              "solidity": 0.2
             }
            },
            "type": "bar"
           }
          ],
          "barpolar": [
           {
            "marker": {
             "line": {
              "color": "#E5ECF6",
              "width": 0.5
             },
             "pattern": {
              "fillmode": "overlay",
              "size": 10,
              "solidity": 0.2
             }
            },
            "type": "barpolar"
           }
          ],
          "carpet": [
           {
            "aaxis": {
             "endlinecolor": "#2a3f5f",
             "gridcolor": "white",
             "linecolor": "white",
             "minorgridcolor": "white",
             "startlinecolor": "#2a3f5f"
            },
            "baxis": {
             "endlinecolor": "#2a3f5f",
             "gridcolor": "white",
             "linecolor": "white",
             "minorgridcolor": "white",
             "startlinecolor": "#2a3f5f"
            },
            "type": "carpet"
           }
          ],
          "choropleth": [
           {
            "colorbar": {
             "outlinewidth": 0,
             "ticks": ""
            },
            "type": "choropleth"
           }
          ],
          "contour": [
           {
            "colorbar": {
             "outlinewidth": 0,
             "ticks": ""
            },
            "colorscale": [
             [
              0,
              "#0d0887"
             ],
             [
              0.1111111111111111,
              "#46039f"
             ],
             [
              0.2222222222222222,
              "#7201a8"
             ],
             [
              0.3333333333333333,
              "#9c179e"
             ],
             [
              0.4444444444444444,
              "#bd3786"
             ],
             [
              0.5555555555555556,
              "#d8576b"
             ],
             [
              0.6666666666666666,
              "#ed7953"
             ],
             [
              0.7777777777777778,
              "#fb9f3a"
             ],
             [
              0.8888888888888888,
              "#fdca26"
             ],
             [
              1,
              "#f0f921"
             ]
            ],
            "type": "contour"
           }
          ],
          "contourcarpet": [
           {
            "colorbar": {
             "outlinewidth": 0,
             "ticks": ""
            },
            "type": "contourcarpet"
           }
          ],
          "heatmap": [
           {
            "colorbar": {
             "outlinewidth": 0,
             "ticks": ""
            },
            "colorscale": [
             [
              0,
              "#0d0887"
             ],
             [
              0.1111111111111111,
              "#46039f"
             ],
             [
              0.2222222222222222,
              "#7201a8"
             ],
             [
              0.3333333333333333,
              "#9c179e"
             ],
             [
              0.4444444444444444,
              "#bd3786"
             ],
             [
              0.5555555555555556,
              "#d8576b"
             ],
             [
              0.6666666666666666,
              "#ed7953"
             ],
             [
              0.7777777777777778,
              "#fb9f3a"
             ],
             [
              0.8888888888888888,
              "#fdca26"
             ],
             [
              1,
              "#f0f921"
             ]
            ],
            "type": "heatmap"
           }
          ],
          "heatmapgl": [
           {
            "colorbar": {
             "outlinewidth": 0,
             "ticks": ""
            },
            "colorscale": [
             [
              0,
              "#0d0887"
             ],
             [
              0.1111111111111111,
              "#46039f"
             ],
             [
              0.2222222222222222,
              "#7201a8"
             ],
             [
              0.3333333333333333,
              "#9c179e"
             ],
             [
              0.4444444444444444,
              "#bd3786"
             ],
             [
              0.5555555555555556,
              "#d8576b"
             ],
             [
              0.6666666666666666,
              "#ed7953"
             ],
             [
              0.7777777777777778,
              "#fb9f3a"
             ],
             [
              0.8888888888888888,
              "#fdca26"
             ],
             [
              1,
              "#f0f921"
             ]
            ],
            "type": "heatmapgl"
           }
          ],
          "histogram": [
           {
            "marker": {
             "pattern": {
              "fillmode": "overlay",
              "size": 10,
              "solidity": 0.2
             }
            },
            "type": "histogram"
           }
          ],
          "histogram2d": [
           {
            "colorbar": {
             "outlinewidth": 0,
             "ticks": ""
            },
            "colorscale": [
             [
              0,
              "#0d0887"
             ],
             [
              0.1111111111111111,
              "#46039f"
             ],
             [
              0.2222222222222222,
              "#7201a8"
             ],
             [
              0.3333333333333333,
              "#9c179e"
             ],
             [
              0.4444444444444444,
              "#bd3786"
             ],
             [
              0.5555555555555556,
              "#d8576b"
             ],
             [
              0.6666666666666666,
              "#ed7953"
             ],
             [
              0.7777777777777778,
              "#fb9f3a"
             ],
             [
              0.8888888888888888,
              "#fdca26"
             ],
             [
              1,
              "#f0f921"
             ]
            ],
            "type": "histogram2d"
           }
          ],
          "histogram2dcontour": [
           {
            "colorbar": {
             "outlinewidth": 0,
             "ticks": ""
            },
            "colorscale": [
             [
              0,
              "#0d0887"
             ],
             [
              0.1111111111111111,
              "#46039f"
             ],
             [
              0.2222222222222222,
              "#7201a8"
             ],
             [
              0.3333333333333333,
              "#9c179e"
             ],
             [
              0.4444444444444444,
              "#bd3786"
             ],
             [
              0.5555555555555556,
              "#d8576b"
             ],
             [
              0.6666666666666666,
              "#ed7953"
             ],
             [
              0.7777777777777778,
              "#fb9f3a"
             ],
             [
              0.8888888888888888,
              "#fdca26"
             ],
             [
              1,
              "#f0f921"
             ]
            ],
            "type": "histogram2dcontour"
           }
          ],
          "mesh3d": [
           {
            "colorbar": {
             "outlinewidth": 0,
             "ticks": ""
            },
            "type": "mesh3d"
           }
          ],
          "parcoords": [
           {
            "line": {
             "colorbar": {
              "outlinewidth": 0,
              "ticks": ""
             }
            },
            "type": "parcoords"
           }
          ],
          "pie": [
           {
            "automargin": true,
            "type": "pie"
           }
          ],
          "scatter": [
           {
            "fillpattern": {
             "fillmode": "overlay",
             "size": 10,
             "solidity": 0.2
            },
            "type": "scatter"
           }
          ],
          "scatter3d": [
           {
            "line": {
             "colorbar": {
              "outlinewidth": 0,
              "ticks": ""
             }
            },
            "marker": {
             "colorbar": {
              "outlinewidth": 0,
              "ticks": ""
             }
            },
            "type": "scatter3d"
           }
          ],
          "scattercarpet": [
           {
            "marker": {
             "colorbar": {
              "outlinewidth": 0,
              "ticks": ""
             }
            },
            "type": "scattercarpet"
           }
          ],
          "scattergeo": [
           {
            "marker": {
             "colorbar": {
              "outlinewidth": 0,
              "ticks": ""
             }
            },
            "type": "scattergeo"
           }
          ],
          "scattergl": [
           {
            "marker": {
             "colorbar": {
              "outlinewidth": 0,
              "ticks": ""
             }
            },
            "type": "scattergl"
           }
          ],
          "scattermapbox": [
           {
            "marker": {
             "colorbar": {
              "outlinewidth": 0,
              "ticks": ""
             }
            },
            "type": "scattermapbox"
           }
          ],
          "scatterpolar": [
           {
            "marker": {
             "colorbar": {
              "outlinewidth": 0,
              "ticks": ""
             }
            },
            "type": "scatterpolar"
           }
          ],
          "scatterpolargl": [
           {
            "marker": {
             "colorbar": {
              "outlinewidth": 0,
              "ticks": ""
             }
            },
            "type": "scatterpolargl"
           }
          ],
          "scatterternary": [
           {
            "marker": {
             "colorbar": {
              "outlinewidth": 0,
              "ticks": ""
             }
            },
            "type": "scatterternary"
           }
          ],
          "surface": [
           {
            "colorbar": {
             "outlinewidth": 0,
             "ticks": ""
            },
            "colorscale": [
             [
              0,
              "#0d0887"
             ],
             [
              0.1111111111111111,
              "#46039f"
             ],
             [
              0.2222222222222222,
              "#7201a8"
             ],
             [
              0.3333333333333333,
              "#9c179e"
             ],
             [
              0.4444444444444444,
              "#bd3786"
             ],
             [
              0.5555555555555556,
              "#d8576b"
             ],
             [
              0.6666666666666666,
              "#ed7953"
             ],
             [
              0.7777777777777778,
              "#fb9f3a"
             ],
             [
              0.8888888888888888,
              "#fdca26"
             ],
             [
              1,
              "#f0f921"
             ]
            ],
            "type": "surface"
           }
          ],
          "table": [
           {
            "cells": {
             "fill": {
              "color": "#EBF0F8"
             },
             "line": {
              "color": "white"
             }
            },
            "header": {
             "fill": {
              "color": "#C8D4E3"
             },
             "line": {
              "color": "white"
             }
            },
            "type": "table"
           }
          ]
         },
         "layout": {
          "annotationdefaults": {
           "arrowcolor": "#2a3f5f",
           "arrowhead": 0,
           "arrowwidth": 1
          },
          "autotypenumbers": "strict",
          "coloraxis": {
           "colorbar": {
            "outlinewidth": 0,
            "ticks": ""
           }
          },
          "colorscale": {
           "diverging": [
            [
             0,
             "#8e0152"
            ],
            [
             0.1,
             "#c51b7d"
            ],
            [
             0.2,
             "#de77ae"
            ],
            [
             0.3,
             "#f1b6da"
            ],
            [
             0.4,
             "#fde0ef"
            ],
            [
             0.5,
             "#f7f7f7"
            ],
            [
             0.6,
             "#e6f5d0"
            ],
            [
             0.7,
             "#b8e186"
            ],
            [
             0.8,
             "#7fbc41"
            ],
            [
             0.9,
             "#4d9221"
            ],
            [
             1,
             "#276419"
            ]
           ],
           "sequential": [
            [
             0,
             "#0d0887"
            ],
            [
             0.1111111111111111,
             "#46039f"
            ],
            [
             0.2222222222222222,
             "#7201a8"
            ],
            [
             0.3333333333333333,
             "#9c179e"
            ],
            [
             0.4444444444444444,
             "#bd3786"
            ],
            [
             0.5555555555555556,
             "#d8576b"
            ],
            [
             0.6666666666666666,
             "#ed7953"
            ],
            [
             0.7777777777777778,
             "#fb9f3a"
            ],
            [
             0.8888888888888888,
             "#fdca26"
            ],
            [
             1,
             "#f0f921"
            ]
           ],
           "sequentialminus": [
            [
             0,
             "#0d0887"
            ],
            [
             0.1111111111111111,
             "#46039f"
            ],
            [
             0.2222222222222222,
             "#7201a8"
            ],
            [
             0.3333333333333333,
             "#9c179e"
            ],
            [
             0.4444444444444444,
             "#bd3786"
            ],
            [
             0.5555555555555556,
             "#d8576b"
            ],
            [
             0.6666666666666666,
             "#ed7953"
            ],
            [
             0.7777777777777778,
             "#fb9f3a"
            ],
            [
             0.8888888888888888,
             "#fdca26"
            ],
            [
             1,
             "#f0f921"
            ]
           ]
          },
          "colorway": [
           "#636efa",
           "#EF553B",
           "#00cc96",
           "#ab63fa",
           "#FFA15A",
           "#19d3f3",
           "#FF6692",
           "#B6E880",
           "#FF97FF",
           "#FECB52"
          ],
          "font": {
           "color": "#2a3f5f"
          },
          "geo": {
           "bgcolor": "white",
           "lakecolor": "white",
           "landcolor": "#E5ECF6",
           "showlakes": true,
           "showland": true,
           "subunitcolor": "white"
          },
          "hoverlabel": {
           "align": "left"
          },
          "hovermode": "closest",
          "mapbox": {
           "style": "light"
          },
          "paper_bgcolor": "white",
          "plot_bgcolor": "#E5ECF6",
          "polar": {
           "angularaxis": {
            "gridcolor": "white",
            "linecolor": "white",
            "ticks": ""
           },
           "bgcolor": "#E5ECF6",
           "radialaxis": {
            "gridcolor": "white",
            "linecolor": "white",
            "ticks": ""
           }
          },
          "scene": {
           "xaxis": {
            "backgroundcolor": "#E5ECF6",
            "gridcolor": "white",
            "gridwidth": 2,
            "linecolor": "white",
            "showbackground": true,
            "ticks": "",
            "zerolinecolor": "white"
           },
           "yaxis": {
            "backgroundcolor": "#E5ECF6",
            "gridcolor": "white",
            "gridwidth": 2,
            "linecolor": "white",
            "showbackground": true,
            "ticks": "",
            "zerolinecolor": "white"
           },
           "zaxis": {
            "backgroundcolor": "#E5ECF6",
            "gridcolor": "white",
            "gridwidth": 2,
            "linecolor": "white",
            "showbackground": true,
            "ticks": "",
            "zerolinecolor": "white"
           }
          },
          "shapedefaults": {
           "line": {
            "color": "#2a3f5f"
           }
          },
          "ternary": {
           "aaxis": {
            "gridcolor": "white",
            "linecolor": "white",
            "ticks": ""
           },
           "baxis": {
            "gridcolor": "white",
            "linecolor": "white",
            "ticks": ""
           },
           "bgcolor": "#E5ECF6",
           "caxis": {
            "gridcolor": "white",
            "linecolor": "white",
            "ticks": ""
           }
          },
          "title": {
           "x": 0.05
          },
          "xaxis": {
           "automargin": true,
           "gridcolor": "white",
           "linecolor": "white",
           "ticks": "",
           "title": {
            "standoff": 15
           },
           "zerolinecolor": "white",
           "zerolinewidth": 2
          },
          "yaxis": {
           "automargin": true,
           "gridcolor": "white",
           "linecolor": "white",
           "ticks": "",
           "title": {
            "standoff": 15
           },
           "zerolinecolor": "white",
           "zerolinewidth": 2
          }
         }
        },
        "title": {
         "text": "2022 US Occupied housing units",
         "x": 0.5,
         "xanchor": "center"
        },
        "width": 800
       }
      },
      "text/html": [
       "<div>                            <div id=\"3efecf8a-2fe1-4a83-8e27-dfa9bad82441\" class=\"plotly-graph-div\" style=\"height:600px; width:800px;\"></div>            <script type=\"text/javascript\">                require([\"plotly\"], function(Plotly) {                    window.PLOTLYENV=window.PLOTLYENV || {};                                    if (document.getElementById(\"3efecf8a-2fe1-4a83-8e27-dfa9bad82441\")) {                    Plotly.newPlot(                        \"3efecf8a-2fe1-4a83-8e27-dfa9bad82441\",                        [{\"colorbar\":{\"title\":{\"text\":\"Occupied housing units\"}},\"colorscale\":[[0.0,\"rgb(12,51,131)\"],[0.25,\"rgb(10,136,186)\"],[0.5,\"rgb(242,211,56)\"],[0.75,\"rgb(242,143,56)\"],[1.0,\"rgb(217,30,30)\"]],\"locationmode\":\"USA-states\",\"locations\":[\"AK\",\"AL\",\"AR\",\"AZ\",\"CA\",\"CO\",\"CT\",\"DC\",\"DE\",\"FL\",\"GA\",\"HI\",\"IA\",\"ID\",\"IL\",\"IN\",\"KS\",\"KY\",\"LA\",\"MA\",\"MD\",\"ME\",\"MI\",\"MN\",\"MO\",\"MS\",\"MT\",\"NC\",\"ND\",\"NE\",\"NH\",\"NJ\",\"NM\",\"NV\",\"NY\",\"OH\",\"OK\",\"OR\",\"PA\",\"PR\",\"RI\",\"SC\",\"SD\",\"TN\",\"TX\",\"UT\",\"VA\",\"VT\",\"WA\",\"WI\",\"WV\",\"WY\"],\"z\":[274574,2016448,1216207,2850377,13550586,2384584,1433635,326970,402334,8826394,4092467,494827,1330995,717151,5056360,2726489,1175294,1828680,1816902,2797776,2375984,605338,4089794,2322190,2521832,1148340,464072,4299266,331481,803157,557220,3516978,848218,1198356,7774308,4878206,1573180,1726340,5294065,1289311,446688,2136080,368300,2846684,11087708,1129660,3380607,277090,3079953,2491121,736341,243321],\"type\":\"choropleth\"}],                        {\"autosize\":true,\"geo\":{\"scope\":\"usa\"},\"height\":600,\"template\":{\"data\":{\"barpolar\":[{\"marker\":{\"line\":{\"color\":\"#E5ECF6\",\"width\":0.5},\"pattern\":{\"fillmode\":\"overlay\",\"size\":10,\"solidity\":0.2}},\"type\":\"barpolar\"}],\"bar\":[{\"error_x\":{\"color\":\"#2a3f5f\"},\"error_y\":{\"color\":\"#2a3f5f\"},\"marker\":{\"line\":{\"color\":\"#E5ECF6\",\"width\":0.5},\"pattern\":{\"fillmode\":\"overlay\",\"size\":10,\"solidity\":0.2}},\"type\":\"bar\"}],\"carpet\":[{\"aaxis\":{\"endlinecolor\":\"#2a3f5f\",\"gridcolor\":\"white\",\"linecolor\":\"white\",\"minorgridcolor\":\"white\",\"startlinecolor\":\"#2a3f5f\"},\"baxis\":{\"endlinecolor\":\"#2a3f5f\",\"gridcolor\":\"white\",\"linecolor\":\"white\",\"minorgridcolor\":\"white\",\"startlinecolor\":\"#2a3f5f\"},\"type\":\"carpet\"}],\"choropleth\":[{\"colorbar\":{\"outlinewidth\":0,\"ticks\":\"\"},\"type\":\"choropleth\"}],\"contourcarpet\":[{\"colorbar\":{\"outlinewidth\":0,\"ticks\":\"\"},\"type\":\"contourcarpet\"}],\"contour\":[{\"colorbar\":{\"outlinewidth\":0,\"ticks\":\"\"},\"colorscale\":[[0.0,\"#0d0887\"],[0.1111111111111111,\"#46039f\"],[0.2222222222222222,\"#7201a8\"],[0.3333333333333333,\"#9c179e\"],[0.4444444444444444,\"#bd3786\"],[0.5555555555555556,\"#d8576b\"],[0.6666666666666666,\"#ed7953\"],[0.7777777777777778,\"#fb9f3a\"],[0.8888888888888888,\"#fdca26\"],[1.0,\"#f0f921\"]],\"type\":\"contour\"}],\"heatmapgl\":[{\"colorbar\":{\"outlinewidth\":0,\"ticks\":\"\"},\"colorscale\":[[0.0,\"#0d0887\"],[0.1111111111111111,\"#46039f\"],[0.2222222222222222,\"#7201a8\"],[0.3333333333333333,\"#9c179e\"],[0.4444444444444444,\"#bd3786\"],[0.5555555555555556,\"#d8576b\"],[0.6666666666666666,\"#ed7953\"],[0.7777777777777778,\"#fb9f3a\"],[0.8888888888888888,\"#fdca26\"],[1.0,\"#f0f921\"]],\"type\":\"heatmapgl\"}],\"heatmap\":[{\"colorbar\":{\"outlinewidth\":0,\"ticks\":\"\"},\"colorscale\":[[0.0,\"#0d0887\"],[0.1111111111111111,\"#46039f\"],[0.2222222222222222,\"#7201a8\"],[0.3333333333333333,\"#9c179e\"],[0.4444444444444444,\"#bd3786\"],[0.5555555555555556,\"#d8576b\"],[0.6666666666666666,\"#ed7953\"],[0.7777777777777778,\"#fb9f3a\"],[0.8888888888888888,\"#fdca26\"],[1.0,\"#f0f921\"]],\"type\":\"heatmap\"}],\"histogram2dcontour\":[{\"colorbar\":{\"outlinewidth\":0,\"ticks\":\"\"},\"colorscale\":[[0.0,\"#0d0887\"],[0.1111111111111111,\"#46039f\"],[0.2222222222222222,\"#7201a8\"],[0.3333333333333333,\"#9c179e\"],[0.4444444444444444,\"#bd3786\"],[0.5555555555555556,\"#d8576b\"],[0.6666666666666666,\"#ed7953\"],[0.7777777777777778,\"#fb9f3a\"],[0.8888888888888888,\"#fdca26\"],[1.0,\"#f0f921\"]],\"type\":\"histogram2dcontour\"}],\"histogram2d\":[{\"colorbar\":{\"outlinewidth\":0,\"ticks\":\"\"},\"colorscale\":[[0.0,\"#0d0887\"],[0.1111111111111111,\"#46039f\"],[0.2222222222222222,\"#7201a8\"],[0.3333333333333333,\"#9c179e\"],[0.4444444444444444,\"#bd3786\"],[0.5555555555555556,\"#d8576b\"],[0.6666666666666666,\"#ed7953\"],[0.7777777777777778,\"#fb9f3a\"],[0.8888888888888888,\"#fdca26\"],[1.0,\"#f0f921\"]],\"type\":\"histogram2d\"}],\"histogram\":[{\"marker\":{\"pattern\":{\"fillmode\":\"overlay\",\"size\":10,\"solidity\":0.2}},\"type\":\"histogram\"}],\"mesh3d\":[{\"colorbar\":{\"outlinewidth\":0,\"ticks\":\"\"},\"type\":\"mesh3d\"}],\"parcoords\":[{\"line\":{\"colorbar\":{\"outlinewidth\":0,\"ticks\":\"\"}},\"type\":\"parcoords\"}],\"pie\":[{\"automargin\":true,\"type\":\"pie\"}],\"scatter3d\":[{\"line\":{\"colorbar\":{\"outlinewidth\":0,\"ticks\":\"\"}},\"marker\":{\"colorbar\":{\"outlinewidth\":0,\"ticks\":\"\"}},\"type\":\"scatter3d\"}],\"scattercarpet\":[{\"marker\":{\"colorbar\":{\"outlinewidth\":0,\"ticks\":\"\"}},\"type\":\"scattercarpet\"}],\"scattergeo\":[{\"marker\":{\"colorbar\":{\"outlinewidth\":0,\"ticks\":\"\"}},\"type\":\"scattergeo\"}],\"scattergl\":[{\"marker\":{\"colorbar\":{\"outlinewidth\":0,\"ticks\":\"\"}},\"type\":\"scattergl\"}],\"scattermapbox\":[{\"marker\":{\"colorbar\":{\"outlinewidth\":0,\"ticks\":\"\"}},\"type\":\"scattermapbox\"}],\"scatterpolargl\":[{\"marker\":{\"colorbar\":{\"outlinewidth\":0,\"ticks\":\"\"}},\"type\":\"scatterpolargl\"}],\"scatterpolar\":[{\"marker\":{\"colorbar\":{\"outlinewidth\":0,\"ticks\":\"\"}},\"type\":\"scatterpolar\"}],\"scatter\":[{\"fillpattern\":{\"fillmode\":\"overlay\",\"size\":10,\"solidity\":0.2},\"type\":\"scatter\"}],\"scatterternary\":[{\"marker\":{\"colorbar\":{\"outlinewidth\":0,\"ticks\":\"\"}},\"type\":\"scatterternary\"}],\"surface\":[{\"colorbar\":{\"outlinewidth\":0,\"ticks\":\"\"},\"colorscale\":[[0.0,\"#0d0887\"],[0.1111111111111111,\"#46039f\"],[0.2222222222222222,\"#7201a8\"],[0.3333333333333333,\"#9c179e\"],[0.4444444444444444,\"#bd3786\"],[0.5555555555555556,\"#d8576b\"],[0.6666666666666666,\"#ed7953\"],[0.7777777777777778,\"#fb9f3a\"],[0.8888888888888888,\"#fdca26\"],[1.0,\"#f0f921\"]],\"type\":\"surface\"}],\"table\":[{\"cells\":{\"fill\":{\"color\":\"#EBF0F8\"},\"line\":{\"color\":\"white\"}},\"header\":{\"fill\":{\"color\":\"#C8D4E3\"},\"line\":{\"color\":\"white\"}},\"type\":\"table\"}]},\"layout\":{\"annotationdefaults\":{\"arrowcolor\":\"#2a3f5f\",\"arrowhead\":0,\"arrowwidth\":1},\"autotypenumbers\":\"strict\",\"coloraxis\":{\"colorbar\":{\"outlinewidth\":0,\"ticks\":\"\"}},\"colorscale\":{\"diverging\":[[0,\"#8e0152\"],[0.1,\"#c51b7d\"],[0.2,\"#de77ae\"],[0.3,\"#f1b6da\"],[0.4,\"#fde0ef\"],[0.5,\"#f7f7f7\"],[0.6,\"#e6f5d0\"],[0.7,\"#b8e186\"],[0.8,\"#7fbc41\"],[0.9,\"#4d9221\"],[1,\"#276419\"]],\"sequential\":[[0.0,\"#0d0887\"],[0.1111111111111111,\"#46039f\"],[0.2222222222222222,\"#7201a8\"],[0.3333333333333333,\"#9c179e\"],[0.4444444444444444,\"#bd3786\"],[0.5555555555555556,\"#d8576b\"],[0.6666666666666666,\"#ed7953\"],[0.7777777777777778,\"#fb9f3a\"],[0.8888888888888888,\"#fdca26\"],[1.0,\"#f0f921\"]],\"sequentialminus\":[[0.0,\"#0d0887\"],[0.1111111111111111,\"#46039f\"],[0.2222222222222222,\"#7201a8\"],[0.3333333333333333,\"#9c179e\"],[0.4444444444444444,\"#bd3786\"],[0.5555555555555556,\"#d8576b\"],[0.6666666666666666,\"#ed7953\"],[0.7777777777777778,\"#fb9f3a\"],[0.8888888888888888,\"#fdca26\"],[1.0,\"#f0f921\"]]},\"colorway\":[\"#636efa\",\"#EF553B\",\"#00cc96\",\"#ab63fa\",\"#FFA15A\",\"#19d3f3\",\"#FF6692\",\"#B6E880\",\"#FF97FF\",\"#FECB52\"],\"font\":{\"color\":\"#2a3f5f\"},\"geo\":{\"bgcolor\":\"white\",\"lakecolor\":\"white\",\"landcolor\":\"#E5ECF6\",\"showlakes\":true,\"showland\":true,\"subunitcolor\":\"white\"},\"hoverlabel\":{\"align\":\"left\"},\"hovermode\":\"closest\",\"mapbox\":{\"style\":\"light\"},\"paper_bgcolor\":\"white\",\"plot_bgcolor\":\"#E5ECF6\",\"polar\":{\"angularaxis\":{\"gridcolor\":\"white\",\"linecolor\":\"white\",\"ticks\":\"\"},\"bgcolor\":\"#E5ECF6\",\"radialaxis\":{\"gridcolor\":\"white\",\"linecolor\":\"white\",\"ticks\":\"\"}},\"scene\":{\"xaxis\":{\"backgroundcolor\":\"#E5ECF6\",\"gridcolor\":\"white\",\"gridwidth\":2,\"linecolor\":\"white\",\"showbackground\":true,\"ticks\":\"\",\"zerolinecolor\":\"white\"},\"yaxis\":{\"backgroundcolor\":\"#E5ECF6\",\"gridcolor\":\"white\",\"gridwidth\":2,\"linecolor\":\"white\",\"showbackground\":true,\"ticks\":\"\",\"zerolinecolor\":\"white\"},\"zaxis\":{\"backgroundcolor\":\"#E5ECF6\",\"gridcolor\":\"white\",\"gridwidth\":2,\"linecolor\":\"white\",\"showbackground\":true,\"ticks\":\"\",\"zerolinecolor\":\"white\"}},\"shapedefaults\":{\"line\":{\"color\":\"#2a3f5f\"}},\"ternary\":{\"aaxis\":{\"gridcolor\":\"white\",\"linecolor\":\"white\",\"ticks\":\"\"},\"baxis\":{\"gridcolor\":\"white\",\"linecolor\":\"white\",\"ticks\":\"\"},\"bgcolor\":\"#E5ECF6\",\"caxis\":{\"gridcolor\":\"white\",\"linecolor\":\"white\",\"ticks\":\"\"}},\"title\":{\"x\":0.05},\"xaxis\":{\"automargin\":true,\"gridcolor\":\"white\",\"linecolor\":\"white\",\"ticks\":\"\",\"title\":{\"standoff\":15},\"zerolinecolor\":\"white\",\"zerolinewidth\":2},\"yaxis\":{\"automargin\":true,\"gridcolor\":\"white\",\"linecolor\":\"white\",\"ticks\":\"\",\"title\":{\"standoff\":15},\"zerolinecolor\":\"white\",\"zerolinewidth\":2}}},\"title\":{\"text\":\"2022 US Occupied housing units\",\"x\":0.5,\"xanchor\":\"center\"},\"width\":800},                        {\"responsive\": true}                    ).then(function(){\n",
       "                            \n",
       "var gd = document.getElementById('3efecf8a-2fe1-4a83-8e27-dfa9bad82441');\n",
       "var x = new MutationObserver(function (mutations, observer) {{\n",
       "        var display = window.getComputedStyle(gd).display;\n",
       "        if (!display || display === 'none') {{\n",
       "            console.log([gd, 'removed!']);\n",
       "            Plotly.purge(gd);\n",
       "            observer.disconnect();\n",
       "        }}\n",
       "}});\n",
       "\n",
       "// Listen for the removal of the full notebook cells\n",
       "var notebookContainer = gd.closest('#notebook-container');\n",
       "if (notebookContainer) {{\n",
       "    x.observe(notebookContainer, {childList: true});\n",
       "}}\n",
       "\n",
       "// Listen for the clearing of the current output cell\n",
       "var outputEl = gd.closest('.output');\n",
       "if (outputEl) {{\n",
       "    x.observe(outputEl, {childList: true});\n",
       "}}\n",
       "\n",
       "                        })                };                });            </script>        </div>"
      ]
     },
     "metadata": {},
     "output_type": "display_data"
    }
   ],
   "source": [
    "make_map(total_occupied_housing, '2022')"
   ]
  },
  {
   "cell_type": "markdown",
   "metadata": {},
   "source": [
    "## Segment states by predominant housing type - cluster analysis on housing structure types by state"
   ]
  },
  {
   "cell_type": "code",
   "execution_count": 286,
   "metadata": {},
   "outputs": [
    {
     "data": {
      "text/html": [
       "<div>\n",
       "<style scoped>\n",
       "    .dataframe tbody tr th:only-of-type {\n",
       "        vertical-align: middle;\n",
       "    }\n",
       "\n",
       "    .dataframe tbody tr th {\n",
       "        vertical-align: top;\n",
       "    }\n",
       "\n",
       "    .dataframe thead th {\n",
       "        text-align: right;\n",
       "    }\n",
       "</style>\n",
       "<table border=\"1\" class=\"dataframe\">\n",
       "  <thead>\n",
       "    <tr style=\"text-align: right;\">\n",
       "      <th></th>\n",
       "      <th>State</th>\n",
       "      <th>Value</th>\n",
       "      <th>Count</th>\n",
       "      <th>Code</th>\n",
       "    </tr>\n",
       "  </thead>\n",
       "  <tbody>\n",
       "    <tr>\n",
       "      <th>0</th>\n",
       "      <td>Alabama</td>\n",
       "      <td>1, detached</td>\n",
       "      <td>1436137</td>\n",
       "      <td>AL</td>\n",
       "    </tr>\n",
       "    <tr>\n",
       "      <th>1</th>\n",
       "      <td>Alabama</td>\n",
       "      <td>1, attached</td>\n",
       "      <td>41268</td>\n",
       "      <td>AL</td>\n",
       "    </tr>\n",
       "    <tr>\n",
       "      <th>2</th>\n",
       "      <td>Alabama</td>\n",
       "      <td>2 apartments</td>\n",
       "      <td>35683</td>\n",
       "      <td>AL</td>\n",
       "    </tr>\n",
       "    <tr>\n",
       "      <th>3</th>\n",
       "      <td>Alabama</td>\n",
       "      <td>3 or 4 apartments</td>\n",
       "      <td>57324</td>\n",
       "      <td>AL</td>\n",
       "    </tr>\n",
       "    <tr>\n",
       "      <th>4</th>\n",
       "      <td>Alabama</td>\n",
       "      <td>5 to 9 apartments</td>\n",
       "      <td>75649</td>\n",
       "      <td>AL</td>\n",
       "    </tr>\n",
       "  </tbody>\n",
       "</table>\n",
       "</div>"
      ],
      "text/plain": [
       "     State              Value    Count Code\n",
       "0  Alabama        1, detached  1436137   AL\n",
       "1  Alabama        1, attached    41268   AL\n",
       "2  Alabama       2 apartments    35683   AL\n",
       "3  Alabama  3 or 4 apartments    57324   AL\n",
       "4  Alabama  5 to 9 apartments    75649   AL"
      ]
     },
     "execution_count": 286,
     "metadata": {},
     "output_type": "execute_result"
    }
   ],
   "source": [
    "df_total.head()"
   ]
  },
  {
   "cell_type": "code",
   "execution_count": 287,
   "metadata": {},
   "outputs": [
    {
     "name": "stdout",
     "output_type": "stream",
     "text": [
      "                    State                  Value    Count Code\n",
      "0                 Alabama            1, detached  1436137   AL\n",
      "7                  Alaska            1, detached   170997   AK\n",
      "14                Arizona            1, detached  1888094   AZ\n",
      "21               Arkansas            1, detached   850269   AR\n",
      "28             California            1, detached  7839643   CA\n",
      "35               Colorado            1, detached  1494133   CO\n",
      "42            Connecticut            1, detached   851282   CT\n",
      "49               Delaware            1, detached   249598   DE\n",
      "61   District of Columbia  10 or more apartments   161140   DC\n",
      "63                Florida            1, detached  5059935   FL\n",
      "70                Georgia            1, detached  2772474   GA\n",
      "77                 Hawaii            1, detached   281254   HI\n",
      "84                  Idaho            1, detached   534334   ID\n",
      "91               Illinois            1, detached  2994287   IL\n",
      "98                Indiana            1, detached  2017934   IN\n",
      "105                  Iowa            1, detached   979398   IA\n",
      "112                Kansas            1, detached   857140   KS\n",
      "119              Kentucky            1, detached  1249035   KY\n",
      "126             Louisiana            1, detached  1229354   LA\n",
      "133                 Maine            1, detached   409280   ME\n",
      "140              Maryland            1, detached  1243136   MD\n",
      "147         Massachusetts            1, detached  1415425   MA\n",
      "154              Michigan            1, detached  2959398   MI\n",
      "161             Minnesota            1, detached  1541556   MN\n",
      "168           Mississippi            1, detached   814096   MS\n",
      "175              Missouri            1, detached  1799182   MO\n",
      "182               Montana            1, detached   318575   MT\n",
      "189              Nebraska            1, detached   578643   NE\n",
      "196                Nevada            1, detached   751313   NV\n",
      "203         New Hampshire            1, detached   353868   NH\n",
      "210            New Jersey            1, detached  1876126   NJ\n",
      "217            New Mexico            1, detached   565530   NM\n",
      "224              New York            1, detached  3200982   NY\n",
      "231        North Carolina            1, detached  2866108   NC\n",
      "238          North Dakota            1, detached   196687   ND\n",
      "245                  Ohio            1, detached  3422661   OH\n",
      "252              Oklahoma            1, detached  1152288   OK\n",
      "259                Oregon            1, detached  1088551   OR\n",
      "266          Pennsylvania            1, detached  3027709   PA\n",
      "357           Puerto Rico            1, detached   890441   PR\n",
      "273          Rhode Island            1, detached   253231   RI\n",
      "280        South Carolina            1, detached  1421378   SC\n",
      "287          South Dakota            1, detached   253546   SD\n",
      "294             Tennessee            1, detached  1986275   TN\n",
      "301                 Texas            1, detached  7271865   TX\n",
      "308                  Utah            1, detached   770250   UT\n",
      "315               Vermont            1, detached   186384   VT\n",
      "322              Virginia            1, detached  2085331   VA\n",
      "329            Washington            1, detached  1929223   WA\n",
      "336         West Virginia            1, detached   529814   WV\n",
      "343             Wisconsin            1, detached  1652182   WI\n",
      "350               Wyoming            1, detached   167581   WY\n"
     ]
    }
   ],
   "source": [
    "#Get dominant house type and return state and headers\n",
    "df_max = df_total.loc[df_total.groupby('State')['Count'].idxmax()]\n",
    "\n",
    "print(df_max)"
   ]
  },
  {
   "cell_type": "code",
   "execution_count": 288,
   "metadata": {},
   "outputs": [
    {
     "data": {
      "application/vnd.plotly.v1+json": {
       "config": {
        "plotlyServerURL": "https://plot.ly"
       },
       "data": [
        {
         "hovertemplate": "State=Alabama<br>Count=%{x}<br>Value=%{y}<extra></extra>",
         "legendgroup": "Alabama",
         "marker": {
          "color": "#636efa",
          "symbol": "circle"
         },
         "mode": "markers",
         "name": "Alabama",
         "orientation": "h",
         "showlegend": true,
         "type": "scatter",
         "x": [
          1436137
         ],
         "xaxis": "x",
         "y": [
          "1, detached"
         ],
         "yaxis": "y"
        },
        {
         "hovertemplate": "State=Alaska<br>Count=%{x}<br>Value=%{y}<extra></extra>",
         "legendgroup": "Alaska",
         "marker": {
          "color": "#EF553B",
          "symbol": "circle"
         },
         "mode": "markers",
         "name": "Alaska",
         "orientation": "h",
         "showlegend": true,
         "type": "scatter",
         "x": [
          170997
         ],
         "xaxis": "x",
         "y": [
          "1, detached"
         ],
         "yaxis": "y"
        },
        {
         "hovertemplate": "State=Arizona<br>Count=%{x}<br>Value=%{y}<extra></extra>",
         "legendgroup": "Arizona",
         "marker": {
          "color": "#00cc96",
          "symbol": "circle"
         },
         "mode": "markers",
         "name": "Arizona",
         "orientation": "h",
         "showlegend": true,
         "type": "scatter",
         "x": [
          1888094
         ],
         "xaxis": "x",
         "y": [
          "1, detached"
         ],
         "yaxis": "y"
        },
        {
         "hovertemplate": "State=Arkansas<br>Count=%{x}<br>Value=%{y}<extra></extra>",
         "legendgroup": "Arkansas",
         "marker": {
          "color": "#ab63fa",
          "symbol": "circle"
         },
         "mode": "markers",
         "name": "Arkansas",
         "orientation": "h",
         "showlegend": true,
         "type": "scatter",
         "x": [
          850269
         ],
         "xaxis": "x",
         "y": [
          "1, detached"
         ],
         "yaxis": "y"
        },
        {
         "hovertemplate": "State=California<br>Count=%{x}<br>Value=%{y}<extra></extra>",
         "legendgroup": "California",
         "marker": {
          "color": "#FFA15A",
          "symbol": "circle"
         },
         "mode": "markers",
         "name": "California",
         "orientation": "h",
         "showlegend": true,
         "type": "scatter",
         "x": [
          7839643
         ],
         "xaxis": "x",
         "y": [
          "1, detached"
         ],
         "yaxis": "y"
        },
        {
         "hovertemplate": "State=Colorado<br>Count=%{x}<br>Value=%{y}<extra></extra>",
         "legendgroup": "Colorado",
         "marker": {
          "color": "#19d3f3",
          "symbol": "circle"
         },
         "mode": "markers",
         "name": "Colorado",
         "orientation": "h",
         "showlegend": true,
         "type": "scatter",
         "x": [
          1494133
         ],
         "xaxis": "x",
         "y": [
          "1, detached"
         ],
         "yaxis": "y"
        },
        {
         "hovertemplate": "State=Connecticut<br>Count=%{x}<br>Value=%{y}<extra></extra>",
         "legendgroup": "Connecticut",
         "marker": {
          "color": "#FF6692",
          "symbol": "circle"
         },
         "mode": "markers",
         "name": "Connecticut",
         "orientation": "h",
         "showlegend": true,
         "type": "scatter",
         "x": [
          851282
         ],
         "xaxis": "x",
         "y": [
          "1, detached"
         ],
         "yaxis": "y"
        },
        {
         "hovertemplate": "State=Delaware<br>Count=%{x}<br>Value=%{y}<extra></extra>",
         "legendgroup": "Delaware",
         "marker": {
          "color": "#B6E880",
          "symbol": "circle"
         },
         "mode": "markers",
         "name": "Delaware",
         "orientation": "h",
         "showlegend": true,
         "type": "scatter",
         "x": [
          249598
         ],
         "xaxis": "x",
         "y": [
          "1, detached"
         ],
         "yaxis": "y"
        },
        {
         "hovertemplate": "State=District of Columbia<br>Count=%{x}<br>Value=%{y}<extra></extra>",
         "legendgroup": "District of Columbia",
         "marker": {
          "color": "#FF97FF",
          "symbol": "circle"
         },
         "mode": "markers",
         "name": "District of Columbia",
         "orientation": "h",
         "showlegend": true,
         "type": "scatter",
         "x": [
          161140
         ],
         "xaxis": "x",
         "y": [
          "10 or more apartments"
         ],
         "yaxis": "y"
        },
        {
         "hovertemplate": "State=Florida<br>Count=%{x}<br>Value=%{y}<extra></extra>",
         "legendgroup": "Florida",
         "marker": {
          "color": "#FECB52",
          "symbol": "circle"
         },
         "mode": "markers",
         "name": "Florida",
         "orientation": "h",
         "showlegend": true,
         "type": "scatter",
         "x": [
          5059935
         ],
         "xaxis": "x",
         "y": [
          "1, detached"
         ],
         "yaxis": "y"
        },
        {
         "hovertemplate": "State=Georgia<br>Count=%{x}<br>Value=%{y}<extra></extra>",
         "legendgroup": "Georgia",
         "marker": {
          "color": "#636efa",
          "symbol": "circle"
         },
         "mode": "markers",
         "name": "Georgia",
         "orientation": "h",
         "showlegend": true,
         "type": "scatter",
         "x": [
          2772474
         ],
         "xaxis": "x",
         "y": [
          "1, detached"
         ],
         "yaxis": "y"
        },
        {
         "hovertemplate": "State=Hawaii<br>Count=%{x}<br>Value=%{y}<extra></extra>",
         "legendgroup": "Hawaii",
         "marker": {
          "color": "#EF553B",
          "symbol": "circle"
         },
         "mode": "markers",
         "name": "Hawaii",
         "orientation": "h",
         "showlegend": true,
         "type": "scatter",
         "x": [
          281254
         ],
         "xaxis": "x",
         "y": [
          "1, detached"
         ],
         "yaxis": "y"
        },
        {
         "hovertemplate": "State=Idaho<br>Count=%{x}<br>Value=%{y}<extra></extra>",
         "legendgroup": "Idaho",
         "marker": {
          "color": "#00cc96",
          "symbol": "circle"
         },
         "mode": "markers",
         "name": "Idaho",
         "orientation": "h",
         "showlegend": true,
         "type": "scatter",
         "x": [
          534334
         ],
         "xaxis": "x",
         "y": [
          "1, detached"
         ],
         "yaxis": "y"
        },
        {
         "hovertemplate": "State=Illinois<br>Count=%{x}<br>Value=%{y}<extra></extra>",
         "legendgroup": "Illinois",
         "marker": {
          "color": "#ab63fa",
          "symbol": "circle"
         },
         "mode": "markers",
         "name": "Illinois",
         "orientation": "h",
         "showlegend": true,
         "type": "scatter",
         "x": [
          2994287
         ],
         "xaxis": "x",
         "y": [
          "1, detached"
         ],
         "yaxis": "y"
        },
        {
         "hovertemplate": "State=Indiana<br>Count=%{x}<br>Value=%{y}<extra></extra>",
         "legendgroup": "Indiana",
         "marker": {
          "color": "#FFA15A",
          "symbol": "circle"
         },
         "mode": "markers",
         "name": "Indiana",
         "orientation": "h",
         "showlegend": true,
         "type": "scatter",
         "x": [
          2017934
         ],
         "xaxis": "x",
         "y": [
          "1, detached"
         ],
         "yaxis": "y"
        },
        {
         "hovertemplate": "State=Iowa<br>Count=%{x}<br>Value=%{y}<extra></extra>",
         "legendgroup": "Iowa",
         "marker": {
          "color": "#19d3f3",
          "symbol": "circle"
         },
         "mode": "markers",
         "name": "Iowa",
         "orientation": "h",
         "showlegend": true,
         "type": "scatter",
         "x": [
          979398
         ],
         "xaxis": "x",
         "y": [
          "1, detached"
         ],
         "yaxis": "y"
        },
        {
         "hovertemplate": "State=Kansas<br>Count=%{x}<br>Value=%{y}<extra></extra>",
         "legendgroup": "Kansas",
         "marker": {
          "color": "#FF6692",
          "symbol": "circle"
         },
         "mode": "markers",
         "name": "Kansas",
         "orientation": "h",
         "showlegend": true,
         "type": "scatter",
         "x": [
          857140
         ],
         "xaxis": "x",
         "y": [
          "1, detached"
         ],
         "yaxis": "y"
        },
        {
         "hovertemplate": "State=Kentucky<br>Count=%{x}<br>Value=%{y}<extra></extra>",
         "legendgroup": "Kentucky",
         "marker": {
          "color": "#B6E880",
          "symbol": "circle"
         },
         "mode": "markers",
         "name": "Kentucky",
         "orientation": "h",
         "showlegend": true,
         "type": "scatter",
         "x": [
          1249035
         ],
         "xaxis": "x",
         "y": [
          "1, detached"
         ],
         "yaxis": "y"
        },
        {
         "hovertemplate": "State=Louisiana<br>Count=%{x}<br>Value=%{y}<extra></extra>",
         "legendgroup": "Louisiana",
         "marker": {
          "color": "#FF97FF",
          "symbol": "circle"
         },
         "mode": "markers",
         "name": "Louisiana",
         "orientation": "h",
         "showlegend": true,
         "type": "scatter",
         "x": [
          1229354
         ],
         "xaxis": "x",
         "y": [
          "1, detached"
         ],
         "yaxis": "y"
        },
        {
         "hovertemplate": "State=Maine<br>Count=%{x}<br>Value=%{y}<extra></extra>",
         "legendgroup": "Maine",
         "marker": {
          "color": "#FECB52",
          "symbol": "circle"
         },
         "mode": "markers",
         "name": "Maine",
         "orientation": "h",
         "showlegend": true,
         "type": "scatter",
         "x": [
          409280
         ],
         "xaxis": "x",
         "y": [
          "1, detached"
         ],
         "yaxis": "y"
        },
        {
         "hovertemplate": "State=Maryland<br>Count=%{x}<br>Value=%{y}<extra></extra>",
         "legendgroup": "Maryland",
         "marker": {
          "color": "#636efa",
          "symbol": "circle"
         },
         "mode": "markers",
         "name": "Maryland",
         "orientation": "h",
         "showlegend": true,
         "type": "scatter",
         "x": [
          1243136
         ],
         "xaxis": "x",
         "y": [
          "1, detached"
         ],
         "yaxis": "y"
        },
        {
         "hovertemplate": "State=Massachusetts<br>Count=%{x}<br>Value=%{y}<extra></extra>",
         "legendgroup": "Massachusetts",
         "marker": {
          "color": "#EF553B",
          "symbol": "circle"
         },
         "mode": "markers",
         "name": "Massachusetts",
         "orientation": "h",
         "showlegend": true,
         "type": "scatter",
         "x": [
          1415425
         ],
         "xaxis": "x",
         "y": [
          "1, detached"
         ],
         "yaxis": "y"
        },
        {
         "hovertemplate": "State=Michigan<br>Count=%{x}<br>Value=%{y}<extra></extra>",
         "legendgroup": "Michigan",
         "marker": {
          "color": "#00cc96",
          "symbol": "circle"
         },
         "mode": "markers",
         "name": "Michigan",
         "orientation": "h",
         "showlegend": true,
         "type": "scatter",
         "x": [
          2959398
         ],
         "xaxis": "x",
         "y": [
          "1, detached"
         ],
         "yaxis": "y"
        },
        {
         "hovertemplate": "State=Minnesota<br>Count=%{x}<br>Value=%{y}<extra></extra>",
         "legendgroup": "Minnesota",
         "marker": {
          "color": "#ab63fa",
          "symbol": "circle"
         },
         "mode": "markers",
         "name": "Minnesota",
         "orientation": "h",
         "showlegend": true,
         "type": "scatter",
         "x": [
          1541556
         ],
         "xaxis": "x",
         "y": [
          "1, detached"
         ],
         "yaxis": "y"
        },
        {
         "hovertemplate": "State=Mississippi<br>Count=%{x}<br>Value=%{y}<extra></extra>",
         "legendgroup": "Mississippi",
         "marker": {
          "color": "#FFA15A",
          "symbol": "circle"
         },
         "mode": "markers",
         "name": "Mississippi",
         "orientation": "h",
         "showlegend": true,
         "type": "scatter",
         "x": [
          814096
         ],
         "xaxis": "x",
         "y": [
          "1, detached"
         ],
         "yaxis": "y"
        },
        {
         "hovertemplate": "State=Missouri<br>Count=%{x}<br>Value=%{y}<extra></extra>",
         "legendgroup": "Missouri",
         "marker": {
          "color": "#19d3f3",
          "symbol": "circle"
         },
         "mode": "markers",
         "name": "Missouri",
         "orientation": "h",
         "showlegend": true,
         "type": "scatter",
         "x": [
          1799182
         ],
         "xaxis": "x",
         "y": [
          "1, detached"
         ],
         "yaxis": "y"
        },
        {
         "hovertemplate": "State=Montana<br>Count=%{x}<br>Value=%{y}<extra></extra>",
         "legendgroup": "Montana",
         "marker": {
          "color": "#FF6692",
          "symbol": "circle"
         },
         "mode": "markers",
         "name": "Montana",
         "orientation": "h",
         "showlegend": true,
         "type": "scatter",
         "x": [
          318575
         ],
         "xaxis": "x",
         "y": [
          "1, detached"
         ],
         "yaxis": "y"
        },
        {
         "hovertemplate": "State=Nebraska<br>Count=%{x}<br>Value=%{y}<extra></extra>",
         "legendgroup": "Nebraska",
         "marker": {
          "color": "#B6E880",
          "symbol": "circle"
         },
         "mode": "markers",
         "name": "Nebraska",
         "orientation": "h",
         "showlegend": true,
         "type": "scatter",
         "x": [
          578643
         ],
         "xaxis": "x",
         "y": [
          "1, detached"
         ],
         "yaxis": "y"
        },
        {
         "hovertemplate": "State=Nevada<br>Count=%{x}<br>Value=%{y}<extra></extra>",
         "legendgroup": "Nevada",
         "marker": {
          "color": "#FF97FF",
          "symbol": "circle"
         },
         "mode": "markers",
         "name": "Nevada",
         "orientation": "h",
         "showlegend": true,
         "type": "scatter",
         "x": [
          751313
         ],
         "xaxis": "x",
         "y": [
          "1, detached"
         ],
         "yaxis": "y"
        },
        {
         "hovertemplate": "State=New Hampshire<br>Count=%{x}<br>Value=%{y}<extra></extra>",
         "legendgroup": "New Hampshire",
         "marker": {
          "color": "#FECB52",
          "symbol": "circle"
         },
         "mode": "markers",
         "name": "New Hampshire",
         "orientation": "h",
         "showlegend": true,
         "type": "scatter",
         "x": [
          353868
         ],
         "xaxis": "x",
         "y": [
          "1, detached"
         ],
         "yaxis": "y"
        },
        {
         "hovertemplate": "State=New Jersey<br>Count=%{x}<br>Value=%{y}<extra></extra>",
         "legendgroup": "New Jersey",
         "marker": {
          "color": "#636efa",
          "symbol": "circle"
         },
         "mode": "markers",
         "name": "New Jersey",
         "orientation": "h",
         "showlegend": true,
         "type": "scatter",
         "x": [
          1876126
         ],
         "xaxis": "x",
         "y": [
          "1, detached"
         ],
         "yaxis": "y"
        },
        {
         "hovertemplate": "State=New Mexico<br>Count=%{x}<br>Value=%{y}<extra></extra>",
         "legendgroup": "New Mexico",
         "marker": {
          "color": "#EF553B",
          "symbol": "circle"
         },
         "mode": "markers",
         "name": "New Mexico",
         "orientation": "h",
         "showlegend": true,
         "type": "scatter",
         "x": [
          565530
         ],
         "xaxis": "x",
         "y": [
          "1, detached"
         ],
         "yaxis": "y"
        },
        {
         "hovertemplate": "State=New York<br>Count=%{x}<br>Value=%{y}<extra></extra>",
         "legendgroup": "New York",
         "marker": {
          "color": "#00cc96",
          "symbol": "circle"
         },
         "mode": "markers",
         "name": "New York",
         "orientation": "h",
         "showlegend": true,
         "type": "scatter",
         "x": [
          3200982
         ],
         "xaxis": "x",
         "y": [
          "1, detached"
         ],
         "yaxis": "y"
        },
        {
         "hovertemplate": "State=North Carolina<br>Count=%{x}<br>Value=%{y}<extra></extra>",
         "legendgroup": "North Carolina",
         "marker": {
          "color": "#ab63fa",
          "symbol": "circle"
         },
         "mode": "markers",
         "name": "North Carolina",
         "orientation": "h",
         "showlegend": true,
         "type": "scatter",
         "x": [
          2866108
         ],
         "xaxis": "x",
         "y": [
          "1, detached"
         ],
         "yaxis": "y"
        },
        {
         "hovertemplate": "State=North Dakota<br>Count=%{x}<br>Value=%{y}<extra></extra>",
         "legendgroup": "North Dakota",
         "marker": {
          "color": "#FFA15A",
          "symbol": "circle"
         },
         "mode": "markers",
         "name": "North Dakota",
         "orientation": "h",
         "showlegend": true,
         "type": "scatter",
         "x": [
          196687
         ],
         "xaxis": "x",
         "y": [
          "1, detached"
         ],
         "yaxis": "y"
        },
        {
         "hovertemplate": "State=Ohio<br>Count=%{x}<br>Value=%{y}<extra></extra>",
         "legendgroup": "Ohio",
         "marker": {
          "color": "#19d3f3",
          "symbol": "circle"
         },
         "mode": "markers",
         "name": "Ohio",
         "orientation": "h",
         "showlegend": true,
         "type": "scatter",
         "x": [
          3422661
         ],
         "xaxis": "x",
         "y": [
          "1, detached"
         ],
         "yaxis": "y"
        },
        {
         "hovertemplate": "State=Oklahoma<br>Count=%{x}<br>Value=%{y}<extra></extra>",
         "legendgroup": "Oklahoma",
         "marker": {
          "color": "#FF6692",
          "symbol": "circle"
         },
         "mode": "markers",
         "name": "Oklahoma",
         "orientation": "h",
         "showlegend": true,
         "type": "scatter",
         "x": [
          1152288
         ],
         "xaxis": "x",
         "y": [
          "1, detached"
         ],
         "yaxis": "y"
        },
        {
         "hovertemplate": "State=Oregon<br>Count=%{x}<br>Value=%{y}<extra></extra>",
         "legendgroup": "Oregon",
         "marker": {
          "color": "#B6E880",
          "symbol": "circle"
         },
         "mode": "markers",
         "name": "Oregon",
         "orientation": "h",
         "showlegend": true,
         "type": "scatter",
         "x": [
          1088551
         ],
         "xaxis": "x",
         "y": [
          "1, detached"
         ],
         "yaxis": "y"
        },
        {
         "hovertemplate": "State=Pennsylvania<br>Count=%{x}<br>Value=%{y}<extra></extra>",
         "legendgroup": "Pennsylvania",
         "marker": {
          "color": "#FF97FF",
          "symbol": "circle"
         },
         "mode": "markers",
         "name": "Pennsylvania",
         "orientation": "h",
         "showlegend": true,
         "type": "scatter",
         "x": [
          3027709
         ],
         "xaxis": "x",
         "y": [
          "1, detached"
         ],
         "yaxis": "y"
        },
        {
         "hovertemplate": "State=Puerto Rico<br>Count=%{x}<br>Value=%{y}<extra></extra>",
         "legendgroup": "Puerto Rico",
         "marker": {
          "color": "#FECB52",
          "symbol": "circle"
         },
         "mode": "markers",
         "name": "Puerto Rico",
         "orientation": "h",
         "showlegend": true,
         "type": "scatter",
         "x": [
          890441
         ],
         "xaxis": "x",
         "y": [
          "1, detached"
         ],
         "yaxis": "y"
        },
        {
         "hovertemplate": "State=Rhode Island<br>Count=%{x}<br>Value=%{y}<extra></extra>",
         "legendgroup": "Rhode Island",
         "marker": {
          "color": "#636efa",
          "symbol": "circle"
         },
         "mode": "markers",
         "name": "Rhode Island",
         "orientation": "h",
         "showlegend": true,
         "type": "scatter",
         "x": [
          253231
         ],
         "xaxis": "x",
         "y": [
          "1, detached"
         ],
         "yaxis": "y"
        },
        {
         "hovertemplate": "State=South Carolina<br>Count=%{x}<br>Value=%{y}<extra></extra>",
         "legendgroup": "South Carolina",
         "marker": {
          "color": "#EF553B",
          "symbol": "circle"
         },
         "mode": "markers",
         "name": "South Carolina",
         "orientation": "h",
         "showlegend": true,
         "type": "scatter",
         "x": [
          1421378
         ],
         "xaxis": "x",
         "y": [
          "1, detached"
         ],
         "yaxis": "y"
        },
        {
         "hovertemplate": "State=South Dakota<br>Count=%{x}<br>Value=%{y}<extra></extra>",
         "legendgroup": "South Dakota",
         "marker": {
          "color": "#00cc96",
          "symbol": "circle"
         },
         "mode": "markers",
         "name": "South Dakota",
         "orientation": "h",
         "showlegend": true,
         "type": "scatter",
         "x": [
          253546
         ],
         "xaxis": "x",
         "y": [
          "1, detached"
         ],
         "yaxis": "y"
        },
        {
         "hovertemplate": "State=Tennessee<br>Count=%{x}<br>Value=%{y}<extra></extra>",
         "legendgroup": "Tennessee",
         "marker": {
          "color": "#ab63fa",
          "symbol": "circle"
         },
         "mode": "markers",
         "name": "Tennessee",
         "orientation": "h",
         "showlegend": true,
         "type": "scatter",
         "x": [
          1986275
         ],
         "xaxis": "x",
         "y": [
          "1, detached"
         ],
         "yaxis": "y"
        },
        {
         "hovertemplate": "State=Texas<br>Count=%{x}<br>Value=%{y}<extra></extra>",
         "legendgroup": "Texas",
         "marker": {
          "color": "#FFA15A",
          "symbol": "circle"
         },
         "mode": "markers",
         "name": "Texas",
         "orientation": "h",
         "showlegend": true,
         "type": "scatter",
         "x": [
          7271865
         ],
         "xaxis": "x",
         "y": [
          "1, detached"
         ],
         "yaxis": "y"
        },
        {
         "hovertemplate": "State=Utah<br>Count=%{x}<br>Value=%{y}<extra></extra>",
         "legendgroup": "Utah",
         "marker": {
          "color": "#19d3f3",
          "symbol": "circle"
         },
         "mode": "markers",
         "name": "Utah",
         "orientation": "h",
         "showlegend": true,
         "type": "scatter",
         "x": [
          770250
         ],
         "xaxis": "x",
         "y": [
          "1, detached"
         ],
         "yaxis": "y"
        },
        {
         "hovertemplate": "State=Vermont<br>Count=%{x}<br>Value=%{y}<extra></extra>",
         "legendgroup": "Vermont",
         "marker": {
          "color": "#FF6692",
          "symbol": "circle"
         },
         "mode": "markers",
         "name": "Vermont",
         "orientation": "h",
         "showlegend": true,
         "type": "scatter",
         "x": [
          186384
         ],
         "xaxis": "x",
         "y": [
          "1, detached"
         ],
         "yaxis": "y"
        },
        {
         "hovertemplate": "State=Virginia<br>Count=%{x}<br>Value=%{y}<extra></extra>",
         "legendgroup": "Virginia",
         "marker": {
          "color": "#B6E880",
          "symbol": "circle"
         },
         "mode": "markers",
         "name": "Virginia",
         "orientation": "h",
         "showlegend": true,
         "type": "scatter",
         "x": [
          2085331
         ],
         "xaxis": "x",
         "y": [
          "1, detached"
         ],
         "yaxis": "y"
        },
        {
         "hovertemplate": "State=Washington<br>Count=%{x}<br>Value=%{y}<extra></extra>",
         "legendgroup": "Washington",
         "marker": {
          "color": "#FF97FF",
          "symbol": "circle"
         },
         "mode": "markers",
         "name": "Washington",
         "orientation": "h",
         "showlegend": true,
         "type": "scatter",
         "x": [
          1929223
         ],
         "xaxis": "x",
         "y": [
          "1, detached"
         ],
         "yaxis": "y"
        },
        {
         "hovertemplate": "State=West Virginia<br>Count=%{x}<br>Value=%{y}<extra></extra>",
         "legendgroup": "West Virginia",
         "marker": {
          "color": "#FECB52",
          "symbol": "circle"
         },
         "mode": "markers",
         "name": "West Virginia",
         "orientation": "h",
         "showlegend": true,
         "type": "scatter",
         "x": [
          529814
         ],
         "xaxis": "x",
         "y": [
          "1, detached"
         ],
         "yaxis": "y"
        },
        {
         "hovertemplate": "State=Wisconsin<br>Count=%{x}<br>Value=%{y}<extra></extra>",
         "legendgroup": "Wisconsin",
         "marker": {
          "color": "#636efa",
          "symbol": "circle"
         },
         "mode": "markers",
         "name": "Wisconsin",
         "orientation": "h",
         "showlegend": true,
         "type": "scatter",
         "x": [
          1652182
         ],
         "xaxis": "x",
         "y": [
          "1, detached"
         ],
         "yaxis": "y"
        },
        {
         "hovertemplate": "State=Wyoming<br>Count=%{x}<br>Value=%{y}<extra></extra>",
         "legendgroup": "Wyoming",
         "marker": {
          "color": "#EF553B",
          "symbol": "circle"
         },
         "mode": "markers",
         "name": "Wyoming",
         "orientation": "h",
         "showlegend": true,
         "type": "scatter",
         "x": [
          167581
         ],
         "xaxis": "x",
         "y": [
          "1, detached"
         ],
         "yaxis": "y"
        }
       ],
       "layout": {
        "legend": {
         "title": {
          "text": "State"
         },
         "tracegroupgap": 0
        },
        "margin": {
         "t": 60
        },
        "template": {
         "data": {
          "bar": [
           {
            "error_x": {
             "color": "#2a3f5f"
            },
            "error_y": {
             "color": "#2a3f5f"
            },
            "marker": {
             "line": {
              "color": "#E5ECF6",
              "width": 0.5
             },
             "pattern": {
              "fillmode": "overlay",
              "size": 10,
              "solidity": 0.2
             }
            },
            "type": "bar"
           }
          ],
          "barpolar": [
           {
            "marker": {
             "line": {
              "color": "#E5ECF6",
              "width": 0.5
             },
             "pattern": {
              "fillmode": "overlay",
              "size": 10,
              "solidity": 0.2
             }
            },
            "type": "barpolar"
           }
          ],
          "carpet": [
           {
            "aaxis": {
             "endlinecolor": "#2a3f5f",
             "gridcolor": "white",
             "linecolor": "white",
             "minorgridcolor": "white",
             "startlinecolor": "#2a3f5f"
            },
            "baxis": {
             "endlinecolor": "#2a3f5f",
             "gridcolor": "white",
             "linecolor": "white",
             "minorgridcolor": "white",
             "startlinecolor": "#2a3f5f"
            },
            "type": "carpet"
           }
          ],
          "choropleth": [
           {
            "colorbar": {
             "outlinewidth": 0,
             "ticks": ""
            },
            "type": "choropleth"
           }
          ],
          "contour": [
           {
            "colorbar": {
             "outlinewidth": 0,
             "ticks": ""
            },
            "colorscale": [
             [
              0,
              "#0d0887"
             ],
             [
              0.1111111111111111,
              "#46039f"
             ],
             [
              0.2222222222222222,
              "#7201a8"
             ],
             [
              0.3333333333333333,
              "#9c179e"
             ],
             [
              0.4444444444444444,
              "#bd3786"
             ],
             [
              0.5555555555555556,
              "#d8576b"
             ],
             [
              0.6666666666666666,
              "#ed7953"
             ],
             [
              0.7777777777777778,
              "#fb9f3a"
             ],
             [
              0.8888888888888888,
              "#fdca26"
             ],
             [
              1,
              "#f0f921"
             ]
            ],
            "type": "contour"
           }
          ],
          "contourcarpet": [
           {
            "colorbar": {
             "outlinewidth": 0,
             "ticks": ""
            },
            "type": "contourcarpet"
           }
          ],
          "heatmap": [
           {
            "colorbar": {
             "outlinewidth": 0,
             "ticks": ""
            },
            "colorscale": [
             [
              0,
              "#0d0887"
             ],
             [
              0.1111111111111111,
              "#46039f"
             ],
             [
              0.2222222222222222,
              "#7201a8"
             ],
             [
              0.3333333333333333,
              "#9c179e"
             ],
             [
              0.4444444444444444,
              "#bd3786"
             ],
             [
              0.5555555555555556,
              "#d8576b"
             ],
             [
              0.6666666666666666,
              "#ed7953"
             ],
             [
              0.7777777777777778,
              "#fb9f3a"
             ],
             [
              0.8888888888888888,
              "#fdca26"
             ],
             [
              1,
              "#f0f921"
             ]
            ],
            "type": "heatmap"
           }
          ],
          "heatmapgl": [
           {
            "colorbar": {
             "outlinewidth": 0,
             "ticks": ""
            },
            "colorscale": [
             [
              0,
              "#0d0887"
             ],
             [
              0.1111111111111111,
              "#46039f"
             ],
             [
              0.2222222222222222,
              "#7201a8"
             ],
             [
              0.3333333333333333,
              "#9c179e"
             ],
             [
              0.4444444444444444,
              "#bd3786"
             ],
             [
              0.5555555555555556,
              "#d8576b"
             ],
             [
              0.6666666666666666,
              "#ed7953"
             ],
             [
              0.7777777777777778,
              "#fb9f3a"
             ],
             [
              0.8888888888888888,
              "#fdca26"
             ],
             [
              1,
              "#f0f921"
             ]
            ],
            "type": "heatmapgl"
           }
          ],
          "histogram": [
           {
            "marker": {
             "pattern": {
              "fillmode": "overlay",
              "size": 10,
              "solidity": 0.2
             }
            },
            "type": "histogram"
           }
          ],
          "histogram2d": [
           {
            "colorbar": {
             "outlinewidth": 0,
             "ticks": ""
            },
            "colorscale": [
             [
              0,
              "#0d0887"
             ],
             [
              0.1111111111111111,
              "#46039f"
             ],
             [
              0.2222222222222222,
              "#7201a8"
             ],
             [
              0.3333333333333333,
              "#9c179e"
             ],
             [
              0.4444444444444444,
              "#bd3786"
             ],
             [
              0.5555555555555556,
              "#d8576b"
             ],
             [
              0.6666666666666666,
              "#ed7953"
             ],
             [
              0.7777777777777778,
              "#fb9f3a"
             ],
             [
              0.8888888888888888,
              "#fdca26"
             ],
             [
              1,
              "#f0f921"
             ]
            ],
            "type": "histogram2d"
           }
          ],
          "histogram2dcontour": [
           {
            "colorbar": {
             "outlinewidth": 0,
             "ticks": ""
            },
            "colorscale": [
             [
              0,
              "#0d0887"
             ],
             [
              0.1111111111111111,
              "#46039f"
             ],
             [
              0.2222222222222222,
              "#7201a8"
             ],
             [
              0.3333333333333333,
              "#9c179e"
             ],
             [
              0.4444444444444444,
              "#bd3786"
             ],
             [
              0.5555555555555556,
              "#d8576b"
             ],
             [
              0.6666666666666666,
              "#ed7953"
             ],
             [
              0.7777777777777778,
              "#fb9f3a"
             ],
             [
              0.8888888888888888,
              "#fdca26"
             ],
             [
              1,
              "#f0f921"
             ]
            ],
            "type": "histogram2dcontour"
           }
          ],
          "mesh3d": [
           {
            "colorbar": {
             "outlinewidth": 0,
             "ticks": ""
            },
            "type": "mesh3d"
           }
          ],
          "parcoords": [
           {
            "line": {
             "colorbar": {
              "outlinewidth": 0,
              "ticks": ""
             }
            },
            "type": "parcoords"
           }
          ],
          "pie": [
           {
            "automargin": true,
            "type": "pie"
           }
          ],
          "scatter": [
           {
            "fillpattern": {
             "fillmode": "overlay",
             "size": 10,
             "solidity": 0.2
            },
            "type": "scatter"
           }
          ],
          "scatter3d": [
           {
            "line": {
             "colorbar": {
              "outlinewidth": 0,
              "ticks": ""
             }
            },
            "marker": {
             "colorbar": {
              "outlinewidth": 0,
              "ticks": ""
             }
            },
            "type": "scatter3d"
           }
          ],
          "scattercarpet": [
           {
            "marker": {
             "colorbar": {
              "outlinewidth": 0,
              "ticks": ""
             }
            },
            "type": "scattercarpet"
           }
          ],
          "scattergeo": [
           {
            "marker": {
             "colorbar": {
              "outlinewidth": 0,
              "ticks": ""
             }
            },
            "type": "scattergeo"
           }
          ],
          "scattergl": [
           {
            "marker": {
             "colorbar": {
              "outlinewidth": 0,
              "ticks": ""
             }
            },
            "type": "scattergl"
           }
          ],
          "scattermapbox": [
           {
            "marker": {
             "colorbar": {
              "outlinewidth": 0,
              "ticks": ""
             }
            },
            "type": "scattermapbox"
           }
          ],
          "scatterpolar": [
           {
            "marker": {
             "colorbar": {
              "outlinewidth": 0,
              "ticks": ""
             }
            },
            "type": "scatterpolar"
           }
          ],
          "scatterpolargl": [
           {
            "marker": {
             "colorbar": {
              "outlinewidth": 0,
              "ticks": ""
             }
            },
            "type": "scatterpolargl"
           }
          ],
          "scatterternary": [
           {
            "marker": {
             "colorbar": {
              "outlinewidth": 0,
              "ticks": ""
             }
            },
            "type": "scatterternary"
           }
          ],
          "surface": [
           {
            "colorbar": {
             "outlinewidth": 0,
             "ticks": ""
            },
            "colorscale": [
             [
              0,
              "#0d0887"
             ],
             [
              0.1111111111111111,
              "#46039f"
             ],
             [
              0.2222222222222222,
              "#7201a8"
             ],
             [
              0.3333333333333333,
              "#9c179e"
             ],
             [
              0.4444444444444444,
              "#bd3786"
             ],
             [
              0.5555555555555556,
              "#d8576b"
             ],
             [
              0.6666666666666666,
              "#ed7953"
             ],
             [
              0.7777777777777778,
              "#fb9f3a"
             ],
             [
              0.8888888888888888,
              "#fdca26"
             ],
             [
              1,
              "#f0f921"
             ]
            ],
            "type": "surface"
           }
          ],
          "table": [
           {
            "cells": {
             "fill": {
              "color": "#EBF0F8"
             },
             "line": {
              "color": "white"
             }
            },
            "header": {
             "fill": {
              "color": "#C8D4E3"
             },
             "line": {
              "color": "white"
             }
            },
            "type": "table"
           }
          ]
         },
         "layout": {
          "annotationdefaults": {
           "arrowcolor": "#2a3f5f",
           "arrowhead": 0,
           "arrowwidth": 1
          },
          "autotypenumbers": "strict",
          "coloraxis": {
           "colorbar": {
            "outlinewidth": 0,
            "ticks": ""
           }
          },
          "colorscale": {
           "diverging": [
            [
             0,
             "#8e0152"
            ],
            [
             0.1,
             "#c51b7d"
            ],
            [
             0.2,
             "#de77ae"
            ],
            [
             0.3,
             "#f1b6da"
            ],
            [
             0.4,
             "#fde0ef"
            ],
            [
             0.5,
             "#f7f7f7"
            ],
            [
             0.6,
             "#e6f5d0"
            ],
            [
             0.7,
             "#b8e186"
            ],
            [
             0.8,
             "#7fbc41"
            ],
            [
             0.9,
             "#4d9221"
            ],
            [
             1,
             "#276419"
            ]
           ],
           "sequential": [
            [
             0,
             "#0d0887"
            ],
            [
             0.1111111111111111,
             "#46039f"
            ],
            [
             0.2222222222222222,
             "#7201a8"
            ],
            [
             0.3333333333333333,
             "#9c179e"
            ],
            [
             0.4444444444444444,
             "#bd3786"
            ],
            [
             0.5555555555555556,
             "#d8576b"
            ],
            [
             0.6666666666666666,
             "#ed7953"
            ],
            [
             0.7777777777777778,
             "#fb9f3a"
            ],
            [
             0.8888888888888888,
             "#fdca26"
            ],
            [
             1,
             "#f0f921"
            ]
           ],
           "sequentialminus": [
            [
             0,
             "#0d0887"
            ],
            [
             0.1111111111111111,
             "#46039f"
            ],
            [
             0.2222222222222222,
             "#7201a8"
            ],
            [
             0.3333333333333333,
             "#9c179e"
            ],
            [
             0.4444444444444444,
             "#bd3786"
            ],
            [
             0.5555555555555556,
             "#d8576b"
            ],
            [
             0.6666666666666666,
             "#ed7953"
            ],
            [
             0.7777777777777778,
             "#fb9f3a"
            ],
            [
             0.8888888888888888,
             "#fdca26"
            ],
            [
             1,
             "#f0f921"
            ]
           ]
          },
          "colorway": [
           "#636efa",
           "#EF553B",
           "#00cc96",
           "#ab63fa",
           "#FFA15A",
           "#19d3f3",
           "#FF6692",
           "#B6E880",
           "#FF97FF",
           "#FECB52"
          ],
          "font": {
           "color": "#2a3f5f"
          },
          "geo": {
           "bgcolor": "white",
           "lakecolor": "white",
           "landcolor": "#E5ECF6",
           "showlakes": true,
           "showland": true,
           "subunitcolor": "white"
          },
          "hoverlabel": {
           "align": "left"
          },
          "hovermode": "closest",
          "mapbox": {
           "style": "light"
          },
          "paper_bgcolor": "white",
          "plot_bgcolor": "#E5ECF6",
          "polar": {
           "angularaxis": {
            "gridcolor": "white",
            "linecolor": "white",
            "ticks": ""
           },
           "bgcolor": "#E5ECF6",
           "radialaxis": {
            "gridcolor": "white",
            "linecolor": "white",
            "ticks": ""
           }
          },
          "scene": {
           "xaxis": {
            "backgroundcolor": "#E5ECF6",
            "gridcolor": "white",
            "gridwidth": 2,
            "linecolor": "white",
            "showbackground": true,
            "ticks": "",
            "zerolinecolor": "white"
           },
           "yaxis": {
            "backgroundcolor": "#E5ECF6",
            "gridcolor": "white",
            "gridwidth": 2,
            "linecolor": "white",
            "showbackground": true,
            "ticks": "",
            "zerolinecolor": "white"
           },
           "zaxis": {
            "backgroundcolor": "#E5ECF6",
            "gridcolor": "white",
            "gridwidth": 2,
            "linecolor": "white",
            "showbackground": true,
            "ticks": "",
            "zerolinecolor": "white"
           }
          },
          "shapedefaults": {
           "line": {
            "color": "#2a3f5f"
           }
          },
          "ternary": {
           "aaxis": {
            "gridcolor": "white",
            "linecolor": "white",
            "ticks": ""
           },
           "baxis": {
            "gridcolor": "white",
            "linecolor": "white",
            "ticks": ""
           },
           "bgcolor": "#E5ECF6",
           "caxis": {
            "gridcolor": "white",
            "linecolor": "white",
            "ticks": ""
           }
          },
          "title": {
           "x": 0.05
          },
          "xaxis": {
           "automargin": true,
           "gridcolor": "white",
           "linecolor": "white",
           "ticks": "",
           "title": {
            "standoff": 15
           },
           "zerolinecolor": "white",
           "zerolinewidth": 2
          },
          "yaxis": {
           "automargin": true,
           "gridcolor": "white",
           "linecolor": "white",
           "ticks": "",
           "title": {
            "standoff": 15
           },
           "zerolinecolor": "white",
           "zerolinewidth": 2
          }
         }
        },
        "xaxis": {
         "anchor": "y",
         "domain": [
          0,
          1
         ],
         "title": {
          "text": "Count"
         }
        },
        "yaxis": {
         "anchor": "x",
         "domain": [
          0,
          1
         ],
         "title": {
          "text": "Value"
         }
        }
       }
      },
      "text/html": [
       "<div>                            <div id=\"c3a4e1a3-57b0-4e21-a0b3-5c2738c94166\" class=\"plotly-graph-div\" style=\"height:525px; width:100%;\"></div>            <script type=\"text/javascript\">                require([\"plotly\"], function(Plotly) {                    window.PLOTLYENV=window.PLOTLYENV || {};                                    if (document.getElementById(\"c3a4e1a3-57b0-4e21-a0b3-5c2738c94166\")) {                    Plotly.newPlot(                        \"c3a4e1a3-57b0-4e21-a0b3-5c2738c94166\",                        [{\"hovertemplate\":\"State=Alabama\\u003cbr\\u003eCount=%{x}\\u003cbr\\u003eValue=%{y}\\u003cextra\\u003e\\u003c\\u002fextra\\u003e\",\"legendgroup\":\"Alabama\",\"marker\":{\"color\":\"#636efa\",\"symbol\":\"circle\"},\"mode\":\"markers\",\"name\":\"Alabama\",\"orientation\":\"h\",\"showlegend\":true,\"x\":[1436137],\"xaxis\":\"x\",\"y\":[\"1, detached\"],\"yaxis\":\"y\",\"type\":\"scatter\"},{\"hovertemplate\":\"State=Alaska\\u003cbr\\u003eCount=%{x}\\u003cbr\\u003eValue=%{y}\\u003cextra\\u003e\\u003c\\u002fextra\\u003e\",\"legendgroup\":\"Alaska\",\"marker\":{\"color\":\"#EF553B\",\"symbol\":\"circle\"},\"mode\":\"markers\",\"name\":\"Alaska\",\"orientation\":\"h\",\"showlegend\":true,\"x\":[170997],\"xaxis\":\"x\",\"y\":[\"1, detached\"],\"yaxis\":\"y\",\"type\":\"scatter\"},{\"hovertemplate\":\"State=Arizona\\u003cbr\\u003eCount=%{x}\\u003cbr\\u003eValue=%{y}\\u003cextra\\u003e\\u003c\\u002fextra\\u003e\",\"legendgroup\":\"Arizona\",\"marker\":{\"color\":\"#00cc96\",\"symbol\":\"circle\"},\"mode\":\"markers\",\"name\":\"Arizona\",\"orientation\":\"h\",\"showlegend\":true,\"x\":[1888094],\"xaxis\":\"x\",\"y\":[\"1, detached\"],\"yaxis\":\"y\",\"type\":\"scatter\"},{\"hovertemplate\":\"State=Arkansas\\u003cbr\\u003eCount=%{x}\\u003cbr\\u003eValue=%{y}\\u003cextra\\u003e\\u003c\\u002fextra\\u003e\",\"legendgroup\":\"Arkansas\",\"marker\":{\"color\":\"#ab63fa\",\"symbol\":\"circle\"},\"mode\":\"markers\",\"name\":\"Arkansas\",\"orientation\":\"h\",\"showlegend\":true,\"x\":[850269],\"xaxis\":\"x\",\"y\":[\"1, detached\"],\"yaxis\":\"y\",\"type\":\"scatter\"},{\"hovertemplate\":\"State=California\\u003cbr\\u003eCount=%{x}\\u003cbr\\u003eValue=%{y}\\u003cextra\\u003e\\u003c\\u002fextra\\u003e\",\"legendgroup\":\"California\",\"marker\":{\"color\":\"#FFA15A\",\"symbol\":\"circle\"},\"mode\":\"markers\",\"name\":\"California\",\"orientation\":\"h\",\"showlegend\":true,\"x\":[7839643],\"xaxis\":\"x\",\"y\":[\"1, detached\"],\"yaxis\":\"y\",\"type\":\"scatter\"},{\"hovertemplate\":\"State=Colorado\\u003cbr\\u003eCount=%{x}\\u003cbr\\u003eValue=%{y}\\u003cextra\\u003e\\u003c\\u002fextra\\u003e\",\"legendgroup\":\"Colorado\",\"marker\":{\"color\":\"#19d3f3\",\"symbol\":\"circle\"},\"mode\":\"markers\",\"name\":\"Colorado\",\"orientation\":\"h\",\"showlegend\":true,\"x\":[1494133],\"xaxis\":\"x\",\"y\":[\"1, detached\"],\"yaxis\":\"y\",\"type\":\"scatter\"},{\"hovertemplate\":\"State=Connecticut\\u003cbr\\u003eCount=%{x}\\u003cbr\\u003eValue=%{y}\\u003cextra\\u003e\\u003c\\u002fextra\\u003e\",\"legendgroup\":\"Connecticut\",\"marker\":{\"color\":\"#FF6692\",\"symbol\":\"circle\"},\"mode\":\"markers\",\"name\":\"Connecticut\",\"orientation\":\"h\",\"showlegend\":true,\"x\":[851282],\"xaxis\":\"x\",\"y\":[\"1, detached\"],\"yaxis\":\"y\",\"type\":\"scatter\"},{\"hovertemplate\":\"State=Delaware\\u003cbr\\u003eCount=%{x}\\u003cbr\\u003eValue=%{y}\\u003cextra\\u003e\\u003c\\u002fextra\\u003e\",\"legendgroup\":\"Delaware\",\"marker\":{\"color\":\"#B6E880\",\"symbol\":\"circle\"},\"mode\":\"markers\",\"name\":\"Delaware\",\"orientation\":\"h\",\"showlegend\":true,\"x\":[249598],\"xaxis\":\"x\",\"y\":[\"1, detached\"],\"yaxis\":\"y\",\"type\":\"scatter\"},{\"hovertemplate\":\"State=District of Columbia\\u003cbr\\u003eCount=%{x}\\u003cbr\\u003eValue=%{y}\\u003cextra\\u003e\\u003c\\u002fextra\\u003e\",\"legendgroup\":\"District of Columbia\",\"marker\":{\"color\":\"#FF97FF\",\"symbol\":\"circle\"},\"mode\":\"markers\",\"name\":\"District of Columbia\",\"orientation\":\"h\",\"showlegend\":true,\"x\":[161140],\"xaxis\":\"x\",\"y\":[\"10 or more apartments\"],\"yaxis\":\"y\",\"type\":\"scatter\"},{\"hovertemplate\":\"State=Florida\\u003cbr\\u003eCount=%{x}\\u003cbr\\u003eValue=%{y}\\u003cextra\\u003e\\u003c\\u002fextra\\u003e\",\"legendgroup\":\"Florida\",\"marker\":{\"color\":\"#FECB52\",\"symbol\":\"circle\"},\"mode\":\"markers\",\"name\":\"Florida\",\"orientation\":\"h\",\"showlegend\":true,\"x\":[5059935],\"xaxis\":\"x\",\"y\":[\"1, detached\"],\"yaxis\":\"y\",\"type\":\"scatter\"},{\"hovertemplate\":\"State=Georgia\\u003cbr\\u003eCount=%{x}\\u003cbr\\u003eValue=%{y}\\u003cextra\\u003e\\u003c\\u002fextra\\u003e\",\"legendgroup\":\"Georgia\",\"marker\":{\"color\":\"#636efa\",\"symbol\":\"circle\"},\"mode\":\"markers\",\"name\":\"Georgia\",\"orientation\":\"h\",\"showlegend\":true,\"x\":[2772474],\"xaxis\":\"x\",\"y\":[\"1, detached\"],\"yaxis\":\"y\",\"type\":\"scatter\"},{\"hovertemplate\":\"State=Hawaii\\u003cbr\\u003eCount=%{x}\\u003cbr\\u003eValue=%{y}\\u003cextra\\u003e\\u003c\\u002fextra\\u003e\",\"legendgroup\":\"Hawaii\",\"marker\":{\"color\":\"#EF553B\",\"symbol\":\"circle\"},\"mode\":\"markers\",\"name\":\"Hawaii\",\"orientation\":\"h\",\"showlegend\":true,\"x\":[281254],\"xaxis\":\"x\",\"y\":[\"1, detached\"],\"yaxis\":\"y\",\"type\":\"scatter\"},{\"hovertemplate\":\"State=Idaho\\u003cbr\\u003eCount=%{x}\\u003cbr\\u003eValue=%{y}\\u003cextra\\u003e\\u003c\\u002fextra\\u003e\",\"legendgroup\":\"Idaho\",\"marker\":{\"color\":\"#00cc96\",\"symbol\":\"circle\"},\"mode\":\"markers\",\"name\":\"Idaho\",\"orientation\":\"h\",\"showlegend\":true,\"x\":[534334],\"xaxis\":\"x\",\"y\":[\"1, detached\"],\"yaxis\":\"y\",\"type\":\"scatter\"},{\"hovertemplate\":\"State=Illinois\\u003cbr\\u003eCount=%{x}\\u003cbr\\u003eValue=%{y}\\u003cextra\\u003e\\u003c\\u002fextra\\u003e\",\"legendgroup\":\"Illinois\",\"marker\":{\"color\":\"#ab63fa\",\"symbol\":\"circle\"},\"mode\":\"markers\",\"name\":\"Illinois\",\"orientation\":\"h\",\"showlegend\":true,\"x\":[2994287],\"xaxis\":\"x\",\"y\":[\"1, detached\"],\"yaxis\":\"y\",\"type\":\"scatter\"},{\"hovertemplate\":\"State=Indiana\\u003cbr\\u003eCount=%{x}\\u003cbr\\u003eValue=%{y}\\u003cextra\\u003e\\u003c\\u002fextra\\u003e\",\"legendgroup\":\"Indiana\",\"marker\":{\"color\":\"#FFA15A\",\"symbol\":\"circle\"},\"mode\":\"markers\",\"name\":\"Indiana\",\"orientation\":\"h\",\"showlegend\":true,\"x\":[2017934],\"xaxis\":\"x\",\"y\":[\"1, detached\"],\"yaxis\":\"y\",\"type\":\"scatter\"},{\"hovertemplate\":\"State=Iowa\\u003cbr\\u003eCount=%{x}\\u003cbr\\u003eValue=%{y}\\u003cextra\\u003e\\u003c\\u002fextra\\u003e\",\"legendgroup\":\"Iowa\",\"marker\":{\"color\":\"#19d3f3\",\"symbol\":\"circle\"},\"mode\":\"markers\",\"name\":\"Iowa\",\"orientation\":\"h\",\"showlegend\":true,\"x\":[979398],\"xaxis\":\"x\",\"y\":[\"1, detached\"],\"yaxis\":\"y\",\"type\":\"scatter\"},{\"hovertemplate\":\"State=Kansas\\u003cbr\\u003eCount=%{x}\\u003cbr\\u003eValue=%{y}\\u003cextra\\u003e\\u003c\\u002fextra\\u003e\",\"legendgroup\":\"Kansas\",\"marker\":{\"color\":\"#FF6692\",\"symbol\":\"circle\"},\"mode\":\"markers\",\"name\":\"Kansas\",\"orientation\":\"h\",\"showlegend\":true,\"x\":[857140],\"xaxis\":\"x\",\"y\":[\"1, detached\"],\"yaxis\":\"y\",\"type\":\"scatter\"},{\"hovertemplate\":\"State=Kentucky\\u003cbr\\u003eCount=%{x}\\u003cbr\\u003eValue=%{y}\\u003cextra\\u003e\\u003c\\u002fextra\\u003e\",\"legendgroup\":\"Kentucky\",\"marker\":{\"color\":\"#B6E880\",\"symbol\":\"circle\"},\"mode\":\"markers\",\"name\":\"Kentucky\",\"orientation\":\"h\",\"showlegend\":true,\"x\":[1249035],\"xaxis\":\"x\",\"y\":[\"1, detached\"],\"yaxis\":\"y\",\"type\":\"scatter\"},{\"hovertemplate\":\"State=Louisiana\\u003cbr\\u003eCount=%{x}\\u003cbr\\u003eValue=%{y}\\u003cextra\\u003e\\u003c\\u002fextra\\u003e\",\"legendgroup\":\"Louisiana\",\"marker\":{\"color\":\"#FF97FF\",\"symbol\":\"circle\"},\"mode\":\"markers\",\"name\":\"Louisiana\",\"orientation\":\"h\",\"showlegend\":true,\"x\":[1229354],\"xaxis\":\"x\",\"y\":[\"1, detached\"],\"yaxis\":\"y\",\"type\":\"scatter\"},{\"hovertemplate\":\"State=Maine\\u003cbr\\u003eCount=%{x}\\u003cbr\\u003eValue=%{y}\\u003cextra\\u003e\\u003c\\u002fextra\\u003e\",\"legendgroup\":\"Maine\",\"marker\":{\"color\":\"#FECB52\",\"symbol\":\"circle\"},\"mode\":\"markers\",\"name\":\"Maine\",\"orientation\":\"h\",\"showlegend\":true,\"x\":[409280],\"xaxis\":\"x\",\"y\":[\"1, detached\"],\"yaxis\":\"y\",\"type\":\"scatter\"},{\"hovertemplate\":\"State=Maryland\\u003cbr\\u003eCount=%{x}\\u003cbr\\u003eValue=%{y}\\u003cextra\\u003e\\u003c\\u002fextra\\u003e\",\"legendgroup\":\"Maryland\",\"marker\":{\"color\":\"#636efa\",\"symbol\":\"circle\"},\"mode\":\"markers\",\"name\":\"Maryland\",\"orientation\":\"h\",\"showlegend\":true,\"x\":[1243136],\"xaxis\":\"x\",\"y\":[\"1, detached\"],\"yaxis\":\"y\",\"type\":\"scatter\"},{\"hovertemplate\":\"State=Massachusetts\\u003cbr\\u003eCount=%{x}\\u003cbr\\u003eValue=%{y}\\u003cextra\\u003e\\u003c\\u002fextra\\u003e\",\"legendgroup\":\"Massachusetts\",\"marker\":{\"color\":\"#EF553B\",\"symbol\":\"circle\"},\"mode\":\"markers\",\"name\":\"Massachusetts\",\"orientation\":\"h\",\"showlegend\":true,\"x\":[1415425],\"xaxis\":\"x\",\"y\":[\"1, detached\"],\"yaxis\":\"y\",\"type\":\"scatter\"},{\"hovertemplate\":\"State=Michigan\\u003cbr\\u003eCount=%{x}\\u003cbr\\u003eValue=%{y}\\u003cextra\\u003e\\u003c\\u002fextra\\u003e\",\"legendgroup\":\"Michigan\",\"marker\":{\"color\":\"#00cc96\",\"symbol\":\"circle\"},\"mode\":\"markers\",\"name\":\"Michigan\",\"orientation\":\"h\",\"showlegend\":true,\"x\":[2959398],\"xaxis\":\"x\",\"y\":[\"1, detached\"],\"yaxis\":\"y\",\"type\":\"scatter\"},{\"hovertemplate\":\"State=Minnesota\\u003cbr\\u003eCount=%{x}\\u003cbr\\u003eValue=%{y}\\u003cextra\\u003e\\u003c\\u002fextra\\u003e\",\"legendgroup\":\"Minnesota\",\"marker\":{\"color\":\"#ab63fa\",\"symbol\":\"circle\"},\"mode\":\"markers\",\"name\":\"Minnesota\",\"orientation\":\"h\",\"showlegend\":true,\"x\":[1541556],\"xaxis\":\"x\",\"y\":[\"1, detached\"],\"yaxis\":\"y\",\"type\":\"scatter\"},{\"hovertemplate\":\"State=Mississippi\\u003cbr\\u003eCount=%{x}\\u003cbr\\u003eValue=%{y}\\u003cextra\\u003e\\u003c\\u002fextra\\u003e\",\"legendgroup\":\"Mississippi\",\"marker\":{\"color\":\"#FFA15A\",\"symbol\":\"circle\"},\"mode\":\"markers\",\"name\":\"Mississippi\",\"orientation\":\"h\",\"showlegend\":true,\"x\":[814096],\"xaxis\":\"x\",\"y\":[\"1, detached\"],\"yaxis\":\"y\",\"type\":\"scatter\"},{\"hovertemplate\":\"State=Missouri\\u003cbr\\u003eCount=%{x}\\u003cbr\\u003eValue=%{y}\\u003cextra\\u003e\\u003c\\u002fextra\\u003e\",\"legendgroup\":\"Missouri\",\"marker\":{\"color\":\"#19d3f3\",\"symbol\":\"circle\"},\"mode\":\"markers\",\"name\":\"Missouri\",\"orientation\":\"h\",\"showlegend\":true,\"x\":[1799182],\"xaxis\":\"x\",\"y\":[\"1, detached\"],\"yaxis\":\"y\",\"type\":\"scatter\"},{\"hovertemplate\":\"State=Montana\\u003cbr\\u003eCount=%{x}\\u003cbr\\u003eValue=%{y}\\u003cextra\\u003e\\u003c\\u002fextra\\u003e\",\"legendgroup\":\"Montana\",\"marker\":{\"color\":\"#FF6692\",\"symbol\":\"circle\"},\"mode\":\"markers\",\"name\":\"Montana\",\"orientation\":\"h\",\"showlegend\":true,\"x\":[318575],\"xaxis\":\"x\",\"y\":[\"1, detached\"],\"yaxis\":\"y\",\"type\":\"scatter\"},{\"hovertemplate\":\"State=Nebraska\\u003cbr\\u003eCount=%{x}\\u003cbr\\u003eValue=%{y}\\u003cextra\\u003e\\u003c\\u002fextra\\u003e\",\"legendgroup\":\"Nebraska\",\"marker\":{\"color\":\"#B6E880\",\"symbol\":\"circle\"},\"mode\":\"markers\",\"name\":\"Nebraska\",\"orientation\":\"h\",\"showlegend\":true,\"x\":[578643],\"xaxis\":\"x\",\"y\":[\"1, detached\"],\"yaxis\":\"y\",\"type\":\"scatter\"},{\"hovertemplate\":\"State=Nevada\\u003cbr\\u003eCount=%{x}\\u003cbr\\u003eValue=%{y}\\u003cextra\\u003e\\u003c\\u002fextra\\u003e\",\"legendgroup\":\"Nevada\",\"marker\":{\"color\":\"#FF97FF\",\"symbol\":\"circle\"},\"mode\":\"markers\",\"name\":\"Nevada\",\"orientation\":\"h\",\"showlegend\":true,\"x\":[751313],\"xaxis\":\"x\",\"y\":[\"1, detached\"],\"yaxis\":\"y\",\"type\":\"scatter\"},{\"hovertemplate\":\"State=New Hampshire\\u003cbr\\u003eCount=%{x}\\u003cbr\\u003eValue=%{y}\\u003cextra\\u003e\\u003c\\u002fextra\\u003e\",\"legendgroup\":\"New Hampshire\",\"marker\":{\"color\":\"#FECB52\",\"symbol\":\"circle\"},\"mode\":\"markers\",\"name\":\"New Hampshire\",\"orientation\":\"h\",\"showlegend\":true,\"x\":[353868],\"xaxis\":\"x\",\"y\":[\"1, detached\"],\"yaxis\":\"y\",\"type\":\"scatter\"},{\"hovertemplate\":\"State=New Jersey\\u003cbr\\u003eCount=%{x}\\u003cbr\\u003eValue=%{y}\\u003cextra\\u003e\\u003c\\u002fextra\\u003e\",\"legendgroup\":\"New Jersey\",\"marker\":{\"color\":\"#636efa\",\"symbol\":\"circle\"},\"mode\":\"markers\",\"name\":\"New Jersey\",\"orientation\":\"h\",\"showlegend\":true,\"x\":[1876126],\"xaxis\":\"x\",\"y\":[\"1, detached\"],\"yaxis\":\"y\",\"type\":\"scatter\"},{\"hovertemplate\":\"State=New Mexico\\u003cbr\\u003eCount=%{x}\\u003cbr\\u003eValue=%{y}\\u003cextra\\u003e\\u003c\\u002fextra\\u003e\",\"legendgroup\":\"New Mexico\",\"marker\":{\"color\":\"#EF553B\",\"symbol\":\"circle\"},\"mode\":\"markers\",\"name\":\"New Mexico\",\"orientation\":\"h\",\"showlegend\":true,\"x\":[565530],\"xaxis\":\"x\",\"y\":[\"1, detached\"],\"yaxis\":\"y\",\"type\":\"scatter\"},{\"hovertemplate\":\"State=New York\\u003cbr\\u003eCount=%{x}\\u003cbr\\u003eValue=%{y}\\u003cextra\\u003e\\u003c\\u002fextra\\u003e\",\"legendgroup\":\"New York\",\"marker\":{\"color\":\"#00cc96\",\"symbol\":\"circle\"},\"mode\":\"markers\",\"name\":\"New York\",\"orientation\":\"h\",\"showlegend\":true,\"x\":[3200982],\"xaxis\":\"x\",\"y\":[\"1, detached\"],\"yaxis\":\"y\",\"type\":\"scatter\"},{\"hovertemplate\":\"State=North Carolina\\u003cbr\\u003eCount=%{x}\\u003cbr\\u003eValue=%{y}\\u003cextra\\u003e\\u003c\\u002fextra\\u003e\",\"legendgroup\":\"North Carolina\",\"marker\":{\"color\":\"#ab63fa\",\"symbol\":\"circle\"},\"mode\":\"markers\",\"name\":\"North Carolina\",\"orientation\":\"h\",\"showlegend\":true,\"x\":[2866108],\"xaxis\":\"x\",\"y\":[\"1, detached\"],\"yaxis\":\"y\",\"type\":\"scatter\"},{\"hovertemplate\":\"State=North Dakota\\u003cbr\\u003eCount=%{x}\\u003cbr\\u003eValue=%{y}\\u003cextra\\u003e\\u003c\\u002fextra\\u003e\",\"legendgroup\":\"North Dakota\",\"marker\":{\"color\":\"#FFA15A\",\"symbol\":\"circle\"},\"mode\":\"markers\",\"name\":\"North Dakota\",\"orientation\":\"h\",\"showlegend\":true,\"x\":[196687],\"xaxis\":\"x\",\"y\":[\"1, detached\"],\"yaxis\":\"y\",\"type\":\"scatter\"},{\"hovertemplate\":\"State=Ohio\\u003cbr\\u003eCount=%{x}\\u003cbr\\u003eValue=%{y}\\u003cextra\\u003e\\u003c\\u002fextra\\u003e\",\"legendgroup\":\"Ohio\",\"marker\":{\"color\":\"#19d3f3\",\"symbol\":\"circle\"},\"mode\":\"markers\",\"name\":\"Ohio\",\"orientation\":\"h\",\"showlegend\":true,\"x\":[3422661],\"xaxis\":\"x\",\"y\":[\"1, detached\"],\"yaxis\":\"y\",\"type\":\"scatter\"},{\"hovertemplate\":\"State=Oklahoma\\u003cbr\\u003eCount=%{x}\\u003cbr\\u003eValue=%{y}\\u003cextra\\u003e\\u003c\\u002fextra\\u003e\",\"legendgroup\":\"Oklahoma\",\"marker\":{\"color\":\"#FF6692\",\"symbol\":\"circle\"},\"mode\":\"markers\",\"name\":\"Oklahoma\",\"orientation\":\"h\",\"showlegend\":true,\"x\":[1152288],\"xaxis\":\"x\",\"y\":[\"1, detached\"],\"yaxis\":\"y\",\"type\":\"scatter\"},{\"hovertemplate\":\"State=Oregon\\u003cbr\\u003eCount=%{x}\\u003cbr\\u003eValue=%{y}\\u003cextra\\u003e\\u003c\\u002fextra\\u003e\",\"legendgroup\":\"Oregon\",\"marker\":{\"color\":\"#B6E880\",\"symbol\":\"circle\"},\"mode\":\"markers\",\"name\":\"Oregon\",\"orientation\":\"h\",\"showlegend\":true,\"x\":[1088551],\"xaxis\":\"x\",\"y\":[\"1, detached\"],\"yaxis\":\"y\",\"type\":\"scatter\"},{\"hovertemplate\":\"State=Pennsylvania\\u003cbr\\u003eCount=%{x}\\u003cbr\\u003eValue=%{y}\\u003cextra\\u003e\\u003c\\u002fextra\\u003e\",\"legendgroup\":\"Pennsylvania\",\"marker\":{\"color\":\"#FF97FF\",\"symbol\":\"circle\"},\"mode\":\"markers\",\"name\":\"Pennsylvania\",\"orientation\":\"h\",\"showlegend\":true,\"x\":[3027709],\"xaxis\":\"x\",\"y\":[\"1, detached\"],\"yaxis\":\"y\",\"type\":\"scatter\"},{\"hovertemplate\":\"State=Puerto Rico\\u003cbr\\u003eCount=%{x}\\u003cbr\\u003eValue=%{y}\\u003cextra\\u003e\\u003c\\u002fextra\\u003e\",\"legendgroup\":\"Puerto Rico\",\"marker\":{\"color\":\"#FECB52\",\"symbol\":\"circle\"},\"mode\":\"markers\",\"name\":\"Puerto Rico\",\"orientation\":\"h\",\"showlegend\":true,\"x\":[890441],\"xaxis\":\"x\",\"y\":[\"1, detached\"],\"yaxis\":\"y\",\"type\":\"scatter\"},{\"hovertemplate\":\"State=Rhode Island\\u003cbr\\u003eCount=%{x}\\u003cbr\\u003eValue=%{y}\\u003cextra\\u003e\\u003c\\u002fextra\\u003e\",\"legendgroup\":\"Rhode Island\",\"marker\":{\"color\":\"#636efa\",\"symbol\":\"circle\"},\"mode\":\"markers\",\"name\":\"Rhode Island\",\"orientation\":\"h\",\"showlegend\":true,\"x\":[253231],\"xaxis\":\"x\",\"y\":[\"1, detached\"],\"yaxis\":\"y\",\"type\":\"scatter\"},{\"hovertemplate\":\"State=South Carolina\\u003cbr\\u003eCount=%{x}\\u003cbr\\u003eValue=%{y}\\u003cextra\\u003e\\u003c\\u002fextra\\u003e\",\"legendgroup\":\"South Carolina\",\"marker\":{\"color\":\"#EF553B\",\"symbol\":\"circle\"},\"mode\":\"markers\",\"name\":\"South Carolina\",\"orientation\":\"h\",\"showlegend\":true,\"x\":[1421378],\"xaxis\":\"x\",\"y\":[\"1, detached\"],\"yaxis\":\"y\",\"type\":\"scatter\"},{\"hovertemplate\":\"State=South Dakota\\u003cbr\\u003eCount=%{x}\\u003cbr\\u003eValue=%{y}\\u003cextra\\u003e\\u003c\\u002fextra\\u003e\",\"legendgroup\":\"South Dakota\",\"marker\":{\"color\":\"#00cc96\",\"symbol\":\"circle\"},\"mode\":\"markers\",\"name\":\"South Dakota\",\"orientation\":\"h\",\"showlegend\":true,\"x\":[253546],\"xaxis\":\"x\",\"y\":[\"1, detached\"],\"yaxis\":\"y\",\"type\":\"scatter\"},{\"hovertemplate\":\"State=Tennessee\\u003cbr\\u003eCount=%{x}\\u003cbr\\u003eValue=%{y}\\u003cextra\\u003e\\u003c\\u002fextra\\u003e\",\"legendgroup\":\"Tennessee\",\"marker\":{\"color\":\"#ab63fa\",\"symbol\":\"circle\"},\"mode\":\"markers\",\"name\":\"Tennessee\",\"orientation\":\"h\",\"showlegend\":true,\"x\":[1986275],\"xaxis\":\"x\",\"y\":[\"1, detached\"],\"yaxis\":\"y\",\"type\":\"scatter\"},{\"hovertemplate\":\"State=Texas\\u003cbr\\u003eCount=%{x}\\u003cbr\\u003eValue=%{y}\\u003cextra\\u003e\\u003c\\u002fextra\\u003e\",\"legendgroup\":\"Texas\",\"marker\":{\"color\":\"#FFA15A\",\"symbol\":\"circle\"},\"mode\":\"markers\",\"name\":\"Texas\",\"orientation\":\"h\",\"showlegend\":true,\"x\":[7271865],\"xaxis\":\"x\",\"y\":[\"1, detached\"],\"yaxis\":\"y\",\"type\":\"scatter\"},{\"hovertemplate\":\"State=Utah\\u003cbr\\u003eCount=%{x}\\u003cbr\\u003eValue=%{y}\\u003cextra\\u003e\\u003c\\u002fextra\\u003e\",\"legendgroup\":\"Utah\",\"marker\":{\"color\":\"#19d3f3\",\"symbol\":\"circle\"},\"mode\":\"markers\",\"name\":\"Utah\",\"orientation\":\"h\",\"showlegend\":true,\"x\":[770250],\"xaxis\":\"x\",\"y\":[\"1, detached\"],\"yaxis\":\"y\",\"type\":\"scatter\"},{\"hovertemplate\":\"State=Vermont\\u003cbr\\u003eCount=%{x}\\u003cbr\\u003eValue=%{y}\\u003cextra\\u003e\\u003c\\u002fextra\\u003e\",\"legendgroup\":\"Vermont\",\"marker\":{\"color\":\"#FF6692\",\"symbol\":\"circle\"},\"mode\":\"markers\",\"name\":\"Vermont\",\"orientation\":\"h\",\"showlegend\":true,\"x\":[186384],\"xaxis\":\"x\",\"y\":[\"1, detached\"],\"yaxis\":\"y\",\"type\":\"scatter\"},{\"hovertemplate\":\"State=Virginia\\u003cbr\\u003eCount=%{x}\\u003cbr\\u003eValue=%{y}\\u003cextra\\u003e\\u003c\\u002fextra\\u003e\",\"legendgroup\":\"Virginia\",\"marker\":{\"color\":\"#B6E880\",\"symbol\":\"circle\"},\"mode\":\"markers\",\"name\":\"Virginia\",\"orientation\":\"h\",\"showlegend\":true,\"x\":[2085331],\"xaxis\":\"x\",\"y\":[\"1, detached\"],\"yaxis\":\"y\",\"type\":\"scatter\"},{\"hovertemplate\":\"State=Washington\\u003cbr\\u003eCount=%{x}\\u003cbr\\u003eValue=%{y}\\u003cextra\\u003e\\u003c\\u002fextra\\u003e\",\"legendgroup\":\"Washington\",\"marker\":{\"color\":\"#FF97FF\",\"symbol\":\"circle\"},\"mode\":\"markers\",\"name\":\"Washington\",\"orientation\":\"h\",\"showlegend\":true,\"x\":[1929223],\"xaxis\":\"x\",\"y\":[\"1, detached\"],\"yaxis\":\"y\",\"type\":\"scatter\"},{\"hovertemplate\":\"State=West Virginia\\u003cbr\\u003eCount=%{x}\\u003cbr\\u003eValue=%{y}\\u003cextra\\u003e\\u003c\\u002fextra\\u003e\",\"legendgroup\":\"West Virginia\",\"marker\":{\"color\":\"#FECB52\",\"symbol\":\"circle\"},\"mode\":\"markers\",\"name\":\"West Virginia\",\"orientation\":\"h\",\"showlegend\":true,\"x\":[529814],\"xaxis\":\"x\",\"y\":[\"1, detached\"],\"yaxis\":\"y\",\"type\":\"scatter\"},{\"hovertemplate\":\"State=Wisconsin\\u003cbr\\u003eCount=%{x}\\u003cbr\\u003eValue=%{y}\\u003cextra\\u003e\\u003c\\u002fextra\\u003e\",\"legendgroup\":\"Wisconsin\",\"marker\":{\"color\":\"#636efa\",\"symbol\":\"circle\"},\"mode\":\"markers\",\"name\":\"Wisconsin\",\"orientation\":\"h\",\"showlegend\":true,\"x\":[1652182],\"xaxis\":\"x\",\"y\":[\"1, detached\"],\"yaxis\":\"y\",\"type\":\"scatter\"},{\"hovertemplate\":\"State=Wyoming\\u003cbr\\u003eCount=%{x}\\u003cbr\\u003eValue=%{y}\\u003cextra\\u003e\\u003c\\u002fextra\\u003e\",\"legendgroup\":\"Wyoming\",\"marker\":{\"color\":\"#EF553B\",\"symbol\":\"circle\"},\"mode\":\"markers\",\"name\":\"Wyoming\",\"orientation\":\"h\",\"showlegend\":true,\"x\":[167581],\"xaxis\":\"x\",\"y\":[\"1, detached\"],\"yaxis\":\"y\",\"type\":\"scatter\"}],                        {\"template\":{\"data\":{\"histogram2dcontour\":[{\"type\":\"histogram2dcontour\",\"colorbar\":{\"outlinewidth\":0,\"ticks\":\"\"},\"colorscale\":[[0.0,\"#0d0887\"],[0.1111111111111111,\"#46039f\"],[0.2222222222222222,\"#7201a8\"],[0.3333333333333333,\"#9c179e\"],[0.4444444444444444,\"#bd3786\"],[0.5555555555555556,\"#d8576b\"],[0.6666666666666666,\"#ed7953\"],[0.7777777777777778,\"#fb9f3a\"],[0.8888888888888888,\"#fdca26\"],[1.0,\"#f0f921\"]]}],\"choropleth\":[{\"type\":\"choropleth\",\"colorbar\":{\"outlinewidth\":0,\"ticks\":\"\"}}],\"histogram2d\":[{\"type\":\"histogram2d\",\"colorbar\":{\"outlinewidth\":0,\"ticks\":\"\"},\"colorscale\":[[0.0,\"#0d0887\"],[0.1111111111111111,\"#46039f\"],[0.2222222222222222,\"#7201a8\"],[0.3333333333333333,\"#9c179e\"],[0.4444444444444444,\"#bd3786\"],[0.5555555555555556,\"#d8576b\"],[0.6666666666666666,\"#ed7953\"],[0.7777777777777778,\"#fb9f3a\"],[0.8888888888888888,\"#fdca26\"],[1.0,\"#f0f921\"]]}],\"heatmap\":[{\"type\":\"heatmap\",\"colorbar\":{\"outlinewidth\":0,\"ticks\":\"\"},\"colorscale\":[[0.0,\"#0d0887\"],[0.1111111111111111,\"#46039f\"],[0.2222222222222222,\"#7201a8\"],[0.3333333333333333,\"#9c179e\"],[0.4444444444444444,\"#bd3786\"],[0.5555555555555556,\"#d8576b\"],[0.6666666666666666,\"#ed7953\"],[0.7777777777777778,\"#fb9f3a\"],[0.8888888888888888,\"#fdca26\"],[1.0,\"#f0f921\"]]}],\"heatmapgl\":[{\"type\":\"heatmapgl\",\"colorbar\":{\"outlinewidth\":0,\"ticks\":\"\"},\"colorscale\":[[0.0,\"#0d0887\"],[0.1111111111111111,\"#46039f\"],[0.2222222222222222,\"#7201a8\"],[0.3333333333333333,\"#9c179e\"],[0.4444444444444444,\"#bd3786\"],[0.5555555555555556,\"#d8576b\"],[0.6666666666666666,\"#ed7953\"],[0.7777777777777778,\"#fb9f3a\"],[0.8888888888888888,\"#fdca26\"],[1.0,\"#f0f921\"]]}],\"contourcarpet\":[{\"type\":\"contourcarpet\",\"colorbar\":{\"outlinewidth\":0,\"ticks\":\"\"}}],\"contour\":[{\"type\":\"contour\",\"colorbar\":{\"outlinewidth\":0,\"ticks\":\"\"},\"colorscale\":[[0.0,\"#0d0887\"],[0.1111111111111111,\"#46039f\"],[0.2222222222222222,\"#7201a8\"],[0.3333333333333333,\"#9c179e\"],[0.4444444444444444,\"#bd3786\"],[0.5555555555555556,\"#d8576b\"],[0.6666666666666666,\"#ed7953\"],[0.7777777777777778,\"#fb9f3a\"],[0.8888888888888888,\"#fdca26\"],[1.0,\"#f0f921\"]]}],\"surface\":[{\"type\":\"surface\",\"colorbar\":{\"outlinewidth\":0,\"ticks\":\"\"},\"colorscale\":[[0.0,\"#0d0887\"],[0.1111111111111111,\"#46039f\"],[0.2222222222222222,\"#7201a8\"],[0.3333333333333333,\"#9c179e\"],[0.4444444444444444,\"#bd3786\"],[0.5555555555555556,\"#d8576b\"],[0.6666666666666666,\"#ed7953\"],[0.7777777777777778,\"#fb9f3a\"],[0.8888888888888888,\"#fdca26\"],[1.0,\"#f0f921\"]]}],\"mesh3d\":[{\"type\":\"mesh3d\",\"colorbar\":{\"outlinewidth\":0,\"ticks\":\"\"}}],\"scatter\":[{\"fillpattern\":{\"fillmode\":\"overlay\",\"size\":10,\"solidity\":0.2},\"type\":\"scatter\"}],\"parcoords\":[{\"type\":\"parcoords\",\"line\":{\"colorbar\":{\"outlinewidth\":0,\"ticks\":\"\"}}}],\"scatterpolargl\":[{\"type\":\"scatterpolargl\",\"marker\":{\"colorbar\":{\"outlinewidth\":0,\"ticks\":\"\"}}}],\"bar\":[{\"error_x\":{\"color\":\"#2a3f5f\"},\"error_y\":{\"color\":\"#2a3f5f\"},\"marker\":{\"line\":{\"color\":\"#E5ECF6\",\"width\":0.5},\"pattern\":{\"fillmode\":\"overlay\",\"size\":10,\"solidity\":0.2}},\"type\":\"bar\"}],\"scattergeo\":[{\"type\":\"scattergeo\",\"marker\":{\"colorbar\":{\"outlinewidth\":0,\"ticks\":\"\"}}}],\"scatterpolar\":[{\"type\":\"scatterpolar\",\"marker\":{\"colorbar\":{\"outlinewidth\":0,\"ticks\":\"\"}}}],\"histogram\":[{\"marker\":{\"pattern\":{\"fillmode\":\"overlay\",\"size\":10,\"solidity\":0.2}},\"type\":\"histogram\"}],\"scattergl\":[{\"type\":\"scattergl\",\"marker\":{\"colorbar\":{\"outlinewidth\":0,\"ticks\":\"\"}}}],\"scatter3d\":[{\"type\":\"scatter3d\",\"line\":{\"colorbar\":{\"outlinewidth\":0,\"ticks\":\"\"}},\"marker\":{\"colorbar\":{\"outlinewidth\":0,\"ticks\":\"\"}}}],\"scattermapbox\":[{\"type\":\"scattermapbox\",\"marker\":{\"colorbar\":{\"outlinewidth\":0,\"ticks\":\"\"}}}],\"scatterternary\":[{\"type\":\"scatterternary\",\"marker\":{\"colorbar\":{\"outlinewidth\":0,\"ticks\":\"\"}}}],\"scattercarpet\":[{\"type\":\"scattercarpet\",\"marker\":{\"colorbar\":{\"outlinewidth\":0,\"ticks\":\"\"}}}],\"carpet\":[{\"aaxis\":{\"endlinecolor\":\"#2a3f5f\",\"gridcolor\":\"white\",\"linecolor\":\"white\",\"minorgridcolor\":\"white\",\"startlinecolor\":\"#2a3f5f\"},\"baxis\":{\"endlinecolor\":\"#2a3f5f\",\"gridcolor\":\"white\",\"linecolor\":\"white\",\"minorgridcolor\":\"white\",\"startlinecolor\":\"#2a3f5f\"},\"type\":\"carpet\"}],\"table\":[{\"cells\":{\"fill\":{\"color\":\"#EBF0F8\"},\"line\":{\"color\":\"white\"}},\"header\":{\"fill\":{\"color\":\"#C8D4E3\"},\"line\":{\"color\":\"white\"}},\"type\":\"table\"}],\"barpolar\":[{\"marker\":{\"line\":{\"color\":\"#E5ECF6\",\"width\":0.5},\"pattern\":{\"fillmode\":\"overlay\",\"size\":10,\"solidity\":0.2}},\"type\":\"barpolar\"}],\"pie\":[{\"automargin\":true,\"type\":\"pie\"}]},\"layout\":{\"autotypenumbers\":\"strict\",\"colorway\":[\"#636efa\",\"#EF553B\",\"#00cc96\",\"#ab63fa\",\"#FFA15A\",\"#19d3f3\",\"#FF6692\",\"#B6E880\",\"#FF97FF\",\"#FECB52\"],\"font\":{\"color\":\"#2a3f5f\"},\"hovermode\":\"closest\",\"hoverlabel\":{\"align\":\"left\"},\"paper_bgcolor\":\"white\",\"plot_bgcolor\":\"#E5ECF6\",\"polar\":{\"bgcolor\":\"#E5ECF6\",\"angularaxis\":{\"gridcolor\":\"white\",\"linecolor\":\"white\",\"ticks\":\"\"},\"radialaxis\":{\"gridcolor\":\"white\",\"linecolor\":\"white\",\"ticks\":\"\"}},\"ternary\":{\"bgcolor\":\"#E5ECF6\",\"aaxis\":{\"gridcolor\":\"white\",\"linecolor\":\"white\",\"ticks\":\"\"},\"baxis\":{\"gridcolor\":\"white\",\"linecolor\":\"white\",\"ticks\":\"\"},\"caxis\":{\"gridcolor\":\"white\",\"linecolor\":\"white\",\"ticks\":\"\"}},\"coloraxis\":{\"colorbar\":{\"outlinewidth\":0,\"ticks\":\"\"}},\"colorscale\":{\"sequential\":[[0.0,\"#0d0887\"],[0.1111111111111111,\"#46039f\"],[0.2222222222222222,\"#7201a8\"],[0.3333333333333333,\"#9c179e\"],[0.4444444444444444,\"#bd3786\"],[0.5555555555555556,\"#d8576b\"],[0.6666666666666666,\"#ed7953\"],[0.7777777777777778,\"#fb9f3a\"],[0.8888888888888888,\"#fdca26\"],[1.0,\"#f0f921\"]],\"sequentialminus\":[[0.0,\"#0d0887\"],[0.1111111111111111,\"#46039f\"],[0.2222222222222222,\"#7201a8\"],[0.3333333333333333,\"#9c179e\"],[0.4444444444444444,\"#bd3786\"],[0.5555555555555556,\"#d8576b\"],[0.6666666666666666,\"#ed7953\"],[0.7777777777777778,\"#fb9f3a\"],[0.8888888888888888,\"#fdca26\"],[1.0,\"#f0f921\"]],\"diverging\":[[0,\"#8e0152\"],[0.1,\"#c51b7d\"],[0.2,\"#de77ae\"],[0.3,\"#f1b6da\"],[0.4,\"#fde0ef\"],[0.5,\"#f7f7f7\"],[0.6,\"#e6f5d0\"],[0.7,\"#b8e186\"],[0.8,\"#7fbc41\"],[0.9,\"#4d9221\"],[1,\"#276419\"]]},\"xaxis\":{\"gridcolor\":\"white\",\"linecolor\":\"white\",\"ticks\":\"\",\"title\":{\"standoff\":15},\"zerolinecolor\":\"white\",\"automargin\":true,\"zerolinewidth\":2},\"yaxis\":{\"gridcolor\":\"white\",\"linecolor\":\"white\",\"ticks\":\"\",\"title\":{\"standoff\":15},\"zerolinecolor\":\"white\",\"automargin\":true,\"zerolinewidth\":2},\"scene\":{\"xaxis\":{\"backgroundcolor\":\"#E5ECF6\",\"gridcolor\":\"white\",\"linecolor\":\"white\",\"showbackground\":true,\"ticks\":\"\",\"zerolinecolor\":\"white\",\"gridwidth\":2},\"yaxis\":{\"backgroundcolor\":\"#E5ECF6\",\"gridcolor\":\"white\",\"linecolor\":\"white\",\"showbackground\":true,\"ticks\":\"\",\"zerolinecolor\":\"white\",\"gridwidth\":2},\"zaxis\":{\"backgroundcolor\":\"#E5ECF6\",\"gridcolor\":\"white\",\"linecolor\":\"white\",\"showbackground\":true,\"ticks\":\"\",\"zerolinecolor\":\"white\",\"gridwidth\":2}},\"shapedefaults\":{\"line\":{\"color\":\"#2a3f5f\"}},\"annotationdefaults\":{\"arrowcolor\":\"#2a3f5f\",\"arrowhead\":0,\"arrowwidth\":1},\"geo\":{\"bgcolor\":\"white\",\"landcolor\":\"#E5ECF6\",\"subunitcolor\":\"white\",\"showland\":true,\"showlakes\":true,\"lakecolor\":\"white\"},\"title\":{\"x\":0.05},\"mapbox\":{\"style\":\"light\"}}},\"xaxis\":{\"anchor\":\"y\",\"domain\":[0.0,1.0],\"title\":{\"text\":\"Count\"}},\"yaxis\":{\"anchor\":\"x\",\"domain\":[0.0,1.0],\"title\":{\"text\":\"Value\"}},\"legend\":{\"title\":{\"text\":\"State\"},\"tracegroupgap\":0},\"margin\":{\"t\":60}},                        {\"responsive\": true}                    ).then(function(){\n",
       "                            \n",
       "var gd = document.getElementById('c3a4e1a3-57b0-4e21-a0b3-5c2738c94166');\n",
       "var x = new MutationObserver(function (mutations, observer) {{\n",
       "        var display = window.getComputedStyle(gd).display;\n",
       "        if (!display || display === 'none') {{\n",
       "            console.log([gd, 'removed!']);\n",
       "            Plotly.purge(gd);\n",
       "            observer.disconnect();\n",
       "        }}\n",
       "}});\n",
       "\n",
       "// Listen for the removal of the full notebook cells\n",
       "var notebookContainer = gd.closest('#notebook-container');\n",
       "if (notebookContainer) {{\n",
       "    x.observe(notebookContainer, {childList: true});\n",
       "}}\n",
       "\n",
       "// Listen for the clearing of the current output cell\n",
       "var outputEl = gd.closest('.output');\n",
       "if (outputEl) {{\n",
       "    x.observe(outputEl, {childList: true});\n",
       "}}\n",
       "\n",
       "                        })                };                });            </script>        </div>"
      ]
     },
     "metadata": {},
     "output_type": "display_data"
    }
   ],
   "source": [
    "fig = px.scatter(df_max, y=\"Value\", x=\"Count\", color=\"State\")\n",
    "#fig.update_traces(marker_size=10)\n",
    "fig.show()"
   ]
  },
  {
   "cell_type": "markdown",
   "metadata": {},
   "source": [
    "## Fertility rates by state"
   ]
  },
  {
   "cell_type": "code",
   "execution_count": 289,
   "metadata": {},
   "outputs": [],
   "source": [
    "def clean_headers(val):\n",
    "    if isinstance(val, str):\n",
    "        if 'Total' in val:\n",
    "            val = val.split(\"!!\")[0]\n",
    "            val = val + \"_total\"\n",
    "        elif 'Women with births in the past 12 months!!Number!!Estimate' in val:\n",
    "            val = val.split(\"!!\")[0]\n",
    "            val = val + \"_births\"\n",
    "        elif 'Women with births in the past 12 months!!Rate per 1,000 women!!Estimate' in val:\n",
    "            val = val.split(\"!!\")[0]\n",
    "            val = val + \"_thou\"\n",
    "        else:\n",
    "            val = val.split(\"!!\")[0]\n",
    "        return val\n",
    "    else:\n",
    "        return val"
   ]
  },
  {
   "cell_type": "code",
   "execution_count": 290,
   "metadata": {},
   "outputs": [
    {
     "data": {
      "text/html": [
       "<div>\n",
       "<style scoped>\n",
       "    .dataframe tbody tr th:only-of-type {\n",
       "        vertical-align: middle;\n",
       "    }\n",
       "\n",
       "    .dataframe tbody tr th {\n",
       "        vertical-align: top;\n",
       "    }\n",
       "\n",
       "    .dataframe thead th {\n",
       "        text-align: right;\n",
       "    }\n",
       "</style>\n",
       "<table border=\"1\" class=\"dataframe\">\n",
       "  <thead>\n",
       "    <tr style=\"text-align: right;\">\n",
       "      <th></th>\n",
       "      <th>Alabama_total</th>\n",
       "      <th>Alabama_births</th>\n",
       "      <th>Alabama_thou</th>\n",
       "      <th>Alaska_total</th>\n",
       "      <th>Alaska_births</th>\n",
       "      <th>Alaska_thou</th>\n",
       "      <th>Arizona_total</th>\n",
       "      <th>Arizona_births</th>\n",
       "      <th>Arizona_thou</th>\n",
       "      <th>Arkansas_total</th>\n",
       "      <th>...</th>\n",
       "      <th>West Virginia_thou</th>\n",
       "      <th>Wisconsin_total</th>\n",
       "      <th>Wisconsin_births</th>\n",
       "      <th>Wisconsin_thou</th>\n",
       "      <th>Wyoming_total</th>\n",
       "      <th>Wyoming_births</th>\n",
       "      <th>Wyoming_thou</th>\n",
       "      <th>Puerto Rico_total</th>\n",
       "      <th>Puerto Rico_births</th>\n",
       "      <th>Puerto Rico_thou</th>\n",
       "    </tr>\n",
       "    <tr>\n",
       "      <th>Label (Grouping)</th>\n",
       "      <th></th>\n",
       "      <th></th>\n",
       "      <th></th>\n",
       "      <th></th>\n",
       "      <th></th>\n",
       "      <th></th>\n",
       "      <th></th>\n",
       "      <th></th>\n",
       "      <th></th>\n",
       "      <th></th>\n",
       "      <th></th>\n",
       "      <th></th>\n",
       "      <th></th>\n",
       "      <th></th>\n",
       "      <th></th>\n",
       "      <th></th>\n",
       "      <th></th>\n",
       "      <th></th>\n",
       "      <th></th>\n",
       "      <th></th>\n",
       "      <th></th>\n",
       "    </tr>\n",
       "  </thead>\n",
       "  <tbody>\n",
       "    <tr>\n",
       "      <th>2022</th>\n",
       "      <td>NaN</td>\n",
       "      <td>NaN</td>\n",
       "      <td>NaN</td>\n",
       "      <td>NaN</td>\n",
       "      <td>NaN</td>\n",
       "      <td>NaN</td>\n",
       "      <td>NaN</td>\n",
       "      <td>NaN</td>\n",
       "      <td>NaN</td>\n",
       "      <td>NaN</td>\n",
       "      <td>...</td>\n",
       "      <td>NaN</td>\n",
       "      <td>NaN</td>\n",
       "      <td>NaN</td>\n",
       "      <td>NaN</td>\n",
       "      <td>NaN</td>\n",
       "      <td>NaN</td>\n",
       "      <td>NaN</td>\n",
       "      <td>NaN</td>\n",
       "      <td>NaN</td>\n",
       "      <td>NaN</td>\n",
       "    </tr>\n",
       "    <tr>\n",
       "      <th>Women 15 to 50 years</th>\n",
       "      <td>1184720.0</td>\n",
       "      <td>61506.0</td>\n",
       "      <td>52.0</td>\n",
       "      <td>167711.0</td>\n",
       "      <td>10125.0</td>\n",
       "      <td>60.0</td>\n",
       "      <td>1680785.0</td>\n",
       "      <td>86548.0</td>\n",
       "      <td>51.0</td>\n",
       "      <td>691139.0</td>\n",
       "      <td>...</td>\n",
       "      <td>52.0</td>\n",
       "      <td>1301817.0</td>\n",
       "      <td>66580.0</td>\n",
       "      <td>51.0</td>\n",
       "      <td>126741.0</td>\n",
       "      <td>7469.0</td>\n",
       "      <td>59.0</td>\n",
       "      <td>743480.0</td>\n",
       "      <td>21708.0</td>\n",
       "      <td>29.0</td>\n",
       "    </tr>\n",
       "    <tr>\n",
       "      <th>15 to 19 years</th>\n",
       "      <td>171783.0</td>\n",
       "      <td>651.0</td>\n",
       "      <td>4.0</td>\n",
       "      <td>22013.0</td>\n",
       "      <td>124.0</td>\n",
       "      <td>6.0</td>\n",
       "      <td>236982.0</td>\n",
       "      <td>3252.0</td>\n",
       "      <td>14.0</td>\n",
       "      <td>96432.0</td>\n",
       "      <td>...</td>\n",
       "      <td>15.0</td>\n",
       "      <td>185708.0</td>\n",
       "      <td>819.0</td>\n",
       "      <td>4.0</td>\n",
       "      <td>17961.0</td>\n",
       "      <td>220.0</td>\n",
       "      <td>12.0</td>\n",
       "      <td>93630.0</td>\n",
       "      <td>788.0</td>\n",
       "      <td>8.0</td>\n",
       "    </tr>\n",
       "    <tr>\n",
       "      <th>20 to 34 years</th>\n",
       "      <td>500263.0</td>\n",
       "      <td>48565.0</td>\n",
       "      <td>97.0</td>\n",
       "      <td>73709.0</td>\n",
       "      <td>7354.0</td>\n",
       "      <td>100.0</td>\n",
       "      <td>741982.0</td>\n",
       "      <td>57861.0</td>\n",
       "      <td>78.0</td>\n",
       "      <td>293111.0</td>\n",
       "      <td>...</td>\n",
       "      <td>94.0</td>\n",
       "      <td>555914.0</td>\n",
       "      <td>49876.0</td>\n",
       "      <td>90.0</td>\n",
       "      <td>51110.0</td>\n",
       "      <td>5354.0</td>\n",
       "      <td>105.0</td>\n",
       "      <td>309106.0</td>\n",
       "      <td>17447.0</td>\n",
       "      <td>56.0</td>\n",
       "    </tr>\n",
       "    <tr>\n",
       "      <th>35 to 50 years</th>\n",
       "      <td>512674.0</td>\n",
       "      <td>12290.0</td>\n",
       "      <td>24.0</td>\n",
       "      <td>71989.0</td>\n",
       "      <td>2647.0</td>\n",
       "      <td>37.0</td>\n",
       "      <td>701821.0</td>\n",
       "      <td>25435.0</td>\n",
       "      <td>36.0</td>\n",
       "      <td>301596.0</td>\n",
       "      <td>...</td>\n",
       "      <td>24.0</td>\n",
       "      <td>560195.0</td>\n",
       "      <td>15885.0</td>\n",
       "      <td>28.0</td>\n",
       "      <td>57670.0</td>\n",
       "      <td>1895.0</td>\n",
       "      <td>33.0</td>\n",
       "      <td>340744.0</td>\n",
       "      <td>3473.0</td>\n",
       "      <td>10.0</td>\n",
       "    </tr>\n",
       "  </tbody>\n",
       "</table>\n",
       "<p>5 rows × 157 columns</p>\n",
       "</div>"
      ],
      "text/plain": [
       "                      Alabama_total  Alabama_births  Alabama_thou  \\\n",
       "Label (Grouping)                                                    \n",
       "2022                            NaN             NaN           NaN   \n",
       "Women 15 to 50 years      1184720.0         61506.0          52.0   \n",
       "    15 to 19 years         171783.0           651.0           4.0   \n",
       "    20 to 34 years         500263.0         48565.0          97.0   \n",
       "    35 to 50 years         512674.0         12290.0          24.0   \n",
       "\n",
       "                      Alaska_total  Alaska_births  Alaska_thou  Arizona_total  \\\n",
       "Label (Grouping)                                                                \n",
       "2022                           NaN            NaN          NaN            NaN   \n",
       "Women 15 to 50 years      167711.0        10125.0         60.0      1680785.0   \n",
       "    15 to 19 years         22013.0          124.0          6.0       236982.0   \n",
       "    20 to 34 years         73709.0         7354.0        100.0       741982.0   \n",
       "    35 to 50 years         71989.0         2647.0         37.0       701821.0   \n",
       "\n",
       "                      Arizona_births  Arizona_thou  Arkansas_total  ...  \\\n",
       "Label (Grouping)                                                    ...   \n",
       "2022                             NaN           NaN             NaN  ...   \n",
       "Women 15 to 50 years         86548.0          51.0        691139.0  ...   \n",
       "    15 to 19 years            3252.0          14.0         96432.0  ...   \n",
       "    20 to 34 years           57861.0          78.0        293111.0  ...   \n",
       "    35 to 50 years           25435.0          36.0        301596.0  ...   \n",
       "\n",
       "                      West Virginia_thou  Wisconsin_total  Wisconsin_births  \\\n",
       "Label (Grouping)                                                              \n",
       "2022                                 NaN              NaN               NaN   \n",
       "Women 15 to 50 years                52.0        1301817.0           66580.0   \n",
       "    15 to 19 years                  15.0         185708.0             819.0   \n",
       "    20 to 34 years                  94.0         555914.0           49876.0   \n",
       "    35 to 50 years                  24.0         560195.0           15885.0   \n",
       "\n",
       "                      Wisconsin_thou  Wyoming_total  Wyoming_births  \\\n",
       "Label (Grouping)                                                      \n",
       "2022                             NaN            NaN             NaN   \n",
       "Women 15 to 50 years            51.0       126741.0          7469.0   \n",
       "    15 to 19 years               4.0        17961.0           220.0   \n",
       "    20 to 34 years              90.0        51110.0          5354.0   \n",
       "    35 to 50 years              28.0        57670.0          1895.0   \n",
       "\n",
       "                      Wyoming_thou  Puerto Rico_total  Puerto Rico_births  \\\n",
       "Label (Grouping)                                                            \n",
       "2022                           NaN                NaN                 NaN   \n",
       "Women 15 to 50 years          59.0           743480.0             21708.0   \n",
       "    15 to 19 years            12.0            93630.0               788.0   \n",
       "    20 to 34 years           105.0           309106.0             17447.0   \n",
       "    35 to 50 years            33.0           340744.0              3473.0   \n",
       "\n",
       "                      Puerto Rico_thou  \n",
       "Label (Grouping)                        \n",
       "2022                               NaN  \n",
       "Women 15 to 50 years              29.0  \n",
       "    15 to 19 years                 8.0  \n",
       "    20 to 34 years                56.0  \n",
       "    35 to 50 years                10.0  \n",
       "\n",
       "[5 rows x 157 columns]"
      ]
     },
     "execution_count": 290,
     "metadata": {},
     "output_type": "execute_result"
    }
   ],
   "source": [
    "fert_data = pd.read_excel('./Data/fertility_data.xlsx', index_col=0)\n",
    "fert_data = fert_data.rename(columns=clean_headers)\n",
    "\n",
    "fert_data.head()"
   ]
  },
  {
   "cell_type": "code",
   "execution_count": 291,
   "metadata": {},
   "outputs": [],
   "source": [
    "def fert_data_cleanup(df, year:str):\n",
    "\n",
    "    df_dict = df.to_dict()\n",
    "    cleaned_dict = {state: {key.strip(): value for key, value in data.items()} for state, data in df_dict.items()}\n",
    "\n",
    "    # Create nested dictionary for each state to combine data by state\n",
    "    new_dict = {}\n",
    "    for state_attr, attr_values in cleaned_dict.items():\n",
    "        state, attribute = state_attr.split(\"_\", 1)\n",
    "        if state not in new_dict:\n",
    "            new_dict[state] = {}\n",
    "        if attribute not in new_dict[state]:\n",
    "            new_dict[state][attribute] = {}\n",
    "        for attr, value in attr_values.items():\n",
    "            new_dict[state][attribute][attr] = value\n",
    "\n",
    "    # Create category by total units in state, homeowner units and renter units\n",
    "    total_lst = [{k: v.get('total')} for k, v in new_dict.items() if v.get('total') is not None]\n",
    "    birth_lst = [{k: v.get('births')} for k, v in new_dict.items() if v.get('births') is not None]\n",
    "    thou_lst = [{k: v.get('thou')} for k, v in new_dict.items() if v.get('thou') is not None]\n",
    "\n",
    "    # Function to convert list of dictionaries into a DataFrame\n",
    "    def create_df(lst):\n",
    "        #count_column = f'Count'\n",
    "        df = pd.concat({k: pd.DataFrame.from_dict(v, 'index') for d in lst for k, v in d.items()}, axis=0)\n",
    "        df.reset_index(inplace=True)\n",
    "        df.columns = ['State', 'Value', 'Count']\n",
    "        df['Code'] = df['State'].map(state_abbreviations)\n",
    "        return df\n",
    "\n",
    "    # Convert the list of nested dictionaries into a DataFrame\n",
    "    df_total = create_df(total_lst)\n",
    "    df_birth = create_df(birth_lst)\n",
    "    df_thou = create_df(thou_lst)\n",
    "\n",
    "    return df_total, df_birth, df_thou"
   ]
  },
  {
   "cell_type": "code",
   "execution_count": 292,
   "metadata": {},
   "outputs": [],
   "source": [
    "births_data_22 = fert_data.iloc[[1]]\n",
    "births_data_21 = fert_data.iloc[[12]]\n",
    "births_data_19 = fert_data.iloc[[23]]\n",
    "births_data_18 = fert_data.iloc[[34]]\n",
    "births_data_17 = fert_data.iloc[[45]]\n",
    "births_data_16 = fert_data.iloc[[56]]\n",
    "births_data_15 = fert_data.iloc[[67]]\n",
    "births_data_14 = fert_data.iloc[[78]]\n",
    "births_data_13 = fert_data.iloc[[89]]\n",
    "births_data_12 = fert_data.iloc[[100]]\n",
    "births_data_11 = fert_data.iloc[[111]]\n",
    "births_data_10 = fert_data.iloc[[122]]\n"
   ]
  },
  {
   "cell_type": "code",
   "execution_count": 320,
   "metadata": {},
   "outputs": [],
   "source": [
    "# List of data and corresponding years\n",
    "data_years = [(births_data_22, '2022'), (births_data_21, '2021'), (births_data_19, '2019'), \n",
    "              (births_data_18, '2018'), (births_data_17, '2017'), (births_data_16, '2016'), \n",
    "              (births_data_15, '2015'), (births_data_14, '2014'), (births_data_13, '2013'), \n",
    "              (births_data_12, '2012'), (births_data_11, '2011'), (births_data_10, '2010')]\n",
    "\n",
    "def consolidate_dataframe(data_years: list):\n",
    "\n",
    "    # Initialize dictionaries to store dataframes\n",
    "    fert_pop_dict = {}\n",
    "    birth_dict = {}\n",
    "    birth_thou_dict = {}\n",
    "\n",
    "    # Initialize a list to store dataframes\n",
    "    df_list = []\n",
    "\n",
    "    # Loop over all data and years\n",
    "    for data, year in data_years:\n",
    "        fert_pop, birth, birth_thou = fert_data_cleanup(data, year)\n",
    "        fert_pop_dict[year] = fert_pop\n",
    "        birth_dict[year] = birth\n",
    "        birth_thou_dict[year] = birth_thou\n",
    "\n",
    "        # Add a 'Year' column to the dataframe\n",
    "        birth['Year'] = year\n",
    "        # Append the dataframe to df_list\n",
    "        df_list.append(birth)\n",
    "\n",
    "    # Concatenate all dataframes in df_list\n",
    "    all_years_df = pd.concat(df_list)\n",
    "\n",
    "    # Reset the index of all_years_df\n",
    "    all_years_df.reset_index(drop=True, inplace=True)\n",
    "\n",
    "    return all_years_df, fert_pop_dict, birth_dict, birth_thou_dict\n"
   ]
  },
  {
   "cell_type": "code",
   "execution_count": 321,
   "metadata": {},
   "outputs": [
    {
     "name": "stderr",
     "output_type": "stream",
     "text": [
      "/var/folders/s4/_nt7r71d05l5phnmnv1hwh3r0000gn/T/ipykernel_63526/3007140586.py:3: UserWarning:\n",
      "\n",
      "DataFrame columns are not unique, some columns will be omitted.\n",
      "\n",
      "/var/folders/s4/_nt7r71d05l5phnmnv1hwh3r0000gn/T/ipykernel_63526/3007140586.py:3: UserWarning:\n",
      "\n",
      "DataFrame columns are not unique, some columns will be omitted.\n",
      "\n",
      "/var/folders/s4/_nt7r71d05l5phnmnv1hwh3r0000gn/T/ipykernel_63526/3007140586.py:3: UserWarning:\n",
      "\n",
      "DataFrame columns are not unique, some columns will be omitted.\n",
      "\n",
      "/var/folders/s4/_nt7r71d05l5phnmnv1hwh3r0000gn/T/ipykernel_63526/3007140586.py:3: UserWarning:\n",
      "\n",
      "DataFrame columns are not unique, some columns will be omitted.\n",
      "\n",
      "/var/folders/s4/_nt7r71d05l5phnmnv1hwh3r0000gn/T/ipykernel_63526/3007140586.py:3: UserWarning:\n",
      "\n",
      "DataFrame columns are not unique, some columns will be omitted.\n",
      "\n",
      "/var/folders/s4/_nt7r71d05l5phnmnv1hwh3r0000gn/T/ipykernel_63526/3007140586.py:3: UserWarning:\n",
      "\n",
      "DataFrame columns are not unique, some columns will be omitted.\n",
      "\n"
     ]
    },
    {
     "name": "stderr",
     "output_type": "stream",
     "text": [
      "/var/folders/s4/_nt7r71d05l5phnmnv1hwh3r0000gn/T/ipykernel_63526/3007140586.py:3: UserWarning:\n",
      "\n",
      "DataFrame columns are not unique, some columns will be omitted.\n",
      "\n",
      "/var/folders/s4/_nt7r71d05l5phnmnv1hwh3r0000gn/T/ipykernel_63526/3007140586.py:3: UserWarning:\n",
      "\n",
      "DataFrame columns are not unique, some columns will be omitted.\n",
      "\n",
      "/var/folders/s4/_nt7r71d05l5phnmnv1hwh3r0000gn/T/ipykernel_63526/3007140586.py:3: UserWarning:\n",
      "\n",
      "DataFrame columns are not unique, some columns will be omitted.\n",
      "\n",
      "/var/folders/s4/_nt7r71d05l5phnmnv1hwh3r0000gn/T/ipykernel_63526/3007140586.py:3: UserWarning:\n",
      "\n",
      "DataFrame columns are not unique, some columns will be omitted.\n",
      "\n",
      "/var/folders/s4/_nt7r71d05l5phnmnv1hwh3r0000gn/T/ipykernel_63526/3007140586.py:3: UserWarning:\n",
      "\n",
      "DataFrame columns are not unique, some columns will be omitted.\n",
      "\n",
      "/var/folders/s4/_nt7r71d05l5phnmnv1hwh3r0000gn/T/ipykernel_63526/3007140586.py:3: UserWarning:\n",
      "\n",
      "DataFrame columns are not unique, some columns will be omitted.\n",
      "\n"
     ]
    }
   ],
   "source": [
    "df, fert_pop_dict, birth_dict, birth_thou_dict = consolidate_dataframe(data_years)"
   ]
  },
  {
   "cell_type": "code",
   "execution_count": 322,
   "metadata": {},
   "outputs": [
    {
     "data": {
      "text/html": [
       "<div>\n",
       "<style scoped>\n",
       "    .dataframe tbody tr th:only-of-type {\n",
       "        vertical-align: middle;\n",
       "    }\n",
       "\n",
       "    .dataframe tbody tr th {\n",
       "        vertical-align: top;\n",
       "    }\n",
       "\n",
       "    .dataframe thead th {\n",
       "        text-align: right;\n",
       "    }\n",
       "</style>\n",
       "<table border=\"1\" class=\"dataframe\">\n",
       "  <thead>\n",
       "    <tr style=\"text-align: right;\">\n",
       "      <th></th>\n",
       "      <th>State</th>\n",
       "      <th>Value</th>\n",
       "      <th>Count</th>\n",
       "      <th>Code</th>\n",
       "      <th>Year</th>\n",
       "    </tr>\n",
       "  </thead>\n",
       "  <tbody>\n",
       "    <tr>\n",
       "      <th>619</th>\n",
       "      <td>Washington</td>\n",
       "      <td>Women 15 to 50 years</td>\n",
       "      <td>94636.0</td>\n",
       "      <td>WA</td>\n",
       "      <td>2010</td>\n",
       "    </tr>\n",
       "    <tr>\n",
       "      <th>620</th>\n",
       "      <td>West Virginia</td>\n",
       "      <td>Women 15 to 50 years</td>\n",
       "      <td>20260.0</td>\n",
       "      <td>WV</td>\n",
       "      <td>2010</td>\n",
       "    </tr>\n",
       "    <tr>\n",
       "      <th>621</th>\n",
       "      <td>Wisconsin</td>\n",
       "      <td>Women 15 to 50 years</td>\n",
       "      <td>73724.0</td>\n",
       "      <td>WI</td>\n",
       "      <td>2010</td>\n",
       "    </tr>\n",
       "    <tr>\n",
       "      <th>622</th>\n",
       "      <td>Wyoming</td>\n",
       "      <td>Women 15 to 50 years</td>\n",
       "      <td>8314.0</td>\n",
       "      <td>WY</td>\n",
       "      <td>2010</td>\n",
       "    </tr>\n",
       "    <tr>\n",
       "      <th>623</th>\n",
       "      <td>Puerto Rico</td>\n",
       "      <td>Women 15 to 50 years</td>\n",
       "      <td>45712.0</td>\n",
       "      <td>PR</td>\n",
       "      <td>2010</td>\n",
       "    </tr>\n",
       "  </tbody>\n",
       "</table>\n",
       "</div>"
      ],
      "text/plain": [
       "             State                 Value    Count Code  Year\n",
       "619     Washington  Women 15 to 50 years  94636.0   WA  2010\n",
       "620  West Virginia  Women 15 to 50 years  20260.0   WV  2010\n",
       "621      Wisconsin  Women 15 to 50 years  73724.0   WI  2010\n",
       "622        Wyoming  Women 15 to 50 years   8314.0   WY  2010\n",
       "623    Puerto Rico  Women 15 to 50 years  45712.0   PR  2010"
      ]
     },
     "execution_count": 322,
     "metadata": {},
     "output_type": "execute_result"
    }
   ],
   "source": [
    "df.tail()"
   ]
  },
  {
   "cell_type": "code",
   "execution_count": 323,
   "metadata": {},
   "outputs": [
    {
     "data": {
      "application/vnd.plotly.v1+json": {
       "config": {
        "plotlyServerURL": "https://plot.ly"
       },
       "data": [
        {
         "hovertemplate": "State=Alabama<br>Year=%{x}<br>Count=%{y}<extra></extra>",
         "legendgroup": "Alabama",
         "line": {
          "color": "#636efa",
          "dash": "solid"
         },
         "marker": {
          "symbol": "circle"
         },
         "mode": "lines",
         "name": "Alabama",
         "orientation": "v",
         "showlegend": true,
         "type": "scatter",
         "x": [
          "2022",
          "2021",
          "2019",
          "2018",
          "2017",
          "2016",
          "2015",
          "2014",
          "2013",
          "2012",
          "2011",
          "2010"
         ],
         "xaxis": "x",
         "y": [
          61506,
          55593,
          58542,
          66070,
          59028,
          57191,
          59374,
          58890,
          58053,
          63447,
          70601,
          66243
         ],
         "yaxis": "y"
        },
        {
         "hovertemplate": "State=Alaska<br>Year=%{x}<br>Count=%{y}<extra></extra>",
         "legendgroup": "Alaska",
         "line": {
          "color": "#EF553B",
          "dash": "solid"
         },
         "marker": {
          "symbol": "circle"
         },
         "mode": "lines",
         "name": "Alaska",
         "orientation": "v",
         "showlegend": true,
         "type": "scatter",
         "x": [
          "2022",
          "2021",
          "2019",
          "2018",
          "2017",
          "2016",
          "2015",
          "2014",
          "2013",
          "2012",
          "2011",
          "2010"
         ],
         "xaxis": "x",
         "y": [
          10125,
          8677,
          10502,
          10747,
          9961,
          9728,
          11144,
          11703,
          10411,
          10721,
          12883,
          12494
         ],
         "yaxis": "y"
        },
        {
         "hovertemplate": "State=Arizona<br>Year=%{x}<br>Count=%{y}<extra></extra>",
         "legendgroup": "Arizona",
         "line": {
          "color": "#00cc96",
          "dash": "solid"
         },
         "marker": {
          "symbol": "circle"
         },
         "mode": "lines",
         "name": "Arizona",
         "orientation": "v",
         "showlegend": true,
         "type": "scatter",
         "x": [
          "2022",
          "2021",
          "2019",
          "2018",
          "2017",
          "2016",
          "2015",
          "2014",
          "2013",
          "2012",
          "2011",
          "2010"
         ],
         "xaxis": "x",
         "y": [
          86548,
          83599,
          89019,
          92780,
          88721,
          81297,
          85798,
          82774,
          83011,
          89672,
          84696,
          86210
         ],
         "yaxis": "y"
        },
        {
         "hovertemplate": "State=Arkansas<br>Year=%{x}<br>Count=%{y}<extra></extra>",
         "legendgroup": "Arkansas",
         "line": {
          "color": "#ab63fa",
          "dash": "solid"
         },
         "marker": {
          "symbol": "circle"
         },
         "mode": "lines",
         "name": "Arkansas",
         "orientation": "v",
         "showlegend": true,
         "type": "scatter",
         "x": [
          "2022",
          "2021",
          "2019",
          "2018",
          "2017",
          "2016",
          "2015",
          "2014",
          "2013",
          "2012",
          "2011",
          "2010"
         ],
         "xaxis": "x",
         "y": [
          39688,
          36729,
          35370,
          39677,
          41016,
          38583,
          41817,
          40479,
          39228,
          39421,
          36586,
          37344
         ],
         "yaxis": "y"
        },
        {
         "hovertemplate": "State=California<br>Year=%{x}<br>Count=%{y}<extra></extra>",
         "legendgroup": "California",
         "line": {
          "color": "#FFA15A",
          "dash": "solid"
         },
         "marker": {
          "symbol": "circle"
         },
         "mode": "lines",
         "name": "California",
         "orientation": "v",
         "showlegend": true,
         "type": "scatter",
         "x": [
          "2022",
          "2021",
          "2019",
          "2018",
          "2017",
          "2016",
          "2015",
          "2014",
          "2013",
          "2012",
          "2011",
          "2010"
         ],
         "xaxis": "x",
         "y": [
          453850,
          458334,
          450971,
          454027,
          468957,
          471829,
          478813,
          472565,
          477649,
          505431,
          518722,
          508113
         ],
         "yaxis": "y"
        },
        {
         "hovertemplate": "State=Colorado<br>Year=%{x}<br>Count=%{y}<extra></extra>",
         "legendgroup": "Colorado",
         "line": {
          "color": "#19d3f3",
          "dash": "solid"
         },
         "marker": {
          "symbol": "circle"
         },
         "mode": "lines",
         "name": "Colorado",
         "orientation": "v",
         "showlegend": true,
         "type": "scatter",
         "x": [
          "2022",
          "2021",
          "2019",
          "2018",
          "2017",
          "2016",
          "2015",
          "2014",
          "2013",
          "2012",
          "2011",
          "2010"
         ],
         "xaxis": "x",
         "y": [
          70204,
          62000,
          64252,
          71267,
          70949,
          68259,
          65555,
          70525,
          64982,
          69995,
          75261,
          68838
         ],
         "yaxis": "y"
        },
        {
         "hovertemplate": "State=Connecticut<br>Year=%{x}<br>Count=%{y}<extra></extra>",
         "legendgroup": "Connecticut",
         "line": {
          "color": "#FF6692",
          "dash": "solid"
         },
         "marker": {
          "symbol": "circle"
         },
         "mode": "lines",
         "name": "Connecticut",
         "orientation": "v",
         "showlegend": true,
         "type": "scatter",
         "x": [
          "2022",
          "2021",
          "2019",
          "2018",
          "2017",
          "2016",
          "2015",
          "2014",
          "2013",
          "2012",
          "2011",
          "2010"
         ],
         "xaxis": "x",
         "y": [
          37999,
          38771,
          30781,
          35625,
          33995,
          33725,
          34705,
          42104,
          35904,
          38839,
          39770,
          42002
         ],
         "yaxis": "y"
        },
        {
         "hovertemplate": "State=Delaware<br>Year=%{x}<br>Count=%{y}<extra></extra>",
         "legendgroup": "Delaware",
         "line": {
          "color": "#B6E880",
          "dash": "solid"
         },
         "marker": {
          "symbol": "circle"
         },
         "mode": "lines",
         "name": "Delaware",
         "orientation": "v",
         "showlegend": true,
         "type": "scatter",
         "x": [
          "2022",
          "2021",
          "2019",
          "2018",
          "2017",
          "2016",
          "2015",
          "2014",
          "2013",
          "2012",
          "2011",
          "2010"
         ],
         "xaxis": "x",
         "y": [
          12915,
          11651,
          8580,
          10138,
          9580,
          9823,
          9736,
          10944,
          12589,
          12961,
          10066,
          9902
         ],
         "yaxis": "y"
        },
        {
         "hovertemplate": "State=District of Columbia<br>Year=%{x}<br>Count=%{y}<extra></extra>",
         "legendgroup": "District of Columbia",
         "line": {
          "color": "#FF97FF",
          "dash": "solid"
         },
         "marker": {
          "symbol": "circle"
         },
         "mode": "lines",
         "name": "District of Columbia",
         "orientation": "v",
         "showlegend": true,
         "type": "scatter",
         "x": [
          "2022",
          "2021",
          "2019",
          "2018",
          "2017",
          "2016",
          "2015",
          "2014",
          "2013",
          "2012",
          "2011",
          "2010"
         ],
         "xaxis": "x",
         "y": [
          8309,
          7874,
          8375,
          8651,
          9007,
          9372,
          8575,
          9901,
          9700,
          7632,
          7070,
          9098
         ],
         "yaxis": "y"
        },
        {
         "hovertemplate": "State=Florida<br>Year=%{x}<br>Count=%{y}<extra></extra>",
         "legendgroup": "Florida",
         "line": {
          "color": "#FECB52",
          "dash": "solid"
         },
         "marker": {
          "symbol": "circle"
         },
         "mode": "lines",
         "name": "Florida",
         "orientation": "v",
         "showlegend": true,
         "type": "scatter",
         "x": [
          "2022",
          "2021",
          "2019",
          "2018",
          "2017",
          "2016",
          "2015",
          "2014",
          "2013",
          "2012",
          "2011",
          "2010"
         ],
         "xaxis": "x",
         "y": [
          237974,
          211115,
          205856,
          230832,
          231116,
          217513,
          208713,
          213196,
          212782,
          224836,
          206786,
          211737
         ],
         "yaxis": "y"
        },
        {
         "hovertemplate": "State=Georgia<br>Year=%{x}<br>Count=%{y}<extra></extra>",
         "legendgroup": "Georgia",
         "line": {
          "color": "#636efa",
          "dash": "solid"
         },
         "marker": {
          "symbol": "circle"
         },
         "mode": "lines",
         "name": "Georgia",
         "orientation": "v",
         "showlegend": true,
         "type": "scatter",
         "x": [
          "2022",
          "2021",
          "2019",
          "2018",
          "2017",
          "2016",
          "2015",
          "2014",
          "2013",
          "2012",
          "2011",
          "2010"
         ],
         "xaxis": "x",
         "y": [
          151128,
          138093,
          134809,
          122525,
          141334,
          142813,
          137866,
          136418,
          126637,
          157038,
          135886,
          145715
         ],
         "yaxis": "y"
        },
        {
         "hovertemplate": "State=Hawaii<br>Year=%{x}<br>Count=%{y}<extra></extra>",
         "legendgroup": "Hawaii",
         "line": {
          "color": "#EF553B",
          "dash": "solid"
         },
         "marker": {
          "symbol": "circle"
         },
         "mode": "lines",
         "name": "Hawaii",
         "orientation": "v",
         "showlegend": true,
         "type": "scatter",
         "x": [
          "2022",
          "2021",
          "2019",
          "2018",
          "2017",
          "2016",
          "2015",
          "2014",
          "2013",
          "2012",
          "2011",
          "2010"
         ],
         "xaxis": "x",
         "y": [
          15928,
          18482,
          18431,
          18527,
          19672,
          21614,
          18465,
          20432,
          18332,
          20898,
          22942,
          19939
         ],
         "yaxis": "y"
        },
        {
         "hovertemplate": "State=Idaho<br>Year=%{x}<br>Count=%{y}<extra></extra>",
         "legendgroup": "Idaho",
         "line": {
          "color": "#00cc96",
          "dash": "solid"
         },
         "marker": {
          "symbol": "circle"
         },
         "mode": "lines",
         "name": "Idaho",
         "orientation": "v",
         "showlegend": true,
         "type": "scatter",
         "x": [
          "2022",
          "2021",
          "2019",
          "2018",
          "2017",
          "2016",
          "2015",
          "2014",
          "2013",
          "2012",
          "2011",
          "2010"
         ],
         "xaxis": "x",
         "y": [
          25329,
          23087,
          27171,
          23502,
          24723,
          23210,
          22597,
          21912,
          21018,
          24546,
          27418,
          23489
         ],
         "yaxis": "y"
        },
        {
         "hovertemplate": "State=Illinois<br>Year=%{x}<br>Count=%{y}<extra></extra>",
         "legendgroup": "Illinois",
         "line": {
          "color": "#ab63fa",
          "dash": "solid"
         },
         "marker": {
          "symbol": "circle"
         },
         "mode": "lines",
         "name": "Illinois",
         "orientation": "v",
         "showlegend": true,
         "type": "scatter",
         "x": [
          "2022",
          "2021",
          "2019",
          "2018",
          "2017",
          "2016",
          "2015",
          "2014",
          "2013",
          "2012",
          "2011",
          "2010"
         ],
         "xaxis": "x",
         "y": [
          147198,
          147999,
          147037,
          158848,
          153400,
          152395,
          159167,
          152835,
          156818,
          158016,
          161456,
          179328
         ],
         "yaxis": "y"
        },
        {
         "hovertemplate": "State=Indiana<br>Year=%{x}<br>Count=%{y}<extra></extra>",
         "legendgroup": "Indiana",
         "line": {
          "color": "#FFA15A",
          "dash": "solid"
         },
         "marker": {
          "symbol": "circle"
         },
         "mode": "lines",
         "name": "Indiana",
         "orientation": "v",
         "showlegend": true,
         "type": "scatter",
         "x": [
          "2022",
          "2021",
          "2019",
          "2018",
          "2017",
          "2016",
          "2015",
          "2014",
          "2013",
          "2012",
          "2011",
          "2010"
         ],
         "xaxis": "x",
         "y": [
          90329,
          86099,
          81658,
          89630,
          77269,
          87507,
          80320,
          85078,
          83444,
          89436,
          88441,
          82273
         ],
         "yaxis": "y"
        },
        {
         "hovertemplate": "State=Iowa<br>Year=%{x}<br>Count=%{y}<extra></extra>",
         "legendgroup": "Iowa",
         "line": {
          "color": "#19d3f3",
          "dash": "solid"
         },
         "marker": {
          "symbol": "circle"
         },
         "mode": "lines",
         "name": "Iowa",
         "orientation": "v",
         "showlegend": true,
         "type": "scatter",
         "x": [
          "2022",
          "2021",
          "2019",
          "2018",
          "2017",
          "2016",
          "2015",
          "2014",
          "2013",
          "2012",
          "2011",
          "2010"
         ],
         "xaxis": "x",
         "y": [
          41204,
          38050,
          37815,
          40916,
          41142,
          41605,
          43263,
          42728,
          37894,
          40484,
          37621,
          41387
         ],
         "yaxis": "y"
        },
        {
         "hovertemplate": "State=Kansas<br>Year=%{x}<br>Count=%{y}<extra></extra>",
         "legendgroup": "Kansas",
         "line": {
          "color": "#FF6692",
          "dash": "solid"
         },
         "marker": {
          "symbol": "circle"
         },
         "mode": "lines",
         "name": "Kansas",
         "orientation": "v",
         "showlegend": true,
         "type": "scatter",
         "x": [
          "2022",
          "2021",
          "2019",
          "2018",
          "2017",
          "2016",
          "2015",
          "2014",
          "2013",
          "2012",
          "2011",
          "2010"
         ],
         "xaxis": "x",
         "y": [
          36787,
          39053,
          41058,
          41218,
          38940,
          35762,
          38186,
          37641,
          43604,
          44946,
          43443,
          40095
         ],
         "yaxis": "y"
        },
        {
         "hovertemplate": "State=Kentucky<br>Year=%{x}<br>Count=%{y}<extra></extra>",
         "legendgroup": "Kentucky",
         "line": {
          "color": "#B6E880",
          "dash": "solid"
         },
         "marker": {
          "symbol": "circle"
         },
         "mode": "lines",
         "name": "Kentucky",
         "orientation": "v",
         "showlegend": true,
         "type": "scatter",
         "x": [
          "2022",
          "2021",
          "2019",
          "2018",
          "2017",
          "2016",
          "2015",
          "2014",
          "2013",
          "2012",
          "2011",
          "2010"
         ],
         "xaxis": "x",
         "y": [
          56396,
          53246,
          47407,
          56995,
          53444,
          54853,
          53925,
          57714,
          53643,
          58231,
          56213,
          57337
         ],
         "yaxis": "y"
        },
        {
         "hovertemplate": "State=Louisiana<br>Year=%{x}<br>Count=%{y}<extra></extra>",
         "legendgroup": "Louisiana",
         "line": {
          "color": "#FF97FF",
          "dash": "solid"
         },
         "marker": {
          "symbol": "circle"
         },
         "mode": "lines",
         "name": "Louisiana",
         "orientation": "v",
         "showlegend": true,
         "type": "scatter",
         "x": [
          "2022",
          "2021",
          "2019",
          "2018",
          "2017",
          "2016",
          "2015",
          "2014",
          "2013",
          "2012",
          "2011",
          "2010"
         ],
         "xaxis": "x",
         "y": [
          61980,
          59760,
          57992,
          62709,
          58623,
          61893,
          62415,
          55388,
          64822,
          57981,
          65280,
          67832
         ],
         "yaxis": "y"
        },
        {
         "hovertemplate": "State=Maine<br>Year=%{x}<br>Count=%{y}<extra></extra>",
         "legendgroup": "Maine",
         "line": {
          "color": "#FECB52",
          "dash": "solid"
         },
         "marker": {
          "symbol": "circle"
         },
         "mode": "lines",
         "name": "Maine",
         "orientation": "v",
         "showlegend": true,
         "type": "scatter",
         "x": [
          "2022",
          "2021",
          "2019",
          "2018",
          "2017",
          "2016",
          "2015",
          "2014",
          "2013",
          "2012",
          "2011",
          "2010"
         ],
         "xaxis": "x",
         "y": [
          16407,
          15853,
          14130,
          14372,
          14945,
          12952,
          11600,
          13951,
          13667,
          13845,
          13843,
          14244
         ],
         "yaxis": "y"
        },
        {
         "hovertemplate": "State=Maryland<br>Year=%{x}<br>Count=%{y}<extra></extra>",
         "legendgroup": "Maryland",
         "line": {
          "color": "#636efa",
          "dash": "solid"
         },
         "marker": {
          "symbol": "circle"
         },
         "mode": "lines",
         "name": "Maryland",
         "orientation": "v",
         "showlegend": true,
         "type": "scatter",
         "x": [
          "2022",
          "2021",
          "2019",
          "2018",
          "2017",
          "2016",
          "2015",
          "2014",
          "2013",
          "2012",
          "2011",
          "2010"
         ],
         "xaxis": "x",
         "y": [
          71827,
          76893,
          73824,
          72172,
          74868,
          74020,
          76129,
          69510,
          76852,
          77612,
          78351,
          79000
         ],
         "yaxis": "y"
        },
        {
         "hovertemplate": "State=Massachusetts<br>Year=%{x}<br>Count=%{y}<extra></extra>",
         "legendgroup": "Massachusetts",
         "line": {
          "color": "#EF553B",
          "dash": "solid"
         },
         "marker": {
          "symbol": "circle"
         },
         "mode": "lines",
         "name": "Massachusetts",
         "orientation": "v",
         "showlegend": true,
         "type": "scatter",
         "x": [
          "2022",
          "2021",
          "2019",
          "2018",
          "2017",
          "2016",
          "2015",
          "2014",
          "2013",
          "2012",
          "2011",
          "2010"
         ],
         "xaxis": "x",
         "y": [
          71722,
          75136,
          69139,
          74345,
          76690,
          73911,
          72160,
          73444,
          77689,
          72166,
          79641,
          79068
         ],
         "yaxis": "y"
        },
        {
         "hovertemplate": "State=Michigan<br>Year=%{x}<br>Count=%{y}<extra></extra>",
         "legendgroup": "Michigan",
         "line": {
          "color": "#00cc96",
          "dash": "solid"
         },
         "marker": {
          "symbol": "circle"
         },
         "mode": "lines",
         "name": "Michigan",
         "orientation": "v",
         "showlegend": true,
         "type": "scatter",
         "x": [
          "2022",
          "2021",
          "2019",
          "2018",
          "2017",
          "2016",
          "2015",
          "2014",
          "2013",
          "2012",
          "2011",
          "2010"
         ],
         "xaxis": "x",
         "y": [
          111639,
          117076,
          115459,
          115629,
          117528,
          120163,
          114616,
          125528,
          121880,
          114104,
          122324,
          128835
         ],
         "yaxis": "y"
        },
        {
         "hovertemplate": "State=Minnesota<br>Year=%{x}<br>Count=%{y}<extra></extra>",
         "legendgroup": "Minnesota",
         "line": {
          "color": "#ab63fa",
          "dash": "solid"
         },
         "marker": {
          "symbol": "circle"
         },
         "mode": "lines",
         "name": "Minnesota",
         "orientation": "v",
         "showlegend": true,
         "type": "scatter",
         "x": [
          "2022",
          "2021",
          "2019",
          "2018",
          "2017",
          "2016",
          "2015",
          "2014",
          "2013",
          "2012",
          "2011",
          "2010"
         ],
         "xaxis": "x",
         "y": [
          69168,
          70191,
          71159,
          76157,
          70957,
          69156,
          74614,
          77561,
          71629,
          71893,
          74548,
          73251
         ],
         "yaxis": "y"
        },
        {
         "hovertemplate": "State=Mississippi<br>Year=%{x}<br>Count=%{y}<extra></extra>",
         "legendgroup": "Mississippi",
         "line": {
          "color": "#FFA15A",
          "dash": "solid"
         },
         "marker": {
          "symbol": "circle"
         },
         "mode": "lines",
         "name": "Mississippi",
         "orientation": "v",
         "showlegend": true,
         "type": "scatter",
         "x": [
          "2022",
          "2021",
          "2019",
          "2018",
          "2017",
          "2016",
          "2015",
          "2014",
          "2013",
          "2012",
          "2011",
          "2010"
         ],
         "xaxis": "x",
         "y": [
          40116,
          36472,
          35965,
          35639,
          38333,
          37566,
          34417,
          36377,
          38631,
          40594,
          36711,
          45919
         ],
         "yaxis": "y"
        },
        {
         "hovertemplate": "State=Missouri<br>Year=%{x}<br>Count=%{y}<extra></extra>",
         "legendgroup": "Missouri",
         "line": {
          "color": "#19d3f3",
          "dash": "solid"
         },
         "marker": {
          "symbol": "circle"
         },
         "mode": "lines",
         "name": "Missouri",
         "orientation": "v",
         "showlegend": true,
         "type": "scatter",
         "x": [
          "2022",
          "2021",
          "2019",
          "2018",
          "2017",
          "2016",
          "2015",
          "2014",
          "2013",
          "2012",
          "2011",
          "2010"
         ],
         "xaxis": "x",
         "y": [
          74145,
          72654,
          76428,
          80307,
          80273,
          75581,
          72010,
          72192,
          77139,
          80558,
          78269,
          82335
         ],
         "yaxis": "y"
        },
        {
         "hovertemplate": "State=Montana<br>Year=%{x}<br>Count=%{y}<extra></extra>",
         "legendgroup": "Montana",
         "line": {
          "color": "#FF6692",
          "dash": "solid"
         },
         "marker": {
          "symbol": "circle"
         },
         "mode": "lines",
         "name": "Montana",
         "orientation": "v",
         "showlegend": true,
         "type": "scatter",
         "x": [
          "2022",
          "2021",
          "2019",
          "2018",
          "2017",
          "2016",
          "2015",
          "2014",
          "2013",
          "2012",
          "2011",
          "2010"
         ],
         "xaxis": "x",
         "y": [
          16895,
          12284,
          12267,
          11388,
          13055,
          10625,
          12432,
          11493,
          12242,
          11359,
          12558,
          14037
         ],
         "yaxis": "y"
        },
        {
         "hovertemplate": "State=Nebraska<br>Year=%{x}<br>Count=%{y}<extra></extra>",
         "legendgroup": "Nebraska",
         "line": {
          "color": "#B6E880",
          "dash": "solid"
         },
         "marker": {
          "symbol": "circle"
         },
         "mode": "lines",
         "name": "Nebraska",
         "orientation": "v",
         "showlegend": true,
         "type": "scatter",
         "x": [
          "2022",
          "2021",
          "2019",
          "2018",
          "2017",
          "2016",
          "2015",
          "2014",
          "2013",
          "2012",
          "2011",
          "2010"
         ],
         "xaxis": "x",
         "y": [
          27111,
          27391,
          26897,
          25692,
          29620,
          26962,
          29431,
          28196,
          26077,
          26172,
          25777,
          28509
         ],
         "yaxis": "y"
        },
        {
         "hovertemplate": "State=Nevada<br>Year=%{x}<br>Count=%{y}<extra></extra>",
         "legendgroup": "Nevada",
         "line": {
          "color": "#FF97FF",
          "dash": "solid"
         },
         "marker": {
          "symbol": "circle"
         },
         "mode": "lines",
         "name": "Nevada",
         "orientation": "v",
         "showlegend": true,
         "type": "scatter",
         "x": [
          "2022",
          "2021",
          "2019",
          "2018",
          "2017",
          "2016",
          "2015",
          "2014",
          "2013",
          "2012",
          "2011",
          "2010"
         ],
         "xaxis": "x",
         "y": [
          41310,
          37252,
          37443,
          36733,
          37802,
          34172,
          33774,
          34794,
          35476,
          37096,
          35270,
          41465
         ],
         "yaxis": "y"
        },
        {
         "hovertemplate": "State=New Hampshire<br>Year=%{x}<br>Count=%{y}<extra></extra>",
         "legendgroup": "New Hampshire",
         "line": {
          "color": "#FECB52",
          "dash": "solid"
         },
         "marker": {
          "symbol": "circle"
         },
         "mode": "lines",
         "name": "New Hampshire",
         "orientation": "v",
         "showlegend": true,
         "type": "scatter",
         "x": [
          "2022",
          "2021",
          "2019",
          "2018",
          "2017",
          "2016",
          "2015",
          "2014",
          "2013",
          "2012",
          "2011",
          "2010"
         ],
         "xaxis": "x",
         "y": [
          14072,
          13913,
          11966,
          13925,
          13862,
          14643,
          15223,
          15202,
          15795,
          12822,
          14182,
          16194
         ],
         "yaxis": "y"
        },
        {
         "hovertemplate": "State=New Jersey<br>Year=%{x}<br>Count=%{y}<extra></extra>",
         "legendgroup": "New Jersey",
         "line": {
          "color": "#636efa",
          "dash": "solid"
         },
         "marker": {
          "symbol": "circle"
         },
         "mode": "lines",
         "name": "New Jersey",
         "orientation": "v",
         "showlegend": true,
         "type": "scatter",
         "x": [
          "2022",
          "2021",
          "2019",
          "2018",
          "2017",
          "2016",
          "2015",
          "2014",
          "2013",
          "2012",
          "2011",
          "2010"
         ],
         "xaxis": "x",
         "y": [
          105942,
          110927,
          95678,
          105146,
          98578,
          96916,
          101634,
          101295,
          100877,
          110951,
          108843,
          110473
         ],
         "yaxis": "y"
        },
        {
         "hovertemplate": "State=New Mexico<br>Year=%{x}<br>Count=%{y}<extra></extra>",
         "legendgroup": "New Mexico",
         "line": {
          "color": "#EF553B",
          "dash": "solid"
         },
         "marker": {
          "symbol": "circle"
         },
         "mode": "lines",
         "name": "New Mexico",
         "orientation": "v",
         "showlegend": true,
         "type": "scatter",
         "x": [
          "2022",
          "2021",
          "2019",
          "2018",
          "2017",
          "2016",
          "2015",
          "2014",
          "2013",
          "2012",
          "2011",
          "2010"
         ],
         "xaxis": "x",
         "y": [
          24681,
          23596,
          26945,
          23984,
          28338,
          23853,
          24412,
          27963,
          28496,
          27244,
          29765,
          28502
         ],
         "yaxis": "y"
        },
        {
         "hovertemplate": "State=New York<br>Year=%{x}<br>Count=%{y}<extra></extra>",
         "legendgroup": "New York",
         "line": {
          "color": "#00cc96",
          "dash": "solid"
         },
         "marker": {
          "symbol": "circle"
         },
         "mode": "lines",
         "name": "New York",
         "orientation": "v",
         "showlegend": true,
         "type": "scatter",
         "x": [
          "2022",
          "2021",
          "2019",
          "2018",
          "2017",
          "2016",
          "2015",
          "2014",
          "2013",
          "2012",
          "2011",
          "2010"
         ],
         "xaxis": "x",
         "y": [
          232961,
          213704,
          217713,
          216046,
          219214,
          225830,
          219972,
          223568,
          231584,
          236344,
          247202,
          247003
         ],
         "yaxis": "y"
        },
        {
         "hovertemplate": "State=North Carolina<br>Year=%{x}<br>Count=%{y}<extra></extra>",
         "legendgroup": "North Carolina",
         "line": {
          "color": "#ab63fa",
          "dash": "solid"
         },
         "marker": {
          "symbol": "circle"
         },
         "mode": "lines",
         "name": "North Carolina",
         "orientation": "v",
         "showlegend": true,
         "type": "scatter",
         "x": [
          "2022",
          "2021",
          "2019",
          "2018",
          "2017",
          "2016",
          "2015",
          "2014",
          "2013",
          "2012",
          "2011",
          "2010"
         ],
         "xaxis": "x",
         "y": [
          129267,
          119762,
          129358,
          119280,
          127760,
          120067,
          119725,
          121511,
          118248,
          135270,
          133512,
          130058
         ],
         "yaxis": "y"
        },
        {
         "hovertemplate": "State=North Dakota<br>Year=%{x}<br>Count=%{y}<extra></extra>",
         "legendgroup": "North Dakota",
         "line": {
          "color": "#FFA15A",
          "dash": "solid"
         },
         "marker": {
          "symbol": "circle"
         },
         "mode": "lines",
         "name": "North Dakota",
         "orientation": "v",
         "showlegend": true,
         "type": "scatter",
         "x": [
          "2022",
          "2021",
          "2019",
          "2018",
          "2017",
          "2016",
          "2015",
          "2014",
          "2013",
          "2012",
          "2011",
          "2010"
         ],
         "xaxis": "x",
         "y": [
          10748,
          11610,
          13098,
          11264,
          10777,
          11633,
          12118,
          11641,
          10066,
          11465,
          10400,
          8895
         ],
         "yaxis": "y"
        },
        {
         "hovertemplate": "State=Ohio<br>Year=%{x}<br>Count=%{y}<extra></extra>",
         "legendgroup": "Ohio",
         "line": {
          "color": "#19d3f3",
          "dash": "solid"
         },
         "marker": {
          "symbol": "circle"
         },
         "mode": "lines",
         "name": "Ohio",
         "orientation": "v",
         "showlegend": true,
         "type": "scatter",
         "x": [
          "2022",
          "2021",
          "2019",
          "2018",
          "2017",
          "2016",
          "2015",
          "2014",
          "2013",
          "2012",
          "2011",
          "2010"
         ],
         "xaxis": "x",
         "y": [
          144549,
          135627,
          150899,
          146391,
          151068,
          145033,
          141168,
          134564,
          136831,
          151327,
          142781,
          145431
         ],
         "yaxis": "y"
        },
        {
         "hovertemplate": "State=Oklahoma<br>Year=%{x}<br>Count=%{y}<extra></extra>",
         "legendgroup": "Oklahoma",
         "line": {
          "color": "#FF6692",
          "dash": "solid"
         },
         "marker": {
          "symbol": "circle"
         },
         "mode": "lines",
         "name": "Oklahoma",
         "orientation": "v",
         "showlegend": true,
         "type": "scatter",
         "x": [
          "2022",
          "2021",
          "2019",
          "2018",
          "2017",
          "2016",
          "2015",
          "2014",
          "2013",
          "2012",
          "2011",
          "2010"
         ],
         "xaxis": "x",
         "y": [
          54326,
          49066,
          55049,
          51095,
          59955,
          53821,
          47490,
          52622,
          52382,
          53664,
          53718,
          49557
         ],
         "yaxis": "y"
        },
        {
         "hovertemplate": "State=Oregon<br>Year=%{x}<br>Count=%{y}<extra></extra>",
         "legendgroup": "Oregon",
         "line": {
          "color": "#B6E880",
          "dash": "solid"
         },
         "marker": {
          "symbol": "circle"
         },
         "mode": "lines",
         "name": "Oregon",
         "orientation": "v",
         "showlegend": true,
         "type": "scatter",
         "x": [
          "2022",
          "2021",
          "2019",
          "2018",
          "2017",
          "2016",
          "2015",
          "2014",
          "2013",
          "2012",
          "2011",
          "2010"
         ],
         "xaxis": "x",
         "y": [
          44166,
          45138,
          42254,
          45820,
          48087,
          42136,
          46087,
          43919,
          45186,
          45389,
          49012,
          48873
         ],
         "yaxis": "y"
        },
        {
         "hovertemplate": "State=Pennsylvania<br>Year=%{x}<br>Count=%{y}<extra></extra>",
         "legendgroup": "Pennsylvania",
         "line": {
          "color": "#FF97FF",
          "dash": "solid"
         },
         "marker": {
          "symbol": "circle"
         },
         "mode": "lines",
         "name": "Pennsylvania",
         "orientation": "v",
         "showlegend": true,
         "type": "scatter",
         "x": [
          "2022",
          "2021",
          "2019",
          "2018",
          "2017",
          "2016",
          "2015",
          "2014",
          "2013",
          "2012",
          "2011",
          "2010"
         ],
         "xaxis": "x",
         "y": [
          149542,
          143491,
          148956,
          147829,
          143272,
          144768,
          149372,
          147759,
          141870,
          148217,
          147720,
          144791
         ],
         "yaxis": "y"
        },
        {
         "hovertemplate": "State=Rhode Island<br>Year=%{x}<br>Count=%{y}<extra></extra>",
         "legendgroup": "Rhode Island",
         "line": {
          "color": "#FECB52",
          "dash": "solid"
         },
         "marker": {
          "symbol": "circle"
         },
         "mode": "lines",
         "name": "Rhode Island",
         "orientation": "v",
         "showlegend": true,
         "type": "scatter",
         "x": [
          "2022",
          "2021",
          "2019",
          "2018",
          "2017",
          "2016",
          "2015",
          "2014",
          "2013",
          "2012",
          "2011",
          "2010"
         ],
         "xaxis": "x",
         "y": [
          11327,
          11618,
          7968,
          10910,
          11713,
          11348,
          13820,
          10238,
          11650,
          11002,
          13199,
          12732
         ],
         "yaxis": "y"
        },
        {
         "hovertemplate": "State=South Carolina<br>Year=%{x}<br>Count=%{y}<extra></extra>",
         "legendgroup": "South Carolina",
         "line": {
          "color": "#636efa",
          "dash": "solid"
         },
         "marker": {
          "symbol": "circle"
         },
         "mode": "lines",
         "name": "South Carolina",
         "orientation": "v",
         "showlegend": true,
         "type": "scatter",
         "x": [
          "2022",
          "2021",
          "2019",
          "2018",
          "2017",
          "2016",
          "2015",
          "2014",
          "2013",
          "2012",
          "2011",
          "2010"
         ],
         "xaxis": "x",
         "y": [
          63426,
          60830,
          63576,
          63951,
          66875,
          60080,
          61316,
          56055,
          58531,
          60734,
          68937,
          63648
         ],
         "yaxis": "y"
        },
        {
         "hovertemplate": "State=South Dakota<br>Year=%{x}<br>Count=%{y}<extra></extra>",
         "legendgroup": "South Dakota",
         "line": {
          "color": "#EF553B",
          "dash": "solid"
         },
         "marker": {
          "symbol": "circle"
         },
         "mode": "lines",
         "name": "South Dakota",
         "orientation": "v",
         "showlegend": true,
         "type": "scatter",
         "x": [
          "2022",
          "2021",
          "2019",
          "2018",
          "2017",
          "2016",
          "2015",
          "2014",
          "2013",
          "2012",
          "2011",
          "2010"
         ],
         "xaxis": "x",
         "y": [
          14399,
          11179,
          12568,
          11346,
          12915,
          13050,
          10875,
          10739,
          13341,
          14187,
          11258,
          10804
         ],
         "yaxis": "y"
        },
        {
         "hovertemplate": "State=Tennessee<br>Year=%{x}<br>Count=%{y}<extra></extra>",
         "legendgroup": "Tennessee",
         "line": {
          "color": "#00cc96",
          "dash": "solid"
         },
         "marker": {
          "symbol": "circle"
         },
         "mode": "lines",
         "name": "Tennessee",
         "orientation": "v",
         "showlegend": true,
         "type": "scatter",
         "x": [
          "2022",
          "2021",
          "2019",
          "2018",
          "2017",
          "2016",
          "2015",
          "2014",
          "2013",
          "2012",
          "2011",
          "2010"
         ],
         "xaxis": "x",
         "y": [
          82884,
          86681,
          78042,
          83897,
          76574,
          78019,
          80773,
          80857,
          83742,
          83431,
          85632,
          96604
         ],
         "yaxis": "y"
        },
        {
         "hovertemplate": "State=Texas<br>Year=%{x}<br>Count=%{y}<extra></extra>",
         "legendgroup": "Texas",
         "line": {
          "color": "#ab63fa",
          "dash": "solid"
         },
         "marker": {
          "symbol": "circle"
         },
         "mode": "lines",
         "name": "Texas",
         "orientation": "v",
         "showlegend": true,
         "type": "scatter",
         "x": [
          "2022",
          "2021",
          "2019",
          "2018",
          "2017",
          "2016",
          "2015",
          "2014",
          "2013",
          "2012",
          "2011",
          "2010"
         ],
         "xaxis": "x",
         "y": [
          420463,
          434357,
          390925,
          383580,
          395121,
          403366,
          395878,
          390196,
          387079,
          405286,
          384330,
          395185
         ],
         "yaxis": "y"
        },
        {
         "hovertemplate": "State=Utah<br>Year=%{x}<br>Count=%{y}<extra></extra>",
         "legendgroup": "Utah",
         "line": {
          "color": "#FFA15A",
          "dash": "solid"
         },
         "marker": {
          "symbol": "circle"
         },
         "mode": "lines",
         "name": "Utah",
         "orientation": "v",
         "showlegend": true,
         "type": "scatter",
         "x": [
          "2022",
          "2021",
          "2019",
          "2018",
          "2017",
          "2016",
          "2015",
          "2014",
          "2013",
          "2012",
          "2011",
          "2010"
         ],
         "xaxis": "x",
         "y": [
          50803,
          49297,
          45033,
          52085,
          51456,
          52956,
          51060,
          51060,
          52145,
          54990,
          51272,
          54635
         ],
         "yaxis": "y"
        },
        {
         "hovertemplate": "State=Vermont<br>Year=%{x}<br>Count=%{y}<extra></extra>",
         "legendgroup": "Vermont",
         "line": {
          "color": "#19d3f3",
          "dash": "solid"
         },
         "marker": {
          "symbol": "circle"
         },
         "mode": "lines",
         "name": "Vermont",
         "orientation": "v",
         "showlegend": true,
         "type": "scatter",
         "x": [
          "2022",
          "2021",
          "2019",
          "2018",
          "2017",
          "2016",
          "2015",
          "2014",
          "2013",
          "2012",
          "2011",
          "2010"
         ],
         "xaxis": "x",
         "y": [
          6908,
          5749,
          6553,
          5767,
          5096,
          5712,
          5651,
          6765,
          5068,
          5996,
          6255,
          6885
         ],
         "yaxis": "y"
        },
        {
         "hovertemplate": "State=Virginia<br>Year=%{x}<br>Count=%{y}<extra></extra>",
         "legendgroup": "Virginia",
         "line": {
          "color": "#FF6692",
          "dash": "solid"
         },
         "marker": {
          "symbol": "circle"
         },
         "mode": "lines",
         "name": "Virginia",
         "orientation": "v",
         "showlegend": true,
         "type": "scatter",
         "x": [
          "2022",
          "2021",
          "2019",
          "2018",
          "2017",
          "2016",
          "2015",
          "2014",
          "2013",
          "2012",
          "2011",
          "2010"
         ],
         "xaxis": "x",
         "y": [
          104539,
          96332,
          98004,
          99351,
          100976,
          100200,
          102870,
          113223,
          102576,
          108748,
          110163,
          105477
         ],
         "yaxis": "y"
        },
        {
         "hovertemplate": "State=Washington<br>Year=%{x}<br>Count=%{y}<extra></extra>",
         "legendgroup": "Washington",
         "line": {
          "color": "#B6E880",
          "dash": "solid"
         },
         "marker": {
          "symbol": "circle"
         },
         "mode": "lines",
         "name": "Washington",
         "orientation": "v",
         "showlegend": true,
         "type": "scatter",
         "x": [
          "2022",
          "2021",
          "2019",
          "2018",
          "2017",
          "2016",
          "2015",
          "2014",
          "2013",
          "2012",
          "2011",
          "2010"
         ],
         "xaxis": "x",
         "y": [
          92565,
          90722,
          98105,
          92209,
          97643,
          90150,
          86668,
          87408,
          85373,
          90561,
          92152,
          94636
         ],
         "yaxis": "y"
        },
        {
         "hovertemplate": "State=West Virginia<br>Year=%{x}<br>Count=%{y}<extra></extra>",
         "legendgroup": "West Virginia",
         "line": {
          "color": "#FF97FF",
          "dash": "solid"
         },
         "marker": {
          "symbol": "circle"
         },
         "mode": "lines",
         "name": "West Virginia",
         "orientation": "v",
         "showlegend": true,
         "type": "scatter",
         "x": [
          "2022",
          "2021",
          "2019",
          "2018",
          "2017",
          "2016",
          "2015",
          "2014",
          "2013",
          "2012",
          "2011",
          "2010"
         ],
         "xaxis": "x",
         "y": [
          19540,
          18169,
          21275,
          18926,
          18881,
          21550,
          19670,
          18843,
          16687,
          18779,
          18305,
          20260
         ],
         "yaxis": "y"
        },
        {
         "hovertemplate": "State=Wisconsin<br>Year=%{x}<br>Count=%{y}<extra></extra>",
         "legendgroup": "Wisconsin",
         "line": {
          "color": "#FECB52",
          "dash": "solid"
         },
         "marker": {
          "symbol": "circle"
         },
         "mode": "lines",
         "name": "Wisconsin",
         "orientation": "v",
         "showlegend": true,
         "type": "scatter",
         "x": [
          "2022",
          "2021",
          "2019",
          "2018",
          "2017",
          "2016",
          "2015",
          "2014",
          "2013",
          "2012",
          "2011",
          "2010"
         ],
         "xaxis": "x",
         "y": [
          66580,
          63821,
          68675,
          68743,
          67283,
          70306,
          65927,
          66998,
          63908,
          71079,
          69390,
          73724
         ],
         "yaxis": "y"
        },
        {
         "hovertemplate": "State=Wyoming<br>Year=%{x}<br>Count=%{y}<extra></extra>",
         "legendgroup": "Wyoming",
         "line": {
          "color": "#636efa",
          "dash": "solid"
         },
         "marker": {
          "symbol": "circle"
         },
         "mode": "lines",
         "name": "Wyoming",
         "orientation": "v",
         "showlegend": true,
         "type": "scatter",
         "x": [
          "2022",
          "2021",
          "2019",
          "2018",
          "2017",
          "2016",
          "2015",
          "2014",
          "2013",
          "2012",
          "2011",
          "2010"
         ],
         "xaxis": "x",
         "y": [
          7469,
          7185,
          6905,
          8297,
          7002,
          7386,
          7727,
          7529,
          7179,
          7937,
          7011,
          8314
         ],
         "yaxis": "y"
        },
        {
         "hovertemplate": "State=Puerto Rico<br>Year=%{x}<br>Count=%{y}<extra></extra>",
         "legendgroup": "Puerto Rico",
         "line": {
          "color": "#EF553B",
          "dash": "solid"
         },
         "marker": {
          "symbol": "circle"
         },
         "mode": "lines",
         "name": "Puerto Rico",
         "orientation": "v",
         "showlegend": true,
         "type": "scatter",
         "x": [
          "2022",
          "2021",
          "2019",
          "2018",
          "2017",
          "2016",
          "2015",
          "2014",
          "2013",
          "2012",
          "2011",
          "2010"
         ],
         "xaxis": "x",
         "y": [
          21708,
          19216,
          20986,
          21107,
          22160,
          28556,
          28928,
          36107,
          33517,
          35897,
          39447,
          45712
         ],
         "yaxis": "y"
        }
       ],
       "layout": {
        "legend": {
         "title": {
          "text": "State"
         },
         "tracegroupgap": 0
        },
        "template": {
         "data": {
          "bar": [
           {
            "error_x": {
             "color": "#2a3f5f"
            },
            "error_y": {
             "color": "#2a3f5f"
            },
            "marker": {
             "line": {
              "color": "#E5ECF6",
              "width": 0.5
             },
             "pattern": {
              "fillmode": "overlay",
              "size": 10,
              "solidity": 0.2
             }
            },
            "type": "bar"
           }
          ],
          "barpolar": [
           {
            "marker": {
             "line": {
              "color": "#E5ECF6",
              "width": 0.5
             },
             "pattern": {
              "fillmode": "overlay",
              "size": 10,
              "solidity": 0.2
             }
            },
            "type": "barpolar"
           }
          ],
          "carpet": [
           {
            "aaxis": {
             "endlinecolor": "#2a3f5f",
             "gridcolor": "white",
             "linecolor": "white",
             "minorgridcolor": "white",
             "startlinecolor": "#2a3f5f"
            },
            "baxis": {
             "endlinecolor": "#2a3f5f",
             "gridcolor": "white",
             "linecolor": "white",
             "minorgridcolor": "white",
             "startlinecolor": "#2a3f5f"
            },
            "type": "carpet"
           }
          ],
          "choropleth": [
           {
            "colorbar": {
             "outlinewidth": 0,
             "ticks": ""
            },
            "type": "choropleth"
           }
          ],
          "contour": [
           {
            "colorbar": {
             "outlinewidth": 0,
             "ticks": ""
            },
            "colorscale": [
             [
              0,
              "#0d0887"
             ],
             [
              0.1111111111111111,
              "#46039f"
             ],
             [
              0.2222222222222222,
              "#7201a8"
             ],
             [
              0.3333333333333333,
              "#9c179e"
             ],
             [
              0.4444444444444444,
              "#bd3786"
             ],
             [
              0.5555555555555556,
              "#d8576b"
             ],
             [
              0.6666666666666666,
              "#ed7953"
             ],
             [
              0.7777777777777778,
              "#fb9f3a"
             ],
             [
              0.8888888888888888,
              "#fdca26"
             ],
             [
              1,
              "#f0f921"
             ]
            ],
            "type": "contour"
           }
          ],
          "contourcarpet": [
           {
            "colorbar": {
             "outlinewidth": 0,
             "ticks": ""
            },
            "type": "contourcarpet"
           }
          ],
          "heatmap": [
           {
            "colorbar": {
             "outlinewidth": 0,
             "ticks": ""
            },
            "colorscale": [
             [
              0,
              "#0d0887"
             ],
             [
              0.1111111111111111,
              "#46039f"
             ],
             [
              0.2222222222222222,
              "#7201a8"
             ],
             [
              0.3333333333333333,
              "#9c179e"
             ],
             [
              0.4444444444444444,
              "#bd3786"
             ],
             [
              0.5555555555555556,
              "#d8576b"
             ],
             [
              0.6666666666666666,
              "#ed7953"
             ],
             [
              0.7777777777777778,
              "#fb9f3a"
             ],
             [
              0.8888888888888888,
              "#fdca26"
             ],
             [
              1,
              "#f0f921"
             ]
            ],
            "type": "heatmap"
           }
          ],
          "heatmapgl": [
           {
            "colorbar": {
             "outlinewidth": 0,
             "ticks": ""
            },
            "colorscale": [
             [
              0,
              "#0d0887"
             ],
             [
              0.1111111111111111,
              "#46039f"
             ],
             [
              0.2222222222222222,
              "#7201a8"
             ],
             [
              0.3333333333333333,
              "#9c179e"
             ],
             [
              0.4444444444444444,
              "#bd3786"
             ],
             [
              0.5555555555555556,
              "#d8576b"
             ],
             [
              0.6666666666666666,
              "#ed7953"
             ],
             [
              0.7777777777777778,
              "#fb9f3a"
             ],
             [
              0.8888888888888888,
              "#fdca26"
             ],
             [
              1,
              "#f0f921"
             ]
            ],
            "type": "heatmapgl"
           }
          ],
          "histogram": [
           {
            "marker": {
             "pattern": {
              "fillmode": "overlay",
              "size": 10,
              "solidity": 0.2
             }
            },
            "type": "histogram"
           }
          ],
          "histogram2d": [
           {
            "colorbar": {
             "outlinewidth": 0,
             "ticks": ""
            },
            "colorscale": [
             [
              0,
              "#0d0887"
             ],
             [
              0.1111111111111111,
              "#46039f"
             ],
             [
              0.2222222222222222,
              "#7201a8"
             ],
             [
              0.3333333333333333,
              "#9c179e"
             ],
             [
              0.4444444444444444,
              "#bd3786"
             ],
             [
              0.5555555555555556,
              "#d8576b"
             ],
             [
              0.6666666666666666,
              "#ed7953"
             ],
             [
              0.7777777777777778,
              "#fb9f3a"
             ],
             [
              0.8888888888888888,
              "#fdca26"
             ],
             [
              1,
              "#f0f921"
             ]
            ],
            "type": "histogram2d"
           }
          ],
          "histogram2dcontour": [
           {
            "colorbar": {
             "outlinewidth": 0,
             "ticks": ""
            },
            "colorscale": [
             [
              0,
              "#0d0887"
             ],
             [
              0.1111111111111111,
              "#46039f"
             ],
             [
              0.2222222222222222,
              "#7201a8"
             ],
             [
              0.3333333333333333,
              "#9c179e"
             ],
             [
              0.4444444444444444,
              "#bd3786"
             ],
             [
              0.5555555555555556,
              "#d8576b"
             ],
             [
              0.6666666666666666,
              "#ed7953"
             ],
             [
              0.7777777777777778,
              "#fb9f3a"
             ],
             [
              0.8888888888888888,
              "#fdca26"
             ],
             [
              1,
              "#f0f921"
             ]
            ],
            "type": "histogram2dcontour"
           }
          ],
          "mesh3d": [
           {
            "colorbar": {
             "outlinewidth": 0,
             "ticks": ""
            },
            "type": "mesh3d"
           }
          ],
          "parcoords": [
           {
            "line": {
             "colorbar": {
              "outlinewidth": 0,
              "ticks": ""
             }
            },
            "type": "parcoords"
           }
          ],
          "pie": [
           {
            "automargin": true,
            "type": "pie"
           }
          ],
          "scatter": [
           {
            "fillpattern": {
             "fillmode": "overlay",
             "size": 10,
             "solidity": 0.2
            },
            "type": "scatter"
           }
          ],
          "scatter3d": [
           {
            "line": {
             "colorbar": {
              "outlinewidth": 0,
              "ticks": ""
             }
            },
            "marker": {
             "colorbar": {
              "outlinewidth": 0,
              "ticks": ""
             }
            },
            "type": "scatter3d"
           }
          ],
          "scattercarpet": [
           {
            "marker": {
             "colorbar": {
              "outlinewidth": 0,
              "ticks": ""
             }
            },
            "type": "scattercarpet"
           }
          ],
          "scattergeo": [
           {
            "marker": {
             "colorbar": {
              "outlinewidth": 0,
              "ticks": ""
             }
            },
            "type": "scattergeo"
           }
          ],
          "scattergl": [
           {
            "marker": {
             "colorbar": {
              "outlinewidth": 0,
              "ticks": ""
             }
            },
            "type": "scattergl"
           }
          ],
          "scattermapbox": [
           {
            "marker": {
             "colorbar": {
              "outlinewidth": 0,
              "ticks": ""
             }
            },
            "type": "scattermapbox"
           }
          ],
          "scatterpolar": [
           {
            "marker": {
             "colorbar": {
              "outlinewidth": 0,
              "ticks": ""
             }
            },
            "type": "scatterpolar"
           }
          ],
          "scatterpolargl": [
           {
            "marker": {
             "colorbar": {
              "outlinewidth": 0,
              "ticks": ""
             }
            },
            "type": "scatterpolargl"
           }
          ],
          "scatterternary": [
           {
            "marker": {
             "colorbar": {
              "outlinewidth": 0,
              "ticks": ""
             }
            },
            "type": "scatterternary"
           }
          ],
          "surface": [
           {
            "colorbar": {
             "outlinewidth": 0,
             "ticks": ""
            },
            "colorscale": [
             [
              0,
              "#0d0887"
             ],
             [
              0.1111111111111111,
              "#46039f"
             ],
             [
              0.2222222222222222,
              "#7201a8"
             ],
             [
              0.3333333333333333,
              "#9c179e"
             ],
             [
              0.4444444444444444,
              "#bd3786"
             ],
             [
              0.5555555555555556,
              "#d8576b"
             ],
             [
              0.6666666666666666,
              "#ed7953"
             ],
             [
              0.7777777777777778,
              "#fb9f3a"
             ],
             [
              0.8888888888888888,
              "#fdca26"
             ],
             [
              1,
              "#f0f921"
             ]
            ],
            "type": "surface"
           }
          ],
          "table": [
           {
            "cells": {
             "fill": {
              "color": "#EBF0F8"
             },
             "line": {
              "color": "white"
             }
            },
            "header": {
             "fill": {
              "color": "#C8D4E3"
             },
             "line": {
              "color": "white"
             }
            },
            "type": "table"
           }
          ]
         },
         "layout": {
          "annotationdefaults": {
           "arrowcolor": "#2a3f5f",
           "arrowhead": 0,
           "arrowwidth": 1
          },
          "autotypenumbers": "strict",
          "coloraxis": {
           "colorbar": {
            "outlinewidth": 0,
            "ticks": ""
           }
          },
          "colorscale": {
           "diverging": [
            [
             0,
             "#8e0152"
            ],
            [
             0.1,
             "#c51b7d"
            ],
            [
             0.2,
             "#de77ae"
            ],
            [
             0.3,
             "#f1b6da"
            ],
            [
             0.4,
             "#fde0ef"
            ],
            [
             0.5,
             "#f7f7f7"
            ],
            [
             0.6,
             "#e6f5d0"
            ],
            [
             0.7,
             "#b8e186"
            ],
            [
             0.8,
             "#7fbc41"
            ],
            [
             0.9,
             "#4d9221"
            ],
            [
             1,
             "#276419"
            ]
           ],
           "sequential": [
            [
             0,
             "#0d0887"
            ],
            [
             0.1111111111111111,
             "#46039f"
            ],
            [
             0.2222222222222222,
             "#7201a8"
            ],
            [
             0.3333333333333333,
             "#9c179e"
            ],
            [
             0.4444444444444444,
             "#bd3786"
            ],
            [
             0.5555555555555556,
             "#d8576b"
            ],
            [
             0.6666666666666666,
             "#ed7953"
            ],
            [
             0.7777777777777778,
             "#fb9f3a"
            ],
            [
             0.8888888888888888,
             "#fdca26"
            ],
            [
             1,
             "#f0f921"
            ]
           ],
           "sequentialminus": [
            [
             0,
             "#0d0887"
            ],
            [
             0.1111111111111111,
             "#46039f"
            ],
            [
             0.2222222222222222,
             "#7201a8"
            ],
            [
             0.3333333333333333,
             "#9c179e"
            ],
            [
             0.4444444444444444,
             "#bd3786"
            ],
            [
             0.5555555555555556,
             "#d8576b"
            ],
            [
             0.6666666666666666,
             "#ed7953"
            ],
            [
             0.7777777777777778,
             "#fb9f3a"
            ],
            [
             0.8888888888888888,
             "#fdca26"
            ],
            [
             1,
             "#f0f921"
            ]
           ]
          },
          "colorway": [
           "#636efa",
           "#EF553B",
           "#00cc96",
           "#ab63fa",
           "#FFA15A",
           "#19d3f3",
           "#FF6692",
           "#B6E880",
           "#FF97FF",
           "#FECB52"
          ],
          "font": {
           "color": "#2a3f5f"
          },
          "geo": {
           "bgcolor": "white",
           "lakecolor": "white",
           "landcolor": "#E5ECF6",
           "showlakes": true,
           "showland": true,
           "subunitcolor": "white"
          },
          "hoverlabel": {
           "align": "left"
          },
          "hovermode": "closest",
          "mapbox": {
           "style": "light"
          },
          "paper_bgcolor": "white",
          "plot_bgcolor": "#E5ECF6",
          "polar": {
           "angularaxis": {
            "gridcolor": "white",
            "linecolor": "white",
            "ticks": ""
           },
           "bgcolor": "#E5ECF6",
           "radialaxis": {
            "gridcolor": "white",
            "linecolor": "white",
            "ticks": ""
           }
          },
          "scene": {
           "xaxis": {
            "backgroundcolor": "#E5ECF6",
            "gridcolor": "white",
            "gridwidth": 2,
            "linecolor": "white",
            "showbackground": true,
            "ticks": "",
            "zerolinecolor": "white"
           },
           "yaxis": {
            "backgroundcolor": "#E5ECF6",
            "gridcolor": "white",
            "gridwidth": 2,
            "linecolor": "white",
            "showbackground": true,
            "ticks": "",
            "zerolinecolor": "white"
           },
           "zaxis": {
            "backgroundcolor": "#E5ECF6",
            "gridcolor": "white",
            "gridwidth": 2,
            "linecolor": "white",
            "showbackground": true,
            "ticks": "",
            "zerolinecolor": "white"
           }
          },
          "shapedefaults": {
           "line": {
            "color": "#2a3f5f"
           }
          },
          "ternary": {
           "aaxis": {
            "gridcolor": "white",
            "linecolor": "white",
            "ticks": ""
           },
           "baxis": {
            "gridcolor": "white",
            "linecolor": "white",
            "ticks": ""
           },
           "bgcolor": "#E5ECF6",
           "caxis": {
            "gridcolor": "white",
            "linecolor": "white",
            "ticks": ""
           }
          },
          "title": {
           "x": 0.05
          },
          "xaxis": {
           "automargin": true,
           "gridcolor": "white",
           "linecolor": "white",
           "ticks": "",
           "title": {
            "standoff": 15
           },
           "zerolinecolor": "white",
           "zerolinewidth": 2
          },
          "yaxis": {
           "automargin": true,
           "gridcolor": "white",
           "linecolor": "white",
           "ticks": "",
           "title": {
            "standoff": 15
           },
           "zerolinecolor": "white",
           "zerolinewidth": 2
          }
         }
        },
        "title": {
         "text": "Births by Year and State"
        },
        "xaxis": {
         "anchor": "y",
         "domain": [
          0,
          1
         ],
         "title": {
          "text": "Year"
         }
        },
        "yaxis": {
         "anchor": "x",
         "domain": [
          0,
          1
         ],
         "title": {
          "text": "Count"
         }
        }
       }
      },
      "text/html": [
       "<div>                            <div id=\"e433d465-2a4b-44f3-9678-fa88e92b66a1\" class=\"plotly-graph-div\" style=\"height:525px; width:100%;\"></div>            <script type=\"text/javascript\">                require([\"plotly\"], function(Plotly) {                    window.PLOTLYENV=window.PLOTLYENV || {};                                    if (document.getElementById(\"e433d465-2a4b-44f3-9678-fa88e92b66a1\")) {                    Plotly.newPlot(                        \"e433d465-2a4b-44f3-9678-fa88e92b66a1\",                        [{\"hovertemplate\":\"State=Alabama\\u003cbr\\u003eYear=%{x}\\u003cbr\\u003eCount=%{y}\\u003cextra\\u003e\\u003c\\u002fextra\\u003e\",\"legendgroup\":\"Alabama\",\"line\":{\"color\":\"#636efa\",\"dash\":\"solid\"},\"marker\":{\"symbol\":\"circle\"},\"mode\":\"lines\",\"name\":\"Alabama\",\"orientation\":\"v\",\"showlegend\":true,\"x\":[\"2022\",\"2021\",\"2019\",\"2018\",\"2017\",\"2016\",\"2015\",\"2014\",\"2013\",\"2012\",\"2011\",\"2010\"],\"xaxis\":\"x\",\"y\":[61506.0,55593.0,58542.0,66070.0,59028.0,57191.0,59374.0,58890.0,58053.0,63447.0,70601.0,66243.0],\"yaxis\":\"y\",\"type\":\"scatter\"},{\"hovertemplate\":\"State=Alaska\\u003cbr\\u003eYear=%{x}\\u003cbr\\u003eCount=%{y}\\u003cextra\\u003e\\u003c\\u002fextra\\u003e\",\"legendgroup\":\"Alaska\",\"line\":{\"color\":\"#EF553B\",\"dash\":\"solid\"},\"marker\":{\"symbol\":\"circle\"},\"mode\":\"lines\",\"name\":\"Alaska\",\"orientation\":\"v\",\"showlegend\":true,\"x\":[\"2022\",\"2021\",\"2019\",\"2018\",\"2017\",\"2016\",\"2015\",\"2014\",\"2013\",\"2012\",\"2011\",\"2010\"],\"xaxis\":\"x\",\"y\":[10125.0,8677.0,10502.0,10747.0,9961.0,9728.0,11144.0,11703.0,10411.0,10721.0,12883.0,12494.0],\"yaxis\":\"y\",\"type\":\"scatter\"},{\"hovertemplate\":\"State=Arizona\\u003cbr\\u003eYear=%{x}\\u003cbr\\u003eCount=%{y}\\u003cextra\\u003e\\u003c\\u002fextra\\u003e\",\"legendgroup\":\"Arizona\",\"line\":{\"color\":\"#00cc96\",\"dash\":\"solid\"},\"marker\":{\"symbol\":\"circle\"},\"mode\":\"lines\",\"name\":\"Arizona\",\"orientation\":\"v\",\"showlegend\":true,\"x\":[\"2022\",\"2021\",\"2019\",\"2018\",\"2017\",\"2016\",\"2015\",\"2014\",\"2013\",\"2012\",\"2011\",\"2010\"],\"xaxis\":\"x\",\"y\":[86548.0,83599.0,89019.0,92780.0,88721.0,81297.0,85798.0,82774.0,83011.0,89672.0,84696.0,86210.0],\"yaxis\":\"y\",\"type\":\"scatter\"},{\"hovertemplate\":\"State=Arkansas\\u003cbr\\u003eYear=%{x}\\u003cbr\\u003eCount=%{y}\\u003cextra\\u003e\\u003c\\u002fextra\\u003e\",\"legendgroup\":\"Arkansas\",\"line\":{\"color\":\"#ab63fa\",\"dash\":\"solid\"},\"marker\":{\"symbol\":\"circle\"},\"mode\":\"lines\",\"name\":\"Arkansas\",\"orientation\":\"v\",\"showlegend\":true,\"x\":[\"2022\",\"2021\",\"2019\",\"2018\",\"2017\",\"2016\",\"2015\",\"2014\",\"2013\",\"2012\",\"2011\",\"2010\"],\"xaxis\":\"x\",\"y\":[39688.0,36729.0,35370.0,39677.0,41016.0,38583.0,41817.0,40479.0,39228.0,39421.0,36586.0,37344.0],\"yaxis\":\"y\",\"type\":\"scatter\"},{\"hovertemplate\":\"State=California\\u003cbr\\u003eYear=%{x}\\u003cbr\\u003eCount=%{y}\\u003cextra\\u003e\\u003c\\u002fextra\\u003e\",\"legendgroup\":\"California\",\"line\":{\"color\":\"#FFA15A\",\"dash\":\"solid\"},\"marker\":{\"symbol\":\"circle\"},\"mode\":\"lines\",\"name\":\"California\",\"orientation\":\"v\",\"showlegend\":true,\"x\":[\"2022\",\"2021\",\"2019\",\"2018\",\"2017\",\"2016\",\"2015\",\"2014\",\"2013\",\"2012\",\"2011\",\"2010\"],\"xaxis\":\"x\",\"y\":[453850.0,458334.0,450971.0,454027.0,468957.0,471829.0,478813.0,472565.0,477649.0,505431.0,518722.0,508113.0],\"yaxis\":\"y\",\"type\":\"scatter\"},{\"hovertemplate\":\"State=Colorado\\u003cbr\\u003eYear=%{x}\\u003cbr\\u003eCount=%{y}\\u003cextra\\u003e\\u003c\\u002fextra\\u003e\",\"legendgroup\":\"Colorado\",\"line\":{\"color\":\"#19d3f3\",\"dash\":\"solid\"},\"marker\":{\"symbol\":\"circle\"},\"mode\":\"lines\",\"name\":\"Colorado\",\"orientation\":\"v\",\"showlegend\":true,\"x\":[\"2022\",\"2021\",\"2019\",\"2018\",\"2017\",\"2016\",\"2015\",\"2014\",\"2013\",\"2012\",\"2011\",\"2010\"],\"xaxis\":\"x\",\"y\":[70204.0,62000.0,64252.0,71267.0,70949.0,68259.0,65555.0,70525.0,64982.0,69995.0,75261.0,68838.0],\"yaxis\":\"y\",\"type\":\"scatter\"},{\"hovertemplate\":\"State=Connecticut\\u003cbr\\u003eYear=%{x}\\u003cbr\\u003eCount=%{y}\\u003cextra\\u003e\\u003c\\u002fextra\\u003e\",\"legendgroup\":\"Connecticut\",\"line\":{\"color\":\"#FF6692\",\"dash\":\"solid\"},\"marker\":{\"symbol\":\"circle\"},\"mode\":\"lines\",\"name\":\"Connecticut\",\"orientation\":\"v\",\"showlegend\":true,\"x\":[\"2022\",\"2021\",\"2019\",\"2018\",\"2017\",\"2016\",\"2015\",\"2014\",\"2013\",\"2012\",\"2011\",\"2010\"],\"xaxis\":\"x\",\"y\":[37999.0,38771.0,30781.0,35625.0,33995.0,33725.0,34705.0,42104.0,35904.0,38839.0,39770.0,42002.0],\"yaxis\":\"y\",\"type\":\"scatter\"},{\"hovertemplate\":\"State=Delaware\\u003cbr\\u003eYear=%{x}\\u003cbr\\u003eCount=%{y}\\u003cextra\\u003e\\u003c\\u002fextra\\u003e\",\"legendgroup\":\"Delaware\",\"line\":{\"color\":\"#B6E880\",\"dash\":\"solid\"},\"marker\":{\"symbol\":\"circle\"},\"mode\":\"lines\",\"name\":\"Delaware\",\"orientation\":\"v\",\"showlegend\":true,\"x\":[\"2022\",\"2021\",\"2019\",\"2018\",\"2017\",\"2016\",\"2015\",\"2014\",\"2013\",\"2012\",\"2011\",\"2010\"],\"xaxis\":\"x\",\"y\":[12915.0,11651.0,8580.0,10138.0,9580.0,9823.0,9736.0,10944.0,12589.0,12961.0,10066.0,9902.0],\"yaxis\":\"y\",\"type\":\"scatter\"},{\"hovertemplate\":\"State=District of Columbia\\u003cbr\\u003eYear=%{x}\\u003cbr\\u003eCount=%{y}\\u003cextra\\u003e\\u003c\\u002fextra\\u003e\",\"legendgroup\":\"District of Columbia\",\"line\":{\"color\":\"#FF97FF\",\"dash\":\"solid\"},\"marker\":{\"symbol\":\"circle\"},\"mode\":\"lines\",\"name\":\"District of Columbia\",\"orientation\":\"v\",\"showlegend\":true,\"x\":[\"2022\",\"2021\",\"2019\",\"2018\",\"2017\",\"2016\",\"2015\",\"2014\",\"2013\",\"2012\",\"2011\",\"2010\"],\"xaxis\":\"x\",\"y\":[8309.0,7874.0,8375.0,8651.0,9007.0,9372.0,8575.0,9901.0,9700.0,7632.0,7070.0,9098.0],\"yaxis\":\"y\",\"type\":\"scatter\"},{\"hovertemplate\":\"State=Florida\\u003cbr\\u003eYear=%{x}\\u003cbr\\u003eCount=%{y}\\u003cextra\\u003e\\u003c\\u002fextra\\u003e\",\"legendgroup\":\"Florida\",\"line\":{\"color\":\"#FECB52\",\"dash\":\"solid\"},\"marker\":{\"symbol\":\"circle\"},\"mode\":\"lines\",\"name\":\"Florida\",\"orientation\":\"v\",\"showlegend\":true,\"x\":[\"2022\",\"2021\",\"2019\",\"2018\",\"2017\",\"2016\",\"2015\",\"2014\",\"2013\",\"2012\",\"2011\",\"2010\"],\"xaxis\":\"x\",\"y\":[237974.0,211115.0,205856.0,230832.0,231116.0,217513.0,208713.0,213196.0,212782.0,224836.0,206786.0,211737.0],\"yaxis\":\"y\",\"type\":\"scatter\"},{\"hovertemplate\":\"State=Georgia\\u003cbr\\u003eYear=%{x}\\u003cbr\\u003eCount=%{y}\\u003cextra\\u003e\\u003c\\u002fextra\\u003e\",\"legendgroup\":\"Georgia\",\"line\":{\"color\":\"#636efa\",\"dash\":\"solid\"},\"marker\":{\"symbol\":\"circle\"},\"mode\":\"lines\",\"name\":\"Georgia\",\"orientation\":\"v\",\"showlegend\":true,\"x\":[\"2022\",\"2021\",\"2019\",\"2018\",\"2017\",\"2016\",\"2015\",\"2014\",\"2013\",\"2012\",\"2011\",\"2010\"],\"xaxis\":\"x\",\"y\":[151128.0,138093.0,134809.0,122525.0,141334.0,142813.0,137866.0,136418.0,126637.0,157038.0,135886.0,145715.0],\"yaxis\":\"y\",\"type\":\"scatter\"},{\"hovertemplate\":\"State=Hawaii\\u003cbr\\u003eYear=%{x}\\u003cbr\\u003eCount=%{y}\\u003cextra\\u003e\\u003c\\u002fextra\\u003e\",\"legendgroup\":\"Hawaii\",\"line\":{\"color\":\"#EF553B\",\"dash\":\"solid\"},\"marker\":{\"symbol\":\"circle\"},\"mode\":\"lines\",\"name\":\"Hawaii\",\"orientation\":\"v\",\"showlegend\":true,\"x\":[\"2022\",\"2021\",\"2019\",\"2018\",\"2017\",\"2016\",\"2015\",\"2014\",\"2013\",\"2012\",\"2011\",\"2010\"],\"xaxis\":\"x\",\"y\":[15928.0,18482.0,18431.0,18527.0,19672.0,21614.0,18465.0,20432.0,18332.0,20898.0,22942.0,19939.0],\"yaxis\":\"y\",\"type\":\"scatter\"},{\"hovertemplate\":\"State=Idaho\\u003cbr\\u003eYear=%{x}\\u003cbr\\u003eCount=%{y}\\u003cextra\\u003e\\u003c\\u002fextra\\u003e\",\"legendgroup\":\"Idaho\",\"line\":{\"color\":\"#00cc96\",\"dash\":\"solid\"},\"marker\":{\"symbol\":\"circle\"},\"mode\":\"lines\",\"name\":\"Idaho\",\"orientation\":\"v\",\"showlegend\":true,\"x\":[\"2022\",\"2021\",\"2019\",\"2018\",\"2017\",\"2016\",\"2015\",\"2014\",\"2013\",\"2012\",\"2011\",\"2010\"],\"xaxis\":\"x\",\"y\":[25329.0,23087.0,27171.0,23502.0,24723.0,23210.0,22597.0,21912.0,21018.0,24546.0,27418.0,23489.0],\"yaxis\":\"y\",\"type\":\"scatter\"},{\"hovertemplate\":\"State=Illinois\\u003cbr\\u003eYear=%{x}\\u003cbr\\u003eCount=%{y}\\u003cextra\\u003e\\u003c\\u002fextra\\u003e\",\"legendgroup\":\"Illinois\",\"line\":{\"color\":\"#ab63fa\",\"dash\":\"solid\"},\"marker\":{\"symbol\":\"circle\"},\"mode\":\"lines\",\"name\":\"Illinois\",\"orientation\":\"v\",\"showlegend\":true,\"x\":[\"2022\",\"2021\",\"2019\",\"2018\",\"2017\",\"2016\",\"2015\",\"2014\",\"2013\",\"2012\",\"2011\",\"2010\"],\"xaxis\":\"x\",\"y\":[147198.0,147999.0,147037.0,158848.0,153400.0,152395.0,159167.0,152835.0,156818.0,158016.0,161456.0,179328.0],\"yaxis\":\"y\",\"type\":\"scatter\"},{\"hovertemplate\":\"State=Indiana\\u003cbr\\u003eYear=%{x}\\u003cbr\\u003eCount=%{y}\\u003cextra\\u003e\\u003c\\u002fextra\\u003e\",\"legendgroup\":\"Indiana\",\"line\":{\"color\":\"#FFA15A\",\"dash\":\"solid\"},\"marker\":{\"symbol\":\"circle\"},\"mode\":\"lines\",\"name\":\"Indiana\",\"orientation\":\"v\",\"showlegend\":true,\"x\":[\"2022\",\"2021\",\"2019\",\"2018\",\"2017\",\"2016\",\"2015\",\"2014\",\"2013\",\"2012\",\"2011\",\"2010\"],\"xaxis\":\"x\",\"y\":[90329.0,86099.0,81658.0,89630.0,77269.0,87507.0,80320.0,85078.0,83444.0,89436.0,88441.0,82273.0],\"yaxis\":\"y\",\"type\":\"scatter\"},{\"hovertemplate\":\"State=Iowa\\u003cbr\\u003eYear=%{x}\\u003cbr\\u003eCount=%{y}\\u003cextra\\u003e\\u003c\\u002fextra\\u003e\",\"legendgroup\":\"Iowa\",\"line\":{\"color\":\"#19d3f3\",\"dash\":\"solid\"},\"marker\":{\"symbol\":\"circle\"},\"mode\":\"lines\",\"name\":\"Iowa\",\"orientation\":\"v\",\"showlegend\":true,\"x\":[\"2022\",\"2021\",\"2019\",\"2018\",\"2017\",\"2016\",\"2015\",\"2014\",\"2013\",\"2012\",\"2011\",\"2010\"],\"xaxis\":\"x\",\"y\":[41204.0,38050.0,37815.0,40916.0,41142.0,41605.0,43263.0,42728.0,37894.0,40484.0,37621.0,41387.0],\"yaxis\":\"y\",\"type\":\"scatter\"},{\"hovertemplate\":\"State=Kansas\\u003cbr\\u003eYear=%{x}\\u003cbr\\u003eCount=%{y}\\u003cextra\\u003e\\u003c\\u002fextra\\u003e\",\"legendgroup\":\"Kansas\",\"line\":{\"color\":\"#FF6692\",\"dash\":\"solid\"},\"marker\":{\"symbol\":\"circle\"},\"mode\":\"lines\",\"name\":\"Kansas\",\"orientation\":\"v\",\"showlegend\":true,\"x\":[\"2022\",\"2021\",\"2019\",\"2018\",\"2017\",\"2016\",\"2015\",\"2014\",\"2013\",\"2012\",\"2011\",\"2010\"],\"xaxis\":\"x\",\"y\":[36787.0,39053.0,41058.0,41218.0,38940.0,35762.0,38186.0,37641.0,43604.0,44946.0,43443.0,40095.0],\"yaxis\":\"y\",\"type\":\"scatter\"},{\"hovertemplate\":\"State=Kentucky\\u003cbr\\u003eYear=%{x}\\u003cbr\\u003eCount=%{y}\\u003cextra\\u003e\\u003c\\u002fextra\\u003e\",\"legendgroup\":\"Kentucky\",\"line\":{\"color\":\"#B6E880\",\"dash\":\"solid\"},\"marker\":{\"symbol\":\"circle\"},\"mode\":\"lines\",\"name\":\"Kentucky\",\"orientation\":\"v\",\"showlegend\":true,\"x\":[\"2022\",\"2021\",\"2019\",\"2018\",\"2017\",\"2016\",\"2015\",\"2014\",\"2013\",\"2012\",\"2011\",\"2010\"],\"xaxis\":\"x\",\"y\":[56396.0,53246.0,47407.0,56995.0,53444.0,54853.0,53925.0,57714.0,53643.0,58231.0,56213.0,57337.0],\"yaxis\":\"y\",\"type\":\"scatter\"},{\"hovertemplate\":\"State=Louisiana\\u003cbr\\u003eYear=%{x}\\u003cbr\\u003eCount=%{y}\\u003cextra\\u003e\\u003c\\u002fextra\\u003e\",\"legendgroup\":\"Louisiana\",\"line\":{\"color\":\"#FF97FF\",\"dash\":\"solid\"},\"marker\":{\"symbol\":\"circle\"},\"mode\":\"lines\",\"name\":\"Louisiana\",\"orientation\":\"v\",\"showlegend\":true,\"x\":[\"2022\",\"2021\",\"2019\",\"2018\",\"2017\",\"2016\",\"2015\",\"2014\",\"2013\",\"2012\",\"2011\",\"2010\"],\"xaxis\":\"x\",\"y\":[61980.0,59760.0,57992.0,62709.0,58623.0,61893.0,62415.0,55388.0,64822.0,57981.0,65280.0,67832.0],\"yaxis\":\"y\",\"type\":\"scatter\"},{\"hovertemplate\":\"State=Maine\\u003cbr\\u003eYear=%{x}\\u003cbr\\u003eCount=%{y}\\u003cextra\\u003e\\u003c\\u002fextra\\u003e\",\"legendgroup\":\"Maine\",\"line\":{\"color\":\"#FECB52\",\"dash\":\"solid\"},\"marker\":{\"symbol\":\"circle\"},\"mode\":\"lines\",\"name\":\"Maine\",\"orientation\":\"v\",\"showlegend\":true,\"x\":[\"2022\",\"2021\",\"2019\",\"2018\",\"2017\",\"2016\",\"2015\",\"2014\",\"2013\",\"2012\",\"2011\",\"2010\"],\"xaxis\":\"x\",\"y\":[16407.0,15853.0,14130.0,14372.0,14945.0,12952.0,11600.0,13951.0,13667.0,13845.0,13843.0,14244.0],\"yaxis\":\"y\",\"type\":\"scatter\"},{\"hovertemplate\":\"State=Maryland\\u003cbr\\u003eYear=%{x}\\u003cbr\\u003eCount=%{y}\\u003cextra\\u003e\\u003c\\u002fextra\\u003e\",\"legendgroup\":\"Maryland\",\"line\":{\"color\":\"#636efa\",\"dash\":\"solid\"},\"marker\":{\"symbol\":\"circle\"},\"mode\":\"lines\",\"name\":\"Maryland\",\"orientation\":\"v\",\"showlegend\":true,\"x\":[\"2022\",\"2021\",\"2019\",\"2018\",\"2017\",\"2016\",\"2015\",\"2014\",\"2013\",\"2012\",\"2011\",\"2010\"],\"xaxis\":\"x\",\"y\":[71827.0,76893.0,73824.0,72172.0,74868.0,74020.0,76129.0,69510.0,76852.0,77612.0,78351.0,79000.0],\"yaxis\":\"y\",\"type\":\"scatter\"},{\"hovertemplate\":\"State=Massachusetts\\u003cbr\\u003eYear=%{x}\\u003cbr\\u003eCount=%{y}\\u003cextra\\u003e\\u003c\\u002fextra\\u003e\",\"legendgroup\":\"Massachusetts\",\"line\":{\"color\":\"#EF553B\",\"dash\":\"solid\"},\"marker\":{\"symbol\":\"circle\"},\"mode\":\"lines\",\"name\":\"Massachusetts\",\"orientation\":\"v\",\"showlegend\":true,\"x\":[\"2022\",\"2021\",\"2019\",\"2018\",\"2017\",\"2016\",\"2015\",\"2014\",\"2013\",\"2012\",\"2011\",\"2010\"],\"xaxis\":\"x\",\"y\":[71722.0,75136.0,69139.0,74345.0,76690.0,73911.0,72160.0,73444.0,77689.0,72166.0,79641.0,79068.0],\"yaxis\":\"y\",\"type\":\"scatter\"},{\"hovertemplate\":\"State=Michigan\\u003cbr\\u003eYear=%{x}\\u003cbr\\u003eCount=%{y}\\u003cextra\\u003e\\u003c\\u002fextra\\u003e\",\"legendgroup\":\"Michigan\",\"line\":{\"color\":\"#00cc96\",\"dash\":\"solid\"},\"marker\":{\"symbol\":\"circle\"},\"mode\":\"lines\",\"name\":\"Michigan\",\"orientation\":\"v\",\"showlegend\":true,\"x\":[\"2022\",\"2021\",\"2019\",\"2018\",\"2017\",\"2016\",\"2015\",\"2014\",\"2013\",\"2012\",\"2011\",\"2010\"],\"xaxis\":\"x\",\"y\":[111639.0,117076.0,115459.0,115629.0,117528.0,120163.0,114616.0,125528.0,121880.0,114104.0,122324.0,128835.0],\"yaxis\":\"y\",\"type\":\"scatter\"},{\"hovertemplate\":\"State=Minnesota\\u003cbr\\u003eYear=%{x}\\u003cbr\\u003eCount=%{y}\\u003cextra\\u003e\\u003c\\u002fextra\\u003e\",\"legendgroup\":\"Minnesota\",\"line\":{\"color\":\"#ab63fa\",\"dash\":\"solid\"},\"marker\":{\"symbol\":\"circle\"},\"mode\":\"lines\",\"name\":\"Minnesota\",\"orientation\":\"v\",\"showlegend\":true,\"x\":[\"2022\",\"2021\",\"2019\",\"2018\",\"2017\",\"2016\",\"2015\",\"2014\",\"2013\",\"2012\",\"2011\",\"2010\"],\"xaxis\":\"x\",\"y\":[69168.0,70191.0,71159.0,76157.0,70957.0,69156.0,74614.0,77561.0,71629.0,71893.0,74548.0,73251.0],\"yaxis\":\"y\",\"type\":\"scatter\"},{\"hovertemplate\":\"State=Mississippi\\u003cbr\\u003eYear=%{x}\\u003cbr\\u003eCount=%{y}\\u003cextra\\u003e\\u003c\\u002fextra\\u003e\",\"legendgroup\":\"Mississippi\",\"line\":{\"color\":\"#FFA15A\",\"dash\":\"solid\"},\"marker\":{\"symbol\":\"circle\"},\"mode\":\"lines\",\"name\":\"Mississippi\",\"orientation\":\"v\",\"showlegend\":true,\"x\":[\"2022\",\"2021\",\"2019\",\"2018\",\"2017\",\"2016\",\"2015\",\"2014\",\"2013\",\"2012\",\"2011\",\"2010\"],\"xaxis\":\"x\",\"y\":[40116.0,36472.0,35965.0,35639.0,38333.0,37566.0,34417.0,36377.0,38631.0,40594.0,36711.0,45919.0],\"yaxis\":\"y\",\"type\":\"scatter\"},{\"hovertemplate\":\"State=Missouri\\u003cbr\\u003eYear=%{x}\\u003cbr\\u003eCount=%{y}\\u003cextra\\u003e\\u003c\\u002fextra\\u003e\",\"legendgroup\":\"Missouri\",\"line\":{\"color\":\"#19d3f3\",\"dash\":\"solid\"},\"marker\":{\"symbol\":\"circle\"},\"mode\":\"lines\",\"name\":\"Missouri\",\"orientation\":\"v\",\"showlegend\":true,\"x\":[\"2022\",\"2021\",\"2019\",\"2018\",\"2017\",\"2016\",\"2015\",\"2014\",\"2013\",\"2012\",\"2011\",\"2010\"],\"xaxis\":\"x\",\"y\":[74145.0,72654.0,76428.0,80307.0,80273.0,75581.0,72010.0,72192.0,77139.0,80558.0,78269.0,82335.0],\"yaxis\":\"y\",\"type\":\"scatter\"},{\"hovertemplate\":\"State=Montana\\u003cbr\\u003eYear=%{x}\\u003cbr\\u003eCount=%{y}\\u003cextra\\u003e\\u003c\\u002fextra\\u003e\",\"legendgroup\":\"Montana\",\"line\":{\"color\":\"#FF6692\",\"dash\":\"solid\"},\"marker\":{\"symbol\":\"circle\"},\"mode\":\"lines\",\"name\":\"Montana\",\"orientation\":\"v\",\"showlegend\":true,\"x\":[\"2022\",\"2021\",\"2019\",\"2018\",\"2017\",\"2016\",\"2015\",\"2014\",\"2013\",\"2012\",\"2011\",\"2010\"],\"xaxis\":\"x\",\"y\":[16895.0,12284.0,12267.0,11388.0,13055.0,10625.0,12432.0,11493.0,12242.0,11359.0,12558.0,14037.0],\"yaxis\":\"y\",\"type\":\"scatter\"},{\"hovertemplate\":\"State=Nebraska\\u003cbr\\u003eYear=%{x}\\u003cbr\\u003eCount=%{y}\\u003cextra\\u003e\\u003c\\u002fextra\\u003e\",\"legendgroup\":\"Nebraska\",\"line\":{\"color\":\"#B6E880\",\"dash\":\"solid\"},\"marker\":{\"symbol\":\"circle\"},\"mode\":\"lines\",\"name\":\"Nebraska\",\"orientation\":\"v\",\"showlegend\":true,\"x\":[\"2022\",\"2021\",\"2019\",\"2018\",\"2017\",\"2016\",\"2015\",\"2014\",\"2013\",\"2012\",\"2011\",\"2010\"],\"xaxis\":\"x\",\"y\":[27111.0,27391.0,26897.0,25692.0,29620.0,26962.0,29431.0,28196.0,26077.0,26172.0,25777.0,28509.0],\"yaxis\":\"y\",\"type\":\"scatter\"},{\"hovertemplate\":\"State=Nevada\\u003cbr\\u003eYear=%{x}\\u003cbr\\u003eCount=%{y}\\u003cextra\\u003e\\u003c\\u002fextra\\u003e\",\"legendgroup\":\"Nevada\",\"line\":{\"color\":\"#FF97FF\",\"dash\":\"solid\"},\"marker\":{\"symbol\":\"circle\"},\"mode\":\"lines\",\"name\":\"Nevada\",\"orientation\":\"v\",\"showlegend\":true,\"x\":[\"2022\",\"2021\",\"2019\",\"2018\",\"2017\",\"2016\",\"2015\",\"2014\",\"2013\",\"2012\",\"2011\",\"2010\"],\"xaxis\":\"x\",\"y\":[41310.0,37252.0,37443.0,36733.0,37802.0,34172.0,33774.0,34794.0,35476.0,37096.0,35270.0,41465.0],\"yaxis\":\"y\",\"type\":\"scatter\"},{\"hovertemplate\":\"State=New Hampshire\\u003cbr\\u003eYear=%{x}\\u003cbr\\u003eCount=%{y}\\u003cextra\\u003e\\u003c\\u002fextra\\u003e\",\"legendgroup\":\"New Hampshire\",\"line\":{\"color\":\"#FECB52\",\"dash\":\"solid\"},\"marker\":{\"symbol\":\"circle\"},\"mode\":\"lines\",\"name\":\"New Hampshire\",\"orientation\":\"v\",\"showlegend\":true,\"x\":[\"2022\",\"2021\",\"2019\",\"2018\",\"2017\",\"2016\",\"2015\",\"2014\",\"2013\",\"2012\",\"2011\",\"2010\"],\"xaxis\":\"x\",\"y\":[14072.0,13913.0,11966.0,13925.0,13862.0,14643.0,15223.0,15202.0,15795.0,12822.0,14182.0,16194.0],\"yaxis\":\"y\",\"type\":\"scatter\"},{\"hovertemplate\":\"State=New Jersey\\u003cbr\\u003eYear=%{x}\\u003cbr\\u003eCount=%{y}\\u003cextra\\u003e\\u003c\\u002fextra\\u003e\",\"legendgroup\":\"New Jersey\",\"line\":{\"color\":\"#636efa\",\"dash\":\"solid\"},\"marker\":{\"symbol\":\"circle\"},\"mode\":\"lines\",\"name\":\"New Jersey\",\"orientation\":\"v\",\"showlegend\":true,\"x\":[\"2022\",\"2021\",\"2019\",\"2018\",\"2017\",\"2016\",\"2015\",\"2014\",\"2013\",\"2012\",\"2011\",\"2010\"],\"xaxis\":\"x\",\"y\":[105942.0,110927.0,95678.0,105146.0,98578.0,96916.0,101634.0,101295.0,100877.0,110951.0,108843.0,110473.0],\"yaxis\":\"y\",\"type\":\"scatter\"},{\"hovertemplate\":\"State=New Mexico\\u003cbr\\u003eYear=%{x}\\u003cbr\\u003eCount=%{y}\\u003cextra\\u003e\\u003c\\u002fextra\\u003e\",\"legendgroup\":\"New Mexico\",\"line\":{\"color\":\"#EF553B\",\"dash\":\"solid\"},\"marker\":{\"symbol\":\"circle\"},\"mode\":\"lines\",\"name\":\"New Mexico\",\"orientation\":\"v\",\"showlegend\":true,\"x\":[\"2022\",\"2021\",\"2019\",\"2018\",\"2017\",\"2016\",\"2015\",\"2014\",\"2013\",\"2012\",\"2011\",\"2010\"],\"xaxis\":\"x\",\"y\":[24681.0,23596.0,26945.0,23984.0,28338.0,23853.0,24412.0,27963.0,28496.0,27244.0,29765.0,28502.0],\"yaxis\":\"y\",\"type\":\"scatter\"},{\"hovertemplate\":\"State=New York\\u003cbr\\u003eYear=%{x}\\u003cbr\\u003eCount=%{y}\\u003cextra\\u003e\\u003c\\u002fextra\\u003e\",\"legendgroup\":\"New York\",\"line\":{\"color\":\"#00cc96\",\"dash\":\"solid\"},\"marker\":{\"symbol\":\"circle\"},\"mode\":\"lines\",\"name\":\"New York\",\"orientation\":\"v\",\"showlegend\":true,\"x\":[\"2022\",\"2021\",\"2019\",\"2018\",\"2017\",\"2016\",\"2015\",\"2014\",\"2013\",\"2012\",\"2011\",\"2010\"],\"xaxis\":\"x\",\"y\":[232961.0,213704.0,217713.0,216046.0,219214.0,225830.0,219972.0,223568.0,231584.0,236344.0,247202.0,247003.0],\"yaxis\":\"y\",\"type\":\"scatter\"},{\"hovertemplate\":\"State=North Carolina\\u003cbr\\u003eYear=%{x}\\u003cbr\\u003eCount=%{y}\\u003cextra\\u003e\\u003c\\u002fextra\\u003e\",\"legendgroup\":\"North Carolina\",\"line\":{\"color\":\"#ab63fa\",\"dash\":\"solid\"},\"marker\":{\"symbol\":\"circle\"},\"mode\":\"lines\",\"name\":\"North Carolina\",\"orientation\":\"v\",\"showlegend\":true,\"x\":[\"2022\",\"2021\",\"2019\",\"2018\",\"2017\",\"2016\",\"2015\",\"2014\",\"2013\",\"2012\",\"2011\",\"2010\"],\"xaxis\":\"x\",\"y\":[129267.0,119762.0,129358.0,119280.0,127760.0,120067.0,119725.0,121511.0,118248.0,135270.0,133512.0,130058.0],\"yaxis\":\"y\",\"type\":\"scatter\"},{\"hovertemplate\":\"State=North Dakota\\u003cbr\\u003eYear=%{x}\\u003cbr\\u003eCount=%{y}\\u003cextra\\u003e\\u003c\\u002fextra\\u003e\",\"legendgroup\":\"North Dakota\",\"line\":{\"color\":\"#FFA15A\",\"dash\":\"solid\"},\"marker\":{\"symbol\":\"circle\"},\"mode\":\"lines\",\"name\":\"North Dakota\",\"orientation\":\"v\",\"showlegend\":true,\"x\":[\"2022\",\"2021\",\"2019\",\"2018\",\"2017\",\"2016\",\"2015\",\"2014\",\"2013\",\"2012\",\"2011\",\"2010\"],\"xaxis\":\"x\",\"y\":[10748.0,11610.0,13098.0,11264.0,10777.0,11633.0,12118.0,11641.0,10066.0,11465.0,10400.0,8895.0],\"yaxis\":\"y\",\"type\":\"scatter\"},{\"hovertemplate\":\"State=Ohio\\u003cbr\\u003eYear=%{x}\\u003cbr\\u003eCount=%{y}\\u003cextra\\u003e\\u003c\\u002fextra\\u003e\",\"legendgroup\":\"Ohio\",\"line\":{\"color\":\"#19d3f3\",\"dash\":\"solid\"},\"marker\":{\"symbol\":\"circle\"},\"mode\":\"lines\",\"name\":\"Ohio\",\"orientation\":\"v\",\"showlegend\":true,\"x\":[\"2022\",\"2021\",\"2019\",\"2018\",\"2017\",\"2016\",\"2015\",\"2014\",\"2013\",\"2012\",\"2011\",\"2010\"],\"xaxis\":\"x\",\"y\":[144549.0,135627.0,150899.0,146391.0,151068.0,145033.0,141168.0,134564.0,136831.0,151327.0,142781.0,145431.0],\"yaxis\":\"y\",\"type\":\"scatter\"},{\"hovertemplate\":\"State=Oklahoma\\u003cbr\\u003eYear=%{x}\\u003cbr\\u003eCount=%{y}\\u003cextra\\u003e\\u003c\\u002fextra\\u003e\",\"legendgroup\":\"Oklahoma\",\"line\":{\"color\":\"#FF6692\",\"dash\":\"solid\"},\"marker\":{\"symbol\":\"circle\"},\"mode\":\"lines\",\"name\":\"Oklahoma\",\"orientation\":\"v\",\"showlegend\":true,\"x\":[\"2022\",\"2021\",\"2019\",\"2018\",\"2017\",\"2016\",\"2015\",\"2014\",\"2013\",\"2012\",\"2011\",\"2010\"],\"xaxis\":\"x\",\"y\":[54326.0,49066.0,55049.0,51095.0,59955.0,53821.0,47490.0,52622.0,52382.0,53664.0,53718.0,49557.0],\"yaxis\":\"y\",\"type\":\"scatter\"},{\"hovertemplate\":\"State=Oregon\\u003cbr\\u003eYear=%{x}\\u003cbr\\u003eCount=%{y}\\u003cextra\\u003e\\u003c\\u002fextra\\u003e\",\"legendgroup\":\"Oregon\",\"line\":{\"color\":\"#B6E880\",\"dash\":\"solid\"},\"marker\":{\"symbol\":\"circle\"},\"mode\":\"lines\",\"name\":\"Oregon\",\"orientation\":\"v\",\"showlegend\":true,\"x\":[\"2022\",\"2021\",\"2019\",\"2018\",\"2017\",\"2016\",\"2015\",\"2014\",\"2013\",\"2012\",\"2011\",\"2010\"],\"xaxis\":\"x\",\"y\":[44166.0,45138.0,42254.0,45820.0,48087.0,42136.0,46087.0,43919.0,45186.0,45389.0,49012.0,48873.0],\"yaxis\":\"y\",\"type\":\"scatter\"},{\"hovertemplate\":\"State=Pennsylvania\\u003cbr\\u003eYear=%{x}\\u003cbr\\u003eCount=%{y}\\u003cextra\\u003e\\u003c\\u002fextra\\u003e\",\"legendgroup\":\"Pennsylvania\",\"line\":{\"color\":\"#FF97FF\",\"dash\":\"solid\"},\"marker\":{\"symbol\":\"circle\"},\"mode\":\"lines\",\"name\":\"Pennsylvania\",\"orientation\":\"v\",\"showlegend\":true,\"x\":[\"2022\",\"2021\",\"2019\",\"2018\",\"2017\",\"2016\",\"2015\",\"2014\",\"2013\",\"2012\",\"2011\",\"2010\"],\"xaxis\":\"x\",\"y\":[149542.0,143491.0,148956.0,147829.0,143272.0,144768.0,149372.0,147759.0,141870.0,148217.0,147720.0,144791.0],\"yaxis\":\"y\",\"type\":\"scatter\"},{\"hovertemplate\":\"State=Rhode Island\\u003cbr\\u003eYear=%{x}\\u003cbr\\u003eCount=%{y}\\u003cextra\\u003e\\u003c\\u002fextra\\u003e\",\"legendgroup\":\"Rhode Island\",\"line\":{\"color\":\"#FECB52\",\"dash\":\"solid\"},\"marker\":{\"symbol\":\"circle\"},\"mode\":\"lines\",\"name\":\"Rhode Island\",\"orientation\":\"v\",\"showlegend\":true,\"x\":[\"2022\",\"2021\",\"2019\",\"2018\",\"2017\",\"2016\",\"2015\",\"2014\",\"2013\",\"2012\",\"2011\",\"2010\"],\"xaxis\":\"x\",\"y\":[11327.0,11618.0,7968.0,10910.0,11713.0,11348.0,13820.0,10238.0,11650.0,11002.0,13199.0,12732.0],\"yaxis\":\"y\",\"type\":\"scatter\"},{\"hovertemplate\":\"State=South Carolina\\u003cbr\\u003eYear=%{x}\\u003cbr\\u003eCount=%{y}\\u003cextra\\u003e\\u003c\\u002fextra\\u003e\",\"legendgroup\":\"South Carolina\",\"line\":{\"color\":\"#636efa\",\"dash\":\"solid\"},\"marker\":{\"symbol\":\"circle\"},\"mode\":\"lines\",\"name\":\"South Carolina\",\"orientation\":\"v\",\"showlegend\":true,\"x\":[\"2022\",\"2021\",\"2019\",\"2018\",\"2017\",\"2016\",\"2015\",\"2014\",\"2013\",\"2012\",\"2011\",\"2010\"],\"xaxis\":\"x\",\"y\":[63426.0,60830.0,63576.0,63951.0,66875.0,60080.0,61316.0,56055.0,58531.0,60734.0,68937.0,63648.0],\"yaxis\":\"y\",\"type\":\"scatter\"},{\"hovertemplate\":\"State=South Dakota\\u003cbr\\u003eYear=%{x}\\u003cbr\\u003eCount=%{y}\\u003cextra\\u003e\\u003c\\u002fextra\\u003e\",\"legendgroup\":\"South Dakota\",\"line\":{\"color\":\"#EF553B\",\"dash\":\"solid\"},\"marker\":{\"symbol\":\"circle\"},\"mode\":\"lines\",\"name\":\"South Dakota\",\"orientation\":\"v\",\"showlegend\":true,\"x\":[\"2022\",\"2021\",\"2019\",\"2018\",\"2017\",\"2016\",\"2015\",\"2014\",\"2013\",\"2012\",\"2011\",\"2010\"],\"xaxis\":\"x\",\"y\":[14399.0,11179.0,12568.0,11346.0,12915.0,13050.0,10875.0,10739.0,13341.0,14187.0,11258.0,10804.0],\"yaxis\":\"y\",\"type\":\"scatter\"},{\"hovertemplate\":\"State=Tennessee\\u003cbr\\u003eYear=%{x}\\u003cbr\\u003eCount=%{y}\\u003cextra\\u003e\\u003c\\u002fextra\\u003e\",\"legendgroup\":\"Tennessee\",\"line\":{\"color\":\"#00cc96\",\"dash\":\"solid\"},\"marker\":{\"symbol\":\"circle\"},\"mode\":\"lines\",\"name\":\"Tennessee\",\"orientation\":\"v\",\"showlegend\":true,\"x\":[\"2022\",\"2021\",\"2019\",\"2018\",\"2017\",\"2016\",\"2015\",\"2014\",\"2013\",\"2012\",\"2011\",\"2010\"],\"xaxis\":\"x\",\"y\":[82884.0,86681.0,78042.0,83897.0,76574.0,78019.0,80773.0,80857.0,83742.0,83431.0,85632.0,96604.0],\"yaxis\":\"y\",\"type\":\"scatter\"},{\"hovertemplate\":\"State=Texas\\u003cbr\\u003eYear=%{x}\\u003cbr\\u003eCount=%{y}\\u003cextra\\u003e\\u003c\\u002fextra\\u003e\",\"legendgroup\":\"Texas\",\"line\":{\"color\":\"#ab63fa\",\"dash\":\"solid\"},\"marker\":{\"symbol\":\"circle\"},\"mode\":\"lines\",\"name\":\"Texas\",\"orientation\":\"v\",\"showlegend\":true,\"x\":[\"2022\",\"2021\",\"2019\",\"2018\",\"2017\",\"2016\",\"2015\",\"2014\",\"2013\",\"2012\",\"2011\",\"2010\"],\"xaxis\":\"x\",\"y\":[420463.0,434357.0,390925.0,383580.0,395121.0,403366.0,395878.0,390196.0,387079.0,405286.0,384330.0,395185.0],\"yaxis\":\"y\",\"type\":\"scatter\"},{\"hovertemplate\":\"State=Utah\\u003cbr\\u003eYear=%{x}\\u003cbr\\u003eCount=%{y}\\u003cextra\\u003e\\u003c\\u002fextra\\u003e\",\"legendgroup\":\"Utah\",\"line\":{\"color\":\"#FFA15A\",\"dash\":\"solid\"},\"marker\":{\"symbol\":\"circle\"},\"mode\":\"lines\",\"name\":\"Utah\",\"orientation\":\"v\",\"showlegend\":true,\"x\":[\"2022\",\"2021\",\"2019\",\"2018\",\"2017\",\"2016\",\"2015\",\"2014\",\"2013\",\"2012\",\"2011\",\"2010\"],\"xaxis\":\"x\",\"y\":[50803.0,49297.0,45033.0,52085.0,51456.0,52956.0,51060.0,51060.0,52145.0,54990.0,51272.0,54635.0],\"yaxis\":\"y\",\"type\":\"scatter\"},{\"hovertemplate\":\"State=Vermont\\u003cbr\\u003eYear=%{x}\\u003cbr\\u003eCount=%{y}\\u003cextra\\u003e\\u003c\\u002fextra\\u003e\",\"legendgroup\":\"Vermont\",\"line\":{\"color\":\"#19d3f3\",\"dash\":\"solid\"},\"marker\":{\"symbol\":\"circle\"},\"mode\":\"lines\",\"name\":\"Vermont\",\"orientation\":\"v\",\"showlegend\":true,\"x\":[\"2022\",\"2021\",\"2019\",\"2018\",\"2017\",\"2016\",\"2015\",\"2014\",\"2013\",\"2012\",\"2011\",\"2010\"],\"xaxis\":\"x\",\"y\":[6908.0,5749.0,6553.0,5767.0,5096.0,5712.0,5651.0,6765.0,5068.0,5996.0,6255.0,6885.0],\"yaxis\":\"y\",\"type\":\"scatter\"},{\"hovertemplate\":\"State=Virginia\\u003cbr\\u003eYear=%{x}\\u003cbr\\u003eCount=%{y}\\u003cextra\\u003e\\u003c\\u002fextra\\u003e\",\"legendgroup\":\"Virginia\",\"line\":{\"color\":\"#FF6692\",\"dash\":\"solid\"},\"marker\":{\"symbol\":\"circle\"},\"mode\":\"lines\",\"name\":\"Virginia\",\"orientation\":\"v\",\"showlegend\":true,\"x\":[\"2022\",\"2021\",\"2019\",\"2018\",\"2017\",\"2016\",\"2015\",\"2014\",\"2013\",\"2012\",\"2011\",\"2010\"],\"xaxis\":\"x\",\"y\":[104539.0,96332.0,98004.0,99351.0,100976.0,100200.0,102870.0,113223.0,102576.0,108748.0,110163.0,105477.0],\"yaxis\":\"y\",\"type\":\"scatter\"},{\"hovertemplate\":\"State=Washington\\u003cbr\\u003eYear=%{x}\\u003cbr\\u003eCount=%{y}\\u003cextra\\u003e\\u003c\\u002fextra\\u003e\",\"legendgroup\":\"Washington\",\"line\":{\"color\":\"#B6E880\",\"dash\":\"solid\"},\"marker\":{\"symbol\":\"circle\"},\"mode\":\"lines\",\"name\":\"Washington\",\"orientation\":\"v\",\"showlegend\":true,\"x\":[\"2022\",\"2021\",\"2019\",\"2018\",\"2017\",\"2016\",\"2015\",\"2014\",\"2013\",\"2012\",\"2011\",\"2010\"],\"xaxis\":\"x\",\"y\":[92565.0,90722.0,98105.0,92209.0,97643.0,90150.0,86668.0,87408.0,85373.0,90561.0,92152.0,94636.0],\"yaxis\":\"y\",\"type\":\"scatter\"},{\"hovertemplate\":\"State=West Virginia\\u003cbr\\u003eYear=%{x}\\u003cbr\\u003eCount=%{y}\\u003cextra\\u003e\\u003c\\u002fextra\\u003e\",\"legendgroup\":\"West Virginia\",\"line\":{\"color\":\"#FF97FF\",\"dash\":\"solid\"},\"marker\":{\"symbol\":\"circle\"},\"mode\":\"lines\",\"name\":\"West Virginia\",\"orientation\":\"v\",\"showlegend\":true,\"x\":[\"2022\",\"2021\",\"2019\",\"2018\",\"2017\",\"2016\",\"2015\",\"2014\",\"2013\",\"2012\",\"2011\",\"2010\"],\"xaxis\":\"x\",\"y\":[19540.0,18169.0,21275.0,18926.0,18881.0,21550.0,19670.0,18843.0,16687.0,18779.0,18305.0,20260.0],\"yaxis\":\"y\",\"type\":\"scatter\"},{\"hovertemplate\":\"State=Wisconsin\\u003cbr\\u003eYear=%{x}\\u003cbr\\u003eCount=%{y}\\u003cextra\\u003e\\u003c\\u002fextra\\u003e\",\"legendgroup\":\"Wisconsin\",\"line\":{\"color\":\"#FECB52\",\"dash\":\"solid\"},\"marker\":{\"symbol\":\"circle\"},\"mode\":\"lines\",\"name\":\"Wisconsin\",\"orientation\":\"v\",\"showlegend\":true,\"x\":[\"2022\",\"2021\",\"2019\",\"2018\",\"2017\",\"2016\",\"2015\",\"2014\",\"2013\",\"2012\",\"2011\",\"2010\"],\"xaxis\":\"x\",\"y\":[66580.0,63821.0,68675.0,68743.0,67283.0,70306.0,65927.0,66998.0,63908.0,71079.0,69390.0,73724.0],\"yaxis\":\"y\",\"type\":\"scatter\"},{\"hovertemplate\":\"State=Wyoming\\u003cbr\\u003eYear=%{x}\\u003cbr\\u003eCount=%{y}\\u003cextra\\u003e\\u003c\\u002fextra\\u003e\",\"legendgroup\":\"Wyoming\",\"line\":{\"color\":\"#636efa\",\"dash\":\"solid\"},\"marker\":{\"symbol\":\"circle\"},\"mode\":\"lines\",\"name\":\"Wyoming\",\"orientation\":\"v\",\"showlegend\":true,\"x\":[\"2022\",\"2021\",\"2019\",\"2018\",\"2017\",\"2016\",\"2015\",\"2014\",\"2013\",\"2012\",\"2011\",\"2010\"],\"xaxis\":\"x\",\"y\":[7469.0,7185.0,6905.0,8297.0,7002.0,7386.0,7727.0,7529.0,7179.0,7937.0,7011.0,8314.0],\"yaxis\":\"y\",\"type\":\"scatter\"},{\"hovertemplate\":\"State=Puerto Rico\\u003cbr\\u003eYear=%{x}\\u003cbr\\u003eCount=%{y}\\u003cextra\\u003e\\u003c\\u002fextra\\u003e\",\"legendgroup\":\"Puerto Rico\",\"line\":{\"color\":\"#EF553B\",\"dash\":\"solid\"},\"marker\":{\"symbol\":\"circle\"},\"mode\":\"lines\",\"name\":\"Puerto Rico\",\"orientation\":\"v\",\"showlegend\":true,\"x\":[\"2022\",\"2021\",\"2019\",\"2018\",\"2017\",\"2016\",\"2015\",\"2014\",\"2013\",\"2012\",\"2011\",\"2010\"],\"xaxis\":\"x\",\"y\":[21708.0,19216.0,20986.0,21107.0,22160.0,28556.0,28928.0,36107.0,33517.0,35897.0,39447.0,45712.0],\"yaxis\":\"y\",\"type\":\"scatter\"}],                        {\"template\":{\"data\":{\"histogram2dcontour\":[{\"type\":\"histogram2dcontour\",\"colorbar\":{\"outlinewidth\":0,\"ticks\":\"\"},\"colorscale\":[[0.0,\"#0d0887\"],[0.1111111111111111,\"#46039f\"],[0.2222222222222222,\"#7201a8\"],[0.3333333333333333,\"#9c179e\"],[0.4444444444444444,\"#bd3786\"],[0.5555555555555556,\"#d8576b\"],[0.6666666666666666,\"#ed7953\"],[0.7777777777777778,\"#fb9f3a\"],[0.8888888888888888,\"#fdca26\"],[1.0,\"#f0f921\"]]}],\"choropleth\":[{\"type\":\"choropleth\",\"colorbar\":{\"outlinewidth\":0,\"ticks\":\"\"}}],\"histogram2d\":[{\"type\":\"histogram2d\",\"colorbar\":{\"outlinewidth\":0,\"ticks\":\"\"},\"colorscale\":[[0.0,\"#0d0887\"],[0.1111111111111111,\"#46039f\"],[0.2222222222222222,\"#7201a8\"],[0.3333333333333333,\"#9c179e\"],[0.4444444444444444,\"#bd3786\"],[0.5555555555555556,\"#d8576b\"],[0.6666666666666666,\"#ed7953\"],[0.7777777777777778,\"#fb9f3a\"],[0.8888888888888888,\"#fdca26\"],[1.0,\"#f0f921\"]]}],\"heatmap\":[{\"type\":\"heatmap\",\"colorbar\":{\"outlinewidth\":0,\"ticks\":\"\"},\"colorscale\":[[0.0,\"#0d0887\"],[0.1111111111111111,\"#46039f\"],[0.2222222222222222,\"#7201a8\"],[0.3333333333333333,\"#9c179e\"],[0.4444444444444444,\"#bd3786\"],[0.5555555555555556,\"#d8576b\"],[0.6666666666666666,\"#ed7953\"],[0.7777777777777778,\"#fb9f3a\"],[0.8888888888888888,\"#fdca26\"],[1.0,\"#f0f921\"]]}],\"heatmapgl\":[{\"type\":\"heatmapgl\",\"colorbar\":{\"outlinewidth\":0,\"ticks\":\"\"},\"colorscale\":[[0.0,\"#0d0887\"],[0.1111111111111111,\"#46039f\"],[0.2222222222222222,\"#7201a8\"],[0.3333333333333333,\"#9c179e\"],[0.4444444444444444,\"#bd3786\"],[0.5555555555555556,\"#d8576b\"],[0.6666666666666666,\"#ed7953\"],[0.7777777777777778,\"#fb9f3a\"],[0.8888888888888888,\"#fdca26\"],[1.0,\"#f0f921\"]]}],\"contourcarpet\":[{\"type\":\"contourcarpet\",\"colorbar\":{\"outlinewidth\":0,\"ticks\":\"\"}}],\"contour\":[{\"type\":\"contour\",\"colorbar\":{\"outlinewidth\":0,\"ticks\":\"\"},\"colorscale\":[[0.0,\"#0d0887\"],[0.1111111111111111,\"#46039f\"],[0.2222222222222222,\"#7201a8\"],[0.3333333333333333,\"#9c179e\"],[0.4444444444444444,\"#bd3786\"],[0.5555555555555556,\"#d8576b\"],[0.6666666666666666,\"#ed7953\"],[0.7777777777777778,\"#fb9f3a\"],[0.8888888888888888,\"#fdca26\"],[1.0,\"#f0f921\"]]}],\"surface\":[{\"type\":\"surface\",\"colorbar\":{\"outlinewidth\":0,\"ticks\":\"\"},\"colorscale\":[[0.0,\"#0d0887\"],[0.1111111111111111,\"#46039f\"],[0.2222222222222222,\"#7201a8\"],[0.3333333333333333,\"#9c179e\"],[0.4444444444444444,\"#bd3786\"],[0.5555555555555556,\"#d8576b\"],[0.6666666666666666,\"#ed7953\"],[0.7777777777777778,\"#fb9f3a\"],[0.8888888888888888,\"#fdca26\"],[1.0,\"#f0f921\"]]}],\"mesh3d\":[{\"type\":\"mesh3d\",\"colorbar\":{\"outlinewidth\":0,\"ticks\":\"\"}}],\"scatter\":[{\"fillpattern\":{\"fillmode\":\"overlay\",\"size\":10,\"solidity\":0.2},\"type\":\"scatter\"}],\"parcoords\":[{\"type\":\"parcoords\",\"line\":{\"colorbar\":{\"outlinewidth\":0,\"ticks\":\"\"}}}],\"scatterpolargl\":[{\"type\":\"scatterpolargl\",\"marker\":{\"colorbar\":{\"outlinewidth\":0,\"ticks\":\"\"}}}],\"bar\":[{\"error_x\":{\"color\":\"#2a3f5f\"},\"error_y\":{\"color\":\"#2a3f5f\"},\"marker\":{\"line\":{\"color\":\"#E5ECF6\",\"width\":0.5},\"pattern\":{\"fillmode\":\"overlay\",\"size\":10,\"solidity\":0.2}},\"type\":\"bar\"}],\"scattergeo\":[{\"type\":\"scattergeo\",\"marker\":{\"colorbar\":{\"outlinewidth\":0,\"ticks\":\"\"}}}],\"scatterpolar\":[{\"type\":\"scatterpolar\",\"marker\":{\"colorbar\":{\"outlinewidth\":0,\"ticks\":\"\"}}}],\"histogram\":[{\"marker\":{\"pattern\":{\"fillmode\":\"overlay\",\"size\":10,\"solidity\":0.2}},\"type\":\"histogram\"}],\"scattergl\":[{\"type\":\"scattergl\",\"marker\":{\"colorbar\":{\"outlinewidth\":0,\"ticks\":\"\"}}}],\"scatter3d\":[{\"type\":\"scatter3d\",\"line\":{\"colorbar\":{\"outlinewidth\":0,\"ticks\":\"\"}},\"marker\":{\"colorbar\":{\"outlinewidth\":0,\"ticks\":\"\"}}}],\"scattermapbox\":[{\"type\":\"scattermapbox\",\"marker\":{\"colorbar\":{\"outlinewidth\":0,\"ticks\":\"\"}}}],\"scatterternary\":[{\"type\":\"scatterternary\",\"marker\":{\"colorbar\":{\"outlinewidth\":0,\"ticks\":\"\"}}}],\"scattercarpet\":[{\"type\":\"scattercarpet\",\"marker\":{\"colorbar\":{\"outlinewidth\":0,\"ticks\":\"\"}}}],\"carpet\":[{\"aaxis\":{\"endlinecolor\":\"#2a3f5f\",\"gridcolor\":\"white\",\"linecolor\":\"white\",\"minorgridcolor\":\"white\",\"startlinecolor\":\"#2a3f5f\"},\"baxis\":{\"endlinecolor\":\"#2a3f5f\",\"gridcolor\":\"white\",\"linecolor\":\"white\",\"minorgridcolor\":\"white\",\"startlinecolor\":\"#2a3f5f\"},\"type\":\"carpet\"}],\"table\":[{\"cells\":{\"fill\":{\"color\":\"#EBF0F8\"},\"line\":{\"color\":\"white\"}},\"header\":{\"fill\":{\"color\":\"#C8D4E3\"},\"line\":{\"color\":\"white\"}},\"type\":\"table\"}],\"barpolar\":[{\"marker\":{\"line\":{\"color\":\"#E5ECF6\",\"width\":0.5},\"pattern\":{\"fillmode\":\"overlay\",\"size\":10,\"solidity\":0.2}},\"type\":\"barpolar\"}],\"pie\":[{\"automargin\":true,\"type\":\"pie\"}]},\"layout\":{\"autotypenumbers\":\"strict\",\"colorway\":[\"#636efa\",\"#EF553B\",\"#00cc96\",\"#ab63fa\",\"#FFA15A\",\"#19d3f3\",\"#FF6692\",\"#B6E880\",\"#FF97FF\",\"#FECB52\"],\"font\":{\"color\":\"#2a3f5f\"},\"hovermode\":\"closest\",\"hoverlabel\":{\"align\":\"left\"},\"paper_bgcolor\":\"white\",\"plot_bgcolor\":\"#E5ECF6\",\"polar\":{\"bgcolor\":\"#E5ECF6\",\"angularaxis\":{\"gridcolor\":\"white\",\"linecolor\":\"white\",\"ticks\":\"\"},\"radialaxis\":{\"gridcolor\":\"white\",\"linecolor\":\"white\",\"ticks\":\"\"}},\"ternary\":{\"bgcolor\":\"#E5ECF6\",\"aaxis\":{\"gridcolor\":\"white\",\"linecolor\":\"white\",\"ticks\":\"\"},\"baxis\":{\"gridcolor\":\"white\",\"linecolor\":\"white\",\"ticks\":\"\"},\"caxis\":{\"gridcolor\":\"white\",\"linecolor\":\"white\",\"ticks\":\"\"}},\"coloraxis\":{\"colorbar\":{\"outlinewidth\":0,\"ticks\":\"\"}},\"colorscale\":{\"sequential\":[[0.0,\"#0d0887\"],[0.1111111111111111,\"#46039f\"],[0.2222222222222222,\"#7201a8\"],[0.3333333333333333,\"#9c179e\"],[0.4444444444444444,\"#bd3786\"],[0.5555555555555556,\"#d8576b\"],[0.6666666666666666,\"#ed7953\"],[0.7777777777777778,\"#fb9f3a\"],[0.8888888888888888,\"#fdca26\"],[1.0,\"#f0f921\"]],\"sequentialminus\":[[0.0,\"#0d0887\"],[0.1111111111111111,\"#46039f\"],[0.2222222222222222,\"#7201a8\"],[0.3333333333333333,\"#9c179e\"],[0.4444444444444444,\"#bd3786\"],[0.5555555555555556,\"#d8576b\"],[0.6666666666666666,\"#ed7953\"],[0.7777777777777778,\"#fb9f3a\"],[0.8888888888888888,\"#fdca26\"],[1.0,\"#f0f921\"]],\"diverging\":[[0,\"#8e0152\"],[0.1,\"#c51b7d\"],[0.2,\"#de77ae\"],[0.3,\"#f1b6da\"],[0.4,\"#fde0ef\"],[0.5,\"#f7f7f7\"],[0.6,\"#e6f5d0\"],[0.7,\"#b8e186\"],[0.8,\"#7fbc41\"],[0.9,\"#4d9221\"],[1,\"#276419\"]]},\"xaxis\":{\"gridcolor\":\"white\",\"linecolor\":\"white\",\"ticks\":\"\",\"title\":{\"standoff\":15},\"zerolinecolor\":\"white\",\"automargin\":true,\"zerolinewidth\":2},\"yaxis\":{\"gridcolor\":\"white\",\"linecolor\":\"white\",\"ticks\":\"\",\"title\":{\"standoff\":15},\"zerolinecolor\":\"white\",\"automargin\":true,\"zerolinewidth\":2},\"scene\":{\"xaxis\":{\"backgroundcolor\":\"#E5ECF6\",\"gridcolor\":\"white\",\"linecolor\":\"white\",\"showbackground\":true,\"ticks\":\"\",\"zerolinecolor\":\"white\",\"gridwidth\":2},\"yaxis\":{\"backgroundcolor\":\"#E5ECF6\",\"gridcolor\":\"white\",\"linecolor\":\"white\",\"showbackground\":true,\"ticks\":\"\",\"zerolinecolor\":\"white\",\"gridwidth\":2},\"zaxis\":{\"backgroundcolor\":\"#E5ECF6\",\"gridcolor\":\"white\",\"linecolor\":\"white\",\"showbackground\":true,\"ticks\":\"\",\"zerolinecolor\":\"white\",\"gridwidth\":2}},\"shapedefaults\":{\"line\":{\"color\":\"#2a3f5f\"}},\"annotationdefaults\":{\"arrowcolor\":\"#2a3f5f\",\"arrowhead\":0,\"arrowwidth\":1},\"geo\":{\"bgcolor\":\"white\",\"landcolor\":\"#E5ECF6\",\"subunitcolor\":\"white\",\"showland\":true,\"showlakes\":true,\"lakecolor\":\"white\"},\"title\":{\"x\":0.05},\"mapbox\":{\"style\":\"light\"}}},\"xaxis\":{\"anchor\":\"y\",\"domain\":[0.0,1.0],\"title\":{\"text\":\"Year\"}},\"yaxis\":{\"anchor\":\"x\",\"domain\":[0.0,1.0],\"title\":{\"text\":\"Count\"}},\"legend\":{\"title\":{\"text\":\"State\"},\"tracegroupgap\":0},\"title\":{\"text\":\"Births by Year and State\"}},                        {\"responsive\": true}                    ).then(function(){\n",
       "                            \n",
       "var gd = document.getElementById('e433d465-2a4b-44f3-9678-fa88e92b66a1');\n",
       "var x = new MutationObserver(function (mutations, observer) {{\n",
       "        var display = window.getComputedStyle(gd).display;\n",
       "        if (!display || display === 'none') {{\n",
       "            console.log([gd, 'removed!']);\n",
       "            Plotly.purge(gd);\n",
       "            observer.disconnect();\n",
       "        }}\n",
       "}});\n",
       "\n",
       "// Listen for the removal of the full notebook cells\n",
       "var notebookContainer = gd.closest('#notebook-container');\n",
       "if (notebookContainer) {{\n",
       "    x.observe(notebookContainer, {childList: true});\n",
       "}}\n",
       "\n",
       "// Listen for the clearing of the current output cell\n",
       "var outputEl = gd.closest('.output');\n",
       "if (outputEl) {{\n",
       "    x.observe(outputEl, {childList: true});\n",
       "}}\n",
       "\n",
       "                        })                };                });            </script>        </div>"
      ]
     },
     "metadata": {},
     "output_type": "display_data"
    }
   ],
   "source": [
    "fig = px.line(df, x='Year', y='Count', color='State', title='Births by Year and State')\n",
    "fig.show()"
   ]
  },
  {
   "cell_type": "code",
   "execution_count": 324,
   "metadata": {},
   "outputs": [
    {
     "data": {
      "application/vnd.plotly.v1+json": {
       "config": {
        "plotlyServerURL": "https://plot.ly"
       },
       "data": [
        {
         "hovertemplate": "Year=%{x}<br>Count=%{y}<extra></extra>",
         "legendgroup": "",
         "line": {
          "color": "#636efa",
          "dash": "solid"
         },
         "marker": {
          "symbol": "circle"
         },
         "mode": "lines",
         "name": "",
         "orientation": "v",
         "showlegend": false,
         "type": "scatter",
         "x": [
          "2022",
          "2021",
          "2019",
          "2018",
          "2017",
          "2016",
          "2015",
          "2014",
          "2013",
          "2012",
          "2011",
          "2010"
         ],
         "xaxis": "x",
         "y": [
          104539,
          96332,
          98004,
          99351,
          100976,
          100200,
          102870,
          113223,
          102576,
          108748,
          110163,
          105477
         ],
         "yaxis": "y"
        }
       ],
       "layout": {
        "legend": {
         "tracegroupgap": 0
        },
        "template": {
         "data": {
          "bar": [
           {
            "error_x": {
             "color": "#2a3f5f"
            },
            "error_y": {
             "color": "#2a3f5f"
            },
            "marker": {
             "line": {
              "color": "#E5ECF6",
              "width": 0.5
             },
             "pattern": {
              "fillmode": "overlay",
              "size": 10,
              "solidity": 0.2
             }
            },
            "type": "bar"
           }
          ],
          "barpolar": [
           {
            "marker": {
             "line": {
              "color": "#E5ECF6",
              "width": 0.5
             },
             "pattern": {
              "fillmode": "overlay",
              "size": 10,
              "solidity": 0.2
             }
            },
            "type": "barpolar"
           }
          ],
          "carpet": [
           {
            "aaxis": {
             "endlinecolor": "#2a3f5f",
             "gridcolor": "white",
             "linecolor": "white",
             "minorgridcolor": "white",
             "startlinecolor": "#2a3f5f"
            },
            "baxis": {
             "endlinecolor": "#2a3f5f",
             "gridcolor": "white",
             "linecolor": "white",
             "minorgridcolor": "white",
             "startlinecolor": "#2a3f5f"
            },
            "type": "carpet"
           }
          ],
          "choropleth": [
           {
            "colorbar": {
             "outlinewidth": 0,
             "ticks": ""
            },
            "type": "choropleth"
           }
          ],
          "contour": [
           {
            "colorbar": {
             "outlinewidth": 0,
             "ticks": ""
            },
            "colorscale": [
             [
              0,
              "#0d0887"
             ],
             [
              0.1111111111111111,
              "#46039f"
             ],
             [
              0.2222222222222222,
              "#7201a8"
             ],
             [
              0.3333333333333333,
              "#9c179e"
             ],
             [
              0.4444444444444444,
              "#bd3786"
             ],
             [
              0.5555555555555556,
              "#d8576b"
             ],
             [
              0.6666666666666666,
              "#ed7953"
             ],
             [
              0.7777777777777778,
              "#fb9f3a"
             ],
             [
              0.8888888888888888,
              "#fdca26"
             ],
             [
              1,
              "#f0f921"
             ]
            ],
            "type": "contour"
           }
          ],
          "contourcarpet": [
           {
            "colorbar": {
             "outlinewidth": 0,
             "ticks": ""
            },
            "type": "contourcarpet"
           }
          ],
          "heatmap": [
           {
            "colorbar": {
             "outlinewidth": 0,
             "ticks": ""
            },
            "colorscale": [
             [
              0,
              "#0d0887"
             ],
             [
              0.1111111111111111,
              "#46039f"
             ],
             [
              0.2222222222222222,
              "#7201a8"
             ],
             [
              0.3333333333333333,
              "#9c179e"
             ],
             [
              0.4444444444444444,
              "#bd3786"
             ],
             [
              0.5555555555555556,
              "#d8576b"
             ],
             [
              0.6666666666666666,
              "#ed7953"
             ],
             [
              0.7777777777777778,
              "#fb9f3a"
             ],
             [
              0.8888888888888888,
              "#fdca26"
             ],
             [
              1,
              "#f0f921"
             ]
            ],
            "type": "heatmap"
           }
          ],
          "heatmapgl": [
           {
            "colorbar": {
             "outlinewidth": 0,
             "ticks": ""
            },
            "colorscale": [
             [
              0,
              "#0d0887"
             ],
             [
              0.1111111111111111,
              "#46039f"
             ],
             [
              0.2222222222222222,
              "#7201a8"
             ],
             [
              0.3333333333333333,
              "#9c179e"
             ],
             [
              0.4444444444444444,
              "#bd3786"
             ],
             [
              0.5555555555555556,
              "#d8576b"
             ],
             [
              0.6666666666666666,
              "#ed7953"
             ],
             [
              0.7777777777777778,
              "#fb9f3a"
             ],
             [
              0.8888888888888888,
              "#fdca26"
             ],
             [
              1,
              "#f0f921"
             ]
            ],
            "type": "heatmapgl"
           }
          ],
          "histogram": [
           {
            "marker": {
             "pattern": {
              "fillmode": "overlay",
              "size": 10,
              "solidity": 0.2
             }
            },
            "type": "histogram"
           }
          ],
          "histogram2d": [
           {
            "colorbar": {
             "outlinewidth": 0,
             "ticks": ""
            },
            "colorscale": [
             [
              0,
              "#0d0887"
             ],
             [
              0.1111111111111111,
              "#46039f"
             ],
             [
              0.2222222222222222,
              "#7201a8"
             ],
             [
              0.3333333333333333,
              "#9c179e"
             ],
             [
              0.4444444444444444,
              "#bd3786"
             ],
             [
              0.5555555555555556,
              "#d8576b"
             ],
             [
              0.6666666666666666,
              "#ed7953"
             ],
             [
              0.7777777777777778,
              "#fb9f3a"
             ],
             [
              0.8888888888888888,
              "#fdca26"
             ],
             [
              1,
              "#f0f921"
             ]
            ],
            "type": "histogram2d"
           }
          ],
          "histogram2dcontour": [
           {
            "colorbar": {
             "outlinewidth": 0,
             "ticks": ""
            },
            "colorscale": [
             [
              0,
              "#0d0887"
             ],
             [
              0.1111111111111111,
              "#46039f"
             ],
             [
              0.2222222222222222,
              "#7201a8"
             ],
             [
              0.3333333333333333,
              "#9c179e"
             ],
             [
              0.4444444444444444,
              "#bd3786"
             ],
             [
              0.5555555555555556,
              "#d8576b"
             ],
             [
              0.6666666666666666,
              "#ed7953"
             ],
             [
              0.7777777777777778,
              "#fb9f3a"
             ],
             [
              0.8888888888888888,
              "#fdca26"
             ],
             [
              1,
              "#f0f921"
             ]
            ],
            "type": "histogram2dcontour"
           }
          ],
          "mesh3d": [
           {
            "colorbar": {
             "outlinewidth": 0,
             "ticks": ""
            },
            "type": "mesh3d"
           }
          ],
          "parcoords": [
           {
            "line": {
             "colorbar": {
              "outlinewidth": 0,
              "ticks": ""
             }
            },
            "type": "parcoords"
           }
          ],
          "pie": [
           {
            "automargin": true,
            "type": "pie"
           }
          ],
          "scatter": [
           {
            "fillpattern": {
             "fillmode": "overlay",
             "size": 10,
             "solidity": 0.2
            },
            "type": "scatter"
           }
          ],
          "scatter3d": [
           {
            "line": {
             "colorbar": {
              "outlinewidth": 0,
              "ticks": ""
             }
            },
            "marker": {
             "colorbar": {
              "outlinewidth": 0,
              "ticks": ""
             }
            },
            "type": "scatter3d"
           }
          ],
          "scattercarpet": [
           {
            "marker": {
             "colorbar": {
              "outlinewidth": 0,
              "ticks": ""
             }
            },
            "type": "scattercarpet"
           }
          ],
          "scattergeo": [
           {
            "marker": {
             "colorbar": {
              "outlinewidth": 0,
              "ticks": ""
             }
            },
            "type": "scattergeo"
           }
          ],
          "scattergl": [
           {
            "marker": {
             "colorbar": {
              "outlinewidth": 0,
              "ticks": ""
             }
            },
            "type": "scattergl"
           }
          ],
          "scattermapbox": [
           {
            "marker": {
             "colorbar": {
              "outlinewidth": 0,
              "ticks": ""
             }
            },
            "type": "scattermapbox"
           }
          ],
          "scatterpolar": [
           {
            "marker": {
             "colorbar": {
              "outlinewidth": 0,
              "ticks": ""
             }
            },
            "type": "scatterpolar"
           }
          ],
          "scatterpolargl": [
           {
            "marker": {
             "colorbar": {
              "outlinewidth": 0,
              "ticks": ""
             }
            },
            "type": "scatterpolargl"
           }
          ],
          "scatterternary": [
           {
            "marker": {
             "colorbar": {
              "outlinewidth": 0,
              "ticks": ""
             }
            },
            "type": "scatterternary"
           }
          ],
          "surface": [
           {
            "colorbar": {
             "outlinewidth": 0,
             "ticks": ""
            },
            "colorscale": [
             [
              0,
              "#0d0887"
             ],
             [
              0.1111111111111111,
              "#46039f"
             ],
             [
              0.2222222222222222,
              "#7201a8"
             ],
             [
              0.3333333333333333,
              "#9c179e"
             ],
             [
              0.4444444444444444,
              "#bd3786"
             ],
             [
              0.5555555555555556,
              "#d8576b"
             ],
             [
              0.6666666666666666,
              "#ed7953"
             ],
             [
              0.7777777777777778,
              "#fb9f3a"
             ],
             [
              0.8888888888888888,
              "#fdca26"
             ],
             [
              1,
              "#f0f921"
             ]
            ],
            "type": "surface"
           }
          ],
          "table": [
           {
            "cells": {
             "fill": {
              "color": "#EBF0F8"
             },
             "line": {
              "color": "white"
             }
            },
            "header": {
             "fill": {
              "color": "#C8D4E3"
             },
             "line": {
              "color": "white"
             }
            },
            "type": "table"
           }
          ]
         },
         "layout": {
          "annotationdefaults": {
           "arrowcolor": "#2a3f5f",
           "arrowhead": 0,
           "arrowwidth": 1
          },
          "autotypenumbers": "strict",
          "coloraxis": {
           "colorbar": {
            "outlinewidth": 0,
            "ticks": ""
           }
          },
          "colorscale": {
           "diverging": [
            [
             0,
             "#8e0152"
            ],
            [
             0.1,
             "#c51b7d"
            ],
            [
             0.2,
             "#de77ae"
            ],
            [
             0.3,
             "#f1b6da"
            ],
            [
             0.4,
             "#fde0ef"
            ],
            [
             0.5,
             "#f7f7f7"
            ],
            [
             0.6,
             "#e6f5d0"
            ],
            [
             0.7,
             "#b8e186"
            ],
            [
             0.8,
             "#7fbc41"
            ],
            [
             0.9,
             "#4d9221"
            ],
            [
             1,
             "#276419"
            ]
           ],
           "sequential": [
            [
             0,
             "#0d0887"
            ],
            [
             0.1111111111111111,
             "#46039f"
            ],
            [
             0.2222222222222222,
             "#7201a8"
            ],
            [
             0.3333333333333333,
             "#9c179e"
            ],
            [
             0.4444444444444444,
             "#bd3786"
            ],
            [
             0.5555555555555556,
             "#d8576b"
            ],
            [
             0.6666666666666666,
             "#ed7953"
            ],
            [
             0.7777777777777778,
             "#fb9f3a"
            ],
            [
             0.8888888888888888,
             "#fdca26"
            ],
            [
             1,
             "#f0f921"
            ]
           ],
           "sequentialminus": [
            [
             0,
             "#0d0887"
            ],
            [
             0.1111111111111111,
             "#46039f"
            ],
            [
             0.2222222222222222,
             "#7201a8"
            ],
            [
             0.3333333333333333,
             "#9c179e"
            ],
            [
             0.4444444444444444,
             "#bd3786"
            ],
            [
             0.5555555555555556,
             "#d8576b"
            ],
            [
             0.6666666666666666,
             "#ed7953"
            ],
            [
             0.7777777777777778,
             "#fb9f3a"
            ],
            [
             0.8888888888888888,
             "#fdca26"
            ],
            [
             1,
             "#f0f921"
            ]
           ]
          },
          "colorway": [
           "#636efa",
           "#EF553B",
           "#00cc96",
           "#ab63fa",
           "#FFA15A",
           "#19d3f3",
           "#FF6692",
           "#B6E880",
           "#FF97FF",
           "#FECB52"
          ],
          "font": {
           "color": "#2a3f5f"
          },
          "geo": {
           "bgcolor": "white",
           "lakecolor": "white",
           "landcolor": "#E5ECF6",
           "showlakes": true,
           "showland": true,
           "subunitcolor": "white"
          },
          "hoverlabel": {
           "align": "left"
          },
          "hovermode": "closest",
          "mapbox": {
           "style": "light"
          },
          "paper_bgcolor": "white",
          "plot_bgcolor": "#E5ECF6",
          "polar": {
           "angularaxis": {
            "gridcolor": "white",
            "linecolor": "white",
            "ticks": ""
           },
           "bgcolor": "#E5ECF6",
           "radialaxis": {
            "gridcolor": "white",
            "linecolor": "white",
            "ticks": ""
           }
          },
          "scene": {
           "xaxis": {
            "backgroundcolor": "#E5ECF6",
            "gridcolor": "white",
            "gridwidth": 2,
            "linecolor": "white",
            "showbackground": true,
            "ticks": "",
            "zerolinecolor": "white"
           },
           "yaxis": {
            "backgroundcolor": "#E5ECF6",
            "gridcolor": "white",
            "gridwidth": 2,
            "linecolor": "white",
            "showbackground": true,
            "ticks": "",
            "zerolinecolor": "white"
           },
           "zaxis": {
            "backgroundcolor": "#E5ECF6",
            "gridcolor": "white",
            "gridwidth": 2,
            "linecolor": "white",
            "showbackground": true,
            "ticks": "",
            "zerolinecolor": "white"
           }
          },
          "shapedefaults": {
           "line": {
            "color": "#2a3f5f"
           }
          },
          "ternary": {
           "aaxis": {
            "gridcolor": "white",
            "linecolor": "white",
            "ticks": ""
           },
           "baxis": {
            "gridcolor": "white",
            "linecolor": "white",
            "ticks": ""
           },
           "bgcolor": "#E5ECF6",
           "caxis": {
            "gridcolor": "white",
            "linecolor": "white",
            "ticks": ""
           }
          },
          "title": {
           "x": 0.05
          },
          "xaxis": {
           "automargin": true,
           "gridcolor": "white",
           "linecolor": "white",
           "ticks": "",
           "title": {
            "standoff": 15
           },
           "zerolinecolor": "white",
           "zerolinewidth": 2
          },
          "yaxis": {
           "automargin": true,
           "gridcolor": "white",
           "linecolor": "white",
           "ticks": "",
           "title": {
            "standoff": 15
           },
           "zerolinecolor": "white",
           "zerolinewidth": 2
          }
         }
        },
        "title": {
         "text": "Births by Year in Virginia"
        },
        "xaxis": {
         "anchor": "y",
         "domain": [
          0,
          1
         ],
         "title": {
          "text": "Year"
         }
        },
        "yaxis": {
         "anchor": "x",
         "domain": [
          0,
          1
         ],
         "title": {
          "text": "Count"
         }
        }
       }
      },
      "text/html": [
       "<div>                            <div id=\"510eb4d1-a600-4a33-a8ac-20731e486739\" class=\"plotly-graph-div\" style=\"height:525px; width:100%;\"></div>            <script type=\"text/javascript\">                require([\"plotly\"], function(Plotly) {                    window.PLOTLYENV=window.PLOTLYENV || {};                                    if (document.getElementById(\"510eb4d1-a600-4a33-a8ac-20731e486739\")) {                    Plotly.newPlot(                        \"510eb4d1-a600-4a33-a8ac-20731e486739\",                        [{\"hovertemplate\":\"Year=%{x}\\u003cbr\\u003eCount=%{y}\\u003cextra\\u003e\\u003c\\u002fextra\\u003e\",\"legendgroup\":\"\",\"line\":{\"color\":\"#636efa\",\"dash\":\"solid\"},\"marker\":{\"symbol\":\"circle\"},\"mode\":\"lines\",\"name\":\"\",\"orientation\":\"v\",\"showlegend\":false,\"x\":[\"2022\",\"2021\",\"2019\",\"2018\",\"2017\",\"2016\",\"2015\",\"2014\",\"2013\",\"2012\",\"2011\",\"2010\"],\"xaxis\":\"x\",\"y\":[104539.0,96332.0,98004.0,99351.0,100976.0,100200.0,102870.0,113223.0,102576.0,108748.0,110163.0,105477.0],\"yaxis\":\"y\",\"type\":\"scatter\"}],                        {\"template\":{\"data\":{\"histogram2dcontour\":[{\"type\":\"histogram2dcontour\",\"colorbar\":{\"outlinewidth\":0,\"ticks\":\"\"},\"colorscale\":[[0.0,\"#0d0887\"],[0.1111111111111111,\"#46039f\"],[0.2222222222222222,\"#7201a8\"],[0.3333333333333333,\"#9c179e\"],[0.4444444444444444,\"#bd3786\"],[0.5555555555555556,\"#d8576b\"],[0.6666666666666666,\"#ed7953\"],[0.7777777777777778,\"#fb9f3a\"],[0.8888888888888888,\"#fdca26\"],[1.0,\"#f0f921\"]]}],\"choropleth\":[{\"type\":\"choropleth\",\"colorbar\":{\"outlinewidth\":0,\"ticks\":\"\"}}],\"histogram2d\":[{\"type\":\"histogram2d\",\"colorbar\":{\"outlinewidth\":0,\"ticks\":\"\"},\"colorscale\":[[0.0,\"#0d0887\"],[0.1111111111111111,\"#46039f\"],[0.2222222222222222,\"#7201a8\"],[0.3333333333333333,\"#9c179e\"],[0.4444444444444444,\"#bd3786\"],[0.5555555555555556,\"#d8576b\"],[0.6666666666666666,\"#ed7953\"],[0.7777777777777778,\"#fb9f3a\"],[0.8888888888888888,\"#fdca26\"],[1.0,\"#f0f921\"]]}],\"heatmap\":[{\"type\":\"heatmap\",\"colorbar\":{\"outlinewidth\":0,\"ticks\":\"\"},\"colorscale\":[[0.0,\"#0d0887\"],[0.1111111111111111,\"#46039f\"],[0.2222222222222222,\"#7201a8\"],[0.3333333333333333,\"#9c179e\"],[0.4444444444444444,\"#bd3786\"],[0.5555555555555556,\"#d8576b\"],[0.6666666666666666,\"#ed7953\"],[0.7777777777777778,\"#fb9f3a\"],[0.8888888888888888,\"#fdca26\"],[1.0,\"#f0f921\"]]}],\"heatmapgl\":[{\"type\":\"heatmapgl\",\"colorbar\":{\"outlinewidth\":0,\"ticks\":\"\"},\"colorscale\":[[0.0,\"#0d0887\"],[0.1111111111111111,\"#46039f\"],[0.2222222222222222,\"#7201a8\"],[0.3333333333333333,\"#9c179e\"],[0.4444444444444444,\"#bd3786\"],[0.5555555555555556,\"#d8576b\"],[0.6666666666666666,\"#ed7953\"],[0.7777777777777778,\"#fb9f3a\"],[0.8888888888888888,\"#fdca26\"],[1.0,\"#f0f921\"]]}],\"contourcarpet\":[{\"type\":\"contourcarpet\",\"colorbar\":{\"outlinewidth\":0,\"ticks\":\"\"}}],\"contour\":[{\"type\":\"contour\",\"colorbar\":{\"outlinewidth\":0,\"ticks\":\"\"},\"colorscale\":[[0.0,\"#0d0887\"],[0.1111111111111111,\"#46039f\"],[0.2222222222222222,\"#7201a8\"],[0.3333333333333333,\"#9c179e\"],[0.4444444444444444,\"#bd3786\"],[0.5555555555555556,\"#d8576b\"],[0.6666666666666666,\"#ed7953\"],[0.7777777777777778,\"#fb9f3a\"],[0.8888888888888888,\"#fdca26\"],[1.0,\"#f0f921\"]]}],\"surface\":[{\"type\":\"surface\",\"colorbar\":{\"outlinewidth\":0,\"ticks\":\"\"},\"colorscale\":[[0.0,\"#0d0887\"],[0.1111111111111111,\"#46039f\"],[0.2222222222222222,\"#7201a8\"],[0.3333333333333333,\"#9c179e\"],[0.4444444444444444,\"#bd3786\"],[0.5555555555555556,\"#d8576b\"],[0.6666666666666666,\"#ed7953\"],[0.7777777777777778,\"#fb9f3a\"],[0.8888888888888888,\"#fdca26\"],[1.0,\"#f0f921\"]]}],\"mesh3d\":[{\"type\":\"mesh3d\",\"colorbar\":{\"outlinewidth\":0,\"ticks\":\"\"}}],\"scatter\":[{\"fillpattern\":{\"fillmode\":\"overlay\",\"size\":10,\"solidity\":0.2},\"type\":\"scatter\"}],\"parcoords\":[{\"type\":\"parcoords\",\"line\":{\"colorbar\":{\"outlinewidth\":0,\"ticks\":\"\"}}}],\"scatterpolargl\":[{\"type\":\"scatterpolargl\",\"marker\":{\"colorbar\":{\"outlinewidth\":0,\"ticks\":\"\"}}}],\"bar\":[{\"error_x\":{\"color\":\"#2a3f5f\"},\"error_y\":{\"color\":\"#2a3f5f\"},\"marker\":{\"line\":{\"color\":\"#E5ECF6\",\"width\":0.5},\"pattern\":{\"fillmode\":\"overlay\",\"size\":10,\"solidity\":0.2}},\"type\":\"bar\"}],\"scattergeo\":[{\"type\":\"scattergeo\",\"marker\":{\"colorbar\":{\"outlinewidth\":0,\"ticks\":\"\"}}}],\"scatterpolar\":[{\"type\":\"scatterpolar\",\"marker\":{\"colorbar\":{\"outlinewidth\":0,\"ticks\":\"\"}}}],\"histogram\":[{\"marker\":{\"pattern\":{\"fillmode\":\"overlay\",\"size\":10,\"solidity\":0.2}},\"type\":\"histogram\"}],\"scattergl\":[{\"type\":\"scattergl\",\"marker\":{\"colorbar\":{\"outlinewidth\":0,\"ticks\":\"\"}}}],\"scatter3d\":[{\"type\":\"scatter3d\",\"line\":{\"colorbar\":{\"outlinewidth\":0,\"ticks\":\"\"}},\"marker\":{\"colorbar\":{\"outlinewidth\":0,\"ticks\":\"\"}}}],\"scattermapbox\":[{\"type\":\"scattermapbox\",\"marker\":{\"colorbar\":{\"outlinewidth\":0,\"ticks\":\"\"}}}],\"scatterternary\":[{\"type\":\"scatterternary\",\"marker\":{\"colorbar\":{\"outlinewidth\":0,\"ticks\":\"\"}}}],\"scattercarpet\":[{\"type\":\"scattercarpet\",\"marker\":{\"colorbar\":{\"outlinewidth\":0,\"ticks\":\"\"}}}],\"carpet\":[{\"aaxis\":{\"endlinecolor\":\"#2a3f5f\",\"gridcolor\":\"white\",\"linecolor\":\"white\",\"minorgridcolor\":\"white\",\"startlinecolor\":\"#2a3f5f\"},\"baxis\":{\"endlinecolor\":\"#2a3f5f\",\"gridcolor\":\"white\",\"linecolor\":\"white\",\"minorgridcolor\":\"white\",\"startlinecolor\":\"#2a3f5f\"},\"type\":\"carpet\"}],\"table\":[{\"cells\":{\"fill\":{\"color\":\"#EBF0F8\"},\"line\":{\"color\":\"white\"}},\"header\":{\"fill\":{\"color\":\"#C8D4E3\"},\"line\":{\"color\":\"white\"}},\"type\":\"table\"}],\"barpolar\":[{\"marker\":{\"line\":{\"color\":\"#E5ECF6\",\"width\":0.5},\"pattern\":{\"fillmode\":\"overlay\",\"size\":10,\"solidity\":0.2}},\"type\":\"barpolar\"}],\"pie\":[{\"automargin\":true,\"type\":\"pie\"}]},\"layout\":{\"autotypenumbers\":\"strict\",\"colorway\":[\"#636efa\",\"#EF553B\",\"#00cc96\",\"#ab63fa\",\"#FFA15A\",\"#19d3f3\",\"#FF6692\",\"#B6E880\",\"#FF97FF\",\"#FECB52\"],\"font\":{\"color\":\"#2a3f5f\"},\"hovermode\":\"closest\",\"hoverlabel\":{\"align\":\"left\"},\"paper_bgcolor\":\"white\",\"plot_bgcolor\":\"#E5ECF6\",\"polar\":{\"bgcolor\":\"#E5ECF6\",\"angularaxis\":{\"gridcolor\":\"white\",\"linecolor\":\"white\",\"ticks\":\"\"},\"radialaxis\":{\"gridcolor\":\"white\",\"linecolor\":\"white\",\"ticks\":\"\"}},\"ternary\":{\"bgcolor\":\"#E5ECF6\",\"aaxis\":{\"gridcolor\":\"white\",\"linecolor\":\"white\",\"ticks\":\"\"},\"baxis\":{\"gridcolor\":\"white\",\"linecolor\":\"white\",\"ticks\":\"\"},\"caxis\":{\"gridcolor\":\"white\",\"linecolor\":\"white\",\"ticks\":\"\"}},\"coloraxis\":{\"colorbar\":{\"outlinewidth\":0,\"ticks\":\"\"}},\"colorscale\":{\"sequential\":[[0.0,\"#0d0887\"],[0.1111111111111111,\"#46039f\"],[0.2222222222222222,\"#7201a8\"],[0.3333333333333333,\"#9c179e\"],[0.4444444444444444,\"#bd3786\"],[0.5555555555555556,\"#d8576b\"],[0.6666666666666666,\"#ed7953\"],[0.7777777777777778,\"#fb9f3a\"],[0.8888888888888888,\"#fdca26\"],[1.0,\"#f0f921\"]],\"sequentialminus\":[[0.0,\"#0d0887\"],[0.1111111111111111,\"#46039f\"],[0.2222222222222222,\"#7201a8\"],[0.3333333333333333,\"#9c179e\"],[0.4444444444444444,\"#bd3786\"],[0.5555555555555556,\"#d8576b\"],[0.6666666666666666,\"#ed7953\"],[0.7777777777777778,\"#fb9f3a\"],[0.8888888888888888,\"#fdca26\"],[1.0,\"#f0f921\"]],\"diverging\":[[0,\"#8e0152\"],[0.1,\"#c51b7d\"],[0.2,\"#de77ae\"],[0.3,\"#f1b6da\"],[0.4,\"#fde0ef\"],[0.5,\"#f7f7f7\"],[0.6,\"#e6f5d0\"],[0.7,\"#b8e186\"],[0.8,\"#7fbc41\"],[0.9,\"#4d9221\"],[1,\"#276419\"]]},\"xaxis\":{\"gridcolor\":\"white\",\"linecolor\":\"white\",\"ticks\":\"\",\"title\":{\"standoff\":15},\"zerolinecolor\":\"white\",\"automargin\":true,\"zerolinewidth\":2},\"yaxis\":{\"gridcolor\":\"white\",\"linecolor\":\"white\",\"ticks\":\"\",\"title\":{\"standoff\":15},\"zerolinecolor\":\"white\",\"automargin\":true,\"zerolinewidth\":2},\"scene\":{\"xaxis\":{\"backgroundcolor\":\"#E5ECF6\",\"gridcolor\":\"white\",\"linecolor\":\"white\",\"showbackground\":true,\"ticks\":\"\",\"zerolinecolor\":\"white\",\"gridwidth\":2},\"yaxis\":{\"backgroundcolor\":\"#E5ECF6\",\"gridcolor\":\"white\",\"linecolor\":\"white\",\"showbackground\":true,\"ticks\":\"\",\"zerolinecolor\":\"white\",\"gridwidth\":2},\"zaxis\":{\"backgroundcolor\":\"#E5ECF6\",\"gridcolor\":\"white\",\"linecolor\":\"white\",\"showbackground\":true,\"ticks\":\"\",\"zerolinecolor\":\"white\",\"gridwidth\":2}},\"shapedefaults\":{\"line\":{\"color\":\"#2a3f5f\"}},\"annotationdefaults\":{\"arrowcolor\":\"#2a3f5f\",\"arrowhead\":0,\"arrowwidth\":1},\"geo\":{\"bgcolor\":\"white\",\"landcolor\":\"#E5ECF6\",\"subunitcolor\":\"white\",\"showland\":true,\"showlakes\":true,\"lakecolor\":\"white\"},\"title\":{\"x\":0.05},\"mapbox\":{\"style\":\"light\"}}},\"xaxis\":{\"anchor\":\"y\",\"domain\":[0.0,1.0],\"title\":{\"text\":\"Year\"}},\"yaxis\":{\"anchor\":\"x\",\"domain\":[0.0,1.0],\"title\":{\"text\":\"Count\"}},\"legend\":{\"tracegroupgap\":0},\"title\":{\"text\":\"Births by Year in Virginia\"}},                        {\"responsive\": true}                    ).then(function(){\n",
       "                            \n",
       "var gd = document.getElementById('510eb4d1-a600-4a33-a8ac-20731e486739');\n",
       "var x = new MutationObserver(function (mutations, observer) {{\n",
       "        var display = window.getComputedStyle(gd).display;\n",
       "        if (!display || display === 'none') {{\n",
       "            console.log([gd, 'removed!']);\n",
       "            Plotly.purge(gd);\n",
       "            observer.disconnect();\n",
       "        }}\n",
       "}});\n",
       "\n",
       "// Listen for the removal of the full notebook cells\n",
       "var notebookContainer = gd.closest('#notebook-container');\n",
       "if (notebookContainer) {{\n",
       "    x.observe(notebookContainer, {childList: true});\n",
       "}}\n",
       "\n",
       "// Listen for the clearing of the current output cell\n",
       "var outputEl = gd.closest('.output');\n",
       "if (outputEl) {{\n",
       "    x.observe(outputEl, {childList: true});\n",
       "}}\n",
       "\n",
       "                        })                };                });            </script>        </div>"
      ]
     },
     "metadata": {},
     "output_type": "display_data"
    }
   ],
   "source": [
    "target_state = df[df['State']=='Virginia']\n",
    "\n",
    "fig = px.line(target_state, x='Year', y='Count', title='Births by Year in Virginia')\n",
    "fig.show()"
   ]
  },
  {
   "cell_type": "code",
   "execution_count": 325,
   "metadata": {},
   "outputs": [],
   "source": [
    "labor_2022 = fert_data.iloc[[10]]\n",
    "labor_2021 = fert_data.iloc[[21]]\n",
    "labor_2019 = fert_data.iloc[[32]]\n",
    "labor_2018 = fert_data.iloc[[43]]\n",
    "labor_2017 = fert_data.iloc[[54]]\n",
    "labor_2016 = fert_data.iloc[[65]]\n",
    "labor_2015 = fert_data.iloc[[76]]\n",
    "labor_2014 = fert_data.iloc[[87]]\n",
    "labor_2013 = fert_data.iloc[[98]]\n",
    "labor_2012 = fert_data.iloc[[109]]\n",
    "labor_2011 = fert_data.iloc[[120]]\n",
    "labor_2010 = fert_data.iloc[[131]]"
   ]
  },
  {
   "cell_type": "code",
   "execution_count": 326,
   "metadata": {},
   "outputs": [],
   "source": [
    "labor_data_years = [(labor_2022, '2022'), (labor_2021, '2021'), (labor_2019, '2019'), \n",
    "              (labor_2018, '2018'), (labor_2017, '2017'), (labor_2016, '2016'), \n",
    "              (labor_2015, '2015'), (labor_2014, '2014'), (labor_2013, '2013'), \n",
    "              (labor_2012, '2012'), (labor_2011, '2011'), (labor_2010, '2010')]"
   ]
  },
  {
   "cell_type": "code",
   "execution_count": 327,
   "metadata": {},
   "outputs": [
    {
     "name": "stderr",
     "output_type": "stream",
     "text": [
      "/var/folders/s4/_nt7r71d05l5phnmnv1hwh3r0000gn/T/ipykernel_63526/3007140586.py:3: UserWarning:\n",
      "\n",
      "DataFrame columns are not unique, some columns will be omitted.\n",
      "\n",
      "/var/folders/s4/_nt7r71d05l5phnmnv1hwh3r0000gn/T/ipykernel_63526/3007140586.py:3: UserWarning:\n",
      "\n",
      "DataFrame columns are not unique, some columns will be omitted.\n",
      "\n",
      "/var/folders/s4/_nt7r71d05l5phnmnv1hwh3r0000gn/T/ipykernel_63526/3007140586.py:3: UserWarning:\n",
      "\n",
      "DataFrame columns are not unique, some columns will be omitted.\n",
      "\n"
     ]
    },
    {
     "name": "stderr",
     "output_type": "stream",
     "text": [
      "/var/folders/s4/_nt7r71d05l5phnmnv1hwh3r0000gn/T/ipykernel_63526/3007140586.py:3: UserWarning:\n",
      "\n",
      "DataFrame columns are not unique, some columns will be omitted.\n",
      "\n",
      "/var/folders/s4/_nt7r71d05l5phnmnv1hwh3r0000gn/T/ipykernel_63526/3007140586.py:3: UserWarning:\n",
      "\n",
      "DataFrame columns are not unique, some columns will be omitted.\n",
      "\n",
      "/var/folders/s4/_nt7r71d05l5phnmnv1hwh3r0000gn/T/ipykernel_63526/3007140586.py:3: UserWarning:\n",
      "\n",
      "DataFrame columns are not unique, some columns will be omitted.\n",
      "\n",
      "/var/folders/s4/_nt7r71d05l5phnmnv1hwh3r0000gn/T/ipykernel_63526/3007140586.py:3: UserWarning:\n",
      "\n",
      "DataFrame columns are not unique, some columns will be omitted.\n",
      "\n",
      "/var/folders/s4/_nt7r71d05l5phnmnv1hwh3r0000gn/T/ipykernel_63526/3007140586.py:3: UserWarning:\n",
      "\n",
      "DataFrame columns are not unique, some columns will be omitted.\n",
      "\n",
      "/var/folders/s4/_nt7r71d05l5phnmnv1hwh3r0000gn/T/ipykernel_63526/3007140586.py:3: UserWarning:\n",
      "\n",
      "DataFrame columns are not unique, some columns will be omitted.\n",
      "\n",
      "/var/folders/s4/_nt7r71d05l5phnmnv1hwh3r0000gn/T/ipykernel_63526/3007140586.py:3: UserWarning:\n",
      "\n",
      "DataFrame columns are not unique, some columns will be omitted.\n",
      "\n",
      "/var/folders/s4/_nt7r71d05l5phnmnv1hwh3r0000gn/T/ipykernel_63526/3007140586.py:3: UserWarning:\n",
      "\n",
      "DataFrame columns are not unique, some columns will be omitted.\n",
      "\n",
      "/var/folders/s4/_nt7r71d05l5phnmnv1hwh3r0000gn/T/ipykernel_63526/3007140586.py:3: UserWarning:\n",
      "\n",
      "DataFrame columns are not unique, some columns will be omitted.\n",
      "\n"
     ]
    }
   ],
   "source": [
    "labor_df, lab_fert_pop_dict, lab_birth_dict, lab_birth_thou_dict = consolidate_dataframe(labor_data_years)\n",
    "#labor_df.rename(columns={'Count': 'Employed'}, inplace=True)"
   ]
  },
  {
   "cell_type": "code",
   "execution_count": 328,
   "metadata": {},
   "outputs": [
    {
     "data": {
      "text/html": [
       "<div>\n",
       "<style scoped>\n",
       "    .dataframe tbody tr th:only-of-type {\n",
       "        vertical-align: middle;\n",
       "    }\n",
       "\n",
       "    .dataframe tbody tr th {\n",
       "        vertical-align: top;\n",
       "    }\n",
       "\n",
       "    .dataframe thead th {\n",
       "        text-align: right;\n",
       "    }\n",
       "</style>\n",
       "<table border=\"1\" class=\"dataframe\">\n",
       "  <thead>\n",
       "    <tr style=\"text-align: right;\">\n",
       "      <th></th>\n",
       "      <th>State</th>\n",
       "      <th>Value</th>\n",
       "      <th>Count</th>\n",
       "      <th>Code</th>\n",
       "      <th>Year</th>\n",
       "    </tr>\n",
       "  </thead>\n",
       "  <tbody>\n",
       "    <tr>\n",
       "      <th>619</th>\n",
       "      <td>Washington</td>\n",
       "      <td>In labor force</td>\n",
       "      <td>53607.0</td>\n",
       "      <td>WA</td>\n",
       "      <td>2010</td>\n",
       "    </tr>\n",
       "    <tr>\n",
       "      <th>620</th>\n",
       "      <td>West Virginia</td>\n",
       "      <td>In labor force</td>\n",
       "      <td>10813.0</td>\n",
       "      <td>WV</td>\n",
       "      <td>2010</td>\n",
       "    </tr>\n",
       "    <tr>\n",
       "      <th>621</th>\n",
       "      <td>Wisconsin</td>\n",
       "      <td>In labor force</td>\n",
       "      <td>53240.0</td>\n",
       "      <td>WI</td>\n",
       "      <td>2010</td>\n",
       "    </tr>\n",
       "    <tr>\n",
       "      <th>622</th>\n",
       "      <td>Wyoming</td>\n",
       "      <td>In labor force</td>\n",
       "      <td>5181.0</td>\n",
       "      <td>WY</td>\n",
       "      <td>2010</td>\n",
       "    </tr>\n",
       "    <tr>\n",
       "      <th>623</th>\n",
       "      <td>Puerto Rico</td>\n",
       "      <td>In labor force</td>\n",
       "      <td>22839.0</td>\n",
       "      <td>PR</td>\n",
       "      <td>2010</td>\n",
       "    </tr>\n",
       "  </tbody>\n",
       "</table>\n",
       "</div>"
      ],
      "text/plain": [
       "             State           Value    Count Code  Year\n",
       "619     Washington  In labor force  53607.0   WA  2010\n",
       "620  West Virginia  In labor force  10813.0   WV  2010\n",
       "621      Wisconsin  In labor force  53240.0   WI  2010\n",
       "622        Wyoming  In labor force   5181.0   WY  2010\n",
       "623    Puerto Rico  In labor force  22839.0   PR  2010"
      ]
     },
     "execution_count": 328,
     "metadata": {},
     "output_type": "execute_result"
    }
   ],
   "source": [
    "labor_df.tail()"
   ]
  },
  {
   "cell_type": "code",
   "execution_count": 329,
   "metadata": {},
   "outputs": [
    {
     "data": {
      "application/vnd.plotly.v1+json": {
       "config": {
        "plotlyServerURL": "https://plot.ly"
       },
       "data": [
        {
         "hovertemplate": "Year=%{x}<br>Count=%{y}<extra></extra>",
         "legendgroup": "",
         "line": {
          "color": "#636efa",
          "dash": "solid"
         },
         "marker": {
          "symbol": "circle"
         },
         "mode": "lines",
         "name": "",
         "orientation": "v",
         "showlegend": false,
         "type": "scatter",
         "x": [
          "2022",
          "2021",
          "2019",
          "2018",
          "2017",
          "2016",
          "2015",
          "2014",
          "2013",
          "2012",
          "2011",
          "2010"
         ],
         "xaxis": "x",
         "y": [
          71427,
          65159,
          67617,
          63801,
          66352,
          66488,
          65116,
          74395,
          61330,
          69328,
          71827,
          67886
         ],
         "yaxis": "y"
        }
       ],
       "layout": {
        "legend": {
         "tracegroupgap": 0
        },
        "template": {
         "data": {
          "bar": [
           {
            "error_x": {
             "color": "#2a3f5f"
            },
            "error_y": {
             "color": "#2a3f5f"
            },
            "marker": {
             "line": {
              "color": "#E5ECF6",
              "width": 0.5
             },
             "pattern": {
              "fillmode": "overlay",
              "size": 10,
              "solidity": 0.2
             }
            },
            "type": "bar"
           }
          ],
          "barpolar": [
           {
            "marker": {
             "line": {
              "color": "#E5ECF6",
              "width": 0.5
             },
             "pattern": {
              "fillmode": "overlay",
              "size": 10,
              "solidity": 0.2
             }
            },
            "type": "barpolar"
           }
          ],
          "carpet": [
           {
            "aaxis": {
             "endlinecolor": "#2a3f5f",
             "gridcolor": "white",
             "linecolor": "white",
             "minorgridcolor": "white",
             "startlinecolor": "#2a3f5f"
            },
            "baxis": {
             "endlinecolor": "#2a3f5f",
             "gridcolor": "white",
             "linecolor": "white",
             "minorgridcolor": "white",
             "startlinecolor": "#2a3f5f"
            },
            "type": "carpet"
           }
          ],
          "choropleth": [
           {
            "colorbar": {
             "outlinewidth": 0,
             "ticks": ""
            },
            "type": "choropleth"
           }
          ],
          "contour": [
           {
            "colorbar": {
             "outlinewidth": 0,
             "ticks": ""
            },
            "colorscale": [
             [
              0,
              "#0d0887"
             ],
             [
              0.1111111111111111,
              "#46039f"
             ],
             [
              0.2222222222222222,
              "#7201a8"
             ],
             [
              0.3333333333333333,
              "#9c179e"
             ],
             [
              0.4444444444444444,
              "#bd3786"
             ],
             [
              0.5555555555555556,
              "#d8576b"
             ],
             [
              0.6666666666666666,
              "#ed7953"
             ],
             [
              0.7777777777777778,
              "#fb9f3a"
             ],
             [
              0.8888888888888888,
              "#fdca26"
             ],
             [
              1,
              "#f0f921"
             ]
            ],
            "type": "contour"
           }
          ],
          "contourcarpet": [
           {
            "colorbar": {
             "outlinewidth": 0,
             "ticks": ""
            },
            "type": "contourcarpet"
           }
          ],
          "heatmap": [
           {
            "colorbar": {
             "outlinewidth": 0,
             "ticks": ""
            },
            "colorscale": [
             [
              0,
              "#0d0887"
             ],
             [
              0.1111111111111111,
              "#46039f"
             ],
             [
              0.2222222222222222,
              "#7201a8"
             ],
             [
              0.3333333333333333,
              "#9c179e"
             ],
             [
              0.4444444444444444,
              "#bd3786"
             ],
             [
              0.5555555555555556,
              "#d8576b"
             ],
             [
              0.6666666666666666,
              "#ed7953"
             ],
             [
              0.7777777777777778,
              "#fb9f3a"
             ],
             [
              0.8888888888888888,
              "#fdca26"
             ],
             [
              1,
              "#f0f921"
             ]
            ],
            "type": "heatmap"
           }
          ],
          "heatmapgl": [
           {
            "colorbar": {
             "outlinewidth": 0,
             "ticks": ""
            },
            "colorscale": [
             [
              0,
              "#0d0887"
             ],
             [
              0.1111111111111111,
              "#46039f"
             ],
             [
              0.2222222222222222,
              "#7201a8"
             ],
             [
              0.3333333333333333,
              "#9c179e"
             ],
             [
              0.4444444444444444,
              "#bd3786"
             ],
             [
              0.5555555555555556,
              "#d8576b"
             ],
             [
              0.6666666666666666,
              "#ed7953"
             ],
             [
              0.7777777777777778,
              "#fb9f3a"
             ],
             [
              0.8888888888888888,
              "#fdca26"
             ],
             [
              1,
              "#f0f921"
             ]
            ],
            "type": "heatmapgl"
           }
          ],
          "histogram": [
           {
            "marker": {
             "pattern": {
              "fillmode": "overlay",
              "size": 10,
              "solidity": 0.2
             }
            },
            "type": "histogram"
           }
          ],
          "histogram2d": [
           {
            "colorbar": {
             "outlinewidth": 0,
             "ticks": ""
            },
            "colorscale": [
             [
              0,
              "#0d0887"
             ],
             [
              0.1111111111111111,
              "#46039f"
             ],
             [
              0.2222222222222222,
              "#7201a8"
             ],
             [
              0.3333333333333333,
              "#9c179e"
             ],
             [
              0.4444444444444444,
              "#bd3786"
             ],
             [
              0.5555555555555556,
              "#d8576b"
             ],
             [
              0.6666666666666666,
              "#ed7953"
             ],
             [
              0.7777777777777778,
              "#fb9f3a"
             ],
             [
              0.8888888888888888,
              "#fdca26"
             ],
             [
              1,
              "#f0f921"
             ]
            ],
            "type": "histogram2d"
           }
          ],
          "histogram2dcontour": [
           {
            "colorbar": {
             "outlinewidth": 0,
             "ticks": ""
            },
            "colorscale": [
             [
              0,
              "#0d0887"
             ],
             [
              0.1111111111111111,
              "#46039f"
             ],
             [
              0.2222222222222222,
              "#7201a8"
             ],
             [
              0.3333333333333333,
              "#9c179e"
             ],
             [
              0.4444444444444444,
              "#bd3786"
             ],
             [
              0.5555555555555556,
              "#d8576b"
             ],
             [
              0.6666666666666666,
              "#ed7953"
             ],
             [
              0.7777777777777778,
              "#fb9f3a"
             ],
             [
              0.8888888888888888,
              "#fdca26"
             ],
             [
              1,
              "#f0f921"
             ]
            ],
            "type": "histogram2dcontour"
           }
          ],
          "mesh3d": [
           {
            "colorbar": {
             "outlinewidth": 0,
             "ticks": ""
            },
            "type": "mesh3d"
           }
          ],
          "parcoords": [
           {
            "line": {
             "colorbar": {
              "outlinewidth": 0,
              "ticks": ""
             }
            },
            "type": "parcoords"
           }
          ],
          "pie": [
           {
            "automargin": true,
            "type": "pie"
           }
          ],
          "scatter": [
           {
            "fillpattern": {
             "fillmode": "overlay",
             "size": 10,
             "solidity": 0.2
            },
            "type": "scatter"
           }
          ],
          "scatter3d": [
           {
            "line": {
             "colorbar": {
              "outlinewidth": 0,
              "ticks": ""
             }
            },
            "marker": {
             "colorbar": {
              "outlinewidth": 0,
              "ticks": ""
             }
            },
            "type": "scatter3d"
           }
          ],
          "scattercarpet": [
           {
            "marker": {
             "colorbar": {
              "outlinewidth": 0,
              "ticks": ""
             }
            },
            "type": "scattercarpet"
           }
          ],
          "scattergeo": [
           {
            "marker": {
             "colorbar": {
              "outlinewidth": 0,
              "ticks": ""
             }
            },
            "type": "scattergeo"
           }
          ],
          "scattergl": [
           {
            "marker": {
             "colorbar": {
              "outlinewidth": 0,
              "ticks": ""
             }
            },
            "type": "scattergl"
           }
          ],
          "scattermapbox": [
           {
            "marker": {
             "colorbar": {
              "outlinewidth": 0,
              "ticks": ""
             }
            },
            "type": "scattermapbox"
           }
          ],
          "scatterpolar": [
           {
            "marker": {
             "colorbar": {
              "outlinewidth": 0,
              "ticks": ""
             }
            },
            "type": "scatterpolar"
           }
          ],
          "scatterpolargl": [
           {
            "marker": {
             "colorbar": {
              "outlinewidth": 0,
              "ticks": ""
             }
            },
            "type": "scatterpolargl"
           }
          ],
          "scatterternary": [
           {
            "marker": {
             "colorbar": {
              "outlinewidth": 0,
              "ticks": ""
             }
            },
            "type": "scatterternary"
           }
          ],
          "surface": [
           {
            "colorbar": {
             "outlinewidth": 0,
             "ticks": ""
            },
            "colorscale": [
             [
              0,
              "#0d0887"
             ],
             [
              0.1111111111111111,
              "#46039f"
             ],
             [
              0.2222222222222222,
              "#7201a8"
             ],
             [
              0.3333333333333333,
              "#9c179e"
             ],
             [
              0.4444444444444444,
              "#bd3786"
             ],
             [
              0.5555555555555556,
              "#d8576b"
             ],
             [
              0.6666666666666666,
              "#ed7953"
             ],
             [
              0.7777777777777778,
              "#fb9f3a"
             ],
             [
              0.8888888888888888,
              "#fdca26"
             ],
             [
              1,
              "#f0f921"
             ]
            ],
            "type": "surface"
           }
          ],
          "table": [
           {
            "cells": {
             "fill": {
              "color": "#EBF0F8"
             },
             "line": {
              "color": "white"
             }
            },
            "header": {
             "fill": {
              "color": "#C8D4E3"
             },
             "line": {
              "color": "white"
             }
            },
            "type": "table"
           }
          ]
         },
         "layout": {
          "annotationdefaults": {
           "arrowcolor": "#2a3f5f",
           "arrowhead": 0,
           "arrowwidth": 1
          },
          "autotypenumbers": "strict",
          "coloraxis": {
           "colorbar": {
            "outlinewidth": 0,
            "ticks": ""
           }
          },
          "colorscale": {
           "diverging": [
            [
             0,
             "#8e0152"
            ],
            [
             0.1,
             "#c51b7d"
            ],
            [
             0.2,
             "#de77ae"
            ],
            [
             0.3,
             "#f1b6da"
            ],
            [
             0.4,
             "#fde0ef"
            ],
            [
             0.5,
             "#f7f7f7"
            ],
            [
             0.6,
             "#e6f5d0"
            ],
            [
             0.7,
             "#b8e186"
            ],
            [
             0.8,
             "#7fbc41"
            ],
            [
             0.9,
             "#4d9221"
            ],
            [
             1,
             "#276419"
            ]
           ],
           "sequential": [
            [
             0,
             "#0d0887"
            ],
            [
             0.1111111111111111,
             "#46039f"
            ],
            [
             0.2222222222222222,
             "#7201a8"
            ],
            [
             0.3333333333333333,
             "#9c179e"
            ],
            [
             0.4444444444444444,
             "#bd3786"
            ],
            [
             0.5555555555555556,
             "#d8576b"
            ],
            [
             0.6666666666666666,
             "#ed7953"
            ],
            [
             0.7777777777777778,
             "#fb9f3a"
            ],
            [
             0.8888888888888888,
             "#fdca26"
            ],
            [
             1,
             "#f0f921"
            ]
           ],
           "sequentialminus": [
            [
             0,
             "#0d0887"
            ],
            [
             0.1111111111111111,
             "#46039f"
            ],
            [
             0.2222222222222222,
             "#7201a8"
            ],
            [
             0.3333333333333333,
             "#9c179e"
            ],
            [
             0.4444444444444444,
             "#bd3786"
            ],
            [
             0.5555555555555556,
             "#d8576b"
            ],
            [
             0.6666666666666666,
             "#ed7953"
            ],
            [
             0.7777777777777778,
             "#fb9f3a"
            ],
            [
             0.8888888888888888,
             "#fdca26"
            ],
            [
             1,
             "#f0f921"
            ]
           ]
          },
          "colorway": [
           "#636efa",
           "#EF553B",
           "#00cc96",
           "#ab63fa",
           "#FFA15A",
           "#19d3f3",
           "#FF6692",
           "#B6E880",
           "#FF97FF",
           "#FECB52"
          ],
          "font": {
           "color": "#2a3f5f"
          },
          "geo": {
           "bgcolor": "white",
           "lakecolor": "white",
           "landcolor": "#E5ECF6",
           "showlakes": true,
           "showland": true,
           "subunitcolor": "white"
          },
          "hoverlabel": {
           "align": "left"
          },
          "hovermode": "closest",
          "mapbox": {
           "style": "light"
          },
          "paper_bgcolor": "white",
          "plot_bgcolor": "#E5ECF6",
          "polar": {
           "angularaxis": {
            "gridcolor": "white",
            "linecolor": "white",
            "ticks": ""
           },
           "bgcolor": "#E5ECF6",
           "radialaxis": {
            "gridcolor": "white",
            "linecolor": "white",
            "ticks": ""
           }
          },
          "scene": {
           "xaxis": {
            "backgroundcolor": "#E5ECF6",
            "gridcolor": "white",
            "gridwidth": 2,
            "linecolor": "white",
            "showbackground": true,
            "ticks": "",
            "zerolinecolor": "white"
           },
           "yaxis": {
            "backgroundcolor": "#E5ECF6",
            "gridcolor": "white",
            "gridwidth": 2,
            "linecolor": "white",
            "showbackground": true,
            "ticks": "",
            "zerolinecolor": "white"
           },
           "zaxis": {
            "backgroundcolor": "#E5ECF6",
            "gridcolor": "white",
            "gridwidth": 2,
            "linecolor": "white",
            "showbackground": true,
            "ticks": "",
            "zerolinecolor": "white"
           }
          },
          "shapedefaults": {
           "line": {
            "color": "#2a3f5f"
           }
          },
          "ternary": {
           "aaxis": {
            "gridcolor": "white",
            "linecolor": "white",
            "ticks": ""
           },
           "baxis": {
            "gridcolor": "white",
            "linecolor": "white",
            "ticks": ""
           },
           "bgcolor": "#E5ECF6",
           "caxis": {
            "gridcolor": "white",
            "linecolor": "white",
            "ticks": ""
           }
          },
          "title": {
           "x": 0.05
          },
          "xaxis": {
           "automargin": true,
           "gridcolor": "white",
           "linecolor": "white",
           "ticks": "",
           "title": {
            "standoff": 15
           },
           "zerolinecolor": "white",
           "zerolinewidth": 2
          },
          "yaxis": {
           "automargin": true,
           "gridcolor": "white",
           "linecolor": "white",
           "ticks": "",
           "title": {
            "standoff": 15
           },
           "zerolinecolor": "white",
           "zerolinewidth": 2
          }
         }
        },
        "title": {
         "text": "Women who gave birth in employment for Virginia"
        },
        "xaxis": {
         "anchor": "y",
         "domain": [
          0,
          1
         ],
         "title": {
          "text": "Year"
         }
        },
        "yaxis": {
         "anchor": "x",
         "domain": [
          0,
          1
         ],
         "title": {
          "text": "Count"
         }
        }
       }
      },
      "text/html": [
       "<div>                            <div id=\"e8ad19e9-9c66-4abd-8b87-2dc8686c2f42\" class=\"plotly-graph-div\" style=\"height:525px; width:100%;\"></div>            <script type=\"text/javascript\">                require([\"plotly\"], function(Plotly) {                    window.PLOTLYENV=window.PLOTLYENV || {};                                    if (document.getElementById(\"e8ad19e9-9c66-4abd-8b87-2dc8686c2f42\")) {                    Plotly.newPlot(                        \"e8ad19e9-9c66-4abd-8b87-2dc8686c2f42\",                        [{\"hovertemplate\":\"Year=%{x}\\u003cbr\\u003eCount=%{y}\\u003cextra\\u003e\\u003c\\u002fextra\\u003e\",\"legendgroup\":\"\",\"line\":{\"color\":\"#636efa\",\"dash\":\"solid\"},\"marker\":{\"symbol\":\"circle\"},\"mode\":\"lines\",\"name\":\"\",\"orientation\":\"v\",\"showlegend\":false,\"x\":[\"2022\",\"2021\",\"2019\",\"2018\",\"2017\",\"2016\",\"2015\",\"2014\",\"2013\",\"2012\",\"2011\",\"2010\"],\"xaxis\":\"x\",\"y\":[71427.0,65159.0,67617.0,63801.0,66352.0,66488.0,65116.0,74395.0,61330.0,69328.0,71827.0,67886.0],\"yaxis\":\"y\",\"type\":\"scatter\"}],                        {\"template\":{\"data\":{\"histogram2dcontour\":[{\"type\":\"histogram2dcontour\",\"colorbar\":{\"outlinewidth\":0,\"ticks\":\"\"},\"colorscale\":[[0.0,\"#0d0887\"],[0.1111111111111111,\"#46039f\"],[0.2222222222222222,\"#7201a8\"],[0.3333333333333333,\"#9c179e\"],[0.4444444444444444,\"#bd3786\"],[0.5555555555555556,\"#d8576b\"],[0.6666666666666666,\"#ed7953\"],[0.7777777777777778,\"#fb9f3a\"],[0.8888888888888888,\"#fdca26\"],[1.0,\"#f0f921\"]]}],\"choropleth\":[{\"type\":\"choropleth\",\"colorbar\":{\"outlinewidth\":0,\"ticks\":\"\"}}],\"histogram2d\":[{\"type\":\"histogram2d\",\"colorbar\":{\"outlinewidth\":0,\"ticks\":\"\"},\"colorscale\":[[0.0,\"#0d0887\"],[0.1111111111111111,\"#46039f\"],[0.2222222222222222,\"#7201a8\"],[0.3333333333333333,\"#9c179e\"],[0.4444444444444444,\"#bd3786\"],[0.5555555555555556,\"#d8576b\"],[0.6666666666666666,\"#ed7953\"],[0.7777777777777778,\"#fb9f3a\"],[0.8888888888888888,\"#fdca26\"],[1.0,\"#f0f921\"]]}],\"heatmap\":[{\"type\":\"heatmap\",\"colorbar\":{\"outlinewidth\":0,\"ticks\":\"\"},\"colorscale\":[[0.0,\"#0d0887\"],[0.1111111111111111,\"#46039f\"],[0.2222222222222222,\"#7201a8\"],[0.3333333333333333,\"#9c179e\"],[0.4444444444444444,\"#bd3786\"],[0.5555555555555556,\"#d8576b\"],[0.6666666666666666,\"#ed7953\"],[0.7777777777777778,\"#fb9f3a\"],[0.8888888888888888,\"#fdca26\"],[1.0,\"#f0f921\"]]}],\"heatmapgl\":[{\"type\":\"heatmapgl\",\"colorbar\":{\"outlinewidth\":0,\"ticks\":\"\"},\"colorscale\":[[0.0,\"#0d0887\"],[0.1111111111111111,\"#46039f\"],[0.2222222222222222,\"#7201a8\"],[0.3333333333333333,\"#9c179e\"],[0.4444444444444444,\"#bd3786\"],[0.5555555555555556,\"#d8576b\"],[0.6666666666666666,\"#ed7953\"],[0.7777777777777778,\"#fb9f3a\"],[0.8888888888888888,\"#fdca26\"],[1.0,\"#f0f921\"]]}],\"contourcarpet\":[{\"type\":\"contourcarpet\",\"colorbar\":{\"outlinewidth\":0,\"ticks\":\"\"}}],\"contour\":[{\"type\":\"contour\",\"colorbar\":{\"outlinewidth\":0,\"ticks\":\"\"},\"colorscale\":[[0.0,\"#0d0887\"],[0.1111111111111111,\"#46039f\"],[0.2222222222222222,\"#7201a8\"],[0.3333333333333333,\"#9c179e\"],[0.4444444444444444,\"#bd3786\"],[0.5555555555555556,\"#d8576b\"],[0.6666666666666666,\"#ed7953\"],[0.7777777777777778,\"#fb9f3a\"],[0.8888888888888888,\"#fdca26\"],[1.0,\"#f0f921\"]]}],\"surface\":[{\"type\":\"surface\",\"colorbar\":{\"outlinewidth\":0,\"ticks\":\"\"},\"colorscale\":[[0.0,\"#0d0887\"],[0.1111111111111111,\"#46039f\"],[0.2222222222222222,\"#7201a8\"],[0.3333333333333333,\"#9c179e\"],[0.4444444444444444,\"#bd3786\"],[0.5555555555555556,\"#d8576b\"],[0.6666666666666666,\"#ed7953\"],[0.7777777777777778,\"#fb9f3a\"],[0.8888888888888888,\"#fdca26\"],[1.0,\"#f0f921\"]]}],\"mesh3d\":[{\"type\":\"mesh3d\",\"colorbar\":{\"outlinewidth\":0,\"ticks\":\"\"}}],\"scatter\":[{\"fillpattern\":{\"fillmode\":\"overlay\",\"size\":10,\"solidity\":0.2},\"type\":\"scatter\"}],\"parcoords\":[{\"type\":\"parcoords\",\"line\":{\"colorbar\":{\"outlinewidth\":0,\"ticks\":\"\"}}}],\"scatterpolargl\":[{\"type\":\"scatterpolargl\",\"marker\":{\"colorbar\":{\"outlinewidth\":0,\"ticks\":\"\"}}}],\"bar\":[{\"error_x\":{\"color\":\"#2a3f5f\"},\"error_y\":{\"color\":\"#2a3f5f\"},\"marker\":{\"line\":{\"color\":\"#E5ECF6\",\"width\":0.5},\"pattern\":{\"fillmode\":\"overlay\",\"size\":10,\"solidity\":0.2}},\"type\":\"bar\"}],\"scattergeo\":[{\"type\":\"scattergeo\",\"marker\":{\"colorbar\":{\"outlinewidth\":0,\"ticks\":\"\"}}}],\"scatterpolar\":[{\"type\":\"scatterpolar\",\"marker\":{\"colorbar\":{\"outlinewidth\":0,\"ticks\":\"\"}}}],\"histogram\":[{\"marker\":{\"pattern\":{\"fillmode\":\"overlay\",\"size\":10,\"solidity\":0.2}},\"type\":\"histogram\"}],\"scattergl\":[{\"type\":\"scattergl\",\"marker\":{\"colorbar\":{\"outlinewidth\":0,\"ticks\":\"\"}}}],\"scatter3d\":[{\"type\":\"scatter3d\",\"line\":{\"colorbar\":{\"outlinewidth\":0,\"ticks\":\"\"}},\"marker\":{\"colorbar\":{\"outlinewidth\":0,\"ticks\":\"\"}}}],\"scattermapbox\":[{\"type\":\"scattermapbox\",\"marker\":{\"colorbar\":{\"outlinewidth\":0,\"ticks\":\"\"}}}],\"scatterternary\":[{\"type\":\"scatterternary\",\"marker\":{\"colorbar\":{\"outlinewidth\":0,\"ticks\":\"\"}}}],\"scattercarpet\":[{\"type\":\"scattercarpet\",\"marker\":{\"colorbar\":{\"outlinewidth\":0,\"ticks\":\"\"}}}],\"carpet\":[{\"aaxis\":{\"endlinecolor\":\"#2a3f5f\",\"gridcolor\":\"white\",\"linecolor\":\"white\",\"minorgridcolor\":\"white\",\"startlinecolor\":\"#2a3f5f\"},\"baxis\":{\"endlinecolor\":\"#2a3f5f\",\"gridcolor\":\"white\",\"linecolor\":\"white\",\"minorgridcolor\":\"white\",\"startlinecolor\":\"#2a3f5f\"},\"type\":\"carpet\"}],\"table\":[{\"cells\":{\"fill\":{\"color\":\"#EBF0F8\"},\"line\":{\"color\":\"white\"}},\"header\":{\"fill\":{\"color\":\"#C8D4E3\"},\"line\":{\"color\":\"white\"}},\"type\":\"table\"}],\"barpolar\":[{\"marker\":{\"line\":{\"color\":\"#E5ECF6\",\"width\":0.5},\"pattern\":{\"fillmode\":\"overlay\",\"size\":10,\"solidity\":0.2}},\"type\":\"barpolar\"}],\"pie\":[{\"automargin\":true,\"type\":\"pie\"}]},\"layout\":{\"autotypenumbers\":\"strict\",\"colorway\":[\"#636efa\",\"#EF553B\",\"#00cc96\",\"#ab63fa\",\"#FFA15A\",\"#19d3f3\",\"#FF6692\",\"#B6E880\",\"#FF97FF\",\"#FECB52\"],\"font\":{\"color\":\"#2a3f5f\"},\"hovermode\":\"closest\",\"hoverlabel\":{\"align\":\"left\"},\"paper_bgcolor\":\"white\",\"plot_bgcolor\":\"#E5ECF6\",\"polar\":{\"bgcolor\":\"#E5ECF6\",\"angularaxis\":{\"gridcolor\":\"white\",\"linecolor\":\"white\",\"ticks\":\"\"},\"radialaxis\":{\"gridcolor\":\"white\",\"linecolor\":\"white\",\"ticks\":\"\"}},\"ternary\":{\"bgcolor\":\"#E5ECF6\",\"aaxis\":{\"gridcolor\":\"white\",\"linecolor\":\"white\",\"ticks\":\"\"},\"baxis\":{\"gridcolor\":\"white\",\"linecolor\":\"white\",\"ticks\":\"\"},\"caxis\":{\"gridcolor\":\"white\",\"linecolor\":\"white\",\"ticks\":\"\"}},\"coloraxis\":{\"colorbar\":{\"outlinewidth\":0,\"ticks\":\"\"}},\"colorscale\":{\"sequential\":[[0.0,\"#0d0887\"],[0.1111111111111111,\"#46039f\"],[0.2222222222222222,\"#7201a8\"],[0.3333333333333333,\"#9c179e\"],[0.4444444444444444,\"#bd3786\"],[0.5555555555555556,\"#d8576b\"],[0.6666666666666666,\"#ed7953\"],[0.7777777777777778,\"#fb9f3a\"],[0.8888888888888888,\"#fdca26\"],[1.0,\"#f0f921\"]],\"sequentialminus\":[[0.0,\"#0d0887\"],[0.1111111111111111,\"#46039f\"],[0.2222222222222222,\"#7201a8\"],[0.3333333333333333,\"#9c179e\"],[0.4444444444444444,\"#bd3786\"],[0.5555555555555556,\"#d8576b\"],[0.6666666666666666,\"#ed7953\"],[0.7777777777777778,\"#fb9f3a\"],[0.8888888888888888,\"#fdca26\"],[1.0,\"#f0f921\"]],\"diverging\":[[0,\"#8e0152\"],[0.1,\"#c51b7d\"],[0.2,\"#de77ae\"],[0.3,\"#f1b6da\"],[0.4,\"#fde0ef\"],[0.5,\"#f7f7f7\"],[0.6,\"#e6f5d0\"],[0.7,\"#b8e186\"],[0.8,\"#7fbc41\"],[0.9,\"#4d9221\"],[1,\"#276419\"]]},\"xaxis\":{\"gridcolor\":\"white\",\"linecolor\":\"white\",\"ticks\":\"\",\"title\":{\"standoff\":15},\"zerolinecolor\":\"white\",\"automargin\":true,\"zerolinewidth\":2},\"yaxis\":{\"gridcolor\":\"white\",\"linecolor\":\"white\",\"ticks\":\"\",\"title\":{\"standoff\":15},\"zerolinecolor\":\"white\",\"automargin\":true,\"zerolinewidth\":2},\"scene\":{\"xaxis\":{\"backgroundcolor\":\"#E5ECF6\",\"gridcolor\":\"white\",\"linecolor\":\"white\",\"showbackground\":true,\"ticks\":\"\",\"zerolinecolor\":\"white\",\"gridwidth\":2},\"yaxis\":{\"backgroundcolor\":\"#E5ECF6\",\"gridcolor\":\"white\",\"linecolor\":\"white\",\"showbackground\":true,\"ticks\":\"\",\"zerolinecolor\":\"white\",\"gridwidth\":2},\"zaxis\":{\"backgroundcolor\":\"#E5ECF6\",\"gridcolor\":\"white\",\"linecolor\":\"white\",\"showbackground\":true,\"ticks\":\"\",\"zerolinecolor\":\"white\",\"gridwidth\":2}},\"shapedefaults\":{\"line\":{\"color\":\"#2a3f5f\"}},\"annotationdefaults\":{\"arrowcolor\":\"#2a3f5f\",\"arrowhead\":0,\"arrowwidth\":1},\"geo\":{\"bgcolor\":\"white\",\"landcolor\":\"#E5ECF6\",\"subunitcolor\":\"white\",\"showland\":true,\"showlakes\":true,\"lakecolor\":\"white\"},\"title\":{\"x\":0.05},\"mapbox\":{\"style\":\"light\"}}},\"xaxis\":{\"anchor\":\"y\",\"domain\":[0.0,1.0],\"title\":{\"text\":\"Year\"}},\"yaxis\":{\"anchor\":\"x\",\"domain\":[0.0,1.0],\"title\":{\"text\":\"Count\"}},\"legend\":{\"tracegroupgap\":0},\"title\":{\"text\":\"Women who gave birth in employment for Virginia\"}},                        {\"responsive\": true}                    ).then(function(){\n",
       "                            \n",
       "var gd = document.getElementById('e8ad19e9-9c66-4abd-8b87-2dc8686c2f42');\n",
       "var x = new MutationObserver(function (mutations, observer) {{\n",
       "        var display = window.getComputedStyle(gd).display;\n",
       "        if (!display || display === 'none') {{\n",
       "            console.log([gd, 'removed!']);\n",
       "            Plotly.purge(gd);\n",
       "            observer.disconnect();\n",
       "        }}\n",
       "}});\n",
       "\n",
       "// Listen for the removal of the full notebook cells\n",
       "var notebookContainer = gd.closest('#notebook-container');\n",
       "if (notebookContainer) {{\n",
       "    x.observe(notebookContainer, {childList: true});\n",
       "}}\n",
       "\n",
       "// Listen for the clearing of the current output cell\n",
       "var outputEl = gd.closest('.output');\n",
       "if (outputEl) {{\n",
       "    x.observe(outputEl, {childList: true});\n",
       "}}\n",
       "\n",
       "                        })                };                });            </script>        </div>"
      ]
     },
     "metadata": {},
     "output_type": "display_data"
    }
   ],
   "source": [
    "target_state_lab = labor_df[labor_df['State']=='Virginia']\n",
    "\n",
    "fig = px.line(target_state_lab, x='Year', y='Count', title='Women who gave birth in employment for Virginia')\n",
    "fig.show()"
   ]
  },
  {
   "cell_type": "code",
   "execution_count": 330,
   "metadata": {},
   "outputs": [],
   "source": [
    "consol_df = pd.concat([df,labor_df])"
   ]
  },
  {
   "cell_type": "code",
   "execution_count": 331,
   "metadata": {},
   "outputs": [
    {
     "data": {
      "text/html": [
       "<div>\n",
       "<style scoped>\n",
       "    .dataframe tbody tr th:only-of-type {\n",
       "        vertical-align: middle;\n",
       "    }\n",
       "\n",
       "    .dataframe tbody tr th {\n",
       "        vertical-align: top;\n",
       "    }\n",
       "\n",
       "    .dataframe thead th {\n",
       "        text-align: right;\n",
       "    }\n",
       "</style>\n",
       "<table border=\"1\" class=\"dataframe\">\n",
       "  <thead>\n",
       "    <tr style=\"text-align: right;\">\n",
       "      <th></th>\n",
       "      <th>State</th>\n",
       "      <th>Value</th>\n",
       "      <th>Count</th>\n",
       "      <th>Code</th>\n",
       "      <th>Year</th>\n",
       "    </tr>\n",
       "  </thead>\n",
       "  <tbody>\n",
       "    <tr>\n",
       "      <th>619</th>\n",
       "      <td>Washington</td>\n",
       "      <td>In labor force</td>\n",
       "      <td>53607.0</td>\n",
       "      <td>WA</td>\n",
       "      <td>2010</td>\n",
       "    </tr>\n",
       "    <tr>\n",
       "      <th>620</th>\n",
       "      <td>West Virginia</td>\n",
       "      <td>In labor force</td>\n",
       "      <td>10813.0</td>\n",
       "      <td>WV</td>\n",
       "      <td>2010</td>\n",
       "    </tr>\n",
       "    <tr>\n",
       "      <th>621</th>\n",
       "      <td>Wisconsin</td>\n",
       "      <td>In labor force</td>\n",
       "      <td>53240.0</td>\n",
       "      <td>WI</td>\n",
       "      <td>2010</td>\n",
       "    </tr>\n",
       "    <tr>\n",
       "      <th>622</th>\n",
       "      <td>Wyoming</td>\n",
       "      <td>In labor force</td>\n",
       "      <td>5181.0</td>\n",
       "      <td>WY</td>\n",
       "      <td>2010</td>\n",
       "    </tr>\n",
       "    <tr>\n",
       "      <th>623</th>\n",
       "      <td>Puerto Rico</td>\n",
       "      <td>In labor force</td>\n",
       "      <td>22839.0</td>\n",
       "      <td>PR</td>\n",
       "      <td>2010</td>\n",
       "    </tr>\n",
       "  </tbody>\n",
       "</table>\n",
       "</div>"
      ],
      "text/plain": [
       "             State           Value    Count Code  Year\n",
       "619     Washington  In labor force  53607.0   WA  2010\n",
       "620  West Virginia  In labor force  10813.0   WV  2010\n",
       "621      Wisconsin  In labor force  53240.0   WI  2010\n",
       "622        Wyoming  In labor force   5181.0   WY  2010\n",
       "623    Puerto Rico  In labor force  22839.0   PR  2010"
      ]
     },
     "execution_count": 331,
     "metadata": {},
     "output_type": "execute_result"
    }
   ],
   "source": [
    "consol_df.tail()"
   ]
  },
  {
   "cell_type": "code",
   "execution_count": 332,
   "metadata": {},
   "outputs": [
    {
     "data": {
      "application/vnd.plotly.v1+json": {
       "config": {
        "plotlyServerURL": "https://plot.ly"
       },
       "data": [
        {
         "hovertemplate": "Value=Women 15 to 50 years<br>Year=%{x}<br>Count=%{y}<extra></extra>",
         "legendgroup": "Women 15 to 50 years",
         "line": {
          "color": "#636efa",
          "dash": "solid"
         },
         "marker": {
          "symbol": "circle"
         },
         "mode": "lines",
         "name": "Women 15 to 50 years",
         "orientation": "v",
         "showlegend": true,
         "type": "scatter",
         "x": [
          "2022",
          "2021",
          "2019",
          "2018",
          "2017",
          "2016",
          "2015",
          "2014",
          "2013",
          "2012",
          "2011",
          "2010"
         ],
         "xaxis": "x",
         "y": [
          104539,
          96332,
          98004,
          99351,
          100976,
          100200,
          102870,
          113223,
          102576,
          108748,
          110163,
          105477
         ],
         "yaxis": "y"
        },
        {
         "hovertemplate": "Value=In labor force<br>Year=%{x}<br>Count=%{y}<extra></extra>",
         "legendgroup": "In labor force",
         "line": {
          "color": "#EF553B",
          "dash": "solid"
         },
         "marker": {
          "symbol": "circle"
         },
         "mode": "lines",
         "name": "In labor force",
         "orientation": "v",
         "showlegend": true,
         "type": "scatter",
         "x": [
          "2022",
          "2021",
          "2019",
          "2018",
          "2017",
          "2016",
          "2015",
          "2014",
          "2013",
          "2012",
          "2011",
          "2010"
         ],
         "xaxis": "x",
         "y": [
          71427,
          65159,
          67617,
          63801,
          66352,
          66488,
          65116,
          74395,
          61330,
          69328,
          71827,
          67886
         ],
         "yaxis": "y"
        }
       ],
       "layout": {
        "legend": {
         "title": {
          "text": "Value"
         },
         "tracegroupgap": 0
        },
        "template": {
         "data": {
          "bar": [
           {
            "error_x": {
             "color": "#2a3f5f"
            },
            "error_y": {
             "color": "#2a3f5f"
            },
            "marker": {
             "line": {
              "color": "#E5ECF6",
              "width": 0.5
             },
             "pattern": {
              "fillmode": "overlay",
              "size": 10,
              "solidity": 0.2
             }
            },
            "type": "bar"
           }
          ],
          "barpolar": [
           {
            "marker": {
             "line": {
              "color": "#E5ECF6",
              "width": 0.5
             },
             "pattern": {
              "fillmode": "overlay",
              "size": 10,
              "solidity": 0.2
             }
            },
            "type": "barpolar"
           }
          ],
          "carpet": [
           {
            "aaxis": {
             "endlinecolor": "#2a3f5f",
             "gridcolor": "white",
             "linecolor": "white",
             "minorgridcolor": "white",
             "startlinecolor": "#2a3f5f"
            },
            "baxis": {
             "endlinecolor": "#2a3f5f",
             "gridcolor": "white",
             "linecolor": "white",
             "minorgridcolor": "white",
             "startlinecolor": "#2a3f5f"
            },
            "type": "carpet"
           }
          ],
          "choropleth": [
           {
            "colorbar": {
             "outlinewidth": 0,
             "ticks": ""
            },
            "type": "choropleth"
           }
          ],
          "contour": [
           {
            "colorbar": {
             "outlinewidth": 0,
             "ticks": ""
            },
            "colorscale": [
             [
              0,
              "#0d0887"
             ],
             [
              0.1111111111111111,
              "#46039f"
             ],
             [
              0.2222222222222222,
              "#7201a8"
             ],
             [
              0.3333333333333333,
              "#9c179e"
             ],
             [
              0.4444444444444444,
              "#bd3786"
             ],
             [
              0.5555555555555556,
              "#d8576b"
             ],
             [
              0.6666666666666666,
              "#ed7953"
             ],
             [
              0.7777777777777778,
              "#fb9f3a"
             ],
             [
              0.8888888888888888,
              "#fdca26"
             ],
             [
              1,
              "#f0f921"
             ]
            ],
            "type": "contour"
           }
          ],
          "contourcarpet": [
           {
            "colorbar": {
             "outlinewidth": 0,
             "ticks": ""
            },
            "type": "contourcarpet"
           }
          ],
          "heatmap": [
           {
            "colorbar": {
             "outlinewidth": 0,
             "ticks": ""
            },
            "colorscale": [
             [
              0,
              "#0d0887"
             ],
             [
              0.1111111111111111,
              "#46039f"
             ],
             [
              0.2222222222222222,
              "#7201a8"
             ],
             [
              0.3333333333333333,
              "#9c179e"
             ],
             [
              0.4444444444444444,
              "#bd3786"
             ],
             [
              0.5555555555555556,
              "#d8576b"
             ],
             [
              0.6666666666666666,
              "#ed7953"
             ],
             [
              0.7777777777777778,
              "#fb9f3a"
             ],
             [
              0.8888888888888888,
              "#fdca26"
             ],
             [
              1,
              "#f0f921"
             ]
            ],
            "type": "heatmap"
           }
          ],
          "heatmapgl": [
           {
            "colorbar": {
             "outlinewidth": 0,
             "ticks": ""
            },
            "colorscale": [
             [
              0,
              "#0d0887"
             ],
             [
              0.1111111111111111,
              "#46039f"
             ],
             [
              0.2222222222222222,
              "#7201a8"
             ],
             [
              0.3333333333333333,
              "#9c179e"
             ],
             [
              0.4444444444444444,
              "#bd3786"
             ],
             [
              0.5555555555555556,
              "#d8576b"
             ],
             [
              0.6666666666666666,
              "#ed7953"
             ],
             [
              0.7777777777777778,
              "#fb9f3a"
             ],
             [
              0.8888888888888888,
              "#fdca26"
             ],
             [
              1,
              "#f0f921"
             ]
            ],
            "type": "heatmapgl"
           }
          ],
          "histogram": [
           {
            "marker": {
             "pattern": {
              "fillmode": "overlay",
              "size": 10,
              "solidity": 0.2
             }
            },
            "type": "histogram"
           }
          ],
          "histogram2d": [
           {
            "colorbar": {
             "outlinewidth": 0,
             "ticks": ""
            },
            "colorscale": [
             [
              0,
              "#0d0887"
             ],
             [
              0.1111111111111111,
              "#46039f"
             ],
             [
              0.2222222222222222,
              "#7201a8"
             ],
             [
              0.3333333333333333,
              "#9c179e"
             ],
             [
              0.4444444444444444,
              "#bd3786"
             ],
             [
              0.5555555555555556,
              "#d8576b"
             ],
             [
              0.6666666666666666,
              "#ed7953"
             ],
             [
              0.7777777777777778,
              "#fb9f3a"
             ],
             [
              0.8888888888888888,
              "#fdca26"
             ],
             [
              1,
              "#f0f921"
             ]
            ],
            "type": "histogram2d"
           }
          ],
          "histogram2dcontour": [
           {
            "colorbar": {
             "outlinewidth": 0,
             "ticks": ""
            },
            "colorscale": [
             [
              0,
              "#0d0887"
             ],
             [
              0.1111111111111111,
              "#46039f"
             ],
             [
              0.2222222222222222,
              "#7201a8"
             ],
             [
              0.3333333333333333,
              "#9c179e"
             ],
             [
              0.4444444444444444,
              "#bd3786"
             ],
             [
              0.5555555555555556,
              "#d8576b"
             ],
             [
              0.6666666666666666,
              "#ed7953"
             ],
             [
              0.7777777777777778,
              "#fb9f3a"
             ],
             [
              0.8888888888888888,
              "#fdca26"
             ],
             [
              1,
              "#f0f921"
             ]
            ],
            "type": "histogram2dcontour"
           }
          ],
          "mesh3d": [
           {
            "colorbar": {
             "outlinewidth": 0,
             "ticks": ""
            },
            "type": "mesh3d"
           }
          ],
          "parcoords": [
           {
            "line": {
             "colorbar": {
              "outlinewidth": 0,
              "ticks": ""
             }
            },
            "type": "parcoords"
           }
          ],
          "pie": [
           {
            "automargin": true,
            "type": "pie"
           }
          ],
          "scatter": [
           {
            "fillpattern": {
             "fillmode": "overlay",
             "size": 10,
             "solidity": 0.2
            },
            "type": "scatter"
           }
          ],
          "scatter3d": [
           {
            "line": {
             "colorbar": {
              "outlinewidth": 0,
              "ticks": ""
             }
            },
            "marker": {
             "colorbar": {
              "outlinewidth": 0,
              "ticks": ""
             }
            },
            "type": "scatter3d"
           }
          ],
          "scattercarpet": [
           {
            "marker": {
             "colorbar": {
              "outlinewidth": 0,
              "ticks": ""
             }
            },
            "type": "scattercarpet"
           }
          ],
          "scattergeo": [
           {
            "marker": {
             "colorbar": {
              "outlinewidth": 0,
              "ticks": ""
             }
            },
            "type": "scattergeo"
           }
          ],
          "scattergl": [
           {
            "marker": {
             "colorbar": {
              "outlinewidth": 0,
              "ticks": ""
             }
            },
            "type": "scattergl"
           }
          ],
          "scattermapbox": [
           {
            "marker": {
             "colorbar": {
              "outlinewidth": 0,
              "ticks": ""
             }
            },
            "type": "scattermapbox"
           }
          ],
          "scatterpolar": [
           {
            "marker": {
             "colorbar": {
              "outlinewidth": 0,
              "ticks": ""
             }
            },
            "type": "scatterpolar"
           }
          ],
          "scatterpolargl": [
           {
            "marker": {
             "colorbar": {
              "outlinewidth": 0,
              "ticks": ""
             }
            },
            "type": "scatterpolargl"
           }
          ],
          "scatterternary": [
           {
            "marker": {
             "colorbar": {
              "outlinewidth": 0,
              "ticks": ""
             }
            },
            "type": "scatterternary"
           }
          ],
          "surface": [
           {
            "colorbar": {
             "outlinewidth": 0,
             "ticks": ""
            },
            "colorscale": [
             [
              0,
              "#0d0887"
             ],
             [
              0.1111111111111111,
              "#46039f"
             ],
             [
              0.2222222222222222,
              "#7201a8"
             ],
             [
              0.3333333333333333,
              "#9c179e"
             ],
             [
              0.4444444444444444,
              "#bd3786"
             ],
             [
              0.5555555555555556,
              "#d8576b"
             ],
             [
              0.6666666666666666,
              "#ed7953"
             ],
             [
              0.7777777777777778,
              "#fb9f3a"
             ],
             [
              0.8888888888888888,
              "#fdca26"
             ],
             [
              1,
              "#f0f921"
             ]
            ],
            "type": "surface"
           }
          ],
          "table": [
           {
            "cells": {
             "fill": {
              "color": "#EBF0F8"
             },
             "line": {
              "color": "white"
             }
            },
            "header": {
             "fill": {
              "color": "#C8D4E3"
             },
             "line": {
              "color": "white"
             }
            },
            "type": "table"
           }
          ]
         },
         "layout": {
          "annotationdefaults": {
           "arrowcolor": "#2a3f5f",
           "arrowhead": 0,
           "arrowwidth": 1
          },
          "autotypenumbers": "strict",
          "coloraxis": {
           "colorbar": {
            "outlinewidth": 0,
            "ticks": ""
           }
          },
          "colorscale": {
           "diverging": [
            [
             0,
             "#8e0152"
            ],
            [
             0.1,
             "#c51b7d"
            ],
            [
             0.2,
             "#de77ae"
            ],
            [
             0.3,
             "#f1b6da"
            ],
            [
             0.4,
             "#fde0ef"
            ],
            [
             0.5,
             "#f7f7f7"
            ],
            [
             0.6,
             "#e6f5d0"
            ],
            [
             0.7,
             "#b8e186"
            ],
            [
             0.8,
             "#7fbc41"
            ],
            [
             0.9,
             "#4d9221"
            ],
            [
             1,
             "#276419"
            ]
           ],
           "sequential": [
            [
             0,
             "#0d0887"
            ],
            [
             0.1111111111111111,
             "#46039f"
            ],
            [
             0.2222222222222222,
             "#7201a8"
            ],
            [
             0.3333333333333333,
             "#9c179e"
            ],
            [
             0.4444444444444444,
             "#bd3786"
            ],
            [
             0.5555555555555556,
             "#d8576b"
            ],
            [
             0.6666666666666666,
             "#ed7953"
            ],
            [
             0.7777777777777778,
             "#fb9f3a"
            ],
            [
             0.8888888888888888,
             "#fdca26"
            ],
            [
             1,
             "#f0f921"
            ]
           ],
           "sequentialminus": [
            [
             0,
             "#0d0887"
            ],
            [
             0.1111111111111111,
             "#46039f"
            ],
            [
             0.2222222222222222,
             "#7201a8"
            ],
            [
             0.3333333333333333,
             "#9c179e"
            ],
            [
             0.4444444444444444,
             "#bd3786"
            ],
            [
             0.5555555555555556,
             "#d8576b"
            ],
            [
             0.6666666666666666,
             "#ed7953"
            ],
            [
             0.7777777777777778,
             "#fb9f3a"
            ],
            [
             0.8888888888888888,
             "#fdca26"
            ],
            [
             1,
             "#f0f921"
            ]
           ]
          },
          "colorway": [
           "#636efa",
           "#EF553B",
           "#00cc96",
           "#ab63fa",
           "#FFA15A",
           "#19d3f3",
           "#FF6692",
           "#B6E880",
           "#FF97FF",
           "#FECB52"
          ],
          "font": {
           "color": "#2a3f5f"
          },
          "geo": {
           "bgcolor": "white",
           "lakecolor": "white",
           "landcolor": "#E5ECF6",
           "showlakes": true,
           "showland": true,
           "subunitcolor": "white"
          },
          "hoverlabel": {
           "align": "left"
          },
          "hovermode": "closest",
          "mapbox": {
           "style": "light"
          },
          "paper_bgcolor": "white",
          "plot_bgcolor": "#E5ECF6",
          "polar": {
           "angularaxis": {
            "gridcolor": "white",
            "linecolor": "white",
            "ticks": ""
           },
           "bgcolor": "#E5ECF6",
           "radialaxis": {
            "gridcolor": "white",
            "linecolor": "white",
            "ticks": ""
           }
          },
          "scene": {
           "xaxis": {
            "backgroundcolor": "#E5ECF6",
            "gridcolor": "white",
            "gridwidth": 2,
            "linecolor": "white",
            "showbackground": true,
            "ticks": "",
            "zerolinecolor": "white"
           },
           "yaxis": {
            "backgroundcolor": "#E5ECF6",
            "gridcolor": "white",
            "gridwidth": 2,
            "linecolor": "white",
            "showbackground": true,
            "ticks": "",
            "zerolinecolor": "white"
           },
           "zaxis": {
            "backgroundcolor": "#E5ECF6",
            "gridcolor": "white",
            "gridwidth": 2,
            "linecolor": "white",
            "showbackground": true,
            "ticks": "",
            "zerolinecolor": "white"
           }
          },
          "shapedefaults": {
           "line": {
            "color": "#2a3f5f"
           }
          },
          "ternary": {
           "aaxis": {
            "gridcolor": "white",
            "linecolor": "white",
            "ticks": ""
           },
           "baxis": {
            "gridcolor": "white",
            "linecolor": "white",
            "ticks": ""
           },
           "bgcolor": "#E5ECF6",
           "caxis": {
            "gridcolor": "white",
            "linecolor": "white",
            "ticks": ""
           }
          },
          "title": {
           "x": 0.05
          },
          "xaxis": {
           "automargin": true,
           "gridcolor": "white",
           "linecolor": "white",
           "ticks": "",
           "title": {
            "standoff": 15
           },
           "zerolinecolor": "white",
           "zerolinewidth": 2
          },
          "yaxis": {
           "automargin": true,
           "gridcolor": "white",
           "linecolor": "white",
           "ticks": "",
           "title": {
            "standoff": 15
           },
           "zerolinecolor": "white",
           "zerolinewidth": 2
          }
         }
        },
        "title": {
         "text": "Births and Employment by Year and State"
        },
        "xaxis": {
         "anchor": "y",
         "domain": [
          0,
          1
         ],
         "title": {
          "text": "Year"
         }
        },
        "yaxis": {
         "anchor": "x",
         "domain": [
          0,
          1
         ],
         "title": {
          "text": "Count"
         }
        }
       }
      },
      "text/html": [
       "<div>                            <div id=\"003ba81b-1423-41a0-b7d4-8b9dc6b947cf\" class=\"plotly-graph-div\" style=\"height:525px; width:100%;\"></div>            <script type=\"text/javascript\">                require([\"plotly\"], function(Plotly) {                    window.PLOTLYENV=window.PLOTLYENV || {};                                    if (document.getElementById(\"003ba81b-1423-41a0-b7d4-8b9dc6b947cf\")) {                    Plotly.newPlot(                        \"003ba81b-1423-41a0-b7d4-8b9dc6b947cf\",                        [{\"hovertemplate\":\"Value=Women 15 to 50 years\\u003cbr\\u003eYear=%{x}\\u003cbr\\u003eCount=%{y}\\u003cextra\\u003e\\u003c\\u002fextra\\u003e\",\"legendgroup\":\"Women 15 to 50 years\",\"line\":{\"color\":\"#636efa\",\"dash\":\"solid\"},\"marker\":{\"symbol\":\"circle\"},\"mode\":\"lines\",\"name\":\"Women 15 to 50 years\",\"orientation\":\"v\",\"showlegend\":true,\"x\":[\"2022\",\"2021\",\"2019\",\"2018\",\"2017\",\"2016\",\"2015\",\"2014\",\"2013\",\"2012\",\"2011\",\"2010\"],\"xaxis\":\"x\",\"y\":[104539.0,96332.0,98004.0,99351.0,100976.0,100200.0,102870.0,113223.0,102576.0,108748.0,110163.0,105477.0],\"yaxis\":\"y\",\"type\":\"scatter\"},{\"hovertemplate\":\"Value=In labor force\\u003cbr\\u003eYear=%{x}\\u003cbr\\u003eCount=%{y}\\u003cextra\\u003e\\u003c\\u002fextra\\u003e\",\"legendgroup\":\"In labor force\",\"line\":{\"color\":\"#EF553B\",\"dash\":\"solid\"},\"marker\":{\"symbol\":\"circle\"},\"mode\":\"lines\",\"name\":\"In labor force\",\"orientation\":\"v\",\"showlegend\":true,\"x\":[\"2022\",\"2021\",\"2019\",\"2018\",\"2017\",\"2016\",\"2015\",\"2014\",\"2013\",\"2012\",\"2011\",\"2010\"],\"xaxis\":\"x\",\"y\":[71427.0,65159.0,67617.0,63801.0,66352.0,66488.0,65116.0,74395.0,61330.0,69328.0,71827.0,67886.0],\"yaxis\":\"y\",\"type\":\"scatter\"}],                        {\"template\":{\"data\":{\"histogram2dcontour\":[{\"type\":\"histogram2dcontour\",\"colorbar\":{\"outlinewidth\":0,\"ticks\":\"\"},\"colorscale\":[[0.0,\"#0d0887\"],[0.1111111111111111,\"#46039f\"],[0.2222222222222222,\"#7201a8\"],[0.3333333333333333,\"#9c179e\"],[0.4444444444444444,\"#bd3786\"],[0.5555555555555556,\"#d8576b\"],[0.6666666666666666,\"#ed7953\"],[0.7777777777777778,\"#fb9f3a\"],[0.8888888888888888,\"#fdca26\"],[1.0,\"#f0f921\"]]}],\"choropleth\":[{\"type\":\"choropleth\",\"colorbar\":{\"outlinewidth\":0,\"ticks\":\"\"}}],\"histogram2d\":[{\"type\":\"histogram2d\",\"colorbar\":{\"outlinewidth\":0,\"ticks\":\"\"},\"colorscale\":[[0.0,\"#0d0887\"],[0.1111111111111111,\"#46039f\"],[0.2222222222222222,\"#7201a8\"],[0.3333333333333333,\"#9c179e\"],[0.4444444444444444,\"#bd3786\"],[0.5555555555555556,\"#d8576b\"],[0.6666666666666666,\"#ed7953\"],[0.7777777777777778,\"#fb9f3a\"],[0.8888888888888888,\"#fdca26\"],[1.0,\"#f0f921\"]]}],\"heatmap\":[{\"type\":\"heatmap\",\"colorbar\":{\"outlinewidth\":0,\"ticks\":\"\"},\"colorscale\":[[0.0,\"#0d0887\"],[0.1111111111111111,\"#46039f\"],[0.2222222222222222,\"#7201a8\"],[0.3333333333333333,\"#9c179e\"],[0.4444444444444444,\"#bd3786\"],[0.5555555555555556,\"#d8576b\"],[0.6666666666666666,\"#ed7953\"],[0.7777777777777778,\"#fb9f3a\"],[0.8888888888888888,\"#fdca26\"],[1.0,\"#f0f921\"]]}],\"heatmapgl\":[{\"type\":\"heatmapgl\",\"colorbar\":{\"outlinewidth\":0,\"ticks\":\"\"},\"colorscale\":[[0.0,\"#0d0887\"],[0.1111111111111111,\"#46039f\"],[0.2222222222222222,\"#7201a8\"],[0.3333333333333333,\"#9c179e\"],[0.4444444444444444,\"#bd3786\"],[0.5555555555555556,\"#d8576b\"],[0.6666666666666666,\"#ed7953\"],[0.7777777777777778,\"#fb9f3a\"],[0.8888888888888888,\"#fdca26\"],[1.0,\"#f0f921\"]]}],\"contourcarpet\":[{\"type\":\"contourcarpet\",\"colorbar\":{\"outlinewidth\":0,\"ticks\":\"\"}}],\"contour\":[{\"type\":\"contour\",\"colorbar\":{\"outlinewidth\":0,\"ticks\":\"\"},\"colorscale\":[[0.0,\"#0d0887\"],[0.1111111111111111,\"#46039f\"],[0.2222222222222222,\"#7201a8\"],[0.3333333333333333,\"#9c179e\"],[0.4444444444444444,\"#bd3786\"],[0.5555555555555556,\"#d8576b\"],[0.6666666666666666,\"#ed7953\"],[0.7777777777777778,\"#fb9f3a\"],[0.8888888888888888,\"#fdca26\"],[1.0,\"#f0f921\"]]}],\"surface\":[{\"type\":\"surface\",\"colorbar\":{\"outlinewidth\":0,\"ticks\":\"\"},\"colorscale\":[[0.0,\"#0d0887\"],[0.1111111111111111,\"#46039f\"],[0.2222222222222222,\"#7201a8\"],[0.3333333333333333,\"#9c179e\"],[0.4444444444444444,\"#bd3786\"],[0.5555555555555556,\"#d8576b\"],[0.6666666666666666,\"#ed7953\"],[0.7777777777777778,\"#fb9f3a\"],[0.8888888888888888,\"#fdca26\"],[1.0,\"#f0f921\"]]}],\"mesh3d\":[{\"type\":\"mesh3d\",\"colorbar\":{\"outlinewidth\":0,\"ticks\":\"\"}}],\"scatter\":[{\"fillpattern\":{\"fillmode\":\"overlay\",\"size\":10,\"solidity\":0.2},\"type\":\"scatter\"}],\"parcoords\":[{\"type\":\"parcoords\",\"line\":{\"colorbar\":{\"outlinewidth\":0,\"ticks\":\"\"}}}],\"scatterpolargl\":[{\"type\":\"scatterpolargl\",\"marker\":{\"colorbar\":{\"outlinewidth\":0,\"ticks\":\"\"}}}],\"bar\":[{\"error_x\":{\"color\":\"#2a3f5f\"},\"error_y\":{\"color\":\"#2a3f5f\"},\"marker\":{\"line\":{\"color\":\"#E5ECF6\",\"width\":0.5},\"pattern\":{\"fillmode\":\"overlay\",\"size\":10,\"solidity\":0.2}},\"type\":\"bar\"}],\"scattergeo\":[{\"type\":\"scattergeo\",\"marker\":{\"colorbar\":{\"outlinewidth\":0,\"ticks\":\"\"}}}],\"scatterpolar\":[{\"type\":\"scatterpolar\",\"marker\":{\"colorbar\":{\"outlinewidth\":0,\"ticks\":\"\"}}}],\"histogram\":[{\"marker\":{\"pattern\":{\"fillmode\":\"overlay\",\"size\":10,\"solidity\":0.2}},\"type\":\"histogram\"}],\"scattergl\":[{\"type\":\"scattergl\",\"marker\":{\"colorbar\":{\"outlinewidth\":0,\"ticks\":\"\"}}}],\"scatter3d\":[{\"type\":\"scatter3d\",\"line\":{\"colorbar\":{\"outlinewidth\":0,\"ticks\":\"\"}},\"marker\":{\"colorbar\":{\"outlinewidth\":0,\"ticks\":\"\"}}}],\"scattermapbox\":[{\"type\":\"scattermapbox\",\"marker\":{\"colorbar\":{\"outlinewidth\":0,\"ticks\":\"\"}}}],\"scatterternary\":[{\"type\":\"scatterternary\",\"marker\":{\"colorbar\":{\"outlinewidth\":0,\"ticks\":\"\"}}}],\"scattercarpet\":[{\"type\":\"scattercarpet\",\"marker\":{\"colorbar\":{\"outlinewidth\":0,\"ticks\":\"\"}}}],\"carpet\":[{\"aaxis\":{\"endlinecolor\":\"#2a3f5f\",\"gridcolor\":\"white\",\"linecolor\":\"white\",\"minorgridcolor\":\"white\",\"startlinecolor\":\"#2a3f5f\"},\"baxis\":{\"endlinecolor\":\"#2a3f5f\",\"gridcolor\":\"white\",\"linecolor\":\"white\",\"minorgridcolor\":\"white\",\"startlinecolor\":\"#2a3f5f\"},\"type\":\"carpet\"}],\"table\":[{\"cells\":{\"fill\":{\"color\":\"#EBF0F8\"},\"line\":{\"color\":\"white\"}},\"header\":{\"fill\":{\"color\":\"#C8D4E3\"},\"line\":{\"color\":\"white\"}},\"type\":\"table\"}],\"barpolar\":[{\"marker\":{\"line\":{\"color\":\"#E5ECF6\",\"width\":0.5},\"pattern\":{\"fillmode\":\"overlay\",\"size\":10,\"solidity\":0.2}},\"type\":\"barpolar\"}],\"pie\":[{\"automargin\":true,\"type\":\"pie\"}]},\"layout\":{\"autotypenumbers\":\"strict\",\"colorway\":[\"#636efa\",\"#EF553B\",\"#00cc96\",\"#ab63fa\",\"#FFA15A\",\"#19d3f3\",\"#FF6692\",\"#B6E880\",\"#FF97FF\",\"#FECB52\"],\"font\":{\"color\":\"#2a3f5f\"},\"hovermode\":\"closest\",\"hoverlabel\":{\"align\":\"left\"},\"paper_bgcolor\":\"white\",\"plot_bgcolor\":\"#E5ECF6\",\"polar\":{\"bgcolor\":\"#E5ECF6\",\"angularaxis\":{\"gridcolor\":\"white\",\"linecolor\":\"white\",\"ticks\":\"\"},\"radialaxis\":{\"gridcolor\":\"white\",\"linecolor\":\"white\",\"ticks\":\"\"}},\"ternary\":{\"bgcolor\":\"#E5ECF6\",\"aaxis\":{\"gridcolor\":\"white\",\"linecolor\":\"white\",\"ticks\":\"\"},\"baxis\":{\"gridcolor\":\"white\",\"linecolor\":\"white\",\"ticks\":\"\"},\"caxis\":{\"gridcolor\":\"white\",\"linecolor\":\"white\",\"ticks\":\"\"}},\"coloraxis\":{\"colorbar\":{\"outlinewidth\":0,\"ticks\":\"\"}},\"colorscale\":{\"sequential\":[[0.0,\"#0d0887\"],[0.1111111111111111,\"#46039f\"],[0.2222222222222222,\"#7201a8\"],[0.3333333333333333,\"#9c179e\"],[0.4444444444444444,\"#bd3786\"],[0.5555555555555556,\"#d8576b\"],[0.6666666666666666,\"#ed7953\"],[0.7777777777777778,\"#fb9f3a\"],[0.8888888888888888,\"#fdca26\"],[1.0,\"#f0f921\"]],\"sequentialminus\":[[0.0,\"#0d0887\"],[0.1111111111111111,\"#46039f\"],[0.2222222222222222,\"#7201a8\"],[0.3333333333333333,\"#9c179e\"],[0.4444444444444444,\"#bd3786\"],[0.5555555555555556,\"#d8576b\"],[0.6666666666666666,\"#ed7953\"],[0.7777777777777778,\"#fb9f3a\"],[0.8888888888888888,\"#fdca26\"],[1.0,\"#f0f921\"]],\"diverging\":[[0,\"#8e0152\"],[0.1,\"#c51b7d\"],[0.2,\"#de77ae\"],[0.3,\"#f1b6da\"],[0.4,\"#fde0ef\"],[0.5,\"#f7f7f7\"],[0.6,\"#e6f5d0\"],[0.7,\"#b8e186\"],[0.8,\"#7fbc41\"],[0.9,\"#4d9221\"],[1,\"#276419\"]]},\"xaxis\":{\"gridcolor\":\"white\",\"linecolor\":\"white\",\"ticks\":\"\",\"title\":{\"standoff\":15},\"zerolinecolor\":\"white\",\"automargin\":true,\"zerolinewidth\":2},\"yaxis\":{\"gridcolor\":\"white\",\"linecolor\":\"white\",\"ticks\":\"\",\"title\":{\"standoff\":15},\"zerolinecolor\":\"white\",\"automargin\":true,\"zerolinewidth\":2},\"scene\":{\"xaxis\":{\"backgroundcolor\":\"#E5ECF6\",\"gridcolor\":\"white\",\"linecolor\":\"white\",\"showbackground\":true,\"ticks\":\"\",\"zerolinecolor\":\"white\",\"gridwidth\":2},\"yaxis\":{\"backgroundcolor\":\"#E5ECF6\",\"gridcolor\":\"white\",\"linecolor\":\"white\",\"showbackground\":true,\"ticks\":\"\",\"zerolinecolor\":\"white\",\"gridwidth\":2},\"zaxis\":{\"backgroundcolor\":\"#E5ECF6\",\"gridcolor\":\"white\",\"linecolor\":\"white\",\"showbackground\":true,\"ticks\":\"\",\"zerolinecolor\":\"white\",\"gridwidth\":2}},\"shapedefaults\":{\"line\":{\"color\":\"#2a3f5f\"}},\"annotationdefaults\":{\"arrowcolor\":\"#2a3f5f\",\"arrowhead\":0,\"arrowwidth\":1},\"geo\":{\"bgcolor\":\"white\",\"landcolor\":\"#E5ECF6\",\"subunitcolor\":\"white\",\"showland\":true,\"showlakes\":true,\"lakecolor\":\"white\"},\"title\":{\"x\":0.05},\"mapbox\":{\"style\":\"light\"}}},\"xaxis\":{\"anchor\":\"y\",\"domain\":[0.0,1.0],\"title\":{\"text\":\"Year\"}},\"yaxis\":{\"anchor\":\"x\",\"domain\":[0.0,1.0],\"title\":{\"text\":\"Count\"}},\"legend\":{\"title\":{\"text\":\"Value\"},\"tracegroupgap\":0},\"title\":{\"text\":\"Births and Employment by Year and State\"}},                        {\"responsive\": true}                    ).then(function(){\n",
       "                            \n",
       "var gd = document.getElementById('003ba81b-1423-41a0-b7d4-8b9dc6b947cf');\n",
       "var x = new MutationObserver(function (mutations, observer) {{\n",
       "        var display = window.getComputedStyle(gd).display;\n",
       "        if (!display || display === 'none') {{\n",
       "            console.log([gd, 'removed!']);\n",
       "            Plotly.purge(gd);\n",
       "            observer.disconnect();\n",
       "        }}\n",
       "}});\n",
       "\n",
       "// Listen for the removal of the full notebook cells\n",
       "var notebookContainer = gd.closest('#notebook-container');\n",
       "if (notebookContainer) {{\n",
       "    x.observe(notebookContainer, {childList: true});\n",
       "}}\n",
       "\n",
       "// Listen for the clearing of the current output cell\n",
       "var outputEl = gd.closest('.output');\n",
       "if (outputEl) {{\n",
       "    x.observe(outputEl, {childList: true});\n",
       "}}\n",
       "\n",
       "                        })                };                });            </script>        </div>"
      ]
     },
     "metadata": {},
     "output_type": "display_data"
    }
   ],
   "source": [
    "target_state = consol_df[consol_df['State']=='Virginia']\n",
    "# Create the line chart\n",
    "fig = px.line(target_state, x='Year', y='Count', color='Value', title='Births and Employment by Year and State')\n",
    "fig.show()"
   ]
  },
  {
   "cell_type": "code",
   "execution_count": 333,
   "metadata": {},
   "outputs": [
    {
     "data": {
      "application/vnd.plotly.v1+json": {
       "config": {
        "plotlyServerURL": "https://plot.ly"
       },
       "data": [
        {
         "hovertemplate": "Value=Women 15 to 50 years<br>Year=%{x}<br>Count=%{y}<extra></extra>",
         "legendgroup": "Women 15 to 50 years",
         "line": {
          "color": "#636efa",
          "dash": "solid"
         },
         "marker": {
          "symbol": "circle"
         },
         "mode": "lines",
         "name": "Women 15 to 50 years",
         "orientation": "v",
         "showlegend": true,
         "type": "scatter",
         "x": [
          "2022",
          "2021",
          "2019",
          "2018",
          "2017",
          "2016",
          "2015",
          "2014",
          "2013",
          "2012",
          "2011",
          "2010"
         ],
         "xaxis": "x",
         "y": [
          453850,
          458334,
          450971,
          454027,
          468957,
          471829,
          478813,
          472565,
          477649,
          505431,
          518722,
          508113
         ],
         "yaxis": "y"
        },
        {
         "hovertemplate": "Value=In labor force<br>Year=%{x}<br>Count=%{y}<extra></extra>",
         "legendgroup": "In labor force",
         "line": {
          "color": "#EF553B",
          "dash": "solid"
         },
         "marker": {
          "symbol": "circle"
         },
         "mode": "lines",
         "name": "In labor force",
         "orientation": "v",
         "showlegend": true,
         "type": "scatter",
         "x": [
          "2022",
          "2021",
          "2019",
          "2018",
          "2017",
          "2016",
          "2015",
          "2014",
          "2013",
          "2012",
          "2011",
          "2010"
         ],
         "xaxis": "x",
         "y": [
          295534,
          288596,
          281556,
          283565,
          275864,
          278450,
          277647,
          264477,
          271029,
          281543,
          298753,
          287872
         ],
         "yaxis": "y"
        }
       ],
       "layout": {
        "legend": {
         "title": {
          "text": "Value"
         },
         "tracegroupgap": 0
        },
        "template": {
         "data": {
          "bar": [
           {
            "error_x": {
             "color": "#2a3f5f"
            },
            "error_y": {
             "color": "#2a3f5f"
            },
            "marker": {
             "line": {
              "color": "#E5ECF6",
              "width": 0.5
             },
             "pattern": {
              "fillmode": "overlay",
              "size": 10,
              "solidity": 0.2
             }
            },
            "type": "bar"
           }
          ],
          "barpolar": [
           {
            "marker": {
             "line": {
              "color": "#E5ECF6",
              "width": 0.5
             },
             "pattern": {
              "fillmode": "overlay",
              "size": 10,
              "solidity": 0.2
             }
            },
            "type": "barpolar"
           }
          ],
          "carpet": [
           {
            "aaxis": {
             "endlinecolor": "#2a3f5f",
             "gridcolor": "white",
             "linecolor": "white",
             "minorgridcolor": "white",
             "startlinecolor": "#2a3f5f"
            },
            "baxis": {
             "endlinecolor": "#2a3f5f",
             "gridcolor": "white",
             "linecolor": "white",
             "minorgridcolor": "white",
             "startlinecolor": "#2a3f5f"
            },
            "type": "carpet"
           }
          ],
          "choropleth": [
           {
            "colorbar": {
             "outlinewidth": 0,
             "ticks": ""
            },
            "type": "choropleth"
           }
          ],
          "contour": [
           {
            "colorbar": {
             "outlinewidth": 0,
             "ticks": ""
            },
            "colorscale": [
             [
              0,
              "#0d0887"
             ],
             [
              0.1111111111111111,
              "#46039f"
             ],
             [
              0.2222222222222222,
              "#7201a8"
             ],
             [
              0.3333333333333333,
              "#9c179e"
             ],
             [
              0.4444444444444444,
              "#bd3786"
             ],
             [
              0.5555555555555556,
              "#d8576b"
             ],
             [
              0.6666666666666666,
              "#ed7953"
             ],
             [
              0.7777777777777778,
              "#fb9f3a"
             ],
             [
              0.8888888888888888,
              "#fdca26"
             ],
             [
              1,
              "#f0f921"
             ]
            ],
            "type": "contour"
           }
          ],
          "contourcarpet": [
           {
            "colorbar": {
             "outlinewidth": 0,
             "ticks": ""
            },
            "type": "contourcarpet"
           }
          ],
          "heatmap": [
           {
            "colorbar": {
             "outlinewidth": 0,
             "ticks": ""
            },
            "colorscale": [
             [
              0,
              "#0d0887"
             ],
             [
              0.1111111111111111,
              "#46039f"
             ],
             [
              0.2222222222222222,
              "#7201a8"
             ],
             [
              0.3333333333333333,
              "#9c179e"
             ],
             [
              0.4444444444444444,
              "#bd3786"
             ],
             [
              0.5555555555555556,
              "#d8576b"
             ],
             [
              0.6666666666666666,
              "#ed7953"
             ],
             [
              0.7777777777777778,
              "#fb9f3a"
             ],
             [
              0.8888888888888888,
              "#fdca26"
             ],
             [
              1,
              "#f0f921"
             ]
            ],
            "type": "heatmap"
           }
          ],
          "heatmapgl": [
           {
            "colorbar": {
             "outlinewidth": 0,
             "ticks": ""
            },
            "colorscale": [
             [
              0,
              "#0d0887"
             ],
             [
              0.1111111111111111,
              "#46039f"
             ],
             [
              0.2222222222222222,
              "#7201a8"
             ],
             [
              0.3333333333333333,
              "#9c179e"
             ],
             [
              0.4444444444444444,
              "#bd3786"
             ],
             [
              0.5555555555555556,
              "#d8576b"
             ],
             [
              0.6666666666666666,
              "#ed7953"
             ],
             [
              0.7777777777777778,
              "#fb9f3a"
             ],
             [
              0.8888888888888888,
              "#fdca26"
             ],
             [
              1,
              "#f0f921"
             ]
            ],
            "type": "heatmapgl"
           }
          ],
          "histogram": [
           {
            "marker": {
             "pattern": {
              "fillmode": "overlay",
              "size": 10,
              "solidity": 0.2
             }
            },
            "type": "histogram"
           }
          ],
          "histogram2d": [
           {
            "colorbar": {
             "outlinewidth": 0,
             "ticks": ""
            },
            "colorscale": [
             [
              0,
              "#0d0887"
             ],
             [
              0.1111111111111111,
              "#46039f"
             ],
             [
              0.2222222222222222,
              "#7201a8"
             ],
             [
              0.3333333333333333,
              "#9c179e"
             ],
             [
              0.4444444444444444,
              "#bd3786"
             ],
             [
              0.5555555555555556,
              "#d8576b"
             ],
             [
              0.6666666666666666,
              "#ed7953"
             ],
             [
              0.7777777777777778,
              "#fb9f3a"
             ],
             [
              0.8888888888888888,
              "#fdca26"
             ],
             [
              1,
              "#f0f921"
             ]
            ],
            "type": "histogram2d"
           }
          ],
          "histogram2dcontour": [
           {
            "colorbar": {
             "outlinewidth": 0,
             "ticks": ""
            },
            "colorscale": [
             [
              0,
              "#0d0887"
             ],
             [
              0.1111111111111111,
              "#46039f"
             ],
             [
              0.2222222222222222,
              "#7201a8"
             ],
             [
              0.3333333333333333,
              "#9c179e"
             ],
             [
              0.4444444444444444,
              "#bd3786"
             ],
             [
              0.5555555555555556,
              "#d8576b"
             ],
             [
              0.6666666666666666,
              "#ed7953"
             ],
             [
              0.7777777777777778,
              "#fb9f3a"
             ],
             [
              0.8888888888888888,
              "#fdca26"
             ],
             [
              1,
              "#f0f921"
             ]
            ],
            "type": "histogram2dcontour"
           }
          ],
          "mesh3d": [
           {
            "colorbar": {
             "outlinewidth": 0,
             "ticks": ""
            },
            "type": "mesh3d"
           }
          ],
          "parcoords": [
           {
            "line": {
             "colorbar": {
              "outlinewidth": 0,
              "ticks": ""
             }
            },
            "type": "parcoords"
           }
          ],
          "pie": [
           {
            "automargin": true,
            "type": "pie"
           }
          ],
          "scatter": [
           {
            "fillpattern": {
             "fillmode": "overlay",
             "size": 10,
             "solidity": 0.2
            },
            "type": "scatter"
           }
          ],
          "scatter3d": [
           {
            "line": {
             "colorbar": {
              "outlinewidth": 0,
              "ticks": ""
             }
            },
            "marker": {
             "colorbar": {
              "outlinewidth": 0,
              "ticks": ""
             }
            },
            "type": "scatter3d"
           }
          ],
          "scattercarpet": [
           {
            "marker": {
             "colorbar": {
              "outlinewidth": 0,
              "ticks": ""
             }
            },
            "type": "scattercarpet"
           }
          ],
          "scattergeo": [
           {
            "marker": {
             "colorbar": {
              "outlinewidth": 0,
              "ticks": ""
             }
            },
            "type": "scattergeo"
           }
          ],
          "scattergl": [
           {
            "marker": {
             "colorbar": {
              "outlinewidth": 0,
              "ticks": ""
             }
            },
            "type": "scattergl"
           }
          ],
          "scattermapbox": [
           {
            "marker": {
             "colorbar": {
              "outlinewidth": 0,
              "ticks": ""
             }
            },
            "type": "scattermapbox"
           }
          ],
          "scatterpolar": [
           {
            "marker": {
             "colorbar": {
              "outlinewidth": 0,
              "ticks": ""
             }
            },
            "type": "scatterpolar"
           }
          ],
          "scatterpolargl": [
           {
            "marker": {
             "colorbar": {
              "outlinewidth": 0,
              "ticks": ""
             }
            },
            "type": "scatterpolargl"
           }
          ],
          "scatterternary": [
           {
            "marker": {
             "colorbar": {
              "outlinewidth": 0,
              "ticks": ""
             }
            },
            "type": "scatterternary"
           }
          ],
          "surface": [
           {
            "colorbar": {
             "outlinewidth": 0,
             "ticks": ""
            },
            "colorscale": [
             [
              0,
              "#0d0887"
             ],
             [
              0.1111111111111111,
              "#46039f"
             ],
             [
              0.2222222222222222,
              "#7201a8"
             ],
             [
              0.3333333333333333,
              "#9c179e"
             ],
             [
              0.4444444444444444,
              "#bd3786"
             ],
             [
              0.5555555555555556,
              "#d8576b"
             ],
             [
              0.6666666666666666,
              "#ed7953"
             ],
             [
              0.7777777777777778,
              "#fb9f3a"
             ],
             [
              0.8888888888888888,
              "#fdca26"
             ],
             [
              1,
              "#f0f921"
             ]
            ],
            "type": "surface"
           }
          ],
          "table": [
           {
            "cells": {
             "fill": {
              "color": "#EBF0F8"
             },
             "line": {
              "color": "white"
             }
            },
            "header": {
             "fill": {
              "color": "#C8D4E3"
             },
             "line": {
              "color": "white"
             }
            },
            "type": "table"
           }
          ]
         },
         "layout": {
          "annotationdefaults": {
           "arrowcolor": "#2a3f5f",
           "arrowhead": 0,
           "arrowwidth": 1
          },
          "autotypenumbers": "strict",
          "coloraxis": {
           "colorbar": {
            "outlinewidth": 0,
            "ticks": ""
           }
          },
          "colorscale": {
           "diverging": [
            [
             0,
             "#8e0152"
            ],
            [
             0.1,
             "#c51b7d"
            ],
            [
             0.2,
             "#de77ae"
            ],
            [
             0.3,
             "#f1b6da"
            ],
            [
             0.4,
             "#fde0ef"
            ],
            [
             0.5,
             "#f7f7f7"
            ],
            [
             0.6,
             "#e6f5d0"
            ],
            [
             0.7,
             "#b8e186"
            ],
            [
             0.8,
             "#7fbc41"
            ],
            [
             0.9,
             "#4d9221"
            ],
            [
             1,
             "#276419"
            ]
           ],
           "sequential": [
            [
             0,
             "#0d0887"
            ],
            [
             0.1111111111111111,
             "#46039f"
            ],
            [
             0.2222222222222222,
             "#7201a8"
            ],
            [
             0.3333333333333333,
             "#9c179e"
            ],
            [
             0.4444444444444444,
             "#bd3786"
            ],
            [
             0.5555555555555556,
             "#d8576b"
            ],
            [
             0.6666666666666666,
             "#ed7953"
            ],
            [
             0.7777777777777778,
             "#fb9f3a"
            ],
            [
             0.8888888888888888,
             "#fdca26"
            ],
            [
             1,
             "#f0f921"
            ]
           ],
           "sequentialminus": [
            [
             0,
             "#0d0887"
            ],
            [
             0.1111111111111111,
             "#46039f"
            ],
            [
             0.2222222222222222,
             "#7201a8"
            ],
            [
             0.3333333333333333,
             "#9c179e"
            ],
            [
             0.4444444444444444,
             "#bd3786"
            ],
            [
             0.5555555555555556,
             "#d8576b"
            ],
            [
             0.6666666666666666,
             "#ed7953"
            ],
            [
             0.7777777777777778,
             "#fb9f3a"
            ],
            [
             0.8888888888888888,
             "#fdca26"
            ],
            [
             1,
             "#f0f921"
            ]
           ]
          },
          "colorway": [
           "#636efa",
           "#EF553B",
           "#00cc96",
           "#ab63fa",
           "#FFA15A",
           "#19d3f3",
           "#FF6692",
           "#B6E880",
           "#FF97FF",
           "#FECB52"
          ],
          "font": {
           "color": "#2a3f5f"
          },
          "geo": {
           "bgcolor": "white",
           "lakecolor": "white",
           "landcolor": "#E5ECF6",
           "showlakes": true,
           "showland": true,
           "subunitcolor": "white"
          },
          "hoverlabel": {
           "align": "left"
          },
          "hovermode": "closest",
          "mapbox": {
           "style": "light"
          },
          "paper_bgcolor": "white",
          "plot_bgcolor": "#E5ECF6",
          "polar": {
           "angularaxis": {
            "gridcolor": "white",
            "linecolor": "white",
            "ticks": ""
           },
           "bgcolor": "#E5ECF6",
           "radialaxis": {
            "gridcolor": "white",
            "linecolor": "white",
            "ticks": ""
           }
          },
          "scene": {
           "xaxis": {
            "backgroundcolor": "#E5ECF6",
            "gridcolor": "white",
            "gridwidth": 2,
            "linecolor": "white",
            "showbackground": true,
            "ticks": "",
            "zerolinecolor": "white"
           },
           "yaxis": {
            "backgroundcolor": "#E5ECF6",
            "gridcolor": "white",
            "gridwidth": 2,
            "linecolor": "white",
            "showbackground": true,
            "ticks": "",
            "zerolinecolor": "white"
           },
           "zaxis": {
            "backgroundcolor": "#E5ECF6",
            "gridcolor": "white",
            "gridwidth": 2,
            "linecolor": "white",
            "showbackground": true,
            "ticks": "",
            "zerolinecolor": "white"
           }
          },
          "shapedefaults": {
           "line": {
            "color": "#2a3f5f"
           }
          },
          "ternary": {
           "aaxis": {
            "gridcolor": "white",
            "linecolor": "white",
            "ticks": ""
           },
           "baxis": {
            "gridcolor": "white",
            "linecolor": "white",
            "ticks": ""
           },
           "bgcolor": "#E5ECF6",
           "caxis": {
            "gridcolor": "white",
            "linecolor": "white",
            "ticks": ""
           }
          },
          "title": {
           "x": 0.05
          },
          "xaxis": {
           "automargin": true,
           "gridcolor": "white",
           "linecolor": "white",
           "ticks": "",
           "title": {
            "standoff": 15
           },
           "zerolinecolor": "white",
           "zerolinewidth": 2
          },
          "yaxis": {
           "automargin": true,
           "gridcolor": "white",
           "linecolor": "white",
           "ticks": "",
           "title": {
            "standoff": 15
           },
           "zerolinecolor": "white",
           "zerolinewidth": 2
          }
         }
        },
        "title": {
         "text": "Births and Employment by Year and State"
        },
        "xaxis": {
         "anchor": "y",
         "domain": [
          0,
          1
         ],
         "title": {
          "text": "Year"
         }
        },
        "yaxis": {
         "anchor": "x",
         "domain": [
          0,
          1
         ],
         "title": {
          "text": "Count"
         }
        }
       }
      },
      "text/html": [
       "<div>                            <div id=\"313a3979-9278-4a01-b528-ed2cffdd1ee8\" class=\"plotly-graph-div\" style=\"height:525px; width:100%;\"></div>            <script type=\"text/javascript\">                require([\"plotly\"], function(Plotly) {                    window.PLOTLYENV=window.PLOTLYENV || {};                                    if (document.getElementById(\"313a3979-9278-4a01-b528-ed2cffdd1ee8\")) {                    Plotly.newPlot(                        \"313a3979-9278-4a01-b528-ed2cffdd1ee8\",                        [{\"hovertemplate\":\"Value=Women 15 to 50 years\\u003cbr\\u003eYear=%{x}\\u003cbr\\u003eCount=%{y}\\u003cextra\\u003e\\u003c\\u002fextra\\u003e\",\"legendgroup\":\"Women 15 to 50 years\",\"line\":{\"color\":\"#636efa\",\"dash\":\"solid\"},\"marker\":{\"symbol\":\"circle\"},\"mode\":\"lines\",\"name\":\"Women 15 to 50 years\",\"orientation\":\"v\",\"showlegend\":true,\"x\":[\"2022\",\"2021\",\"2019\",\"2018\",\"2017\",\"2016\",\"2015\",\"2014\",\"2013\",\"2012\",\"2011\",\"2010\"],\"xaxis\":\"x\",\"y\":[453850.0,458334.0,450971.0,454027.0,468957.0,471829.0,478813.0,472565.0,477649.0,505431.0,518722.0,508113.0],\"yaxis\":\"y\",\"type\":\"scatter\"},{\"hovertemplate\":\"Value=In labor force\\u003cbr\\u003eYear=%{x}\\u003cbr\\u003eCount=%{y}\\u003cextra\\u003e\\u003c\\u002fextra\\u003e\",\"legendgroup\":\"In labor force\",\"line\":{\"color\":\"#EF553B\",\"dash\":\"solid\"},\"marker\":{\"symbol\":\"circle\"},\"mode\":\"lines\",\"name\":\"In labor force\",\"orientation\":\"v\",\"showlegend\":true,\"x\":[\"2022\",\"2021\",\"2019\",\"2018\",\"2017\",\"2016\",\"2015\",\"2014\",\"2013\",\"2012\",\"2011\",\"2010\"],\"xaxis\":\"x\",\"y\":[295534.0,288596.0,281556.0,283565.0,275864.0,278450.0,277647.0,264477.0,271029.0,281543.0,298753.0,287872.0],\"yaxis\":\"y\",\"type\":\"scatter\"}],                        {\"template\":{\"data\":{\"histogram2dcontour\":[{\"type\":\"histogram2dcontour\",\"colorbar\":{\"outlinewidth\":0,\"ticks\":\"\"},\"colorscale\":[[0.0,\"#0d0887\"],[0.1111111111111111,\"#46039f\"],[0.2222222222222222,\"#7201a8\"],[0.3333333333333333,\"#9c179e\"],[0.4444444444444444,\"#bd3786\"],[0.5555555555555556,\"#d8576b\"],[0.6666666666666666,\"#ed7953\"],[0.7777777777777778,\"#fb9f3a\"],[0.8888888888888888,\"#fdca26\"],[1.0,\"#f0f921\"]]}],\"choropleth\":[{\"type\":\"choropleth\",\"colorbar\":{\"outlinewidth\":0,\"ticks\":\"\"}}],\"histogram2d\":[{\"type\":\"histogram2d\",\"colorbar\":{\"outlinewidth\":0,\"ticks\":\"\"},\"colorscale\":[[0.0,\"#0d0887\"],[0.1111111111111111,\"#46039f\"],[0.2222222222222222,\"#7201a8\"],[0.3333333333333333,\"#9c179e\"],[0.4444444444444444,\"#bd3786\"],[0.5555555555555556,\"#d8576b\"],[0.6666666666666666,\"#ed7953\"],[0.7777777777777778,\"#fb9f3a\"],[0.8888888888888888,\"#fdca26\"],[1.0,\"#f0f921\"]]}],\"heatmap\":[{\"type\":\"heatmap\",\"colorbar\":{\"outlinewidth\":0,\"ticks\":\"\"},\"colorscale\":[[0.0,\"#0d0887\"],[0.1111111111111111,\"#46039f\"],[0.2222222222222222,\"#7201a8\"],[0.3333333333333333,\"#9c179e\"],[0.4444444444444444,\"#bd3786\"],[0.5555555555555556,\"#d8576b\"],[0.6666666666666666,\"#ed7953\"],[0.7777777777777778,\"#fb9f3a\"],[0.8888888888888888,\"#fdca26\"],[1.0,\"#f0f921\"]]}],\"heatmapgl\":[{\"type\":\"heatmapgl\",\"colorbar\":{\"outlinewidth\":0,\"ticks\":\"\"},\"colorscale\":[[0.0,\"#0d0887\"],[0.1111111111111111,\"#46039f\"],[0.2222222222222222,\"#7201a8\"],[0.3333333333333333,\"#9c179e\"],[0.4444444444444444,\"#bd3786\"],[0.5555555555555556,\"#d8576b\"],[0.6666666666666666,\"#ed7953\"],[0.7777777777777778,\"#fb9f3a\"],[0.8888888888888888,\"#fdca26\"],[1.0,\"#f0f921\"]]}],\"contourcarpet\":[{\"type\":\"contourcarpet\",\"colorbar\":{\"outlinewidth\":0,\"ticks\":\"\"}}],\"contour\":[{\"type\":\"contour\",\"colorbar\":{\"outlinewidth\":0,\"ticks\":\"\"},\"colorscale\":[[0.0,\"#0d0887\"],[0.1111111111111111,\"#46039f\"],[0.2222222222222222,\"#7201a8\"],[0.3333333333333333,\"#9c179e\"],[0.4444444444444444,\"#bd3786\"],[0.5555555555555556,\"#d8576b\"],[0.6666666666666666,\"#ed7953\"],[0.7777777777777778,\"#fb9f3a\"],[0.8888888888888888,\"#fdca26\"],[1.0,\"#f0f921\"]]}],\"surface\":[{\"type\":\"surface\",\"colorbar\":{\"outlinewidth\":0,\"ticks\":\"\"},\"colorscale\":[[0.0,\"#0d0887\"],[0.1111111111111111,\"#46039f\"],[0.2222222222222222,\"#7201a8\"],[0.3333333333333333,\"#9c179e\"],[0.4444444444444444,\"#bd3786\"],[0.5555555555555556,\"#d8576b\"],[0.6666666666666666,\"#ed7953\"],[0.7777777777777778,\"#fb9f3a\"],[0.8888888888888888,\"#fdca26\"],[1.0,\"#f0f921\"]]}],\"mesh3d\":[{\"type\":\"mesh3d\",\"colorbar\":{\"outlinewidth\":0,\"ticks\":\"\"}}],\"scatter\":[{\"fillpattern\":{\"fillmode\":\"overlay\",\"size\":10,\"solidity\":0.2},\"type\":\"scatter\"}],\"parcoords\":[{\"type\":\"parcoords\",\"line\":{\"colorbar\":{\"outlinewidth\":0,\"ticks\":\"\"}}}],\"scatterpolargl\":[{\"type\":\"scatterpolargl\",\"marker\":{\"colorbar\":{\"outlinewidth\":0,\"ticks\":\"\"}}}],\"bar\":[{\"error_x\":{\"color\":\"#2a3f5f\"},\"error_y\":{\"color\":\"#2a3f5f\"},\"marker\":{\"line\":{\"color\":\"#E5ECF6\",\"width\":0.5},\"pattern\":{\"fillmode\":\"overlay\",\"size\":10,\"solidity\":0.2}},\"type\":\"bar\"}],\"scattergeo\":[{\"type\":\"scattergeo\",\"marker\":{\"colorbar\":{\"outlinewidth\":0,\"ticks\":\"\"}}}],\"scatterpolar\":[{\"type\":\"scatterpolar\",\"marker\":{\"colorbar\":{\"outlinewidth\":0,\"ticks\":\"\"}}}],\"histogram\":[{\"marker\":{\"pattern\":{\"fillmode\":\"overlay\",\"size\":10,\"solidity\":0.2}},\"type\":\"histogram\"}],\"scattergl\":[{\"type\":\"scattergl\",\"marker\":{\"colorbar\":{\"outlinewidth\":0,\"ticks\":\"\"}}}],\"scatter3d\":[{\"type\":\"scatter3d\",\"line\":{\"colorbar\":{\"outlinewidth\":0,\"ticks\":\"\"}},\"marker\":{\"colorbar\":{\"outlinewidth\":0,\"ticks\":\"\"}}}],\"scattermapbox\":[{\"type\":\"scattermapbox\",\"marker\":{\"colorbar\":{\"outlinewidth\":0,\"ticks\":\"\"}}}],\"scatterternary\":[{\"type\":\"scatterternary\",\"marker\":{\"colorbar\":{\"outlinewidth\":0,\"ticks\":\"\"}}}],\"scattercarpet\":[{\"type\":\"scattercarpet\",\"marker\":{\"colorbar\":{\"outlinewidth\":0,\"ticks\":\"\"}}}],\"carpet\":[{\"aaxis\":{\"endlinecolor\":\"#2a3f5f\",\"gridcolor\":\"white\",\"linecolor\":\"white\",\"minorgridcolor\":\"white\",\"startlinecolor\":\"#2a3f5f\"},\"baxis\":{\"endlinecolor\":\"#2a3f5f\",\"gridcolor\":\"white\",\"linecolor\":\"white\",\"minorgridcolor\":\"white\",\"startlinecolor\":\"#2a3f5f\"},\"type\":\"carpet\"}],\"table\":[{\"cells\":{\"fill\":{\"color\":\"#EBF0F8\"},\"line\":{\"color\":\"white\"}},\"header\":{\"fill\":{\"color\":\"#C8D4E3\"},\"line\":{\"color\":\"white\"}},\"type\":\"table\"}],\"barpolar\":[{\"marker\":{\"line\":{\"color\":\"#E5ECF6\",\"width\":0.5},\"pattern\":{\"fillmode\":\"overlay\",\"size\":10,\"solidity\":0.2}},\"type\":\"barpolar\"}],\"pie\":[{\"automargin\":true,\"type\":\"pie\"}]},\"layout\":{\"autotypenumbers\":\"strict\",\"colorway\":[\"#636efa\",\"#EF553B\",\"#00cc96\",\"#ab63fa\",\"#FFA15A\",\"#19d3f3\",\"#FF6692\",\"#B6E880\",\"#FF97FF\",\"#FECB52\"],\"font\":{\"color\":\"#2a3f5f\"},\"hovermode\":\"closest\",\"hoverlabel\":{\"align\":\"left\"},\"paper_bgcolor\":\"white\",\"plot_bgcolor\":\"#E5ECF6\",\"polar\":{\"bgcolor\":\"#E5ECF6\",\"angularaxis\":{\"gridcolor\":\"white\",\"linecolor\":\"white\",\"ticks\":\"\"},\"radialaxis\":{\"gridcolor\":\"white\",\"linecolor\":\"white\",\"ticks\":\"\"}},\"ternary\":{\"bgcolor\":\"#E5ECF6\",\"aaxis\":{\"gridcolor\":\"white\",\"linecolor\":\"white\",\"ticks\":\"\"},\"baxis\":{\"gridcolor\":\"white\",\"linecolor\":\"white\",\"ticks\":\"\"},\"caxis\":{\"gridcolor\":\"white\",\"linecolor\":\"white\",\"ticks\":\"\"}},\"coloraxis\":{\"colorbar\":{\"outlinewidth\":0,\"ticks\":\"\"}},\"colorscale\":{\"sequential\":[[0.0,\"#0d0887\"],[0.1111111111111111,\"#46039f\"],[0.2222222222222222,\"#7201a8\"],[0.3333333333333333,\"#9c179e\"],[0.4444444444444444,\"#bd3786\"],[0.5555555555555556,\"#d8576b\"],[0.6666666666666666,\"#ed7953\"],[0.7777777777777778,\"#fb9f3a\"],[0.8888888888888888,\"#fdca26\"],[1.0,\"#f0f921\"]],\"sequentialminus\":[[0.0,\"#0d0887\"],[0.1111111111111111,\"#46039f\"],[0.2222222222222222,\"#7201a8\"],[0.3333333333333333,\"#9c179e\"],[0.4444444444444444,\"#bd3786\"],[0.5555555555555556,\"#d8576b\"],[0.6666666666666666,\"#ed7953\"],[0.7777777777777778,\"#fb9f3a\"],[0.8888888888888888,\"#fdca26\"],[1.0,\"#f0f921\"]],\"diverging\":[[0,\"#8e0152\"],[0.1,\"#c51b7d\"],[0.2,\"#de77ae\"],[0.3,\"#f1b6da\"],[0.4,\"#fde0ef\"],[0.5,\"#f7f7f7\"],[0.6,\"#e6f5d0\"],[0.7,\"#b8e186\"],[0.8,\"#7fbc41\"],[0.9,\"#4d9221\"],[1,\"#276419\"]]},\"xaxis\":{\"gridcolor\":\"white\",\"linecolor\":\"white\",\"ticks\":\"\",\"title\":{\"standoff\":15},\"zerolinecolor\":\"white\",\"automargin\":true,\"zerolinewidth\":2},\"yaxis\":{\"gridcolor\":\"white\",\"linecolor\":\"white\",\"ticks\":\"\",\"title\":{\"standoff\":15},\"zerolinecolor\":\"white\",\"automargin\":true,\"zerolinewidth\":2},\"scene\":{\"xaxis\":{\"backgroundcolor\":\"#E5ECF6\",\"gridcolor\":\"white\",\"linecolor\":\"white\",\"showbackground\":true,\"ticks\":\"\",\"zerolinecolor\":\"white\",\"gridwidth\":2},\"yaxis\":{\"backgroundcolor\":\"#E5ECF6\",\"gridcolor\":\"white\",\"linecolor\":\"white\",\"showbackground\":true,\"ticks\":\"\",\"zerolinecolor\":\"white\",\"gridwidth\":2},\"zaxis\":{\"backgroundcolor\":\"#E5ECF6\",\"gridcolor\":\"white\",\"linecolor\":\"white\",\"showbackground\":true,\"ticks\":\"\",\"zerolinecolor\":\"white\",\"gridwidth\":2}},\"shapedefaults\":{\"line\":{\"color\":\"#2a3f5f\"}},\"annotationdefaults\":{\"arrowcolor\":\"#2a3f5f\",\"arrowhead\":0,\"arrowwidth\":1},\"geo\":{\"bgcolor\":\"white\",\"landcolor\":\"#E5ECF6\",\"subunitcolor\":\"white\",\"showland\":true,\"showlakes\":true,\"lakecolor\":\"white\"},\"title\":{\"x\":0.05},\"mapbox\":{\"style\":\"light\"}}},\"xaxis\":{\"anchor\":\"y\",\"domain\":[0.0,1.0],\"title\":{\"text\":\"Year\"}},\"yaxis\":{\"anchor\":\"x\",\"domain\":[0.0,1.0],\"title\":{\"text\":\"Count\"}},\"legend\":{\"title\":{\"text\":\"Value\"},\"tracegroupgap\":0},\"title\":{\"text\":\"Births and Employment by Year and State\"}},                        {\"responsive\": true}                    ).then(function(){\n",
       "                            \n",
       "var gd = document.getElementById('313a3979-9278-4a01-b528-ed2cffdd1ee8');\n",
       "var x = new MutationObserver(function (mutations, observer) {{\n",
       "        var display = window.getComputedStyle(gd).display;\n",
       "        if (!display || display === 'none') {{\n",
       "            console.log([gd, 'removed!']);\n",
       "            Plotly.purge(gd);\n",
       "            observer.disconnect();\n",
       "        }}\n",
       "}});\n",
       "\n",
       "// Listen for the removal of the full notebook cells\n",
       "var notebookContainer = gd.closest('#notebook-container');\n",
       "if (notebookContainer) {{\n",
       "    x.observe(notebookContainer, {childList: true});\n",
       "}}\n",
       "\n",
       "// Listen for the clearing of the current output cell\n",
       "var outputEl = gd.closest('.output');\n",
       "if (outputEl) {{\n",
       "    x.observe(outputEl, {childList: true});\n",
       "}}\n",
       "\n",
       "                        })                };                });            </script>        </div>"
      ]
     },
     "metadata": {},
     "output_type": "display_data"
    }
   ],
   "source": [
    "target_state = consol_df[consol_df['State']=='California']\n",
    "# Create the line chart\n",
    "fig = px.line(target_state, x='Year', y='Count', color='Value', title='Births and Employment by Year and State')\n",
    "fig.show()"
   ]
  },
  {
   "cell_type": "code",
   "execution_count": 351,
   "metadata": {},
   "outputs": [
    {
     "data": {
      "application/vnd.plotly.v1+json": {
       "config": {
        "plotlyServerURL": "https://plot.ly"
       },
       "data": [
        {
         "hovertemplate": "State=Alabama<br>Year=%{x}<br>Spread=%{y}<extra></extra>",
         "legendgroup": "Alabama",
         "line": {
          "color": "#636efa",
          "dash": "solid"
         },
         "marker": {
          "symbol": "circle"
         },
         "mode": "lines",
         "name": "Alabama",
         "orientation": "v",
         "showlegend": true,
         "type": "scatter",
         "x": [
          "2022",
          "2021",
          "2019",
          "2018",
          "2017",
          "2016",
          "2015",
          "2014",
          "2013",
          "2012",
          "2011",
          "2010"
         ],
         "xaxis": "x",
         "y": [
          23071,
          21033,
          18263,
          25667,
          21644,
          20830,
          21149,
          24407,
          19161,
          24948,
          28012,
          24346
         ],
         "yaxis": "y"
        },
        {
         "hovertemplate": "State=Alaska<br>Year=%{x}<br>Spread=%{y}<extra></extra>",
         "legendgroup": "Alaska",
         "line": {
          "color": "#EF553B",
          "dash": "solid"
         },
         "marker": {
          "symbol": "circle"
         },
         "mode": "lines",
         "name": "Alaska",
         "orientation": "v",
         "showlegend": true,
         "type": "scatter",
         "x": [
          "2022",
          "2021",
          "2019",
          "2018",
          "2017",
          "2016",
          "2015",
          "2014",
          "2013",
          "2012",
          "2011",
          "2010"
         ],
         "xaxis": "x",
         "y": [
          4440,
          4103,
          5261,
          3780,
          5241,
          3450,
          4428,
          5526,
          3867,
          4965,
          4415,
          6128
         ],
         "yaxis": "y"
        },
        {
         "hovertemplate": "State=Arizona<br>Year=%{x}<br>Spread=%{y}<extra></extra>",
         "legendgroup": "Arizona",
         "line": {
          "color": "#00cc96",
          "dash": "solid"
         },
         "marker": {
          "symbol": "circle"
         },
         "mode": "lines",
         "name": "Arizona",
         "orientation": "v",
         "showlegend": true,
         "type": "scatter",
         "x": [
          "2022",
          "2021",
          "2019",
          "2018",
          "2017",
          "2016",
          "2015",
          "2014",
          "2013",
          "2012",
          "2011",
          "2010"
         ],
         "xaxis": "x",
         "y": [
          34444,
          28678,
          37087,
          38891,
          35514,
          34204,
          36009,
          38118,
          38013,
          35236,
          36123,
          40438
         ],
         "yaxis": "y"
        },
        {
         "hovertemplate": "State=Arkansas<br>Year=%{x}<br>Spread=%{y}<extra></extra>",
         "legendgroup": "Arkansas",
         "line": {
          "color": "#ab63fa",
          "dash": "solid"
         },
         "marker": {
          "symbol": "circle"
         },
         "mode": "lines",
         "name": "Arkansas",
         "orientation": "v",
         "showlegend": true,
         "type": "scatter",
         "x": [
          "2022",
          "2021",
          "2019",
          "2018",
          "2017",
          "2016",
          "2015",
          "2014",
          "2013",
          "2012",
          "2011",
          "2010"
         ],
         "xaxis": "x",
         "y": [
          14502,
          14105,
          12839,
          13419,
          16190,
          15565,
          19452,
          15774,
          15698,
          16358,
          15453,
          13843
         ],
         "yaxis": "y"
        },
        {
         "hovertemplate": "State=California<br>Year=%{x}<br>Spread=%{y}<extra></extra>",
         "legendgroup": "California",
         "line": {
          "color": "#FFA15A",
          "dash": "solid"
         },
         "marker": {
          "symbol": "circle"
         },
         "mode": "lines",
         "name": "California",
         "orientation": "v",
         "showlegend": true,
         "type": "scatter",
         "x": [
          "2022",
          "2021",
          "2019",
          "2018",
          "2017",
          "2016",
          "2015",
          "2014",
          "2013",
          "2012",
          "2011",
          "2010"
         ],
         "xaxis": "x",
         "y": [
          158316,
          169738,
          169415,
          170462,
          193093,
          193379,
          201166,
          208088,
          206620,
          223888,
          219969,
          220241
         ],
         "yaxis": "y"
        },
        {
         "hovertemplate": "State=Colorado<br>Year=%{x}<br>Spread=%{y}<extra></extra>",
         "legendgroup": "Colorado",
         "line": {
          "color": "#19d3f3",
          "dash": "solid"
         },
         "marker": {
          "symbol": "circle"
         },
         "mode": "lines",
         "name": "Colorado",
         "orientation": "v",
         "showlegend": true,
         "type": "scatter",
         "x": [
          "2022",
          "2021",
          "2019",
          "2018",
          "2017",
          "2016",
          "2015",
          "2014",
          "2013",
          "2012",
          "2011",
          "2010"
         ],
         "xaxis": "x",
         "y": [
          22187,
          21936,
          25110,
          26420,
          25936,
          24901,
          26445,
          24879,
          24658,
          28004,
          30861,
          24754
         ],
         "yaxis": "y"
        },
        {
         "hovertemplate": "State=Connecticut<br>Year=%{x}<br>Spread=%{y}<extra></extra>",
         "legendgroup": "Connecticut",
         "line": {
          "color": "#FF6692",
          "dash": "solid"
         },
         "marker": {
          "symbol": "circle"
         },
         "mode": "lines",
         "name": "Connecticut",
         "orientation": "v",
         "showlegend": true,
         "type": "scatter",
         "x": [
          "2022",
          "2021",
          "2019",
          "2018",
          "2017",
          "2016",
          "2015",
          "2014",
          "2013",
          "2012",
          "2011",
          "2010"
         ],
         "xaxis": "x",
         "y": [
          10544,
          9821,
          7693,
          10641,
          9209,
          7910,
          10324,
          14114,
          11000,
          10972,
          11787,
          14562
         ],
         "yaxis": "y"
        },
        {
         "hovertemplate": "State=Delaware<br>Year=%{x}<br>Spread=%{y}<extra></extra>",
         "legendgroup": "Delaware",
         "line": {
          "color": "#B6E880",
          "dash": "solid"
         },
         "marker": {
          "symbol": "circle"
         },
         "mode": "lines",
         "name": "Delaware",
         "orientation": "v",
         "showlegend": true,
         "type": "scatter",
         "x": [
          "2022",
          "2021",
          "2019",
          "2018",
          "2017",
          "2016",
          "2015",
          "2014",
          "2013",
          "2012",
          "2011",
          "2010"
         ],
         "xaxis": "x",
         "y": [
          3243,
          3856,
          3258,
          3324,
          3819,
          3095,
          3371,
          2796,
          4261,
          4854,
          3047,
          2978
         ],
         "yaxis": "y"
        },
        {
         "hovertemplate": "State=District of Columbia<br>Year=%{x}<br>Spread=%{y}<extra></extra>",
         "legendgroup": "District of Columbia",
         "line": {
          "color": "#FF97FF",
          "dash": "solid"
         },
         "marker": {
          "symbol": "circle"
         },
         "mode": "lines",
         "name": "District of Columbia",
         "orientation": "v",
         "showlegend": true,
         "type": "scatter",
         "x": [
          "2022",
          "2021",
          "2019",
          "2018",
          "2017",
          "2016",
          "2015",
          "2014",
          "2013",
          "2012",
          "2011",
          "2010"
         ],
         "xaxis": "x",
         "y": [
          2596,
          2386,
          2083,
          1498,
          2705,
          2471,
          2114,
          2662,
          2776,
          2724,
          2469,
          3172
         ],
         "yaxis": "y"
        },
        {
         "hovertemplate": "State=Florida<br>Year=%{x}<br>Spread=%{y}<extra></extra>",
         "legendgroup": "Florida",
         "line": {
          "color": "#FECB52",
          "dash": "solid"
         },
         "marker": {
          "symbol": "circle"
         },
         "mode": "lines",
         "name": "Florida",
         "orientation": "v",
         "showlegend": true,
         "type": "scatter",
         "x": [
          "2022",
          "2021",
          "2019",
          "2018",
          "2017",
          "2016",
          "2015",
          "2014",
          "2013",
          "2012",
          "2011",
          "2010"
         ],
         "xaxis": "x",
         "y": [
          79860,
          73540,
          71912,
          83204,
          87644,
          78696,
          79587,
          83934,
          80314,
          81513,
          73168,
          77159
         ],
         "yaxis": "y"
        },
        {
         "hovertemplate": "State=Georgia<br>Year=%{x}<br>Spread=%{y}<extra></extra>",
         "legendgroup": "Georgia",
         "line": {
          "color": "#636efa",
          "dash": "solid"
         },
         "marker": {
          "symbol": "circle"
         },
         "mode": "lines",
         "name": "Georgia",
         "orientation": "v",
         "showlegend": true,
         "type": "scatter",
         "x": [
          "2022",
          "2021",
          "2019",
          "2018",
          "2017",
          "2016",
          "2015",
          "2014",
          "2013",
          "2012",
          "2011",
          "2010"
         ],
         "xaxis": "x",
         "y": [
          51584,
          50619,
          49159,
          41195,
          50833,
          53669,
          52681,
          53223,
          47655,
          59641,
          50485,
          59883
         ],
         "yaxis": "y"
        },
        {
         "hovertemplate": "State=Hawaii<br>Year=%{x}<br>Spread=%{y}<extra></extra>",
         "legendgroup": "Hawaii",
         "line": {
          "color": "#EF553B",
          "dash": "solid"
         },
         "marker": {
          "symbol": "circle"
         },
         "mode": "lines",
         "name": "Hawaii",
         "orientation": "v",
         "showlegend": true,
         "type": "scatter",
         "x": [
          "2022",
          "2021",
          "2019",
          "2018",
          "2017",
          "2016",
          "2015",
          "2014",
          "2013",
          "2012",
          "2011",
          "2010"
         ],
         "xaxis": "x",
         "y": [
          3760,
          7439,
          6091,
          5781,
          7159,
          8403,
          7720,
          7907,
          6474,
          7550,
          10138,
          7574
         ],
         "yaxis": "y"
        },
        {
         "hovertemplate": "State=Idaho<br>Year=%{x}<br>Spread=%{y}<extra></extra>",
         "legendgroup": "Idaho",
         "line": {
          "color": "#00cc96",
          "dash": "solid"
         },
         "marker": {
          "symbol": "circle"
         },
         "mode": "lines",
         "name": "Idaho",
         "orientation": "v",
         "showlegend": true,
         "type": "scatter",
         "x": [
          "2022",
          "2021",
          "2019",
          "2018",
          "2017",
          "2016",
          "2015",
          "2014",
          "2013",
          "2012",
          "2011",
          "2010"
         ],
         "xaxis": "x",
         "y": [
          10646,
          9282,
          11673,
          10478,
          11637,
          10215,
          9753,
          9958,
          9628,
          10933,
          13671,
          8203
         ],
         "yaxis": "y"
        },
        {
         "hovertemplate": "State=Illinois<br>Year=%{x}<br>Spread=%{y}<extra></extra>",
         "legendgroup": "Illinois",
         "line": {
          "color": "#ab63fa",
          "dash": "solid"
         },
         "marker": {
          "symbol": "circle"
         },
         "mode": "lines",
         "name": "Illinois",
         "orientation": "v",
         "showlegend": true,
         "type": "scatter",
         "x": [
          "2022",
          "2021",
          "2019",
          "2018",
          "2017",
          "2016",
          "2015",
          "2014",
          "2013",
          "2012",
          "2011",
          "2010"
         ],
         "xaxis": "x",
         "y": [
          43296,
          41531,
          45564,
          48835,
          51350,
          46655,
          55911,
          54098,
          53972,
          54100,
          60296,
          68001
         ],
         "yaxis": "y"
        },
        {
         "hovertemplate": "State=Indiana<br>Year=%{x}<br>Spread=%{y}<extra></extra>",
         "legendgroup": "Indiana",
         "line": {
          "color": "#FFA15A",
          "dash": "solid"
         },
         "marker": {
          "symbol": "circle"
         },
         "mode": "lines",
         "name": "Indiana",
         "orientation": "v",
         "showlegend": true,
         "type": "scatter",
         "x": [
          "2022",
          "2021",
          "2019",
          "2018",
          "2017",
          "2016",
          "2015",
          "2014",
          "2013",
          "2012",
          "2011",
          "2010"
         ],
         "xaxis": "x",
         "y": [
          32629,
          28721,
          26354,
          28352,
          26905,
          31608,
          28797,
          30291,
          32137,
          33874,
          27751,
          29256
         ],
         "yaxis": "y"
        },
        {
         "hovertemplate": "State=Iowa<br>Year=%{x}<br>Spread=%{y}<extra></extra>",
         "legendgroup": "Iowa",
         "line": {
          "color": "#19d3f3",
          "dash": "solid"
         },
         "marker": {
          "symbol": "circle"
         },
         "mode": "lines",
         "name": "Iowa",
         "orientation": "v",
         "showlegend": true,
         "type": "scatter",
         "x": [
          "2022",
          "2021",
          "2019",
          "2018",
          "2017",
          "2016",
          "2015",
          "2014",
          "2013",
          "2012",
          "2011",
          "2010"
         ],
         "xaxis": "x",
         "y": [
          9741,
          10659,
          9082,
          9562,
          11795,
          11763,
          11580,
          11179,
          9403,
          12795,
          10818,
          12876
         ],
         "yaxis": "y"
        },
        {
         "hovertemplate": "State=Kansas<br>Year=%{x}<br>Spread=%{y}<extra></extra>",
         "legendgroup": "Kansas",
         "line": {
          "color": "#FF6692",
          "dash": "solid"
         },
         "marker": {
          "symbol": "circle"
         },
         "mode": "lines",
         "name": "Kansas",
         "orientation": "v",
         "showlegend": true,
         "type": "scatter",
         "x": [
          "2022",
          "2021",
          "2019",
          "2018",
          "2017",
          "2016",
          "2015",
          "2014",
          "2013",
          "2012",
          "2011",
          "2010"
         ],
         "xaxis": "x",
         "y": [
          12013,
          10350,
          14139,
          14197,
          12534,
          12449,
          12857,
          13337,
          15933,
          15349,
          14243,
          13325
         ],
         "yaxis": "y"
        },
        {
         "hovertemplate": "State=Kentucky<br>Year=%{x}<br>Spread=%{y}<extra></extra>",
         "legendgroup": "Kentucky",
         "line": {
          "color": "#B6E880",
          "dash": "solid"
         },
         "marker": {
          "symbol": "circle"
         },
         "mode": "lines",
         "name": "Kentucky",
         "orientation": "v",
         "showlegend": true,
         "type": "scatter",
         "x": [
          "2022",
          "2021",
          "2019",
          "2018",
          "2017",
          "2016",
          "2015",
          "2014",
          "2013",
          "2012",
          "2011",
          "2010"
         ],
         "xaxis": "x",
         "y": [
          18775,
          18853,
          16994,
          20448,
          16916,
          19682,
          20823,
          22473,
          19775,
          22765,
          19709,
          21795
         ],
         "yaxis": "y"
        },
        {
         "hovertemplate": "State=Louisiana<br>Year=%{x}<br>Spread=%{y}<extra></extra>",
         "legendgroup": "Louisiana",
         "line": {
          "color": "#FF97FF",
          "dash": "solid"
         },
         "marker": {
          "symbol": "circle"
         },
         "mode": "lines",
         "name": "Louisiana",
         "orientation": "v",
         "showlegend": true,
         "type": "scatter",
         "x": [
          "2022",
          "2021",
          "2019",
          "2018",
          "2017",
          "2016",
          "2015",
          "2014",
          "2013",
          "2012",
          "2011",
          "2010"
         ],
         "xaxis": "x",
         "y": [
          16568,
          21083,
          21871,
          24536,
          22277,
          22049,
          24423,
          21064,
          25589,
          20931,
          26308,
          26661
         ],
         "yaxis": "y"
        },
        {
         "hovertemplate": "State=Maine<br>Year=%{x}<br>Spread=%{y}<extra></extra>",
         "legendgroup": "Maine",
         "line": {
          "color": "#FECB52",
          "dash": "solid"
         },
         "marker": {
          "symbol": "circle"
         },
         "mode": "lines",
         "name": "Maine",
         "orientation": "v",
         "showlegend": true,
         "type": "scatter",
         "x": [
          "2022",
          "2021",
          "2019",
          "2018",
          "2017",
          "2016",
          "2015",
          "2014",
          "2013",
          "2012",
          "2011",
          "2010"
         ],
         "xaxis": "x",
         "y": [
          4143,
          4995,
          5273,
          4262,
          4417,
          3332,
          4157,
          4759,
          4895,
          4949,
          4167,
          4293
         ],
         "yaxis": "y"
        },
        {
         "hovertemplate": "State=Maryland<br>Year=%{x}<br>Spread=%{y}<extra></extra>",
         "legendgroup": "Maryland",
         "line": {
          "color": "#636efa",
          "dash": "solid"
         },
         "marker": {
          "symbol": "circle"
         },
         "mode": "lines",
         "name": "Maryland",
         "orientation": "v",
         "showlegend": true,
         "type": "scatter",
         "x": [
          "2022",
          "2021",
          "2019",
          "2018",
          "2017",
          "2016",
          "2015",
          "2014",
          "2013",
          "2012",
          "2011",
          "2010"
         ],
         "xaxis": "x",
         "y": [
          21808,
          19476,
          21242,
          22004,
          22014,
          22307,
          25409,
          20952,
          25955,
          24999,
          24083,
          25469
         ],
         "yaxis": "y"
        },
        {
         "hovertemplate": "State=Massachusetts<br>Year=%{x}<br>Spread=%{y}<extra></extra>",
         "legendgroup": "Massachusetts",
         "line": {
          "color": "#EF553B",
          "dash": "solid"
         },
         "marker": {
          "symbol": "circle"
         },
         "mode": "lines",
         "name": "Massachusetts",
         "orientation": "v",
         "showlegend": true,
         "type": "scatter",
         "x": [
          "2022",
          "2021",
          "2019",
          "2018",
          "2017",
          "2016",
          "2015",
          "2014",
          "2013",
          "2012",
          "2011",
          "2010"
         ],
         "xaxis": "x",
         "y": [
          17315,
          18391,
          15927,
          18933,
          21234,
          21013,
          21817,
          22230,
          24890,
          21755,
          24807,
          25292
         ],
         "yaxis": "y"
        },
        {
         "hovertemplate": "State=Michigan<br>Year=%{x}<br>Spread=%{y}<extra></extra>",
         "legendgroup": "Michigan",
         "line": {
          "color": "#00cc96",
          "dash": "solid"
         },
         "marker": {
          "symbol": "circle"
         },
         "mode": "lines",
         "name": "Michigan",
         "orientation": "v",
         "showlegend": true,
         "type": "scatter",
         "x": [
          "2022",
          "2021",
          "2019",
          "2018",
          "2017",
          "2016",
          "2015",
          "2014",
          "2013",
          "2012",
          "2011",
          "2010"
         ],
         "xaxis": "x",
         "y": [
          36364,
          40645,
          36385,
          38129,
          42785,
          42485,
          42783,
          44243,
          43498,
          40736,
          44201,
          42708
         ],
         "yaxis": "y"
        },
        {
         "hovertemplate": "State=Minnesota<br>Year=%{x}<br>Spread=%{y}<extra></extra>",
         "legendgroup": "Minnesota",
         "line": {
          "color": "#ab63fa",
          "dash": "solid"
         },
         "marker": {
          "symbol": "circle"
         },
         "mode": "lines",
         "name": "Minnesota",
         "orientation": "v",
         "showlegend": true,
         "type": "scatter",
         "x": [
          "2022",
          "2021",
          "2019",
          "2018",
          "2017",
          "2016",
          "2015",
          "2014",
          "2013",
          "2012",
          "2011",
          "2010"
         ],
         "xaxis": "x",
         "y": [
          17696,
          16152,
          17202,
          19832,
          17618,
          18487,
          20220,
          20371,
          19724,
          19787,
          23116,
          21193
         ],
         "yaxis": "y"
        },
        {
         "hovertemplate": "State=Mississippi<br>Year=%{x}<br>Spread=%{y}<extra></extra>",
         "legendgroup": "Mississippi",
         "line": {
          "color": "#FFA15A",
          "dash": "solid"
         },
         "marker": {
          "symbol": "circle"
         },
         "mode": "lines",
         "name": "Mississippi",
         "orientation": "v",
         "showlegend": true,
         "type": "scatter",
         "x": [
          "2022",
          "2021",
          "2019",
          "2018",
          "2017",
          "2016",
          "2015",
          "2014",
          "2013",
          "2012",
          "2011",
          "2010"
         ],
         "xaxis": "x",
         "y": [
          15626,
          11035,
          12806,
          10349,
          14610,
          12804,
          12959,
          12630,
          14430,
          14315,
          12802,
          19760
         ],
         "yaxis": "y"
        },
        {
         "hovertemplate": "State=Missouri<br>Year=%{x}<br>Spread=%{y}<extra></extra>",
         "legendgroup": "Missouri",
         "line": {
          "color": "#19d3f3",
          "dash": "solid"
         },
         "marker": {
          "symbol": "circle"
         },
         "mode": "lines",
         "name": "Missouri",
         "orientation": "v",
         "showlegend": true,
         "type": "scatter",
         "x": [
          "2022",
          "2021",
          "2019",
          "2018",
          "2017",
          "2016",
          "2015",
          "2014",
          "2013",
          "2012",
          "2011",
          "2010"
         ],
         "xaxis": "x",
         "y": [
          24332,
          20573,
          25902,
          25413,
          23991,
          25979,
          24134,
          24067,
          26625,
          28307,
          27913,
          28994
         ],
         "yaxis": "y"
        },
        {
         "hovertemplate": "State=Montana<br>Year=%{x}<br>Spread=%{y}<extra></extra>",
         "legendgroup": "Montana",
         "line": {
          "color": "#FF6692",
          "dash": "solid"
         },
         "marker": {
          "symbol": "circle"
         },
         "mode": "lines",
         "name": "Montana",
         "orientation": "v",
         "showlegend": true,
         "type": "scatter",
         "x": [
          "2022",
          "2021",
          "2019",
          "2018",
          "2017",
          "2016",
          "2015",
          "2014",
          "2013",
          "2012",
          "2011",
          "2010"
         ],
         "xaxis": "x",
         "y": [
          4981,
          3619,
          4118,
          4694,
          4599,
          3777,
          5080,
          4326,
          5044,
          4268,
          5356,
          5470
         ],
         "yaxis": "y"
        },
        {
         "hovertemplate": "State=Nebraska<br>Year=%{x}<br>Spread=%{y}<extra></extra>",
         "legendgroup": "Nebraska",
         "line": {
          "color": "#B6E880",
          "dash": "solid"
         },
         "marker": {
          "symbol": "circle"
         },
         "mode": "lines",
         "name": "Nebraska",
         "orientation": "v",
         "showlegend": true,
         "type": "scatter",
         "x": [
          "2022",
          "2021",
          "2019",
          "2018",
          "2017",
          "2016",
          "2015",
          "2014",
          "2013",
          "2012",
          "2011",
          "2010"
         ],
         "xaxis": "x",
         "y": [
          6550,
          6897,
          6317,
          7252,
          9483,
          7725,
          8892,
          7874,
          9139,
          7384,
          8467,
          7987
         ],
         "yaxis": "y"
        },
        {
         "hovertemplate": "State=Nevada<br>Year=%{x}<br>Spread=%{y}<extra></extra>",
         "legendgroup": "Nevada",
         "line": {
          "color": "#FF97FF",
          "dash": "solid"
         },
         "marker": {
          "symbol": "circle"
         },
         "mode": "lines",
         "name": "Nevada",
         "orientation": "v",
         "showlegend": true,
         "type": "scatter",
         "x": [
          "2022",
          "2021",
          "2019",
          "2018",
          "2017",
          "2016",
          "2015",
          "2014",
          "2013",
          "2012",
          "2011",
          "2010"
         ],
         "xaxis": "x",
         "y": [
          15227,
          12416,
          14839,
          12938,
          14754,
          12051,
          15374,
          14134,
          12672,
          14780,
          13505,
          15718
         ],
         "yaxis": "y"
        },
        {
         "hovertemplate": "State=New Hampshire<br>Year=%{x}<br>Spread=%{y}<extra></extra>",
         "legendgroup": "New Hampshire",
         "line": {
          "color": "#FECB52",
          "dash": "solid"
         },
         "marker": {
          "symbol": "circle"
         },
         "mode": "lines",
         "name": "New Hampshire",
         "orientation": "v",
         "showlegend": true,
         "type": "scatter",
         "x": [
          "2022",
          "2021",
          "2019",
          "2018",
          "2017",
          "2016",
          "2015",
          "2014",
          "2013",
          "2012",
          "2011",
          "2010"
         ],
         "xaxis": "x",
         "y": [
          3122,
          3705,
          3208,
          4212,
          3315,
          3888,
          4717,
          5127,
          5191,
          4270,
          3552,
          5293
         ],
         "yaxis": "y"
        },
        {
         "hovertemplate": "State=New Jersey<br>Year=%{x}<br>Spread=%{y}<extra></extra>",
         "legendgroup": "New Jersey",
         "line": {
          "color": "#636efa",
          "dash": "solid"
         },
         "marker": {
          "symbol": "circle"
         },
         "mode": "lines",
         "name": "New Jersey",
         "orientation": "v",
         "showlegend": true,
         "type": "scatter",
         "x": [
          "2022",
          "2021",
          "2019",
          "2018",
          "2017",
          "2016",
          "2015",
          "2014",
          "2013",
          "2012",
          "2011",
          "2010"
         ],
         "xaxis": "x",
         "y": [
          30231,
          32330,
          23732,
          34167,
          31041,
          32052,
          31572,
          32562,
          33971,
          36893,
          38842,
          39028
         ],
         "yaxis": "y"
        },
        {
         "hovertemplate": "State=New Mexico<br>Year=%{x}<br>Spread=%{y}<extra></extra>",
         "legendgroup": "New Mexico",
         "line": {
          "color": "#EF553B",
          "dash": "solid"
         },
         "marker": {
          "symbol": "circle"
         },
         "mode": "lines",
         "name": "New Mexico",
         "orientation": "v",
         "showlegend": true,
         "type": "scatter",
         "x": [
          "2022",
          "2021",
          "2019",
          "2018",
          "2017",
          "2016",
          "2015",
          "2014",
          "2013",
          "2012",
          "2011",
          "2010"
         ],
         "xaxis": "x",
         "y": [
          10016,
          9194,
          12041,
          11084,
          13159,
          9615,
          10999,
          12043,
          13182,
          11501,
          13292,
          12773
         ],
         "yaxis": "y"
        },
        {
         "hovertemplate": "State=New York<br>Year=%{x}<br>Spread=%{y}<extra></extra>",
         "legendgroup": "New York",
         "line": {
          "color": "#00cc96",
          "dash": "solid"
         },
         "marker": {
          "symbol": "circle"
         },
         "mode": "lines",
         "name": "New York",
         "orientation": "v",
         "showlegend": true,
         "type": "scatter",
         "x": [
          "2022",
          "2021",
          "2019",
          "2018",
          "2017",
          "2016",
          "2015",
          "2014",
          "2013",
          "2012",
          "2011",
          "2010"
         ],
         "xaxis": "x",
         "y": [
          70431,
          64614,
          68596,
          71826,
          73130,
          79531,
          79487,
          82987,
          88234,
          86746,
          93828,
          96730
         ],
         "yaxis": "y"
        },
        {
         "hovertemplate": "State=North Carolina<br>Year=%{x}<br>Spread=%{y}<extra></extra>",
         "legendgroup": "North Carolina",
         "line": {
          "color": "#ab63fa",
          "dash": "solid"
         },
         "marker": {
          "symbol": "circle"
         },
         "mode": "lines",
         "name": "North Carolina",
         "orientation": "v",
         "showlegend": true,
         "type": "scatter",
         "x": [
          "2022",
          "2021",
          "2019",
          "2018",
          "2017",
          "2016",
          "2015",
          "2014",
          "2013",
          "2012",
          "2011",
          "2010"
         ],
         "xaxis": "x",
         "y": [
          43727,
          37650,
          47974,
          41511,
          44466,
          43912,
          45949,
          44966,
          45149,
          49461,
          51402,
          49525
         ],
         "yaxis": "y"
        },
        {
         "hovertemplate": "State=North Dakota<br>Year=%{x}<br>Spread=%{y}<extra></extra>",
         "legendgroup": "North Dakota",
         "line": {
          "color": "#FFA15A",
          "dash": "solid"
         },
         "marker": {
          "symbol": "circle"
         },
         "mode": "lines",
         "name": "North Dakota",
         "orientation": "v",
         "showlegend": true,
         "type": "scatter",
         "x": [
          "2022",
          "2021",
          "2019",
          "2018",
          "2017",
          "2016",
          "2015",
          "2014",
          "2013",
          "2012",
          "2011",
          "2010"
         ],
         "xaxis": "x",
         "y": [
          3133,
          3435,
          3524,
          2581,
          2764,
          3107,
          4100,
          3160,
          3740,
          3177,
          2401,
          2268
         ],
         "yaxis": "y"
        },
        {
         "hovertemplate": "State=Ohio<br>Year=%{x}<br>Spread=%{y}<extra></extra>",
         "legendgroup": "Ohio",
         "line": {
          "color": "#19d3f3",
          "dash": "solid"
         },
         "marker": {
          "symbol": "circle"
         },
         "mode": "lines",
         "name": "Ohio",
         "orientation": "v",
         "showlegend": true,
         "type": "scatter",
         "x": [
          "2022",
          "2021",
          "2019",
          "2018",
          "2017",
          "2016",
          "2015",
          "2014",
          "2013",
          "2012",
          "2011",
          "2010"
         ],
         "xaxis": "x",
         "y": [
          45708,
          43393,
          48495,
          48006,
          50019,
          48390,
          47914,
          45487,
          46478,
          52799,
          47600,
          52254
         ],
         "yaxis": "y"
        },
        {
         "hovertemplate": "State=Oklahoma<br>Year=%{x}<br>Spread=%{y}<extra></extra>",
         "legendgroup": "Oklahoma",
         "line": {
          "color": "#FF6692",
          "dash": "solid"
         },
         "marker": {
          "symbol": "circle"
         },
         "mode": "lines",
         "name": "Oklahoma",
         "orientation": "v",
         "showlegend": true,
         "type": "scatter",
         "x": [
          "2022",
          "2021",
          "2019",
          "2018",
          "2017",
          "2016",
          "2015",
          "2014",
          "2013",
          "2012",
          "2011",
          "2010"
         ],
         "xaxis": "x",
         "y": [
          21781,
          17457,
          21439,
          19608,
          25750,
          23237,
          18396,
          22091,
          24002,
          20976,
          22655,
          20979
         ],
         "yaxis": "y"
        },
        {
         "hovertemplate": "State=Oregon<br>Year=%{x}<br>Spread=%{y}<extra></extra>",
         "legendgroup": "Oregon",
         "line": {
          "color": "#B6E880",
          "dash": "solid"
         },
         "marker": {
          "symbol": "circle"
         },
         "mode": "lines",
         "name": "Oregon",
         "orientation": "v",
         "showlegend": true,
         "type": "scatter",
         "x": [
          "2022",
          "2021",
          "2019",
          "2018",
          "2017",
          "2016",
          "2015",
          "2014",
          "2013",
          "2012",
          "2011",
          "2010"
         ],
         "xaxis": "x",
         "y": [
          16696,
          13972,
          14639,
          17261,
          19232,
          17948,
          18536,
          18442,
          18151,
          20955,
          19702,
          17887
         ],
         "yaxis": "y"
        },
        {
         "hovertemplate": "State=Pennsylvania<br>Year=%{x}<br>Spread=%{y}<extra></extra>",
         "legendgroup": "Pennsylvania",
         "line": {
          "color": "#FF97FF",
          "dash": "solid"
         },
         "marker": {
          "symbol": "circle"
         },
         "mode": "lines",
         "name": "Pennsylvania",
         "orientation": "v",
         "showlegend": true,
         "type": "scatter",
         "x": [
          "2022",
          "2021",
          "2019",
          "2018",
          "2017",
          "2016",
          "2015",
          "2014",
          "2013",
          "2012",
          "2011",
          "2010"
         ],
         "xaxis": "x",
         "y": [
          44341,
          47907,
          46372,
          47723,
          43868,
          47073,
          51047,
          54661,
          47260,
          53196,
          51214,
          50913
         ],
         "yaxis": "y"
        },
        {
         "hovertemplate": "State=Rhode Island<br>Year=%{x}<br>Spread=%{y}<extra></extra>",
         "legendgroup": "Rhode Island",
         "line": {
          "color": "#FECB52",
          "dash": "solid"
         },
         "marker": {
          "symbol": "circle"
         },
         "mode": "lines",
         "name": "Rhode Island",
         "orientation": "v",
         "showlegend": true,
         "type": "scatter",
         "x": [
          "2022",
          "2021",
          "2019",
          "2018",
          "2017",
          "2016",
          "2015",
          "2014",
          "2013",
          "2012",
          "2011",
          "2010"
         ],
         "xaxis": "x",
         "y": [
          3389,
          3389,
          1187,
          3796,
          3020,
          3623,
          3520,
          2905,
          4047,
          2832,
          3618,
          3229
         ],
         "yaxis": "y"
        },
        {
         "hovertemplate": "State=South Carolina<br>Year=%{x}<br>Spread=%{y}<extra></extra>",
         "legendgroup": "South Carolina",
         "line": {
          "color": "#636efa",
          "dash": "solid"
         },
         "marker": {
          "symbol": "circle"
         },
         "mode": "lines",
         "name": "South Carolina",
         "orientation": "v",
         "showlegend": true,
         "type": "scatter",
         "x": [
          "2022",
          "2021",
          "2019",
          "2018",
          "2017",
          "2016",
          "2015",
          "2014",
          "2013",
          "2012",
          "2011",
          "2010"
         ],
         "xaxis": "x",
         "y": [
          20940,
          22607,
          20532,
          21604,
          22272,
          21089,
          22610,
          20367,
          22019,
          21514,
          23541,
          22627
         ],
         "yaxis": "y"
        },
        {
         "hovertemplate": "State=South Dakota<br>Year=%{x}<br>Spread=%{y}<extra></extra>",
         "legendgroup": "South Dakota",
         "line": {
          "color": "#EF553B",
          "dash": "solid"
         },
         "marker": {
          "symbol": "circle"
         },
         "mode": "lines",
         "name": "South Dakota",
         "orientation": "v",
         "showlegend": true,
         "type": "scatter",
         "x": [
          "2022",
          "2021",
          "2019",
          "2018",
          "2017",
          "2016",
          "2015",
          "2014",
          "2013",
          "2012",
          "2011",
          "2010"
         ],
         "xaxis": "x",
         "y": [
          3825,
          3307,
          3512,
          3371,
          3991,
          4394,
          3278,
          3410,
          3744,
          4012,
          3225,
          2404
         ],
         "yaxis": "y"
        },
        {
         "hovertemplate": "State=Tennessee<br>Year=%{x}<br>Spread=%{y}<extra></extra>",
         "legendgroup": "Tennessee",
         "line": {
          "color": "#00cc96",
          "dash": "solid"
         },
         "marker": {
          "symbol": "circle"
         },
         "mode": "lines",
         "name": "Tennessee",
         "orientation": "v",
         "showlegend": true,
         "type": "scatter",
         "x": [
          "2022",
          "2021",
          "2019",
          "2018",
          "2017",
          "2016",
          "2015",
          "2014",
          "2013",
          "2012",
          "2011",
          "2010"
         ],
         "xaxis": "x",
         "y": [
          30504,
          31400,
          30007,
          29416,
          30911,
          31717,
          28264,
          28845,
          32728,
          34462,
          29059,
          36665
         ],
         "yaxis": "y"
        },
        {
         "hovertemplate": "State=Texas<br>Year=%{x}<br>Spread=%{y}<extra></extra>",
         "legendgroup": "Texas",
         "line": {
          "color": "#ab63fa",
          "dash": "solid"
         },
         "marker": {
          "symbol": "circle"
         },
         "mode": "lines",
         "name": "Texas",
         "orientation": "v",
         "showlegend": true,
         "type": "scatter",
         "x": [
          "2022",
          "2021",
          "2019",
          "2018",
          "2017",
          "2016",
          "2015",
          "2014",
          "2013",
          "2012",
          "2011",
          "2010"
         ],
         "xaxis": "x",
         "y": [
          164556,
          168093,
          153941,
          165586,
          176759,
          178342,
          173026,
          176896,
          178449,
          175880,
          179328,
          182896
         ],
         "yaxis": "y"
        },
        {
         "hovertemplate": "State=Utah<br>Year=%{x}<br>Spread=%{y}<extra></extra>",
         "legendgroup": "Utah",
         "line": {
          "color": "#FFA15A",
          "dash": "solid"
         },
         "marker": {
          "symbol": "circle"
         },
         "mode": "lines",
         "name": "Utah",
         "orientation": "v",
         "showlegend": true,
         "type": "scatter",
         "x": [
          "2022",
          "2021",
          "2019",
          "2018",
          "2017",
          "2016",
          "2015",
          "2014",
          "2013",
          "2012",
          "2011",
          "2010"
         ],
         "xaxis": "x",
         "y": [
          22173,
          21984,
          18610,
          24523,
          23204,
          25738,
          23406,
          25528,
          25929,
          25730,
          25137,
          25398
         ],
         "yaxis": "y"
        },
        {
         "hovertemplate": "State=Vermont<br>Year=%{x}<br>Spread=%{y}<extra></extra>",
         "legendgroup": "Vermont",
         "line": {
          "color": "#19d3f3",
          "dash": "solid"
         },
         "marker": {
          "symbol": "circle"
         },
         "mode": "lines",
         "name": "Vermont",
         "orientation": "v",
         "showlegend": true,
         "type": "scatter",
         "x": [
          "2022",
          "2021",
          "2019",
          "2018",
          "2017",
          "2016",
          "2015",
          "2014",
          "2013",
          "2012",
          "2011",
          "2010"
         ],
         "xaxis": "x",
         "y": [
          2054,
          1888,
          944,
          1412,
          1696,
          1303,
          1928,
          1803,
          1701,
          1635,
          1551,
          2123
         ],
         "yaxis": "y"
        },
        {
         "hovertemplate": "State=Virginia<br>Year=%{x}<br>Spread=%{y}<extra></extra>",
         "legendgroup": "Virginia",
         "line": {
          "color": "#FF6692",
          "dash": "solid"
         },
         "marker": {
          "symbol": "circle"
         },
         "mode": "lines",
         "name": "Virginia",
         "orientation": "v",
         "showlegend": true,
         "type": "scatter",
         "x": [
          "2022",
          "2021",
          "2019",
          "2018",
          "2017",
          "2016",
          "2015",
          "2014",
          "2013",
          "2012",
          "2011",
          "2010"
         ],
         "xaxis": "x",
         "y": [
          33112,
          31173,
          30387,
          35550,
          34624,
          33712,
          37754,
          38828,
          41246,
          39420,
          38336,
          37591
         ],
         "yaxis": "y"
        },
        {
         "hovertemplate": "State=Washington<br>Year=%{x}<br>Spread=%{y}<extra></extra>",
         "legendgroup": "Washington",
         "line": {
          "color": "#B6E880",
          "dash": "solid"
         },
         "marker": {
          "symbol": "circle"
         },
         "mode": "lines",
         "name": "Washington",
         "orientation": "v",
         "showlegend": true,
         "type": "scatter",
         "x": [
          "2022",
          "2021",
          "2019",
          "2018",
          "2017",
          "2016",
          "2015",
          "2014",
          "2013",
          "2012",
          "2011",
          "2010"
         ],
         "xaxis": "x",
         "y": [
          35981,
          33012,
          35644,
          39412,
          41670,
          41385,
          38894,
          38002,
          35156,
          40892,
          40522,
          41029
         ],
         "yaxis": "y"
        },
        {
         "hovertemplate": "State=West Virginia<br>Year=%{x}<br>Spread=%{y}<extra></extra>",
         "legendgroup": "West Virginia",
         "line": {
          "color": "#FF97FF",
          "dash": "solid"
         },
         "marker": {
          "symbol": "circle"
         },
         "mode": "lines",
         "name": "West Virginia",
         "orientation": "v",
         "showlegend": true,
         "type": "scatter",
         "x": [
          "2022",
          "2021",
          "2019",
          "2018",
          "2017",
          "2016",
          "2015",
          "2014",
          "2013",
          "2012",
          "2011",
          "2010"
         ],
         "xaxis": "x",
         "y": [
          7115,
          8134,
          8828,
          7487,
          8300,
          9143,
          8411,
          9854,
          8285,
          7841,
          8125,
          9447
         ],
         "yaxis": "y"
        },
        {
         "hovertemplate": "State=Wisconsin<br>Year=%{x}<br>Spread=%{y}<extra></extra>",
         "legendgroup": "Wisconsin",
         "line": {
          "color": "#FECB52",
          "dash": "solid"
         },
         "marker": {
          "symbol": "circle"
         },
         "mode": "lines",
         "name": "Wisconsin",
         "orientation": "v",
         "showlegend": true,
         "type": "scatter",
         "x": [
          "2022",
          "2021",
          "2019",
          "2018",
          "2017",
          "2016",
          "2015",
          "2014",
          "2013",
          "2012",
          "2011",
          "2010"
         ],
         "xaxis": "x",
         "y": [
          17861,
          16739,
          18850,
          18625,
          18939,
          20878,
          17598,
          20182,
          17428,
          21101,
          19033,
          20484
         ],
         "yaxis": "y"
        },
        {
         "hovertemplate": "State=Wyoming<br>Year=%{x}<br>Spread=%{y}<extra></extra>",
         "legendgroup": "Wyoming",
         "line": {
          "color": "#636efa",
          "dash": "solid"
         },
         "marker": {
          "symbol": "circle"
         },
         "mode": "lines",
         "name": "Wyoming",
         "orientation": "v",
         "showlegend": true,
         "type": "scatter",
         "x": [
          "2022",
          "2021",
          "2019",
          "2018",
          "2017",
          "2016",
          "2015",
          "2014",
          "2013",
          "2012",
          "2011",
          "2010"
         ],
         "xaxis": "x",
         "y": [
          1812,
          1765,
          2874,
          3243,
          3498,
          2419,
          3271,
          3105,
          2621,
          2891,
          3557,
          3133
         ],
         "yaxis": "y"
        },
        {
         "hovertemplate": "State=Puerto Rico<br>Year=%{x}<br>Spread=%{y}<extra></extra>",
         "legendgroup": "Puerto Rico",
         "line": {
          "color": "#EF553B",
          "dash": "solid"
         },
         "marker": {
          "symbol": "circle"
         },
         "mode": "lines",
         "name": "Puerto Rico",
         "orientation": "v",
         "showlegend": true,
         "type": "scatter",
         "x": [
          "2022",
          "2021",
          "2019",
          "2018",
          "2017",
          "2016",
          "2015",
          "2014",
          "2013",
          "2012",
          "2011",
          "2010"
         ],
         "xaxis": "x",
         "y": [
          8594,
          8500,
          8342,
          10640,
          10652,
          12260,
          12819,
          18636,
          17138,
          18213,
          19302,
          22873
         ],
         "yaxis": "y"
        }
       ],
       "layout": {
        "legend": {
         "title": {
          "text": "State"
         },
         "tracegroupgap": 0
        },
        "template": {
         "data": {
          "bar": [
           {
            "error_x": {
             "color": "#2a3f5f"
            },
            "error_y": {
             "color": "#2a3f5f"
            },
            "marker": {
             "line": {
              "color": "#E5ECF6",
              "width": 0.5
             },
             "pattern": {
              "fillmode": "overlay",
              "size": 10,
              "solidity": 0.2
             }
            },
            "type": "bar"
           }
          ],
          "barpolar": [
           {
            "marker": {
             "line": {
              "color": "#E5ECF6",
              "width": 0.5
             },
             "pattern": {
              "fillmode": "overlay",
              "size": 10,
              "solidity": 0.2
             }
            },
            "type": "barpolar"
           }
          ],
          "carpet": [
           {
            "aaxis": {
             "endlinecolor": "#2a3f5f",
             "gridcolor": "white",
             "linecolor": "white",
             "minorgridcolor": "white",
             "startlinecolor": "#2a3f5f"
            },
            "baxis": {
             "endlinecolor": "#2a3f5f",
             "gridcolor": "white",
             "linecolor": "white",
             "minorgridcolor": "white",
             "startlinecolor": "#2a3f5f"
            },
            "type": "carpet"
           }
          ],
          "choropleth": [
           {
            "colorbar": {
             "outlinewidth": 0,
             "ticks": ""
            },
            "type": "choropleth"
           }
          ],
          "contour": [
           {
            "colorbar": {
             "outlinewidth": 0,
             "ticks": ""
            },
            "colorscale": [
             [
              0,
              "#0d0887"
             ],
             [
              0.1111111111111111,
              "#46039f"
             ],
             [
              0.2222222222222222,
              "#7201a8"
             ],
             [
              0.3333333333333333,
              "#9c179e"
             ],
             [
              0.4444444444444444,
              "#bd3786"
             ],
             [
              0.5555555555555556,
              "#d8576b"
             ],
             [
              0.6666666666666666,
              "#ed7953"
             ],
             [
              0.7777777777777778,
              "#fb9f3a"
             ],
             [
              0.8888888888888888,
              "#fdca26"
             ],
             [
              1,
              "#f0f921"
             ]
            ],
            "type": "contour"
           }
          ],
          "contourcarpet": [
           {
            "colorbar": {
             "outlinewidth": 0,
             "ticks": ""
            },
            "type": "contourcarpet"
           }
          ],
          "heatmap": [
           {
            "colorbar": {
             "outlinewidth": 0,
             "ticks": ""
            },
            "colorscale": [
             [
              0,
              "#0d0887"
             ],
             [
              0.1111111111111111,
              "#46039f"
             ],
             [
              0.2222222222222222,
              "#7201a8"
             ],
             [
              0.3333333333333333,
              "#9c179e"
             ],
             [
              0.4444444444444444,
              "#bd3786"
             ],
             [
              0.5555555555555556,
              "#d8576b"
             ],
             [
              0.6666666666666666,
              "#ed7953"
             ],
             [
              0.7777777777777778,
              "#fb9f3a"
             ],
             [
              0.8888888888888888,
              "#fdca26"
             ],
             [
              1,
              "#f0f921"
             ]
            ],
            "type": "heatmap"
           }
          ],
          "heatmapgl": [
           {
            "colorbar": {
             "outlinewidth": 0,
             "ticks": ""
            },
            "colorscale": [
             [
              0,
              "#0d0887"
             ],
             [
              0.1111111111111111,
              "#46039f"
             ],
             [
              0.2222222222222222,
              "#7201a8"
             ],
             [
              0.3333333333333333,
              "#9c179e"
             ],
             [
              0.4444444444444444,
              "#bd3786"
             ],
             [
              0.5555555555555556,
              "#d8576b"
             ],
             [
              0.6666666666666666,
              "#ed7953"
             ],
             [
              0.7777777777777778,
              "#fb9f3a"
             ],
             [
              0.8888888888888888,
              "#fdca26"
             ],
             [
              1,
              "#f0f921"
             ]
            ],
            "type": "heatmapgl"
           }
          ],
          "histogram": [
           {
            "marker": {
             "pattern": {
              "fillmode": "overlay",
              "size": 10,
              "solidity": 0.2
             }
            },
            "type": "histogram"
           }
          ],
          "histogram2d": [
           {
            "colorbar": {
             "outlinewidth": 0,
             "ticks": ""
            },
            "colorscale": [
             [
              0,
              "#0d0887"
             ],
             [
              0.1111111111111111,
              "#46039f"
             ],
             [
              0.2222222222222222,
              "#7201a8"
             ],
             [
              0.3333333333333333,
              "#9c179e"
             ],
             [
              0.4444444444444444,
              "#bd3786"
             ],
             [
              0.5555555555555556,
              "#d8576b"
             ],
             [
              0.6666666666666666,
              "#ed7953"
             ],
             [
              0.7777777777777778,
              "#fb9f3a"
             ],
             [
              0.8888888888888888,
              "#fdca26"
             ],
             [
              1,
              "#f0f921"
             ]
            ],
            "type": "histogram2d"
           }
          ],
          "histogram2dcontour": [
           {
            "colorbar": {
             "outlinewidth": 0,
             "ticks": ""
            },
            "colorscale": [
             [
              0,
              "#0d0887"
             ],
             [
              0.1111111111111111,
              "#46039f"
             ],
             [
              0.2222222222222222,
              "#7201a8"
             ],
             [
              0.3333333333333333,
              "#9c179e"
             ],
             [
              0.4444444444444444,
              "#bd3786"
             ],
             [
              0.5555555555555556,
              "#d8576b"
             ],
             [
              0.6666666666666666,
              "#ed7953"
             ],
             [
              0.7777777777777778,
              "#fb9f3a"
             ],
             [
              0.8888888888888888,
              "#fdca26"
             ],
             [
              1,
              "#f0f921"
             ]
            ],
            "type": "histogram2dcontour"
           }
          ],
          "mesh3d": [
           {
            "colorbar": {
             "outlinewidth": 0,
             "ticks": ""
            },
            "type": "mesh3d"
           }
          ],
          "parcoords": [
           {
            "line": {
             "colorbar": {
              "outlinewidth": 0,
              "ticks": ""
             }
            },
            "type": "parcoords"
           }
          ],
          "pie": [
           {
            "automargin": true,
            "type": "pie"
           }
          ],
          "scatter": [
           {
            "fillpattern": {
             "fillmode": "overlay",
             "size": 10,
             "solidity": 0.2
            },
            "type": "scatter"
           }
          ],
          "scatter3d": [
           {
            "line": {
             "colorbar": {
              "outlinewidth": 0,
              "ticks": ""
             }
            },
            "marker": {
             "colorbar": {
              "outlinewidth": 0,
              "ticks": ""
             }
            },
            "type": "scatter3d"
           }
          ],
          "scattercarpet": [
           {
            "marker": {
             "colorbar": {
              "outlinewidth": 0,
              "ticks": ""
             }
            },
            "type": "scattercarpet"
           }
          ],
          "scattergeo": [
           {
            "marker": {
             "colorbar": {
              "outlinewidth": 0,
              "ticks": ""
             }
            },
            "type": "scattergeo"
           }
          ],
          "scattergl": [
           {
            "marker": {
             "colorbar": {
              "outlinewidth": 0,
              "ticks": ""
             }
            },
            "type": "scattergl"
           }
          ],
          "scattermapbox": [
           {
            "marker": {
             "colorbar": {
              "outlinewidth": 0,
              "ticks": ""
             }
            },
            "type": "scattermapbox"
           }
          ],
          "scatterpolar": [
           {
            "marker": {
             "colorbar": {
              "outlinewidth": 0,
              "ticks": ""
             }
            },
            "type": "scatterpolar"
           }
          ],
          "scatterpolargl": [
           {
            "marker": {
             "colorbar": {
              "outlinewidth": 0,
              "ticks": ""
             }
            },
            "type": "scatterpolargl"
           }
          ],
          "scatterternary": [
           {
            "marker": {
             "colorbar": {
              "outlinewidth": 0,
              "ticks": ""
             }
            },
            "type": "scatterternary"
           }
          ],
          "surface": [
           {
            "colorbar": {
             "outlinewidth": 0,
             "ticks": ""
            },
            "colorscale": [
             [
              0,
              "#0d0887"
             ],
             [
              0.1111111111111111,
              "#46039f"
             ],
             [
              0.2222222222222222,
              "#7201a8"
             ],
             [
              0.3333333333333333,
              "#9c179e"
             ],
             [
              0.4444444444444444,
              "#bd3786"
             ],
             [
              0.5555555555555556,
              "#d8576b"
             ],
             [
              0.6666666666666666,
              "#ed7953"
             ],
             [
              0.7777777777777778,
              "#fb9f3a"
             ],
             [
              0.8888888888888888,
              "#fdca26"
             ],
             [
              1,
              "#f0f921"
             ]
            ],
            "type": "surface"
           }
          ],
          "table": [
           {
            "cells": {
             "fill": {
              "color": "#EBF0F8"
             },
             "line": {
              "color": "white"
             }
            },
            "header": {
             "fill": {
              "color": "#C8D4E3"
             },
             "line": {
              "color": "white"
             }
            },
            "type": "table"
           }
          ]
         },
         "layout": {
          "annotationdefaults": {
           "arrowcolor": "#2a3f5f",
           "arrowhead": 0,
           "arrowwidth": 1
          },
          "autotypenumbers": "strict",
          "coloraxis": {
           "colorbar": {
            "outlinewidth": 0,
            "ticks": ""
           }
          },
          "colorscale": {
           "diverging": [
            [
             0,
             "#8e0152"
            ],
            [
             0.1,
             "#c51b7d"
            ],
            [
             0.2,
             "#de77ae"
            ],
            [
             0.3,
             "#f1b6da"
            ],
            [
             0.4,
             "#fde0ef"
            ],
            [
             0.5,
             "#f7f7f7"
            ],
            [
             0.6,
             "#e6f5d0"
            ],
            [
             0.7,
             "#b8e186"
            ],
            [
             0.8,
             "#7fbc41"
            ],
            [
             0.9,
             "#4d9221"
            ],
            [
             1,
             "#276419"
            ]
           ],
           "sequential": [
            [
             0,
             "#0d0887"
            ],
            [
             0.1111111111111111,
             "#46039f"
            ],
            [
             0.2222222222222222,
             "#7201a8"
            ],
            [
             0.3333333333333333,
             "#9c179e"
            ],
            [
             0.4444444444444444,
             "#bd3786"
            ],
            [
             0.5555555555555556,
             "#d8576b"
            ],
            [
             0.6666666666666666,
             "#ed7953"
            ],
            [
             0.7777777777777778,
             "#fb9f3a"
            ],
            [
             0.8888888888888888,
             "#fdca26"
            ],
            [
             1,
             "#f0f921"
            ]
           ],
           "sequentialminus": [
            [
             0,
             "#0d0887"
            ],
            [
             0.1111111111111111,
             "#46039f"
            ],
            [
             0.2222222222222222,
             "#7201a8"
            ],
            [
             0.3333333333333333,
             "#9c179e"
            ],
            [
             0.4444444444444444,
             "#bd3786"
            ],
            [
             0.5555555555555556,
             "#d8576b"
            ],
            [
             0.6666666666666666,
             "#ed7953"
            ],
            [
             0.7777777777777778,
             "#fb9f3a"
            ],
            [
             0.8888888888888888,
             "#fdca26"
            ],
            [
             1,
             "#f0f921"
            ]
           ]
          },
          "colorway": [
           "#636efa",
           "#EF553B",
           "#00cc96",
           "#ab63fa",
           "#FFA15A",
           "#19d3f3",
           "#FF6692",
           "#B6E880",
           "#FF97FF",
           "#FECB52"
          ],
          "font": {
           "color": "#2a3f5f"
          },
          "geo": {
           "bgcolor": "white",
           "lakecolor": "white",
           "landcolor": "#E5ECF6",
           "showlakes": true,
           "showland": true,
           "subunitcolor": "white"
          },
          "hoverlabel": {
           "align": "left"
          },
          "hovermode": "closest",
          "mapbox": {
           "style": "light"
          },
          "paper_bgcolor": "white",
          "plot_bgcolor": "#E5ECF6",
          "polar": {
           "angularaxis": {
            "gridcolor": "white",
            "linecolor": "white",
            "ticks": ""
           },
           "bgcolor": "#E5ECF6",
           "radialaxis": {
            "gridcolor": "white",
            "linecolor": "white",
            "ticks": ""
           }
          },
          "scene": {
           "xaxis": {
            "backgroundcolor": "#E5ECF6",
            "gridcolor": "white",
            "gridwidth": 2,
            "linecolor": "white",
            "showbackground": true,
            "ticks": "",
            "zerolinecolor": "white"
           },
           "yaxis": {
            "backgroundcolor": "#E5ECF6",
            "gridcolor": "white",
            "gridwidth": 2,
            "linecolor": "white",
            "showbackground": true,
            "ticks": "",
            "zerolinecolor": "white"
           },
           "zaxis": {
            "backgroundcolor": "#E5ECF6",
            "gridcolor": "white",
            "gridwidth": 2,
            "linecolor": "white",
            "showbackground": true,
            "ticks": "",
            "zerolinecolor": "white"
           }
          },
          "shapedefaults": {
           "line": {
            "color": "#2a3f5f"
           }
          },
          "ternary": {
           "aaxis": {
            "gridcolor": "white",
            "linecolor": "white",
            "ticks": ""
           },
           "baxis": {
            "gridcolor": "white",
            "linecolor": "white",
            "ticks": ""
           },
           "bgcolor": "#E5ECF6",
           "caxis": {
            "gridcolor": "white",
            "linecolor": "white",
            "ticks": ""
           }
          },
          "title": {
           "x": 0.05
          },
          "xaxis": {
           "automargin": true,
           "gridcolor": "white",
           "linecolor": "white",
           "ticks": "",
           "title": {
            "standoff": 15
           },
           "zerolinecolor": "white",
           "zerolinewidth": 2
          },
          "yaxis": {
           "automargin": true,
           "gridcolor": "white",
           "linecolor": "white",
           "ticks": "",
           "title": {
            "standoff": 15
           },
           "zerolinecolor": "white",
           "zerolinewidth": 2
          }
         }
        },
        "title": {
         "text": "Spread of Births and Labor by Year and State"
        },
        "xaxis": {
         "anchor": "y",
         "domain": [
          0,
          1
         ],
         "title": {
          "text": "Year"
         }
        },
        "yaxis": {
         "anchor": "x",
         "domain": [
          0,
          1
         ],
         "title": {
          "text": "Spread"
         }
        }
       }
      },
      "text/html": [
       "<div>                            <div id=\"e798161b-63f3-4d67-a98d-e173fa23d3fb\" class=\"plotly-graph-div\" style=\"height:525px; width:100%;\"></div>            <script type=\"text/javascript\">                require([\"plotly\"], function(Plotly) {                    window.PLOTLYENV=window.PLOTLYENV || {};                                    if (document.getElementById(\"e798161b-63f3-4d67-a98d-e173fa23d3fb\")) {                    Plotly.newPlot(                        \"e798161b-63f3-4d67-a98d-e173fa23d3fb\",                        [{\"hovertemplate\":\"State=Alabama\\u003cbr\\u003eYear=%{x}\\u003cbr\\u003eSpread=%{y}\\u003cextra\\u003e\\u003c\\u002fextra\\u003e\",\"legendgroup\":\"Alabama\",\"line\":{\"color\":\"#636efa\",\"dash\":\"solid\"},\"marker\":{\"symbol\":\"circle\"},\"mode\":\"lines\",\"name\":\"Alabama\",\"orientation\":\"v\",\"showlegend\":true,\"x\":[\"2022\",\"2021\",\"2019\",\"2018\",\"2017\",\"2016\",\"2015\",\"2014\",\"2013\",\"2012\",\"2011\",\"2010\"],\"xaxis\":\"x\",\"y\":[23071.0,21033.0,18263.0,25667.0,21644.0,20830.0,21149.0,24407.0,19161.0,24948.0,28012.0,24346.0],\"yaxis\":\"y\",\"type\":\"scatter\"},{\"hovertemplate\":\"State=Alaska\\u003cbr\\u003eYear=%{x}\\u003cbr\\u003eSpread=%{y}\\u003cextra\\u003e\\u003c\\u002fextra\\u003e\",\"legendgroup\":\"Alaska\",\"line\":{\"color\":\"#EF553B\",\"dash\":\"solid\"},\"marker\":{\"symbol\":\"circle\"},\"mode\":\"lines\",\"name\":\"Alaska\",\"orientation\":\"v\",\"showlegend\":true,\"x\":[\"2022\",\"2021\",\"2019\",\"2018\",\"2017\",\"2016\",\"2015\",\"2014\",\"2013\",\"2012\",\"2011\",\"2010\"],\"xaxis\":\"x\",\"y\":[4440.0,4103.0,5261.0,3780.0,5241.0,3450.0,4428.0,5526.0,3867.0,4965.0,4415.0,6128.0],\"yaxis\":\"y\",\"type\":\"scatter\"},{\"hovertemplate\":\"State=Arizona\\u003cbr\\u003eYear=%{x}\\u003cbr\\u003eSpread=%{y}\\u003cextra\\u003e\\u003c\\u002fextra\\u003e\",\"legendgroup\":\"Arizona\",\"line\":{\"color\":\"#00cc96\",\"dash\":\"solid\"},\"marker\":{\"symbol\":\"circle\"},\"mode\":\"lines\",\"name\":\"Arizona\",\"orientation\":\"v\",\"showlegend\":true,\"x\":[\"2022\",\"2021\",\"2019\",\"2018\",\"2017\",\"2016\",\"2015\",\"2014\",\"2013\",\"2012\",\"2011\",\"2010\"],\"xaxis\":\"x\",\"y\":[34444.0,28678.0,37087.0,38891.0,35514.0,34204.0,36009.0,38118.0,38013.0,35236.0,36123.0,40438.0],\"yaxis\":\"y\",\"type\":\"scatter\"},{\"hovertemplate\":\"State=Arkansas\\u003cbr\\u003eYear=%{x}\\u003cbr\\u003eSpread=%{y}\\u003cextra\\u003e\\u003c\\u002fextra\\u003e\",\"legendgroup\":\"Arkansas\",\"line\":{\"color\":\"#ab63fa\",\"dash\":\"solid\"},\"marker\":{\"symbol\":\"circle\"},\"mode\":\"lines\",\"name\":\"Arkansas\",\"orientation\":\"v\",\"showlegend\":true,\"x\":[\"2022\",\"2021\",\"2019\",\"2018\",\"2017\",\"2016\",\"2015\",\"2014\",\"2013\",\"2012\",\"2011\",\"2010\"],\"xaxis\":\"x\",\"y\":[14502.0,14105.0,12839.0,13419.0,16190.0,15565.0,19452.0,15774.0,15698.0,16358.0,15453.0,13843.0],\"yaxis\":\"y\",\"type\":\"scatter\"},{\"hovertemplate\":\"State=California\\u003cbr\\u003eYear=%{x}\\u003cbr\\u003eSpread=%{y}\\u003cextra\\u003e\\u003c\\u002fextra\\u003e\",\"legendgroup\":\"California\",\"line\":{\"color\":\"#FFA15A\",\"dash\":\"solid\"},\"marker\":{\"symbol\":\"circle\"},\"mode\":\"lines\",\"name\":\"California\",\"orientation\":\"v\",\"showlegend\":true,\"x\":[\"2022\",\"2021\",\"2019\",\"2018\",\"2017\",\"2016\",\"2015\",\"2014\",\"2013\",\"2012\",\"2011\",\"2010\"],\"xaxis\":\"x\",\"y\":[158316.0,169738.0,169415.0,170462.0,193093.0,193379.0,201166.0,208088.0,206620.0,223888.0,219969.0,220241.0],\"yaxis\":\"y\",\"type\":\"scatter\"},{\"hovertemplate\":\"State=Colorado\\u003cbr\\u003eYear=%{x}\\u003cbr\\u003eSpread=%{y}\\u003cextra\\u003e\\u003c\\u002fextra\\u003e\",\"legendgroup\":\"Colorado\",\"line\":{\"color\":\"#19d3f3\",\"dash\":\"solid\"},\"marker\":{\"symbol\":\"circle\"},\"mode\":\"lines\",\"name\":\"Colorado\",\"orientation\":\"v\",\"showlegend\":true,\"x\":[\"2022\",\"2021\",\"2019\",\"2018\",\"2017\",\"2016\",\"2015\",\"2014\",\"2013\",\"2012\",\"2011\",\"2010\"],\"xaxis\":\"x\",\"y\":[22187.0,21936.0,25110.0,26420.0,25936.0,24901.0,26445.0,24879.0,24658.0,28004.0,30861.0,24754.0],\"yaxis\":\"y\",\"type\":\"scatter\"},{\"hovertemplate\":\"State=Connecticut\\u003cbr\\u003eYear=%{x}\\u003cbr\\u003eSpread=%{y}\\u003cextra\\u003e\\u003c\\u002fextra\\u003e\",\"legendgroup\":\"Connecticut\",\"line\":{\"color\":\"#FF6692\",\"dash\":\"solid\"},\"marker\":{\"symbol\":\"circle\"},\"mode\":\"lines\",\"name\":\"Connecticut\",\"orientation\":\"v\",\"showlegend\":true,\"x\":[\"2022\",\"2021\",\"2019\",\"2018\",\"2017\",\"2016\",\"2015\",\"2014\",\"2013\",\"2012\",\"2011\",\"2010\"],\"xaxis\":\"x\",\"y\":[10544.0,9821.0,7693.0,10641.0,9209.0,7910.0,10324.0,14114.0,11000.0,10972.0,11787.0,14562.0],\"yaxis\":\"y\",\"type\":\"scatter\"},{\"hovertemplate\":\"State=Delaware\\u003cbr\\u003eYear=%{x}\\u003cbr\\u003eSpread=%{y}\\u003cextra\\u003e\\u003c\\u002fextra\\u003e\",\"legendgroup\":\"Delaware\",\"line\":{\"color\":\"#B6E880\",\"dash\":\"solid\"},\"marker\":{\"symbol\":\"circle\"},\"mode\":\"lines\",\"name\":\"Delaware\",\"orientation\":\"v\",\"showlegend\":true,\"x\":[\"2022\",\"2021\",\"2019\",\"2018\",\"2017\",\"2016\",\"2015\",\"2014\",\"2013\",\"2012\",\"2011\",\"2010\"],\"xaxis\":\"x\",\"y\":[3243.0,3856.0,3258.0,3324.0,3819.0,3095.0,3371.0,2796.0,4261.0,4854.0,3047.0,2978.0],\"yaxis\":\"y\",\"type\":\"scatter\"},{\"hovertemplate\":\"State=District of Columbia\\u003cbr\\u003eYear=%{x}\\u003cbr\\u003eSpread=%{y}\\u003cextra\\u003e\\u003c\\u002fextra\\u003e\",\"legendgroup\":\"District of Columbia\",\"line\":{\"color\":\"#FF97FF\",\"dash\":\"solid\"},\"marker\":{\"symbol\":\"circle\"},\"mode\":\"lines\",\"name\":\"District of Columbia\",\"orientation\":\"v\",\"showlegend\":true,\"x\":[\"2022\",\"2021\",\"2019\",\"2018\",\"2017\",\"2016\",\"2015\",\"2014\",\"2013\",\"2012\",\"2011\",\"2010\"],\"xaxis\":\"x\",\"y\":[2596.0,2386.0,2083.0,1498.0,2705.0,2471.0,2114.0,2662.0,2776.0,2724.0,2469.0,3172.0],\"yaxis\":\"y\",\"type\":\"scatter\"},{\"hovertemplate\":\"State=Florida\\u003cbr\\u003eYear=%{x}\\u003cbr\\u003eSpread=%{y}\\u003cextra\\u003e\\u003c\\u002fextra\\u003e\",\"legendgroup\":\"Florida\",\"line\":{\"color\":\"#FECB52\",\"dash\":\"solid\"},\"marker\":{\"symbol\":\"circle\"},\"mode\":\"lines\",\"name\":\"Florida\",\"orientation\":\"v\",\"showlegend\":true,\"x\":[\"2022\",\"2021\",\"2019\",\"2018\",\"2017\",\"2016\",\"2015\",\"2014\",\"2013\",\"2012\",\"2011\",\"2010\"],\"xaxis\":\"x\",\"y\":[79860.0,73540.0,71912.0,83204.0,87644.0,78696.0,79587.0,83934.0,80314.0,81513.0,73168.0,77159.0],\"yaxis\":\"y\",\"type\":\"scatter\"},{\"hovertemplate\":\"State=Georgia\\u003cbr\\u003eYear=%{x}\\u003cbr\\u003eSpread=%{y}\\u003cextra\\u003e\\u003c\\u002fextra\\u003e\",\"legendgroup\":\"Georgia\",\"line\":{\"color\":\"#636efa\",\"dash\":\"solid\"},\"marker\":{\"symbol\":\"circle\"},\"mode\":\"lines\",\"name\":\"Georgia\",\"orientation\":\"v\",\"showlegend\":true,\"x\":[\"2022\",\"2021\",\"2019\",\"2018\",\"2017\",\"2016\",\"2015\",\"2014\",\"2013\",\"2012\",\"2011\",\"2010\"],\"xaxis\":\"x\",\"y\":[51584.0,50619.0,49159.0,41195.0,50833.0,53669.0,52681.0,53223.0,47655.0,59641.0,50485.0,59883.0],\"yaxis\":\"y\",\"type\":\"scatter\"},{\"hovertemplate\":\"State=Hawaii\\u003cbr\\u003eYear=%{x}\\u003cbr\\u003eSpread=%{y}\\u003cextra\\u003e\\u003c\\u002fextra\\u003e\",\"legendgroup\":\"Hawaii\",\"line\":{\"color\":\"#EF553B\",\"dash\":\"solid\"},\"marker\":{\"symbol\":\"circle\"},\"mode\":\"lines\",\"name\":\"Hawaii\",\"orientation\":\"v\",\"showlegend\":true,\"x\":[\"2022\",\"2021\",\"2019\",\"2018\",\"2017\",\"2016\",\"2015\",\"2014\",\"2013\",\"2012\",\"2011\",\"2010\"],\"xaxis\":\"x\",\"y\":[3760.0,7439.0,6091.0,5781.0,7159.0,8403.0,7720.0,7907.0,6474.0,7550.0,10138.0,7574.0],\"yaxis\":\"y\",\"type\":\"scatter\"},{\"hovertemplate\":\"State=Idaho\\u003cbr\\u003eYear=%{x}\\u003cbr\\u003eSpread=%{y}\\u003cextra\\u003e\\u003c\\u002fextra\\u003e\",\"legendgroup\":\"Idaho\",\"line\":{\"color\":\"#00cc96\",\"dash\":\"solid\"},\"marker\":{\"symbol\":\"circle\"},\"mode\":\"lines\",\"name\":\"Idaho\",\"orientation\":\"v\",\"showlegend\":true,\"x\":[\"2022\",\"2021\",\"2019\",\"2018\",\"2017\",\"2016\",\"2015\",\"2014\",\"2013\",\"2012\",\"2011\",\"2010\"],\"xaxis\":\"x\",\"y\":[10646.0,9282.0,11673.0,10478.0,11637.0,10215.0,9753.0,9958.0,9628.0,10933.0,13671.0,8203.0],\"yaxis\":\"y\",\"type\":\"scatter\"},{\"hovertemplate\":\"State=Illinois\\u003cbr\\u003eYear=%{x}\\u003cbr\\u003eSpread=%{y}\\u003cextra\\u003e\\u003c\\u002fextra\\u003e\",\"legendgroup\":\"Illinois\",\"line\":{\"color\":\"#ab63fa\",\"dash\":\"solid\"},\"marker\":{\"symbol\":\"circle\"},\"mode\":\"lines\",\"name\":\"Illinois\",\"orientation\":\"v\",\"showlegend\":true,\"x\":[\"2022\",\"2021\",\"2019\",\"2018\",\"2017\",\"2016\",\"2015\",\"2014\",\"2013\",\"2012\",\"2011\",\"2010\"],\"xaxis\":\"x\",\"y\":[43296.0,41531.0,45564.0,48835.0,51350.0,46655.0,55911.0,54098.0,53972.0,54100.0,60296.0,68001.0],\"yaxis\":\"y\",\"type\":\"scatter\"},{\"hovertemplate\":\"State=Indiana\\u003cbr\\u003eYear=%{x}\\u003cbr\\u003eSpread=%{y}\\u003cextra\\u003e\\u003c\\u002fextra\\u003e\",\"legendgroup\":\"Indiana\",\"line\":{\"color\":\"#FFA15A\",\"dash\":\"solid\"},\"marker\":{\"symbol\":\"circle\"},\"mode\":\"lines\",\"name\":\"Indiana\",\"orientation\":\"v\",\"showlegend\":true,\"x\":[\"2022\",\"2021\",\"2019\",\"2018\",\"2017\",\"2016\",\"2015\",\"2014\",\"2013\",\"2012\",\"2011\",\"2010\"],\"xaxis\":\"x\",\"y\":[32629.0,28721.0,26354.0,28352.0,26905.0,31608.0,28797.0,30291.0,32137.0,33874.0,27751.0,29256.0],\"yaxis\":\"y\",\"type\":\"scatter\"},{\"hovertemplate\":\"State=Iowa\\u003cbr\\u003eYear=%{x}\\u003cbr\\u003eSpread=%{y}\\u003cextra\\u003e\\u003c\\u002fextra\\u003e\",\"legendgroup\":\"Iowa\",\"line\":{\"color\":\"#19d3f3\",\"dash\":\"solid\"},\"marker\":{\"symbol\":\"circle\"},\"mode\":\"lines\",\"name\":\"Iowa\",\"orientation\":\"v\",\"showlegend\":true,\"x\":[\"2022\",\"2021\",\"2019\",\"2018\",\"2017\",\"2016\",\"2015\",\"2014\",\"2013\",\"2012\",\"2011\",\"2010\"],\"xaxis\":\"x\",\"y\":[9741.0,10659.0,9082.0,9562.0,11795.0,11763.0,11580.0,11179.0,9403.0,12795.0,10818.0,12876.0],\"yaxis\":\"y\",\"type\":\"scatter\"},{\"hovertemplate\":\"State=Kansas\\u003cbr\\u003eYear=%{x}\\u003cbr\\u003eSpread=%{y}\\u003cextra\\u003e\\u003c\\u002fextra\\u003e\",\"legendgroup\":\"Kansas\",\"line\":{\"color\":\"#FF6692\",\"dash\":\"solid\"},\"marker\":{\"symbol\":\"circle\"},\"mode\":\"lines\",\"name\":\"Kansas\",\"orientation\":\"v\",\"showlegend\":true,\"x\":[\"2022\",\"2021\",\"2019\",\"2018\",\"2017\",\"2016\",\"2015\",\"2014\",\"2013\",\"2012\",\"2011\",\"2010\"],\"xaxis\":\"x\",\"y\":[12013.0,10350.0,14139.0,14197.0,12534.0,12449.0,12857.0,13337.0,15933.0,15349.0,14243.0,13325.0],\"yaxis\":\"y\",\"type\":\"scatter\"},{\"hovertemplate\":\"State=Kentucky\\u003cbr\\u003eYear=%{x}\\u003cbr\\u003eSpread=%{y}\\u003cextra\\u003e\\u003c\\u002fextra\\u003e\",\"legendgroup\":\"Kentucky\",\"line\":{\"color\":\"#B6E880\",\"dash\":\"solid\"},\"marker\":{\"symbol\":\"circle\"},\"mode\":\"lines\",\"name\":\"Kentucky\",\"orientation\":\"v\",\"showlegend\":true,\"x\":[\"2022\",\"2021\",\"2019\",\"2018\",\"2017\",\"2016\",\"2015\",\"2014\",\"2013\",\"2012\",\"2011\",\"2010\"],\"xaxis\":\"x\",\"y\":[18775.0,18853.0,16994.0,20448.0,16916.0,19682.0,20823.0,22473.0,19775.0,22765.0,19709.0,21795.0],\"yaxis\":\"y\",\"type\":\"scatter\"},{\"hovertemplate\":\"State=Louisiana\\u003cbr\\u003eYear=%{x}\\u003cbr\\u003eSpread=%{y}\\u003cextra\\u003e\\u003c\\u002fextra\\u003e\",\"legendgroup\":\"Louisiana\",\"line\":{\"color\":\"#FF97FF\",\"dash\":\"solid\"},\"marker\":{\"symbol\":\"circle\"},\"mode\":\"lines\",\"name\":\"Louisiana\",\"orientation\":\"v\",\"showlegend\":true,\"x\":[\"2022\",\"2021\",\"2019\",\"2018\",\"2017\",\"2016\",\"2015\",\"2014\",\"2013\",\"2012\",\"2011\",\"2010\"],\"xaxis\":\"x\",\"y\":[16568.0,21083.0,21871.0,24536.0,22277.0,22049.0,24423.0,21064.0,25589.0,20931.0,26308.0,26661.0],\"yaxis\":\"y\",\"type\":\"scatter\"},{\"hovertemplate\":\"State=Maine\\u003cbr\\u003eYear=%{x}\\u003cbr\\u003eSpread=%{y}\\u003cextra\\u003e\\u003c\\u002fextra\\u003e\",\"legendgroup\":\"Maine\",\"line\":{\"color\":\"#FECB52\",\"dash\":\"solid\"},\"marker\":{\"symbol\":\"circle\"},\"mode\":\"lines\",\"name\":\"Maine\",\"orientation\":\"v\",\"showlegend\":true,\"x\":[\"2022\",\"2021\",\"2019\",\"2018\",\"2017\",\"2016\",\"2015\",\"2014\",\"2013\",\"2012\",\"2011\",\"2010\"],\"xaxis\":\"x\",\"y\":[4143.0,4995.0,5273.0,4262.0,4417.0,3332.0,4157.0,4759.0,4895.0,4949.0,4167.0,4293.0],\"yaxis\":\"y\",\"type\":\"scatter\"},{\"hovertemplate\":\"State=Maryland\\u003cbr\\u003eYear=%{x}\\u003cbr\\u003eSpread=%{y}\\u003cextra\\u003e\\u003c\\u002fextra\\u003e\",\"legendgroup\":\"Maryland\",\"line\":{\"color\":\"#636efa\",\"dash\":\"solid\"},\"marker\":{\"symbol\":\"circle\"},\"mode\":\"lines\",\"name\":\"Maryland\",\"orientation\":\"v\",\"showlegend\":true,\"x\":[\"2022\",\"2021\",\"2019\",\"2018\",\"2017\",\"2016\",\"2015\",\"2014\",\"2013\",\"2012\",\"2011\",\"2010\"],\"xaxis\":\"x\",\"y\":[21808.0,19476.0,21242.0,22004.0,22014.0,22307.0,25409.0,20952.0,25955.0,24999.0,24083.0,25469.0],\"yaxis\":\"y\",\"type\":\"scatter\"},{\"hovertemplate\":\"State=Massachusetts\\u003cbr\\u003eYear=%{x}\\u003cbr\\u003eSpread=%{y}\\u003cextra\\u003e\\u003c\\u002fextra\\u003e\",\"legendgroup\":\"Massachusetts\",\"line\":{\"color\":\"#EF553B\",\"dash\":\"solid\"},\"marker\":{\"symbol\":\"circle\"},\"mode\":\"lines\",\"name\":\"Massachusetts\",\"orientation\":\"v\",\"showlegend\":true,\"x\":[\"2022\",\"2021\",\"2019\",\"2018\",\"2017\",\"2016\",\"2015\",\"2014\",\"2013\",\"2012\",\"2011\",\"2010\"],\"xaxis\":\"x\",\"y\":[17315.0,18391.0,15927.0,18933.0,21234.0,21013.0,21817.0,22230.0,24890.0,21755.0,24807.0,25292.0],\"yaxis\":\"y\",\"type\":\"scatter\"},{\"hovertemplate\":\"State=Michigan\\u003cbr\\u003eYear=%{x}\\u003cbr\\u003eSpread=%{y}\\u003cextra\\u003e\\u003c\\u002fextra\\u003e\",\"legendgroup\":\"Michigan\",\"line\":{\"color\":\"#00cc96\",\"dash\":\"solid\"},\"marker\":{\"symbol\":\"circle\"},\"mode\":\"lines\",\"name\":\"Michigan\",\"orientation\":\"v\",\"showlegend\":true,\"x\":[\"2022\",\"2021\",\"2019\",\"2018\",\"2017\",\"2016\",\"2015\",\"2014\",\"2013\",\"2012\",\"2011\",\"2010\"],\"xaxis\":\"x\",\"y\":[36364.0,40645.0,36385.0,38129.0,42785.0,42485.0,42783.0,44243.0,43498.0,40736.0,44201.0,42708.0],\"yaxis\":\"y\",\"type\":\"scatter\"},{\"hovertemplate\":\"State=Minnesota\\u003cbr\\u003eYear=%{x}\\u003cbr\\u003eSpread=%{y}\\u003cextra\\u003e\\u003c\\u002fextra\\u003e\",\"legendgroup\":\"Minnesota\",\"line\":{\"color\":\"#ab63fa\",\"dash\":\"solid\"},\"marker\":{\"symbol\":\"circle\"},\"mode\":\"lines\",\"name\":\"Minnesota\",\"orientation\":\"v\",\"showlegend\":true,\"x\":[\"2022\",\"2021\",\"2019\",\"2018\",\"2017\",\"2016\",\"2015\",\"2014\",\"2013\",\"2012\",\"2011\",\"2010\"],\"xaxis\":\"x\",\"y\":[17696.0,16152.0,17202.0,19832.0,17618.0,18487.0,20220.0,20371.0,19724.0,19787.0,23116.0,21193.0],\"yaxis\":\"y\",\"type\":\"scatter\"},{\"hovertemplate\":\"State=Mississippi\\u003cbr\\u003eYear=%{x}\\u003cbr\\u003eSpread=%{y}\\u003cextra\\u003e\\u003c\\u002fextra\\u003e\",\"legendgroup\":\"Mississippi\",\"line\":{\"color\":\"#FFA15A\",\"dash\":\"solid\"},\"marker\":{\"symbol\":\"circle\"},\"mode\":\"lines\",\"name\":\"Mississippi\",\"orientation\":\"v\",\"showlegend\":true,\"x\":[\"2022\",\"2021\",\"2019\",\"2018\",\"2017\",\"2016\",\"2015\",\"2014\",\"2013\",\"2012\",\"2011\",\"2010\"],\"xaxis\":\"x\",\"y\":[15626.0,11035.0,12806.0,10349.0,14610.0,12804.0,12959.0,12630.0,14430.0,14315.0,12802.0,19760.0],\"yaxis\":\"y\",\"type\":\"scatter\"},{\"hovertemplate\":\"State=Missouri\\u003cbr\\u003eYear=%{x}\\u003cbr\\u003eSpread=%{y}\\u003cextra\\u003e\\u003c\\u002fextra\\u003e\",\"legendgroup\":\"Missouri\",\"line\":{\"color\":\"#19d3f3\",\"dash\":\"solid\"},\"marker\":{\"symbol\":\"circle\"},\"mode\":\"lines\",\"name\":\"Missouri\",\"orientation\":\"v\",\"showlegend\":true,\"x\":[\"2022\",\"2021\",\"2019\",\"2018\",\"2017\",\"2016\",\"2015\",\"2014\",\"2013\",\"2012\",\"2011\",\"2010\"],\"xaxis\":\"x\",\"y\":[24332.0,20573.0,25902.0,25413.0,23991.0,25979.0,24134.0,24067.0,26625.0,28307.0,27913.0,28994.0],\"yaxis\":\"y\",\"type\":\"scatter\"},{\"hovertemplate\":\"State=Montana\\u003cbr\\u003eYear=%{x}\\u003cbr\\u003eSpread=%{y}\\u003cextra\\u003e\\u003c\\u002fextra\\u003e\",\"legendgroup\":\"Montana\",\"line\":{\"color\":\"#FF6692\",\"dash\":\"solid\"},\"marker\":{\"symbol\":\"circle\"},\"mode\":\"lines\",\"name\":\"Montana\",\"orientation\":\"v\",\"showlegend\":true,\"x\":[\"2022\",\"2021\",\"2019\",\"2018\",\"2017\",\"2016\",\"2015\",\"2014\",\"2013\",\"2012\",\"2011\",\"2010\"],\"xaxis\":\"x\",\"y\":[4981.0,3619.0,4118.0,4694.0,4599.0,3777.0,5080.0,4326.0,5044.0,4268.0,5356.0,5470.0],\"yaxis\":\"y\",\"type\":\"scatter\"},{\"hovertemplate\":\"State=Nebraska\\u003cbr\\u003eYear=%{x}\\u003cbr\\u003eSpread=%{y}\\u003cextra\\u003e\\u003c\\u002fextra\\u003e\",\"legendgroup\":\"Nebraska\",\"line\":{\"color\":\"#B6E880\",\"dash\":\"solid\"},\"marker\":{\"symbol\":\"circle\"},\"mode\":\"lines\",\"name\":\"Nebraska\",\"orientation\":\"v\",\"showlegend\":true,\"x\":[\"2022\",\"2021\",\"2019\",\"2018\",\"2017\",\"2016\",\"2015\",\"2014\",\"2013\",\"2012\",\"2011\",\"2010\"],\"xaxis\":\"x\",\"y\":[6550.0,6897.0,6317.0,7252.0,9483.0,7725.0,8892.0,7874.0,9139.0,7384.0,8467.0,7987.0],\"yaxis\":\"y\",\"type\":\"scatter\"},{\"hovertemplate\":\"State=Nevada\\u003cbr\\u003eYear=%{x}\\u003cbr\\u003eSpread=%{y}\\u003cextra\\u003e\\u003c\\u002fextra\\u003e\",\"legendgroup\":\"Nevada\",\"line\":{\"color\":\"#FF97FF\",\"dash\":\"solid\"},\"marker\":{\"symbol\":\"circle\"},\"mode\":\"lines\",\"name\":\"Nevada\",\"orientation\":\"v\",\"showlegend\":true,\"x\":[\"2022\",\"2021\",\"2019\",\"2018\",\"2017\",\"2016\",\"2015\",\"2014\",\"2013\",\"2012\",\"2011\",\"2010\"],\"xaxis\":\"x\",\"y\":[15227.0,12416.0,14839.0,12938.0,14754.0,12051.0,15374.0,14134.0,12672.0,14780.0,13505.0,15718.0],\"yaxis\":\"y\",\"type\":\"scatter\"},{\"hovertemplate\":\"State=New Hampshire\\u003cbr\\u003eYear=%{x}\\u003cbr\\u003eSpread=%{y}\\u003cextra\\u003e\\u003c\\u002fextra\\u003e\",\"legendgroup\":\"New Hampshire\",\"line\":{\"color\":\"#FECB52\",\"dash\":\"solid\"},\"marker\":{\"symbol\":\"circle\"},\"mode\":\"lines\",\"name\":\"New Hampshire\",\"orientation\":\"v\",\"showlegend\":true,\"x\":[\"2022\",\"2021\",\"2019\",\"2018\",\"2017\",\"2016\",\"2015\",\"2014\",\"2013\",\"2012\",\"2011\",\"2010\"],\"xaxis\":\"x\",\"y\":[3122.0,3705.0,3208.0,4212.0,3315.0,3888.0,4717.0,5127.0,5191.0,4270.0,3552.0,5293.0],\"yaxis\":\"y\",\"type\":\"scatter\"},{\"hovertemplate\":\"State=New Jersey\\u003cbr\\u003eYear=%{x}\\u003cbr\\u003eSpread=%{y}\\u003cextra\\u003e\\u003c\\u002fextra\\u003e\",\"legendgroup\":\"New Jersey\",\"line\":{\"color\":\"#636efa\",\"dash\":\"solid\"},\"marker\":{\"symbol\":\"circle\"},\"mode\":\"lines\",\"name\":\"New Jersey\",\"orientation\":\"v\",\"showlegend\":true,\"x\":[\"2022\",\"2021\",\"2019\",\"2018\",\"2017\",\"2016\",\"2015\",\"2014\",\"2013\",\"2012\",\"2011\",\"2010\"],\"xaxis\":\"x\",\"y\":[30231.0,32330.0,23732.0,34167.0,31041.0,32052.0,31572.0,32562.0,33971.0,36893.0,38842.0,39028.0],\"yaxis\":\"y\",\"type\":\"scatter\"},{\"hovertemplate\":\"State=New Mexico\\u003cbr\\u003eYear=%{x}\\u003cbr\\u003eSpread=%{y}\\u003cextra\\u003e\\u003c\\u002fextra\\u003e\",\"legendgroup\":\"New Mexico\",\"line\":{\"color\":\"#EF553B\",\"dash\":\"solid\"},\"marker\":{\"symbol\":\"circle\"},\"mode\":\"lines\",\"name\":\"New Mexico\",\"orientation\":\"v\",\"showlegend\":true,\"x\":[\"2022\",\"2021\",\"2019\",\"2018\",\"2017\",\"2016\",\"2015\",\"2014\",\"2013\",\"2012\",\"2011\",\"2010\"],\"xaxis\":\"x\",\"y\":[10016.0,9194.0,12041.0,11084.0,13159.0,9615.0,10999.0,12043.0,13182.0,11501.0,13292.0,12773.0],\"yaxis\":\"y\",\"type\":\"scatter\"},{\"hovertemplate\":\"State=New York\\u003cbr\\u003eYear=%{x}\\u003cbr\\u003eSpread=%{y}\\u003cextra\\u003e\\u003c\\u002fextra\\u003e\",\"legendgroup\":\"New York\",\"line\":{\"color\":\"#00cc96\",\"dash\":\"solid\"},\"marker\":{\"symbol\":\"circle\"},\"mode\":\"lines\",\"name\":\"New York\",\"orientation\":\"v\",\"showlegend\":true,\"x\":[\"2022\",\"2021\",\"2019\",\"2018\",\"2017\",\"2016\",\"2015\",\"2014\",\"2013\",\"2012\",\"2011\",\"2010\"],\"xaxis\":\"x\",\"y\":[70431.0,64614.0,68596.0,71826.0,73130.0,79531.0,79487.0,82987.0,88234.0,86746.0,93828.0,96730.0],\"yaxis\":\"y\",\"type\":\"scatter\"},{\"hovertemplate\":\"State=North Carolina\\u003cbr\\u003eYear=%{x}\\u003cbr\\u003eSpread=%{y}\\u003cextra\\u003e\\u003c\\u002fextra\\u003e\",\"legendgroup\":\"North Carolina\",\"line\":{\"color\":\"#ab63fa\",\"dash\":\"solid\"},\"marker\":{\"symbol\":\"circle\"},\"mode\":\"lines\",\"name\":\"North Carolina\",\"orientation\":\"v\",\"showlegend\":true,\"x\":[\"2022\",\"2021\",\"2019\",\"2018\",\"2017\",\"2016\",\"2015\",\"2014\",\"2013\",\"2012\",\"2011\",\"2010\"],\"xaxis\":\"x\",\"y\":[43727.0,37650.0,47974.0,41511.0,44466.0,43912.0,45949.0,44966.0,45149.0,49461.0,51402.0,49525.0],\"yaxis\":\"y\",\"type\":\"scatter\"},{\"hovertemplate\":\"State=North Dakota\\u003cbr\\u003eYear=%{x}\\u003cbr\\u003eSpread=%{y}\\u003cextra\\u003e\\u003c\\u002fextra\\u003e\",\"legendgroup\":\"North Dakota\",\"line\":{\"color\":\"#FFA15A\",\"dash\":\"solid\"},\"marker\":{\"symbol\":\"circle\"},\"mode\":\"lines\",\"name\":\"North Dakota\",\"orientation\":\"v\",\"showlegend\":true,\"x\":[\"2022\",\"2021\",\"2019\",\"2018\",\"2017\",\"2016\",\"2015\",\"2014\",\"2013\",\"2012\",\"2011\",\"2010\"],\"xaxis\":\"x\",\"y\":[3133.0,3435.0,3524.0,2581.0,2764.0,3107.0,4100.0,3160.0,3740.0,3177.0,2401.0,2268.0],\"yaxis\":\"y\",\"type\":\"scatter\"},{\"hovertemplate\":\"State=Ohio\\u003cbr\\u003eYear=%{x}\\u003cbr\\u003eSpread=%{y}\\u003cextra\\u003e\\u003c\\u002fextra\\u003e\",\"legendgroup\":\"Ohio\",\"line\":{\"color\":\"#19d3f3\",\"dash\":\"solid\"},\"marker\":{\"symbol\":\"circle\"},\"mode\":\"lines\",\"name\":\"Ohio\",\"orientation\":\"v\",\"showlegend\":true,\"x\":[\"2022\",\"2021\",\"2019\",\"2018\",\"2017\",\"2016\",\"2015\",\"2014\",\"2013\",\"2012\",\"2011\",\"2010\"],\"xaxis\":\"x\",\"y\":[45708.0,43393.0,48495.0,48006.0,50019.0,48390.0,47914.0,45487.0,46478.0,52799.0,47600.0,52254.0],\"yaxis\":\"y\",\"type\":\"scatter\"},{\"hovertemplate\":\"State=Oklahoma\\u003cbr\\u003eYear=%{x}\\u003cbr\\u003eSpread=%{y}\\u003cextra\\u003e\\u003c\\u002fextra\\u003e\",\"legendgroup\":\"Oklahoma\",\"line\":{\"color\":\"#FF6692\",\"dash\":\"solid\"},\"marker\":{\"symbol\":\"circle\"},\"mode\":\"lines\",\"name\":\"Oklahoma\",\"orientation\":\"v\",\"showlegend\":true,\"x\":[\"2022\",\"2021\",\"2019\",\"2018\",\"2017\",\"2016\",\"2015\",\"2014\",\"2013\",\"2012\",\"2011\",\"2010\"],\"xaxis\":\"x\",\"y\":[21781.0,17457.0,21439.0,19608.0,25750.0,23237.0,18396.0,22091.0,24002.0,20976.0,22655.0,20979.0],\"yaxis\":\"y\",\"type\":\"scatter\"},{\"hovertemplate\":\"State=Oregon\\u003cbr\\u003eYear=%{x}\\u003cbr\\u003eSpread=%{y}\\u003cextra\\u003e\\u003c\\u002fextra\\u003e\",\"legendgroup\":\"Oregon\",\"line\":{\"color\":\"#B6E880\",\"dash\":\"solid\"},\"marker\":{\"symbol\":\"circle\"},\"mode\":\"lines\",\"name\":\"Oregon\",\"orientation\":\"v\",\"showlegend\":true,\"x\":[\"2022\",\"2021\",\"2019\",\"2018\",\"2017\",\"2016\",\"2015\",\"2014\",\"2013\",\"2012\",\"2011\",\"2010\"],\"xaxis\":\"x\",\"y\":[16696.0,13972.0,14639.0,17261.0,19232.0,17948.0,18536.0,18442.0,18151.0,20955.0,19702.0,17887.0],\"yaxis\":\"y\",\"type\":\"scatter\"},{\"hovertemplate\":\"State=Pennsylvania\\u003cbr\\u003eYear=%{x}\\u003cbr\\u003eSpread=%{y}\\u003cextra\\u003e\\u003c\\u002fextra\\u003e\",\"legendgroup\":\"Pennsylvania\",\"line\":{\"color\":\"#FF97FF\",\"dash\":\"solid\"},\"marker\":{\"symbol\":\"circle\"},\"mode\":\"lines\",\"name\":\"Pennsylvania\",\"orientation\":\"v\",\"showlegend\":true,\"x\":[\"2022\",\"2021\",\"2019\",\"2018\",\"2017\",\"2016\",\"2015\",\"2014\",\"2013\",\"2012\",\"2011\",\"2010\"],\"xaxis\":\"x\",\"y\":[44341.0,47907.0,46372.0,47723.0,43868.0,47073.0,51047.0,54661.0,47260.0,53196.0,51214.0,50913.0],\"yaxis\":\"y\",\"type\":\"scatter\"},{\"hovertemplate\":\"State=Rhode Island\\u003cbr\\u003eYear=%{x}\\u003cbr\\u003eSpread=%{y}\\u003cextra\\u003e\\u003c\\u002fextra\\u003e\",\"legendgroup\":\"Rhode Island\",\"line\":{\"color\":\"#FECB52\",\"dash\":\"solid\"},\"marker\":{\"symbol\":\"circle\"},\"mode\":\"lines\",\"name\":\"Rhode Island\",\"orientation\":\"v\",\"showlegend\":true,\"x\":[\"2022\",\"2021\",\"2019\",\"2018\",\"2017\",\"2016\",\"2015\",\"2014\",\"2013\",\"2012\",\"2011\",\"2010\"],\"xaxis\":\"x\",\"y\":[3389.0,3389.0,1187.0,3796.0,3020.0,3623.0,3520.0,2905.0,4047.0,2832.0,3618.0,3229.0],\"yaxis\":\"y\",\"type\":\"scatter\"},{\"hovertemplate\":\"State=South Carolina\\u003cbr\\u003eYear=%{x}\\u003cbr\\u003eSpread=%{y}\\u003cextra\\u003e\\u003c\\u002fextra\\u003e\",\"legendgroup\":\"South Carolina\",\"line\":{\"color\":\"#636efa\",\"dash\":\"solid\"},\"marker\":{\"symbol\":\"circle\"},\"mode\":\"lines\",\"name\":\"South Carolina\",\"orientation\":\"v\",\"showlegend\":true,\"x\":[\"2022\",\"2021\",\"2019\",\"2018\",\"2017\",\"2016\",\"2015\",\"2014\",\"2013\",\"2012\",\"2011\",\"2010\"],\"xaxis\":\"x\",\"y\":[20940.0,22607.0,20532.0,21604.0,22272.0,21089.0,22610.0,20367.0,22019.0,21514.0,23541.0,22627.0],\"yaxis\":\"y\",\"type\":\"scatter\"},{\"hovertemplate\":\"State=South Dakota\\u003cbr\\u003eYear=%{x}\\u003cbr\\u003eSpread=%{y}\\u003cextra\\u003e\\u003c\\u002fextra\\u003e\",\"legendgroup\":\"South Dakota\",\"line\":{\"color\":\"#EF553B\",\"dash\":\"solid\"},\"marker\":{\"symbol\":\"circle\"},\"mode\":\"lines\",\"name\":\"South Dakota\",\"orientation\":\"v\",\"showlegend\":true,\"x\":[\"2022\",\"2021\",\"2019\",\"2018\",\"2017\",\"2016\",\"2015\",\"2014\",\"2013\",\"2012\",\"2011\",\"2010\"],\"xaxis\":\"x\",\"y\":[3825.0,3307.0,3512.0,3371.0,3991.0,4394.0,3278.0,3410.0,3744.0,4012.0,3225.0,2404.0],\"yaxis\":\"y\",\"type\":\"scatter\"},{\"hovertemplate\":\"State=Tennessee\\u003cbr\\u003eYear=%{x}\\u003cbr\\u003eSpread=%{y}\\u003cextra\\u003e\\u003c\\u002fextra\\u003e\",\"legendgroup\":\"Tennessee\",\"line\":{\"color\":\"#00cc96\",\"dash\":\"solid\"},\"marker\":{\"symbol\":\"circle\"},\"mode\":\"lines\",\"name\":\"Tennessee\",\"orientation\":\"v\",\"showlegend\":true,\"x\":[\"2022\",\"2021\",\"2019\",\"2018\",\"2017\",\"2016\",\"2015\",\"2014\",\"2013\",\"2012\",\"2011\",\"2010\"],\"xaxis\":\"x\",\"y\":[30504.0,31400.0,30007.0,29416.0,30911.0,31717.0,28264.0,28845.0,32728.0,34462.0,29059.0,36665.0],\"yaxis\":\"y\",\"type\":\"scatter\"},{\"hovertemplate\":\"State=Texas\\u003cbr\\u003eYear=%{x}\\u003cbr\\u003eSpread=%{y}\\u003cextra\\u003e\\u003c\\u002fextra\\u003e\",\"legendgroup\":\"Texas\",\"line\":{\"color\":\"#ab63fa\",\"dash\":\"solid\"},\"marker\":{\"symbol\":\"circle\"},\"mode\":\"lines\",\"name\":\"Texas\",\"orientation\":\"v\",\"showlegend\":true,\"x\":[\"2022\",\"2021\",\"2019\",\"2018\",\"2017\",\"2016\",\"2015\",\"2014\",\"2013\",\"2012\",\"2011\",\"2010\"],\"xaxis\":\"x\",\"y\":[164556.0,168093.0,153941.0,165586.0,176759.0,178342.0,173026.0,176896.0,178449.0,175880.0,179328.0,182896.0],\"yaxis\":\"y\",\"type\":\"scatter\"},{\"hovertemplate\":\"State=Utah\\u003cbr\\u003eYear=%{x}\\u003cbr\\u003eSpread=%{y}\\u003cextra\\u003e\\u003c\\u002fextra\\u003e\",\"legendgroup\":\"Utah\",\"line\":{\"color\":\"#FFA15A\",\"dash\":\"solid\"},\"marker\":{\"symbol\":\"circle\"},\"mode\":\"lines\",\"name\":\"Utah\",\"orientation\":\"v\",\"showlegend\":true,\"x\":[\"2022\",\"2021\",\"2019\",\"2018\",\"2017\",\"2016\",\"2015\",\"2014\",\"2013\",\"2012\",\"2011\",\"2010\"],\"xaxis\":\"x\",\"y\":[22173.0,21984.0,18610.0,24523.0,23204.0,25738.0,23406.0,25528.0,25929.0,25730.0,25137.0,25398.0],\"yaxis\":\"y\",\"type\":\"scatter\"},{\"hovertemplate\":\"State=Vermont\\u003cbr\\u003eYear=%{x}\\u003cbr\\u003eSpread=%{y}\\u003cextra\\u003e\\u003c\\u002fextra\\u003e\",\"legendgroup\":\"Vermont\",\"line\":{\"color\":\"#19d3f3\",\"dash\":\"solid\"},\"marker\":{\"symbol\":\"circle\"},\"mode\":\"lines\",\"name\":\"Vermont\",\"orientation\":\"v\",\"showlegend\":true,\"x\":[\"2022\",\"2021\",\"2019\",\"2018\",\"2017\",\"2016\",\"2015\",\"2014\",\"2013\",\"2012\",\"2011\",\"2010\"],\"xaxis\":\"x\",\"y\":[2054.0,1888.0,944.0,1412.0,1696.0,1303.0,1928.0,1803.0,1701.0,1635.0,1551.0,2123.0],\"yaxis\":\"y\",\"type\":\"scatter\"},{\"hovertemplate\":\"State=Virginia\\u003cbr\\u003eYear=%{x}\\u003cbr\\u003eSpread=%{y}\\u003cextra\\u003e\\u003c\\u002fextra\\u003e\",\"legendgroup\":\"Virginia\",\"line\":{\"color\":\"#FF6692\",\"dash\":\"solid\"},\"marker\":{\"symbol\":\"circle\"},\"mode\":\"lines\",\"name\":\"Virginia\",\"orientation\":\"v\",\"showlegend\":true,\"x\":[\"2022\",\"2021\",\"2019\",\"2018\",\"2017\",\"2016\",\"2015\",\"2014\",\"2013\",\"2012\",\"2011\",\"2010\"],\"xaxis\":\"x\",\"y\":[33112.0,31173.0,30387.0,35550.0,34624.0,33712.0,37754.0,38828.0,41246.0,39420.0,38336.0,37591.0],\"yaxis\":\"y\",\"type\":\"scatter\"},{\"hovertemplate\":\"State=Washington\\u003cbr\\u003eYear=%{x}\\u003cbr\\u003eSpread=%{y}\\u003cextra\\u003e\\u003c\\u002fextra\\u003e\",\"legendgroup\":\"Washington\",\"line\":{\"color\":\"#B6E880\",\"dash\":\"solid\"},\"marker\":{\"symbol\":\"circle\"},\"mode\":\"lines\",\"name\":\"Washington\",\"orientation\":\"v\",\"showlegend\":true,\"x\":[\"2022\",\"2021\",\"2019\",\"2018\",\"2017\",\"2016\",\"2015\",\"2014\",\"2013\",\"2012\",\"2011\",\"2010\"],\"xaxis\":\"x\",\"y\":[35981.0,33012.0,35644.0,39412.0,41670.0,41385.0,38894.0,38002.0,35156.0,40892.0,40522.0,41029.0],\"yaxis\":\"y\",\"type\":\"scatter\"},{\"hovertemplate\":\"State=West Virginia\\u003cbr\\u003eYear=%{x}\\u003cbr\\u003eSpread=%{y}\\u003cextra\\u003e\\u003c\\u002fextra\\u003e\",\"legendgroup\":\"West Virginia\",\"line\":{\"color\":\"#FF97FF\",\"dash\":\"solid\"},\"marker\":{\"symbol\":\"circle\"},\"mode\":\"lines\",\"name\":\"West Virginia\",\"orientation\":\"v\",\"showlegend\":true,\"x\":[\"2022\",\"2021\",\"2019\",\"2018\",\"2017\",\"2016\",\"2015\",\"2014\",\"2013\",\"2012\",\"2011\",\"2010\"],\"xaxis\":\"x\",\"y\":[7115.0,8134.0,8828.0,7487.0,8300.0,9143.0,8411.0,9854.0,8285.0,7841.0,8125.0,9447.0],\"yaxis\":\"y\",\"type\":\"scatter\"},{\"hovertemplate\":\"State=Wisconsin\\u003cbr\\u003eYear=%{x}\\u003cbr\\u003eSpread=%{y}\\u003cextra\\u003e\\u003c\\u002fextra\\u003e\",\"legendgroup\":\"Wisconsin\",\"line\":{\"color\":\"#FECB52\",\"dash\":\"solid\"},\"marker\":{\"symbol\":\"circle\"},\"mode\":\"lines\",\"name\":\"Wisconsin\",\"orientation\":\"v\",\"showlegend\":true,\"x\":[\"2022\",\"2021\",\"2019\",\"2018\",\"2017\",\"2016\",\"2015\",\"2014\",\"2013\",\"2012\",\"2011\",\"2010\"],\"xaxis\":\"x\",\"y\":[17861.0,16739.0,18850.0,18625.0,18939.0,20878.0,17598.0,20182.0,17428.0,21101.0,19033.0,20484.0],\"yaxis\":\"y\",\"type\":\"scatter\"},{\"hovertemplate\":\"State=Wyoming\\u003cbr\\u003eYear=%{x}\\u003cbr\\u003eSpread=%{y}\\u003cextra\\u003e\\u003c\\u002fextra\\u003e\",\"legendgroup\":\"Wyoming\",\"line\":{\"color\":\"#636efa\",\"dash\":\"solid\"},\"marker\":{\"symbol\":\"circle\"},\"mode\":\"lines\",\"name\":\"Wyoming\",\"orientation\":\"v\",\"showlegend\":true,\"x\":[\"2022\",\"2021\",\"2019\",\"2018\",\"2017\",\"2016\",\"2015\",\"2014\",\"2013\",\"2012\",\"2011\",\"2010\"],\"xaxis\":\"x\",\"y\":[1812.0,1765.0,2874.0,3243.0,3498.0,2419.0,3271.0,3105.0,2621.0,2891.0,3557.0,3133.0],\"yaxis\":\"y\",\"type\":\"scatter\"},{\"hovertemplate\":\"State=Puerto Rico\\u003cbr\\u003eYear=%{x}\\u003cbr\\u003eSpread=%{y}\\u003cextra\\u003e\\u003c\\u002fextra\\u003e\",\"legendgroup\":\"Puerto Rico\",\"line\":{\"color\":\"#EF553B\",\"dash\":\"solid\"},\"marker\":{\"symbol\":\"circle\"},\"mode\":\"lines\",\"name\":\"Puerto Rico\",\"orientation\":\"v\",\"showlegend\":true,\"x\":[\"2022\",\"2021\",\"2019\",\"2018\",\"2017\",\"2016\",\"2015\",\"2014\",\"2013\",\"2012\",\"2011\",\"2010\"],\"xaxis\":\"x\",\"y\":[8594.0,8500.0,8342.0,10640.0,10652.0,12260.0,12819.0,18636.0,17138.0,18213.0,19302.0,22873.0],\"yaxis\":\"y\",\"type\":\"scatter\"}],                        {\"template\":{\"data\":{\"histogram2dcontour\":[{\"type\":\"histogram2dcontour\",\"colorbar\":{\"outlinewidth\":0,\"ticks\":\"\"},\"colorscale\":[[0.0,\"#0d0887\"],[0.1111111111111111,\"#46039f\"],[0.2222222222222222,\"#7201a8\"],[0.3333333333333333,\"#9c179e\"],[0.4444444444444444,\"#bd3786\"],[0.5555555555555556,\"#d8576b\"],[0.6666666666666666,\"#ed7953\"],[0.7777777777777778,\"#fb9f3a\"],[0.8888888888888888,\"#fdca26\"],[1.0,\"#f0f921\"]]}],\"choropleth\":[{\"type\":\"choropleth\",\"colorbar\":{\"outlinewidth\":0,\"ticks\":\"\"}}],\"histogram2d\":[{\"type\":\"histogram2d\",\"colorbar\":{\"outlinewidth\":0,\"ticks\":\"\"},\"colorscale\":[[0.0,\"#0d0887\"],[0.1111111111111111,\"#46039f\"],[0.2222222222222222,\"#7201a8\"],[0.3333333333333333,\"#9c179e\"],[0.4444444444444444,\"#bd3786\"],[0.5555555555555556,\"#d8576b\"],[0.6666666666666666,\"#ed7953\"],[0.7777777777777778,\"#fb9f3a\"],[0.8888888888888888,\"#fdca26\"],[1.0,\"#f0f921\"]]}],\"heatmap\":[{\"type\":\"heatmap\",\"colorbar\":{\"outlinewidth\":0,\"ticks\":\"\"},\"colorscale\":[[0.0,\"#0d0887\"],[0.1111111111111111,\"#46039f\"],[0.2222222222222222,\"#7201a8\"],[0.3333333333333333,\"#9c179e\"],[0.4444444444444444,\"#bd3786\"],[0.5555555555555556,\"#d8576b\"],[0.6666666666666666,\"#ed7953\"],[0.7777777777777778,\"#fb9f3a\"],[0.8888888888888888,\"#fdca26\"],[1.0,\"#f0f921\"]]}],\"heatmapgl\":[{\"type\":\"heatmapgl\",\"colorbar\":{\"outlinewidth\":0,\"ticks\":\"\"},\"colorscale\":[[0.0,\"#0d0887\"],[0.1111111111111111,\"#46039f\"],[0.2222222222222222,\"#7201a8\"],[0.3333333333333333,\"#9c179e\"],[0.4444444444444444,\"#bd3786\"],[0.5555555555555556,\"#d8576b\"],[0.6666666666666666,\"#ed7953\"],[0.7777777777777778,\"#fb9f3a\"],[0.8888888888888888,\"#fdca26\"],[1.0,\"#f0f921\"]]}],\"contourcarpet\":[{\"type\":\"contourcarpet\",\"colorbar\":{\"outlinewidth\":0,\"ticks\":\"\"}}],\"contour\":[{\"type\":\"contour\",\"colorbar\":{\"outlinewidth\":0,\"ticks\":\"\"},\"colorscale\":[[0.0,\"#0d0887\"],[0.1111111111111111,\"#46039f\"],[0.2222222222222222,\"#7201a8\"],[0.3333333333333333,\"#9c179e\"],[0.4444444444444444,\"#bd3786\"],[0.5555555555555556,\"#d8576b\"],[0.6666666666666666,\"#ed7953\"],[0.7777777777777778,\"#fb9f3a\"],[0.8888888888888888,\"#fdca26\"],[1.0,\"#f0f921\"]]}],\"surface\":[{\"type\":\"surface\",\"colorbar\":{\"outlinewidth\":0,\"ticks\":\"\"},\"colorscale\":[[0.0,\"#0d0887\"],[0.1111111111111111,\"#46039f\"],[0.2222222222222222,\"#7201a8\"],[0.3333333333333333,\"#9c179e\"],[0.4444444444444444,\"#bd3786\"],[0.5555555555555556,\"#d8576b\"],[0.6666666666666666,\"#ed7953\"],[0.7777777777777778,\"#fb9f3a\"],[0.8888888888888888,\"#fdca26\"],[1.0,\"#f0f921\"]]}],\"mesh3d\":[{\"type\":\"mesh3d\",\"colorbar\":{\"outlinewidth\":0,\"ticks\":\"\"}}],\"scatter\":[{\"fillpattern\":{\"fillmode\":\"overlay\",\"size\":10,\"solidity\":0.2},\"type\":\"scatter\"}],\"parcoords\":[{\"type\":\"parcoords\",\"line\":{\"colorbar\":{\"outlinewidth\":0,\"ticks\":\"\"}}}],\"scatterpolargl\":[{\"type\":\"scatterpolargl\",\"marker\":{\"colorbar\":{\"outlinewidth\":0,\"ticks\":\"\"}}}],\"bar\":[{\"error_x\":{\"color\":\"#2a3f5f\"},\"error_y\":{\"color\":\"#2a3f5f\"},\"marker\":{\"line\":{\"color\":\"#E5ECF6\",\"width\":0.5},\"pattern\":{\"fillmode\":\"overlay\",\"size\":10,\"solidity\":0.2}},\"type\":\"bar\"}],\"scattergeo\":[{\"type\":\"scattergeo\",\"marker\":{\"colorbar\":{\"outlinewidth\":0,\"ticks\":\"\"}}}],\"scatterpolar\":[{\"type\":\"scatterpolar\",\"marker\":{\"colorbar\":{\"outlinewidth\":0,\"ticks\":\"\"}}}],\"histogram\":[{\"marker\":{\"pattern\":{\"fillmode\":\"overlay\",\"size\":10,\"solidity\":0.2}},\"type\":\"histogram\"}],\"scattergl\":[{\"type\":\"scattergl\",\"marker\":{\"colorbar\":{\"outlinewidth\":0,\"ticks\":\"\"}}}],\"scatter3d\":[{\"type\":\"scatter3d\",\"line\":{\"colorbar\":{\"outlinewidth\":0,\"ticks\":\"\"}},\"marker\":{\"colorbar\":{\"outlinewidth\":0,\"ticks\":\"\"}}}],\"scattermapbox\":[{\"type\":\"scattermapbox\",\"marker\":{\"colorbar\":{\"outlinewidth\":0,\"ticks\":\"\"}}}],\"scatterternary\":[{\"type\":\"scatterternary\",\"marker\":{\"colorbar\":{\"outlinewidth\":0,\"ticks\":\"\"}}}],\"scattercarpet\":[{\"type\":\"scattercarpet\",\"marker\":{\"colorbar\":{\"outlinewidth\":0,\"ticks\":\"\"}}}],\"carpet\":[{\"aaxis\":{\"endlinecolor\":\"#2a3f5f\",\"gridcolor\":\"white\",\"linecolor\":\"white\",\"minorgridcolor\":\"white\",\"startlinecolor\":\"#2a3f5f\"},\"baxis\":{\"endlinecolor\":\"#2a3f5f\",\"gridcolor\":\"white\",\"linecolor\":\"white\",\"minorgridcolor\":\"white\",\"startlinecolor\":\"#2a3f5f\"},\"type\":\"carpet\"}],\"table\":[{\"cells\":{\"fill\":{\"color\":\"#EBF0F8\"},\"line\":{\"color\":\"white\"}},\"header\":{\"fill\":{\"color\":\"#C8D4E3\"},\"line\":{\"color\":\"white\"}},\"type\":\"table\"}],\"barpolar\":[{\"marker\":{\"line\":{\"color\":\"#E5ECF6\",\"width\":0.5},\"pattern\":{\"fillmode\":\"overlay\",\"size\":10,\"solidity\":0.2}},\"type\":\"barpolar\"}],\"pie\":[{\"automargin\":true,\"type\":\"pie\"}]},\"layout\":{\"autotypenumbers\":\"strict\",\"colorway\":[\"#636efa\",\"#EF553B\",\"#00cc96\",\"#ab63fa\",\"#FFA15A\",\"#19d3f3\",\"#FF6692\",\"#B6E880\",\"#FF97FF\",\"#FECB52\"],\"font\":{\"color\":\"#2a3f5f\"},\"hovermode\":\"closest\",\"hoverlabel\":{\"align\":\"left\"},\"paper_bgcolor\":\"white\",\"plot_bgcolor\":\"#E5ECF6\",\"polar\":{\"bgcolor\":\"#E5ECF6\",\"angularaxis\":{\"gridcolor\":\"white\",\"linecolor\":\"white\",\"ticks\":\"\"},\"radialaxis\":{\"gridcolor\":\"white\",\"linecolor\":\"white\",\"ticks\":\"\"}},\"ternary\":{\"bgcolor\":\"#E5ECF6\",\"aaxis\":{\"gridcolor\":\"white\",\"linecolor\":\"white\",\"ticks\":\"\"},\"baxis\":{\"gridcolor\":\"white\",\"linecolor\":\"white\",\"ticks\":\"\"},\"caxis\":{\"gridcolor\":\"white\",\"linecolor\":\"white\",\"ticks\":\"\"}},\"coloraxis\":{\"colorbar\":{\"outlinewidth\":0,\"ticks\":\"\"}},\"colorscale\":{\"sequential\":[[0.0,\"#0d0887\"],[0.1111111111111111,\"#46039f\"],[0.2222222222222222,\"#7201a8\"],[0.3333333333333333,\"#9c179e\"],[0.4444444444444444,\"#bd3786\"],[0.5555555555555556,\"#d8576b\"],[0.6666666666666666,\"#ed7953\"],[0.7777777777777778,\"#fb9f3a\"],[0.8888888888888888,\"#fdca26\"],[1.0,\"#f0f921\"]],\"sequentialminus\":[[0.0,\"#0d0887\"],[0.1111111111111111,\"#46039f\"],[0.2222222222222222,\"#7201a8\"],[0.3333333333333333,\"#9c179e\"],[0.4444444444444444,\"#bd3786\"],[0.5555555555555556,\"#d8576b\"],[0.6666666666666666,\"#ed7953\"],[0.7777777777777778,\"#fb9f3a\"],[0.8888888888888888,\"#fdca26\"],[1.0,\"#f0f921\"]],\"diverging\":[[0,\"#8e0152\"],[0.1,\"#c51b7d\"],[0.2,\"#de77ae\"],[0.3,\"#f1b6da\"],[0.4,\"#fde0ef\"],[0.5,\"#f7f7f7\"],[0.6,\"#e6f5d0\"],[0.7,\"#b8e186\"],[0.8,\"#7fbc41\"],[0.9,\"#4d9221\"],[1,\"#276419\"]]},\"xaxis\":{\"gridcolor\":\"white\",\"linecolor\":\"white\",\"ticks\":\"\",\"title\":{\"standoff\":15},\"zerolinecolor\":\"white\",\"automargin\":true,\"zerolinewidth\":2},\"yaxis\":{\"gridcolor\":\"white\",\"linecolor\":\"white\",\"ticks\":\"\",\"title\":{\"standoff\":15},\"zerolinecolor\":\"white\",\"automargin\":true,\"zerolinewidth\":2},\"scene\":{\"xaxis\":{\"backgroundcolor\":\"#E5ECF6\",\"gridcolor\":\"white\",\"linecolor\":\"white\",\"showbackground\":true,\"ticks\":\"\",\"zerolinecolor\":\"white\",\"gridwidth\":2},\"yaxis\":{\"backgroundcolor\":\"#E5ECF6\",\"gridcolor\":\"white\",\"linecolor\":\"white\",\"showbackground\":true,\"ticks\":\"\",\"zerolinecolor\":\"white\",\"gridwidth\":2},\"zaxis\":{\"backgroundcolor\":\"#E5ECF6\",\"gridcolor\":\"white\",\"linecolor\":\"white\",\"showbackground\":true,\"ticks\":\"\",\"zerolinecolor\":\"white\",\"gridwidth\":2}},\"shapedefaults\":{\"line\":{\"color\":\"#2a3f5f\"}},\"annotationdefaults\":{\"arrowcolor\":\"#2a3f5f\",\"arrowhead\":0,\"arrowwidth\":1},\"geo\":{\"bgcolor\":\"white\",\"landcolor\":\"#E5ECF6\",\"subunitcolor\":\"white\",\"showland\":true,\"showlakes\":true,\"lakecolor\":\"white\"},\"title\":{\"x\":0.05},\"mapbox\":{\"style\":\"light\"}}},\"xaxis\":{\"anchor\":\"y\",\"domain\":[0.0,1.0],\"title\":{\"text\":\"Year\"}},\"yaxis\":{\"anchor\":\"x\",\"domain\":[0.0,1.0],\"title\":{\"text\":\"Spread\"}},\"legend\":{\"title\":{\"text\":\"State\"},\"tracegroupgap\":0},\"title\":{\"text\":\"Spread of Births and Labor by Year and State\"}},                        {\"responsive\": true}                    ).then(function(){\n",
       "                            \n",
       "var gd = document.getElementById('e798161b-63f3-4d67-a98d-e173fa23d3fb');\n",
       "var x = new MutationObserver(function (mutations, observer) {{\n",
       "        var display = window.getComputedStyle(gd).display;\n",
       "        if (!display || display === 'none') {{\n",
       "            console.log([gd, 'removed!']);\n",
       "            Plotly.purge(gd);\n",
       "            observer.disconnect();\n",
       "        }}\n",
       "}});\n",
       "\n",
       "// Listen for the removal of the full notebook cells\n",
       "var notebookContainer = gd.closest('#notebook-container');\n",
       "if (notebookContainer) {{\n",
       "    x.observe(notebookContainer, {childList: true});\n",
       "}}\n",
       "\n",
       "// Listen for the clearing of the current output cell\n",
       "var outputEl = gd.closest('.output');\n",
       "if (outputEl) {{\n",
       "    x.observe(outputEl, {childList: true});\n",
       "}}\n",
       "\n",
       "                        })                };                });            </script>        </div>"
      ]
     },
     "metadata": {},
     "output_type": "display_data"
    }
   ],
   "source": [
    "# Merge the two dataframes\n",
    "merged_df = pd.merge(df, labor_df, on=['State', 'Code', 'Year'], suffixes=('_birth', '_labor'))\n",
    "\n",
    "# Calculate the spread\n",
    "merged_df['Spread'] = merged_df['Count_birth'] - merged_df['Count_labor']\n",
    "\n",
    "fig = px.line(merged_df, x='Year', y='Spread', color='State', title='Spread of Births and Labor by Year and State')\n",
    "fig.show()\n"
   ]
  },
  {
   "cell_type": "code",
   "execution_count": 353,
   "metadata": {},
   "outputs": [
    {
     "data": {
      "application/vnd.plotly.v1+json": {
       "config": {
        "plotlyServerURL": "https://plot.ly"
       },
       "data": [
        {
         "hovertemplate": "State=California<br>Year=%{x}<br>Spread=%{y}<extra></extra>",
         "legendgroup": "California",
         "line": {
          "color": "#636efa",
          "dash": "solid"
         },
         "marker": {
          "symbol": "circle"
         },
         "mode": "lines",
         "name": "California",
         "orientation": "v",
         "showlegend": true,
         "type": "scatter",
         "x": [
          "2022",
          "2021",
          "2019",
          "2018",
          "2017",
          "2016",
          "2015",
          "2014",
          "2013",
          "2012",
          "2011",
          "2010"
         ],
         "xaxis": "x",
         "y": [
          158316,
          169738,
          169415,
          170462,
          193093,
          193379,
          201166,
          208088,
          206620,
          223888,
          219969,
          220241
         ],
         "yaxis": "y"
        }
       ],
       "layout": {
        "legend": {
         "title": {
          "text": "State"
         },
         "tracegroupgap": 0
        },
        "template": {
         "data": {
          "bar": [
           {
            "error_x": {
             "color": "#2a3f5f"
            },
            "error_y": {
             "color": "#2a3f5f"
            },
            "marker": {
             "line": {
              "color": "#E5ECF6",
              "width": 0.5
             },
             "pattern": {
              "fillmode": "overlay",
              "size": 10,
              "solidity": 0.2
             }
            },
            "type": "bar"
           }
          ],
          "barpolar": [
           {
            "marker": {
             "line": {
              "color": "#E5ECF6",
              "width": 0.5
             },
             "pattern": {
              "fillmode": "overlay",
              "size": 10,
              "solidity": 0.2
             }
            },
            "type": "barpolar"
           }
          ],
          "carpet": [
           {
            "aaxis": {
             "endlinecolor": "#2a3f5f",
             "gridcolor": "white",
             "linecolor": "white",
             "minorgridcolor": "white",
             "startlinecolor": "#2a3f5f"
            },
            "baxis": {
             "endlinecolor": "#2a3f5f",
             "gridcolor": "white",
             "linecolor": "white",
             "minorgridcolor": "white",
             "startlinecolor": "#2a3f5f"
            },
            "type": "carpet"
           }
          ],
          "choropleth": [
           {
            "colorbar": {
             "outlinewidth": 0,
             "ticks": ""
            },
            "type": "choropleth"
           }
          ],
          "contour": [
           {
            "colorbar": {
             "outlinewidth": 0,
             "ticks": ""
            },
            "colorscale": [
             [
              0,
              "#0d0887"
             ],
             [
              0.1111111111111111,
              "#46039f"
             ],
             [
              0.2222222222222222,
              "#7201a8"
             ],
             [
              0.3333333333333333,
              "#9c179e"
             ],
             [
              0.4444444444444444,
              "#bd3786"
             ],
             [
              0.5555555555555556,
              "#d8576b"
             ],
             [
              0.6666666666666666,
              "#ed7953"
             ],
             [
              0.7777777777777778,
              "#fb9f3a"
             ],
             [
              0.8888888888888888,
              "#fdca26"
             ],
             [
              1,
              "#f0f921"
             ]
            ],
            "type": "contour"
           }
          ],
          "contourcarpet": [
           {
            "colorbar": {
             "outlinewidth": 0,
             "ticks": ""
            },
            "type": "contourcarpet"
           }
          ],
          "heatmap": [
           {
            "colorbar": {
             "outlinewidth": 0,
             "ticks": ""
            },
            "colorscale": [
             [
              0,
              "#0d0887"
             ],
             [
              0.1111111111111111,
              "#46039f"
             ],
             [
              0.2222222222222222,
              "#7201a8"
             ],
             [
              0.3333333333333333,
              "#9c179e"
             ],
             [
              0.4444444444444444,
              "#bd3786"
             ],
             [
              0.5555555555555556,
              "#d8576b"
             ],
             [
              0.6666666666666666,
              "#ed7953"
             ],
             [
              0.7777777777777778,
              "#fb9f3a"
             ],
             [
              0.8888888888888888,
              "#fdca26"
             ],
             [
              1,
              "#f0f921"
             ]
            ],
            "type": "heatmap"
           }
          ],
          "heatmapgl": [
           {
            "colorbar": {
             "outlinewidth": 0,
             "ticks": ""
            },
            "colorscale": [
             [
              0,
              "#0d0887"
             ],
             [
              0.1111111111111111,
              "#46039f"
             ],
             [
              0.2222222222222222,
              "#7201a8"
             ],
             [
              0.3333333333333333,
              "#9c179e"
             ],
             [
              0.4444444444444444,
              "#bd3786"
             ],
             [
              0.5555555555555556,
              "#d8576b"
             ],
             [
              0.6666666666666666,
              "#ed7953"
             ],
             [
              0.7777777777777778,
              "#fb9f3a"
             ],
             [
              0.8888888888888888,
              "#fdca26"
             ],
             [
              1,
              "#f0f921"
             ]
            ],
            "type": "heatmapgl"
           }
          ],
          "histogram": [
           {
            "marker": {
             "pattern": {
              "fillmode": "overlay",
              "size": 10,
              "solidity": 0.2
             }
            },
            "type": "histogram"
           }
          ],
          "histogram2d": [
           {
            "colorbar": {
             "outlinewidth": 0,
             "ticks": ""
            },
            "colorscale": [
             [
              0,
              "#0d0887"
             ],
             [
              0.1111111111111111,
              "#46039f"
             ],
             [
              0.2222222222222222,
              "#7201a8"
             ],
             [
              0.3333333333333333,
              "#9c179e"
             ],
             [
              0.4444444444444444,
              "#bd3786"
             ],
             [
              0.5555555555555556,
              "#d8576b"
             ],
             [
              0.6666666666666666,
              "#ed7953"
             ],
             [
              0.7777777777777778,
              "#fb9f3a"
             ],
             [
              0.8888888888888888,
              "#fdca26"
             ],
             [
              1,
              "#f0f921"
             ]
            ],
            "type": "histogram2d"
           }
          ],
          "histogram2dcontour": [
           {
            "colorbar": {
             "outlinewidth": 0,
             "ticks": ""
            },
            "colorscale": [
             [
              0,
              "#0d0887"
             ],
             [
              0.1111111111111111,
              "#46039f"
             ],
             [
              0.2222222222222222,
              "#7201a8"
             ],
             [
              0.3333333333333333,
              "#9c179e"
             ],
             [
              0.4444444444444444,
              "#bd3786"
             ],
             [
              0.5555555555555556,
              "#d8576b"
             ],
             [
              0.6666666666666666,
              "#ed7953"
             ],
             [
              0.7777777777777778,
              "#fb9f3a"
             ],
             [
              0.8888888888888888,
              "#fdca26"
             ],
             [
              1,
              "#f0f921"
             ]
            ],
            "type": "histogram2dcontour"
           }
          ],
          "mesh3d": [
           {
            "colorbar": {
             "outlinewidth": 0,
             "ticks": ""
            },
            "type": "mesh3d"
           }
          ],
          "parcoords": [
           {
            "line": {
             "colorbar": {
              "outlinewidth": 0,
              "ticks": ""
             }
            },
            "type": "parcoords"
           }
          ],
          "pie": [
           {
            "automargin": true,
            "type": "pie"
           }
          ],
          "scatter": [
           {
            "fillpattern": {
             "fillmode": "overlay",
             "size": 10,
             "solidity": 0.2
            },
            "type": "scatter"
           }
          ],
          "scatter3d": [
           {
            "line": {
             "colorbar": {
              "outlinewidth": 0,
              "ticks": ""
             }
            },
            "marker": {
             "colorbar": {
              "outlinewidth": 0,
              "ticks": ""
             }
            },
            "type": "scatter3d"
           }
          ],
          "scattercarpet": [
           {
            "marker": {
             "colorbar": {
              "outlinewidth": 0,
              "ticks": ""
             }
            },
            "type": "scattercarpet"
           }
          ],
          "scattergeo": [
           {
            "marker": {
             "colorbar": {
              "outlinewidth": 0,
              "ticks": ""
             }
            },
            "type": "scattergeo"
           }
          ],
          "scattergl": [
           {
            "marker": {
             "colorbar": {
              "outlinewidth": 0,
              "ticks": ""
             }
            },
            "type": "scattergl"
           }
          ],
          "scattermapbox": [
           {
            "marker": {
             "colorbar": {
              "outlinewidth": 0,
              "ticks": ""
             }
            },
            "type": "scattermapbox"
           }
          ],
          "scatterpolar": [
           {
            "marker": {
             "colorbar": {
              "outlinewidth": 0,
              "ticks": ""
             }
            },
            "type": "scatterpolar"
           }
          ],
          "scatterpolargl": [
           {
            "marker": {
             "colorbar": {
              "outlinewidth": 0,
              "ticks": ""
             }
            },
            "type": "scatterpolargl"
           }
          ],
          "scatterternary": [
           {
            "marker": {
             "colorbar": {
              "outlinewidth": 0,
              "ticks": ""
             }
            },
            "type": "scatterternary"
           }
          ],
          "surface": [
           {
            "colorbar": {
             "outlinewidth": 0,
             "ticks": ""
            },
            "colorscale": [
             [
              0,
              "#0d0887"
             ],
             [
              0.1111111111111111,
              "#46039f"
             ],
             [
              0.2222222222222222,
              "#7201a8"
             ],
             [
              0.3333333333333333,
              "#9c179e"
             ],
             [
              0.4444444444444444,
              "#bd3786"
             ],
             [
              0.5555555555555556,
              "#d8576b"
             ],
             [
              0.6666666666666666,
              "#ed7953"
             ],
             [
              0.7777777777777778,
              "#fb9f3a"
             ],
             [
              0.8888888888888888,
              "#fdca26"
             ],
             [
              1,
              "#f0f921"
             ]
            ],
            "type": "surface"
           }
          ],
          "table": [
           {
            "cells": {
             "fill": {
              "color": "#EBF0F8"
             },
             "line": {
              "color": "white"
             }
            },
            "header": {
             "fill": {
              "color": "#C8D4E3"
             },
             "line": {
              "color": "white"
             }
            },
            "type": "table"
           }
          ]
         },
         "layout": {
          "annotationdefaults": {
           "arrowcolor": "#2a3f5f",
           "arrowhead": 0,
           "arrowwidth": 1
          },
          "autotypenumbers": "strict",
          "coloraxis": {
           "colorbar": {
            "outlinewidth": 0,
            "ticks": ""
           }
          },
          "colorscale": {
           "diverging": [
            [
             0,
             "#8e0152"
            ],
            [
             0.1,
             "#c51b7d"
            ],
            [
             0.2,
             "#de77ae"
            ],
            [
             0.3,
             "#f1b6da"
            ],
            [
             0.4,
             "#fde0ef"
            ],
            [
             0.5,
             "#f7f7f7"
            ],
            [
             0.6,
             "#e6f5d0"
            ],
            [
             0.7,
             "#b8e186"
            ],
            [
             0.8,
             "#7fbc41"
            ],
            [
             0.9,
             "#4d9221"
            ],
            [
             1,
             "#276419"
            ]
           ],
           "sequential": [
            [
             0,
             "#0d0887"
            ],
            [
             0.1111111111111111,
             "#46039f"
            ],
            [
             0.2222222222222222,
             "#7201a8"
            ],
            [
             0.3333333333333333,
             "#9c179e"
            ],
            [
             0.4444444444444444,
             "#bd3786"
            ],
            [
             0.5555555555555556,
             "#d8576b"
            ],
            [
             0.6666666666666666,
             "#ed7953"
            ],
            [
             0.7777777777777778,
             "#fb9f3a"
            ],
            [
             0.8888888888888888,
             "#fdca26"
            ],
            [
             1,
             "#f0f921"
            ]
           ],
           "sequentialminus": [
            [
             0,
             "#0d0887"
            ],
            [
             0.1111111111111111,
             "#46039f"
            ],
            [
             0.2222222222222222,
             "#7201a8"
            ],
            [
             0.3333333333333333,
             "#9c179e"
            ],
            [
             0.4444444444444444,
             "#bd3786"
            ],
            [
             0.5555555555555556,
             "#d8576b"
            ],
            [
             0.6666666666666666,
             "#ed7953"
            ],
            [
             0.7777777777777778,
             "#fb9f3a"
            ],
            [
             0.8888888888888888,
             "#fdca26"
            ],
            [
             1,
             "#f0f921"
            ]
           ]
          },
          "colorway": [
           "#636efa",
           "#EF553B",
           "#00cc96",
           "#ab63fa",
           "#FFA15A",
           "#19d3f3",
           "#FF6692",
           "#B6E880",
           "#FF97FF",
           "#FECB52"
          ],
          "font": {
           "color": "#2a3f5f"
          },
          "geo": {
           "bgcolor": "white",
           "lakecolor": "white",
           "landcolor": "#E5ECF6",
           "showlakes": true,
           "showland": true,
           "subunitcolor": "white"
          },
          "hoverlabel": {
           "align": "left"
          },
          "hovermode": "closest",
          "mapbox": {
           "style": "light"
          },
          "paper_bgcolor": "white",
          "plot_bgcolor": "#E5ECF6",
          "polar": {
           "angularaxis": {
            "gridcolor": "white",
            "linecolor": "white",
            "ticks": ""
           },
           "bgcolor": "#E5ECF6",
           "radialaxis": {
            "gridcolor": "white",
            "linecolor": "white",
            "ticks": ""
           }
          },
          "scene": {
           "xaxis": {
            "backgroundcolor": "#E5ECF6",
            "gridcolor": "white",
            "gridwidth": 2,
            "linecolor": "white",
            "showbackground": true,
            "ticks": "",
            "zerolinecolor": "white"
           },
           "yaxis": {
            "backgroundcolor": "#E5ECF6",
            "gridcolor": "white",
            "gridwidth": 2,
            "linecolor": "white",
            "showbackground": true,
            "ticks": "",
            "zerolinecolor": "white"
           },
           "zaxis": {
            "backgroundcolor": "#E5ECF6",
            "gridcolor": "white",
            "gridwidth": 2,
            "linecolor": "white",
            "showbackground": true,
            "ticks": "",
            "zerolinecolor": "white"
           }
          },
          "shapedefaults": {
           "line": {
            "color": "#2a3f5f"
           }
          },
          "ternary": {
           "aaxis": {
            "gridcolor": "white",
            "linecolor": "white",
            "ticks": ""
           },
           "baxis": {
            "gridcolor": "white",
            "linecolor": "white",
            "ticks": ""
           },
           "bgcolor": "#E5ECF6",
           "caxis": {
            "gridcolor": "white",
            "linecolor": "white",
            "ticks": ""
           }
          },
          "title": {
           "x": 0.05
          },
          "xaxis": {
           "automargin": true,
           "gridcolor": "white",
           "linecolor": "white",
           "ticks": "",
           "title": {
            "standoff": 15
           },
           "zerolinecolor": "white",
           "zerolinewidth": 2
          },
          "yaxis": {
           "automargin": true,
           "gridcolor": "white",
           "linecolor": "white",
           "ticks": "",
           "title": {
            "standoff": 15
           },
           "zerolinecolor": "white",
           "zerolinewidth": 2
          }
         }
        },
        "title": {
         "text": "Spread of Births and Labor by Year and State"
        },
        "xaxis": {
         "anchor": "y",
         "domain": [
          0,
          1
         ],
         "title": {
          "text": "Year"
         }
        },
        "yaxis": {
         "anchor": "x",
         "domain": [
          0,
          1
         ],
         "title": {
          "text": "Spread"
         }
        }
       }
      },
      "text/html": [
       "<div>                            <div id=\"2eff1f46-1a97-4f97-80fd-2f936ab401e0\" class=\"plotly-graph-div\" style=\"height:525px; width:100%;\"></div>            <script type=\"text/javascript\">                require([\"plotly\"], function(Plotly) {                    window.PLOTLYENV=window.PLOTLYENV || {};                                    if (document.getElementById(\"2eff1f46-1a97-4f97-80fd-2f936ab401e0\")) {                    Plotly.newPlot(                        \"2eff1f46-1a97-4f97-80fd-2f936ab401e0\",                        [{\"hovertemplate\":\"State=California\\u003cbr\\u003eYear=%{x}\\u003cbr\\u003eSpread=%{y}\\u003cextra\\u003e\\u003c\\u002fextra\\u003e\",\"legendgroup\":\"California\",\"line\":{\"color\":\"#636efa\",\"dash\":\"solid\"},\"marker\":{\"symbol\":\"circle\"},\"mode\":\"lines\",\"name\":\"California\",\"orientation\":\"v\",\"showlegend\":true,\"x\":[\"2022\",\"2021\",\"2019\",\"2018\",\"2017\",\"2016\",\"2015\",\"2014\",\"2013\",\"2012\",\"2011\",\"2010\"],\"xaxis\":\"x\",\"y\":[158316.0,169738.0,169415.0,170462.0,193093.0,193379.0,201166.0,208088.0,206620.0,223888.0,219969.0,220241.0],\"yaxis\":\"y\",\"type\":\"scatter\"}],                        {\"template\":{\"data\":{\"histogram2dcontour\":[{\"type\":\"histogram2dcontour\",\"colorbar\":{\"outlinewidth\":0,\"ticks\":\"\"},\"colorscale\":[[0.0,\"#0d0887\"],[0.1111111111111111,\"#46039f\"],[0.2222222222222222,\"#7201a8\"],[0.3333333333333333,\"#9c179e\"],[0.4444444444444444,\"#bd3786\"],[0.5555555555555556,\"#d8576b\"],[0.6666666666666666,\"#ed7953\"],[0.7777777777777778,\"#fb9f3a\"],[0.8888888888888888,\"#fdca26\"],[1.0,\"#f0f921\"]]}],\"choropleth\":[{\"type\":\"choropleth\",\"colorbar\":{\"outlinewidth\":0,\"ticks\":\"\"}}],\"histogram2d\":[{\"type\":\"histogram2d\",\"colorbar\":{\"outlinewidth\":0,\"ticks\":\"\"},\"colorscale\":[[0.0,\"#0d0887\"],[0.1111111111111111,\"#46039f\"],[0.2222222222222222,\"#7201a8\"],[0.3333333333333333,\"#9c179e\"],[0.4444444444444444,\"#bd3786\"],[0.5555555555555556,\"#d8576b\"],[0.6666666666666666,\"#ed7953\"],[0.7777777777777778,\"#fb9f3a\"],[0.8888888888888888,\"#fdca26\"],[1.0,\"#f0f921\"]]}],\"heatmap\":[{\"type\":\"heatmap\",\"colorbar\":{\"outlinewidth\":0,\"ticks\":\"\"},\"colorscale\":[[0.0,\"#0d0887\"],[0.1111111111111111,\"#46039f\"],[0.2222222222222222,\"#7201a8\"],[0.3333333333333333,\"#9c179e\"],[0.4444444444444444,\"#bd3786\"],[0.5555555555555556,\"#d8576b\"],[0.6666666666666666,\"#ed7953\"],[0.7777777777777778,\"#fb9f3a\"],[0.8888888888888888,\"#fdca26\"],[1.0,\"#f0f921\"]]}],\"heatmapgl\":[{\"type\":\"heatmapgl\",\"colorbar\":{\"outlinewidth\":0,\"ticks\":\"\"},\"colorscale\":[[0.0,\"#0d0887\"],[0.1111111111111111,\"#46039f\"],[0.2222222222222222,\"#7201a8\"],[0.3333333333333333,\"#9c179e\"],[0.4444444444444444,\"#bd3786\"],[0.5555555555555556,\"#d8576b\"],[0.6666666666666666,\"#ed7953\"],[0.7777777777777778,\"#fb9f3a\"],[0.8888888888888888,\"#fdca26\"],[1.0,\"#f0f921\"]]}],\"contourcarpet\":[{\"type\":\"contourcarpet\",\"colorbar\":{\"outlinewidth\":0,\"ticks\":\"\"}}],\"contour\":[{\"type\":\"contour\",\"colorbar\":{\"outlinewidth\":0,\"ticks\":\"\"},\"colorscale\":[[0.0,\"#0d0887\"],[0.1111111111111111,\"#46039f\"],[0.2222222222222222,\"#7201a8\"],[0.3333333333333333,\"#9c179e\"],[0.4444444444444444,\"#bd3786\"],[0.5555555555555556,\"#d8576b\"],[0.6666666666666666,\"#ed7953\"],[0.7777777777777778,\"#fb9f3a\"],[0.8888888888888888,\"#fdca26\"],[1.0,\"#f0f921\"]]}],\"surface\":[{\"type\":\"surface\",\"colorbar\":{\"outlinewidth\":0,\"ticks\":\"\"},\"colorscale\":[[0.0,\"#0d0887\"],[0.1111111111111111,\"#46039f\"],[0.2222222222222222,\"#7201a8\"],[0.3333333333333333,\"#9c179e\"],[0.4444444444444444,\"#bd3786\"],[0.5555555555555556,\"#d8576b\"],[0.6666666666666666,\"#ed7953\"],[0.7777777777777778,\"#fb9f3a\"],[0.8888888888888888,\"#fdca26\"],[1.0,\"#f0f921\"]]}],\"mesh3d\":[{\"type\":\"mesh3d\",\"colorbar\":{\"outlinewidth\":0,\"ticks\":\"\"}}],\"scatter\":[{\"fillpattern\":{\"fillmode\":\"overlay\",\"size\":10,\"solidity\":0.2},\"type\":\"scatter\"}],\"parcoords\":[{\"type\":\"parcoords\",\"line\":{\"colorbar\":{\"outlinewidth\":0,\"ticks\":\"\"}}}],\"scatterpolargl\":[{\"type\":\"scatterpolargl\",\"marker\":{\"colorbar\":{\"outlinewidth\":0,\"ticks\":\"\"}}}],\"bar\":[{\"error_x\":{\"color\":\"#2a3f5f\"},\"error_y\":{\"color\":\"#2a3f5f\"},\"marker\":{\"line\":{\"color\":\"#E5ECF6\",\"width\":0.5},\"pattern\":{\"fillmode\":\"overlay\",\"size\":10,\"solidity\":0.2}},\"type\":\"bar\"}],\"scattergeo\":[{\"type\":\"scattergeo\",\"marker\":{\"colorbar\":{\"outlinewidth\":0,\"ticks\":\"\"}}}],\"scatterpolar\":[{\"type\":\"scatterpolar\",\"marker\":{\"colorbar\":{\"outlinewidth\":0,\"ticks\":\"\"}}}],\"histogram\":[{\"marker\":{\"pattern\":{\"fillmode\":\"overlay\",\"size\":10,\"solidity\":0.2}},\"type\":\"histogram\"}],\"scattergl\":[{\"type\":\"scattergl\",\"marker\":{\"colorbar\":{\"outlinewidth\":0,\"ticks\":\"\"}}}],\"scatter3d\":[{\"type\":\"scatter3d\",\"line\":{\"colorbar\":{\"outlinewidth\":0,\"ticks\":\"\"}},\"marker\":{\"colorbar\":{\"outlinewidth\":0,\"ticks\":\"\"}}}],\"scattermapbox\":[{\"type\":\"scattermapbox\",\"marker\":{\"colorbar\":{\"outlinewidth\":0,\"ticks\":\"\"}}}],\"scatterternary\":[{\"type\":\"scatterternary\",\"marker\":{\"colorbar\":{\"outlinewidth\":0,\"ticks\":\"\"}}}],\"scattercarpet\":[{\"type\":\"scattercarpet\",\"marker\":{\"colorbar\":{\"outlinewidth\":0,\"ticks\":\"\"}}}],\"carpet\":[{\"aaxis\":{\"endlinecolor\":\"#2a3f5f\",\"gridcolor\":\"white\",\"linecolor\":\"white\",\"minorgridcolor\":\"white\",\"startlinecolor\":\"#2a3f5f\"},\"baxis\":{\"endlinecolor\":\"#2a3f5f\",\"gridcolor\":\"white\",\"linecolor\":\"white\",\"minorgridcolor\":\"white\",\"startlinecolor\":\"#2a3f5f\"},\"type\":\"carpet\"}],\"table\":[{\"cells\":{\"fill\":{\"color\":\"#EBF0F8\"},\"line\":{\"color\":\"white\"}},\"header\":{\"fill\":{\"color\":\"#C8D4E3\"},\"line\":{\"color\":\"white\"}},\"type\":\"table\"}],\"barpolar\":[{\"marker\":{\"line\":{\"color\":\"#E5ECF6\",\"width\":0.5},\"pattern\":{\"fillmode\":\"overlay\",\"size\":10,\"solidity\":0.2}},\"type\":\"barpolar\"}],\"pie\":[{\"automargin\":true,\"type\":\"pie\"}]},\"layout\":{\"autotypenumbers\":\"strict\",\"colorway\":[\"#636efa\",\"#EF553B\",\"#00cc96\",\"#ab63fa\",\"#FFA15A\",\"#19d3f3\",\"#FF6692\",\"#B6E880\",\"#FF97FF\",\"#FECB52\"],\"font\":{\"color\":\"#2a3f5f\"},\"hovermode\":\"closest\",\"hoverlabel\":{\"align\":\"left\"},\"paper_bgcolor\":\"white\",\"plot_bgcolor\":\"#E5ECF6\",\"polar\":{\"bgcolor\":\"#E5ECF6\",\"angularaxis\":{\"gridcolor\":\"white\",\"linecolor\":\"white\",\"ticks\":\"\"},\"radialaxis\":{\"gridcolor\":\"white\",\"linecolor\":\"white\",\"ticks\":\"\"}},\"ternary\":{\"bgcolor\":\"#E5ECF6\",\"aaxis\":{\"gridcolor\":\"white\",\"linecolor\":\"white\",\"ticks\":\"\"},\"baxis\":{\"gridcolor\":\"white\",\"linecolor\":\"white\",\"ticks\":\"\"},\"caxis\":{\"gridcolor\":\"white\",\"linecolor\":\"white\",\"ticks\":\"\"}},\"coloraxis\":{\"colorbar\":{\"outlinewidth\":0,\"ticks\":\"\"}},\"colorscale\":{\"sequential\":[[0.0,\"#0d0887\"],[0.1111111111111111,\"#46039f\"],[0.2222222222222222,\"#7201a8\"],[0.3333333333333333,\"#9c179e\"],[0.4444444444444444,\"#bd3786\"],[0.5555555555555556,\"#d8576b\"],[0.6666666666666666,\"#ed7953\"],[0.7777777777777778,\"#fb9f3a\"],[0.8888888888888888,\"#fdca26\"],[1.0,\"#f0f921\"]],\"sequentialminus\":[[0.0,\"#0d0887\"],[0.1111111111111111,\"#46039f\"],[0.2222222222222222,\"#7201a8\"],[0.3333333333333333,\"#9c179e\"],[0.4444444444444444,\"#bd3786\"],[0.5555555555555556,\"#d8576b\"],[0.6666666666666666,\"#ed7953\"],[0.7777777777777778,\"#fb9f3a\"],[0.8888888888888888,\"#fdca26\"],[1.0,\"#f0f921\"]],\"diverging\":[[0,\"#8e0152\"],[0.1,\"#c51b7d\"],[0.2,\"#de77ae\"],[0.3,\"#f1b6da\"],[0.4,\"#fde0ef\"],[0.5,\"#f7f7f7\"],[0.6,\"#e6f5d0\"],[0.7,\"#b8e186\"],[0.8,\"#7fbc41\"],[0.9,\"#4d9221\"],[1,\"#276419\"]]},\"xaxis\":{\"gridcolor\":\"white\",\"linecolor\":\"white\",\"ticks\":\"\",\"title\":{\"standoff\":15},\"zerolinecolor\":\"white\",\"automargin\":true,\"zerolinewidth\":2},\"yaxis\":{\"gridcolor\":\"white\",\"linecolor\":\"white\",\"ticks\":\"\",\"title\":{\"standoff\":15},\"zerolinecolor\":\"white\",\"automargin\":true,\"zerolinewidth\":2},\"scene\":{\"xaxis\":{\"backgroundcolor\":\"#E5ECF6\",\"gridcolor\":\"white\",\"linecolor\":\"white\",\"showbackground\":true,\"ticks\":\"\",\"zerolinecolor\":\"white\",\"gridwidth\":2},\"yaxis\":{\"backgroundcolor\":\"#E5ECF6\",\"gridcolor\":\"white\",\"linecolor\":\"white\",\"showbackground\":true,\"ticks\":\"\",\"zerolinecolor\":\"white\",\"gridwidth\":2},\"zaxis\":{\"backgroundcolor\":\"#E5ECF6\",\"gridcolor\":\"white\",\"linecolor\":\"white\",\"showbackground\":true,\"ticks\":\"\",\"zerolinecolor\":\"white\",\"gridwidth\":2}},\"shapedefaults\":{\"line\":{\"color\":\"#2a3f5f\"}},\"annotationdefaults\":{\"arrowcolor\":\"#2a3f5f\",\"arrowhead\":0,\"arrowwidth\":1},\"geo\":{\"bgcolor\":\"white\",\"landcolor\":\"#E5ECF6\",\"subunitcolor\":\"white\",\"showland\":true,\"showlakes\":true,\"lakecolor\":\"white\"},\"title\":{\"x\":0.05},\"mapbox\":{\"style\":\"light\"}}},\"xaxis\":{\"anchor\":\"y\",\"domain\":[0.0,1.0],\"title\":{\"text\":\"Year\"}},\"yaxis\":{\"anchor\":\"x\",\"domain\":[0.0,1.0],\"title\":{\"text\":\"Spread\"}},\"legend\":{\"title\":{\"text\":\"State\"},\"tracegroupgap\":0},\"title\":{\"text\":\"Spread of Births and Labor by Year and State\"}},                        {\"responsive\": true}                    ).then(function(){\n",
       "                            \n",
       "var gd = document.getElementById('2eff1f46-1a97-4f97-80fd-2f936ab401e0');\n",
       "var x = new MutationObserver(function (mutations, observer) {{\n",
       "        var display = window.getComputedStyle(gd).display;\n",
       "        if (!display || display === 'none') {{\n",
       "            console.log([gd, 'removed!']);\n",
       "            Plotly.purge(gd);\n",
       "            observer.disconnect();\n",
       "        }}\n",
       "}});\n",
       "\n",
       "// Listen for the removal of the full notebook cells\n",
       "var notebookContainer = gd.closest('#notebook-container');\n",
       "if (notebookContainer) {{\n",
       "    x.observe(notebookContainer, {childList: true});\n",
       "}}\n",
       "\n",
       "// Listen for the clearing of the current output cell\n",
       "var outputEl = gd.closest('.output');\n",
       "if (outputEl) {{\n",
       "    x.observe(outputEl, {childList: true});\n",
       "}}\n",
       "\n",
       "                        })                };                });            </script>        </div>"
      ]
     },
     "metadata": {},
     "output_type": "display_data"
    }
   ],
   "source": [
    "target_state = merged_df[merged_df['State']=='California']\n",
    "fig = px.line(target_state, x='Year', y='Spread', color='State', title='Spread of Births and Labor by Year and State')\n",
    "fig.show()"
   ]
  },
  {
   "cell_type": "code",
   "execution_count": null,
   "metadata": {},
   "outputs": [],
   "source": []
  },
  {
   "cell_type": "code",
   "execution_count": null,
   "metadata": {},
   "outputs": [],
   "source": []
  },
  {
   "cell_type": "code",
   "execution_count": 334,
   "metadata": {},
   "outputs": [
    {
     "data": {
      "text/html": [
       "<div>\n",
       "<style scoped>\n",
       "    .dataframe tbody tr th:only-of-type {\n",
       "        vertical-align: middle;\n",
       "    }\n",
       "\n",
       "    .dataframe tbody tr th {\n",
       "        vertical-align: top;\n",
       "    }\n",
       "\n",
       "    .dataframe thead th {\n",
       "        text-align: right;\n",
       "    }\n",
       "</style>\n",
       "<table border=\"1\" class=\"dataframe\">\n",
       "  <thead>\n",
       "    <tr style=\"text-align: right;\">\n",
       "      <th></th>\n",
       "      <th>Alabama_total</th>\n",
       "      <th>Alabama_births</th>\n",
       "      <th>Alabama_thou</th>\n",
       "      <th>Alaska_total</th>\n",
       "      <th>Alaska_births</th>\n",
       "      <th>Alaska_thou</th>\n",
       "      <th>Arizona_total</th>\n",
       "      <th>Arizona_births</th>\n",
       "      <th>Arizona_thou</th>\n",
       "      <th>Arkansas_total</th>\n",
       "      <th>...</th>\n",
       "      <th>West Virginia_thou</th>\n",
       "      <th>Wisconsin_total</th>\n",
       "      <th>Wisconsin_births</th>\n",
       "      <th>Wisconsin_thou</th>\n",
       "      <th>Wyoming_total</th>\n",
       "      <th>Wyoming_births</th>\n",
       "      <th>Wyoming_thou</th>\n",
       "      <th>Puerto Rico_total</th>\n",
       "      <th>Puerto Rico_births</th>\n",
       "      <th>Puerto Rico_thou</th>\n",
       "    </tr>\n",
       "    <tr>\n",
       "      <th>Label (Grouping)</th>\n",
       "      <th></th>\n",
       "      <th></th>\n",
       "      <th></th>\n",
       "      <th></th>\n",
       "      <th></th>\n",
       "      <th></th>\n",
       "      <th></th>\n",
       "      <th></th>\n",
       "      <th></th>\n",
       "      <th></th>\n",
       "      <th></th>\n",
       "      <th></th>\n",
       "      <th></th>\n",
       "      <th></th>\n",
       "      <th></th>\n",
       "      <th></th>\n",
       "      <th></th>\n",
       "      <th></th>\n",
       "      <th></th>\n",
       "      <th></th>\n",
       "      <th></th>\n",
       "    </tr>\n",
       "  </thead>\n",
       "  <tbody>\n",
       "    <tr>\n",
       "      <th>15 to 19 years</th>\n",
       "      <td>171783.0</td>\n",
       "      <td>651.0</td>\n",
       "      <td>4.0</td>\n",
       "      <td>22013.0</td>\n",
       "      <td>124.0</td>\n",
       "      <td>6.0</td>\n",
       "      <td>236982.0</td>\n",
       "      <td>3252.0</td>\n",
       "      <td>14.0</td>\n",
       "      <td>96432.0</td>\n",
       "      <td>...</td>\n",
       "      <td>15.0</td>\n",
       "      <td>185708.0</td>\n",
       "      <td>819.0</td>\n",
       "      <td>4.0</td>\n",
       "      <td>17961.0</td>\n",
       "      <td>220.0</td>\n",
       "      <td>12.0</td>\n",
       "      <td>93630.0</td>\n",
       "      <td>788.0</td>\n",
       "      <td>8.0</td>\n",
       "    </tr>\n",
       "    <tr>\n",
       "      <th>20 to 34 years</th>\n",
       "      <td>500263.0</td>\n",
       "      <td>48565.0</td>\n",
       "      <td>97.0</td>\n",
       "      <td>73709.0</td>\n",
       "      <td>7354.0</td>\n",
       "      <td>100.0</td>\n",
       "      <td>741982.0</td>\n",
       "      <td>57861.0</td>\n",
       "      <td>78.0</td>\n",
       "      <td>293111.0</td>\n",
       "      <td>...</td>\n",
       "      <td>94.0</td>\n",
       "      <td>555914.0</td>\n",
       "      <td>49876.0</td>\n",
       "      <td>90.0</td>\n",
       "      <td>51110.0</td>\n",
       "      <td>5354.0</td>\n",
       "      <td>105.0</td>\n",
       "      <td>309106.0</td>\n",
       "      <td>17447.0</td>\n",
       "      <td>56.0</td>\n",
       "    </tr>\n",
       "    <tr>\n",
       "      <th>35 to 50 years</th>\n",
       "      <td>512674.0</td>\n",
       "      <td>12290.0</td>\n",
       "      <td>24.0</td>\n",
       "      <td>71989.0</td>\n",
       "      <td>2647.0</td>\n",
       "      <td>37.0</td>\n",
       "      <td>701821.0</td>\n",
       "      <td>25435.0</td>\n",
       "      <td>36.0</td>\n",
       "      <td>301596.0</td>\n",
       "      <td>...</td>\n",
       "      <td>24.0</td>\n",
       "      <td>560195.0</td>\n",
       "      <td>15885.0</td>\n",
       "      <td>28.0</td>\n",
       "      <td>57670.0</td>\n",
       "      <td>1895.0</td>\n",
       "      <td>33.0</td>\n",
       "      <td>340744.0</td>\n",
       "      <td>3473.0</td>\n",
       "      <td>10.0</td>\n",
       "    </tr>\n",
       "  </tbody>\n",
       "</table>\n",
       "<p>3 rows × 157 columns</p>\n",
       "</div>"
      ],
      "text/plain": [
       "                    Alabama_total  Alabama_births  Alabama_thou  Alaska_total  \\\n",
       "Label (Grouping)                                                                \n",
       "    15 to 19 years       171783.0           651.0           4.0       22013.0   \n",
       "    20 to 34 years       500263.0         48565.0          97.0       73709.0   \n",
       "    35 to 50 years       512674.0         12290.0          24.0       71989.0   \n",
       "\n",
       "                    Alaska_births  Alaska_thou  Arizona_total  Arizona_births  \\\n",
       "Label (Grouping)                                                                \n",
       "    15 to 19 years          124.0          6.0       236982.0          3252.0   \n",
       "    20 to 34 years         7354.0        100.0       741982.0         57861.0   \n",
       "    35 to 50 years         2647.0         37.0       701821.0         25435.0   \n",
       "\n",
       "                    Arizona_thou  Arkansas_total  ...  West Virginia_thou  \\\n",
       "Label (Grouping)                                  ...                       \n",
       "    15 to 19 years          14.0         96432.0  ...                15.0   \n",
       "    20 to 34 years          78.0        293111.0  ...                94.0   \n",
       "    35 to 50 years          36.0        301596.0  ...                24.0   \n",
       "\n",
       "                    Wisconsin_total  Wisconsin_births  Wisconsin_thou  \\\n",
       "Label (Grouping)                                                        \n",
       "    15 to 19 years         185708.0             819.0             4.0   \n",
       "    20 to 34 years         555914.0           49876.0            90.0   \n",
       "    35 to 50 years         560195.0           15885.0            28.0   \n",
       "\n",
       "                    Wyoming_total  Wyoming_births  Wyoming_thou  \\\n",
       "Label (Grouping)                                                  \n",
       "    15 to 19 years        17961.0           220.0          12.0   \n",
       "    20 to 34 years        51110.0          5354.0         105.0   \n",
       "    35 to 50 years        57670.0          1895.0          33.0   \n",
       "\n",
       "                    Puerto Rico_total  Puerto Rico_births  Puerto Rico_thou  \n",
       "Label (Grouping)                                                             \n",
       "    15 to 19 years            93630.0               788.0               8.0  \n",
       "    20 to 34 years           309106.0             17447.0              56.0  \n",
       "    35 to 50 years           340744.0              3473.0              10.0  \n",
       "\n",
       "[3 rows x 157 columns]"
      ]
     },
     "execution_count": 334,
     "metadata": {},
     "output_type": "execute_result"
    }
   ],
   "source": [
    "fem_age_22 = fert_data.iloc[[2,3,4]]\n",
    "fem_age_22.head()"
   ]
  },
  {
   "cell_type": "code",
   "execution_count": 335,
   "metadata": {},
   "outputs": [
    {
     "data": {
      "text/html": [
       "<div>\n",
       "<style scoped>\n",
       "    .dataframe tbody tr th:only-of-type {\n",
       "        vertical-align: middle;\n",
       "    }\n",
       "\n",
       "    .dataframe tbody tr th {\n",
       "        vertical-align: top;\n",
       "    }\n",
       "\n",
       "    .dataframe thead th {\n",
       "        text-align: right;\n",
       "    }\n",
       "</style>\n",
       "<table border=\"1\" class=\"dataframe\">\n",
       "  <thead>\n",
       "    <tr style=\"text-align: right;\">\n",
       "      <th></th>\n",
       "      <th>Alabama_total</th>\n",
       "      <th>Alabama_births</th>\n",
       "      <th>Alabama_thou</th>\n",
       "      <th>Alaska_total</th>\n",
       "      <th>Alaska_births</th>\n",
       "      <th>Alaska_thou</th>\n",
       "      <th>Arizona_total</th>\n",
       "      <th>Arizona_births</th>\n",
       "      <th>Arizona_thou</th>\n",
       "      <th>Arkansas_total</th>\n",
       "      <th>...</th>\n",
       "      <th>West Virginia_thou</th>\n",
       "      <th>Wisconsin_total</th>\n",
       "      <th>Wisconsin_births</th>\n",
       "      <th>Wisconsin_thou</th>\n",
       "      <th>Wyoming_total</th>\n",
       "      <th>Wyoming_births</th>\n",
       "      <th>Wyoming_thou</th>\n",
       "      <th>Puerto Rico_total</th>\n",
       "      <th>Puerto Rico_births</th>\n",
       "      <th>Puerto Rico_thou</th>\n",
       "    </tr>\n",
       "    <tr>\n",
       "      <th>Label (Grouping)</th>\n",
       "      <th></th>\n",
       "      <th></th>\n",
       "      <th></th>\n",
       "      <th></th>\n",
       "      <th></th>\n",
       "      <th></th>\n",
       "      <th></th>\n",
       "      <th></th>\n",
       "      <th></th>\n",
       "      <th></th>\n",
       "      <th></th>\n",
       "      <th></th>\n",
       "      <th></th>\n",
       "      <th></th>\n",
       "      <th></th>\n",
       "      <th></th>\n",
       "      <th></th>\n",
       "      <th></th>\n",
       "      <th></th>\n",
       "      <th></th>\n",
       "      <th></th>\n",
       "    </tr>\n",
       "  </thead>\n",
       "  <tbody>\n",
       "    <tr>\n",
       "      <th>15 to 19 years</th>\n",
       "      <td>170097.0</td>\n",
       "      <td>1408.0</td>\n",
       "      <td>8.0</td>\n",
       "      <td>22382.0</td>\n",
       "      <td>132.0</td>\n",
       "      <td>6.0</td>\n",
       "      <td>235694.0</td>\n",
       "      <td>1363.0</td>\n",
       "      <td>6.0</td>\n",
       "      <td>99501.0</td>\n",
       "      <td>...</td>\n",
       "      <td>10.0</td>\n",
       "      <td>189422.0</td>\n",
       "      <td>1130.0</td>\n",
       "      <td>6.0</td>\n",
       "      <td>19793.0</td>\n",
       "      <td>83.0</td>\n",
       "      <td>4.0</td>\n",
       "      <td>98793.0</td>\n",
       "      <td>1172.0</td>\n",
       "      <td>12.0</td>\n",
       "    </tr>\n",
       "    <tr>\n",
       "      <th>20 to 34 years</th>\n",
       "      <td>483785.0</td>\n",
       "      <td>42509.0</td>\n",
       "      <td>88.0</td>\n",
       "      <td>72194.0</td>\n",
       "      <td>6892.0</td>\n",
       "      <td>95.0</td>\n",
       "      <td>720415.0</td>\n",
       "      <td>60973.0</td>\n",
       "      <td>85.0</td>\n",
       "      <td>288081.0</td>\n",
       "      <td>...</td>\n",
       "      <td>90.0</td>\n",
       "      <td>548767.0</td>\n",
       "      <td>46155.0</td>\n",
       "      <td>84.0</td>\n",
       "      <td>49880.0</td>\n",
       "      <td>6114.0</td>\n",
       "      <td>123.0</td>\n",
       "      <td>310354.0</td>\n",
       "      <td>13953.0</td>\n",
       "      <td>45.0</td>\n",
       "    </tr>\n",
       "    <tr>\n",
       "      <th>35 to 50 years</th>\n",
       "      <td>517551.0</td>\n",
       "      <td>11676.0</td>\n",
       "      <td>23.0</td>\n",
       "      <td>73735.0</td>\n",
       "      <td>1653.0</td>\n",
       "      <td>22.0</td>\n",
       "      <td>703539.0</td>\n",
       "      <td>21263.0</td>\n",
       "      <td>30.0</td>\n",
       "      <td>302659.0</td>\n",
       "      <td>...</td>\n",
       "      <td>21.0</td>\n",
       "      <td>569388.0</td>\n",
       "      <td>16536.0</td>\n",
       "      <td>29.0</td>\n",
       "      <td>58531.0</td>\n",
       "      <td>988.0</td>\n",
       "      <td>17.0</td>\n",
       "      <td>348179.0</td>\n",
       "      <td>4091.0</td>\n",
       "      <td>12.0</td>\n",
       "    </tr>\n",
       "  </tbody>\n",
       "</table>\n",
       "<p>3 rows × 157 columns</p>\n",
       "</div>"
      ],
      "text/plain": [
       "                    Alabama_total  Alabama_births  Alabama_thou  Alaska_total  \\\n",
       "Label (Grouping)                                                                \n",
       "    15 to 19 years       170097.0          1408.0           8.0       22382.0   \n",
       "    20 to 34 years       483785.0         42509.0          88.0       72194.0   \n",
       "    35 to 50 years       517551.0         11676.0          23.0       73735.0   \n",
       "\n",
       "                    Alaska_births  Alaska_thou  Arizona_total  Arizona_births  \\\n",
       "Label (Grouping)                                                                \n",
       "    15 to 19 years          132.0          6.0       235694.0          1363.0   \n",
       "    20 to 34 years         6892.0         95.0       720415.0         60973.0   \n",
       "    35 to 50 years         1653.0         22.0       703539.0         21263.0   \n",
       "\n",
       "                    Arizona_thou  Arkansas_total  ...  West Virginia_thou  \\\n",
       "Label (Grouping)                                  ...                       \n",
       "    15 to 19 years           6.0         99501.0  ...                10.0   \n",
       "    20 to 34 years          85.0        288081.0  ...                90.0   \n",
       "    35 to 50 years          30.0        302659.0  ...                21.0   \n",
       "\n",
       "                    Wisconsin_total  Wisconsin_births  Wisconsin_thou  \\\n",
       "Label (Grouping)                                                        \n",
       "    15 to 19 years         189422.0            1130.0             6.0   \n",
       "    20 to 34 years         548767.0           46155.0            84.0   \n",
       "    35 to 50 years         569388.0           16536.0            29.0   \n",
       "\n",
       "                    Wyoming_total  Wyoming_births  Wyoming_thou  \\\n",
       "Label (Grouping)                                                  \n",
       "    15 to 19 years        19793.0            83.0           4.0   \n",
       "    20 to 34 years        49880.0          6114.0         123.0   \n",
       "    35 to 50 years        58531.0           988.0          17.0   \n",
       "\n",
       "                    Puerto Rico_total  Puerto Rico_births  Puerto Rico_thou  \n",
       "Label (Grouping)                                                             \n",
       "    15 to 19 years            98793.0              1172.0              12.0  \n",
       "    20 to 34 years           310354.0             13953.0              45.0  \n",
       "    35 to 50 years           348179.0              4091.0              12.0  \n",
       "\n",
       "[3 rows x 157 columns]"
      ]
     },
     "execution_count": 335,
     "metadata": {},
     "output_type": "execute_result"
    }
   ],
   "source": [
    "fem_age_21 = fert_data.iloc[[13,14, 15]]\n",
    "fem_age_21.head()"
   ]
  },
  {
   "cell_type": "code",
   "execution_count": 336,
   "metadata": {},
   "outputs": [
    {
     "data": {
      "text/html": [
       "<div>\n",
       "<style scoped>\n",
       "    .dataframe tbody tr th:only-of-type {\n",
       "        vertical-align: middle;\n",
       "    }\n",
       "\n",
       "    .dataframe tbody tr th {\n",
       "        vertical-align: top;\n",
       "    }\n",
       "\n",
       "    .dataframe thead th {\n",
       "        text-align: right;\n",
       "    }\n",
       "</style>\n",
       "<table border=\"1\" class=\"dataframe\">\n",
       "  <thead>\n",
       "    <tr style=\"text-align: right;\">\n",
       "      <th></th>\n",
       "      <th>Alabama_total</th>\n",
       "      <th>Alabama_births</th>\n",
       "      <th>Alabama_thou</th>\n",
       "      <th>Alaska_total</th>\n",
       "      <th>Alaska_births</th>\n",
       "      <th>Alaska_thou</th>\n",
       "      <th>Arizona_total</th>\n",
       "      <th>Arizona_births</th>\n",
       "      <th>Arizona_thou</th>\n",
       "      <th>Arkansas_total</th>\n",
       "      <th>...</th>\n",
       "      <th>West Virginia_thou</th>\n",
       "      <th>Wisconsin_total</th>\n",
       "      <th>Wisconsin_births</th>\n",
       "      <th>Wisconsin_thou</th>\n",
       "      <th>Wyoming_total</th>\n",
       "      <th>Wyoming_births</th>\n",
       "      <th>Wyoming_thou</th>\n",
       "      <th>Puerto Rico_total</th>\n",
       "      <th>Puerto Rico_births</th>\n",
       "      <th>Puerto Rico_thou</th>\n",
       "    </tr>\n",
       "    <tr>\n",
       "      <th>Label (Grouping)</th>\n",
       "      <th></th>\n",
       "      <th></th>\n",
       "      <th></th>\n",
       "      <th></th>\n",
       "      <th></th>\n",
       "      <th></th>\n",
       "      <th></th>\n",
       "      <th></th>\n",
       "      <th></th>\n",
       "      <th></th>\n",
       "      <th></th>\n",
       "      <th></th>\n",
       "      <th></th>\n",
       "      <th></th>\n",
       "      <th></th>\n",
       "      <th></th>\n",
       "      <th></th>\n",
       "      <th></th>\n",
       "      <th></th>\n",
       "      <th></th>\n",
       "      <th></th>\n",
       "    </tr>\n",
       "  </thead>\n",
       "  <tbody>\n",
       "    <tr>\n",
       "      <th>15 to 19 years</th>\n",
       "      <td>161722.0</td>\n",
       "      <td>2369.0</td>\n",
       "      <td>15.0</td>\n",
       "      <td>20665.0</td>\n",
       "      <td>109.0</td>\n",
       "      <td>5.0</td>\n",
       "      <td>235308.0</td>\n",
       "      <td>3601.0</td>\n",
       "      <td>15.0</td>\n",
       "      <td>100455.0</td>\n",
       "      <td>...</td>\n",
       "      <td>12.0</td>\n",
       "      <td>184797.0</td>\n",
       "      <td>1370.0</td>\n",
       "      <td>7.0</td>\n",
       "      <td>18591.0</td>\n",
       "      <td>586.0</td>\n",
       "      <td>32.0</td>\n",
       "      <td>102312.0</td>\n",
       "      <td>1090.0</td>\n",
       "      <td>11.0</td>\n",
       "    </tr>\n",
       "    <tr>\n",
       "      <th>20 to 34 years</th>\n",
       "      <td>480248.0</td>\n",
       "      <td>47019.0</td>\n",
       "      <td>98.0</td>\n",
       "      <td>75888.0</td>\n",
       "      <td>7221.0</td>\n",
       "      <td>95.0</td>\n",
       "      <td>718095.0</td>\n",
       "      <td>67710.0</td>\n",
       "      <td>94.0</td>\n",
       "      <td>292150.0</td>\n",
       "      <td>...</td>\n",
       "      <td>111.0</td>\n",
       "      <td>547989.0</td>\n",
       "      <td>52695.0</td>\n",
       "      <td>96.0</td>\n",
       "      <td>53299.0</td>\n",
       "      <td>4537.0</td>\n",
       "      <td>85.0</td>\n",
       "      <td>306411.0</td>\n",
       "      <td>14323.0</td>\n",
       "      <td>47.0</td>\n",
       "    </tr>\n",
       "    <tr>\n",
       "      <th>35 to 50 years</th>\n",
       "      <td>500550.0</td>\n",
       "      <td>9154.0</td>\n",
       "      <td>18.0</td>\n",
       "      <td>70759.0</td>\n",
       "      <td>3172.0</td>\n",
       "      <td>45.0</td>\n",
       "      <td>708780.0</td>\n",
       "      <td>17708.0</td>\n",
       "      <td>25.0</td>\n",
       "      <td>301998.0</td>\n",
       "      <td>...</td>\n",
       "      <td>20.0</td>\n",
       "      <td>566065.0</td>\n",
       "      <td>14610.0</td>\n",
       "      <td>26.0</td>\n",
       "      <td>54238.0</td>\n",
       "      <td>1782.0</td>\n",
       "      <td>33.0</td>\n",
       "      <td>334991.0</td>\n",
       "      <td>5573.0</td>\n",
       "      <td>17.0</td>\n",
       "    </tr>\n",
       "  </tbody>\n",
       "</table>\n",
       "<p>3 rows × 157 columns</p>\n",
       "</div>"
      ],
      "text/plain": [
       "                    Alabama_total  Alabama_births  Alabama_thou  Alaska_total  \\\n",
       "Label (Grouping)                                                                \n",
       "    15 to 19 years       161722.0          2369.0          15.0       20665.0   \n",
       "    20 to 34 years       480248.0         47019.0          98.0       75888.0   \n",
       "    35 to 50 years       500550.0          9154.0          18.0       70759.0   \n",
       "\n",
       "                    Alaska_births  Alaska_thou  Arizona_total  Arizona_births  \\\n",
       "Label (Grouping)                                                                \n",
       "    15 to 19 years          109.0          5.0       235308.0          3601.0   \n",
       "    20 to 34 years         7221.0         95.0       718095.0         67710.0   \n",
       "    35 to 50 years         3172.0         45.0       708780.0         17708.0   \n",
       "\n",
       "                    Arizona_thou  Arkansas_total  ...  West Virginia_thou  \\\n",
       "Label (Grouping)                                  ...                       \n",
       "    15 to 19 years          15.0        100455.0  ...                12.0   \n",
       "    20 to 34 years          94.0        292150.0  ...               111.0   \n",
       "    35 to 50 years          25.0        301998.0  ...                20.0   \n",
       "\n",
       "                    Wisconsin_total  Wisconsin_births  Wisconsin_thou  \\\n",
       "Label (Grouping)                                                        \n",
       "    15 to 19 years         184797.0            1370.0             7.0   \n",
       "    20 to 34 years         547989.0           52695.0            96.0   \n",
       "    35 to 50 years         566065.0           14610.0            26.0   \n",
       "\n",
       "                    Wyoming_total  Wyoming_births  Wyoming_thou  \\\n",
       "Label (Grouping)                                                  \n",
       "    15 to 19 years        18591.0           586.0          32.0   \n",
       "    20 to 34 years        53299.0          4537.0          85.0   \n",
       "    35 to 50 years        54238.0          1782.0          33.0   \n",
       "\n",
       "                    Puerto Rico_total  Puerto Rico_births  Puerto Rico_thou  \n",
       "Label (Grouping)                                                             \n",
       "    15 to 19 years           102312.0              1090.0              11.0  \n",
       "    20 to 34 years           306411.0             14323.0              47.0  \n",
       "    35 to 50 years           334991.0              5573.0              17.0  \n",
       "\n",
       "[3 rows x 157 columns]"
      ]
     },
     "execution_count": 336,
     "metadata": {},
     "output_type": "execute_result"
    }
   ],
   "source": [
    "fem_age_19 = fert_data.iloc[[24, 25, 26]]\n",
    "fem_age_19.head()"
   ]
  },
  {
   "cell_type": "code",
   "execution_count": 337,
   "metadata": {},
   "outputs": [
    {
     "data": {
      "text/html": [
       "<div>\n",
       "<style scoped>\n",
       "    .dataframe tbody tr th:only-of-type {\n",
       "        vertical-align: middle;\n",
       "    }\n",
       "\n",
       "    .dataframe tbody tr th {\n",
       "        vertical-align: top;\n",
       "    }\n",
       "\n",
       "    .dataframe thead th {\n",
       "        text-align: right;\n",
       "    }\n",
       "</style>\n",
       "<table border=\"1\" class=\"dataframe\">\n",
       "  <thead>\n",
       "    <tr style=\"text-align: right;\">\n",
       "      <th></th>\n",
       "      <th>Alabama_total</th>\n",
       "      <th>Alabama_births</th>\n",
       "      <th>Alabama_thou</th>\n",
       "      <th>Alaska_total</th>\n",
       "      <th>Alaska_births</th>\n",
       "      <th>Alaska_thou</th>\n",
       "      <th>Arizona_total</th>\n",
       "      <th>Arizona_births</th>\n",
       "      <th>Arizona_thou</th>\n",
       "      <th>Arkansas_total</th>\n",
       "      <th>...</th>\n",
       "      <th>West Virginia_thou</th>\n",
       "      <th>Wisconsin_total</th>\n",
       "      <th>Wisconsin_births</th>\n",
       "      <th>Wisconsin_thou</th>\n",
       "      <th>Wyoming_total</th>\n",
       "      <th>Wyoming_births</th>\n",
       "      <th>Wyoming_thou</th>\n",
       "      <th>Puerto Rico_total</th>\n",
       "      <th>Puerto Rico_births</th>\n",
       "      <th>Puerto Rico_thou</th>\n",
       "    </tr>\n",
       "    <tr>\n",
       "      <th>Label (Grouping)</th>\n",
       "      <th></th>\n",
       "      <th></th>\n",
       "      <th></th>\n",
       "      <th></th>\n",
       "      <th></th>\n",
       "      <th></th>\n",
       "      <th></th>\n",
       "      <th></th>\n",
       "      <th></th>\n",
       "      <th></th>\n",
       "      <th></th>\n",
       "      <th></th>\n",
       "      <th></th>\n",
       "      <th></th>\n",
       "      <th></th>\n",
       "      <th></th>\n",
       "      <th></th>\n",
       "      <th></th>\n",
       "      <th></th>\n",
       "      <th></th>\n",
       "      <th></th>\n",
       "    </tr>\n",
       "  </thead>\n",
       "  <tbody>\n",
       "    <tr>\n",
       "      <th>15 to 19 years</th>\n",
       "      <td>161910.0</td>\n",
       "      <td>2636.0</td>\n",
       "      <td>16.0</td>\n",
       "      <td>23716.0</td>\n",
       "      <td>604.0</td>\n",
       "      <td>25.0</td>\n",
       "      <td>234719.0</td>\n",
       "      <td>4119.0</td>\n",
       "      <td>18.0</td>\n",
       "      <td>103480.0</td>\n",
       "      <td>...</td>\n",
       "      <td>23.0</td>\n",
       "      <td>186776.0</td>\n",
       "      <td>1750.0</td>\n",
       "      <td>9.0</td>\n",
       "      <td>19736.0</td>\n",
       "      <td>386.0</td>\n",
       "      <td>20.0</td>\n",
       "      <td>102317.0</td>\n",
       "      <td>2097.0</td>\n",
       "      <td>20.0</td>\n",
       "    </tr>\n",
       "    <tr>\n",
       "      <th>20 to 34 years</th>\n",
       "      <td>481003.0</td>\n",
       "      <td>52593.0</td>\n",
       "      <td>109.0</td>\n",
       "      <td>76103.0</td>\n",
       "      <td>7308.0</td>\n",
       "      <td>96.0</td>\n",
       "      <td>706193.0</td>\n",
       "      <td>65389.0</td>\n",
       "      <td>93.0</td>\n",
       "      <td>293131.0</td>\n",
       "      <td>...</td>\n",
       "      <td>91.0</td>\n",
       "      <td>552020.0</td>\n",
       "      <td>51246.0</td>\n",
       "      <td>93.0</td>\n",
       "      <td>52846.0</td>\n",
       "      <td>6678.0</td>\n",
       "      <td>126.0</td>\n",
       "      <td>305223.0</td>\n",
       "      <td>15886.0</td>\n",
       "      <td>52.0</td>\n",
       "    </tr>\n",
       "    <tr>\n",
       "      <th>35 to 50 years</th>\n",
       "      <td>500606.0</td>\n",
       "      <td>10841.0</td>\n",
       "      <td>22.0</td>\n",
       "      <td>72171.0</td>\n",
       "      <td>2835.0</td>\n",
       "      <td>39.0</td>\n",
       "      <td>699314.0</td>\n",
       "      <td>23272.0</td>\n",
       "      <td>33.0</td>\n",
       "      <td>298024.0</td>\n",
       "      <td>...</td>\n",
       "      <td>18.0</td>\n",
       "      <td>560701.0</td>\n",
       "      <td>15747.0</td>\n",
       "      <td>28.0</td>\n",
       "      <td>55272.0</td>\n",
       "      <td>1233.0</td>\n",
       "      <td>22.0</td>\n",
       "      <td>337683.0</td>\n",
       "      <td>3124.0</td>\n",
       "      <td>9.0</td>\n",
       "    </tr>\n",
       "  </tbody>\n",
       "</table>\n",
       "<p>3 rows × 157 columns</p>\n",
       "</div>"
      ],
      "text/plain": [
       "                    Alabama_total  Alabama_births  Alabama_thou  Alaska_total  \\\n",
       "Label (Grouping)                                                                \n",
       "    15 to 19 years       161910.0          2636.0          16.0       23716.0   \n",
       "    20 to 34 years       481003.0         52593.0         109.0       76103.0   \n",
       "    35 to 50 years       500606.0         10841.0          22.0       72171.0   \n",
       "\n",
       "                    Alaska_births  Alaska_thou  Arizona_total  Arizona_births  \\\n",
       "Label (Grouping)                                                                \n",
       "    15 to 19 years          604.0         25.0       234719.0          4119.0   \n",
       "    20 to 34 years         7308.0         96.0       706193.0         65389.0   \n",
       "    35 to 50 years         2835.0         39.0       699314.0         23272.0   \n",
       "\n",
       "                    Arizona_thou  Arkansas_total  ...  West Virginia_thou  \\\n",
       "Label (Grouping)                                  ...                       \n",
       "    15 to 19 years          18.0        103480.0  ...                23.0   \n",
       "    20 to 34 years          93.0        293131.0  ...                91.0   \n",
       "    35 to 50 years          33.0        298024.0  ...                18.0   \n",
       "\n",
       "                    Wisconsin_total  Wisconsin_births  Wisconsin_thou  \\\n",
       "Label (Grouping)                                                        \n",
       "    15 to 19 years         186776.0            1750.0             9.0   \n",
       "    20 to 34 years         552020.0           51246.0            93.0   \n",
       "    35 to 50 years         560701.0           15747.0            28.0   \n",
       "\n",
       "                    Wyoming_total  Wyoming_births  Wyoming_thou  \\\n",
       "Label (Grouping)                                                  \n",
       "    15 to 19 years        19736.0           386.0          20.0   \n",
       "    20 to 34 years        52846.0          6678.0         126.0   \n",
       "    35 to 50 years        55272.0          1233.0          22.0   \n",
       "\n",
       "                    Puerto Rico_total  Puerto Rico_births  Puerto Rico_thou  \n",
       "Label (Grouping)                                                             \n",
       "    15 to 19 years           102317.0              2097.0              20.0  \n",
       "    20 to 34 years           305223.0             15886.0              52.0  \n",
       "    35 to 50 years           337683.0              3124.0               9.0  \n",
       "\n",
       "[3 rows x 157 columns]"
      ]
     },
     "execution_count": 337,
     "metadata": {},
     "output_type": "execute_result"
    }
   ],
   "source": [
    "fem_age_18 = fert_data.iloc[[35,36,37]]\n",
    "fem_age_18.head()"
   ]
  },
  {
   "cell_type": "code",
   "execution_count": 338,
   "metadata": {},
   "outputs": [
    {
     "data": {
      "text/html": [
       "<div>\n",
       "<style scoped>\n",
       "    .dataframe tbody tr th:only-of-type {\n",
       "        vertical-align: middle;\n",
       "    }\n",
       "\n",
       "    .dataframe tbody tr th {\n",
       "        vertical-align: top;\n",
       "    }\n",
       "\n",
       "    .dataframe thead th {\n",
       "        text-align: right;\n",
       "    }\n",
       "</style>\n",
       "<table border=\"1\" class=\"dataframe\">\n",
       "  <thead>\n",
       "    <tr style=\"text-align: right;\">\n",
       "      <th></th>\n",
       "      <th>Alabama_total</th>\n",
       "      <th>Alabama_births</th>\n",
       "      <th>Alabama_thou</th>\n",
       "      <th>Alaska_total</th>\n",
       "      <th>Alaska_births</th>\n",
       "      <th>Alaska_thou</th>\n",
       "      <th>Arizona_total</th>\n",
       "      <th>Arizona_births</th>\n",
       "      <th>Arizona_thou</th>\n",
       "      <th>Arkansas_total</th>\n",
       "      <th>...</th>\n",
       "      <th>West Virginia_thou</th>\n",
       "      <th>Wisconsin_total</th>\n",
       "      <th>Wisconsin_births</th>\n",
       "      <th>Wisconsin_thou</th>\n",
       "      <th>Wyoming_total</th>\n",
       "      <th>Wyoming_births</th>\n",
       "      <th>Wyoming_thou</th>\n",
       "      <th>Puerto Rico_total</th>\n",
       "      <th>Puerto Rico_births</th>\n",
       "      <th>Puerto Rico_thou</th>\n",
       "    </tr>\n",
       "    <tr>\n",
       "      <th>Label (Grouping)</th>\n",
       "      <th></th>\n",
       "      <th></th>\n",
       "      <th></th>\n",
       "      <th></th>\n",
       "      <th></th>\n",
       "      <th></th>\n",
       "      <th></th>\n",
       "      <th></th>\n",
       "      <th></th>\n",
       "      <th></th>\n",
       "      <th></th>\n",
       "      <th></th>\n",
       "      <th></th>\n",
       "      <th></th>\n",
       "      <th></th>\n",
       "      <th></th>\n",
       "      <th></th>\n",
       "      <th></th>\n",
       "      <th></th>\n",
       "      <th></th>\n",
       "      <th></th>\n",
       "    </tr>\n",
       "  </thead>\n",
       "  <tbody>\n",
       "    <tr>\n",
       "      <th>15 to 19 years</th>\n",
       "      <td>168330.0</td>\n",
       "      <td>2181.0</td>\n",
       "      <td>13.0</td>\n",
       "      <td>21654.0</td>\n",
       "      <td>241.0</td>\n",
       "      <td>11.0</td>\n",
       "      <td>233978.0</td>\n",
       "      <td>3505.0</td>\n",
       "      <td>15.0</td>\n",
       "      <td>101114.0</td>\n",
       "      <td>...</td>\n",
       "      <td>18.0</td>\n",
       "      <td>187706.0</td>\n",
       "      <td>1562.0</td>\n",
       "      <td>8.0</td>\n",
       "      <td>18127.0</td>\n",
       "      <td>621.0</td>\n",
       "      <td>34.0</td>\n",
       "      <td>111821.0</td>\n",
       "      <td>1870.0</td>\n",
       "      <td>17.0</td>\n",
       "    </tr>\n",
       "    <tr>\n",
       "      <th>20 to 34 years</th>\n",
       "      <td>482918.0</td>\n",
       "      <td>46216.0</td>\n",
       "      <td>96.0</td>\n",
       "      <td>78570.0</td>\n",
       "      <td>6947.0</td>\n",
       "      <td>88.0</td>\n",
       "      <td>685767.0</td>\n",
       "      <td>64963.0</td>\n",
       "      <td>95.0</td>\n",
       "      <td>285646.0</td>\n",
       "      <td>...</td>\n",
       "      <td>92.0</td>\n",
       "      <td>552470.0</td>\n",
       "      <td>50676.0</td>\n",
       "      <td>92.0</td>\n",
       "      <td>55582.0</td>\n",
       "      <td>5124.0</td>\n",
       "      <td>92.0</td>\n",
       "      <td>320657.0</td>\n",
       "      <td>15784.0</td>\n",
       "      <td>49.0</td>\n",
       "    </tr>\n",
       "    <tr>\n",
       "      <th>35 to 50 years</th>\n",
       "      <td>494740.0</td>\n",
       "      <td>10631.0</td>\n",
       "      <td>21.0</td>\n",
       "      <td>71227.0</td>\n",
       "      <td>2773.0</td>\n",
       "      <td>39.0</td>\n",
       "      <td>684272.0</td>\n",
       "      <td>20253.0</td>\n",
       "      <td>30.0</td>\n",
       "      <td>300200.0</td>\n",
       "      <td>...</td>\n",
       "      <td>19.0</td>\n",
       "      <td>562767.0</td>\n",
       "      <td>15045.0</td>\n",
       "      <td>27.0</td>\n",
       "      <td>51644.0</td>\n",
       "      <td>1257.0</td>\n",
       "      <td>24.0</td>\n",
       "      <td>361617.0</td>\n",
       "      <td>4506.0</td>\n",
       "      <td>12.0</td>\n",
       "    </tr>\n",
       "  </tbody>\n",
       "</table>\n",
       "<p>3 rows × 157 columns</p>\n",
       "</div>"
      ],
      "text/plain": [
       "                  Alabama_total  Alabama_births  Alabama_thou  Alaska_total  \\\n",
       "Label (Grouping)                                                              \n",
       "15 to 19 years         168330.0          2181.0          13.0       21654.0   \n",
       "20 to 34 years         482918.0         46216.0          96.0       78570.0   \n",
       "35 to 50 years         494740.0         10631.0          21.0       71227.0   \n",
       "\n",
       "                  Alaska_births  Alaska_thou  Arizona_total  Arizona_births  \\\n",
       "Label (Grouping)                                                              \n",
       "15 to 19 years            241.0         11.0       233978.0          3505.0   \n",
       "20 to 34 years           6947.0         88.0       685767.0         64963.0   \n",
       "35 to 50 years           2773.0         39.0       684272.0         20253.0   \n",
       "\n",
       "                  Arizona_thou  Arkansas_total  ...  West Virginia_thou  \\\n",
       "Label (Grouping)                                ...                       \n",
       "15 to 19 years            15.0        101114.0  ...                18.0   \n",
       "20 to 34 years            95.0        285646.0  ...                92.0   \n",
       "35 to 50 years            30.0        300200.0  ...                19.0   \n",
       "\n",
       "                  Wisconsin_total  Wisconsin_births  Wisconsin_thou  \\\n",
       "Label (Grouping)                                                      \n",
       "15 to 19 years           187706.0            1562.0             8.0   \n",
       "20 to 34 years           552470.0           50676.0            92.0   \n",
       "35 to 50 years           562767.0           15045.0            27.0   \n",
       "\n",
       "                  Wyoming_total  Wyoming_births  Wyoming_thou  \\\n",
       "Label (Grouping)                                                \n",
       "15 to 19 years          18127.0           621.0          34.0   \n",
       "20 to 34 years          55582.0          5124.0          92.0   \n",
       "35 to 50 years          51644.0          1257.0          24.0   \n",
       "\n",
       "                  Puerto Rico_total  Puerto Rico_births  Puerto Rico_thou  \n",
       "Label (Grouping)                                                           \n",
       "15 to 19 years             111821.0              1870.0              17.0  \n",
       "20 to 34 years             320657.0             15784.0              49.0  \n",
       "35 to 50 years             361617.0              4506.0              12.0  \n",
       "\n",
       "[3 rows x 157 columns]"
      ]
     },
     "execution_count": 338,
     "metadata": {},
     "output_type": "execute_result"
    }
   ],
   "source": [
    "fem_age_17 = fert_data.iloc[[46, 47, 48]]\n",
    "fem_age_17.head()"
   ]
  },
  {
   "cell_type": "code",
   "execution_count": 339,
   "metadata": {},
   "outputs": [
    {
     "data": {
      "text/html": [
       "<div>\n",
       "<style scoped>\n",
       "    .dataframe tbody tr th:only-of-type {\n",
       "        vertical-align: middle;\n",
       "    }\n",
       "\n",
       "    .dataframe tbody tr th {\n",
       "        vertical-align: top;\n",
       "    }\n",
       "\n",
       "    .dataframe thead th {\n",
       "        text-align: right;\n",
       "    }\n",
       "</style>\n",
       "<table border=\"1\" class=\"dataframe\">\n",
       "  <thead>\n",
       "    <tr style=\"text-align: right;\">\n",
       "      <th></th>\n",
       "      <th>Alabama_total</th>\n",
       "      <th>Alabama_births</th>\n",
       "      <th>Alabama_thou</th>\n",
       "      <th>Alaska_total</th>\n",
       "      <th>Alaska_births</th>\n",
       "      <th>Alaska_thou</th>\n",
       "      <th>Arizona_total</th>\n",
       "      <th>Arizona_births</th>\n",
       "      <th>Arizona_thou</th>\n",
       "      <th>Arkansas_total</th>\n",
       "      <th>...</th>\n",
       "      <th>West Virginia_thou</th>\n",
       "      <th>Wisconsin_total</th>\n",
       "      <th>Wisconsin_births</th>\n",
       "      <th>Wisconsin_thou</th>\n",
       "      <th>Wyoming_total</th>\n",
       "      <th>Wyoming_births</th>\n",
       "      <th>Wyoming_thou</th>\n",
       "      <th>Puerto Rico_total</th>\n",
       "      <th>Puerto Rico_births</th>\n",
       "      <th>Puerto Rico_thou</th>\n",
       "    </tr>\n",
       "    <tr>\n",
       "      <th>Label (Grouping)</th>\n",
       "      <th></th>\n",
       "      <th></th>\n",
       "      <th></th>\n",
       "      <th></th>\n",
       "      <th></th>\n",
       "      <th></th>\n",
       "      <th></th>\n",
       "      <th></th>\n",
       "      <th></th>\n",
       "      <th></th>\n",
       "      <th></th>\n",
       "      <th></th>\n",
       "      <th></th>\n",
       "      <th></th>\n",
       "      <th></th>\n",
       "      <th></th>\n",
       "      <th></th>\n",
       "      <th></th>\n",
       "      <th></th>\n",
       "      <th></th>\n",
       "      <th></th>\n",
       "    </tr>\n",
       "  </thead>\n",
       "  <tbody>\n",
       "    <tr>\n",
       "      <th>15 to 19 years</th>\n",
       "      <td>163021.0</td>\n",
       "      <td>3100.0</td>\n",
       "      <td>19.0</td>\n",
       "      <td>22097.0</td>\n",
       "      <td>279.0</td>\n",
       "      <td>13.0</td>\n",
       "      <td>231747.0</td>\n",
       "      <td>3476.0</td>\n",
       "      <td>15.0</td>\n",
       "      <td>106285.0</td>\n",
       "      <td>...</td>\n",
       "      <td>13.0</td>\n",
       "      <td>187002.0</td>\n",
       "      <td>1313.0</td>\n",
       "      <td>7.0</td>\n",
       "      <td>19001.0</td>\n",
       "      <td>311.0</td>\n",
       "      <td>16.0</td>\n",
       "      <td>114146.0</td>\n",
       "      <td>3195.0</td>\n",
       "      <td>28.0</td>\n",
       "    </tr>\n",
       "    <tr>\n",
       "      <th>20 to 34 years</th>\n",
       "      <td>481980.0</td>\n",
       "      <td>45480.0</td>\n",
       "      <td>94.0</td>\n",
       "      <td>82264.0</td>\n",
       "      <td>7712.0</td>\n",
       "      <td>94.0</td>\n",
       "      <td>678738.0</td>\n",
       "      <td>58967.0</td>\n",
       "      <td>87.0</td>\n",
       "      <td>286616.0</td>\n",
       "      <td>...</td>\n",
       "      <td>115.0</td>\n",
       "      <td>555087.0</td>\n",
       "      <td>57494.0</td>\n",
       "      <td>104.0</td>\n",
       "      <td>56479.0</td>\n",
       "      <td>6017.0</td>\n",
       "      <td>107.0</td>\n",
       "      <td>333374.0</td>\n",
       "      <td>19170.0</td>\n",
       "      <td>58.0</td>\n",
       "    </tr>\n",
       "    <tr>\n",
       "      <th>35 to 50 years</th>\n",
       "      <td>501915.0</td>\n",
       "      <td>8611.0</td>\n",
       "      <td>17.0</td>\n",
       "      <td>71586.0</td>\n",
       "      <td>1737.0</td>\n",
       "      <td>24.0</td>\n",
       "      <td>676641.0</td>\n",
       "      <td>18854.0</td>\n",
       "      <td>28.0</td>\n",
       "      <td>296185.0</td>\n",
       "      <td>...</td>\n",
       "      <td>12.0</td>\n",
       "      <td>561074.0</td>\n",
       "      <td>11499.0</td>\n",
       "      <td>20.0</td>\n",
       "      <td>53303.0</td>\n",
       "      <td>1058.0</td>\n",
       "      <td>20.0</td>\n",
       "      <td>370287.0</td>\n",
       "      <td>6191.0</td>\n",
       "      <td>17.0</td>\n",
       "    </tr>\n",
       "  </tbody>\n",
       "</table>\n",
       "<p>3 rows × 157 columns</p>\n",
       "</div>"
      ],
      "text/plain": [
       "                  Alabama_total  Alabama_births  Alabama_thou  Alaska_total  \\\n",
       "Label (Grouping)                                                              \n",
       "15 to 19 years         163021.0          3100.0          19.0       22097.0   \n",
       "20 to 34 years         481980.0         45480.0          94.0       82264.0   \n",
       "35 to 50 years         501915.0          8611.0          17.0       71586.0   \n",
       "\n",
       "                  Alaska_births  Alaska_thou  Arizona_total  Arizona_births  \\\n",
       "Label (Grouping)                                                              \n",
       "15 to 19 years            279.0         13.0       231747.0          3476.0   \n",
       "20 to 34 years           7712.0         94.0       678738.0         58967.0   \n",
       "35 to 50 years           1737.0         24.0       676641.0         18854.0   \n",
       "\n",
       "                  Arizona_thou  Arkansas_total  ...  West Virginia_thou  \\\n",
       "Label (Grouping)                                ...                       \n",
       "15 to 19 years            15.0        106285.0  ...                13.0   \n",
       "20 to 34 years            87.0        286616.0  ...               115.0   \n",
       "35 to 50 years            28.0        296185.0  ...                12.0   \n",
       "\n",
       "                  Wisconsin_total  Wisconsin_births  Wisconsin_thou  \\\n",
       "Label (Grouping)                                                      \n",
       "15 to 19 years           187002.0            1313.0             7.0   \n",
       "20 to 34 years           555087.0           57494.0           104.0   \n",
       "35 to 50 years           561074.0           11499.0            20.0   \n",
       "\n",
       "                  Wyoming_total  Wyoming_births  Wyoming_thou  \\\n",
       "Label (Grouping)                                                \n",
       "15 to 19 years          19001.0           311.0          16.0   \n",
       "20 to 34 years          56479.0          6017.0         107.0   \n",
       "35 to 50 years          53303.0          1058.0          20.0   \n",
       "\n",
       "                  Puerto Rico_total  Puerto Rico_births  Puerto Rico_thou  \n",
       "Label (Grouping)                                                           \n",
       "15 to 19 years             114146.0              3195.0              28.0  \n",
       "20 to 34 years             333374.0             19170.0              58.0  \n",
       "35 to 50 years             370287.0              6191.0              17.0  \n",
       "\n",
       "[3 rows x 157 columns]"
      ]
     },
     "execution_count": 339,
     "metadata": {},
     "output_type": "execute_result"
    }
   ],
   "source": [
    "fem_age_16 = fert_data.iloc[[57,58,59]]\n",
    "fem_age_16.head()"
   ]
  },
  {
   "cell_type": "code",
   "execution_count": 340,
   "metadata": {},
   "outputs": [
    {
     "data": {
      "text/html": [
       "<div>\n",
       "<style scoped>\n",
       "    .dataframe tbody tr th:only-of-type {\n",
       "        vertical-align: middle;\n",
       "    }\n",
       "\n",
       "    .dataframe tbody tr th {\n",
       "        vertical-align: top;\n",
       "    }\n",
       "\n",
       "    .dataframe thead th {\n",
       "        text-align: right;\n",
       "    }\n",
       "</style>\n",
       "<table border=\"1\" class=\"dataframe\">\n",
       "  <thead>\n",
       "    <tr style=\"text-align: right;\">\n",
       "      <th></th>\n",
       "      <th>Alabama_total</th>\n",
       "      <th>Alabama_births</th>\n",
       "      <th>Alabama_thou</th>\n",
       "      <th>Alaska_total</th>\n",
       "      <th>Alaska_births</th>\n",
       "      <th>Alaska_thou</th>\n",
       "      <th>Arizona_total</th>\n",
       "      <th>Arizona_births</th>\n",
       "      <th>Arizona_thou</th>\n",
       "      <th>Arkansas_total</th>\n",
       "      <th>...</th>\n",
       "      <th>West Virginia_thou</th>\n",
       "      <th>Wisconsin_total</th>\n",
       "      <th>Wisconsin_births</th>\n",
       "      <th>Wisconsin_thou</th>\n",
       "      <th>Wyoming_total</th>\n",
       "      <th>Wyoming_births</th>\n",
       "      <th>Wyoming_thou</th>\n",
       "      <th>Puerto Rico_total</th>\n",
       "      <th>Puerto Rico_births</th>\n",
       "      <th>Puerto Rico_thou</th>\n",
       "    </tr>\n",
       "    <tr>\n",
       "      <th>Label (Grouping)</th>\n",
       "      <th></th>\n",
       "      <th></th>\n",
       "      <th></th>\n",
       "      <th></th>\n",
       "      <th></th>\n",
       "      <th></th>\n",
       "      <th></th>\n",
       "      <th></th>\n",
       "      <th></th>\n",
       "      <th></th>\n",
       "      <th></th>\n",
       "      <th></th>\n",
       "      <th></th>\n",
       "      <th></th>\n",
       "      <th></th>\n",
       "      <th></th>\n",
       "      <th></th>\n",
       "      <th></th>\n",
       "      <th></th>\n",
       "      <th></th>\n",
       "      <th></th>\n",
       "    </tr>\n",
       "  </thead>\n",
       "  <tbody>\n",
       "    <tr>\n",
       "      <th>15 to 19 years</th>\n",
       "      <td>166258.0</td>\n",
       "      <td>2811.0</td>\n",
       "      <td>17.0</td>\n",
       "      <td>23568.0</td>\n",
       "      <td>526.0</td>\n",
       "      <td>22.0</td>\n",
       "      <td>227494.0</td>\n",
       "      <td>3806.0</td>\n",
       "      <td>17.0</td>\n",
       "      <td>94229.0</td>\n",
       "      <td>...</td>\n",
       "      <td>26.0</td>\n",
       "      <td>184065.0</td>\n",
       "      <td>1926.0</td>\n",
       "      <td>10.0</td>\n",
       "      <td>20787.0</td>\n",
       "      <td>623.0</td>\n",
       "      <td>30.0</td>\n",
       "      <td>121941.0</td>\n",
       "      <td>2752.0</td>\n",
       "      <td>23.0</td>\n",
       "    </tr>\n",
       "    <tr>\n",
       "      <th>20 to 34 years</th>\n",
       "      <td>483984.0</td>\n",
       "      <td>47797.0</td>\n",
       "      <td>99.0</td>\n",
       "      <td>80588.0</td>\n",
       "      <td>8859.0</td>\n",
       "      <td>110.0</td>\n",
       "      <td>675070.0</td>\n",
       "      <td>64595.0</td>\n",
       "      <td>96.0</td>\n",
       "      <td>295494.0</td>\n",
       "      <td>...</td>\n",
       "      <td>91.0</td>\n",
       "      <td>556923.0</td>\n",
       "      <td>51991.0</td>\n",
       "      <td>93.0</td>\n",
       "      <td>58479.0</td>\n",
       "      <td>6101.0</td>\n",
       "      <td>104.0</td>\n",
       "      <td>340903.0</td>\n",
       "      <td>22237.0</td>\n",
       "      <td>65.0</td>\n",
       "    </tr>\n",
       "    <tr>\n",
       "      <th>35 to 50 years</th>\n",
       "      <td>508055.0</td>\n",
       "      <td>8766.0</td>\n",
       "      <td>17.0</td>\n",
       "      <td>69404.0</td>\n",
       "      <td>1759.0</td>\n",
       "      <td>25.0</td>\n",
       "      <td>672789.0</td>\n",
       "      <td>17397.0</td>\n",
       "      <td>26.0</td>\n",
       "      <td>296925.0</td>\n",
       "      <td>...</td>\n",
       "      <td>17.0</td>\n",
       "      <td>569618.0</td>\n",
       "      <td>12010.0</td>\n",
       "      <td>21.0</td>\n",
       "      <td>54460.0</td>\n",
       "      <td>1003.0</td>\n",
       "      <td>18.0</td>\n",
       "      <td>378262.0</td>\n",
       "      <td>3939.0</td>\n",
       "      <td>10.0</td>\n",
       "    </tr>\n",
       "  </tbody>\n",
       "</table>\n",
       "<p>3 rows × 157 columns</p>\n",
       "</div>"
      ],
      "text/plain": [
       "                  Alabama_total  Alabama_births  Alabama_thou  Alaska_total  \\\n",
       "Label (Grouping)                                                              \n",
       "15 to 19 years         166258.0          2811.0          17.0       23568.0   \n",
       "20 to 34 years         483984.0         47797.0          99.0       80588.0   \n",
       "35 to 50 years         508055.0          8766.0          17.0       69404.0   \n",
       "\n",
       "                  Alaska_births  Alaska_thou  Arizona_total  Arizona_births  \\\n",
       "Label (Grouping)                                                              \n",
       "15 to 19 years            526.0         22.0       227494.0          3806.0   \n",
       "20 to 34 years           8859.0        110.0       675070.0         64595.0   \n",
       "35 to 50 years           1759.0         25.0       672789.0         17397.0   \n",
       "\n",
       "                  Arizona_thou  Arkansas_total  ...  West Virginia_thou  \\\n",
       "Label (Grouping)                                ...                       \n",
       "15 to 19 years            17.0         94229.0  ...                26.0   \n",
       "20 to 34 years            96.0        295494.0  ...                91.0   \n",
       "35 to 50 years            26.0        296925.0  ...                17.0   \n",
       "\n",
       "                  Wisconsin_total  Wisconsin_births  Wisconsin_thou  \\\n",
       "Label (Grouping)                                                      \n",
       "15 to 19 years           184065.0            1926.0            10.0   \n",
       "20 to 34 years           556923.0           51991.0            93.0   \n",
       "35 to 50 years           569618.0           12010.0            21.0   \n",
       "\n",
       "                  Wyoming_total  Wyoming_births  Wyoming_thou  \\\n",
       "Label (Grouping)                                                \n",
       "15 to 19 years          20787.0           623.0          30.0   \n",
       "20 to 34 years          58479.0          6101.0         104.0   \n",
       "35 to 50 years          54460.0          1003.0          18.0   \n",
       "\n",
       "                  Puerto Rico_total  Puerto Rico_births  Puerto Rico_thou  \n",
       "Label (Grouping)                                                           \n",
       "15 to 19 years             121941.0              2752.0              23.0  \n",
       "20 to 34 years             340903.0             22237.0              65.0  \n",
       "35 to 50 years             378262.0              3939.0              10.0  \n",
       "\n",
       "[3 rows x 157 columns]"
      ]
     },
     "execution_count": 340,
     "metadata": {},
     "output_type": "execute_result"
    }
   ],
   "source": [
    "fem_age_15 = fert_data.iloc[[68,69,70]]\n",
    "fem_age_15.head()"
   ]
  },
  {
   "cell_type": "code",
   "execution_count": 341,
   "metadata": {},
   "outputs": [
    {
     "data": {
      "text/html": [
       "<div>\n",
       "<style scoped>\n",
       "    .dataframe tbody tr th:only-of-type {\n",
       "        vertical-align: middle;\n",
       "    }\n",
       "\n",
       "    .dataframe tbody tr th {\n",
       "        vertical-align: top;\n",
       "    }\n",
       "\n",
       "    .dataframe thead th {\n",
       "        text-align: right;\n",
       "    }\n",
       "</style>\n",
       "<table border=\"1\" class=\"dataframe\">\n",
       "  <thead>\n",
       "    <tr style=\"text-align: right;\">\n",
       "      <th></th>\n",
       "      <th>Alabama_total</th>\n",
       "      <th>Alabama_births</th>\n",
       "      <th>Alabama_thou</th>\n",
       "      <th>Alaska_total</th>\n",
       "      <th>Alaska_births</th>\n",
       "      <th>Alaska_thou</th>\n",
       "      <th>Arizona_total</th>\n",
       "      <th>Arizona_births</th>\n",
       "      <th>Arizona_thou</th>\n",
       "      <th>Arkansas_total</th>\n",
       "      <th>...</th>\n",
       "      <th>West Virginia_thou</th>\n",
       "      <th>Wisconsin_total</th>\n",
       "      <th>Wisconsin_births</th>\n",
       "      <th>Wisconsin_thou</th>\n",
       "      <th>Wyoming_total</th>\n",
       "      <th>Wyoming_births</th>\n",
       "      <th>Wyoming_thou</th>\n",
       "      <th>Puerto Rico_total</th>\n",
       "      <th>Puerto Rico_births</th>\n",
       "      <th>Puerto Rico_thou</th>\n",
       "    </tr>\n",
       "    <tr>\n",
       "      <th>Label (Grouping)</th>\n",
       "      <th></th>\n",
       "      <th></th>\n",
       "      <th></th>\n",
       "      <th></th>\n",
       "      <th></th>\n",
       "      <th></th>\n",
       "      <th></th>\n",
       "      <th></th>\n",
       "      <th></th>\n",
       "      <th></th>\n",
       "      <th></th>\n",
       "      <th></th>\n",
       "      <th></th>\n",
       "      <th></th>\n",
       "      <th></th>\n",
       "      <th></th>\n",
       "      <th></th>\n",
       "      <th></th>\n",
       "      <th></th>\n",
       "      <th></th>\n",
       "      <th></th>\n",
       "    </tr>\n",
       "  </thead>\n",
       "  <tbody>\n",
       "    <tr>\n",
       "      <th>15 to 19 years</th>\n",
       "      <td>163448.0</td>\n",
       "      <td>3273.0</td>\n",
       "      <td>20.0</td>\n",
       "      <td>24491.0</td>\n",
       "      <td>779.0</td>\n",
       "      <td>32.0</td>\n",
       "      <td>221498.0</td>\n",
       "      <td>2601.0</td>\n",
       "      <td>12.0</td>\n",
       "      <td>99250.0</td>\n",
       "      <td>...</td>\n",
       "      <td>21.0</td>\n",
       "      <td>187334.0</td>\n",
       "      <td>1695.0</td>\n",
       "      <td>9.0</td>\n",
       "      <td>17844.0</td>\n",
       "      <td>273.0</td>\n",
       "      <td>15.0</td>\n",
       "      <td>121990.0</td>\n",
       "      <td>3468.0</td>\n",
       "      <td>28.0</td>\n",
       "    </tr>\n",
       "    <tr>\n",
       "      <th>20 to 34 years</th>\n",
       "      <td>486349.0</td>\n",
       "      <td>47875.0</td>\n",
       "      <td>98.0</td>\n",
       "      <td>79325.0</td>\n",
       "      <td>9130.0</td>\n",
       "      <td>115.0</td>\n",
       "      <td>670787.0</td>\n",
       "      <td>64662.0</td>\n",
       "      <td>96.0</td>\n",
       "      <td>291691.0</td>\n",
       "      <td>...</td>\n",
       "      <td>90.0</td>\n",
       "      <td>557112.0</td>\n",
       "      <td>51664.0</td>\n",
       "      <td>93.0</td>\n",
       "      <td>59517.0</td>\n",
       "      <td>5959.0</td>\n",
       "      <td>100.0</td>\n",
       "      <td>353769.0</td>\n",
       "      <td>26081.0</td>\n",
       "      <td>74.0</td>\n",
       "    </tr>\n",
       "    <tr>\n",
       "      <th>35 to 50 years</th>\n",
       "      <td>506390.0</td>\n",
       "      <td>7742.0</td>\n",
       "      <td>15.0</td>\n",
       "      <td>71750.0</td>\n",
       "      <td>1794.0</td>\n",
       "      <td>25.0</td>\n",
       "      <td>665297.0</td>\n",
       "      <td>15511.0</td>\n",
       "      <td>23.0</td>\n",
       "      <td>303046.0</td>\n",
       "      <td>...</td>\n",
       "      <td>14.0</td>\n",
       "      <td>576869.0</td>\n",
       "      <td>13639.0</td>\n",
       "      <td>24.0</td>\n",
       "      <td>54979.0</td>\n",
       "      <td>1297.0</td>\n",
       "      <td>24.0</td>\n",
       "      <td>386479.0</td>\n",
       "      <td>6558.0</td>\n",
       "      <td>17.0</td>\n",
       "    </tr>\n",
       "  </tbody>\n",
       "</table>\n",
       "<p>3 rows × 157 columns</p>\n",
       "</div>"
      ],
      "text/plain": [
       "                  Alabama_total  Alabama_births  Alabama_thou  Alaska_total  \\\n",
       "Label (Grouping)                                                              \n",
       "15 to 19 years         163448.0          3273.0          20.0       24491.0   \n",
       "20 to 34 years         486349.0         47875.0          98.0       79325.0   \n",
       "35 to 50 years         506390.0          7742.0          15.0       71750.0   \n",
       "\n",
       "                  Alaska_births  Alaska_thou  Arizona_total  Arizona_births  \\\n",
       "Label (Grouping)                                                              \n",
       "15 to 19 years            779.0         32.0       221498.0          2601.0   \n",
       "20 to 34 years           9130.0        115.0       670787.0         64662.0   \n",
       "35 to 50 years           1794.0         25.0       665297.0         15511.0   \n",
       "\n",
       "                  Arizona_thou  Arkansas_total  ...  West Virginia_thou  \\\n",
       "Label (Grouping)                                ...                       \n",
       "15 to 19 years            12.0         99250.0  ...                21.0   \n",
       "20 to 34 years            96.0        291691.0  ...                90.0   \n",
       "35 to 50 years            23.0        303046.0  ...                14.0   \n",
       "\n",
       "                  Wisconsin_total  Wisconsin_births  Wisconsin_thou  \\\n",
       "Label (Grouping)                                                      \n",
       "15 to 19 years           187334.0            1695.0             9.0   \n",
       "20 to 34 years           557112.0           51664.0            93.0   \n",
       "35 to 50 years           576869.0           13639.0            24.0   \n",
       "\n",
       "                  Wyoming_total  Wyoming_births  Wyoming_thou  \\\n",
       "Label (Grouping)                                                \n",
       "15 to 19 years          17844.0           273.0          15.0   \n",
       "20 to 34 years          59517.0          5959.0         100.0   \n",
       "35 to 50 years          54979.0          1297.0          24.0   \n",
       "\n",
       "                  Puerto Rico_total  Puerto Rico_births  Puerto Rico_thou  \n",
       "Label (Grouping)                                                           \n",
       "15 to 19 years             121990.0              3468.0              28.0  \n",
       "20 to 34 years             353769.0             26081.0              74.0  \n",
       "35 to 50 years             386479.0              6558.0              17.0  \n",
       "\n",
       "[3 rows x 157 columns]"
      ]
     },
     "execution_count": 341,
     "metadata": {},
     "output_type": "execute_result"
    }
   ],
   "source": [
    "fem_age_14 = fert_data.iloc[[79,80,81]]\n",
    "fem_age_14.head()"
   ]
  },
  {
   "cell_type": "code",
   "execution_count": 342,
   "metadata": {},
   "outputs": [
    {
     "data": {
      "text/html": [
       "<div>\n",
       "<style scoped>\n",
       "    .dataframe tbody tr th:only-of-type {\n",
       "        vertical-align: middle;\n",
       "    }\n",
       "\n",
       "    .dataframe tbody tr th {\n",
       "        vertical-align: top;\n",
       "    }\n",
       "\n",
       "    .dataframe thead th {\n",
       "        text-align: right;\n",
       "    }\n",
       "</style>\n",
       "<table border=\"1\" class=\"dataframe\">\n",
       "  <thead>\n",
       "    <tr style=\"text-align: right;\">\n",
       "      <th></th>\n",
       "      <th>Alabama_total</th>\n",
       "      <th>Alabama_births</th>\n",
       "      <th>Alabama_thou</th>\n",
       "      <th>Alaska_total</th>\n",
       "      <th>Alaska_births</th>\n",
       "      <th>Alaska_thou</th>\n",
       "      <th>Arizona_total</th>\n",
       "      <th>Arizona_births</th>\n",
       "      <th>Arizona_thou</th>\n",
       "      <th>Arkansas_total</th>\n",
       "      <th>...</th>\n",
       "      <th>West Virginia_thou</th>\n",
       "      <th>Wisconsin_total</th>\n",
       "      <th>Wisconsin_births</th>\n",
       "      <th>Wisconsin_thou</th>\n",
       "      <th>Wyoming_total</th>\n",
       "      <th>Wyoming_births</th>\n",
       "      <th>Wyoming_thou</th>\n",
       "      <th>Puerto Rico_total</th>\n",
       "      <th>Puerto Rico_births</th>\n",
       "      <th>Puerto Rico_thou</th>\n",
       "    </tr>\n",
       "    <tr>\n",
       "      <th>Label (Grouping)</th>\n",
       "      <th></th>\n",
       "      <th></th>\n",
       "      <th></th>\n",
       "      <th></th>\n",
       "      <th></th>\n",
       "      <th></th>\n",
       "      <th></th>\n",
       "      <th></th>\n",
       "      <th></th>\n",
       "      <th></th>\n",
       "      <th></th>\n",
       "      <th></th>\n",
       "      <th></th>\n",
       "      <th></th>\n",
       "      <th></th>\n",
       "      <th></th>\n",
       "      <th></th>\n",
       "      <th></th>\n",
       "      <th></th>\n",
       "      <th></th>\n",
       "      <th></th>\n",
       "    </tr>\n",
       "  </thead>\n",
       "  <tbody>\n",
       "    <tr>\n",
       "      <th>15 to 19 years</th>\n",
       "      <td>165283.0</td>\n",
       "      <td>4361.0</td>\n",
       "      <td>26.0</td>\n",
       "      <td>23594.0</td>\n",
       "      <td>372.0</td>\n",
       "      <td>16.0</td>\n",
       "      <td>222019.0</td>\n",
       "      <td>3483.0</td>\n",
       "      <td>16.0</td>\n",
       "      <td>93659.0</td>\n",
       "      <td>...</td>\n",
       "      <td>19.0</td>\n",
       "      <td>188546.0</td>\n",
       "      <td>2003.0</td>\n",
       "      <td>11.0</td>\n",
       "      <td>17569.0</td>\n",
       "      <td>279.0</td>\n",
       "      <td>16.0</td>\n",
       "      <td>131178.0</td>\n",
       "      <td>4263.0</td>\n",
       "      <td>32.0</td>\n",
       "    </tr>\n",
       "    <tr>\n",
       "      <th>20 to 34 years</th>\n",
       "      <td>483599.0</td>\n",
       "      <td>46816.0</td>\n",
       "      <td>97.0</td>\n",
       "      <td>79751.0</td>\n",
       "      <td>7975.0</td>\n",
       "      <td>100.0</td>\n",
       "      <td>659097.0</td>\n",
       "      <td>65145.0</td>\n",
       "      <td>99.0</td>\n",
       "      <td>292280.0</td>\n",
       "      <td>...</td>\n",
       "      <td>83.0</td>\n",
       "      <td>553673.0</td>\n",
       "      <td>50299.0</td>\n",
       "      <td>91.0</td>\n",
       "      <td>60470.0</td>\n",
       "      <td>6441.0</td>\n",
       "      <td>107.0</td>\n",
       "      <td>362867.0</td>\n",
       "      <td>24825.0</td>\n",
       "      <td>68.0</td>\n",
       "    </tr>\n",
       "    <tr>\n",
       "      <th>35 to 50 years</th>\n",
       "      <td>514443.0</td>\n",
       "      <td>6876.0</td>\n",
       "      <td>13.0</td>\n",
       "      <td>71952.0</td>\n",
       "      <td>2064.0</td>\n",
       "      <td>29.0</td>\n",
       "      <td>660744.0</td>\n",
       "      <td>14383.0</td>\n",
       "      <td>22.0</td>\n",
       "      <td>300714.0</td>\n",
       "      <td>...</td>\n",
       "      <td>9.0</td>\n",
       "      <td>582942.0</td>\n",
       "      <td>11606.0</td>\n",
       "      <td>20.0</td>\n",
       "      <td>55047.0</td>\n",
       "      <td>459.0</td>\n",
       "      <td>8.0</td>\n",
       "      <td>397081.0</td>\n",
       "      <td>4429.0</td>\n",
       "      <td>11.0</td>\n",
       "    </tr>\n",
       "  </tbody>\n",
       "</table>\n",
       "<p>3 rows × 157 columns</p>\n",
       "</div>"
      ],
      "text/plain": [
       "                  Alabama_total  Alabama_births  Alabama_thou  Alaska_total  \\\n",
       "Label (Grouping)                                                              \n",
       "15 to 19 years         165283.0          4361.0          26.0       23594.0   \n",
       "20 to 34 years         483599.0         46816.0          97.0       79751.0   \n",
       "35 to 50 years         514443.0          6876.0          13.0       71952.0   \n",
       "\n",
       "                  Alaska_births  Alaska_thou  Arizona_total  Arizona_births  \\\n",
       "Label (Grouping)                                                              \n",
       "15 to 19 years            372.0         16.0       222019.0          3483.0   \n",
       "20 to 34 years           7975.0        100.0       659097.0         65145.0   \n",
       "35 to 50 years           2064.0         29.0       660744.0         14383.0   \n",
       "\n",
       "                  Arizona_thou  Arkansas_total  ...  West Virginia_thou  \\\n",
       "Label (Grouping)                                ...                       \n",
       "15 to 19 years            16.0         93659.0  ...                19.0   \n",
       "20 to 34 years            99.0        292280.0  ...                83.0   \n",
       "35 to 50 years            22.0        300714.0  ...                 9.0   \n",
       "\n",
       "                  Wisconsin_total  Wisconsin_births  Wisconsin_thou  \\\n",
       "Label (Grouping)                                                      \n",
       "15 to 19 years           188546.0            2003.0            11.0   \n",
       "20 to 34 years           553673.0           50299.0            91.0   \n",
       "35 to 50 years           582942.0           11606.0            20.0   \n",
       "\n",
       "                  Wyoming_total  Wyoming_births  Wyoming_thou  \\\n",
       "Label (Grouping)                                                \n",
       "15 to 19 years          17569.0           279.0          16.0   \n",
       "20 to 34 years          60470.0          6441.0         107.0   \n",
       "35 to 50 years          55047.0           459.0           8.0   \n",
       "\n",
       "                  Puerto Rico_total  Puerto Rico_births  Puerto Rico_thou  \n",
       "Label (Grouping)                                                           \n",
       "15 to 19 years             131178.0              4263.0              32.0  \n",
       "20 to 34 years             362867.0             24825.0              68.0  \n",
       "35 to 50 years             397081.0              4429.0              11.0  \n",
       "\n",
       "[3 rows x 157 columns]"
      ]
     },
     "execution_count": 342,
     "metadata": {},
     "output_type": "execute_result"
    }
   ],
   "source": [
    "fem_age_13 = fert_data.iloc[[90, 91, 92]]\n",
    "fem_age_13.head()"
   ]
  },
  {
   "cell_type": "code",
   "execution_count": 343,
   "metadata": {},
   "outputs": [
    {
     "data": {
      "text/html": [
       "<div>\n",
       "<style scoped>\n",
       "    .dataframe tbody tr th:only-of-type {\n",
       "        vertical-align: middle;\n",
       "    }\n",
       "\n",
       "    .dataframe tbody tr th {\n",
       "        vertical-align: top;\n",
       "    }\n",
       "\n",
       "    .dataframe thead th {\n",
       "        text-align: right;\n",
       "    }\n",
       "</style>\n",
       "<table border=\"1\" class=\"dataframe\">\n",
       "  <thead>\n",
       "    <tr style=\"text-align: right;\">\n",
       "      <th></th>\n",
       "      <th>Alabama_total</th>\n",
       "      <th>Alabama_births</th>\n",
       "      <th>Alabama_thou</th>\n",
       "      <th>Alaska_total</th>\n",
       "      <th>Alaska_births</th>\n",
       "      <th>Alaska_thou</th>\n",
       "      <th>Arizona_total</th>\n",
       "      <th>Arizona_births</th>\n",
       "      <th>Arizona_thou</th>\n",
       "      <th>Arkansas_total</th>\n",
       "      <th>...</th>\n",
       "      <th>West Virginia_thou</th>\n",
       "      <th>Wisconsin_total</th>\n",
       "      <th>Wisconsin_births</th>\n",
       "      <th>Wisconsin_thou</th>\n",
       "      <th>Wyoming_total</th>\n",
       "      <th>Wyoming_births</th>\n",
       "      <th>Wyoming_thou</th>\n",
       "      <th>Puerto Rico_total</th>\n",
       "      <th>Puerto Rico_births</th>\n",
       "      <th>Puerto Rico_thou</th>\n",
       "    </tr>\n",
       "    <tr>\n",
       "      <th>Label (Grouping)</th>\n",
       "      <th></th>\n",
       "      <th></th>\n",
       "      <th></th>\n",
       "      <th></th>\n",
       "      <th></th>\n",
       "      <th></th>\n",
       "      <th></th>\n",
       "      <th></th>\n",
       "      <th></th>\n",
       "      <th></th>\n",
       "      <th></th>\n",
       "      <th></th>\n",
       "      <th></th>\n",
       "      <th></th>\n",
       "      <th></th>\n",
       "      <th></th>\n",
       "      <th></th>\n",
       "      <th></th>\n",
       "      <th></th>\n",
       "      <th></th>\n",
       "      <th></th>\n",
       "    </tr>\n",
       "  </thead>\n",
       "  <tbody>\n",
       "    <tr>\n",
       "      <th>15 to 19 years</th>\n",
       "      <td>160449.0</td>\n",
       "      <td>4737.0</td>\n",
       "      <td>30.0</td>\n",
       "      <td>22135.0</td>\n",
       "      <td>423.0</td>\n",
       "      <td>19.0</td>\n",
       "      <td>217771.0</td>\n",
       "      <td>5287.0</td>\n",
       "      <td>24.0</td>\n",
       "      <td>96953.0</td>\n",
       "      <td>...</td>\n",
       "      <td>13.0</td>\n",
       "      <td>189983.0</td>\n",
       "      <td>2599.0</td>\n",
       "      <td>14.0</td>\n",
       "      <td>19863.0</td>\n",
       "      <td>372.0</td>\n",
       "      <td>19.0</td>\n",
       "      <td>135488.0</td>\n",
       "      <td>3773.0</td>\n",
       "      <td>28.0</td>\n",
       "    </tr>\n",
       "    <tr>\n",
       "      <th>20 to 34 years</th>\n",
       "      <td>486392.0</td>\n",
       "      <td>49327.0</td>\n",
       "      <td>101.0</td>\n",
       "      <td>79959.0</td>\n",
       "      <td>8083.0</td>\n",
       "      <td>101.0</td>\n",
       "      <td>651745.0</td>\n",
       "      <td>63402.0</td>\n",
       "      <td>97.0</td>\n",
       "      <td>292020.0</td>\n",
       "      <td>...</td>\n",
       "      <td>92.0</td>\n",
       "      <td>551997.0</td>\n",
       "      <td>54606.0</td>\n",
       "      <td>99.0</td>\n",
       "      <td>56595.0</td>\n",
       "      <td>6525.0</td>\n",
       "      <td>115.0</td>\n",
       "      <td>367508.0</td>\n",
       "      <td>26456.0</td>\n",
       "      <td>72.0</td>\n",
       "    </tr>\n",
       "    <tr>\n",
       "      <th>35 to 50 years</th>\n",
       "      <td>515539.0</td>\n",
       "      <td>9383.0</td>\n",
       "      <td>18.0</td>\n",
       "      <td>75432.0</td>\n",
       "      <td>2215.0</td>\n",
       "      <td>29.0</td>\n",
       "      <td>666400.0</td>\n",
       "      <td>20983.0</td>\n",
       "      <td>31.0</td>\n",
       "      <td>305632.0</td>\n",
       "      <td>...</td>\n",
       "      <td>12.0</td>\n",
       "      <td>594203.0</td>\n",
       "      <td>13874.0</td>\n",
       "      <td>23.0</td>\n",
       "      <td>55395.0</td>\n",
       "      <td>1040.0</td>\n",
       "      <td>19.0</td>\n",
       "      <td>404721.0</td>\n",
       "      <td>5668.0</td>\n",
       "      <td>14.0</td>\n",
       "    </tr>\n",
       "  </tbody>\n",
       "</table>\n",
       "<p>3 rows × 157 columns</p>\n",
       "</div>"
      ],
      "text/plain": [
       "                  Alabama_total  Alabama_births  Alabama_thou  Alaska_total  \\\n",
       "Label (Grouping)                                                              \n",
       "15 to 19 years         160449.0          4737.0          30.0       22135.0   \n",
       "20 to 34 years         486392.0         49327.0         101.0       79959.0   \n",
       "35 to 50 years         515539.0          9383.0          18.0       75432.0   \n",
       "\n",
       "                  Alaska_births  Alaska_thou  Arizona_total  Arizona_births  \\\n",
       "Label (Grouping)                                                              \n",
       "15 to 19 years            423.0         19.0       217771.0          5287.0   \n",
       "20 to 34 years           8083.0        101.0       651745.0         63402.0   \n",
       "35 to 50 years           2215.0         29.0       666400.0         20983.0   \n",
       "\n",
       "                  Arizona_thou  Arkansas_total  ...  West Virginia_thou  \\\n",
       "Label (Grouping)                                ...                       \n",
       "15 to 19 years            24.0         96953.0  ...                13.0   \n",
       "20 to 34 years            97.0        292020.0  ...                92.0   \n",
       "35 to 50 years            31.0        305632.0  ...                12.0   \n",
       "\n",
       "                  Wisconsin_total  Wisconsin_births  Wisconsin_thou  \\\n",
       "Label (Grouping)                                                      \n",
       "15 to 19 years           189983.0            2599.0            14.0   \n",
       "20 to 34 years           551997.0           54606.0            99.0   \n",
       "35 to 50 years           594203.0           13874.0            23.0   \n",
       "\n",
       "                  Wyoming_total  Wyoming_births  Wyoming_thou  \\\n",
       "Label (Grouping)                                                \n",
       "15 to 19 years          19863.0           372.0          19.0   \n",
       "20 to 34 years          56595.0          6525.0         115.0   \n",
       "35 to 50 years          55395.0          1040.0          19.0   \n",
       "\n",
       "                  Puerto Rico_total  Puerto Rico_births  Puerto Rico_thou  \n",
       "Label (Grouping)                                                           \n",
       "15 to 19 years             135488.0              3773.0              28.0  \n",
       "20 to 34 years             367508.0             26456.0              72.0  \n",
       "35 to 50 years             404721.0              5668.0              14.0  \n",
       "\n",
       "[3 rows x 157 columns]"
      ]
     },
     "execution_count": 343,
     "metadata": {},
     "output_type": "execute_result"
    }
   ],
   "source": [
    "fem_age_12 = fert_data.iloc[[101,102,103]]\n",
    "fem_age_12.head()"
   ]
  },
  {
   "cell_type": "code",
   "execution_count": 344,
   "metadata": {},
   "outputs": [
    {
     "data": {
      "text/html": [
       "<div>\n",
       "<style scoped>\n",
       "    .dataframe tbody tr th:only-of-type {\n",
       "        vertical-align: middle;\n",
       "    }\n",
       "\n",
       "    .dataframe tbody tr th {\n",
       "        vertical-align: top;\n",
       "    }\n",
       "\n",
       "    .dataframe thead th {\n",
       "        text-align: right;\n",
       "    }\n",
       "</style>\n",
       "<table border=\"1\" class=\"dataframe\">\n",
       "  <thead>\n",
       "    <tr style=\"text-align: right;\">\n",
       "      <th></th>\n",
       "      <th>Alabama_total</th>\n",
       "      <th>Alabama_births</th>\n",
       "      <th>Alabama_thou</th>\n",
       "      <th>Alaska_total</th>\n",
       "      <th>Alaska_births</th>\n",
       "      <th>Alaska_thou</th>\n",
       "      <th>Arizona_total</th>\n",
       "      <th>Arizona_births</th>\n",
       "      <th>Arizona_thou</th>\n",
       "      <th>Arkansas_total</th>\n",
       "      <th>...</th>\n",
       "      <th>West Virginia_thou</th>\n",
       "      <th>Wisconsin_total</th>\n",
       "      <th>Wisconsin_births</th>\n",
       "      <th>Wisconsin_thou</th>\n",
       "      <th>Wyoming_total</th>\n",
       "      <th>Wyoming_births</th>\n",
       "      <th>Wyoming_thou</th>\n",
       "      <th>Puerto Rico_total</th>\n",
       "      <th>Puerto Rico_births</th>\n",
       "      <th>Puerto Rico_thou</th>\n",
       "    </tr>\n",
       "    <tr>\n",
       "      <th>Label (Grouping)</th>\n",
       "      <th></th>\n",
       "      <th></th>\n",
       "      <th></th>\n",
       "      <th></th>\n",
       "      <th></th>\n",
       "      <th></th>\n",
       "      <th></th>\n",
       "      <th></th>\n",
       "      <th></th>\n",
       "      <th></th>\n",
       "      <th></th>\n",
       "      <th></th>\n",
       "      <th></th>\n",
       "      <th></th>\n",
       "      <th></th>\n",
       "      <th></th>\n",
       "      <th></th>\n",
       "      <th></th>\n",
       "      <th></th>\n",
       "      <th></th>\n",
       "      <th></th>\n",
       "    </tr>\n",
       "  </thead>\n",
       "  <tbody>\n",
       "    <tr>\n",
       "      <th>15 to 19 years</th>\n",
       "      <td>164501.0</td>\n",
       "      <td>4937.0</td>\n",
       "      <td>30.0</td>\n",
       "      <td>24175.0</td>\n",
       "      <td>539.0</td>\n",
       "      <td>22.0</td>\n",
       "      <td>222455.0</td>\n",
       "      <td>6549.0</td>\n",
       "      <td>29.0</td>\n",
       "      <td>93381.0</td>\n",
       "      <td>...</td>\n",
       "      <td>23.0</td>\n",
       "      <td>195618.0</td>\n",
       "      <td>3195.0</td>\n",
       "      <td>16.0</td>\n",
       "      <td>18468.0</td>\n",
       "      <td>155.0</td>\n",
       "      <td>8.0</td>\n",
       "      <td>143213.0</td>\n",
       "      <td>5644.0</td>\n",
       "      <td>39.0</td>\n",
       "    </tr>\n",
       "    <tr>\n",
       "      <th>20 to 34 years</th>\n",
       "      <td>482901.0</td>\n",
       "      <td>53474.0</td>\n",
       "      <td>111.0</td>\n",
       "      <td>76832.0</td>\n",
       "      <td>9064.0</td>\n",
       "      <td>118.0</td>\n",
       "      <td>643169.0</td>\n",
       "      <td>59582.0</td>\n",
       "      <td>93.0</td>\n",
       "      <td>291619.0</td>\n",
       "      <td>...</td>\n",
       "      <td>83.0</td>\n",
       "      <td>546832.0</td>\n",
       "      <td>54536.0</td>\n",
       "      <td>100.0</td>\n",
       "      <td>56620.0</td>\n",
       "      <td>5824.0</td>\n",
       "      <td>103.0</td>\n",
       "      <td>376109.0</td>\n",
       "      <td>28952.0</td>\n",
       "      <td>77.0</td>\n",
       "    </tr>\n",
       "    <tr>\n",
       "      <th>35 to 50 years</th>\n",
       "      <td>526088.0</td>\n",
       "      <td>12190.0</td>\n",
       "      <td>23.0</td>\n",
       "      <td>77685.0</td>\n",
       "      <td>3280.0</td>\n",
       "      <td>42.0</td>\n",
       "      <td>664103.0</td>\n",
       "      <td>18565.0</td>\n",
       "      <td>28.0</td>\n",
       "      <td>308482.0</td>\n",
       "      <td>...</td>\n",
       "      <td>16.0</td>\n",
       "      <td>609365.0</td>\n",
       "      <td>11659.0</td>\n",
       "      <td>19.0</td>\n",
       "      <td>55677.0</td>\n",
       "      <td>1032.0</td>\n",
       "      <td>19.0</td>\n",
       "      <td>409910.0</td>\n",
       "      <td>4851.0</td>\n",
       "      <td>12.0</td>\n",
       "    </tr>\n",
       "  </tbody>\n",
       "</table>\n",
       "<p>3 rows × 157 columns</p>\n",
       "</div>"
      ],
      "text/plain": [
       "                  Alabama_total  Alabama_births  Alabama_thou  Alaska_total  \\\n",
       "Label (Grouping)                                                              \n",
       "15 to 19 years         164501.0          4937.0          30.0       24175.0   \n",
       "20 to 34 years         482901.0         53474.0         111.0       76832.0   \n",
       "35 to 50 years         526088.0         12190.0          23.0       77685.0   \n",
       "\n",
       "                  Alaska_births  Alaska_thou  Arizona_total  Arizona_births  \\\n",
       "Label (Grouping)                                                              \n",
       "15 to 19 years            539.0         22.0       222455.0          6549.0   \n",
       "20 to 34 years           9064.0        118.0       643169.0         59582.0   \n",
       "35 to 50 years           3280.0         42.0       664103.0         18565.0   \n",
       "\n",
       "                  Arizona_thou  Arkansas_total  ...  West Virginia_thou  \\\n",
       "Label (Grouping)                                ...                       \n",
       "15 to 19 years            29.0         93381.0  ...                23.0   \n",
       "20 to 34 years            93.0        291619.0  ...                83.0   \n",
       "35 to 50 years            28.0        308482.0  ...                16.0   \n",
       "\n",
       "                  Wisconsin_total  Wisconsin_births  Wisconsin_thou  \\\n",
       "Label (Grouping)                                                      \n",
       "15 to 19 years           195618.0            3195.0            16.0   \n",
       "20 to 34 years           546832.0           54536.0           100.0   \n",
       "35 to 50 years           609365.0           11659.0            19.0   \n",
       "\n",
       "                  Wyoming_total  Wyoming_births  Wyoming_thou  \\\n",
       "Label (Grouping)                                                \n",
       "15 to 19 years          18468.0           155.0           8.0   \n",
       "20 to 34 years          56620.0          5824.0         103.0   \n",
       "35 to 50 years          55677.0          1032.0          19.0   \n",
       "\n",
       "                  Puerto Rico_total  Puerto Rico_births  Puerto Rico_thou  \n",
       "Label (Grouping)                                                           \n",
       "15 to 19 years             143213.0              5644.0              39.0  \n",
       "20 to 34 years             376109.0             28952.0              77.0  \n",
       "35 to 50 years             409910.0              4851.0              12.0  \n",
       "\n",
       "[3 rows x 157 columns]"
      ]
     },
     "execution_count": 344,
     "metadata": {},
     "output_type": "execute_result"
    }
   ],
   "source": [
    "fem_age_11 = fert_data.iloc[[112,113,114]]\n",
    "fem_age_11.head()"
   ]
  },
  {
   "cell_type": "code",
   "execution_count": 345,
   "metadata": {},
   "outputs": [
    {
     "data": {
      "text/html": [
       "<div>\n",
       "<style scoped>\n",
       "    .dataframe tbody tr th:only-of-type {\n",
       "        vertical-align: middle;\n",
       "    }\n",
       "\n",
       "    .dataframe tbody tr th {\n",
       "        vertical-align: top;\n",
       "    }\n",
       "\n",
       "    .dataframe thead th {\n",
       "        text-align: right;\n",
       "    }\n",
       "</style>\n",
       "<table border=\"1\" class=\"dataframe\">\n",
       "  <thead>\n",
       "    <tr style=\"text-align: right;\">\n",
       "      <th></th>\n",
       "      <th>Alabama_total</th>\n",
       "      <th>Alabama_births</th>\n",
       "      <th>Alabama_thou</th>\n",
       "      <th>Alaska_total</th>\n",
       "      <th>Alaska_births</th>\n",
       "      <th>Alaska_thou</th>\n",
       "      <th>Arizona_total</th>\n",
       "      <th>Arizona_births</th>\n",
       "      <th>Arizona_thou</th>\n",
       "      <th>Arkansas_total</th>\n",
       "      <th>...</th>\n",
       "      <th>West Virginia_thou</th>\n",
       "      <th>Wisconsin_total</th>\n",
       "      <th>Wisconsin_births</th>\n",
       "      <th>Wisconsin_thou</th>\n",
       "      <th>Wyoming_total</th>\n",
       "      <th>Wyoming_births</th>\n",
       "      <th>Wyoming_thou</th>\n",
       "      <th>Puerto Rico_total</th>\n",
       "      <th>Puerto Rico_births</th>\n",
       "      <th>Puerto Rico_thou</th>\n",
       "    </tr>\n",
       "    <tr>\n",
       "      <th>Label (Grouping)</th>\n",
       "      <th></th>\n",
       "      <th></th>\n",
       "      <th></th>\n",
       "      <th></th>\n",
       "      <th></th>\n",
       "      <th></th>\n",
       "      <th></th>\n",
       "      <th></th>\n",
       "      <th></th>\n",
       "      <th></th>\n",
       "      <th></th>\n",
       "      <th></th>\n",
       "      <th></th>\n",
       "      <th></th>\n",
       "      <th></th>\n",
       "      <th></th>\n",
       "      <th></th>\n",
       "      <th></th>\n",
       "      <th></th>\n",
       "      <th></th>\n",
       "      <th></th>\n",
       "    </tr>\n",
       "  </thead>\n",
       "  <tbody>\n",
       "    <tr>\n",
       "      <th>15 to 19 years</th>\n",
       "      <td>167894.0</td>\n",
       "      <td>4756.0</td>\n",
       "      <td>28.0</td>\n",
       "      <td>25070.0</td>\n",
       "      <td>746.0</td>\n",
       "      <td>30.0</td>\n",
       "      <td>222457.0</td>\n",
       "      <td>6827.0</td>\n",
       "      <td>31.0</td>\n",
       "      <td>103730.0</td>\n",
       "      <td>...</td>\n",
       "      <td>32.0</td>\n",
       "      <td>197213.0</td>\n",
       "      <td>4170.0</td>\n",
       "      <td>21.0</td>\n",
       "      <td>17806.0</td>\n",
       "      <td>1066.0</td>\n",
       "      <td>60.0</td>\n",
       "      <td>138231.0</td>\n",
       "      <td>6742.0</td>\n",
       "      <td>49.0</td>\n",
       "    </tr>\n",
       "    <tr>\n",
       "      <th>20 to 34 years</th>\n",
       "      <td>479361.0</td>\n",
       "      <td>50576.0</td>\n",
       "      <td>106.0</td>\n",
       "      <td>74393.0</td>\n",
       "      <td>9550.0</td>\n",
       "      <td>128.0</td>\n",
       "      <td>635805.0</td>\n",
       "      <td>64576.0</td>\n",
       "      <td>102.0</td>\n",
       "      <td>282848.0</td>\n",
       "      <td>...</td>\n",
       "      <td>96.0</td>\n",
       "      <td>541445.0</td>\n",
       "      <td>55447.0</td>\n",
       "      <td>102.0</td>\n",
       "      <td>56386.0</td>\n",
       "      <td>6167.0</td>\n",
       "      <td>109.0</td>\n",
       "      <td>384133.0</td>\n",
       "      <td>33045.0</td>\n",
       "      <td>86.0</td>\n",
       "    </tr>\n",
       "    <tr>\n",
       "      <th>35 to 50 years</th>\n",
       "      <td>526757.0</td>\n",
       "      <td>10911.0</td>\n",
       "      <td>21.0</td>\n",
       "      <td>77818.0</td>\n",
       "      <td>2198.0</td>\n",
       "      <td>28.0</td>\n",
       "      <td>668891.0</td>\n",
       "      <td>14807.0</td>\n",
       "      <td>22.0</td>\n",
       "      <td>310609.0</td>\n",
       "      <td>...</td>\n",
       "      <td>13.0</td>\n",
       "      <td>621080.0</td>\n",
       "      <td>14107.0</td>\n",
       "      <td>23.0</td>\n",
       "      <td>56201.0</td>\n",
       "      <td>1081.0</td>\n",
       "      <td>19.0</td>\n",
       "      <td>410233.0</td>\n",
       "      <td>5925.0</td>\n",
       "      <td>14.0</td>\n",
       "    </tr>\n",
       "  </tbody>\n",
       "</table>\n",
       "<p>3 rows × 157 columns</p>\n",
       "</div>"
      ],
      "text/plain": [
       "                  Alabama_total  Alabama_births  Alabama_thou  Alaska_total  \\\n",
       "Label (Grouping)                                                              \n",
       "15 to 19 years         167894.0          4756.0          28.0       25070.0   \n",
       "20 to 34 years         479361.0         50576.0         106.0       74393.0   \n",
       "35 to 50 years         526757.0         10911.0          21.0       77818.0   \n",
       "\n",
       "                  Alaska_births  Alaska_thou  Arizona_total  Arizona_births  \\\n",
       "Label (Grouping)                                                              \n",
       "15 to 19 years            746.0         30.0       222457.0          6827.0   \n",
       "20 to 34 years           9550.0        128.0       635805.0         64576.0   \n",
       "35 to 50 years           2198.0         28.0       668891.0         14807.0   \n",
       "\n",
       "                  Arizona_thou  Arkansas_total  ...  West Virginia_thou  \\\n",
       "Label (Grouping)                                ...                       \n",
       "15 to 19 years            31.0        103730.0  ...                32.0   \n",
       "20 to 34 years           102.0        282848.0  ...                96.0   \n",
       "35 to 50 years            22.0        310609.0  ...                13.0   \n",
       "\n",
       "                  Wisconsin_total  Wisconsin_births  Wisconsin_thou  \\\n",
       "Label (Grouping)                                                      \n",
       "15 to 19 years           197213.0            4170.0            21.0   \n",
       "20 to 34 years           541445.0           55447.0           102.0   \n",
       "35 to 50 years           621080.0           14107.0            23.0   \n",
       "\n",
       "                  Wyoming_total  Wyoming_births  Wyoming_thou  \\\n",
       "Label (Grouping)                                                \n",
       "15 to 19 years          17806.0          1066.0          60.0   \n",
       "20 to 34 years          56386.0          6167.0         109.0   \n",
       "35 to 50 years          56201.0          1081.0          19.0   \n",
       "\n",
       "                  Puerto Rico_total  Puerto Rico_births  Puerto Rico_thou  \n",
       "Label (Grouping)                                                           \n",
       "15 to 19 years             138231.0              6742.0              49.0  \n",
       "20 to 34 years             384133.0             33045.0              86.0  \n",
       "35 to 50 years             410233.0              5925.0              14.0  \n",
       "\n",
       "[3 rows x 157 columns]"
      ]
     },
     "execution_count": 345,
     "metadata": {},
     "output_type": "execute_result"
    }
   ],
   "source": [
    "fem_age_10 = fert_data.iloc[[123,124,125]]\n",
    "fem_age_10.head()"
   ]
  },
  {
   "cell_type": "code",
   "execution_count": 346,
   "metadata": {},
   "outputs": [
    {
     "data": {
      "text/html": [
       "<div>\n",
       "<style scoped>\n",
       "    .dataframe tbody tr th:only-of-type {\n",
       "        vertical-align: middle;\n",
       "    }\n",
       "\n",
       "    .dataframe tbody tr th {\n",
       "        vertical-align: top;\n",
       "    }\n",
       "\n",
       "    .dataframe thead th {\n",
       "        text-align: right;\n",
       "    }\n",
       "</style>\n",
       "<table border=\"1\" class=\"dataframe\">\n",
       "  <thead>\n",
       "    <tr style=\"text-align: right;\">\n",
       "      <th></th>\n",
       "      <th>Alabama_total</th>\n",
       "      <th>Alabama_births</th>\n",
       "      <th>Alabama_thou</th>\n",
       "      <th>Alaska_total</th>\n",
       "      <th>Alaska_births</th>\n",
       "      <th>Alaska_thou</th>\n",
       "      <th>Arizona_total</th>\n",
       "      <th>Arizona_births</th>\n",
       "      <th>Arizona_thou</th>\n",
       "      <th>Arkansas_total</th>\n",
       "      <th>...</th>\n",
       "      <th>West Virginia_thou</th>\n",
       "      <th>Wisconsin_total</th>\n",
       "      <th>Wisconsin_births</th>\n",
       "      <th>Wisconsin_thou</th>\n",
       "      <th>Wyoming_total</th>\n",
       "      <th>Wyoming_births</th>\n",
       "      <th>Wyoming_thou</th>\n",
       "      <th>Puerto Rico_total</th>\n",
       "      <th>Puerto Rico_births</th>\n",
       "      <th>Puerto Rico_thou</th>\n",
       "    </tr>\n",
       "    <tr>\n",
       "      <th>Label (Grouping)</th>\n",
       "      <th></th>\n",
       "      <th></th>\n",
       "      <th></th>\n",
       "      <th></th>\n",
       "      <th></th>\n",
       "      <th></th>\n",
       "      <th></th>\n",
       "      <th></th>\n",
       "      <th></th>\n",
       "      <th></th>\n",
       "      <th></th>\n",
       "      <th></th>\n",
       "      <th></th>\n",
       "      <th></th>\n",
       "      <th></th>\n",
       "      <th></th>\n",
       "      <th></th>\n",
       "      <th></th>\n",
       "      <th></th>\n",
       "      <th></th>\n",
       "      <th></th>\n",
       "    </tr>\n",
       "  </thead>\n",
       "  <tbody>\n",
       "    <tr>\n",
       "      <th>Native</th>\n",
       "      <td>1124176.0</td>\n",
       "      <td>55575.0</td>\n",
       "      <td>49.0</td>\n",
       "      <td>152185.0</td>\n",
       "      <td>8756.0</td>\n",
       "      <td>58.0</td>\n",
       "      <td>1415213.0</td>\n",
       "      <td>68239.0</td>\n",
       "      <td>48.0</td>\n",
       "      <td>644947.0</td>\n",
       "      <td>...</td>\n",
       "      <td>51.0</td>\n",
       "      <td>1212803.0</td>\n",
       "      <td>60199.0</td>\n",
       "      <td>50.0</td>\n",
       "      <td>121847.0</td>\n",
       "      <td>7430.0</td>\n",
       "      <td>61.0</td>\n",
       "      <td>724276.0</td>\n",
       "      <td>21141.0</td>\n",
       "      <td>29.0</td>\n",
       "    </tr>\n",
       "    <tr>\n",
       "      <th>Foreign born</th>\n",
       "      <td>60544.0</td>\n",
       "      <td>5931.0</td>\n",
       "      <td>98.0</td>\n",
       "      <td>15526.0</td>\n",
       "      <td>1369.0</td>\n",
       "      <td>88.0</td>\n",
       "      <td>265572.0</td>\n",
       "      <td>18309.0</td>\n",
       "      <td>69.0</td>\n",
       "      <td>46192.0</td>\n",
       "      <td>...</td>\n",
       "      <td>85.0</td>\n",
       "      <td>89014.0</td>\n",
       "      <td>6381.0</td>\n",
       "      <td>72.0</td>\n",
       "      <td>4894.0</td>\n",
       "      <td>39.0</td>\n",
       "      <td>8.0</td>\n",
       "      <td>19204.0</td>\n",
       "      <td>567.0</td>\n",
       "      <td>30.0</td>\n",
       "    </tr>\n",
       "  </tbody>\n",
       "</table>\n",
       "<p>2 rows × 157 columns</p>\n",
       "</div>"
      ],
      "text/plain": [
       "                      Alabama_total  Alabama_births  Alabama_thou  \\\n",
       "Label (Grouping)                                                    \n",
       "        Native            1124176.0         55575.0          49.0   \n",
       "        Foreign born        60544.0          5931.0          98.0   \n",
       "\n",
       "                      Alaska_total  Alaska_births  Alaska_thou  Arizona_total  \\\n",
       "Label (Grouping)                                                                \n",
       "        Native            152185.0         8756.0         58.0      1415213.0   \n",
       "        Foreign born       15526.0         1369.0         88.0       265572.0   \n",
       "\n",
       "                      Arizona_births  Arizona_thou  Arkansas_total  ...  \\\n",
       "Label (Grouping)                                                    ...   \n",
       "        Native               68239.0          48.0        644947.0  ...   \n",
       "        Foreign born         18309.0          69.0         46192.0  ...   \n",
       "\n",
       "                      West Virginia_thou  Wisconsin_total  Wisconsin_births  \\\n",
       "Label (Grouping)                                                              \n",
       "        Native                      51.0        1212803.0           60199.0   \n",
       "        Foreign born                85.0          89014.0            6381.0   \n",
       "\n",
       "                      Wisconsin_thou  Wyoming_total  Wyoming_births  \\\n",
       "Label (Grouping)                                                      \n",
       "        Native                  50.0       121847.0          7430.0   \n",
       "        Foreign born            72.0         4894.0            39.0   \n",
       "\n",
       "                      Wyoming_thou  Puerto Rico_total  Puerto Rico_births  \\\n",
       "Label (Grouping)                                                            \n",
       "        Native                61.0           724276.0             21141.0   \n",
       "        Foreign born           8.0            19204.0               567.0   \n",
       "\n",
       "                      Puerto Rico_thou  \n",
       "Label (Grouping)                        \n",
       "        Native                    29.0  \n",
       "        Foreign born              30.0  \n",
       "\n",
       "[2 rows x 157 columns]"
      ]
     },
     "execution_count": 346,
     "metadata": {},
     "output_type": "execute_result"
    }
   ],
   "source": [
    "fem_stat_2022 = fert_data.iloc[[6,7]]\n",
    "\n",
    "fem_stat_2022.head()"
   ]
  }
 ],
 "metadata": {
  "kernelspec": {
   "display_name": "AT-Env",
   "language": "python",
   "name": "python3"
  },
  "language_info": {
   "codemirror_mode": {
    "name": "ipython",
    "version": 3
   },
   "file_extension": ".py",
   "mimetype": "text/x-python",
   "name": "python",
   "nbconvert_exporter": "python",
   "pygments_lexer": "ipython3",
   "version": "3.9.10"
  }
 },
 "nbformat": 4,
 "nbformat_minor": 2
}
