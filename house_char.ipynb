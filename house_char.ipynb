{
 "cells": [
  {
   "cell_type": "code",
   "execution_count": null,
   "metadata": {},
   "outputs": [],
   "source": [
    "import seaborn as sns\n",
    "import pandas as pd\n",
    "import numpy as np\n",
    "import matplotlib.pyplot as plt\n",
    "import plotly.express as px\n",
    "import plotly.graph_objs as go \n",
    "from plotly.offline import download_plotlyjs, init_notebook_mode, plot, iplot\n",
    "import re\n",
    "\n",
    "%matplotlib inline\n",
    "init_notebook_mode(connected=True) "
   ]
  },
  {
   "cell_type": "markdown",
   "metadata": {},
   "source": [
    "# Physical House Occupancy Characteristics"
   ]
  },
  {
   "cell_type": "code",
   "execution_count": null,
   "metadata": {},
   "outputs": [],
   "source": [
    "state_abbreviations = {\n",
    "'Alabama': 'AL',\n",
    "'Alaska': 'AK',\n",
    "'Arizona': 'AZ',\n",
    "'Arkansas': 'AR',\n",
    "'California': 'CA',\n",
    "'Colorado': 'CO',\n",
    "'Connecticut': 'CT',\n",
    "'Delaware': 'DE',\n",
    "'District of Columbia': 'DC',\n",
    "'Florida': 'FL',\n",
    "'Georgia': 'GA',\n",
    "'Hawaii': 'HI',\n",
    "'Idaho': 'ID',\n",
    "'Illinois': 'IL',\n",
    "'Indiana': 'IN',\n",
    "'Iowa': 'IA',\n",
    "'Kansas': 'KS',\n",
    "'Kentucky': 'KY',\n",
    "'Louisiana': 'LA',\n",
    "'Maine': 'ME',\n",
    "'Maryland': 'MD',\n",
    "'Massachusetts': 'MA',\n",
    "'Michigan': 'MI',\n",
    "'Minnesota': 'MN',\n",
    "'Mississippi': 'MS',\n",
    "'Missouri': 'MO',\n",
    "'Montana': 'MT',\n",
    "'Nebraska': 'NE',\n",
    "'Nevada': 'NV',\n",
    "'New Hampshire': 'NH',\n",
    "'New Jersey': 'NJ',\n",
    "'New Mexico': 'NM',\n",
    "'New York': 'NY',\n",
    "'North Carolina': 'NC',\n",
    "'North Dakota': 'ND',\n",
    "'Ohio': 'OH',\n",
    "'Oklahoma': 'OK',\n",
    "'Oregon': 'OR',\n",
    "'Pennsylvania': 'PA',\n",
    "'Rhode Island': 'RI',\n",
    "'South Carolina': 'SC',\n",
    "'South Dakota': 'SD',\n",
    "'Tennessee': 'TN',\n",
    "'Texas': 'TX',\n",
    "'Utah': 'UT',\n",
    "'Vermont': 'VT',\n",
    "'Virginia': 'VA',\n",
    "'Washington': 'WA',\n",
    "'West Virginia': 'WV',\n",
    "'Wisconsin': 'WI',\n",
    "'Wyoming': 'WY',\n",
    "'Puerto Rico': 'PR'\n",
    "}"
   ]
  },
  {
   "cell_type": "code",
   "execution_count": null,
   "metadata": {},
   "outputs": [],
   "source": [
    "def convert_value(value):\n",
    "    if '%' in value:\n",
    "        return float(value.replace('%', '')) / 100  # Convert percentage to a decimal\n",
    "    else:\n",
    "        return int(value.replace(',', ''))  # Remove commas and convert to integer"
   ]
  },
  {
   "cell_type": "code",
   "execution_count": null,
   "metadata": {},
   "outputs": [],
   "source": [
    "def clean_house_char_headers(val):\n",
    "    if isinstance(val, str):\n",
    "        if 'Occupied' in val:\n",
    "            val = val.split(\"!!\")[0]\n",
    "            val = val + \"_total\"\n",
    "        elif 'Percent occupied housing units' in val:\n",
    "            val = val.split(\"!!\")[0]\n",
    "            val = val + \"_total_percent\"\n",
    "        elif 'Owner-occupied housing'in val:\n",
    "            val = val.split(\"!!\")[0]\n",
    "            val = val + \"_owner\"\n",
    "        elif 'Percent owner-occupied housing units' in val:\n",
    "            val = val.split(\"!!\")[0]\n",
    "            val = val + \"_own_percent\"\n",
    "        elif 'Renter-occupied housing units' in val:\n",
    "            val = val.split(\"!!\")[0]\n",
    "            val = val + \"_renter\"\n",
    "        elif 'Percent renter-occupied' in val:\n",
    "            val = val.split(\"!!\")[0]\n",
    "            val = val + \"_rent_percent\"\n",
    "        else:\n",
    "            val = val.split(\"!!\")[0]\n",
    "        return val\n",
    "    else:\n",
    "        return val"
   ]
  },
  {
   "cell_type": "code",
   "execution_count": null,
   "metadata": {},
   "outputs": [],
   "source": [
    "house_char_data = pd.read_csv('../Data/Physical_Housing_Occup.csv', index_col=0)\n",
    "house_char_data = house_char_data.rename(columns=clean_house_char_headers)\n",
    "house_char_data.head()"
   ]
  },
  {
   "cell_type": "code",
   "execution_count": null,
   "metadata": {},
   "outputs": [],
   "source": [
    "units_in_struc = house_char_data.iloc[[2,3,4,5,6,7,8]]\n",
    "units_in_struc.head()"
   ]
  },
  {
   "cell_type": "code",
   "execution_count": null,
   "metadata": {},
   "outputs": [],
   "source": [
    "dict_house = units_in_struc.to_dict()\n",
    "cleaned_dict = {state: {key.strip(): convert_value(value) for key, value in data.items()} for state, data in dict_house.items()}"
   ]
  },
  {
   "cell_type": "code",
   "execution_count": null,
   "metadata": {},
   "outputs": [],
   "source": [
    "new_dict = {}\n",
    "final_lst = []\n",
    "\n",
    "# Iterate over the keys and values in the original dictionary\n",
    "for state_attr, attr_values in cleaned_dict.items():\n",
    "    # Split the key into state and attribute\n",
    "    state, attribute = state_attr.split(\"_\", 1)\n",
    "    \n",
    "    # Iterate over the attribute values\n",
    "    for attr, value in attr_values.items():\n",
    "        # If the attribute is not in the new dictionary, add it\n",
    "        if attr not in new_dict:\n",
    "            new_dict[attr] = {}\n",
    "        \n",
    "        # If the state is not in the attribute's dictionary, add it\n",
    "        if state not in new_dict[attr]:\n",
    "            new_dict[attr][state] = {}\n",
    "        \n",
    "        # Add the value to the attribute's dictionary\n",
    "        new_dict[attr][state][attribute] = value\n",
    "        final_lst.append(new_dict)"
   ]
  },
  {
   "cell_type": "code",
   "execution_count": null,
   "metadata": {},
   "outputs": [],
   "source": [
    "year_struc = house_char_data.iloc[[10,11,12,13,14,15,16]]\n",
    "year_struc.head()"
   ]
  },
  {
   "cell_type": "code",
   "execution_count": null,
   "metadata": {},
   "outputs": [],
   "source": [
    "rooms = house_char_data.iloc[[18,19,20,21,22]]\n",
    "rooms.head()"
   ]
  },
  {
   "cell_type": "code",
   "execution_count": null,
   "metadata": {},
   "outputs": [],
   "source": [
    "bedroom = house_char_data.iloc[[24,25,26,27]]\n",
    "bedroom.head()"
   ]
  },
  {
   "cell_type": "code",
   "execution_count": null,
   "metadata": {},
   "outputs": [],
   "source": [
    "vehicles = house_char_data.iloc[[32,33,34,35]]\n",
    "vehicles.head()"
   ]
  },
  {
   "cell_type": "code",
   "execution_count": null,
   "metadata": {},
   "outputs": [],
   "source": [
    "house_heat_fuel = house_char_data.iloc[[39,40,41,42,43,44,45]]\n",
    "house_heat_fuel.tail()"
   ]
  }
 ],
 "metadata": {
  "language_info": {
   "name": "python"
  }
 },
 "nbformat": 4,
 "nbformat_minor": 2
}
