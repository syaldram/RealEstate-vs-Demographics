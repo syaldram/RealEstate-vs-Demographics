{
 "cells": [
  {
   "cell_type": "code",
   "execution_count": null,
   "metadata": {},
   "outputs": [],
   "source": [
    "import seaborn as sns\n",
    "import pandas as pd\n",
    "import numpy as np\n",
    "import matplotlib.pyplot as plt\n",
    "import plotly.express as px\n",
    "import plotly.graph_objs as go \n",
    "from plotly.offline import download_plotlyjs, init_notebook_mode, plot, iplot\n",
    "import re\n",
    "\n",
    "%matplotlib inline\n",
    "init_notebook_mode(connected=True) "
   ]
  },
  {
   "cell_type": "markdown",
   "metadata": {},
   "source": [
    "# Physical House Occupancy Characteristics"
   ]
  },
  {
   "cell_type": "code",
   "execution_count": null,
   "metadata": {},
   "outputs": [],
   "source": [
    "state_abbreviations = {\n",
    "'Alabama': 'AL',\n",
    "'Alaska': 'AK',\n",
    "'Arizona': 'AZ',\n",
    "'Arkansas': 'AR',\n",
    "'California': 'CA',\n",
    "'Colorado': 'CO',\n",
    "'Connecticut': 'CT',\n",
    "'Delaware': 'DE',\n",
    "'District of Columbia': 'DC',\n",
    "'Florida': 'FL',\n",
    "'Georgia': 'GA',\n",
    "'Hawaii': 'HI',\n",
    "'Idaho': 'ID',\n",
    "'Illinois': 'IL',\n",
    "'Indiana': 'IN',\n",
    "'Iowa': 'IA',\n",
    "'Kansas': 'KS',\n",
    "'Kentucky': 'KY',\n",
    "'Louisiana': 'LA',\n",
    "'Maine': 'ME',\n",
    "'Maryland': 'MD',\n",
    "'Massachusetts': 'MA',\n",
    "'Michigan': 'MI',\n",
    "'Minnesota': 'MN',\n",
    "'Mississippi': 'MS',\n",
    "'Missouri': 'MO',\n",
    "'Montana': 'MT',\n",
    "'Nebraska': 'NE',\n",
    "'Nevada': 'NV',\n",
    "'New Hampshire': 'NH',\n",
    "'New Jersey': 'NJ',\n",
    "'New Mexico': 'NM',\n",
    "'New York': 'NY',\n",
    "'North Carolina': 'NC',\n",
    "'North Dakota': 'ND',\n",
    "'Ohio': 'OH',\n",
    "'Oklahoma': 'OK',\n",
    "'Oregon': 'OR',\n",
    "'Pennsylvania': 'PA',\n",
    "'Rhode Island': 'RI',\n",
    "'South Carolina': 'SC',\n",
    "'South Dakota': 'SD',\n",
    "'Tennessee': 'TN',\n",
    "'Texas': 'TX',\n",
    "'Utah': 'UT',\n",
    "'Vermont': 'VT',\n",
    "'Virginia': 'VA',\n",
    "'Washington': 'WA',\n",
    "'West Virginia': 'WV',\n",
    "'Wisconsin': 'WI',\n",
    "'Wyoming': 'WY',\n",
    "'Puerto Rico': 'PR'\n",
    "}"
   ]
  },
  {
   "cell_type": "code",
   "execution_count": null,
   "metadata": {},
   "outputs": [],
   "source": [
    "def convert_value(value):\n",
    "    if '%' in value:\n",
    "        return float(value.replace('%', '')) / 100  # Convert percentage to a decimal\n",
    "    else:\n",
    "        return int(value.replace(',', ''))  # Remove commas and convert to integer"
   ]
  },
  {
   "cell_type": "code",
   "execution_count": null,
   "metadata": {},
   "outputs": [],
   "source": [
    "def clean_house_char_headers(val):\n",
    "    if isinstance(val, str):\n",
    "        if 'Occupied' in val:\n",
    "            val = val.split(\"!!\")[0]\n",
    "            val = val + \"_total\"\n",
    "        elif 'Percent occupied housing units' in val:\n",
    "            val = val.split(\"!!\")[0]\n",
    "            val = val + \"_total_percent\"\n",
    "        elif 'Owner-occupied housing'in val:\n",
    "            val = val.split(\"!!\")[0]\n",
    "            val = val + \"_owner\"\n",
    "        elif 'Percent owner-occupied housing units' in val:\n",
    "            val = val.split(\"!!\")[0]\n",
    "            val = val + \"_own_percent\"\n",
    "        elif 'Renter-occupied housing units' in val:\n",
    "            val = val.split(\"!!\")[0]\n",
    "            val = val + \"_renter\"\n",
    "        elif 'Percent renter-occupied' in val:\n",
    "            val = val.split(\"!!\")[0]\n",
    "            val = val + \"_rent_percent\"\n",
    "        else:\n",
    "            val = val.split(\"!!\")[0]\n",
    "        return val\n",
    "    else:\n",
    "        return val"
   ]
  },
  {
   "cell_type": "code",
   "execution_count": null,
   "metadata": {},
   "outputs": [],
   "source": [
    "house_char_data = pd.read_csv('../app/data/Physical_Housing_Occup.csv', index_col=0)\n",
    "house_char_data = house_char_data.rename(columns=clean_house_char_headers)\n",
    "house_char_data.head()"
   ]
  },
  {
   "cell_type": "code",
   "execution_count": null,
   "metadata": {},
   "outputs": [],
   "source": [
    "units_in_struc = house_char_data.iloc[[2,3,4,5,6,7,8]]\n",
    "units_in_struc.head()"
   ]
  },
  {
   "cell_type": "code",
   "execution_count": null,
   "metadata": {},
   "outputs": [],
   "source": [
    "def data_cleanup(df):\n",
    "\n",
    "    df_dict = df.to_dict()\n",
    "    cleaned_dict = {state: {key.strip(): convert_value(value) for key, value in data.items()} for state, data in df_dict.items()}\n",
    "\n",
    "    # Create nested dictionary for each state to combine data by state\n",
    "    new_dict = {}\n",
    "    for state_attr, attr_values in cleaned_dict.items():\n",
    "        state, attribute = state_attr.split(\"_\", 1)\n",
    "        if state not in new_dict:\n",
    "            new_dict[state] = {}\n",
    "        if attribute not in new_dict[state]:\n",
    "            new_dict[state][attribute] = {}\n",
    "        for attr, value in attr_values.items():\n",
    "            new_dict[state][attribute][attr] = value\n",
    "\n",
    "    # Create category by total units in state, homeowner units and renter units\n",
    "    total_unit_lst = [{k: v.get('total')} for k, v in new_dict.items() if v.get('total') is not None]\n",
    "    owner_unit_lst = [{k: v.get('owner')} for k, v in new_dict.items() if v.get('owner') is not None]\n",
    "    renter_unit_lst = [{k: v.get('renter')} for k, v in new_dict.items() if v.get('renter') is not None]\n",
    "\n",
    "    # Function to convert list of dictionaries into a DataFrame\n",
    "    def create_df(lst):\n",
    "        df = pd.concat({k: pd.DataFrame.from_dict(v, 'index') for d in lst for k, v in d.items()}, axis=0)\n",
    "        df.reset_index(inplace=True)\n",
    "        df.columns = ['State', 'Value', 'Count']\n",
    "        df['Code'] = df['State'].map(state_abbreviations)\n",
    "        return df\n",
    "\n",
    "    # Convert the list of nested dictionaries into a DataFrame\n",
    "    df_total = create_df(total_unit_lst)\n",
    "    df_owner = create_df(owner_unit_lst)\n",
    "    df_renter = create_df(renter_unit_lst)\n",
    "\n",
    "    return df_total, df_owner, df_renter"
   ]
  },
  {
   "cell_type": "code",
   "execution_count": null,
   "metadata": {},
   "outputs": [],
   "source": [
    "df_total, df_owner, df_renter = data_cleanup(units_in_struc)"
   ]
  },
  {
   "cell_type": "code",
   "execution_count": null,
   "metadata": {},
   "outputs": [],
   "source": [
    "df_total.head()"
   ]
  },
  {
   "cell_type": "code",
   "execution_count": null,
   "metadata": {},
   "outputs": [],
   "source": [
    "df_owner.head()"
   ]
  },
  {
   "cell_type": "code",
   "execution_count": null,
   "metadata": {},
   "outputs": [],
   "source": [
    "df_renter.head()"
   ]
  },
  {
   "cell_type": "code",
   "execution_count": null,
   "metadata": {},
   "outputs": [],
   "source": [
    "year_struc = house_char_data.iloc[[10,11,12,13,14,15,16]]\n",
    "year_struc.head()"
   ]
  },
  {
   "cell_type": "code",
   "execution_count": null,
   "metadata": {},
   "outputs": [],
   "source": [
    "df_total_yr, df_owner_yr, df_renter_yr = data_cleanup(year_struc)"
   ]
  },
  {
   "cell_type": "code",
   "execution_count": null,
   "metadata": {},
   "outputs": [],
   "source": [
    "df_total_yr.head()"
   ]
  },
  {
   "cell_type": "code",
   "execution_count": null,
   "metadata": {},
   "outputs": [],
   "source": [
    "def graph_pie(df,state:str,data_year: str):\n",
    "    target_state = df[df['State']==state]\n",
    "    # Create the bar chart\n",
    "    fig = px.pie(target_state, values='Count', names='Value', title=f'{data_year} Average age of homes in {state}')\n",
    "    fig.show()\n",
    "\n",
    "graph_pie(df_total_yr, 'Virginia', '2022')"
   ]
  },
  {
   "cell_type": "code",
   "execution_count": null,
   "metadata": {},
   "outputs": [],
   "source": [
    "df_owner_yr.head()"
   ]
  },
  {
   "cell_type": "code",
   "execution_count": null,
   "metadata": {},
   "outputs": [],
   "source": [
    "df_renter_yr.head()"
   ]
  },
  {
   "cell_type": "code",
   "execution_count": null,
   "metadata": {},
   "outputs": [],
   "source": [
    "rooms = house_char_data.iloc[[18,19,20,21,22]]\n",
    "rooms.head()"
   ]
  },
  {
   "cell_type": "code",
   "execution_count": null,
   "metadata": {},
   "outputs": [],
   "source": [
    "df_room_total, df_room_owner, df_room_renter = data_cleanup(rooms)"
   ]
  },
  {
   "cell_type": "code",
   "execution_count": null,
   "metadata": {},
   "outputs": [],
   "source": [
    "df_room_total.head()"
   ]
  },
  {
   "cell_type": "code",
   "execution_count": null,
   "metadata": {},
   "outputs": [],
   "source": [
    "df_room_owner.head()"
   ]
  },
  {
   "cell_type": "code",
   "execution_count": null,
   "metadata": {},
   "outputs": [],
   "source": [
    "df_room_renter.head()"
   ]
  },
  {
   "cell_type": "code",
   "execution_count": null,
   "metadata": {},
   "outputs": [],
   "source": [
    "bedroom = house_char_data.iloc[[24,25,26,27]]\n",
    "bedroom.head()"
   ]
  },
  {
   "cell_type": "code",
   "execution_count": null,
   "metadata": {},
   "outputs": [],
   "source": [
    "df_bed_total, df_bed_owner, df_bed_renter = data_cleanup(bedroom)"
   ]
  },
  {
   "cell_type": "code",
   "execution_count": null,
   "metadata": {},
   "outputs": [],
   "source": [
    "df_bed_total.head()"
   ]
  },
  {
   "cell_type": "code",
   "execution_count": null,
   "metadata": {},
   "outputs": [],
   "source": [
    "df_bed_owner.head()"
   ]
  },
  {
   "cell_type": "code",
   "execution_count": null,
   "metadata": {},
   "outputs": [],
   "source": [
    "df_bed_renter.head()"
   ]
  },
  {
   "cell_type": "code",
   "execution_count": null,
   "metadata": {},
   "outputs": [],
   "source": [
    "target_state_own = df_bed_owner[df_bed_owner['State']=='Virginia']\n",
    "target_state_rent = df_bed_renter[df_bed_renter['State']=='Virginia']"
   ]
  },
  {
   "cell_type": "code",
   "execution_count": null,
   "metadata": {},
   "outputs": [],
   "source": [
    "# Add a new column to distinguish between homeowners and renters\n",
    "target_state_own['Type'] = 'Homeowners'\n",
    "target_state_rent['Type'] = 'Renters'\n",
    "\n",
    "# Concatenate the dataframes\n",
    "df = pd.concat([target_state_own, target_state_rent])\n",
    "\n",
    "# Create the bar graph\n",
    "fig = px.bar(df, x='Value', y='Count', color='Type', barmode='group', \n",
    "             facet_row='State', labels={'Count':'Count', 'Value':'Number of Bedrooms'}, \n",
    "             title='Comparison of Homeowners and Renters')\n",
    "\n",
    "fig.show()"
   ]
  },
  {
   "cell_type": "code",
   "execution_count": null,
   "metadata": {},
   "outputs": [],
   "source": [
    "vehicles = house_char_data.iloc[[32,33,34,35]]\n",
    "vehicles.head()"
   ]
  },
  {
   "cell_type": "code",
   "execution_count": null,
   "metadata": {},
   "outputs": [],
   "source": [
    "df_car_total, df_car_owner, df_car_renter = data_cleanup(vehicles)"
   ]
  },
  {
   "cell_type": "code",
   "execution_count": null,
   "metadata": {},
   "outputs": [],
   "source": [
    "df_car_total.head()"
   ]
  },
  {
   "cell_type": "code",
   "execution_count": null,
   "metadata": {},
   "outputs": [],
   "source": [
    "df_car_owner.head()"
   ]
  },
  {
   "cell_type": "code",
   "execution_count": null,
   "metadata": {},
   "outputs": [],
   "source": [
    "df_car_renter.head()"
   ]
  },
  {
   "cell_type": "code",
   "execution_count": null,
   "metadata": {},
   "outputs": [],
   "source": [
    "house_heat_fuel = house_char_data.iloc[[39,40,41,42,43,44,45]]\n",
    "house_heat_fuel.tail()"
   ]
  },
  {
   "cell_type": "code",
   "execution_count": null,
   "metadata": {},
   "outputs": [],
   "source": [
    "df_heat_total, df_heat_owner, df_heat_renter = data_cleanup(house_heat_fuel)"
   ]
  },
  {
   "cell_type": "code",
   "execution_count": null,
   "metadata": {},
   "outputs": [],
   "source": [
    "df_heat_total.head()"
   ]
  },
  {
   "cell_type": "code",
   "execution_count": null,
   "metadata": {},
   "outputs": [],
   "source": [
    "df_heat_owner.head()"
   ]
  },
  {
   "cell_type": "code",
   "execution_count": null,
   "metadata": {},
   "outputs": [],
   "source": [
    "df_heat_renter.head()"
   ]
  },
  {
   "cell_type": "code",
   "execution_count": null,
   "metadata": {},
   "outputs": [],
   "source": [
    "df_total.head()"
   ]
  },
  {
   "cell_type": "code",
   "execution_count": null,
   "metadata": {},
   "outputs": [],
   "source": [
    "df_total.groupby('State').describe()"
   ]
  },
  {
   "cell_type": "code",
   "execution_count": null,
   "metadata": {},
   "outputs": [],
   "source": [
    "total_occupied_housing = df_total.groupby('Code').sum()"
   ]
  },
  {
   "cell_type": "code",
   "execution_count": null,
   "metadata": {},
   "outputs": [],
   "source": [
    "total_occupied_housing = total_occupied_housing.reset_index()"
   ]
  },
  {
   "cell_type": "code",
   "execution_count": null,
   "metadata": {},
   "outputs": [],
   "source": [
    "total_occupied_housing.head()"
   ]
  },
  {
   "cell_type": "code",
   "execution_count": null,
   "metadata": {},
   "outputs": [],
   "source": [
    "def make_map(df, data_year: str):\n",
    "\n",
    "    data = dict(type = 'choropleth',\n",
    "                colorscale = 'Portland',\n",
    "                locations = df['Code'],\n",
    "                locationmode = 'USA-states',\n",
    "                z=df['Count'],\n",
    "                colorbar = {'title':'Occupied housing units'})\n",
    "\n",
    "    layout = dict(\n",
    "        title = {'text': f'{data_year} US Occupied housing units', 'x':0.5, 'xanchor': 'center'},\n",
    "        geo = dict(scope = 'usa'),\n",
    "        autosize = True,\n",
    "        width = 800,\n",
    "        height = 600,\n",
    "    )\n",
    "\n",
    "    choromap = go.Figure(data = [data],layout = layout)\n",
    "\n",
    "    iplot(choromap)"
   ]
  },
  {
   "cell_type": "code",
   "execution_count": null,
   "metadata": {},
   "outputs": [],
   "source": [
    "make_map(total_occupied_housing, '2022')"
   ]
  },
  {
   "cell_type": "markdown",
   "metadata": {},
   "source": [
    "## Segment states by predominant housing type - cluster analysis on housing structure types by state"
   ]
  },
  {
   "cell_type": "code",
   "execution_count": null,
   "metadata": {},
   "outputs": [],
   "source": [
    "df_total.head()"
   ]
  },
  {
   "cell_type": "code",
   "execution_count": null,
   "metadata": {},
   "outputs": [],
   "source": [
    "#Get dominant house type and return state and headers\n",
    "df_max = df_total.loc[df_total.groupby('State')['Count'].idxmax()]\n",
    "\n",
    "print(df_max)"
   ]
  },
  {
   "cell_type": "code",
   "execution_count": null,
   "metadata": {},
   "outputs": [],
   "source": [
    "fig = px.scatter(df_max, y=\"Value\", x=\"Count\", color=\"State\")\n",
    "#fig.update_traces(marker_size=10)\n",
    "fig.show()"
   ]
  },
  {
   "cell_type": "markdown",
   "metadata": {},
   "source": [
    "## Fertility rates by state"
   ]
  },
  {
   "cell_type": "code",
   "execution_count": null,
   "metadata": {},
   "outputs": [],
   "source": [
    "def clean_headers(val):\n",
    "    if isinstance(val, str):\n",
    "        if 'Total' in val:\n",
    "            val = val.split(\"!!\")[0]\n",
    "            val = val + \"_total\"\n",
    "        elif 'Women with births in the past 12 months!!Number!!Estimate' in val:\n",
    "            val = val.split(\"!!\")[0]\n",
    "            val = val + \"_births\"\n",
    "        elif 'Women with births in the past 12 months!!Rate per 1,000 women!!Estimate' in val:\n",
    "            val = val.split(\"!!\")[0]\n",
    "            val = val + \"_thou\"\n",
    "        else:\n",
    "            val = val.split(\"!!\")[0]\n",
    "        return val\n",
    "    else:\n",
    "        return val"
   ]
  },
  {
   "cell_type": "code",
   "execution_count": null,
   "metadata": {},
   "outputs": [],
   "source": [
    "fert_data = pd.read_excel('../app/data/fertility_data.xlsx', index_col=0)\n",
    "fert_data = fert_data.rename(columns=clean_headers)\n",
    "\n",
    "fert_data.head()"
   ]
  },
  {
   "cell_type": "code",
   "execution_count": null,
   "metadata": {},
   "outputs": [],
   "source": [
    "def fert_data_cleanup(df, year:str):\n",
    "\n",
    "    df_dict = df.to_dict()\n",
    "    cleaned_dict = {state: {key.strip(): value for key, value in data.items()} for state, data in df_dict.items()}\n",
    "\n",
    "    # Create nested dictionary for each state to combine data by state\n",
    "    new_dict = {}\n",
    "    for state_attr, attr_values in cleaned_dict.items():\n",
    "        state, attribute = state_attr.split(\"_\", 1)\n",
    "        if state not in new_dict:\n",
    "            new_dict[state] = {}\n",
    "        if attribute not in new_dict[state]:\n",
    "            new_dict[state][attribute] = {}\n",
    "        for attr, value in attr_values.items():\n",
    "            new_dict[state][attribute][attr] = value\n",
    "\n",
    "    # Create category by total units in state, homeowner units and renter units\n",
    "    total_lst = [{k: v.get('total')} for k, v in new_dict.items() if v.get('total') is not None]\n",
    "    birth_lst = [{k: v.get('births')} for k, v in new_dict.items() if v.get('births') is not None]\n",
    "    thou_lst = [{k: v.get('thou')} for k, v in new_dict.items() if v.get('thou') is not None]\n",
    "\n",
    "    # Function to convert list of dictionaries into a DataFrame\n",
    "    def create_df(lst):\n",
    "        #count_column = f'Count'\n",
    "        df = pd.concat({k: pd.DataFrame.from_dict(v, 'index') for d in lst for k, v in d.items()}, axis=0)\n",
    "        df.reset_index(inplace=True)\n",
    "        df.columns = ['State', 'Value', 'Count']\n",
    "        df['Code'] = df['State'].map(state_abbreviations)\n",
    "        return df\n",
    "\n",
    "    # Convert the list of nested dictionaries into a DataFrame\n",
    "    df_total = create_df(total_lst)\n",
    "    df_birth = create_df(birth_lst)\n",
    "    df_thou = create_df(thou_lst)\n",
    "\n",
    "    return df_total, df_birth, df_thou"
   ]
  },
  {
   "cell_type": "code",
   "execution_count": null,
   "metadata": {},
   "outputs": [],
   "source": [
    "births_data_22 = fert_data.iloc[[1]]\n",
    "births_data_21 = fert_data.iloc[[12]]\n",
    "births_data_19 = fert_data.iloc[[23]]\n",
    "births_data_18 = fert_data.iloc[[34]]\n",
    "births_data_17 = fert_data.iloc[[45]]\n",
    "births_data_16 = fert_data.iloc[[56]]\n",
    "births_data_15 = fert_data.iloc[[67]]\n",
    "births_data_14 = fert_data.iloc[[78]]\n",
    "births_data_13 = fert_data.iloc[[89]]\n",
    "births_data_12 = fert_data.iloc[[100]]\n",
    "births_data_11 = fert_data.iloc[[111]]\n",
    "births_data_10 = fert_data.iloc[[122]]\n"
   ]
  },
  {
   "cell_type": "code",
   "execution_count": null,
   "metadata": {},
   "outputs": [],
   "source": [
    "# List of data and corresponding years\n",
    "data_years = [(births_data_22, '2022'), (births_data_21, '2021'), (births_data_19, '2019'), \n",
    "              (births_data_18, '2018'), (births_data_17, '2017'), (births_data_16, '2016'), \n",
    "              (births_data_15, '2015'), (births_data_14, '2014'), (births_data_13, '2013'), \n",
    "              (births_data_12, '2012'), (births_data_11, '2011'), (births_data_10, '2010')]\n",
    "\n",
    "def consolidate_dataframe(data_years: list):\n",
    "\n",
    "    # Initialize dictionaries to store dataframes\n",
    "    fert_pop_dict = {}\n",
    "    birth_dict = {}\n",
    "    birth_thou_dict = {}\n",
    "\n",
    "    # Initialize a list to store dataframes\n",
    "    df_list = []\n",
    "    thou_list = []\n",
    "\n",
    "    # Loop over all data and years\n",
    "    for data, year in data_years:\n",
    "        fert_pop, birth, birth_thou = fert_data_cleanup(data, year)\n",
    "        fert_pop_dict[year] = fert_pop\n",
    "        birth_dict[year] = birth\n",
    "        birth_thou_dict[year] = birth_thou\n",
    "\n",
    "        # Add a 'Year' column to the dataframe\n",
    "        birth['Year'] = year\n",
    "        birth_thou['Year'] = year\n",
    "        # Append the dataframe to df_list\n",
    "        df_list.append(birth)\n",
    "        thou_list.append(birth_thou)\n",
    "\n",
    "    # Concatenate all dataframes in df_list\n",
    "    all_years_df = pd.concat(df_list)\n",
    "    birth_df = pd.concat(thou_list)\n",
    "\n",
    "    # Reset the index of all_years_df\n",
    "    all_years_df.reset_index(drop=True, inplace=True)\n",
    "    birth_df.reset_index(drop=True, inplace=True)\n",
    "\n",
    "    return all_years_df, fert_pop_dict, birth_dict, birth_thou_dict, birth_df\n"
   ]
  },
  {
   "cell_type": "code",
   "execution_count": null,
   "metadata": {},
   "outputs": [],
   "source": [
    "df, fert_pop_dict, birth_dict, birth_thou_dict, birth_df = consolidate_dataframe(data_years)"
   ]
  },
  {
   "cell_type": "code",
   "execution_count": null,
   "metadata": {},
   "outputs": [],
   "source": [
    "df.tail()"
   ]
  },
  {
   "cell_type": "code",
   "execution_count": null,
   "metadata": {},
   "outputs": [],
   "source": [
    "fig = px.line(df, x='Year', y='Count', color='State', title='Births by Year and State')\n",
    "fig.show()"
   ]
  },
  {
   "cell_type": "code",
   "execution_count": null,
   "metadata": {},
   "outputs": [],
   "source": [
    "birth_df.head()"
   ]
  },
  {
   "cell_type": "code",
   "execution_count": null,
   "metadata": {},
   "outputs": [],
   "source": [
    "birth_df.tail()"
   ]
  },
  {
   "cell_type": "code",
   "execution_count": null,
   "metadata": {},
   "outputs": [],
   "source": [
    "df_sum = df.groupby('Year')['Count'].sum().reset_index()\n",
    "fig = px.line(df_sum, x='Year', y='Count', title='Total Births by year in United States')\n",
    "fig.show()"
   ]
  },
  {
   "cell_type": "code",
   "execution_count": null,
   "metadata": {},
   "outputs": [],
   "source": [
    "target_state = df[df['State']=='Virginia']\n",
    "\n",
    "fig = px.line(target_state, x='Year', y='Count', title='Births by Year in Virginia')\n",
    "fig.show()"
   ]
  },
  {
   "cell_type": "code",
   "execution_count": null,
   "metadata": {},
   "outputs": [],
   "source": [
    "labor_2022 = fert_data.iloc[[10]]\n",
    "labor_2021 = fert_data.iloc[[21]]\n",
    "labor_2019 = fert_data.iloc[[32]]\n",
    "labor_2018 = fert_data.iloc[[43]]\n",
    "labor_2017 = fert_data.iloc[[54]]\n",
    "labor_2016 = fert_data.iloc[[65]]\n",
    "labor_2015 = fert_data.iloc[[76]]\n",
    "labor_2014 = fert_data.iloc[[87]]\n",
    "labor_2013 = fert_data.iloc[[98]]\n",
    "labor_2012 = fert_data.iloc[[109]]\n",
    "labor_2011 = fert_data.iloc[[120]]\n",
    "labor_2010 = fert_data.iloc[[131]]"
   ]
  },
  {
   "cell_type": "code",
   "execution_count": null,
   "metadata": {},
   "outputs": [],
   "source": [
    "labor_data_years = [(labor_2022, '2022'), (labor_2021, '2021'), (labor_2019, '2019'), \n",
    "              (labor_2018, '2018'), (labor_2017, '2017'), (labor_2016, '2016'), \n",
    "              (labor_2015, '2015'), (labor_2014, '2014'), (labor_2013, '2013'), \n",
    "              (labor_2012, '2012'), (labor_2011, '2011'), (labor_2010, '2010')]"
   ]
  },
  {
   "cell_type": "code",
   "execution_count": null,
   "metadata": {},
   "outputs": [],
   "source": [
    "labor_df, lab_fert_pop_dict, lab_birth_dict, lab_birth_thou_dict = consolidate_dataframe(labor_data_years)\n",
    "#labor_df.rename(columns={'Count': 'Employed'}, inplace=True)"
   ]
  },
  {
   "cell_type": "code",
   "execution_count": null,
   "metadata": {},
   "outputs": [],
   "source": [
    "labor_df.tail()"
   ]
  },
  {
   "cell_type": "code",
   "execution_count": null,
   "metadata": {},
   "outputs": [],
   "source": [
    "target_state_lab = labor_df[labor_df['State']=='Virginia']\n",
    "\n",
    "fig = px.line(target_state_lab, x='Year', y='Count', title='Women who gave birth in employment for Virginia')\n",
    "fig.show()"
   ]
  },
  {
   "cell_type": "code",
   "execution_count": null,
   "metadata": {},
   "outputs": [],
   "source": [
    "consol_df = pd.concat([df,labor_df])"
   ]
  },
  {
   "cell_type": "code",
   "execution_count": null,
   "metadata": {},
   "outputs": [],
   "source": [
    "consol_df.tail()"
   ]
  },
  {
   "cell_type": "code",
   "execution_count": null,
   "metadata": {},
   "outputs": [],
   "source": [
    "target_state = consol_df[consol_df['State']=='Virginia']\n",
    "# Create the line chart\n",
    "fig = px.line(target_state, x='Year', y='Count', color='Value', title='Births and Employment by Year and State')\n",
    "fig.show()"
   ]
  },
  {
   "cell_type": "code",
   "execution_count": null,
   "metadata": {},
   "outputs": [],
   "source": [
    "target_state = consol_df[consol_df['State']=='California']\n",
    "# Create the line chart\n",
    "fig = px.line(target_state, x='Year', y='Count', color='Value', title='Births and Employment by Year and State')\n",
    "fig.show()"
   ]
  },
  {
   "cell_type": "code",
   "execution_count": null,
   "metadata": {},
   "outputs": [],
   "source": [
    "# Merge the two dataframes\n",
    "merged_df = pd.merge(df, labor_df, on=['State', 'Code', 'Year'], suffixes=('_birth', '_labor'))\n",
    "\n",
    "# Calculate the spread\n",
    "merged_df['Spread'] = merged_df['Count_birth'] - merged_df['Count_labor']\n",
    "\n",
    "fig = px.line(merged_df, x='Year', y='Spread', color='State', title='Spread of Births and Labor by Year and State')\n",
    "fig.show()\n"
   ]
  },
  {
   "cell_type": "code",
   "execution_count": null,
   "metadata": {},
   "outputs": [],
   "source": [
    "target_state = merged_df[merged_df['State']=='California']\n",
    "fig = px.line(target_state, x='Year', y='Spread', color='State', title='Spread of Births and Labor by Year and State')\n",
    "fig.show()"
   ]
  },
  {
   "cell_type": "code",
   "execution_count": null,
   "metadata": {},
   "outputs": [],
   "source": []
  },
  {
   "cell_type": "code",
   "execution_count": null,
   "metadata": {},
   "outputs": [],
   "source": []
  },
  {
   "cell_type": "code",
   "execution_count": null,
   "metadata": {},
   "outputs": [],
   "source": [
    "fem_age_22 = fert_data.iloc[[2,3,4]]\n",
    "fem_age_22.head()"
   ]
  },
  {
   "cell_type": "code",
   "execution_count": null,
   "metadata": {},
   "outputs": [],
   "source": [
    "fem_age_21 = fert_data.iloc[[13,14, 15]]\n",
    "fem_age_21.head()"
   ]
  },
  {
   "cell_type": "code",
   "execution_count": null,
   "metadata": {},
   "outputs": [],
   "source": [
    "fem_age_19 = fert_data.iloc[[24, 25, 26]]\n",
    "fem_age_19.head()"
   ]
  },
  {
   "cell_type": "code",
   "execution_count": null,
   "metadata": {},
   "outputs": [],
   "source": [
    "fem_age_18 = fert_data.iloc[[35,36,37]]\n",
    "fem_age_18.head()"
   ]
  },
  {
   "cell_type": "code",
   "execution_count": null,
   "metadata": {},
   "outputs": [],
   "source": [
    "fem_age_17 = fert_data.iloc[[46, 47, 48]]\n",
    "fem_age_17.head()"
   ]
  },
  {
   "cell_type": "code",
   "execution_count": null,
   "metadata": {},
   "outputs": [],
   "source": [
    "fem_age_16 = fert_data.iloc[[57,58,59]]\n",
    "fem_age_16.head()"
   ]
  },
  {
   "cell_type": "code",
   "execution_count": null,
   "metadata": {},
   "outputs": [],
   "source": [
    "fem_age_15 = fert_data.iloc[[68,69,70]]\n",
    "fem_age_15.head()"
   ]
  },
  {
   "cell_type": "code",
   "execution_count": null,
   "metadata": {},
   "outputs": [],
   "source": [
    "fem_age_14 = fert_data.iloc[[79,80,81]]\n",
    "fem_age_14.head()"
   ]
  },
  {
   "cell_type": "code",
   "execution_count": null,
   "metadata": {},
   "outputs": [],
   "source": [
    "fem_age_13 = fert_data.iloc[[90, 91, 92]]\n",
    "fem_age_13.head()"
   ]
  },
  {
   "cell_type": "code",
   "execution_count": null,
   "metadata": {},
   "outputs": [],
   "source": [
    "fem_age_12 = fert_data.iloc[[101,102,103]]\n",
    "fem_age_12.head()"
   ]
  },
  {
   "cell_type": "code",
   "execution_count": null,
   "metadata": {},
   "outputs": [],
   "source": [
    "fem_age_11 = fert_data.iloc[[112,113,114]]\n",
    "fem_age_11.head()"
   ]
  },
  {
   "cell_type": "code",
   "execution_count": null,
   "metadata": {},
   "outputs": [],
   "source": [
    "fem_age_10 = fert_data.iloc[[123,124,125]]\n",
    "fem_age_10.head()"
   ]
  },
  {
   "cell_type": "code",
   "execution_count": null,
   "metadata": {},
   "outputs": [],
   "source": [
    "fem_stat_2022 = fert_data.iloc[[6,7]]\n",
    "\n",
    "fem_stat_2022.head()"
   ]
  }
 ],
 "metadata": {
  "kernelspec": {
   "display_name": "AT-Env",
   "language": "python",
   "name": "python3"
  },
  "language_info": {
   "codemirror_mode": {
    "name": "ipython",
    "version": 3
   },
   "file_extension": ".py",
   "mimetype": "text/x-python",
   "name": "python",
   "nbconvert_exporter": "python",
   "pygments_lexer": "ipython3",
   "version": "3.9.10"
  }
 },
 "nbformat": 4,
 "nbformat_minor": 2
}
