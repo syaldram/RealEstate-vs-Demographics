{
 "cells": [
  {
   "cell_type": "code",
   "execution_count": null,
   "metadata": {},
   "outputs": [],
   "source": [
    "from census import Census\n",
    "from us import states\n",
    "import requests\n",
    "import json\n",
    "import re\n",
    "import pandas as pd\n",
    "\n",
    "c = Census(\"f2877c84b6e99504f1db0dfe13977e1ccea6c04e\", year=2021)"
   ]
  },
  {
   "cell_type": "code",
   "execution_count": null,
   "metadata": {},
   "outputs": [],
   "source": [
    "print(states.MD.fips)\n",
    "print(states.lookup('48').abbr)"
   ]
  },
  {
   "cell_type": "code",
   "execution_count": null,
   "metadata": {},
   "outputs": [],
   "source": [
    "var_mal_age = ['B01001_003E','B01001_004E','B01001_005E','B01001_006E','B01001_007E','B01001_008E','B01001_009E','B01001_010E','B01001_011E','B01001_012E','B01001_013E','B01001_014E','B01001_015E','B01001_016E','B01001_017E','B01001_018E','B01001_019E','B01001_020E','B01001_021E','B01001_022E','B01001_023E','B01001_024E','B01001_025E']\n",
    "\n",
    "var_fem_age = ['B01001_027E','B01001_028E','B01001_029E','B01001_030E','B01001_031E','B01001_032E','B01001_033E','B01001_034E','B01001_035E','B01001_036E','B01001_037E','B01001_038E','B01001_039E','B01001_040E','B01001_041E','B01001_042E','B01001_043E','B01001_044E','B01001_045E','B01001_046E','B01001_047E','B01001_048E','B01001_049E']\n",
    "\n",
    "url = 'https://api.census.gov/data/2019/acs/acs5/variables.json'\n",
    "response = requests.get(url)\n",
    "data = json.loads(response.text)\n",
    "variables = data['variables']\n",
    "\n",
    "label_lst = []\n",
    "label_lst_fem = []\n",
    "\n",
    "test = variables['B01001_039E']['label']\n",
    "#print(test)\n",
    "\n",
    "for item in var_mal_age:\n",
    "    label = variables[item]['label']\n",
    "    new_label = re.search(r'\\d.*(?=\\syears)', label).group()\n",
    "    if 'and over' in new_label:\n",
    "        new_label = new_label.replace('and over', '+')\n",
    "    elif 'to' in new_label:\n",
    "        new_label = new_label.replace('to', '-')\n",
    "    elif 'and' in new_label:\n",
    "        new_label = new_label.replace('and', '-')\n",
    "    elif re.search(r'^\\d$', new_label):\n",
    "        new_label = f'0 - {new_label}'\n",
    "    labels = {\n",
    "        item: new_label\n",
    "    }\n",
    "\n",
    "    label_lst.append(labels)\n",
    "\n",
    "print(label_lst)\n",
    "\n",
    "for item in var_fem_age:\n",
    "    label = variables[item]['label']\n",
    "    new_label = re.search(r'\\d.*(?=\\syears)', label).group()\n",
    "    if 'and over' in new_label:\n",
    "        new_label = new_label.replace('and over', '+')\n",
    "    elif 'to' in new_label:\n",
    "        new_label = new_label.replace('to', '-')\n",
    "    elif 'and' in new_label:\n",
    "        new_label = new_label.replace('and', '-')\n",
    "    elif re.search(r'^\\d$', new_label):\n",
    "        new_label = f'0 - {new_label}'\n",
    "    labels = {\n",
    "        item: new_label\n",
    "    }\n",
    "\n",
    "    label_lst_fem.append(labels)\n",
    "\n",
    "print(label_lst_fem)"
   ]
  },
  {
   "cell_type": "code",
   "execution_count": null,
   "metadata": {},
   "outputs": [],
   "source": [
    "result_dict = {}\n",
    "\n",
    "for variables in label_lst:\n",
    "    for k, v in variables.items():\n",
    "        m_data = c.acs5.get(('NAME', k), {'for': 'state:{}'.format(states.VA.fips)})\n",
    "        result = m_data[0][k]\n",
    "        \n",
    "        age_range = v.split(' - ')\n",
    "        if len(age_range) == 2:\n",
    "            start_age = int(age_range[0])\n",
    "            end_age = int(age_range[1])\n",
    "        else:\n",
    "            start_age = end_age = int(age_range[0])\n",
    "        decade = f\"{start_age // 10 * 10} - {end_age // 10 * 10 + 9}\"\n",
    "        \n",
    "        result_dict[decade] = result_dict.get(decade, 0) + int(result)\n",
    "\n",
    "data_lst = [result_dict]\n",
    "\n",
    "print(data_lst)"
   ]
  },
  {
   "cell_type": "code",
   "execution_count": null,
   "metadata": {},
   "outputs": [],
   "source": [
    "\"\"\"Old code\n",
    "data_lst = []\n",
    "\n",
    "for variables in label_lst:\n",
    "    for k, v in variables.items():\n",
    "        m_data = c.acs5.get(('NAME', k), {'for': 'state:{}'.format(states.VA.fips)})\n",
    "        result = m_data[0][k]\n",
    "        result_dict = {\n",
    "            v: int(result)\n",
    "        }\n",
    "        \n",
    "        data_lst.append(result_dict)\n",
    "\n",
    "#print(data_lst)\"\"\""
   ]
  },
  {
   "cell_type": "code",
   "execution_count": null,
   "metadata": {},
   "outputs": [],
   "source": [
    "print(data_lst[5])"
   ]
  },
  {
   "cell_type": "code",
   "execution_count": null,
   "metadata": {},
   "outputs": [],
   "source": [
    "print(data_lst)"
   ]
  },
  {
   "cell_type": "code",
   "execution_count": null,
   "metadata": {},
   "outputs": [],
   "source": [
    "data_dict = {}\n",
    "for d in data_lst:\n",
    "    for key, value in d.items():\n",
    "        data_dict.setdefault(key, []).append(value)\n",
    "\n",
    "#print(data_dict)\n",
    "nes_dict = {\n",
    "    'Males': data_dict.values(),\n",
    "    'Age Group': data_dict.keys()\n",
    "}\n",
    "\n",
    "#print(nes_dict)\n",
    "\n",
    "df = pd.DataFrame(nes_dict)\n",
    "df = df.sort_index(ascending=False)\n",
    "\n",
    "print(df)"
   ]
  },
  {
   "cell_type": "code",
   "execution_count": null,
   "metadata": {},
   "outputs": [],
   "source": [
    "def femalePop(var_fem_age_lst):\n",
    "\n",
    "    url = 'https://api.census.gov/data/2019/acs/acs5/variables.json'\n",
    "    response = requests.get(url)\n",
    "    data = json.loads(response.text)\n",
    "    variables = data['variables']\n",
    "\n",
    "    label_lst = []\n",
    "\n",
    "    for item in var_fem_age_lst:\n",
    "        label = variables[item]['label']\n",
    "        new_label = re.search(r'\\d.*', label).group()\n",
    "\n",
    "        labels = {\n",
    "            item: new_label\n",
    "        }\n",
    "\n",
    "        label_lst.append(labels)\n",
    "\n",
    "    #print(label_lst)\n",
    "\n",
    "    data_lst = []\n",
    "\n",
    "    for variables in label_lst:\n",
    "        for k, v in variables.items():\n",
    "            m_data = c.acs5.get(('NAME', k), {'for': 'state:{}'.format(states.VA.fips)})\n",
    "            result = m_data[0][k]\n",
    "            result_dict = {\n",
    "                v: int(result)\n",
    "            }\n",
    "            data_lst.append(result_dict)\n",
    "\n",
    "    data_dict = {}\n",
    "    for d in data_lst:\n",
    "        for key, value in d.items():\n",
    "            data_dict.setdefault(key, []).append(value)\n",
    "\n",
    "    nes_dict = {\n",
    "    'Females': data_dict.values(),\n",
    "    'Age Group': data_dict.keys()\n",
    "    }\n",
    "    df = pd.DataFrame(nes_dict)\n",
    "    df = df.sort_values(by='Age Group', ascending=False)\n",
    "\n",
    "    #print(df)\n",
    "    return df"
   ]
  },
  {
   "cell_type": "code",
   "execution_count": null,
   "metadata": {},
   "outputs": [],
   "source": [
    "var_fem_age = ['B01001_027E','B01001_028E','B01001_029E','B01001_030E','B01001_031E','B01001_032E','B01001_033E','B01001_034E','B01001_035E','B01001_036E','B01001_037E','B01001_038E','B01001_039E','B01001_040E','B01001_041E','B01001_042E','B01001_043E','B01001_044E','B01001_045E','B01001_046E','B01001_047E','B01001_048E','B01001_049E']"
   ]
  },
  {
   "cell_type": "code",
   "execution_count": null,
   "metadata": {},
   "outputs": [],
   "source": [
    "df1 = df\n",
    "df1 = df1.explode('Males')\n",
    "\n",
    "df2 = femalePop(var_fem_age)\n",
    "df2 = df2.explode('Females')\n",
    "\n",
    "#result = pd.merge(df1, df2, left_index=True, right_index=True)\n",
    "result = pd.merge(df1, df2, on='Age Group')\n",
    "result = result.reindex(columns=['Age Group', 'Males', 'Females'])\n",
    "\n",
    "print(result)"
   ]
  },
  {
   "cell_type": "code",
   "execution_count": null,
   "metadata": {},
   "outputs": [],
   "source": [
    "result['Total'] = result['Males'] + result['Females']"
   ]
  },
  {
   "cell_type": "code",
   "execution_count": null,
   "metadata": {},
   "outputs": [],
   "source": [
    "result"
   ]
  },
  {
   "cell_type": "code",
   "execution_count": null,
   "metadata": {},
   "outputs": [],
   "source": [
    "total_pop = result['Total'].sum()\n",
    "total_pop\n",
    "\n",
    "total_state_pop = c.acs5.get(('NAME', 'B01003_001E'), {'for': 'state:{}'.format(states.VA.fips)})\n",
    "#print(total_state_pop)"
   ]
  },
  {
   "cell_type": "code",
   "execution_count": null,
   "metadata": {},
   "outputs": [],
   "source": [
    "check = total_pop - total_state_pop[0]['B01003_001E']\n",
    "print(check)"
   ]
  },
  {
   "cell_type": "markdown",
   "metadata": {},
   "source": [
    "# US Census Data Science"
   ]
  },
  {
   "cell_type": "markdown",
   "metadata": {},
   "source": [
    "1. Compare home ownership rates across states - looks at % owner-occupied housing units with a mortgage by state\n",
    "2. Analyze median household income differences across states - provides state level median household income estimates\n",
    "3. Assess housing affordability by state - can look at median home values compared to median income to evaluate affordability\n",
    "4. Identify most/least affordable states for housing - rank states by typical housing costs as a percentage of household income\n",
    "5. Evaluate real estate tax burdens by state - median real estate taxes paid compared to median income\n",
    "6. Assess mortgage debt levels - distribution of housing units with a mortgage across loan size buckets\n",
    "7. Identify states with highest mortgage debt - rank by % of units with mortgages and median mortgage amount\n",
    "8. Analyze trends in home values over time - compare median home values year-over-year from census data\n",
    "9. Segment states by predominant housing type - cluster analysis on housing structure types by state\n",
    "10. Predict home values based on housing characteristics - build a regression model to estimate home values\n",
    "11. Forecast mortgage interest rates - time series analysis and forecasting of mortgage rates\n",
    "12. Identify associations between demographics and home ownership - correlation analysis between ownership and factors like income, age etc."
   ]
  },
  {
   "cell_type": "code",
   "execution_count": null,
   "metadata": {},
   "outputs": [],
   "source": [
    "import seaborn as sns\n",
    "import pandas as pd\n",
    "import numpy as np\n",
    "import matplotlib.pyplot as plt\n",
    "import plotly.express as px\n",
    "import plotly.graph_objs as go \n",
    "from plotly.offline import download_plotlyjs, init_notebook_mode, plot, iplot\n",
    "import re\n",
    "\n",
    "%matplotlib inline\n",
    "init_notebook_mode(connected=True) "
   ]
  },
  {
   "cell_type": "code",
   "execution_count": null,
   "metadata": {},
   "outputs": [],
   "source": [
    "data_2022 = pd.read_csv('../Data/AverageHouseHoldSize2022.csv', index_col=0)\n",
    "data_2022= data_2022.transpose()\n",
    "data_2022 = data_2022.dropna(axis=1)\n",
    "\n",
    "data_2022.head()"
   ]
  },
  {
   "cell_type": "code",
   "execution_count": null,
   "metadata": {},
   "outputs": [],
   "source": [
    "data_2012 = pd.read_csv('../Data/AverageHouseHoldSize2012.csv', index_col=0)\n",
    "data_2012= data_2012.transpose()\n",
    "data_2012 = data_2012.dropna(axis=1)\n",
    "\n",
    "data_2012.head()"
   ]
  },
  {
   "cell_type": "code",
   "execution_count": null,
   "metadata": {},
   "outputs": [],
   "source": [
    "state_abbreviations = {\n",
    "'Alabama': 'AL',\n",
    "'Alaska': 'AK',\n",
    "'Arizona': 'AZ',\n",
    "'Arkansas': 'AR',\n",
    "'California': 'CA',\n",
    "'Colorado': 'CO',\n",
    "'Connecticut': 'CT',\n",
    "'Delaware': 'DE',\n",
    "'District of Columbia': 'DC',\n",
    "'Florida': 'FL',\n",
    "'Georgia': 'GA',\n",
    "'Hawaii': 'HI',\n",
    "'Idaho': 'ID',\n",
    "'Illinois': 'IL',\n",
    "'Indiana': 'IN',\n",
    "'Iowa': 'IA',\n",
    "'Kansas': 'KS',\n",
    "'Kentucky': 'KY',\n",
    "'Louisiana': 'LA',\n",
    "'Maine': 'ME',\n",
    "'Maryland': 'MD',\n",
    "'Massachusetts': 'MA',\n",
    "'Michigan': 'MI',\n",
    "'Minnesota': 'MN',\n",
    "'Mississippi': 'MS',\n",
    "'Missouri': 'MO',\n",
    "'Montana': 'MT',\n",
    "'Nebraska': 'NE',\n",
    "'Nevada': 'NV',\n",
    "'New Hampshire': 'NH',\n",
    "'New Jersey': 'NJ',\n",
    "'New Mexico': 'NM',\n",
    "'New York': 'NY',\n",
    "'North Carolina': 'NC',\n",
    "'North Dakota': 'ND',\n",
    "'Ohio': 'OH',\n",
    "'Oklahoma': 'OK',\n",
    "'Oregon': 'OR',\n",
    "'Pennsylvania': 'PA',\n",
    "'Rhode Island': 'RI',\n",
    "'South Carolina': 'SC',\n",
    "'South Dakota': 'SD',\n",
    "'Tennessee': 'TN',\n",
    "'Texas': 'TX',\n",
    "'Utah': 'UT',\n",
    "'Vermont': 'VT',\n",
    "'Virginia': 'VA',\n",
    "'Washington': 'WA',\n",
    "'West Virginia': 'WV',\n",
    "'Wisconsin': 'WI',\n",
    "'Wyoming': 'WY',\n",
    "'Puerto Rico': 'PR'\n",
    "}"
   ]
  },
  {
   "cell_type": "code",
   "execution_count": null,
   "metadata": {},
   "outputs": [],
   "source": [
    "def dataframe_cleanup(df):\n",
    "    \n",
    "    #Clean up dataframe columns\n",
    "    dict_data = df.to_dict()\n",
    "\n",
    "    new_dict = {'State': [], 'Owner_occupied': [], 'Renter_occupied': []}\n",
    "    for k, v in dict_data.items():\n",
    "        if k=='Owner occupied':\n",
    "            new_dict['State'].extend(list(v.keys())),\n",
    "            new_dict['Owner_occupied'].extend(v.values())\n",
    "\n",
    "        if k=='Renter occupied':\n",
    "            new_dict['Renter_occupied'].extend(v.values())\n",
    "\n",
    "\n",
    "    #Add state abbreviations to the dataframe column\n",
    "    df = pd.DataFrame(new_dict, columns=['State', 'Owner_occupied','Renter_occupied'])\n",
    "    df['Code'] = df['State'].map(state_abbreviations)\n",
    "            \n",
    "    return df"
   ]
  },
  {
   "cell_type": "code",
   "execution_count": null,
   "metadata": {},
   "outputs": [],
   "source": [
    "df_2022 = dataframe_cleanup(data_2022)"
   ]
  },
  {
   "cell_type": "code",
   "execution_count": null,
   "metadata": {},
   "outputs": [],
   "source": [
    "df_2022.head()"
   ]
  },
  {
   "cell_type": "code",
   "execution_count": null,
   "metadata": {},
   "outputs": [],
   "source": [
    "#Make choropleth map\n",
    "\n",
    "def make_map(df, data_year: str):\n",
    "\n",
    "    data = dict(type = 'choropleth',\n",
    "                colorscale = 'Portland',\n",
    "                locations = df['Code'],\n",
    "                locationmode = 'USA-states',\n",
    "                z=df['Owner_occupied'],\n",
    "                colorbar = {'title':'Average Number of People'})\n",
    "\n",
    "    layout = dict(\n",
    "        title = {'text': f'{data_year} US Average Household Size by Home Owner', 'x':0.5, 'xanchor': 'center'},\n",
    "        geo = dict(scope = 'usa'),\n",
    "        autosize = True,\n",
    "        width = 800,\n",
    "        height = 600,\n",
    "    )\n",
    "\n",
    "    choromap_own = go.Figure(data = [data],layout = layout)\n",
    "\n",
    "    data_rent = dict(type = 'choropleth',\n",
    "                colorscale = 'Portland',\n",
    "                locations = df['Code'],\n",
    "                locationmode = 'USA-states',\n",
    "                z=df['Renter_occupied'],\n",
    "                colorbar = {'title':'Average Number of People'})\n",
    "\n",
    "    layout = dict(\n",
    "        title = {'text': f'{data_year} US Average Household Size by Renter', 'x':0.5, 'xanchor': 'center'},\n",
    "        geo = dict(scope = 'usa'),\n",
    "        autosize = True,\n",
    "        width = 800,\n",
    "        height = 600,\n",
    "    )\n",
    "\n",
    "    choromap = go.Figure(data = [data_rent],layout = layout)\n",
    "\n",
    "    iplot(choromap_own)\n",
    "    iplot(choromap)"
   ]
  },
  {
   "cell_type": "code",
   "execution_count": null,
   "metadata": {},
   "outputs": [],
   "source": [
    "make_map(df_2022, '2022')"
   ]
  },
  {
   "cell_type": "code",
   "execution_count": null,
   "metadata": {},
   "outputs": [],
   "source": [
    "df_2012 = dataframe_cleanup(data_2012)"
   ]
  },
  {
   "cell_type": "code",
   "execution_count": null,
   "metadata": {},
   "outputs": [],
   "source": [
    "df_2012.head()"
   ]
  },
  {
   "cell_type": "code",
   "execution_count": null,
   "metadata": {},
   "outputs": [],
   "source": [
    "make_map(df_2012, '2012')"
   ]
  },
  {
   "cell_type": "code",
   "execution_count": null,
   "metadata": {},
   "outputs": [],
   "source": [
    "def make_bar_graph(df, state: str, data_year: str):\n",
    "    #grab the state for comparison\n",
    "    target_state = df[df['State']==state].iloc[0]\n",
    "    #conver series to dataframe\n",
    "    target_state = target_state.to_frame().T\n",
    "\n",
    "    # Melt DataFrame to have one row per category\n",
    "    df_melt = target_state.melt(id_vars=['State', 'Code'], value_vars=['Owner_occupied', 'Renter_occupied'], var_name='Category', value_name='Avg Household Size')\n",
    "\n",
    "    # Create the bar chart\n",
    "    fig = px.bar(df_melt, x='Category', y='Avg Household Size', color='Category', title=f'{data_year} Comparison of Owner Occupied vs Renter Occupied for {state}')\n",
    "    fig.show()\n"
   ]
  },
  {
   "cell_type": "code",
   "execution_count": null,
   "metadata": {},
   "outputs": [],
   "source": [
    "make_bar_graph(df_2012, 'California', '2012')"
   ]
  },
  {
   "cell_type": "markdown",
   "metadata": {},
   "source": [
    "# Population Pyramid"
   ]
  },
  {
   "cell_type": "code",
   "execution_count": null,
   "metadata": {},
   "outputs": [],
   "source": [
    "def clean_headers(val):\n",
    "    if isinstance(val, str):\n",
    "        val = val.split(\"!!\")[0]\n",
    "        return val\n",
    "    else:\n",
    "        return val"
   ]
  },
  {
   "cell_type": "code",
   "execution_count": null,
   "metadata": {},
   "outputs": [],
   "source": [
    "data_pop = pd.read_csv('../Data/SexByAge2022.csv', index_col=0)\n",
    "data_pop = data_pop.rename(columns=clean_headers)\n",
    "data_pop.head()"
   ]
  },
  {
   "cell_type": "code",
   "execution_count": null,
   "metadata": {},
   "outputs": [],
   "source": [
    "male_data = data_pop.iloc[[2,3,4,5,6,7,8,9,10,11,12,13,14,15,16,17,18,19,20,21,22,23,24]]"
   ]
  },
  {
   "cell_type": "code",
   "execution_count": null,
   "metadata": {},
   "outputs": [],
   "source": [
    "female_data = data_pop.iloc[[26,27,28,29,30,31,32,33,34,35,36,37,38,39,40,41,42,43,44,45,46,47,48]]"
   ]
  },
  {
   "cell_type": "code",
   "execution_count": null,
   "metadata": {},
   "outputs": [],
   "source": [
    "male_data.reset_index()"
   ]
  },
  {
   "cell_type": "code",
   "execution_count": null,
   "metadata": {},
   "outputs": [],
   "source": [
    "female_data.reset_index()"
   ]
  },
  {
   "cell_type": "code",
   "execution_count": null,
   "metadata": {},
   "outputs": [],
   "source": [
    "def cleanup_dataframe(df, gender: str):\n",
    "\n",
    "    dict_data = df.to_dict()\n",
    "\n",
    "    #Clean up label column for white spaces and convert population size to integers\n",
    "    cleaned_dict = {state: {key.strip(): int(float(value.replace(',',''))) for key, value in data.items()} for state, data in dict_data.items()}\n",
    "\n",
    "    final_dict = {'State': [], 'Age Group': [], gender: []}\n",
    "\n",
    "    #Clean up age_group labels\n",
    "    age_groups = ['0 - 4','5 - 9','10 - 14','15 - 19' ,'20 - 24','25 - 29','30 - 34', '35 - 39','40 - 44', '45 - 49','50 - 54','55 - 59','60 - 64','65 - 69','70 - 74','75 - 79', '80 - 84', '85 +']\n",
    "\n",
    "    for state, data in cleaned_dict.items():\n",
    "        gender_data = [data['Under 5 years'], data['5 to 9 years'], \n",
    "                data['10 to 14 years'],(data['15 to 17 years'] + data['18 and 19 years']),\n",
    "                (data['20 years'] + data['21 years'] + data['22 to 24 years']), data['25 to 29 years'],\n",
    "                data['30 to 34 years'],data['35 to 39 years'],\n",
    "                data['40 to 44 years'], data['45 to 49 years'],\n",
    "                data['50 to 54 years'], data['55 to 59 years'],\n",
    "                (data['60 and 61 years'] + data['62 to 64 years']),(data['65 and 66 years'] + data['67 to 69 years']),\n",
    "                data['70 to 74 years'],data['75 to 79 years'],\n",
    "                data['80 to 84 years'],data['85 years and over']]\n",
    "        \n",
    "        for age_group, g in zip(age_groups, gender_data):\n",
    "            final_dict['State'].append(state)\n",
    "            final_dict['Age Group'].append(age_group)\n",
    "            final_dict[gender].append(g)\n",
    "\n",
    "    df = pd.DataFrame(final_dict)\n",
    "\n",
    "    return df"
   ]
  },
  {
   "cell_type": "code",
   "execution_count": null,
   "metadata": {},
   "outputs": [],
   "source": [
    "df_male_2022 = cleanup_dataframe(male_data,'Males')\n",
    "df_female_2022 = cleanup_dataframe(male_data,'Females')\n"
   ]
  },
  {
   "cell_type": "code",
   "execution_count": null,
   "metadata": {},
   "outputs": [],
   "source": [
    "df_male_2022.head()"
   ]
  },
  {
   "cell_type": "code",
   "execution_count": null,
   "metadata": {},
   "outputs": [],
   "source": [
    "def graph_pyramid(df_male,df_female,state: str, data_year: str):\n",
    "\n",
    "    df = pd.merge(df_male, df_female)\n",
    "    #Add State Code\n",
    "    df['Code'] = df['State'].map(state_abbreviations)\n",
    "\n",
    "    target_state = df.loc[df['State']==state]\n",
    "    \n",
    "    y = target_state['Age Group']\n",
    "    x1 = target_state['Males']\n",
    "    x2 = target_state['Females'] * -1\n",
    "    state = target_state['State'].iloc[0]\n",
    "    state_code = target_state['Code'].iloc[0]\n",
    "\n",
    "    #Create instance for chart figure\n",
    "\n",
    "    fig = go.Figure()\n",
    "\n",
    "    #Add Trace to Figure\n",
    "    fig.add_trace(go.Bar(\n",
    "        y = y,\n",
    "        x = x1,\n",
    "        name = 'Males',\n",
    "        orientation='h'\n",
    "    ))\n",
    "\n",
    "    #Add Trace to figure\n",
    "    fig.add_trace(go.Bar(\n",
    "        y = y,\n",
    "        x = x2,\n",
    "        name = 'Females',\n",
    "        orientation='h'\n",
    "    ))\n",
    "\n",
    "    # Find the minimum and maximum values in x1 and x2\n",
    "    min_val = min(min(x1), min(x2))\n",
    "    max_val = max(max(x1), max(x2))\n",
    "\n",
    "    # Create a range of values for the x-axis ticks\n",
    "    tickvals = list(range(min_val, max_val, int((max_val - min_val) / 5)))\n",
    "\n",
    "    def human_format(num):\n",
    "        magnitude = 0\n",
    "        while abs(num) >= 1000:\n",
    "            magnitude += 1\n",
    "            num /= 1000.0\n",
    "        return '%.1f%s' % (num, ['', 'K', 'M', 'G', 'T', 'P'][magnitude])\n",
    "\n",
    "    #Update the Title_suffix\n",
    "    max_val = max(max(x1), max(x2))\n",
    "    if abs(max_val) >= 10**6:\n",
    "        title_suffix = 'in Millions'\n",
    "    elif abs(max_val) >= 10**3:\n",
    "        title_suffix = 'in Thousands'\n",
    "    else:\n",
    "        title_suffix = ''\n",
    "\n",
    "    #Update Figure Layout\n",
    "    fig.update_layout(\n",
    "        template = 'plotly_white',\n",
    "        title = f'Age Pyramid {state} {data_year}',\n",
    "        title_font_size = 24,\n",
    "        barmode = 'relative',\n",
    "        bargap =0.0,\n",
    "        bargroupgap =0,\n",
    "        height = 700,\n",
    "        width = 1400,\n",
    "        xaxis= dict(\n",
    "            tickvals=tickvals,\n",
    "            ticktext=[human_format(abs(i)) for i in tickvals],\n",
    "            title = 'Populations ' + title_suffix,\n",
    "            title_font_size=14\n",
    "        )\n",
    "    )\n",
    "\n",
    "    #Plot Figure\n",
    "    fig.show()\n",
    "\n",
    "\n"
   ]
  },
  {
   "cell_type": "code",
   "execution_count": null,
   "metadata": {},
   "outputs": [],
   "source": [
    "graph_pyramid(df_male_2022,df_female_2022,'California', '2022')"
   ]
  },
  {
   "cell_type": "code",
   "execution_count": null,
   "metadata": {},
   "outputs": [],
   "source": [
    "data_pop = pd.read_csv('../Data/SexByAge2012.csv', index_col=0)\n",
    "data_pop = data_pop.rename(columns=clean_headers)\n",
    "data_pop.head()"
   ]
  },
  {
   "cell_type": "code",
   "execution_count": null,
   "metadata": {},
   "outputs": [],
   "source": [
    "male_data = data_pop.iloc[[2,3,4,5,6,7,8,9,10,11,12,13,14,15,16,17,18,19,20,21,22,23,24]]"
   ]
  },
  {
   "cell_type": "code",
   "execution_count": null,
   "metadata": {},
   "outputs": [],
   "source": [
    "female_data = data_pop.iloc[[26,27,28,29,30,31,32,33,34,35,36,37,38,39,40,41,42,43,44,45,46,47,48]]"
   ]
  },
  {
   "cell_type": "code",
   "execution_count": null,
   "metadata": {},
   "outputs": [],
   "source": [
    "male_data.reset_index()"
   ]
  },
  {
   "cell_type": "code",
   "execution_count": null,
   "metadata": {},
   "outputs": [],
   "source": [
    "female_data.reset_index()"
   ]
  },
  {
   "cell_type": "code",
   "execution_count": null,
   "metadata": {},
   "outputs": [],
   "source": [
    "df_male_2012 = cleanup_dataframe(male_data,'Males')\n",
    "df_female_2012 = cleanup_dataframe(male_data,'Females')"
   ]
  },
  {
   "cell_type": "code",
   "execution_count": null,
   "metadata": {},
   "outputs": [],
   "source": [
    "graph_pyramid(df_male_2012,df_female_2012,'California', '2012')"
   ]
  },
  {
   "cell_type": "markdown",
   "metadata": {},
   "source": [
    "# Financial Mortgage Data"
   ]
  },
  {
   "cell_type": "code",
   "execution_count": null,
   "metadata": {},
   "outputs": [],
   "source": [
    "def clean_mortgage_headers(val):\n",
    "    if isinstance(val, str):\n",
    "        if 'Percent' in val:\n",
    "            val = val.split(\"!!\")[0]\n",
    "            val = val + \" Percent\"\n",
    "        else:\n",
    "            val = val.split(\"!!\")[0]\n",
    "        return val\n",
    "    else:\n",
    "        return val"
   ]
  },
  {
   "cell_type": "code",
   "execution_count": null,
   "metadata": {},
   "outputs": [],
   "source": [
    "mortgage_data = pd.read_csv('../Data/Financial_Mortgate_Data_2022.csv', index_col=0)\n",
    "mortgage_data = mortgage_data.rename(columns=clean_mortgage_headers)\n",
    "mortgage_data.head()"
   ]
  },
  {
   "cell_type": "code",
   "execution_count": null,
   "metadata": {},
   "outputs": [],
   "source": [
    "home_value = mortgage_data.iloc[[2,3,4,5,6,7,8,9]]"
   ]
  },
  {
   "cell_type": "code",
   "execution_count": null,
   "metadata": {},
   "outputs": [],
   "source": [
    "def convert_value(value):\n",
    "    if '%' in value:\n",
    "        return float(value.replace('%', '')) / 100  # Convert percentage to a decimal\n",
    "    else:\n",
    "        return int(value.replace(',', ''))  # Remove commas and convert to integer"
   ]
  },
  {
   "cell_type": "code",
   "execution_count": null,
   "metadata": {},
   "outputs": [],
   "source": [
    "def dataframe_sanitize(df):\n",
    "    dict_mortgage = df.to_dict()\n",
    "    cleaned_dict = {state: {key.strip(): convert_value(value) for key, value in data.items()} for state, data in dict_mortgage.items()}\n",
    "\n",
    "    # Clean up dataframe columns\n",
    "    final_list = []\n",
    "    median_dict = {}  # Dictionary to store 'Median (dollars)' for each state\n",
    "    for state, data in cleaned_dict.items():\n",
    "        if 'Percent' not in state:\n",
    "            state_percent = cleaned_dict.get(state + ' Percent', {})\n",
    "            for value, unit in data.items():\n",
    "                if value != 'Median (dollars)':\n",
    "                    final_dict = {}\n",
    "                    final_dict['State'] = state\n",
    "                    final_dict['Value'] = value\n",
    "                    final_dict['Units'] = unit\n",
    "                    final_dict['unit_percent'] = state_percent.get(value)\n",
    "                    final_list.append(final_dict)\n",
    "                else:\n",
    "                    median_dict[state] = unit  # Store 'Median (dollars)' in median_dict\n",
    "\n",
    "    df = pd.DataFrame(final_list)\n",
    "    df['Code'] = df['State'].map(state_abbreviations)\n",
    "\n",
    "    # Create a separate DataFrame for 'Median'\n",
    "    median_df = pd.DataFrame(list(median_dict.items()), columns=['State', 'Median'])\n",
    "    median_df['Code'] = median_df['State'].map(state_abbreviations)\n",
    "\n",
    "    return df, median_df"
   ]
  },
  {
   "cell_type": "code",
   "execution_count": null,
   "metadata": {},
   "outputs": [],
   "source": [
    "df, df_median = dataframe_sanitize(home_value)"
   ]
  },
  {
   "cell_type": "code",
   "execution_count": null,
   "metadata": {},
   "outputs": [],
   "source": [
    "df.head()"
   ]
  },
  {
   "cell_type": "code",
   "execution_count": null,
   "metadata": {},
   "outputs": [],
   "source": [
    "df[df['State']=='Alabama']"
   ]
  },
  {
   "cell_type": "code",
   "execution_count": null,
   "metadata": {},
   "outputs": [],
   "source": [
    "def graph_bar(df, state: str, data_year: str):\n",
    "    target_state = df[df['State']==state]\n",
    "    # Create the bar chart\n",
    "    fig = px.bar(target_state, x='Value', y='Units', color='Value', title=f'{data_year} Number of Housing Units by Cost in {state}')\n",
    "    fig.update_xaxes(title_text='Home Value')\n",
    "    fig.update_yaxes(title_text='Number of Houses')\n",
    "    fig.show()\n"
   ]
  },
  {
   "cell_type": "code",
   "execution_count": null,
   "metadata": {},
   "outputs": [],
   "source": [
    "graph_bar(df,'Florida','2022')"
   ]
  },
  {
   "cell_type": "code",
   "execution_count": null,
   "metadata": {},
   "outputs": [],
   "source": [
    "def graph_bar_median_price(df, data_year: str):\n",
    "    # Create the bar chart\n",
    "    fig = px.bar(df, x='State', y='Median', color='State', title=f'{data_year} Median Price of Homes in US')\n",
    "    fig.update_xaxes(title_text='State')\n",
    "    fig.update_yaxes(title_text='Median Price')\n",
    "    fig.show()"
   ]
  },
  {
   "cell_type": "code",
   "execution_count": null,
   "metadata": {},
   "outputs": [],
   "source": [
    "df_median.head()"
   ]
  },
  {
   "cell_type": "code",
   "execution_count": null,
   "metadata": {},
   "outputs": [],
   "source": [
    "graph_bar_median_price(df_median, '2022')"
   ]
  },
  {
   "cell_type": "markdown",
   "metadata": {},
   "source": [
    "# Mortgage Status"
   ]
  },
  {
   "cell_type": "code",
   "execution_count": null,
   "metadata": {},
   "outputs": [],
   "source": [
    "mortgage_status = mortgage_data.iloc[[12,13,14,15,16]]"
   ]
  },
  {
   "cell_type": "code",
   "execution_count": null,
   "metadata": {},
   "outputs": [],
   "source": [
    "mortgage_status"
   ]
  },
  {
   "cell_type": "code",
   "execution_count": null,
   "metadata": {},
   "outputs": [],
   "source": [
    "df, df_median = dataframe_sanitize(mortgage_status)"
   ]
  },
  {
   "cell_type": "code",
   "execution_count": null,
   "metadata": {},
   "outputs": [],
   "source": [
    "df.head()"
   ]
  },
  {
   "cell_type": "code",
   "execution_count": null,
   "metadata": {},
   "outputs": [],
   "source": [
    "def graph_pie(df,state:str,data_year: str):\n",
    "    target_state = df[df['State']==state]\n",
    "    # Create the bar chart\n",
    "    fig = px.pie(target_state, values='Units', names='Value', title=f'{data_year} Number of Houses by Mortgage Type in {state}')\n",
    "    fig.show()"
   ]
  },
  {
   "cell_type": "code",
   "execution_count": null,
   "metadata": {},
   "outputs": [],
   "source": [
    "graph_pie(df,'California','2022')"
   ]
  },
  {
   "cell_type": "markdown",
   "metadata": {},
   "source": [
    "# Household Income"
   ]
  },
  {
   "cell_type": "code",
   "execution_count": null,
   "metadata": {},
   "outputs": [],
   "source": [
    "household_income = mortgage_data.iloc[[18,19,20,21,22,23,24,25,26]]"
   ]
  },
  {
   "cell_type": "code",
   "execution_count": null,
   "metadata": {},
   "outputs": [],
   "source": [
    "def dataframe_sanitize_income(df):\n",
    "    \n",
    "    dict_mortgage = df.to_dict()\n",
    "    cleaned_dict = {state: {key.strip(): convert_value(value) for key, value in data.items()} for state, data in dict_mortgage.items()}\n",
    "\n",
    "    #Clean up dataframe columns\n",
    "    final_list = []\n",
    "    median_dict = {}  # Dictionary to store 'Median household income (dollars)' for each state\n",
    "    for state, data in cleaned_dict.items():\n",
    "        if 'Percent' not in state:\n",
    "            state_percent = cleaned_dict.get(state + ' Percent', {})\n",
    "            for value, owners in data.items():\n",
    "                if value != 'Median household income (dollars)':\n",
    "                    final_dict = {}\n",
    "                    final_dict['State'] = state\n",
    "                    final_dict['Value'] = value\n",
    "                    final_dict['Owners'] = owners\n",
    "                    final_dict['Owner_percent'] = state_percent.get(value)\n",
    "                    final_list.append(final_dict)\n",
    "                else:\n",
    "                    median_dict[state] = owners  # Store 'Median household income (dollars)' in median_dict\n",
    "    \n",
    "    df = pd.DataFrame(final_list)\n",
    "    df['Code'] = df['State'].map(state_abbreviations)\n",
    "\n",
    "    # Create a separate DataFrame for 'Median'\n",
    "    median_df = pd.DataFrame(list(median_dict.items()), columns=['State', 'Median'])\n",
    "    median_df['Code'] = median_df['State'].map(state_abbreviations)\n",
    "    \n",
    "\n",
    "    return df, median_df"
   ]
  },
  {
   "cell_type": "code",
   "execution_count": null,
   "metadata": {},
   "outputs": [],
   "source": [
    "df, df_median = dataframe_sanitize_income(household_income)\n",
    "df_median = df_median.sort_values('Median')\n",
    "df.head()\n",
    "df_median.head()"
   ]
  },
  {
   "cell_type": "code",
   "execution_count": null,
   "metadata": {},
   "outputs": [],
   "source": [
    "def chart_income(df, state:str,data_year:str):\n",
    "\n",
    "    target_state = df[df['State']==state]\n",
    "    fig = px.bar(target_state, x=\"Owners\", y=\"Value\", orientation='h', title=f'{data_year} Number of Homeowners with Household Income in {state}')\n",
    "    fig.update_xaxes(title_text='Number of Homeowners')\n",
    "    fig.update_yaxes(title_text='Household Income')\n",
    "    fig.show()\n",
    "\n",
    "    fig = px.pie(target_state, values='Owners', names='Value', title=f'{data_year} Percent of Homeowners by Household Income in {state}')\n",
    "    fig.show()"
   ]
  },
  {
   "cell_type": "code",
   "execution_count": null,
   "metadata": {},
   "outputs": [],
   "source": [
    "chart_income(df,'Alabama', '2022')"
   ]
  },
  {
   "cell_type": "code",
   "execution_count": null,
   "metadata": {},
   "outputs": [],
   "source": [
    "def chart_income_median(df, data_year:str):\n",
    "    fig = px.bar(df, x=\"State\", y=\"Median\", color='State', title=f'{data_year} Median Household Income by Homeowners in US')\n",
    "    fig.update_xaxes(title_text='State')\n",
    "    fig.update_yaxes(title_text='Median Household Income')\n",
    "    fig.show()\n",
    "    "
   ]
  },
  {
   "cell_type": "code",
   "execution_count": null,
   "metadata": {},
   "outputs": [],
   "source": [
    "chart_income_median(df_median, '2022')"
   ]
  },
  {
   "cell_type": "markdown",
   "metadata": {},
   "source": [
    "# Monthly Mortgage Payments"
   ]
  },
  {
   "cell_type": "code",
   "execution_count": null,
   "metadata": {},
   "outputs": [],
   "source": [
    "monthly_mortgage = mortgage_data.iloc[[34,35,36,37,38,39,40,41,42,43,44]]"
   ]
  },
  {
   "cell_type": "code",
   "execution_count": null,
   "metadata": {},
   "outputs": [],
   "source": [
    "monthly_mortgage"
   ]
  },
  {
   "cell_type": "code",
   "execution_count": null,
   "metadata": {},
   "outputs": [],
   "source": [
    "df, df_median = dataframe_sanitize(monthly_mortgage)"
   ]
  },
  {
   "cell_type": "code",
   "execution_count": null,
   "metadata": {},
   "outputs": [],
   "source": [
    "df.head()"
   ]
  },
  {
   "cell_type": "code",
   "execution_count": null,
   "metadata": {},
   "outputs": [],
   "source": [
    "def graph_bar_pmt(df, state: str, data_year: str):\n",
    "    target_state = df[df['State']==state]\n",
    "    # Create the bar chart\n",
    "    fig = px.bar(target_state, x='Value', y='Units', color='Value', title=f'{data_year} Number of Homes by Monthly Mortgage Payments in {state}')\n",
    "    fig.update_xaxes(title_text='Monthly Mortgage')\n",
    "    fig.update_yaxes(title_text='Number of Houses')\n",
    "    fig.show()"
   ]
  },
  {
   "cell_type": "code",
   "execution_count": null,
   "metadata": {},
   "outputs": [],
   "source": [
    "graph_bar_pmt(df,'Virginia', '2022')"
   ]
  },
  {
   "cell_type": "code",
   "execution_count": null,
   "metadata": {},
   "outputs": [],
   "source": [
    "def graph_bar_pmt_median(df, data_year: str):\n",
    "    # Create the bar chart\n",
    "    fig = px.bar(df, x='State', y='Median', color='State', title=f'{data_year} Median Monthly Mortgage Payments in US')\n",
    "    fig.update_xaxes(title_text='State')\n",
    "    fig.update_yaxes(title_text='Median Monthly Payment')\n",
    "    fig.show()"
   ]
  },
  {
   "cell_type": "code",
   "execution_count": null,
   "metadata": {},
   "outputs": [],
   "source": [
    "graph_bar_pmt_median(df_median, '2022')"
   ]
  },
  {
   "cell_type": "markdown",
   "metadata": {},
   "source": [
    "# Monthly Mortgage as percent of Income"
   ]
  },
  {
   "cell_type": "code",
   "execution_count": null,
   "metadata": {},
   "outputs": [],
   "source": [
    "#monthly_mortgage_to_income = mortgage_data.iloc[[46,47,48,49,50,51,52,53,54,55,56,57,58,59,60,61,62,63,64,65,66]]"
   ]
  },
  {
   "cell_type": "markdown",
   "metadata": {},
   "source": [
    "# Real Estate Taxes"
   ]
  },
  {
   "cell_type": "code",
   "execution_count": null,
   "metadata": {},
   "outputs": [],
   "source": [
    "real_estate_tax = mortgage_data.iloc[[68,69,70,71,72]]"
   ]
  },
  {
   "cell_type": "code",
   "execution_count": null,
   "metadata": {},
   "outputs": [],
   "source": [
    "real_estate_tax"
   ]
  },
  {
   "cell_type": "code",
   "execution_count": null,
   "metadata": {},
   "outputs": [],
   "source": [
    "def dataframe_sanitize_re(df):\n",
    "    \n",
    "    dict_mortgage = df.to_dict()\n",
    "    cleaned_dict = {state: {key.strip(): convert_value(value) for key, value in data.items()} for state, data in dict_mortgage.items()}\n",
    "\n",
    "    #Clean up dataframe columns\n",
    "    final_list = []\n",
    "    median_dict = {}  # Dictionary to store 'Median (dollars)' for each state\n",
    "    for state, data in cleaned_dict.items():\n",
    "        if 'Percent' not in state:\n",
    "            state_percent = cleaned_dict.get(state + ' Percent', {})\n",
    "            for value, unit in data.items():\n",
    "                if value != 'Median (dollars)':\n",
    "                    final_dict = {}\n",
    "                    final_dict['State'] = state\n",
    "                    final_dict['Tax'] = value\n",
    "                    final_dict['Units'] = unit\n",
    "                    final_dict['unit_percent'] = state_percent.get(value)\n",
    "                    final_list.append(final_dict)\n",
    "                else:\n",
    "                    median_dict[state] = unit  # Store 'Median (dollars)' in median_dict\n",
    "    \n",
    "    df = pd.DataFrame(final_list)\n",
    "    df['Code'] = df['State'].map(state_abbreviations)\n",
    "\n",
    "    # Create a separate DataFrame for 'Median'\n",
    "    median_df = pd.DataFrame(list(median_dict.items()), columns=['State', 'Median'])\n",
    "    median_df['Code'] = median_df['State'].map(state_abbreviations)\n",
    "\n",
    "    return df, median_df"
   ]
  },
  {
   "cell_type": "code",
   "execution_count": null,
   "metadata": {},
   "outputs": [],
   "source": [
    "df, df_median = dataframe_sanitize_re(real_estate_tax)"
   ]
  },
  {
   "cell_type": "code",
   "execution_count": null,
   "metadata": {},
   "outputs": [],
   "source": [
    "df.head()"
   ]
  },
  {
   "cell_type": "code",
   "execution_count": null,
   "metadata": {},
   "outputs": [],
   "source": [
    "def graph_pie_tax(df,state:str,data_year: str):\n",
    "    target_state = df[df['State']==state]\n",
    "    # Create the bar chart\n",
    "    fig = px.pie(target_state, values='Units', names='Tax', title=f'{data_year} Real Estate Taxes Paid by Household in {state}')\n",
    "    fig.show()"
   ]
  },
  {
   "cell_type": "code",
   "execution_count": null,
   "metadata": {},
   "outputs": [],
   "source": [
    "graph_pie_tax(df,'Virginia', '2022')"
   ]
  },
  {
   "cell_type": "code",
   "execution_count": null,
   "metadata": {},
   "outputs": [],
   "source": [
    "df_median.head()"
   ]
  },
  {
   "cell_type": "markdown",
   "metadata": {},
   "source": [
    "# Owner occupied Housing Units"
   ]
  },
  {
   "cell_type": "code",
   "execution_count": null,
   "metadata": {},
   "outputs": [],
   "source": [
    "housing_units = mortgage_data.iloc[0]"
   ]
  },
  {
   "cell_type": "code",
   "execution_count": null,
   "metadata": {},
   "outputs": [],
   "source": [
    "housing_units"
   ]
  },
  {
   "cell_type": "code",
   "execution_count": null,
   "metadata": {},
   "outputs": [],
   "source": [
    "def clean_units_df(df):\n",
    "    dict_units = df.to_dict()\n",
    "    final_list = []\n",
    "    for state, data in dict_units.items():\n",
    "        if 'Percent' not in state:\n",
    "            final_dict = {}\n",
    "            final_dict['State'] = state\n",
    "            final_dict['Units'] = convert_value(data)\n",
    "            final_list.append(final_dict)\n",
    "    df = pd.DataFrame(final_list)\n",
    "    df['Code'] = df['State'].map(state_abbreviations)\n",
    "    \n",
    "    return df"
   ]
  },
  {
   "cell_type": "code",
   "execution_count": null,
   "metadata": {},
   "outputs": [],
   "source": [
    "df = clean_units_df(housing_units)"
   ]
  },
  {
   "cell_type": "code",
   "execution_count": null,
   "metadata": {},
   "outputs": [],
   "source": [
    "df.head()"
   ]
  },
  {
   "cell_type": "code",
   "execution_count": null,
   "metadata": {},
   "outputs": [],
   "source": [
    "def chart_units(df, data_year:str):\n",
    "\n",
    "    fig = px.bar(df, x=\"State\", y=\"Units\", title=f'{data_year} Number of Housing Units With A Mortgage')\n",
    "    fig.update_xaxes(title_text='State')\n",
    "    fig.update_yaxes(title_text='Number of Housing Units')\n",
    "    fig.show()"
   ]
  },
  {
   "cell_type": "code",
   "execution_count": null,
   "metadata": {},
   "outputs": [],
   "source": [
    "chart_units(df,'2022')"
   ]
  },
  {
   "cell_type": "markdown",
   "metadata": {},
   "source": [
    "# Assess housing affordability by state - can look at median home values compared to median income to evaluate affordability"
   ]
  },
  {
   "cell_type": "markdown",
   "metadata": {},
   "source": [
    "### Calculate house affordability: median homevalue/median income = how many years of income it would take to buy a home outright assuming no other expenses. The states with lower ratios are more affordable because income is a larger percentage of home value Remember, this is a simplified model and doesn’t take into account factors like interest rates, down payments, and other costs associated with home ownership. Also, the cost of living can vary significantly within each state, so this should be used as a general guide rather than a precise measurement of affordability.\n",
    "\n",
    "### For more detailed analysis, you might want to consider other factors such as property taxes, insurance costs, and the percentage of income spent on housing. It’s also important to note that median values might not represent the experience of all residents, as they might be skewed by extremely high or low values."
   ]
  },
  {
   "cell_type": "code",
   "execution_count": null,
   "metadata": {},
   "outputs": [],
   "source": [
    "home_val, median_home =  dataframe_sanitize(home_value)\n",
    "\n",
    "median_home.rename(columns={'Median': 'Median_House_Price'}, inplace=True)\n",
    "median_home.head()"
   ]
  },
  {
   "cell_type": "code",
   "execution_count": null,
   "metadata": {},
   "outputs": [],
   "source": [
    "hh_income, median_hh_income = dataframe_sanitize_income(household_income)\n",
    "median_hh_income.rename(columns={'Median': 'Median_Income'}, inplace=True)\n",
    "median_hh_income.head()"
   ]
  },
  {
   "cell_type": "code",
   "execution_count": null,
   "metadata": {},
   "outputs": [],
   "source": [
    "house_aff = pd.merge(median_home,median_hh_income,on='State')\n",
    "house_aff['Ratio'] = house_aff['Median_House_Price']/house_aff['Median_Income']\n",
    "house_aff.head()"
   ]
  },
  {
   "cell_type": "code",
   "execution_count": null,
   "metadata": {},
   "outputs": [],
   "source": [
    "def chart_income_median(df, data_year:str):\n",
    "    fig = px.bar(df, x=\"State\", y=\"Ratio\", color='State', title=f'{data_year} Home Affordability by State')\n",
    "    fig.update_xaxes(title_text='State')\n",
    "    fig.update_yaxes(title_text='Affordability Ratio')\n",
    "    fig.show()"
   ]
  },
  {
   "cell_type": "code",
   "execution_count": null,
   "metadata": {},
   "outputs": [],
   "source": [
    "house_aff = house_aff.sort_values('Ratio')\n",
    "house_aff['Code'] = house_aff['State'].map(state_abbreviations)"
   ]
  },
  {
   "cell_type": "code",
   "execution_count": null,
   "metadata": {},
   "outputs": [],
   "source": [
    "house_aff.head()"
   ]
  },
  {
   "cell_type": "code",
   "execution_count": null,
   "metadata": {},
   "outputs": [],
   "source": [
    "chart_income_median(house_aff, '2022')"
   ]
  },
  {
   "cell_type": "code",
   "execution_count": null,
   "metadata": {},
   "outputs": [],
   "source": [
    "def make_map(df, data_year: str):\n",
    "\n",
    "    data = dict(type = 'choropleth',\n",
    "                colorscale = 'Portland',\n",
    "                locations = df['Code'],\n",
    "                locationmode = 'USA-states',\n",
    "                z=df['Ratio'],\n",
    "                colorbar = {'title':'Affordability Ratio'})\n",
    "\n",
    "    layout = dict(\n",
    "        title = {'text': f'{data_year} House Affordability by State', 'x':0.5, 'xanchor': 'center'},\n",
    "        geo = dict(scope = 'usa'),\n",
    "        autosize = True,\n",
    "        width = 800,\n",
    "        height = 600,\n",
    "    )\n",
    "\n",
    "    choromap = go.Figure(data = [data],layout = layout)\n",
    "\n",
    "    iplot(choromap)\n",
    "\n",
    "make_map(house_aff, '2022')"
   ]
  },
  {
   "cell_type": "code",
   "execution_count": null,
   "metadata": {},
   "outputs": [],
   "source": [
    "tax, tax_median = dataframe_sanitize_re(real_estate_tax)"
   ]
  },
  {
   "cell_type": "code",
   "execution_count": null,
   "metadata": {},
   "outputs": [],
   "source": [
    "tax_median.rename(columns={'Median': 'Median_Tax'}, inplace=True)\n",
    "tax_median.head()"
   ]
  },
  {
   "cell_type": "code",
   "execution_count": null,
   "metadata": {},
   "outputs": [],
   "source": [
    "tax_burden = pd.merge(tax_median,median_hh_income,on='State')\n",
    "tax_burden['Ratio'] = tax_burden['Median_Tax']/tax_burden['Median_Income']\n",
    "tax_burden = tax_burden.sort_values('Ratio')\n",
    "tax_burden['Code'] = tax_burden['State'].map(state_abbreviations)\n",
    "tax_burden.head()"
   ]
  },
  {
   "cell_type": "code",
   "execution_count": null,
   "metadata": {},
   "outputs": [],
   "source": [
    "def chart_tax_median(df, data_year:str):\n",
    "    fig = px.bar(df, x=\"State\", y=\"Ratio\", color='State', title=f'{data_year} Real Estate Tax Burden by State')\n",
    "    fig.update_xaxes(title_text='State')\n",
    "    fig.update_yaxes(title_text='Tax Burden Ratio')\n",
    "    fig.show()\n",
    "\n",
    "chart_tax_median(tax_burden, '2022')\n"
   ]
  },
  {
   "cell_type": "markdown",
   "metadata": {},
   "source": [
    "# Household income accross the states"
   ]
  },
  {
   "cell_type": "code",
   "execution_count": null,
   "metadata": {},
   "outputs": [],
   "source": [
    "data_hh_2022 = pd.read_csv('../Data/Household_income2022.csv', index_col=0)\n",
    "data_hh_2022 = data_hh_2022.rename(columns=clean_headers)\n",
    "data_hh_2022.head()"
   ]
  },
  {
   "cell_type": "code",
   "execution_count": null,
   "metadata": {},
   "outputs": [],
   "source": [
    "def dataframe_clean_hh(df):\n",
    "    dict_mortgage = df.to_dict()\n",
    "    cleaned_dict = {state: {key.strip(): convert_value(value) for key, value in data.items()} for state, data in dict_mortgage.items()}\n",
    "\n",
    "    # Clean up dataframe columns\n",
    "    final_list = []\n",
    "    total_units = {}\n",
    "    for state, data in cleaned_dict.items():\n",
    "        for income, unit in data.items():\n",
    "            if income != 'Total:':\n",
    "                final_dict = {}\n",
    "                final_dict['State'] = state\n",
    "                final_dict['Income'] = income\n",
    "                final_dict['Units'] = unit\n",
    "                final_list.append(final_dict)\n",
    "            else:\n",
    "                total_units[state] = unit\n",
    "\n",
    "\n",
    "    df = pd.DataFrame(final_list)\n",
    "    df['Code'] = df['State'].map(state_abbreviations)\n",
    "\n",
    "    df_total = pd.DataFrame(list(total_units.items()), columns=['State', 'Units'])\n",
    "    df_total['Code'] = df_total['State'].map(state_abbreviations)\n",
    "\n",
    "    return df, df_total"
   ]
  },
  {
   "cell_type": "code",
   "execution_count": null,
   "metadata": {},
   "outputs": [],
   "source": [
    "total_hh_income, total_state_units = dataframe_clean_hh(data_hh_2022)"
   ]
  },
  {
   "cell_type": "code",
   "execution_count": null,
   "metadata": {},
   "outputs": [],
   "source": [
    "total_hh_income.head()"
   ]
  },
  {
   "cell_type": "code",
   "execution_count": null,
   "metadata": {},
   "outputs": [],
   "source": [
    "total_state_units = total_state_units.sort_values('Units')\n",
    "total_state_units.head()"
   ]
  },
  {
   "cell_type": "code",
   "execution_count": null,
   "metadata": {},
   "outputs": [],
   "source": [
    "def chart_income_total(df, state:str,data_year:str):\n",
    "\n",
    "    target_state = df[df['State']==state]\n",
    "    fig = px.bar(target_state, x=\"Units\", y=\"Income\", orientation='h', title=f'{data_year} Number of Household Units with Income in {state}')\n",
    "    fig.update_xaxes(title_text='Number of Household Units')\n",
    "    fig.update_yaxes(title_text='Household Income')\n",
    "    fig.show()"
   ]
  },
  {
   "cell_type": "code",
   "execution_count": null,
   "metadata": {},
   "outputs": [],
   "source": [
    "chart_income_total(total_hh_income,'Texas', '2022')"
   ]
  },
  {
   "cell_type": "markdown",
   "metadata": {},
   "source": [
    "# Physical House Occupancy Characteristics"
   ]
  },
  {
   "cell_type": "code",
   "execution_count": null,
   "metadata": {},
   "outputs": [],
   "source": [
    "def clean_house_char_headers(val):\n",
    "    if isinstance(val, str):\n",
    "        if 'Occupied' in val:\n",
    "            val = val.split(\"!!\")[0]\n",
    "            val = val + \"_total\"\n",
    "        elif 'Percent occupied housing units' in val:\n",
    "            val = val.split(\"!!\")[0]\n",
    "            val = val + \"_total_percent\"\n",
    "        elif 'Owner-occupied housing'in val:\n",
    "            val = val.split(\"!!\")[0]\n",
    "            val = val + \"_owner\"\n",
    "        elif 'Percent owner-occupied housing units' in val:\n",
    "            val = val.split(\"!!\")[0]\n",
    "            val = val + \"_own_percent\"\n",
    "        elif 'Renter-occupied housing units' in val:\n",
    "            val = val.split(\"!!\")[0]\n",
    "            val = val + \"_renter\"\n",
    "        elif 'Percent renter-occupied' in val:\n",
    "            val = val.split(\"!!\")[0]\n",
    "            val = val + \"_rent_percent\"\n",
    "        else:\n",
    "            val = val.split(\"!!\")[0]\n",
    "        return val\n",
    "    else:\n",
    "        return val"
   ]
  },
  {
   "cell_type": "code",
   "execution_count": null,
   "metadata": {},
   "outputs": [],
   "source": [
    "house_char_data = pd.read_csv('../Data/Physical_Housing_Occup.csv', index_col=0)\n",
    "house_char_data = house_char_data.rename(columns=clean_house_char_headers)\n",
    "house_char_data.head()"
   ]
  },
  {
   "cell_type": "code",
   "execution_count": null,
   "metadata": {},
   "outputs": [],
   "source": [
    "units_in_struc = house_char_data.iloc[[2,3,4,5,6,7,8]]\n",
    "units_in_struc.head()"
   ]
  },
  {
   "cell_type": "code",
   "execution_count": null,
   "metadata": {},
   "outputs": [],
   "source": [
    "dict_house = units_in_struc.to_dict()\n",
    "cleaned_dict = {state: {key.strip(): convert_value(value) for key, value in data.items()} for state, data in dict_house.items()}"
   ]
  },
  {
   "cell_type": "code",
   "execution_count": null,
   "metadata": {},
   "outputs": [],
   "source": [
    "print(cleaned_dict)"
   ]
  },
  {
   "cell_type": "code",
   "execution_count": null,
   "metadata": {},
   "outputs": [],
   "source": [
    "print(cleaned_dict.keys())"
   ]
  },
  {
   "cell_type": "code",
   "execution_count": null,
   "metadata": {},
   "outputs": [],
   "source": [
    "new_dict = {}\n",
    "final_lst = []\n",
    "\n",
    "# Iterate over the keys and values in the original dictionary\n",
    "for state_attr, attr_values in cleaned_dict.items():\n",
    "    # Split the key into state and attribute\n",
    "    state, attribute = state_attr.split(\"_\", 1)\n",
    "    \n",
    "    # Iterate over the attribute values\n",
    "    for attr, value in attr_values.items():\n",
    "        # If the attribute is not in the new dictionary, add it\n",
    "        if attr not in new_dict:\n",
    "            new_dict[attr] = {}\n",
    "        \n",
    "        # If the state is not in the attribute's dictionary, add it\n",
    "        if state not in new_dict[attr]:\n",
    "            new_dict[attr][state] = {}\n",
    "        \n",
    "        # Add the value to the attribute's dictionary\n",
    "        new_dict[attr][state][attribute] = value\n",
    "        final_lst.append(new_dict)"
   ]
  },
  {
   "cell_type": "code",
   "execution_count": null,
   "metadata": {},
   "outputs": [],
   "source": [
    "print(final_lst)"
   ]
  },
  {
   "cell_type": "code",
   "execution_count": null,
   "metadata": {},
   "outputs": [],
   "source": [
    "df = pd.DataFrame(new_dict)"
   ]
  },
  {
   "cell_type": "code",
   "execution_count": null,
   "metadata": {},
   "outputs": [],
   "source": [
    "df.head()"
   ]
  },
  {
   "cell_type": "code",
   "execution_count": null,
   "metadata": {},
   "outputs": [],
   "source": [
    "print(final_lst[0])"
   ]
  },
  {
   "cell_type": "code",
   "execution_count": null,
   "metadata": {},
   "outputs": [],
   "source": [
    "def dataframe_sanitize_char(df):\n",
    "    dict_mortgage = df.to_dict()\n",
    "    cleaned_dict = {state: {key.strip(): convert_value(value) for key, value in data.items()} for state, data in dict_mortgage.items()}\n",
    "\n",
    "    # Clean up dataframe columns\n",
    "    final_list = []\n",
    "    for state, data in cleaned_dict.items():\n",
    "        if 'Percent' not in state:\n",
    "            state_percent = cleaned_dict.get(state + ' Percent', {})\n",
    "            for value, unit in data.items():\n",
    "                final_dict = {}\n",
    "                final_dict['State'] = state\n",
    "                final_dict['Value'] = value\n",
    "                final_dict['Units'] = unit\n",
    "                final_dict['unit_percent'] = state_percent.get(value)\n",
    "                final_list.append(final_dict)\n",
    "\n",
    "    df = pd.DataFrame(final_list)\n",
    "    df['Code'] = df['State'].map(state_abbreviations)\n",
    "\n",
    "    return df"
   ]
  },
  {
   "cell_type": "code",
   "execution_count": null,
   "metadata": {},
   "outputs": [],
   "source": [
    "struc_df = dataframe_sanitize_char(units_in_struc)\n",
    "struc_df.head()"
   ]
  },
  {
   "cell_type": "code",
   "execution_count": null,
   "metadata": {},
   "outputs": [],
   "source": [
    "struc_df[struc_df['State']=='Alabama']"
   ]
  },
  {
   "cell_type": "code",
   "execution_count": null,
   "metadata": {},
   "outputs": [],
   "source": [
    "year_struc = house_char_data.iloc[[10,11,12,13,14,15,16]]\n",
    "year_struc.head()"
   ]
  },
  {
   "cell_type": "code",
   "execution_count": null,
   "metadata": {},
   "outputs": [],
   "source": [
    "rooms = house_char_data.iloc[[18,19,20,21,22]]\n",
    "rooms.head()"
   ]
  },
  {
   "cell_type": "code",
   "execution_count": null,
   "metadata": {},
   "outputs": [],
   "source": [
    "bedroom = house_char_data.iloc[[24,25,26,27]]\n",
    "bedroom.head()"
   ]
  },
  {
   "cell_type": "code",
   "execution_count": null,
   "metadata": {},
   "outputs": [],
   "source": [
    "vehicles = house_char_data.iloc[[32,33,34,35]]\n",
    "vehicles.head()"
   ]
  },
  {
   "cell_type": "code",
   "execution_count": null,
   "metadata": {},
   "outputs": [],
   "source": [
    "house_heat_fuel = house_char_data.iloc[[39,40,41,42,43,44,45]]\n",
    "house_heat_fuel.tail()"
   ]
  },
  {
   "cell_type": "code",
   "execution_count": null,
   "metadata": {},
   "outputs": [],
   "source": []
  }
 ],
 "metadata": {
  "kernelspec": {
   "display_name": "demographics",
   "language": "python",
   "name": "python3"
  },
  "language_info": {
   "codemirror_mode": {
    "name": "ipython",
    "version": 3
   },
   "file_extension": ".py",
   "mimetype": "text/x-python",
   "name": "python",
   "nbconvert_exporter": "python",
   "pygments_lexer": "ipython3",
   "version": "3.9.10"
  },
  "orig_nbformat": 4
 },
 "nbformat": 4,
 "nbformat_minor": 2
}
